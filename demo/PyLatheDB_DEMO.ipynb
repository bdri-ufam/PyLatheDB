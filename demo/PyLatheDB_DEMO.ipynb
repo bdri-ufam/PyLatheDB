{
  "nbformat": 4,
  "nbformat_minor": 0,
  "metadata": {
    "colab": {
      "name": "PyLatheDB-DEMO.ipynb",
      "provenance": [],
      "collapsed_sections": [
        "9BCs4NWfWhV3",
        "85Bru8qN6lpE"
      ],
      "include_colab_link": true
    },
    "kernelspec": {
      "name": "python3",
      "display_name": "Python 3"
    },
    "language_info": {
      "name": "python"
    }
  },
  "cells": [
    {
      "cell_type": "markdown",
      "metadata": {
        "id": "view-in-github",
        "colab_type": "text"
      },
      "source": [
        "<a href=\"https://colab.research.google.com/github/pr3martins/PyLatheDB/blob/main/demo/PyLatheDB_DEMO.ipynb\" target=\"_parent\"><img src=\"https://colab.research.google.com/assets/colab-badge.svg\" alt=\"Open In Colab\"/></a>"
      ]
    },
    {
      "cell_type": "markdown",
      "source": [
        "# PyLatheDB - A Library for Relational Keyword Search with Support to Schema References\n",
        "---\n",
        "\n",
        "PyLatheDB is based on Lathe, an R-KwS framework that generalizes the well-known concepts of Query Matches (QMs) and Candidate Joining Networks (CJNs) to handle keywords referring to schema elements and introduces new algorithms to generate them, along with a novel approach to automatically select the CJNs that are more likely to represent the user intent when issuing a keyword query.\n",
        "\n",
        "We recommend running this Python Notebook using [Google Colab](https://colab.research.google.com/github/pr3martins/PyLatheDB/blob/main/demo/PyLatheDB_DEMO.ipynb). But its static version is also available in our [GitHub Repository](https://github.com/pr3martins/PyLatheDB/blob/main/demo/PyLatheDB_DEMO.ipynb)."
      ],
      "metadata": {
        "id": "-Avnlu5jzbyD"
      }
    },
    {
      "cell_type": "markdown",
      "source": [
        "## Environment Preparation\n",
        "\n",
        "Initially, before the demonstration, it is necessary to  run an environment preparation step, which includes the installation of the RDBMS; the downloading of some configuration files and scripts; and the installation of the **PyLatheDB** library and its dependencies."
      ],
      "metadata": {
        "id": "9BCs4NWfWhV3"
      }
    },
    {
      "cell_type": "markdown",
      "source": [
        "### Download of the configuration Files\n",
        "\n",
        "The configuration files comprise information about the datasets and query sets used. They are automatically downloaded, but they can also be found [here](https://drive.google.com/drive/folders/1Xz3mPN0NC7xdIETKZlFDTcqcU6lsVUYD?usp=sharing)."
      ],
      "metadata": {
        "id": "BT1FWFwB-Eg9"
      }
    },
    {
      "cell_type": "code",
      "source": [
        "!gdown --id 1KTRL-RhKgnzENlwcGHZ7zkvT4fVsQ1D7\n",
        "!unzip PyLatheDB_DEMO_resources.zip\n",
        "import nltk\n",
        "nltk.download('wordnet')\n",
        "nltk.download('stopwords')\n",
        "nltk.download('omw-1.4')"
      ],
      "metadata": {
        "id": "zv1qHUj_W8fm",
        "outputId": "d88c8229-e626-4794-ec72-1dc899cc1f1c",
        "colab": {
          "base_uri": "https://localhost:8080/"
        }
      },
      "execution_count": 38,
      "outputs": [
        {
          "output_type": "stream",
          "name": "stdout",
          "text": [
            "/usr/local/lib/python3.7/dist-packages/gdown/cli.py:131: FutureWarning: Option `--id` was deprecated in version 4.3.1 and will be removed in 5.0. You don't need to pass it anymore to use a file ID.\n",
            "  category=FutureWarning,\n",
            "Downloading...\n",
            "From: https://drive.google.com/uc?id=1KTRL-RhKgnzENlwcGHZ7zkvT4fVsQ1D7\n",
            "To: /content/PyLatheDB_DEMO_resources.zip\n",
            "100% 92.1M/92.1M [00:01<00:00, 80.3MB/s]\n",
            "Archive:  PyLatheDB_DEMO_resources.zip\n",
            "replace config/config.json? [y]es, [n]o, [A]ll, [N]one, [r]ename: A\n",
            "  inflating: config/config.json      \n",
            "  inflating: config/dataset_configs/mondial.json  \n",
            "  inflating: config/dataset_configs/attributes/imdb_filtered_attributes.json  \n",
            "  inflating: config/dataset_configs/attributes/mondial_all_attributes.json  \n",
            "  inflating: config/dataset_configs/attributes/mondial_filtered_attributes.json  \n",
            "  inflating: config/dataset_configs/attributes/imdb_all_attributes.json  \n",
            "  inflating: config/dataset_configs/imdb.json  \n",
            "  inflating: config/queryset_configs/coffman_imdb_config.json  \n",
            "  inflating: config/queryset_configs/coffman_mondial_config.json  \n",
            "  inflating: datasets/imdb/imdb_schema_index_file.shelve.db  \n",
            "  inflating: datasets/imdb/imdb_value_index_file.shelve.db  \n",
            "  inflating: datasets/imdb/imdb_schema_graph_file.pickle  \n",
            "  inflating: datasets/mondial/mondial_value_index_file.shelve.db  \n",
            "  inflating: datasets/mondial/mondial_schema_graph_file.pickle  \n",
            "  inflating: datasets/mondial/mondial_schema_index_file.shelve.db  \n",
            "  inflating: dbsources/imdb-rename-tables.psql  \n",
            "  inflating: dbsources/mondial-schema_part2.pgsql  \n",
            "  inflating: dbsources/mondial-field_fulltext_index.psql  \n",
            "  inflating: dbsources/imdb-schema.pgsql  \n",
            "  inflating: dbsources/pylathedb.stop  \n",
            "  inflating: dbsources/imdb-data.pgsql  \n",
            "  inflating: dbsources/mondial-schema_part1.pgsql  \n",
            "  inflating: dbsources/mondial-data.pgsql  \n",
            "  inflating: dbsources/imdb-fulltext_index.psql  \n",
            "  inflating: querysets/coffman_imdb.json  \n",
            "  inflating: querysets/coffman_mondial.json  \n"
          ]
        },
        {
          "output_type": "stream",
          "name": "stderr",
          "text": [
            "[nltk_data] Downloading package wordnet to /root/nltk_data...\n",
            "[nltk_data]   Package wordnet is already up-to-date!\n",
            "[nltk_data] Downloading package stopwords to /root/nltk_data...\n",
            "[nltk_data]   Package stopwords is already up-to-date!\n",
            "[nltk_data] Downloading package omw-1.4 to /root/nltk_data...\n",
            "[nltk_data]   Package omw-1.4 is already up-to-date!\n"
          ]
        },
        {
          "output_type": "execute_result",
          "data": {
            "text/plain": [
              "True"
            ]
          },
          "metadata": {},
          "execution_count": 38
        }
      ]
    },
    {
      "cell_type": "markdown",
      "source": [
        "### Installation of the PostgreSQL"
      ],
      "metadata": {
        "id": "b3oWxUnl-Xyq"
      }
    },
    {
      "cell_type": "code",
      "source": [
        "# Install postgresql server\n",
        "!sudo apt-get -y -qq update\n",
        "!sudo apt-get -y -qq install postgresql postgresql-contrib &>log\n",
        "!sudo service postgresql start\n",
        "\n",
        "# Setup a password `postgres` for username `postgres`\n",
        "!sudo -u postgres psql -U postgres -c \"ALTER USER postgres PASSWORD 'postgres';\"\n",
        "\n",
        "!cp dbsources/pylathedb.stop /usr/share/postgresql/10/tsearch_data/english.stop"
      ],
      "metadata": {
        "id": "PEeEHxMsQVBs",
        "outputId": "3ae6d9f3-dfb9-4bf8-8278-0096d1637688",
        "colab": {
          "base_uri": "https://localhost:8080/"
        }
      },
      "execution_count": 2,
      "outputs": [
        {
          "output_type": "stream",
          "name": "stdout",
          "text": [
            " * Starting PostgreSQL 10 database server\n",
            "   ...done.\n",
            "ALTER ROLE\n"
          ]
        }
      ]
    },
    {
      "cell_type": "markdown",
      "source": [
        "### Scripts for the Databases Creation"
      ],
      "metadata": {
        "id": "s89ffyvY-mTG"
      }
    },
    {
      "cell_type": "code",
      "source": [
        "!sudo -u postgres dropdb imdb &>>log\n",
        "!sudo -u postgres createdb imdb &>>log\n",
        "!sudo -u postgres psql -U postgres imdb <  dbsources/imdb-schema.pgsql &>>log\n",
        "!sudo -u postgres psql -U postgres imdb <  dbsources/imdb-data.pgsql &>>log\n",
        "!sudo -u postgres psql -U postgres imdb <  dbsources/imdb-fulltext_index.psql &>>log\n",
        "!sudo -u postgres psql -U postgres imdb < dbsources/imdb-rename-tables.psql &>>log\n",
        "\n",
        "!sudo -u postgres dropdb mondial &>>log\n",
        "!sudo -u postgres createdb mondial &>>log\n",
        "!sudo -u postgres psql -U postgres mondial <  dbsources/mondial-schema_part1.pgsql &>>log\n",
        "!sudo -u postgres psql -U postgres mondial <  dbsources/mondial-data.pgsql &>>log\n",
        "!sudo -u postgres psql -U postgres mondial <  dbsources/mondial-schema_part2.pgsql &>>log\n",
        "!sudo -u postgres psql -U postgres mondial <  dbsources/mondial-field_fulltext_index.psql &>>log"
      ],
      "metadata": {
        "id": "_6HoX6TgfnzA"
      },
      "execution_count": 3,
      "outputs": []
    },
    {
      "cell_type": "markdown",
      "source": [
        "### Enable DataTable Formating from Google Colab"
      ],
      "metadata": {
        "id": "p3mkA7nj_Gty"
      }
    },
    {
      "cell_type": "code",
      "source": [
        "from google.colab import data_table\n",
        "data_table.enable_dataframe_formatter()"
      ],
      "metadata": {
        "id": "DHjj3QY10b--"
      },
      "execution_count": 4,
      "outputs": []
    },
    {
      "cell_type": "markdown",
      "source": [
        "### Installation of the PyLathe library available [here](https://pypi.org/project/pylathedb/)"
      ],
      "metadata": {
        "id": "z0CYsna9-2lY"
      }
    },
    {
      "cell_type": "code",
      "source": [
        "# !pip install pylathedb==1.0.3 -U\n",
        "\n",
        "!pip install -i https://test.pypi.org/simple/ pylathedb -U"
      ],
      "metadata": {
        "id": "TE76LA_p0FQ8",
        "outputId": "2cf159af-2964-42bd-efdd-684999dbbf49",
        "colab": {
          "base_uri": "https://localhost:8080/"
        }
      },
      "execution_count": 5,
      "outputs": [
        {
          "output_type": "stream",
          "name": "stdout",
          "text": [
            "Looking in indexes: https://test.pypi.org/simple/, https://us-python.pkg.dev/colab-wheels/public/simple/\n",
            "Collecting pylathedb\n",
            "  Downloading https://test-files.pythonhosted.org/packages/eb/f6/06247e5dcf83237fb6d2fa5c1efbb95088282dbac4e9ae8805982d1abb7a/pylathedb-0.0.4.dev30-py3-none-any.whl (51 kB)\n",
            "\u001b[K     |████████████████████████████████| 51 kB 708 kB/s \n",
            "\u001b[?25hRequirement already satisfied: pandas in /usr/local/lib/python3.7/dist-packages (from pylathedb) (1.3.5)\n",
            "Requirement already satisfied: nltk in /usr/local/lib/python3.7/dist-packages (from pylathedb) (3.7)\n",
            "Requirement already satisfied: prettytable in /usr/local/lib/python3.7/dist-packages (from pylathedb) (3.3.0)\n",
            "Requirement already satisfied: matplotlib in /usr/local/lib/python3.7/dist-packages (from pylathedb) (3.2.2)\n",
            "Requirement already satisfied: graphviz in /usr/local/lib/python3.7/dist-packages (from pylathedb) (0.10.1)\n",
            "Collecting psycopg2-binary\n",
            "  Downloading https://test-files.pythonhosted.org/packages/04/c3/fbf0ec416151ce082087bfbb42f236ec42c2c74d2d9f7a5b5cdf49cfc517/psycopg2_binary-2.7.7-cp37-cp37m-manylinux1_x86_64.whl (2.7 MB)\n",
            "\u001b[K     |████████████████████████████████| 2.7 MB 12.8 MB/s \n",
            "\u001b[?25hRequirement already satisfied: psutil in /usr/local/lib/python3.7/dist-packages (from pylathedb) (5.4.8)\n",
            "Requirement already satisfied: python-dateutil>=2.1 in /usr/local/lib/python3.7/dist-packages (from matplotlib->pylathedb) (2.8.2)\n",
            "Requirement already satisfied: pyparsing!=2.0.4,!=2.1.2,!=2.1.6,>=2.0.1 in /usr/local/lib/python3.7/dist-packages (from matplotlib->pylathedb) (3.0.9)\n",
            "Requirement already satisfied: cycler>=0.10 in /usr/local/lib/python3.7/dist-packages (from matplotlib->pylathedb) (0.11.0)\n",
            "Requirement already satisfied: kiwisolver>=1.0.1 in /usr/local/lib/python3.7/dist-packages (from matplotlib->pylathedb) (1.4.2)\n",
            "Requirement already satisfied: numpy>=1.11 in /usr/local/lib/python3.7/dist-packages (from matplotlib->pylathedb) (1.21.6)\n",
            "Requirement already satisfied: typing-extensions in /usr/local/lib/python3.7/dist-packages (from kiwisolver>=1.0.1->matplotlib->pylathedb) (4.2.0)\n",
            "Requirement already satisfied: six>=1.5 in /usr/local/lib/python3.7/dist-packages (from python-dateutil>=2.1->matplotlib->pylathedb) (1.15.0)\n",
            "Requirement already satisfied: joblib in /usr/local/lib/python3.7/dist-packages (from nltk->pylathedb) (1.1.0)\n",
            "Requirement already satisfied: tqdm in /usr/local/lib/python3.7/dist-packages (from nltk->pylathedb) (4.64.0)\n",
            "Requirement already satisfied: regex>=2021.8.3 in /usr/local/lib/python3.7/dist-packages (from nltk->pylathedb) (2022.6.2)\n",
            "Requirement already satisfied: click in /usr/local/lib/python3.7/dist-packages (from nltk->pylathedb) (7.1.2)\n",
            "Requirement already satisfied: pytz>=2017.3 in /usr/local/lib/python3.7/dist-packages (from pandas->pylathedb) (2022.1)\n",
            "Requirement already satisfied: wcwidth in /usr/local/lib/python3.7/dist-packages (from prettytable->pylathedb) (0.2.5)\n",
            "Requirement already satisfied: importlib-metadata in /usr/local/lib/python3.7/dist-packages (from prettytable->pylathedb) (4.11.4)\n",
            "Requirement already satisfied: zipp>=0.5 in /usr/local/lib/python3.7/dist-packages (from importlib-metadata->prettytable->pylathedb) (3.8.0)\n",
            "Installing collected packages: psycopg2-binary, pylathedb\n",
            "Successfully installed psycopg2-binary-2.7.7 pylathedb-0.0.4.dev30\n"
          ]
        }
      ]
    },
    {
      "cell_type": "markdown",
      "source": [
        "## PyLatheDB setup\n",
        "\n",
        "In this section, we will run the PyLatheDB setup, which comprises the creation of the Value Index and the Schema Index. We will also explain the main parameters of the library, such as number of QMs, number of CJNs per QM and the use of the eager evaluation strategy for CJN generation. "
      ],
      "metadata": {
        "id": "85Bru8qN6lpE"
      }
    },
    {
      "cell_type": "markdown",
      "source": [
        "### Library import and set configuration directory"
      ],
      "metadata": {
        "id": "g9rv0VoN_nM0"
      }
    },
    {
      "cell_type": "code",
      "source": [
        "from pylathedb.lathe import Lathe\n",
        "lathe = Lathe(config_directory='./config/')"
      ],
      "metadata": {
        "id": "-wpNJChhQjEP"
      },
      "execution_count": 6,
      "outputs": []
    },
    {
      "cell_type": "markdown",
      "source": [
        "### Create Indexes \n",
        "This step is not necessary because we already downloaded the indexes alongside the configuration files. But feel free to test the Index Creation by uncommenting the following cell:"
      ],
      "metadata": {
        "id": "gct9Nh0W_tqp"
      }
    },
    {
      "cell_type": "code",
      "source": [
        "# lathe.create_indexes()"
      ],
      "metadata": {
        "id": "GCxC4RxZ_ln1"
      },
      "execution_count": 7,
      "outputs": []
    },
    {
      "cell_type": "markdown",
      "source": [
        "### Load Indexes\n",
        "\n",
        "The cell below shows how to load the Value and Schema Indexes."
      ],
      "metadata": {
        "id": "JL1mPyVCAUiX"
      }
    },
    {
      "cell_type": "code",
      "source": [
        "lathe.load_indexes()"
      ],
      "metadata": {
        "id": "K1AWZHMFXQ_A"
      },
      "execution_count": 8,
      "outputs": []
    },
    {
      "cell_type": "markdown",
      "source": [
        "### Choose Query set/Database\n",
        "\n",
        "You can choose which query set to use and its respective database. Input as a function parameter the number of the name of the query set to use. If you input no number, it will list the query sets available.\n",
        "\n",
        "*Remember to always load the indexes again after changing query set.*"
      ],
      "metadata": {
        "id": "WjMMYqzAAwIp"
      }
    },
    {
      "cell_type": "code",
      "source": [
        "lathe.change_queryset()"
      ],
      "metadata": {
        "id": "Gs8KXPMSxYYm",
        "colab": {
          "base_uri": "https://localhost:8080/"
        },
        "outputId": "12a60407-5f79-4e9d-9389-2377bdac6ea5"
      },
      "execution_count": 13,
      "outputs": [
        {
          "output_type": "stream",
          "name": "stdout",
          "text": [
            "Please input a query set to change:\n",
            "01 - coffman_imdb\n",
            "02 - coffman_mondial\n"
          ]
        }
      ]
    },
    {
      "cell_type": "code",
      "source": [
        "lathe.change_queryset('coffman_imdb')\n",
        "lathe.load_indexes()"
      ],
      "metadata": {
        "colab": {
          "base_uri": "https://localhost:8080/"
        },
        "id": "3FFQCu6bCmk5",
        "outputId": "1bc8e712-5c3a-4de3-adce-20432128fbda"
      },
      "execution_count": 44,
      "outputs": [
        {
          "output_type": "stream",
          "name": "stdout",
          "text": [
            "./config/queryset_configs/coffman_imdb_config.json\n",
            "Changed to query set coffman_imdb.\n",
            "Changed to dataset imdb.\n"
          ]
        }
      ]
    },
    {
      "cell_type": "markdown",
      "source": [
        "### Default Parameters\n",
        "\n",
        "We have a few parameters for R-KwS using PyLatheDB:\n",
        "*    `max_qm_size`: Maximum Query Match Size\n",
        "*    `max_cjn_size`: Maximum Candidate Joining Network Size\n",
        "*    `topk_cns`: Top-k CJNs to be considered\n",
        "*    `configuration`: A tuple containing the number of QMs to be considered, number of CJNs for each QM to be considered, and the maximum number of CJNs to be probed by the eager evaluation for each QM. \n",
        "\n",
        "\n"
      ],
      "metadata": {
        "id": "ey2a_wdSBNKn"
      }
    },
    {
      "cell_type": "code",
      "source": [
        "lathe.max_qm_size = 3\n",
        "lathe.max_cjn_size = 5\n",
        "lathe.topk_cns = 10\n",
        "lathe.configuration = (5,1,9)"
      ],
      "metadata": {
        "id": "P8PUzbKoxOdB"
      },
      "execution_count": 15,
      "outputs": []
    },
    {
      "cell_type": "markdown",
      "source": [
        "## Keyword Search over Relational Databases\n",
        "\n",
        "You can use the function `keyword_search` from the class `Lathe` using three parameters. \n",
        "\n",
        "\n",
        "1.   You can input a Keyword query\n",
        "2.   You can call the function with no input to show a list of premade keyword queries used in Coffman Benchmark.\n",
        "3.   You can input the number of the keyword query according to the option 2."
      ],
      "metadata": {
        "id": "WhwI-lMT_sOJ"
      }
    },
    {
      "cell_type": "code",
      "source": [
        "lathe.keyword_search()"
      ],
      "metadata": {
        "colab": {
          "base_uri": "https://localhost:8080/"
        },
        "id": "YEQ7ZZtWF5gt",
        "outputId": "251cf017-b74a-4d07-c533-9041672017f1"
      },
      "execution_count": 16,
      "outputs": [
        {
          "output_type": "stream",
          "name": "stdout",
          "text": [
            "Please input a keyword query or choose one of the queries below:\n",
            "01 - denzel washington\n",
            "02 - clint eastwood\n",
            "03 - john wayne\n",
            "04 - will smith\n",
            "05 - harrison ford\n",
            "06 - julia roberts\n",
            "07 - tom hanks\n",
            "08 - johnny depp\n",
            "09 - angelina jolie\n",
            "10 - morgan freeman\n",
            "11 - gone with the wind\n",
            "12 - star wars\n",
            "13 - casablanca\n",
            "14 - lord of the rings\n",
            "15 - the sound of music\n",
            "16 - wizard of oz\n",
            "17 - the notebook\n",
            "18 - forrest gump\n",
            "19 - the princess bride\n",
            "20 - the godfather\n",
            "21 - title atticus finch\n",
            "22 - title indiana jones\n",
            "23 - title james bond\n",
            "24 - title rick blaine\n",
            "25 - title will kane\n",
            "26 - title dr. hannibal lecter\n",
            "27 - title norman bates\n",
            "28 - title darth vader\n",
            "29 - title the wicked witch of the west\n",
            "30 - title nurse ratched\n",
            "31 - title frankly my dear i don't give a damn\n",
            "32 - title i'm going to make him an offer he can't refuse\n",
            "33 - title you don't understand i coulda had class i coulda been a contender i coulda been somebody instead of a bum which is what i am\n",
            "34 - title toto i've a feeling we're not in kansas any more\n",
            "35 - title here's looking at you kid\n",
            "36 - hamill skywalker\n",
            "37 - hanks 2004\n",
            "38 - henry fonda yours mine ours character\n",
            "39 - russell crowe gladiator character\n",
            "40 - brent spiner star trek\n",
            "41 - audrey hepburn 1951\n",
            "42 - name jacques clouseau\n",
            "43 - name jack ryan\n",
            "44 - rocky stallone\n",
            "45 - name terminator\n",
            "46 - harrison ford george lucas\n",
            "47 - sean connery fleming\n",
            "48 - reeves wachowski\n",
            "49 - dean jones herbie\n",
            "50 - indiana jones last crusade lost ark\n"
          ]
        }
      ]
    },
    {
      "cell_type": "markdown",
      "source": [
        "### Understanding the Results\n",
        "\n",
        "The function `keyword_search` from the class `Lathe` returns an `LatheResult` object, which contains methods to show the CJNs, QMs and KMs returned for the keyword query.\n",
        "\n",
        "#### Candidate Joining Networks\n",
        "\n",
        "The library returns, for each CJN, its Text representation, its Graph representation, its SQL translation and the returned results from the SQL execution by the RDBMS. The function `cjns` outputs the informatio about each CJN according to four boolean parameters: `text`, `graph`, `sql`, and `jnts`. All of them are enabled by default.\n",
        "\n",
        "\n",
        "*The Graph representation may not be available in the static version of this notebook in Github. You can run it using Google Colab [here](https://colab.research.google.com/github/pr3martins/PyLatheDB/blob/main/demo/PyLatheDB_DEMO.ipynb).*"
      ],
      "metadata": {
        "id": "4nalYT6yF90_"
      }
    },
    {
      "cell_type": "code",
      "source": [
        "result = lathe.keyword_search('julia roberts films')\n",
        "result.cjns(top_k=1)"
      ],
      "metadata": {
        "colab": {
          "base_uri": "https://localhost:8080/",
          "height": 797
        },
        "id": "IEq5hjlK8vUe",
        "outputId": "40bdb8f4-89c8-4f48-a5e6-bef0b4e91194"
      },
      "execution_count": 67,
      "outputs": [
        {
          "output_type": "stream",
          "name": "stdout",
          "text": [
            "Keyword Query: julia roberts films\n"
          ]
        },
        {
          "output_type": "display_data",
          "data": {
            "text/plain": [
              "<IPython.core.display.Markdown object>"
            ],
            "text/markdown": "---"
          },
          "metadata": {}
        },
        {
          "output_type": "display_data",
          "data": {
            "text/plain": [
              "<IPython.core.display.Markdown object>"
            ],
            "text/markdown": "**1st CJN**:"
          },
          "metadata": {}
        },
        {
          "output_type": "display_data",
          "data": {
            "text/plain": [
              "<IPython.core.display.Markdown object>"
            ],
            "text/markdown": "---"
          },
          "metadata": {}
        },
        {
          "output_type": "stream",
          "name": "stdout",
          "text": [
            "Text:\n",
            "\tPERSON.v(name{roberts,julia})\n",
            "\t\t<CASTING\n",
            "\t\t\t>MOVIE.s(*{films})\n"
          ]
        },
        {
          "output_type": "display_data",
          "data": {
            "text/plain": [
              "<IPython.core.display.Markdown object>"
            ],
            "text/markdown": "---"
          },
          "metadata": {}
        },
        {
          "output_type": "stream",
          "name": "stdout",
          "text": [
            "Graph:\n"
          ]
        },
        {
          "output_type": "display_data",
          "data": {
            "text/plain": [
              "<graphviz.dot.Digraph at 0x7fcd1acaa850>"
            ],
            "image/svg+xml": "<?xml version=\"1.0\" encoding=\"UTF-8\" standalone=\"no\"?>\n<!DOCTYPE svg PUBLIC \"-//W3C//DTD SVG 1.1//EN\"\n \"http://www.w3.org/Graphics/SVG/1.1/DTD/svg11.dtd\">\n<!-- Generated by graphviz version 2.40.1 (20161225.0304)\n -->\n<!-- Title: %3 Pages: 1 -->\n<svg width=\"280pt\" height=\"98pt\"\n viewBox=\"0.00 0.00 280.33 98.00\" xmlns=\"http://www.w3.org/2000/svg\" xmlns:xlink=\"http://www.w3.org/1999/xlink\">\n<g id=\"graph0\" class=\"graph\" transform=\"scale(1 1) rotate(0) translate(4 94)\">\n<title>%3</title>\n<polygon fill=\"#ffffff\" stroke=\"transparent\" points=\"-4,4 -4,-94 276.3265,-94 276.3265,4 -4,4\"/>\n<!-- t1 -->\n<g id=\"node1\" class=\"node\">\n<title>t1</title>\n<ellipse fill=\"none\" stroke=\"#000000\" cx=\"77.3649\" cy=\"-18\" rx=\"77.2301\" ry=\"18\"/>\n<text text-anchor=\"middle\" x=\"77.3649\" y=\"-15.8\" font-family=\"Times,serif\" font-size=\"9.00\" fill=\"#000000\">PERSON.v(name{roberts,julia})</text>\n</g>\n<!-- t2 -->\n<g id=\"node2\" class=\"node\">\n<title>t2</title>\n<ellipse fill=\"none\" stroke=\"#000000\" cx=\"148.3649\" cy=\"-72\" rx=\"32.1641\" ry=\"18\"/>\n<text text-anchor=\"middle\" x=\"148.3649\" y=\"-69.8\" font-family=\"Times,serif\" font-size=\"9.00\" fill=\"#000000\">CASTING</text>\n</g>\n<!-- t2&#45;&gt;t1 -->\n<g id=\"edge2\" class=\"edge\">\n<title>t2&#45;&gt;t1</title>\n<path fill=\"none\" stroke=\"#000000\" d=\"M128.9639,-57.2443C122.2509,-52.1386 114.5634,-46.2918 107.2085,-40.6979\"/>\n<polygon fill=\"#000000\" stroke=\"#000000\" points=\"109.0832,-38.1662 100.0128,-35.2251 105.2694,-43.1807 109.0832,-38.1662\"/>\n</g>\n<!-- t3 -->\n<g id=\"node3\" class=\"node\">\n<title>t3</title>\n<ellipse fill=\"none\" stroke=\"#000000\" cx=\"220.3649\" cy=\"-18\" rx=\"51.9231\" ry=\"18\"/>\n<text text-anchor=\"middle\" x=\"220.3649\" y=\"-15.8\" font-family=\"Times,serif\" font-size=\"9.00\" fill=\"#000000\">MOVIE.s(*{films})</text>\n</g>\n<!-- t2&#45;&gt;t3 -->\n<g id=\"edge1\" class=\"edge\">\n<title>t2&#45;&gt;t3</title>\n<path fill=\"none\" stroke=\"#000000\" d=\"M167.6596,-57.529C174.7826,-52.1868 183.0267,-46.0037 190.8485,-40.1373\"/>\n<polygon fill=\"#000000\" stroke=\"#000000\" points=\"193.1624,-42.3395 198.4724,-34.4194 189.3823,-37.2995 193.1624,-42.3395\"/>\n</g>\n</g>\n</svg>\n"
          },
          "metadata": {}
        },
        {
          "output_type": "display_data",
          "data": {
            "text/plain": [
              "<IPython.core.display.Markdown object>"
            ],
            "text/markdown": "---"
          },
          "metadata": {}
        },
        {
          "output_type": "stream",
          "name": "stdout",
          "text": [
            "SQL:\n",
            "  \n",
            "  SELECT\n",
            "  \tt3.*,\n",
            "  \tt1.name\n",
            "  FROM\n",
            "  \t\"person\" t1\n",
            "  \tJOIN \"casting\" t2 ON t2.person_id = t1.id\n",
            "  \tJOIN \"movie\" t3 ON t2.movie_id = t3.id\n",
            "  WHERE\n",
            "  \tt1.name_tsvector @@ to_tsquery('roberts & julia')\n",
            "  LIMIT 1000;\n",
            "\n"
          ]
        },
        {
          "output_type": "display_data",
          "data": {
            "text/plain": [
              "<IPython.core.display.Markdown object>"
            ],
            "text/markdown": "---"
          },
          "metadata": {}
        },
        {
          "output_type": "stream",
          "name": "stdout",
          "text": [
            "JNTs:\n"
          ]
        },
        {
          "output_type": "display_data",
          "data": {
            "text/plain": [
              "       id                            title imdb_index  kind_id  year imdb_id  \\\n",
              "0    3161                     20 Something       None        1  2006    None   \n",
              "1  462275                          Stepmom       None        1  1998    None   \n",
              "2  263386  Kit Kittredge: An American Girl       None        1  2008    None   \n",
              "3  428985                     Satisfaction       None        1  1988    None   \n",
              "4  337406                      Monte Carlo       None        1  2010    None   \n",
              "\n",
              "  phonetic_code episode_of_id season_nr episode_nr series_years  __search_id  \\\n",
              "0         S5352          None      None       None         None     43788412   \n",
              "1          S315          None      None       None         None     44222915   \n",
              "2         K3236          None      None       None         None     43982791   \n",
              "3         S3212          None      None       None         None     44196668   \n",
              "4         M5326          None      None       None         None     44056231   \n",
              "\n",
              "             name  \n",
              "0  Roberts, Julia  \n",
              "1  Roberts, Julia  \n",
              "2  Roberts, Julia  \n",
              "3  Roberts, Julia  \n",
              "4  Roberts, Julia  "
            ],
            "text/html": [
              "\n",
              "  <div id=\"df-f8c5f89f-89dc-40a4-ad79-569856e90931\">\n",
              "    <div class=\"colab-df-container\">\n",
              "      <div>\n",
              "<style scoped>\n",
              "    .dataframe tbody tr th:only-of-type {\n",
              "        vertical-align: middle;\n",
              "    }\n",
              "\n",
              "    .dataframe tbody tr th {\n",
              "        vertical-align: top;\n",
              "    }\n",
              "\n",
              "    .dataframe thead th {\n",
              "        text-align: right;\n",
              "    }\n",
              "</style>\n",
              "<table border=\"1\" class=\"dataframe\">\n",
              "  <thead>\n",
              "    <tr style=\"text-align: right;\">\n",
              "      <th></th>\n",
              "      <th>id</th>\n",
              "      <th>title</th>\n",
              "      <th>imdb_index</th>\n",
              "      <th>kind_id</th>\n",
              "      <th>year</th>\n",
              "      <th>imdb_id</th>\n",
              "      <th>phonetic_code</th>\n",
              "      <th>episode_of_id</th>\n",
              "      <th>season_nr</th>\n",
              "      <th>episode_nr</th>\n",
              "      <th>series_years</th>\n",
              "      <th>__search_id</th>\n",
              "      <th>name</th>\n",
              "    </tr>\n",
              "  </thead>\n",
              "  <tbody>\n",
              "    <tr>\n",
              "      <th>0</th>\n",
              "      <td>3161</td>\n",
              "      <td>20 Something</td>\n",
              "      <td>None</td>\n",
              "      <td>1</td>\n",
              "      <td>2006</td>\n",
              "      <td>None</td>\n",
              "      <td>S5352</td>\n",
              "      <td>None</td>\n",
              "      <td>None</td>\n",
              "      <td>None</td>\n",
              "      <td>None</td>\n",
              "      <td>43788412</td>\n",
              "      <td>Roberts, Julia</td>\n",
              "    </tr>\n",
              "    <tr>\n",
              "      <th>1</th>\n",
              "      <td>462275</td>\n",
              "      <td>Stepmom</td>\n",
              "      <td>None</td>\n",
              "      <td>1</td>\n",
              "      <td>1998</td>\n",
              "      <td>None</td>\n",
              "      <td>S315</td>\n",
              "      <td>None</td>\n",
              "      <td>None</td>\n",
              "      <td>None</td>\n",
              "      <td>None</td>\n",
              "      <td>44222915</td>\n",
              "      <td>Roberts, Julia</td>\n",
              "    </tr>\n",
              "    <tr>\n",
              "      <th>2</th>\n",
              "      <td>263386</td>\n",
              "      <td>Kit Kittredge: An American Girl</td>\n",
              "      <td>None</td>\n",
              "      <td>1</td>\n",
              "      <td>2008</td>\n",
              "      <td>None</td>\n",
              "      <td>K3236</td>\n",
              "      <td>None</td>\n",
              "      <td>None</td>\n",
              "      <td>None</td>\n",
              "      <td>None</td>\n",
              "      <td>43982791</td>\n",
              "      <td>Roberts, Julia</td>\n",
              "    </tr>\n",
              "    <tr>\n",
              "      <th>3</th>\n",
              "      <td>428985</td>\n",
              "      <td>Satisfaction</td>\n",
              "      <td>None</td>\n",
              "      <td>1</td>\n",
              "      <td>1988</td>\n",
              "      <td>None</td>\n",
              "      <td>S3212</td>\n",
              "      <td>None</td>\n",
              "      <td>None</td>\n",
              "      <td>None</td>\n",
              "      <td>None</td>\n",
              "      <td>44196668</td>\n",
              "      <td>Roberts, Julia</td>\n",
              "    </tr>\n",
              "    <tr>\n",
              "      <th>4</th>\n",
              "      <td>337406</td>\n",
              "      <td>Monte Carlo</td>\n",
              "      <td>None</td>\n",
              "      <td>1</td>\n",
              "      <td>2010</td>\n",
              "      <td>None</td>\n",
              "      <td>M5326</td>\n",
              "      <td>None</td>\n",
              "      <td>None</td>\n",
              "      <td>None</td>\n",
              "      <td>None</td>\n",
              "      <td>44056231</td>\n",
              "      <td>Roberts, Julia</td>\n",
              "    </tr>\n",
              "  </tbody>\n",
              "</table>\n",
              "</div>\n",
              "      <button class=\"colab-df-convert\" onclick=\"convertToInteractive('df-f8c5f89f-89dc-40a4-ad79-569856e90931')\"\n",
              "              title=\"Convert this dataframe to an interactive table.\"\n",
              "              style=\"display:none;\">\n",
              "        \n",
              "  <svg xmlns=\"http://www.w3.org/2000/svg\" height=\"24px\"viewBox=\"0 0 24 24\"\n",
              "       width=\"24px\">\n",
              "    <path d=\"M0 0h24v24H0V0z\" fill=\"none\"/>\n",
              "    <path d=\"M18.56 5.44l.94 2.06.94-2.06 2.06-.94-2.06-.94-.94-2.06-.94 2.06-2.06.94zm-11 1L8.5 8.5l.94-2.06 2.06-.94-2.06-.94L8.5 2.5l-.94 2.06-2.06.94zm10 10l.94 2.06.94-2.06 2.06-.94-2.06-.94-.94-2.06-.94 2.06-2.06.94z\"/><path d=\"M17.41 7.96l-1.37-1.37c-.4-.4-.92-.59-1.43-.59-.52 0-1.04.2-1.43.59L10.3 9.45l-7.72 7.72c-.78.78-.78 2.05 0 2.83L4 21.41c.39.39.9.59 1.41.59.51 0 1.02-.2 1.41-.59l7.78-7.78 2.81-2.81c.8-.78.8-2.07 0-2.86zM5.41 20L4 18.59l7.72-7.72 1.47 1.35L5.41 20z\"/>\n",
              "  </svg>\n",
              "      </button>\n",
              "      \n",
              "  <style>\n",
              "    .colab-df-container {\n",
              "      display:flex;\n",
              "      flex-wrap:wrap;\n",
              "      gap: 12px;\n",
              "    }\n",
              "\n",
              "    .colab-df-convert {\n",
              "      background-color: #E8F0FE;\n",
              "      border: none;\n",
              "      border-radius: 50%;\n",
              "      cursor: pointer;\n",
              "      display: none;\n",
              "      fill: #1967D2;\n",
              "      height: 32px;\n",
              "      padding: 0 0 0 0;\n",
              "      width: 32px;\n",
              "    }\n",
              "\n",
              "    .colab-df-convert:hover {\n",
              "      background-color: #E2EBFA;\n",
              "      box-shadow: 0px 1px 2px rgba(60, 64, 67, 0.3), 0px 1px 3px 1px rgba(60, 64, 67, 0.15);\n",
              "      fill: #174EA6;\n",
              "    }\n",
              "\n",
              "    [theme=dark] .colab-df-convert {\n",
              "      background-color: #3B4455;\n",
              "      fill: #D2E3FC;\n",
              "    }\n",
              "\n",
              "    [theme=dark] .colab-df-convert:hover {\n",
              "      background-color: #434B5C;\n",
              "      box-shadow: 0px 1px 3px 1px rgba(0, 0, 0, 0.15);\n",
              "      filter: drop-shadow(0px 1px 2px rgba(0, 0, 0, 0.3));\n",
              "      fill: #FFFFFF;\n",
              "    }\n",
              "  </style>\n",
              "\n",
              "      <script>\n",
              "        const buttonEl =\n",
              "          document.querySelector('#df-f8c5f89f-89dc-40a4-ad79-569856e90931 button.colab-df-convert');\n",
              "        buttonEl.style.display =\n",
              "          google.colab.kernel.accessAllowed ? 'block' : 'none';\n",
              "\n",
              "        async function convertToInteractive(key) {\n",
              "          const element = document.querySelector('#df-f8c5f89f-89dc-40a4-ad79-569856e90931');\n",
              "          const dataTable =\n",
              "            await google.colab.kernel.invokeFunction('convertToInteractive',\n",
              "                                                     [key], {});\n",
              "          if (!dataTable) return;\n",
              "\n",
              "          const docLinkHtml = 'Like what you see? Visit the ' +\n",
              "            '<a target=\"_blank\" href=https://colab.research.google.com/notebooks/data_table.ipynb>data table notebook</a>'\n",
              "            + ' to learn more about interactive tables.';\n",
              "          element.innerHTML = '';\n",
              "          dataTable['output_type'] = 'display_data';\n",
              "          await google.colab.output.renderOutput(dataTable, element);\n",
              "          const docLink = document.createElement('div');\n",
              "          docLink.innerHTML = docLinkHtml;\n",
              "          element.appendChild(docLink);\n",
              "        }\n",
              "      </script>\n",
              "    </div>\n",
              "  </div>\n",
              "  "
            ],
            "application/vnd.google.colaboratory.module+javascript": "\n      import \"https://ssl.gstatic.com/colaboratory/data_table/f872b2c2305463fd/data_table.js\";\n\n      window.createDataTable({\n        data: [[{\n            'v': 0,\n            'f': \"0\",\n        },\n{\n            'v': 3161,\n            'f': \"3161\",\n        },\n\"20 Something\",\n{\n            'v': null,\n            'f': \"null\",\n        },\n{\n            'v': 1,\n            'f': \"1\",\n        },\n{\n            'v': 2006,\n            'f': \"2006\",\n        },\n{\n            'v': null,\n            'f': \"null\",\n        },\n\"S5352\",\n{\n            'v': null,\n            'f': \"null\",\n        },\n{\n            'v': null,\n            'f': \"null\",\n        },\n{\n            'v': null,\n            'f': \"null\",\n        },\n{\n            'v': null,\n            'f': \"null\",\n        },\n{\n            'v': 43788412,\n            'f': \"43788412\",\n        },\n\"Roberts, Julia\"],\n [{\n            'v': 1,\n            'f': \"1\",\n        },\n{\n            'v': 462275,\n            'f': \"462275\",\n        },\n\"Stepmom\",\n{\n            'v': null,\n            'f': \"null\",\n        },\n{\n            'v': 1,\n            'f': \"1\",\n        },\n{\n            'v': 1998,\n            'f': \"1998\",\n        },\n{\n            'v': null,\n            'f': \"null\",\n        },\n\"S315\",\n{\n            'v': null,\n            'f': \"null\",\n        },\n{\n            'v': null,\n            'f': \"null\",\n        },\n{\n            'v': null,\n            'f': \"null\",\n        },\n{\n            'v': null,\n            'f': \"null\",\n        },\n{\n            'v': 44222915,\n            'f': \"44222915\",\n        },\n\"Roberts, Julia\"],\n [{\n            'v': 2,\n            'f': \"2\",\n        },\n{\n            'v': 263386,\n            'f': \"263386\",\n        },\n\"Kit Kittredge: An American Girl\",\n{\n            'v': null,\n            'f': \"null\",\n        },\n{\n            'v': 1,\n            'f': \"1\",\n        },\n{\n            'v': 2008,\n            'f': \"2008\",\n        },\n{\n            'v': null,\n            'f': \"null\",\n        },\n\"K3236\",\n{\n            'v': null,\n            'f': \"null\",\n        },\n{\n            'v': null,\n            'f': \"null\",\n        },\n{\n            'v': null,\n            'f': \"null\",\n        },\n{\n            'v': null,\n            'f': \"null\",\n        },\n{\n            'v': 43982791,\n            'f': \"43982791\",\n        },\n\"Roberts, Julia\"],\n [{\n            'v': 3,\n            'f': \"3\",\n        },\n{\n            'v': 428985,\n            'f': \"428985\",\n        },\n\"Satisfaction\",\n{\n            'v': null,\n            'f': \"null\",\n        },\n{\n            'v': 1,\n            'f': \"1\",\n        },\n{\n            'v': 1988,\n            'f': \"1988\",\n        },\n{\n            'v': null,\n            'f': \"null\",\n        },\n\"S3212\",\n{\n            'v': null,\n            'f': \"null\",\n        },\n{\n            'v': null,\n            'f': \"null\",\n        },\n{\n            'v': null,\n            'f': \"null\",\n        },\n{\n            'v': null,\n            'f': \"null\",\n        },\n{\n            'v': 44196668,\n            'f': \"44196668\",\n        },\n\"Roberts, Julia\"],\n [{\n            'v': 4,\n            'f': \"4\",\n        },\n{\n            'v': 337406,\n            'f': \"337406\",\n        },\n\"Monte Carlo\",\n{\n            'v': null,\n            'f': \"null\",\n        },\n{\n            'v': 1,\n            'f': \"1\",\n        },\n{\n            'v': 2010,\n            'f': \"2010\",\n        },\n{\n            'v': null,\n            'f': \"null\",\n        },\n\"M5326\",\n{\n            'v': null,\n            'f': \"null\",\n        },\n{\n            'v': null,\n            'f': \"null\",\n        },\n{\n            'v': null,\n            'f': \"null\",\n        },\n{\n            'v': null,\n            'f': \"null\",\n        },\n{\n            'v': 44056231,\n            'f': \"44056231\",\n        },\n\"Roberts, Julia\"]],\n        columns: [[\"number\", \"index\"], [\"number\", \"id\"], [\"string\", \"title\"], [\"number\", \"imdb_index\"], [\"number\", \"kind_id\"], [\"number\", \"year\"], [\"number\", \"imdb_id\"], [\"string\", \"phonetic_code\"], [\"number\", \"episode_of_id\"], [\"number\", \"season_nr\"], [\"number\", \"episode_nr\"], [\"number\", \"series_years\"], [\"number\", \"__search_id\"], [\"string\", \"name\"]],\n        columnOptions: [{\"width\": \"1px\", \"className\": \"index_column\"}],\n        rowsPerPage: 25,\n        helpUrl: \"https://colab.research.google.com/notebooks/data_table.ipynb\",\n        suppressOutputScrolling: true,\n        minimumWidth: undefined,\n      });\n    "
          },
          "metadata": {}
        },
        {
          "output_type": "stream",
          "name": "stdout",
          "text": [
            "\n"
          ]
        }
      ]
    },
    {
      "cell_type": "code",
      "source": [
        "result = lathe.keyword_search('julia roberts films')\n",
        "result.cjns(graph=True,text=False,sql=False,df=False)"
      ],
      "metadata": {
        "colab": {
          "base_uri": "https://localhost:8080/",
          "height": 1000
        },
        "id": "J-fRKmuvP5qE",
        "outputId": "b9e5cf3e-e442-4b23-dcad-564beca3a310"
      },
      "execution_count": 68,
      "outputs": [
        {
          "output_type": "stream",
          "name": "stdout",
          "text": [
            "Keyword Query: julia roberts films\n"
          ]
        },
        {
          "output_type": "display_data",
          "data": {
            "text/plain": [
              "<IPython.core.display.Markdown object>"
            ],
            "text/markdown": "---"
          },
          "metadata": {}
        },
        {
          "output_type": "display_data",
          "data": {
            "text/plain": [
              "<IPython.core.display.Markdown object>"
            ],
            "text/markdown": "**1st CJN**:"
          },
          "metadata": {}
        },
        {
          "output_type": "display_data",
          "data": {
            "text/plain": [
              "<IPython.core.display.Markdown object>"
            ],
            "text/markdown": "---"
          },
          "metadata": {}
        },
        {
          "output_type": "stream",
          "name": "stdout",
          "text": [
            "Graph:\n"
          ]
        },
        {
          "output_type": "display_data",
          "data": {
            "text/plain": [
              "<graphviz.dot.Digraph at 0x7fcd1acc0710>"
            ],
            "image/svg+xml": "<?xml version=\"1.0\" encoding=\"UTF-8\" standalone=\"no\"?>\n<!DOCTYPE svg PUBLIC \"-//W3C//DTD SVG 1.1//EN\"\n \"http://www.w3.org/Graphics/SVG/1.1/DTD/svg11.dtd\">\n<!-- Generated by graphviz version 2.40.1 (20161225.0304)\n -->\n<!-- Title: %3 Pages: 1 -->\n<svg width=\"280pt\" height=\"98pt\"\n viewBox=\"0.00 0.00 280.33 98.00\" xmlns=\"http://www.w3.org/2000/svg\" xmlns:xlink=\"http://www.w3.org/1999/xlink\">\n<g id=\"graph0\" class=\"graph\" transform=\"scale(1 1) rotate(0) translate(4 94)\">\n<title>%3</title>\n<polygon fill=\"#ffffff\" stroke=\"transparent\" points=\"-4,4 -4,-94 276.3265,-94 276.3265,4 -4,4\"/>\n<!-- t1 -->\n<g id=\"node1\" class=\"node\">\n<title>t1</title>\n<ellipse fill=\"none\" stroke=\"#000000\" cx=\"77.3649\" cy=\"-18\" rx=\"77.2301\" ry=\"18\"/>\n<text text-anchor=\"middle\" x=\"77.3649\" y=\"-15.8\" font-family=\"Times,serif\" font-size=\"9.00\" fill=\"#000000\">PERSON.v(name{roberts,julia})</text>\n</g>\n<!-- t2 -->\n<g id=\"node2\" class=\"node\">\n<title>t2</title>\n<ellipse fill=\"none\" stroke=\"#000000\" cx=\"148.3649\" cy=\"-72\" rx=\"32.1641\" ry=\"18\"/>\n<text text-anchor=\"middle\" x=\"148.3649\" y=\"-69.8\" font-family=\"Times,serif\" font-size=\"9.00\" fill=\"#000000\">CASTING</text>\n</g>\n<!-- t2&#45;&gt;t1 -->\n<g id=\"edge2\" class=\"edge\">\n<title>t2&#45;&gt;t1</title>\n<path fill=\"none\" stroke=\"#000000\" d=\"M128.9639,-57.2443C122.2509,-52.1386 114.5634,-46.2918 107.2085,-40.6979\"/>\n<polygon fill=\"#000000\" stroke=\"#000000\" points=\"109.0832,-38.1662 100.0128,-35.2251 105.2694,-43.1807 109.0832,-38.1662\"/>\n</g>\n<!-- t3 -->\n<g id=\"node3\" class=\"node\">\n<title>t3</title>\n<ellipse fill=\"none\" stroke=\"#000000\" cx=\"220.3649\" cy=\"-18\" rx=\"51.9231\" ry=\"18\"/>\n<text text-anchor=\"middle\" x=\"220.3649\" y=\"-15.8\" font-family=\"Times,serif\" font-size=\"9.00\" fill=\"#000000\">MOVIE.s(*{films})</text>\n</g>\n<!-- t2&#45;&gt;t3 -->\n<g id=\"edge1\" class=\"edge\">\n<title>t2&#45;&gt;t3</title>\n<path fill=\"none\" stroke=\"#000000\" d=\"M167.6596,-57.529C174.7826,-52.1868 183.0267,-46.0037 190.8485,-40.1373\"/>\n<polygon fill=\"#000000\" stroke=\"#000000\" points=\"193.1624,-42.3395 198.4724,-34.4194 189.3823,-37.2995 193.1624,-42.3395\"/>\n</g>\n</g>\n</svg>\n"
          },
          "metadata": {}
        },
        {
          "output_type": "stream",
          "name": "stdout",
          "text": [
            "\n"
          ]
        },
        {
          "output_type": "display_data",
          "data": {
            "text/plain": [
              "<IPython.core.display.Markdown object>"
            ],
            "text/markdown": "---"
          },
          "metadata": {}
        },
        {
          "output_type": "display_data",
          "data": {
            "text/plain": [
              "<IPython.core.display.Markdown object>"
            ],
            "text/markdown": "**2nd CJN**:"
          },
          "metadata": {}
        },
        {
          "output_type": "display_data",
          "data": {
            "text/plain": [
              "<IPython.core.display.Markdown object>"
            ],
            "text/markdown": "---"
          },
          "metadata": {}
        },
        {
          "output_type": "stream",
          "name": "stdout",
          "text": [
            "Graph:\n"
          ]
        },
        {
          "output_type": "display_data",
          "data": {
            "text/plain": [
              "<graphviz.dot.Digraph at 0x7fcd1acc0d90>"
            ],
            "image/svg+xml": "<?xml version=\"1.0\" encoding=\"UTF-8\" standalone=\"no\"?>\n<!DOCTYPE svg PUBLIC \"-//W3C//DTD SVG 1.1//EN\"\n \"http://www.w3.org/Graphics/SVG/1.1/DTD/svg11.dtd\">\n<!-- Generated by graphviz version 2.40.1 (20161225.0304)\n -->\n<!-- Title: %3 Pages: 1 -->\n<svg width=\"201pt\" height=\"44pt\"\n viewBox=\"0.00 0.00 200.83 44.00\" xmlns=\"http://www.w3.org/2000/svg\" xmlns:xlink=\"http://www.w3.org/1999/xlink\">\n<g id=\"graph0\" class=\"graph\" transform=\"scale(1 1) rotate(0) translate(4 40)\">\n<title>%3</title>\n<polygon fill=\"#ffffff\" stroke=\"transparent\" points=\"-4,4 -4,-40 196.835,-40 196.835,4 -4,4\"/>\n<!-- t1 -->\n<g id=\"node1\" class=\"node\">\n<title>t1</title>\n<ellipse fill=\"none\" stroke=\"#000000\" cx=\"96.4175\" cy=\"-18\" rx=\"96.3351\" ry=\"18\"/>\n<text text-anchor=\"middle\" x=\"96.4175\" y=\"-15.8\" font-family=\"Times,serif\" font-size=\"9.00\" fill=\"#000000\">MOVIE.s(*{films}).v(title{roberts,julia})</text>\n</g>\n</g>\n</svg>\n"
          },
          "metadata": {}
        },
        {
          "output_type": "stream",
          "name": "stdout",
          "text": [
            "\n"
          ]
        },
        {
          "output_type": "display_data",
          "data": {
            "text/plain": [
              "<IPython.core.display.Markdown object>"
            ],
            "text/markdown": "---"
          },
          "metadata": {}
        },
        {
          "output_type": "display_data",
          "data": {
            "text/plain": [
              "<IPython.core.display.Markdown object>"
            ],
            "text/markdown": "**3rd CJN**:"
          },
          "metadata": {}
        },
        {
          "output_type": "display_data",
          "data": {
            "text/plain": [
              "<IPython.core.display.Markdown object>"
            ],
            "text/markdown": "---"
          },
          "metadata": {}
        },
        {
          "output_type": "stream",
          "name": "stdout",
          "text": [
            "Graph:\n"
          ]
        },
        {
          "output_type": "display_data",
          "data": {
            "text/plain": [
              "<graphviz.dot.Digraph at 0x7fcd1acc0550>"
            ],
            "image/svg+xml": "<?xml version=\"1.0\" encoding=\"UTF-8\" standalone=\"no\"?>\n<!DOCTYPE svg PUBLIC \"-//W3C//DTD SVG 1.1//EN\"\n \"http://www.w3.org/Graphics/SVG/1.1/DTD/svg11.dtd\">\n<!-- Generated by graphviz version 2.40.1 (20161225.0304)\n -->\n<!-- Title: %3 Pages: 1 -->\n<svg width=\"177pt\" height=\"98pt\"\n viewBox=\"0.00 0.00 176.59 98.00\" xmlns=\"http://www.w3.org/2000/svg\" xmlns:xlink=\"http://www.w3.org/1999/xlink\">\n<g id=\"graph0\" class=\"graph\" transform=\"scale(1 1) rotate(0) translate(4 94)\">\n<title>%3</title>\n<polygon fill=\"#ffffff\" stroke=\"transparent\" points=\"-4,4 -4,-94 172.5863,-94 172.5863,4 -4,4\"/>\n<!-- t1 -->\n<g id=\"node1\" class=\"node\">\n<title>t1</title>\n<ellipse fill=\"none\" stroke=\"#000000\" cx=\"84.2931\" cy=\"-72\" rx=\"84.0868\" ry=\"18\"/>\n<text text-anchor=\"middle\" x=\"84.2931\" y=\"-69.8\" font-family=\"Times,serif\" font-size=\"9.00\" fill=\"#000000\">MOVIEINFO.v(info{roberts,julia})</text>\n</g>\n<!-- t2 -->\n<g id=\"node2\" class=\"node\">\n<title>t2</title>\n<ellipse fill=\"none\" stroke=\"#000000\" cx=\"84.2931\" cy=\"-18\" rx=\"51.9231\" ry=\"18\"/>\n<text text-anchor=\"middle\" x=\"84.2931\" y=\"-15.8\" font-family=\"Times,serif\" font-size=\"9.00\" fill=\"#000000\">MOVIE.s(*{films})</text>\n</g>\n<!-- t1&#45;&gt;t2 -->\n<g id=\"edge1\" class=\"edge\">\n<title>t1&#45;&gt;t2</title>\n<path fill=\"none\" stroke=\"#000000\" d=\"M84.2931,-53.7181C84.2931,-50.9911 84.2931,-48.1312 84.2931,-45.2673\"/>\n<polygon fill=\"#000000\" stroke=\"#000000\" points=\"87.4432,-45.2631 84.2931,-36.2631 81.1432,-45.2631 87.4432,-45.2631\"/>\n</g>\n</g>\n</svg>\n"
          },
          "metadata": {}
        },
        {
          "output_type": "stream",
          "name": "stdout",
          "text": [
            "\n"
          ]
        },
        {
          "output_type": "display_data",
          "data": {
            "text/plain": [
              "<IPython.core.display.Markdown object>"
            ],
            "text/markdown": "---"
          },
          "metadata": {}
        },
        {
          "output_type": "display_data",
          "data": {
            "text/plain": [
              "<IPython.core.display.Markdown object>"
            ],
            "text/markdown": "**4th CJN**:"
          },
          "metadata": {}
        },
        {
          "output_type": "display_data",
          "data": {
            "text/plain": [
              "<IPython.core.display.Markdown object>"
            ],
            "text/markdown": "---"
          },
          "metadata": {}
        },
        {
          "output_type": "stream",
          "name": "stdout",
          "text": [
            "Graph:\n"
          ]
        },
        {
          "output_type": "display_data",
          "data": {
            "text/plain": [
              "<graphviz.dot.Digraph at 0x7fcd1bc34490>"
            ],
            "image/svg+xml": "<?xml version=\"1.0\" encoding=\"UTF-8\" standalone=\"no\"?>\n<!DOCTYPE svg PUBLIC \"-//W3C//DTD SVG 1.1//EN\"\n \"http://www.w3.org/Graphics/SVG/1.1/DTD/svg11.dtd\">\n<!-- Generated by graphviz version 2.40.1 (20161225.0304)\n -->\n<!-- Title: %3 Pages: 1 -->\n<svg width=\"399pt\" height=\"98pt\"\n viewBox=\"0.00 0.00 399.33 98.00\" xmlns=\"http://www.w3.org/2000/svg\" xmlns:xlink=\"http://www.w3.org/1999/xlink\">\n<g id=\"graph0\" class=\"graph\" transform=\"scale(1 1) rotate(0) translate(4 94)\">\n<title>%3</title>\n<polygon fill=\"#ffffff\" stroke=\"transparent\" points=\"-4,4 -4,-94 395.3265,-94 395.3265,4 -4,4\"/>\n<!-- t1 -->\n<g id=\"node1\" class=\"node\">\n<title>t1</title>\n<ellipse fill=\"none\" stroke=\"#000000\" cx=\"61.7765\" cy=\"-18\" rx=\"61.5538\" ry=\"18\"/>\n<text text-anchor=\"middle\" x=\"61.7765\" y=\"-15.8\" font-family=\"Times,serif\" font-size=\"9.00\" fill=\"#000000\">PERSON.v(name{julia})</text>\n</g>\n<!-- t2 -->\n<g id=\"node2\" class=\"node\">\n<title>t2</title>\n<ellipse fill=\"none\" stroke=\"#000000\" cx=\"137.7765\" cy=\"-72\" rx=\"32.1641\" ry=\"18\"/>\n<text text-anchor=\"middle\" x=\"137.7765\" y=\"-69.8\" font-family=\"Times,serif\" font-size=\"9.00\" fill=\"#000000\">CASTING</text>\n</g>\n<!-- t2&#45;&gt;t1 -->\n<g id=\"edge2\" class=\"edge\">\n<title>t2&#45;&gt;t1</title>\n<path fill=\"none\" stroke=\"#000000\" d=\"M117.8084,-57.8121C110.1986,-52.4052 101.3328,-46.1058 92.929,-40.1347\"/>\n<polygon fill=\"#000000\" stroke=\"#000000\" points=\"94.5517,-37.4235 85.3905,-34.7784 90.9026,-42.5591 94.5517,-37.4235\"/>\n</g>\n<!-- t3 -->\n<g id=\"node3\" class=\"node\">\n<title>t3</title>\n<ellipse fill=\"none\" stroke=\"#000000\" cx=\"189.7765\" cy=\"-18\" rx=\"51.9231\" ry=\"18\"/>\n<text text-anchor=\"middle\" x=\"189.7765\" y=\"-15.8\" font-family=\"Times,serif\" font-size=\"9.00\" fill=\"#000000\">MOVIE.s(*{films})</text>\n</g>\n<!-- t2&#45;&gt;t3 -->\n<g id=\"edge1\" class=\"edge\">\n<title>t2&#45;&gt;t3</title>\n<path fill=\"none\" stroke=\"#000000\" d=\"M153.0969,-56.0903C157.4634,-51.5559 162.3162,-46.5164 167.0247,-41.6269\"/>\n<polygon fill=\"#000000\" stroke=\"#000000\" points=\"169.3228,-43.7816 173.2966,-35.1138 164.7847,-39.4117 169.3228,-43.7816\"/>\n</g>\n<!-- t4 -->\n<g id=\"node4\" class=\"node\">\n<title>t4</title>\n<ellipse fill=\"none\" stroke=\"#000000\" cx=\"240.7765\" cy=\"-72\" rx=\"32.1641\" ry=\"18\"/>\n<text text-anchor=\"middle\" x=\"240.7765\" y=\"-69.8\" font-family=\"Times,serif\" font-size=\"9.00\" fill=\"#000000\">CASTING</text>\n</g>\n<!-- t4&#45;&gt;t3 -->\n<g id=\"edge3\" class=\"edge\">\n<title>t4&#45;&gt;t3</title>\n<path fill=\"none\" stroke=\"#000000\" d=\"M225.4748,-55.7982C221.3745,-51.4567 216.8529,-46.6692 212.4456,-42.0026\"/>\n<polygon fill=\"#000000\" stroke=\"#000000\" points=\"214.6022,-39.6983 206.1324,-35.3181 210.022,-44.0241 214.6022,-39.6983\"/>\n</g>\n<!-- t5 -->\n<g id=\"node5\" class=\"node\">\n<title>t5</title>\n<ellipse fill=\"none\" stroke=\"#000000\" cx=\"323.7765\" cy=\"-18\" rx=\"67.6\" ry=\"18\"/>\n<text text-anchor=\"middle\" x=\"323.7765\" y=\"-15.8\" font-family=\"Times,serif\" font-size=\"9.00\" fill=\"#000000\">PERSON.v(name{roberts})</text>\n</g>\n<!-- t4&#45;&gt;t5 -->\n<g id=\"edge4\" class=\"edge\">\n<title>t4&#45;&gt;t5</title>\n<path fill=\"none\" stroke=\"#000000\" d=\"M262.151,-58.0937C270.7067,-52.5273 280.7682,-45.9813 290.2521,-39.811\"/>\n<polygon fill=\"#000000\" stroke=\"#000000\" points=\"292.211,-42.2946 298.0371,-34.7461 288.7753,-37.0139 292.211,-42.2946\"/>\n</g>\n</g>\n</svg>\n"
          },
          "metadata": {}
        },
        {
          "output_type": "stream",
          "name": "stdout",
          "text": [
            "\n"
          ]
        },
        {
          "output_type": "display_data",
          "data": {
            "text/plain": [
              "<IPython.core.display.Markdown object>"
            ],
            "text/markdown": "---"
          },
          "metadata": {}
        },
        {
          "output_type": "display_data",
          "data": {
            "text/plain": [
              "<IPython.core.display.Markdown object>"
            ],
            "text/markdown": "**5th CJN**:"
          },
          "metadata": {}
        },
        {
          "output_type": "display_data",
          "data": {
            "text/plain": [
              "<IPython.core.display.Markdown object>"
            ],
            "text/markdown": "---"
          },
          "metadata": {}
        },
        {
          "output_type": "stream",
          "name": "stdout",
          "text": [
            "Graph:\n"
          ]
        },
        {
          "output_type": "display_data",
          "data": {
            "text/plain": [
              "<graphviz.dot.Digraph at 0x7fcd1b903510>"
            ],
            "image/svg+xml": "<?xml version=\"1.0\" encoding=\"UTF-8\" standalone=\"no\"?>\n<!DOCTYPE svg PUBLIC \"-//W3C//DTD SVG 1.1//EN\"\n \"http://www.w3.org/Graphics/SVG/1.1/DTD/svg11.dtd\">\n<!-- Generated by graphviz version 2.40.1 (20161225.0304)\n -->\n<!-- Title: %3 Pages: 1 -->\n<svg width=\"387pt\" height=\"98pt\"\n viewBox=\"0.00 0.00 386.52 98.00\" xmlns=\"http://www.w3.org/2000/svg\" xmlns:xlink=\"http://www.w3.org/1999/xlink\">\n<g id=\"graph0\" class=\"graph\" transform=\"scale(1 1) rotate(0) translate(4 94)\">\n<title>%3</title>\n<polygon fill=\"#ffffff\" stroke=\"transparent\" points=\"-4,4 -4,-94 382.5226,-94 382.5226,4 -4,4\"/>\n<!-- t1 -->\n<g id=\"node1\" class=\"node\">\n<title>t1</title>\n<ellipse fill=\"none\" stroke=\"#000000\" cx=\"77.3649\" cy=\"-18\" rx=\"77.2301\" ry=\"18\"/>\n<text text-anchor=\"middle\" x=\"77.3649\" y=\"-15.8\" font-family=\"Times,serif\" font-size=\"9.00\" fill=\"#000000\">PERSON.v(name{roberts,julia})</text>\n</g>\n<!-- t2 -->\n<g id=\"node2\" class=\"node\">\n<title>t2</title>\n<ellipse fill=\"none\" stroke=\"#000000\" cx=\"156.3649\" cy=\"-72\" rx=\"32.1641\" ry=\"18\"/>\n<text text-anchor=\"middle\" x=\"156.3649\" y=\"-69.8\" font-family=\"Times,serif\" font-size=\"9.00\" fill=\"#000000\">CASTING</text>\n</g>\n<!-- t2&#45;&gt;t1 -->\n<g id=\"edge2\" class=\"edge\">\n<title>t2&#45;&gt;t1</title>\n<path fill=\"none\" stroke=\"#000000\" d=\"M135.6086,-57.8121C127.7591,-52.4467 118.624,-46.2024 109.9484,-40.2723\"/>\n<polygon fill=\"#000000\" stroke=\"#000000\" points=\"111.6942,-37.65 102.4865,-35.1717 108.139,-42.8511 111.6942,-37.65\"/>\n</g>\n<!-- t3 -->\n<g id=\"node3\" class=\"node\">\n<title>t3</title>\n<ellipse fill=\"none\" stroke=\"#000000\" cx=\"209.3649\" cy=\"-18\" rx=\"40.9837\" ry=\"18\"/>\n<text text-anchor=\"middle\" x=\"209.3649\" y=\"-15.8\" font-family=\"Times,serif\" font-size=\"9.00\" fill=\"#000000\">CHARACTER</text>\n</g>\n<!-- t2&#45;&gt;t3 -->\n<g id=\"edge1\" class=\"edge\">\n<title>t2&#45;&gt;t3</title>\n<path fill=\"none\" stroke=\"#000000\" d=\"M171.98,-56.0903C176.5144,-51.4704 181.5634,-46.3261 186.4471,-41.3503\"/>\n<polygon fill=\"#000000\" stroke=\"#000000\" points=\"188.8841,-43.3642 192.9403,-34.7346 184.3879,-38.9513 188.8841,-43.3642\"/>\n</g>\n<!-- t4 -->\n<g id=\"node4\" class=\"node\">\n<title>t4</title>\n<ellipse fill=\"none\" stroke=\"#000000\" cx=\"261.3649\" cy=\"-72\" rx=\"32.1641\" ry=\"18\"/>\n<text text-anchor=\"middle\" x=\"261.3649\" y=\"-69.8\" font-family=\"Times,serif\" font-size=\"9.00\" fill=\"#000000\">CASTING</text>\n</g>\n<!-- t4&#45;&gt;t3 -->\n<g id=\"edge3\" class=\"edge\">\n<title>t4&#45;&gt;t3</title>\n<path fill=\"none\" stroke=\"#000000\" d=\"M246.0445,-56.0903C241.5956,-51.4704 236.6419,-46.3261 231.8504,-41.3503\"/>\n<polygon fill=\"#000000\" stroke=\"#000000\" points=\"233.9915,-39.0325 225.4797,-34.7346 229.4535,-43.4025 233.9915,-39.0325\"/>\n</g>\n<!-- t5 -->\n<g id=\"node5\" class=\"node\">\n<title>t5</title>\n<ellipse fill=\"none\" stroke=\"#000000\" cx=\"321.3649\" cy=\"-18\" rx=\"57.3158\" ry=\"18\"/>\n<text text-anchor=\"middle\" x=\"321.3649\" y=\"-15.8\" font-family=\"Times,serif\" font-size=\"9.00\" fill=\"#000000\">MOVIE.v(title{films})</text>\n</g>\n<!-- t4&#45;&gt;t5 -->\n<g id=\"edge4\" class=\"edge\">\n<title>t4&#45;&gt;t5</title>\n<path fill=\"none\" stroke=\"#000000\" d=\"M278.398,-56.6702C283.7768,-51.8293 289.8442,-46.3687 295.688,-41.1092\"/>\n<polygon fill=\"#000000\" stroke=\"#000000\" points=\"297.8084,-43.4388 302.3909,-35.0767 293.5939,-38.756 297.8084,-43.4388\"/>\n</g>\n</g>\n</svg>\n"
          },
          "metadata": {}
        },
        {
          "output_type": "stream",
          "name": "stdout",
          "text": [
            "\n"
          ]
        }
      ]
    },
    {
      "cell_type": "markdown",
      "source": [
        "### Query Matches\n",
        "\n",
        "The function `qms` returns a ranked list of the Query Matches for the keyword query. Each QM is presented as a set of Keyword Matches."
      ],
      "metadata": {
        "id": "kBHjyuQswF4H"
      }
    },
    {
      "cell_type": "code",
      "source": [
        "result.qms()"
      ],
      "metadata": {
        "colab": {
          "base_uri": "https://localhost:8080/",
          "height": 351
        },
        "id": "scMhvLTHFaPc",
        "outputId": "c99614a3-0c83-4859-8359-600167b7d087"
      },
      "execution_count": 69,
      "outputs": [
        {
          "output_type": "display_data",
          "data": {
            "text/plain": [
              "<IPython.core.display.Markdown object>"
            ],
            "text/markdown": "---"
          },
          "metadata": {}
        },
        {
          "output_type": "display_data",
          "data": {
            "text/plain": [
              "<IPython.core.display.Markdown object>"
            ],
            "text/markdown": "**1st QM**:"
          },
          "metadata": {}
        },
        {
          "output_type": "display_data",
          "data": {
            "text/plain": [
              "<IPython.core.display.Markdown object>"
            ],
            "text/markdown": "---"
          },
          "metadata": {}
        },
        {
          "output_type": "stream",
          "name": "stdout",
          "text": [
            "{MOVIE.s(*{films}), PERSON.v(name{roberts,julia})}\n"
          ]
        },
        {
          "output_type": "display_data",
          "data": {
            "text/plain": [
              "<IPython.core.display.Markdown object>"
            ],
            "text/markdown": "---"
          },
          "metadata": {}
        },
        {
          "output_type": "display_data",
          "data": {
            "text/plain": [
              "<IPython.core.display.Markdown object>"
            ],
            "text/markdown": "**2nd QM**:"
          },
          "metadata": {}
        },
        {
          "output_type": "display_data",
          "data": {
            "text/plain": [
              "<IPython.core.display.Markdown object>"
            ],
            "text/markdown": "---"
          },
          "metadata": {}
        },
        {
          "output_type": "stream",
          "name": "stdout",
          "text": [
            "{MOVIE.s(*{films}).v(title{roberts,julia})}\n"
          ]
        },
        {
          "output_type": "display_data",
          "data": {
            "text/plain": [
              "<IPython.core.display.Markdown object>"
            ],
            "text/markdown": "---"
          },
          "metadata": {}
        },
        {
          "output_type": "display_data",
          "data": {
            "text/plain": [
              "<IPython.core.display.Markdown object>"
            ],
            "text/markdown": "**3rd QM**:"
          },
          "metadata": {}
        },
        {
          "output_type": "display_data",
          "data": {
            "text/plain": [
              "<IPython.core.display.Markdown object>"
            ],
            "text/markdown": "---"
          },
          "metadata": {}
        },
        {
          "output_type": "stream",
          "name": "stdout",
          "text": [
            "{MOVIE.s(*{films}), MOVIEINFO.v(info{roberts,julia})}\n"
          ]
        },
        {
          "output_type": "display_data",
          "data": {
            "text/plain": [
              "<IPython.core.display.Markdown object>"
            ],
            "text/markdown": "---"
          },
          "metadata": {}
        },
        {
          "output_type": "display_data",
          "data": {
            "text/plain": [
              "<IPython.core.display.Markdown object>"
            ],
            "text/markdown": "**4th QM**:"
          },
          "metadata": {}
        },
        {
          "output_type": "display_data",
          "data": {
            "text/plain": [
              "<IPython.core.display.Markdown object>"
            ],
            "text/markdown": "---"
          },
          "metadata": {}
        },
        {
          "output_type": "stream",
          "name": "stdout",
          "text": [
            "{PERSON.v(name{roberts}), MOVIE.s(*{films}), PERSON.v(name{julia})}\n"
          ]
        },
        {
          "output_type": "display_data",
          "data": {
            "text/plain": [
              "<IPython.core.display.Markdown object>"
            ],
            "text/markdown": "---"
          },
          "metadata": {}
        },
        {
          "output_type": "display_data",
          "data": {
            "text/plain": [
              "<IPython.core.display.Markdown object>"
            ],
            "text/markdown": "**5th QM**:"
          },
          "metadata": {}
        },
        {
          "output_type": "display_data",
          "data": {
            "text/plain": [
              "<IPython.core.display.Markdown object>"
            ],
            "text/markdown": "---"
          },
          "metadata": {}
        },
        {
          "output_type": "stream",
          "name": "stdout",
          "text": [
            "{MOVIE.v(title{films}), PERSON.v(name{roberts,julia})}\n"
          ]
        }
      ]
    },
    {
      "cell_type": "markdown",
      "source": [
        "### Keyword Matches\n",
        "\n",
        "The function `kms` returns two unordered lists, one for the Schema-Keyword Matches and one for Value-Keyword Matches."
      ],
      "metadata": {
        "id": "zcLxI1p0wkcS"
      }
    },
    {
      "cell_type": "code",
      "source": [
        "result.kms()"
      ],
      "metadata": {
        "colab": {
          "base_uri": "https://localhost:8080/",
          "height": 394
        },
        "id": "sipofwKEFdqz",
        "outputId": "55322f21-6f10-460d-ee5a-9d497af46444"
      },
      "execution_count": 70,
      "outputs": [
        {
          "output_type": "display_data",
          "data": {
            "text/plain": [
              "<IPython.core.display.Markdown object>"
            ],
            "text/markdown": "---"
          },
          "metadata": {}
        },
        {
          "output_type": "display_data",
          "data": {
            "text/plain": [
              "<IPython.core.display.Markdown object>"
            ],
            "text/markdown": "**SKMs**:"
          },
          "metadata": {}
        },
        {
          "output_type": "display_data",
          "data": {
            "text/plain": [
              "<IPython.core.display.Markdown object>"
            ],
            "text/markdown": "---"
          },
          "metadata": {}
        },
        {
          "output_type": "stream",
          "name": "stdout",
          "text": [
            "MOVIE.s(*{films})\n"
          ]
        },
        {
          "output_type": "display_data",
          "data": {
            "text/plain": [
              "<IPython.core.display.Markdown object>"
            ],
            "text/markdown": "---"
          },
          "metadata": {}
        },
        {
          "output_type": "display_data",
          "data": {
            "text/plain": [
              "<IPython.core.display.Markdown object>"
            ],
            "text/markdown": "**VKMs**:"
          },
          "metadata": {}
        },
        {
          "output_type": "display_data",
          "data": {
            "text/plain": [
              "<IPython.core.display.Markdown object>"
            ],
            "text/markdown": "---"
          },
          "metadata": {}
        },
        {
          "output_type": "stream",
          "name": "stdout",
          "text": [
            "PERSON.v(name{julia})\n",
            "CHARACTER.v(name{julia})\n",
            "MOVIEINFO.v(info{julia})\n",
            "MOVIE.v(title{julia})\n",
            "PERSON.v(name{roberts})\n",
            "CHARACTER.v(name{roberts})\n",
            "MOVIEINFO.v(info{roberts})\n",
            "MOVIE.v(title{roberts})\n",
            "CHARACTER.v(name{films})\n",
            "MOVIEINFO.v(info{films})\n",
            "MOVIE.v(title{films})\n",
            "PERSON.v(name{roberts,julia})\n",
            "MOVIEINFO.v(info{roberts,julia})\n",
            "MOVIEINFO.v(info{films,julia})\n",
            "MOVIE.v(title{roberts,julia})\n"
          ]
        }
      ]
    },
    {
      "cell_type": "markdown",
      "source": [
        "### Schema Graph"
      ],
      "metadata": {
        "id": "bXdSBQp5LlYa"
      }
    },
    {
      "cell_type": "markdown",
      "source": [
        "#### IMDb Graph"
      ],
      "metadata": {
        "id": "VRqLi7-jNZW0"
      }
    },
    {
      "cell_type": "code",
      "source": [
        "lathe.change_queryset(1)\n",
        "lathe.load_indexes()\n",
        "\n",
        "lathe.index_handler.schema_graph.show()"
      ],
      "metadata": {
        "colab": {
          "base_uri": "https://localhost:8080/",
          "height": 203
        },
        "id": "Tb_UdxFULsNJ",
        "outputId": "ec055826-9d2b-4c22-93cf-907f40498567"
      },
      "execution_count": 20,
      "outputs": [
        {
          "output_type": "stream",
          "name": "stdout",
          "text": [
            "./config/queryset_configs/coffman_imdb_config.json\n",
            "Changed to query set coffman_imdb.\n",
            "Graph:\n"
          ]
        },
        {
          "output_type": "display_data",
          "data": {
            "text/plain": [
              "<graphviz.dot.Digraph at 0x7fcd22bbb2d0>"
            ],
            "image/svg+xml": "<?xml version=\"1.0\" encoding=\"UTF-8\" standalone=\"no\"?>\n<!DOCTYPE svg PUBLIC \"-//W3C//DTD SVG 1.1//EN\"\n \"http://www.w3.org/Graphics/SVG/1.1/DTD/svg11.dtd\">\n<!-- Generated by graphviz version 2.40.1 (20161225.0304)\n -->\n<!-- Title: %3 Pages: 1 -->\n<svg width=\"272pt\" height=\"98pt\"\n viewBox=\"0.00 0.00 271.60 98.00\" xmlns=\"http://www.w3.org/2000/svg\" xmlns:xlink=\"http://www.w3.org/1999/xlink\">\n<g id=\"graph0\" class=\"graph\" transform=\"scale(1 1) rotate(0) translate(4 94)\">\n<title>%3</title>\n<polygon fill=\"#ffffff\" stroke=\"transparent\" points=\"-4,4 -4,-94 267.5996,-94 267.5996,4 -4,4\"/>\n<!-- casting -->\n<g id=\"node1\" class=\"node\">\n<title>casting</title>\n<ellipse fill=\"none\" stroke=\"#000000\" cx=\"134.5996\" cy=\"-72\" rx=\"27\" ry=\"18\"/>\n<text text-anchor=\"middle\" x=\"134.5996\" y=\"-69.8\" font-family=\"Times,serif\" font-size=\"9.00\" fill=\"#000000\">casting</text>\n</g>\n<!-- movie -->\n<g id=\"node2\" class=\"node\">\n<title>movie</title>\n<ellipse fill=\"none\" stroke=\"#000000\" cx=\"30.5996\" cy=\"-18\" rx=\"27\" ry=\"18\"/>\n<text text-anchor=\"middle\" x=\"30.5996\" y=\"-15.8\" font-family=\"Times,serif\" font-size=\"9.00\" fill=\"#000000\">movie</text>\n</g>\n<!-- casting&#45;&gt;movie -->\n<g id=\"edge1\" class=\"edge\">\n<title>casting&#45;&gt;movie</title>\n<path fill=\"none\" stroke=\"#000000\" d=\"M113.1199,-61.0367C99.2523,-53.9381 80.8342,-44.4717 64.5996,-36 63.0452,-35.1889 61.4522,-34.3549 59.8447,-33.5112\"/>\n<polygon fill=\"#000000\" stroke=\"#000000\" points=\"61.2302,-30.6808 51.7993,-29.2732 58.294,-36.2547 61.2302,-30.6808\"/>\n</g>\n<!-- person -->\n<g id=\"node4\" class=\"node\">\n<title>person</title>\n<ellipse fill=\"none\" stroke=\"#000000\" cx=\"98.5996\" cy=\"-18\" rx=\"27\" ry=\"18\"/>\n<text text-anchor=\"middle\" x=\"98.5996\" y=\"-15.8\" font-family=\"Times,serif\" font-size=\"9.00\" fill=\"#000000\">person</text>\n</g>\n<!-- casting&#45;&gt;person -->\n<g id=\"edge4\" class=\"edge\">\n<title>casting&#45;&gt;person</title>\n<path fill=\"none\" stroke=\"#000000\" d=\"M123.6028,-55.5048C120.863,-51.3951 117.8667,-46.9008 114.9303,-42.4961\"/>\n<polygon fill=\"#000000\" stroke=\"#000000\" points=\"117.3908,-40.508 109.7775,-34.7669 112.1489,-44.0026 117.3908,-40.508\"/>\n</g>\n<!-- character -->\n<g id=\"node5\" class=\"node\">\n<title>character</title>\n<ellipse fill=\"none\" stroke=\"#000000\" cx=\"167.5996\" cy=\"-18\" rx=\"27.9273\" ry=\"18\"/>\n<text text-anchor=\"middle\" x=\"167.5996\" y=\"-15.8\" font-family=\"Times,serif\" font-size=\"9.00\" fill=\"#000000\">character</text>\n</g>\n<!-- casting&#45;&gt;character -->\n<g id=\"edge2\" class=\"edge\">\n<title>casting&#45;&gt;character</title>\n<path fill=\"none\" stroke=\"#000000\" d=\"M144.8601,-55.2101C147.2582,-51.2858 149.8626,-47.0241 152.4241,-42.8325\"/>\n<polygon fill=\"#000000\" stroke=\"#000000\" points=\"155.2265,-44.2877 157.2317,-34.9655 149.8508,-41.0025 155.2265,-44.2877\"/>\n</g>\n<!-- role -->\n<g id=\"node6\" class=\"node\">\n<title>role</title>\n<ellipse fill=\"none\" stroke=\"#000000\" cx=\"236.5996\" cy=\"-18\" rx=\"27\" ry=\"18\"/>\n<text text-anchor=\"middle\" x=\"236.5996\" y=\"-15.8\" font-family=\"Times,serif\" font-size=\"9.00\" fill=\"#000000\">role</text>\n</g>\n<!-- casting&#45;&gt;role -->\n<g id=\"edge3\" class=\"edge\">\n<title>casting&#45;&gt;role</title>\n<path fill=\"none\" stroke=\"#000000\" d=\"M156.2311,-60.548C171.0711,-52.6916 190.9435,-42.1709 207.2143,-33.5569\"/>\n<polygon fill=\"#000000\" stroke=\"#000000\" points=\"208.8687,-36.2453 215.3489,-29.2503 205.921,-30.6774 208.8687,-36.2453\"/>\n</g>\n<!-- movieinfo -->\n<g id=\"node3\" class=\"node\">\n<title>movieinfo</title>\n<ellipse fill=\"none\" stroke=\"#000000\" cx=\"30.5996\" cy=\"-72\" rx=\"30.6995\" ry=\"18\"/>\n<text text-anchor=\"middle\" x=\"30.5996\" y=\"-69.8\" font-family=\"Times,serif\" font-size=\"9.00\" fill=\"#000000\">movieinfo</text>\n</g>\n<!-- movieinfo&#45;&gt;movie -->\n<g id=\"edge5\" class=\"edge\">\n<title>movieinfo&#45;&gt;movie</title>\n<path fill=\"none\" stroke=\"#000000\" d=\"M30.5996,-53.7181C30.5996,-50.9911 30.5996,-48.1312 30.5996,-45.2673\"/>\n<polygon fill=\"#000000\" stroke=\"#000000\" points=\"33.7497,-45.2631 30.5996,-36.2631 27.4497,-45.2631 33.7497,-45.2631\"/>\n</g>\n</g>\n</svg>\n"
          },
          "metadata": {}
        }
      ]
    },
    {
      "cell_type": "markdown",
      "source": [
        "#### MONDIAL Graph"
      ],
      "metadata": {
        "id": "EwLLNTCSNiwl"
      }
    },
    {
      "cell_type": "code",
      "source": [
        "lathe.change_queryset(2)\n",
        "lathe.load_indexes()\n",
        "\n",
        "lathe.index_handler.schema_graph.show()"
      ],
      "metadata": {
        "colab": {
          "base_uri": "https://localhost:8080/",
          "height": 365
        },
        "id": "vg4fb8vXLlvl",
        "outputId": "7467d754-b163-44f0-9469-ba639e9f2cec"
      },
      "execution_count": 21,
      "outputs": [
        {
          "output_type": "stream",
          "name": "stdout",
          "text": [
            "./config/queryset_configs/coffman_mondial_config.json\n",
            "Changed to query set coffman_mondial.\n",
            "Changed to dataset mondial.\n",
            "Graph:\n"
          ]
        },
        {
          "output_type": "display_data",
          "data": {
            "text/plain": [
              "<graphviz.dot.Digraph at 0x7fcd22bbb590>"
            ],
            "image/svg+xml": "<?xml version=\"1.0\" encoding=\"UTF-8\" standalone=\"no\"?>\n<!DOCTYPE svg PUBLIC \"-//W3C//DTD SVG 1.1//EN\"\n \"http://www.w3.org/Graphics/SVG/1.1/DTD/svg11.dtd\">\n<!-- Generated by graphviz version 2.40.1 (20161225.0304)\n -->\n<!-- Title: %3 Pages: 1 -->\n<svg width=\"861pt\" height=\"206pt\"\n viewBox=\"0.00 0.00 860.67 206.00\" xmlns=\"http://www.w3.org/2000/svg\" xmlns:xlink=\"http://www.w3.org/1999/xlink\">\n<g id=\"graph0\" class=\"graph\" transform=\"scale(1 1) rotate(0) translate(4 202)\">\n<title>%3</title>\n<polygon fill=\"#ffffff\" stroke=\"transparent\" points=\"-4,4 -4,-202 856.6663,-202 856.6663,4 -4,4\"/>\n<!-- borders -->\n<g id=\"node1\" class=\"node\">\n<title>borders</title>\n<ellipse fill=\"none\" stroke=\"#000000\" cx=\"466.2902\" cy=\"-180\" rx=\"27\" ry=\"18\"/>\n<text text-anchor=\"middle\" x=\"466.2902\" y=\"-177.8\" font-family=\"Times,serif\" font-size=\"9.00\" fill=\"#000000\">borders</text>\n</g>\n<!-- country -->\n<g id=\"node2\" class=\"node\">\n<title>country</title>\n<ellipse fill=\"none\" stroke=\"#000000\" cx=\"326.2902\" cy=\"-126\" rx=\"27\" ry=\"18\"/>\n<text text-anchor=\"middle\" x=\"326.2902\" y=\"-123.8\" font-family=\"Times,serif\" font-size=\"9.00\" fill=\"#000000\">country</text>\n</g>\n<!-- borders&#45;&gt;country -->\n<g id=\"edge1\" class=\"edge\">\n<title>borders&#45;&gt;country</title>\n<path fill=\"none\" stroke=\"#000000\" d=\"M445.3251,-168.2335C441.0707,-166.0361 436.5832,-163.8514 432.2902,-162 408.5545,-151.7641 380.8709,-142.447 359.7481,-135.8569\"/>\n<polygon fill=\"#000000\" stroke=\"#000000\" points=\"360.6562,-132.8407 351.1278,-133.2048 358.8036,-138.8621 360.6562,-132.8407\"/>\n</g>\n<!-- city -->\n<g id=\"node3\" class=\"node\">\n<title>city</title>\n<ellipse fill=\"none\" stroke=\"#000000\" cx=\"350.2902\" cy=\"-72\" rx=\"27\" ry=\"18\"/>\n<text text-anchor=\"middle\" x=\"350.2902\" y=\"-69.8\" font-family=\"Times,serif\" font-size=\"9.00\" fill=\"#000000\">city</text>\n</g>\n<!-- country&#45;&gt;city -->\n<g id=\"edge2\" class=\"edge\">\n<title>country&#45;&gt;city</title>\n<path fill=\"none\" stroke=\"#000000\" d=\"M334.016,-108.6168C335.5576,-105.1482 337.2075,-101.4361 338.8436,-97.7549\"/>\n<polygon fill=\"#000000\" stroke=\"#000000\" points=\"341.802,-98.8543 342.5788,-89.3506 336.045,-96.2956 341.802,-98.8543\"/>\n</g>\n<!-- province -->\n<g id=\"node4\" class=\"node\">\n<title>province</title>\n<ellipse fill=\"none\" stroke=\"#000000\" cx=\"350.2902\" cy=\"-18\" rx=\"27.2716\" ry=\"18\"/>\n<text text-anchor=\"middle\" x=\"350.2902\" y=\"-15.8\" font-family=\"Times,serif\" font-size=\"9.00\" fill=\"#000000\">province</text>\n</g>\n<!-- city&#45;&gt;province -->\n<g id=\"edge3\" class=\"edge\">\n<title>city&#45;&gt;province</title>\n<path fill=\"none\" stroke=\"#000000\" d=\"M345.3096,-54.0188C345.1273,-51.0734 345.0375,-47.9663 345.0402,-44.8616\"/>\n<polygon fill=\"#000000\" stroke=\"#000000\" points=\"348.1932,-44.8131 345.3262,-35.719 341.8963,-44.6161 348.1932,-44.8131\"/>\n</g>\n<!-- province&#45;&gt;country -->\n<g id=\"edge4\" class=\"edge\">\n<title>province&#45;&gt;country</title>\n<path fill=\"none\" stroke=\"#000000\" d=\"M332.4181,-31.8732C326.0647,-37.9045 319.6568,-45.5321 316.2902,-54 310.5149,-68.5261 312.6696,-85.8515 316.4324,-99.8665\"/>\n<polygon fill=\"#000000\" stroke=\"#000000\" points=\"313.4367,-100.8423 319.0702,-108.5356 319.4639,-99.0084 313.4367,-100.8423\"/>\n</g>\n<!-- province&#45;&gt;city -->\n<g id=\"edge5\" class=\"edge\">\n<title>province&#45;&gt;city</title>\n<path fill=\"none\" stroke=\"#000000\" d=\"M355.2542,-35.719C355.442,-38.6546 355.5374,-41.7569 355.5401,-44.8616\"/>\n<polygon fill=\"#000000\" stroke=\"#000000\" points=\"352.3868,-44.93 355.2707,-54.0188 358.6841,-45.1153 352.3868,-44.93\"/>\n</g>\n<!-- economy -->\n<g id=\"node5\" class=\"node\">\n<title>economy</title>\n<ellipse fill=\"none\" stroke=\"#000000\" cx=\"28.2902\" cy=\"-180\" rx=\"28.0819\" ry=\"18\"/>\n<text text-anchor=\"middle\" x=\"28.2902\" y=\"-177.8\" font-family=\"Times,serif\" font-size=\"9.00\" fill=\"#000000\">economy</text>\n</g>\n<!-- economy&#45;&gt;country -->\n<g id=\"edge6\" class=\"edge\">\n<title>economy&#45;&gt;country</title>\n<path fill=\"none\" stroke=\"#000000\" d=\"M49.5148,-167.9604C54.2583,-165.6775 59.3504,-163.5286 64.2902,-162 142.5375,-137.7868 238.9611,-129.8379 290.2301,-127.2437\"/>\n<polygon fill=\"#000000\" stroke=\"#000000\" points=\"290.4211,-130.3883 299.2631,-126.8189 290.125,-124.0953 290.4211,-130.3883\"/>\n</g>\n<!-- encompasses -->\n<g id=\"node6\" class=\"node\">\n<title>encompasses</title>\n<ellipse fill=\"none\" stroke=\"#000000\" cx=\"675.2902\" cy=\"-180\" rx=\"36.2466\" ry=\"18\"/>\n<text text-anchor=\"middle\" x=\"675.2902\" y=\"-177.8\" font-family=\"Times,serif\" font-size=\"9.00\" fill=\"#000000\">encompasses</text>\n</g>\n<!-- encompasses&#45;&gt;country -->\n<g id=\"edge8\" class=\"edge\">\n<title>encompasses&#45;&gt;country</title>\n<path fill=\"none\" stroke=\"#000000\" d=\"M641.2762,-173.0494C622.7161,-169.4182 599.3014,-165.0982 578.2902,-162 505.748,-151.3033 486.7316,-155.3593 414.2902,-144 396.6469,-141.2334 377.178,-137.3398 361.0478,-133.8812\"/>\n<polygon fill=\"#000000\" stroke=\"#000000\" points=\"361.4395,-130.7428 351.9754,-131.907 360.0998,-136.8987 361.4395,-130.7428\"/>\n</g>\n<!-- continent -->\n<g id=\"node7\" class=\"node\">\n<title>continent</title>\n<ellipse fill=\"none\" stroke=\"#000000\" cx=\"727.2902\" cy=\"-126\" rx=\"28.0819\" ry=\"18\"/>\n<text text-anchor=\"middle\" x=\"727.2902\" y=\"-123.8\" font-family=\"Times,serif\" font-size=\"9.00\" fill=\"#000000\">continent</text>\n</g>\n<!-- encompasses&#45;&gt;continent -->\n<g id=\"edge7\" class=\"edge\">\n<title>encompasses&#45;&gt;continent</title>\n<path fill=\"none\" stroke=\"#000000\" d=\"M691.1744,-163.5048C695.7741,-158.7283 700.8741,-153.4321 705.7574,-148.361\"/>\n<polygon fill=\"#000000\" stroke=\"#000000\" points=\"708.2409,-150.3232 712.2147,-141.6553 703.7029,-145.9532 708.2409,-150.3232\"/>\n</g>\n<!-- ethnic_group -->\n<g id=\"node8\" class=\"node\">\n<title>ethnic_group</title>\n<ellipse fill=\"none\" stroke=\"#000000\" cx=\"107.2902\" cy=\"-180\" rx=\"36.2466\" ry=\"18\"/>\n<text text-anchor=\"middle\" x=\"107.2902\" y=\"-177.8\" font-family=\"Times,serif\" font-size=\"9.00\" fill=\"#000000\">ethnic_group</text>\n</g>\n<!-- ethnic_group&#45;&gt;country -->\n<g id=\"edge9\" class=\"edge\">\n<title>ethnic_group&#45;&gt;country</title>\n<path fill=\"none\" stroke=\"#000000\" d=\"M134.2917,-167.759C139.5322,-165.6517 145.0313,-163.6216 150.2902,-162 197.8943,-147.3212 254.6102,-136.945 290.5357,-131.2168\"/>\n<polygon fill=\"#000000\" stroke=\"#000000\" points=\"291.2418,-134.2947 299.6474,-129.7927 290.2689,-128.0703 291.2418,-134.2947\"/>\n</g>\n<!-- geo_desert -->\n<g id=\"node9\" class=\"node\">\n<title>geo_desert</title>\n<ellipse fill=\"none\" stroke=\"#000000\" cx=\"169.2902\" cy=\"-72\" rx=\"31.5104\" ry=\"18\"/>\n<text text-anchor=\"middle\" x=\"169.2902\" y=\"-69.8\" font-family=\"Times,serif\" font-size=\"9.00\" fill=\"#000000\">geo_desert</text>\n</g>\n<!-- geo_desert&#45;&gt;province -->\n<g id=\"edge10\" class=\"edge\">\n<title>geo_desert&#45;&gt;province</title>\n<path fill=\"none\" stroke=\"#000000\" d=\"M193.3353,-60.0356C198.2157,-57.8546 203.3639,-55.7264 208.2902,-54 239.8258,-42.9482 248.9002,-44.2177 281.2902,-36 292.6338,-33.122 305.0084,-29.9151 316.1057,-27.0146\"/>\n<polygon fill=\"#000000\" stroke=\"#000000\" points=\"317.1687,-29.9925 325.0764,-24.6642 315.5719,-23.8982 317.1687,-29.9925\"/>\n</g>\n<!-- desert -->\n<g id=\"node10\" class=\"node\">\n<title>desert</title>\n<ellipse fill=\"none\" stroke=\"#000000\" cx=\"169.2902\" cy=\"-18\" rx=\"27\" ry=\"18\"/>\n<text text-anchor=\"middle\" x=\"169.2902\" y=\"-15.8\" font-family=\"Times,serif\" font-size=\"9.00\" fill=\"#000000\">desert</text>\n</g>\n<!-- geo_desert&#45;&gt;desert -->\n<g id=\"edge11\" class=\"edge\">\n<title>geo_desert&#45;&gt;desert</title>\n<path fill=\"none\" stroke=\"#000000\" d=\"M169.2902,-53.7181C169.2902,-50.9911 169.2902,-48.1312 169.2902,-45.2673\"/>\n<polygon fill=\"#000000\" stroke=\"#000000\" points=\"172.4403,-45.2631 169.2902,-36.2631 166.1403,-45.2631 172.4403,-45.2631\"/>\n</g>\n<!-- geo_island -->\n<g id=\"node11\" class=\"node\">\n<title>geo_island</title>\n<ellipse fill=\"none\" stroke=\"#000000\" cx=\"247.2902\" cy=\"-72\" rx=\"31.5104\" ry=\"18\"/>\n<text text-anchor=\"middle\" x=\"247.2902\" y=\"-69.8\" font-family=\"Times,serif\" font-size=\"9.00\" fill=\"#000000\">geo_island</text>\n</g>\n<!-- geo_island&#45;&gt;province -->\n<g id=\"edge13\" class=\"edge\">\n<title>geo_island&#45;&gt;province</title>\n<path fill=\"none\" stroke=\"#000000\" d=\"M270.6625,-59.7466C285.386,-52.0274 304.5341,-41.9886 320.3633,-33.6898\"/>\n<polygon fill=\"#000000\" stroke=\"#000000\" points=\"322.2583,-36.2531 328.7666,-29.2842 319.333,-30.6734 322.2583,-36.2531\"/>\n</g>\n<!-- island -->\n<g id=\"node12\" class=\"node\">\n<title>island</title>\n<ellipse fill=\"none\" stroke=\"#000000\" cx=\"247.2902\" cy=\"-18\" rx=\"27\" ry=\"18\"/>\n<text text-anchor=\"middle\" x=\"247.2902\" y=\"-15.8\" font-family=\"Times,serif\" font-size=\"9.00\" fill=\"#000000\">island</text>\n</g>\n<!-- geo_island&#45;&gt;island -->\n<g id=\"edge12\" class=\"edge\">\n<title>geo_island&#45;&gt;island</title>\n<path fill=\"none\" stroke=\"#000000\" d=\"M247.2902,-53.7181C247.2902,-50.9911 247.2902,-48.1312 247.2902,-45.2673\"/>\n<polygon fill=\"#000000\" stroke=\"#000000\" points=\"250.4403,-45.2631 247.2902,-36.2631 244.1403,-45.2631 250.4403,-45.2631\"/>\n</g>\n<!-- geo_lake -->\n<g id=\"node13\" class=\"node\">\n<title>geo_lake</title>\n<ellipse fill=\"none\" stroke=\"#000000\" cx=\"540.2902\" cy=\"-72\" rx=\"27.9273\" ry=\"18\"/>\n<text text-anchor=\"middle\" x=\"540.2902\" y=\"-69.8\" font-family=\"Times,serif\" font-size=\"9.00\" fill=\"#000000\">geo_lake</text>\n</g>\n<!-- geo_lake&#45;&gt;province -->\n<g id=\"edge15\" class=\"edge\">\n<title>geo_lake&#45;&gt;province</title>\n<path fill=\"none\" stroke=\"#000000\" d=\"M519.4777,-59.8507C515.2107,-57.6849 510.6796,-55.6097 506.2902,-54 471.2593,-41.1535 460.6422,-44.4099 424.2902,-36 411.4589,-33.0315 397.4094,-29.6479 385.0324,-26.6217\"/>\n<polygon fill=\"#000000\" stroke=\"#000000\" points=\"385.433,-23.4766 375.9415,-24.39 383.9309,-29.5949 385.433,-23.4766\"/>\n</g>\n<!-- lake -->\n<g id=\"node14\" class=\"node\">\n<title>lake</title>\n<ellipse fill=\"none\" stroke=\"#000000\" cx=\"658.2902\" cy=\"-18\" rx=\"27\" ry=\"18\"/>\n<text text-anchor=\"middle\" x=\"658.2902\" y=\"-15.8\" font-family=\"Times,serif\" font-size=\"9.00\" fill=\"#000000\">lake</text>\n</g>\n<!-- geo_lake&#45;&gt;lake -->\n<g id=\"edge14\" class=\"edge\">\n<title>geo_lake&#45;&gt;lake</title>\n<path fill=\"none\" stroke=\"#000000\" d=\"M562.0242,-60.5424C566.3913,-58.3196 570.9671,-56.0465 575.2902,-54 592.0231,-46.0789 610.9425,-37.8204 626.4879,-31.2143\"/>\n<polygon fill=\"#000000\" stroke=\"#000000\" points=\"628.1437,-33.9344 635.2088,-27.5307 625.6924,-28.1309 628.1437,-33.9344\"/>\n</g>\n<!-- geo_mountain -->\n<g id=\"node15\" class=\"node\">\n<title>geo_mountain</title>\n<ellipse fill=\"none\" stroke=\"#000000\" cx=\"460.2902\" cy=\"-72\" rx=\"38.8658\" ry=\"18\"/>\n<text text-anchor=\"middle\" x=\"460.2902\" y=\"-69.8\" font-family=\"Times,serif\" font-size=\"9.00\" fill=\"#000000\">geo_mountain</text>\n</g>\n<!-- geo_mountain&#45;&gt;province -->\n<g id=\"edge16\" class=\"edge\">\n<title>geo_mountain&#45;&gt;province</title>\n<path fill=\"none\" stroke=\"#000000\" d=\"M433.6622,-58.9281C417.6352,-51.0603 397.1819,-41.0196 380.545,-32.8524\"/>\n<polygon fill=\"#000000\" stroke=\"#000000\" points=\"381.7036,-29.9121 372.2365,-28.7736 378.9274,-35.5674 381.7036,-29.9121\"/>\n</g>\n<!-- mountain -->\n<g id=\"node16\" class=\"node\">\n<title>mountain</title>\n<ellipse fill=\"none\" stroke=\"#000000\" cx=\"460.2902\" cy=\"-18\" rx=\"28.7356\" ry=\"18\"/>\n<text text-anchor=\"middle\" x=\"460.2902\" y=\"-15.8\" font-family=\"Times,serif\" font-size=\"9.00\" fill=\"#000000\">mountain</text>\n</g>\n<!-- geo_mountain&#45;&gt;mountain -->\n<g id=\"edge17\" class=\"edge\">\n<title>geo_mountain&#45;&gt;mountain</title>\n<path fill=\"none\" stroke=\"#000000\" d=\"M460.2902,-53.7181C460.2902,-50.9911 460.2902,-48.1312 460.2902,-45.2673\"/>\n<polygon fill=\"#000000\" stroke=\"#000000\" points=\"463.4403,-45.2631 460.2902,-36.2631 457.1403,-45.2631 463.4403,-45.2631\"/>\n</g>\n<!-- geo_river -->\n<g id=\"node17\" class=\"node\">\n<title>geo_river</title>\n<ellipse fill=\"none\" stroke=\"#000000\" cx=\"561.2902\" cy=\"-126\" rx=\"28.7356\" ry=\"18\"/>\n<text text-anchor=\"middle\" x=\"561.2902\" y=\"-123.8\" font-family=\"Times,serif\" font-size=\"9.00\" fill=\"#000000\">geo_river</text>\n</g>\n<!-- geo_river&#45;&gt;province -->\n<g id=\"edge18\" class=\"edge\">\n<title>geo_river&#45;&gt;province</title>\n<path fill=\"none\" stroke=\"#000000\" d=\"M535.0352,-118.072C523.7691,-114.781 510.4301,-111.0313 498.2902,-108 461.2467,-98.7502 446.9678,-109.7471 414.2902,-90 396.4648,-79.2281 398.1138,-69.5784 384.2902,-54 380.1498,-49.3341 375.625,-44.4209 371.2662,-39.7755\"/>\n<polygon fill=\"#000000\" stroke=\"#000000\" points=\"373.5374,-37.5927 365.0632,-33.2211 368.9617,-41.9231 373.5374,-37.5927\"/>\n</g>\n<!-- river -->\n<g id=\"node18\" class=\"node\">\n<title>river</title>\n<ellipse fill=\"none\" stroke=\"#000000\" cx=\"707.2902\" cy=\"-72\" rx=\"27\" ry=\"18\"/>\n<text text-anchor=\"middle\" x=\"707.2902\" y=\"-69.8\" font-family=\"Times,serif\" font-size=\"9.00\" fill=\"#000000\">river</text>\n</g>\n<!-- geo_river&#45;&gt;river -->\n<g id=\"edge19\" class=\"edge\">\n<title>geo_river&#45;&gt;river</title>\n<path fill=\"none\" stroke=\"#000000\" d=\"M586.3885,-116.7171C610.8539,-107.6682 648.1714,-93.8658 674.8721,-83.9903\"/>\n<polygon fill=\"#000000\" stroke=\"#000000\" points=\"676.1378,-86.8807 683.4862,-80.8042 673.9523,-80.9719 676.1378,-86.8807\"/>\n</g>\n<!-- river&#45;&gt;lake -->\n<g id=\"edge20\" class=\"edge\">\n<title>river&#45;&gt;lake</title>\n<path fill=\"none\" stroke=\"#000000\" d=\"M693.1173,-56.381C688.6868,-51.4984 683.7048,-46.008 678.9243,-40.7396\"/>\n<polygon fill=\"#000000\" stroke=\"#000000\" points=\"680.9816,-38.3193 672.6009,-33.771 676.3161,-42.5529 680.9816,-38.3193\"/>\n</g>\n<!-- river&#45;&gt;river -->\n<g id=\"edge21\" class=\"edge\">\n<title>river&#45;&gt;river</title>\n<path fill=\"none\" stroke=\"#000000\" d=\"M730.0578,-82.0039C739.8803,-82.8229 748.2902,-79.4883 748.2902,-72 748.2902,-67.0858 744.6683,-63.9605 739.4023,-62.6239\"/>\n<polygon fill=\"#000000\" stroke=\"#000000\" points=\"739.2488,-59.4566 730.0578,-61.9961 738.8264,-65.7424 739.2488,-59.4566\"/>\n</g>\n<!-- sea -->\n<g id=\"node20\" class=\"node\">\n<title>sea</title>\n<ellipse fill=\"none\" stroke=\"#000000\" cx=\"764.2902\" cy=\"-18\" rx=\"27\" ry=\"18\"/>\n<text text-anchor=\"middle\" x=\"764.2902\" y=\"-15.8\" font-family=\"Times,serif\" font-size=\"9.00\" fill=\"#000000\">sea</text>\n</g>\n<!-- river&#45;&gt;sea -->\n<g id=\"edge22\" class=\"edge\">\n<title>river&#45;&gt;sea</title>\n<path fill=\"none\" stroke=\"#000000\" d=\"M722.8657,-57.2443C728.7721,-51.6487 735.6181,-45.163 742.0226,-39.0956\"/>\n<polygon fill=\"#000000\" stroke=\"#000000\" points=\"744.3663,-41.2144 748.7335,-32.7379 740.0335,-36.6409 744.3663,-41.2144\"/>\n</g>\n<!-- geo_sea -->\n<g id=\"node19\" class=\"node\">\n<title>geo_sea</title>\n<ellipse fill=\"none\" stroke=\"#000000\" cx=\"609.2902\" cy=\"-72\" rx=\"27\" ry=\"18\"/>\n<text text-anchor=\"middle\" x=\"609.2902\" y=\"-69.8\" font-family=\"Times,serif\" font-size=\"9.00\" fill=\"#000000\">geo_sea</text>\n</g>\n<!-- geo_sea&#45;&gt;province -->\n<g id=\"edge23\" class=\"edge\">\n<title>geo_sea&#45;&gt;province</title>\n<path fill=\"none\" stroke=\"#000000\" d=\"M589.3239,-59.8771C584.839,-57.5994 580.0078,-55.4737 575.2902,-54 510.7782,-33.848 490.801,-48.0087 424.2902,-36 411.0978,-33.6181 396.7475,-30.2994 384.226,-27.1596\"/>\n<polygon fill=\"#000000\" stroke=\"#000000\" points=\"384.9741,-24.0997 375.4742,-24.921 383.4128,-30.2032 384.9741,-24.0997\"/>\n</g>\n<!-- geo_sea&#45;&gt;sea -->\n<g id=\"edge24\" class=\"edge\">\n<title>geo_sea&#45;&gt;sea</title>\n<path fill=\"none\" stroke=\"#000000\" d=\"M633.5089,-63.5625C659.8982,-54.3688 702.2623,-39.6097 731.5903,-29.3922\"/>\n<polygon fill=\"#000000\" stroke=\"#000000\" points=\"732.7788,-32.3139 740.2415,-26.3783 730.7061,-26.3646 732.7788,-32.3139\"/>\n</g>\n<!-- is_member -->\n<g id=\"node21\" class=\"node\">\n<title>is_member</title>\n<ellipse fill=\"none\" stroke=\"#000000\" cx=\"539.2902\" cy=\"-180\" rx=\"32.1641\" ry=\"18\"/>\n<text text-anchor=\"middle\" x=\"539.2902\" y=\"-177.8\" font-family=\"Times,serif\" font-size=\"9.00\" fill=\"#000000\">is_member</text>\n</g>\n<!-- is_member&#45;&gt;country -->\n<g id=\"edge25\" class=\"edge\">\n<title>is_member&#45;&gt;country</title>\n<path fill=\"none\" stroke=\"#000000\" d=\"M515.2952,-167.8879C510.4107,-165.7191 505.2481,-163.6332 500.2902,-162 498.6266,-161.452 411.6772,-143.548 361.3401,-133.2002\"/>\n<polygon fill=\"#000000\" stroke=\"#000000\" points=\"361.8459,-130.0884 352.396,-131.3619 360.5775,-136.2594 361.8459,-130.0884\"/>\n</g>\n<!-- organization -->\n<g id=\"node22\" class=\"node\">\n<title>organization</title>\n<ellipse fill=\"none\" stroke=\"#000000\" cx=\"456.2902\" cy=\"-126\" rx=\"34.7826\" ry=\"18\"/>\n<text text-anchor=\"middle\" x=\"456.2902\" y=\"-123.8\" font-family=\"Times,serif\" font-size=\"9.00\" fill=\"#000000\">organization</text>\n</g>\n<!-- is_member&#45;&gt;organization -->\n<g id=\"edge26\" class=\"edge\">\n<title>is_member&#45;&gt;organization</title>\n<path fill=\"none\" stroke=\"#000000\" d=\"M517.9156,-166.0937C508.1937,-159.7685 496.5274,-152.1785 485.9735,-145.3121\"/>\n<polygon fill=\"#000000\" stroke=\"#000000\" points=\"487.4321,-142.5031 478.1704,-140.2353 483.9964,-147.7838 487.4321,-142.5031\"/>\n</g>\n<!-- organization&#45;&gt;city -->\n<g id=\"edge27\" class=\"edge\">\n<title>organization&#45;&gt;city</title>\n<path fill=\"none\" stroke=\"#000000\" d=\"M431.4379,-113.3394C416.0136,-105.4818 396.1087,-95.3415 379.8732,-87.0706\"/>\n<polygon fill=\"#000000\" stroke=\"#000000\" points=\"381.21,-84.2165 371.7608,-82.9379 378.3503,-89.83 381.21,-84.2165\"/>\n</g>\n<!-- language -->\n<g id=\"node23\" class=\"node\">\n<title>language</title>\n<ellipse fill=\"none\" stroke=\"#000000\" cx=\"185.2902\" cy=\"-180\" rx=\"27.9273\" ry=\"18\"/>\n<text text-anchor=\"middle\" x=\"185.2902\" y=\"-177.8\" font-family=\"Times,serif\" font-size=\"9.00\" fill=\"#000000\">language</text>\n</g>\n<!-- language&#45;&gt;country -->\n<g id=\"edge28\" class=\"edge\">\n<title>language&#45;&gt;country</title>\n<path fill=\"none\" stroke=\"#000000\" d=\"M206.8974,-168.2596C211.2749,-166.0601 215.887,-163.8679 220.2902,-162 244.0863,-151.9053 271.7675,-142.5828 292.8741,-135.9548\"/>\n<polygon fill=\"#000000\" stroke=\"#000000\" points=\"293.8231,-138.9586 301.4867,-133.2848 291.9576,-132.9411 293.8231,-138.9586\"/>\n</g>\n<!-- located -->\n<g id=\"node24\" class=\"node\">\n<title>located</title>\n<ellipse fill=\"none\" stroke=\"#000000\" cx=\"658.2902\" cy=\"-126\" rx=\"27\" ry=\"18\"/>\n<text text-anchor=\"middle\" x=\"658.2902\" y=\"-123.8\" font-family=\"Times,serif\" font-size=\"9.00\" fill=\"#000000\">located</text>\n</g>\n<!-- located&#45;&gt;city -->\n<g id=\"edge32\" class=\"edge\">\n<title>located&#45;&gt;city</title>\n<path fill=\"none\" stroke=\"#000000\" d=\"M634.2104,-117.7521C623.0931,-114.2409 609.6452,-110.4081 597.2902,-108 517.0738,-92.3654 494.6048,-105.122 414.2902,-90 404.1294,-88.0869 393.2433,-85.3087 383.3835,-82.5051\"/>\n<polygon fill=\"#000000\" stroke=\"#000000\" points=\"384.1902,-79.4591 374.6674,-79.9473 382.4162,-85.5041 384.1902,-79.4591\"/>\n</g>\n<!-- located&#45;&gt;lake -->\n<g id=\"edge30\" class=\"edge\">\n<title>located&#45;&gt;lake</title>\n<path fill=\"none\" stroke=\"#000000\" d=\"M658.2902,-107.6793C658.2902,-90.5088 658.2902,-64.6268 658.2902,-45.0743\"/>\n<polygon fill=\"#000000\" stroke=\"#000000\" points=\"661.4403,-45.0501 658.2902,-36.0502 655.1403,-45.0502 661.4403,-45.0501\"/>\n</g>\n<!-- located&#45;&gt;river -->\n<g id=\"edge31\" class=\"edge\">\n<title>located&#45;&gt;river</title>\n<path fill=\"none\" stroke=\"#000000\" d=\"M672.463,-110.381C676.8935,-105.4984 681.8755,-100.008 686.6561,-94.7396\"/>\n<polygon fill=\"#000000\" stroke=\"#000000\" points=\"689.2643,-96.5529 692.9794,-87.771 684.5987,-92.3193 689.2643,-96.5529\"/>\n</g>\n<!-- located&#45;&gt;sea -->\n<g id=\"edge29\" class=\"edge\">\n<title>located&#45;&gt;sea</title>\n<path fill=\"none\" stroke=\"#000000\" d=\"M678.2547,-113.8716C682.7398,-111.5942 687.5714,-109.47 692.2902,-108 724.9753,-97.8175 822.5409,-115.5826 845.2902,-90 855.9224,-78.0436 854.0088,-67.4159 845.2902,-54 835.1724,-38.4312 816.5989,-29.5411 799.7877,-24.4925\"/>\n<polygon fill=\"#000000\" stroke=\"#000000\" points=\"800.2024,-21.3429 790.6944,-22.0649 798.5774,-27.4298 800.2024,-21.3429\"/>\n</g>\n<!-- merges_with -->\n<g id=\"node25\" class=\"node\">\n<title>merges_with</title>\n<ellipse fill=\"none\" stroke=\"#000000\" cx=\"802.2902\" cy=\"-72\" rx=\"35.5926\" ry=\"18\"/>\n<text text-anchor=\"middle\" x=\"802.2902\" y=\"-69.8\" font-family=\"Times,serif\" font-size=\"9.00\" fill=\"#000000\">merges_with</text>\n</g>\n<!-- merges_with&#45;&gt;sea -->\n<g id=\"edge33\" class=\"edge\">\n<title>merges_with&#45;&gt;sea</title>\n<path fill=\"none\" stroke=\"#000000\" d=\"M790.2667,-54.9141C787.3857,-50.8199 784.2561,-46.3726 781.1996,-42.0292\"/>\n<polygon fill=\"#000000\" stroke=\"#000000\" points=\"783.6018,-39.9692 775.8462,-34.4217 778.4496,-43.5948 783.6018,-39.9692\"/>\n</g>\n<!-- politics -->\n<g id=\"node26\" class=\"node\">\n<title>politics</title>\n<ellipse fill=\"none\" stroke=\"#000000\" cx=\"254.2902\" cy=\"-180\" rx=\"27\" ry=\"18\"/>\n<text text-anchor=\"middle\" x=\"254.2902\" y=\"-177.8\" font-family=\"Times,serif\" font-size=\"9.00\" fill=\"#000000\">politics</text>\n</g>\n<!-- politics&#45;&gt;country -->\n<g id=\"edge34\" class=\"edge\">\n<title>politics&#45;&gt;country</title>\n<path fill=\"none\" stroke=\"#000000\" d=\"M272.4588,-166.3735C281.0054,-159.9636 291.3458,-152.2082 300.6703,-145.2149\"/>\n<polygon fill=\"#000000\" stroke=\"#000000\" points=\"302.5669,-147.73 307.8769,-139.81 298.7869,-142.69 302.5669,-147.73\"/>\n</g>\n<!-- population -->\n<g id=\"node27\" class=\"node\">\n<title>population</title>\n<ellipse fill=\"none\" stroke=\"#000000\" cx=\"326.2902\" cy=\"-180\" rx=\"31.3548\" ry=\"18\"/>\n<text text-anchor=\"middle\" x=\"326.2902\" y=\"-177.8\" font-family=\"Times,serif\" font-size=\"9.00\" fill=\"#000000\">population</text>\n</g>\n<!-- population&#45;&gt;country -->\n<g id=\"edge35\" class=\"edge\">\n<title>population&#45;&gt;country</title>\n<path fill=\"none\" stroke=\"#000000\" d=\"M326.2902,-161.7181C326.2902,-158.9911 326.2902,-156.1312 326.2902,-153.2673\"/>\n<polygon fill=\"#000000\" stroke=\"#000000\" points=\"329.4403,-153.2631 326.2902,-144.2631 323.1403,-153.2631 329.4403,-153.2631\"/>\n</g>\n<!-- religion -->\n<g id=\"node28\" class=\"node\">\n<title>religion</title>\n<ellipse fill=\"none\" stroke=\"#000000\" cx=\"398.2902\" cy=\"-180\" rx=\"27\" ry=\"18\"/>\n<text text-anchor=\"middle\" x=\"398.2902\" y=\"-177.8\" font-family=\"Times,serif\" font-size=\"9.00\" fill=\"#000000\">religion</text>\n</g>\n<!-- religion&#45;&gt;country -->\n<g id=\"edge36\" class=\"edge\">\n<title>religion&#45;&gt;country</title>\n<path fill=\"none\" stroke=\"#000000\" d=\"M380.1215,-166.3735C371.5749,-159.9636 361.2345,-152.2082 351.91,-145.2149\"/>\n<polygon fill=\"#000000\" stroke=\"#000000\" points=\"353.7935,-142.69 344.7034,-139.81 350.0134,-147.73 353.7935,-142.69\"/>\n</g>\n</g>\n</svg>\n"
          },
          "metadata": {}
        }
      ]
    },
    {
      "cell_type": "markdown",
      "source": [
        "\n",
        "### Example Queries\n"
      ],
      "metadata": {
        "id": "1J_9frEYlbB9"
      }
    },
    {
      "cell_type": "markdown",
      "source": [
        "#### Keywords present in more than one keyword match"
      ],
      "metadata": {
        "id": "Ozqp7FgWm6Ct"
      }
    },
    {
      "cell_type": "code",
      "source": [
        "results = lathe.keyword_search('john travolta olivia films')\n",
        "results.cjns(text=False,sql=False)"
      ],
      "metadata": {
        "colab": {
          "base_uri": "https://localhost:8080/",
          "height": 876
        },
        "id": "-vPSeS2vZ9kS",
        "outputId": "cfe443f3-1ece-4bad-c00a-0243618cfa4c"
      },
      "execution_count": 73,
      "outputs": [
        {
          "output_type": "stream",
          "name": "stdout",
          "text": [
            "Keyword Query: john travolta olivia films\n"
          ]
        },
        {
          "output_type": "display_data",
          "data": {
            "text/plain": [
              "<IPython.core.display.Markdown object>"
            ],
            "text/markdown": "---"
          },
          "metadata": {}
        },
        {
          "output_type": "display_data",
          "data": {
            "text/plain": [
              "<IPython.core.display.Markdown object>"
            ],
            "text/markdown": "**1st CJN**:"
          },
          "metadata": {}
        },
        {
          "output_type": "display_data",
          "data": {
            "text/plain": [
              "<IPython.core.display.Markdown object>"
            ],
            "text/markdown": "---"
          },
          "metadata": {}
        },
        {
          "output_type": "stream",
          "name": "stdout",
          "text": [
            "Graph:\n"
          ]
        },
        {
          "output_type": "display_data",
          "data": {
            "text/plain": [
              "<graphviz.dot.Digraph at 0x7fcd1ab1add0>"
            ],
            "image/svg+xml": "<?xml version=\"1.0\" encoding=\"UTF-8\" standalone=\"no\"?>\n<!DOCTYPE svg PUBLIC \"-//W3C//DTD SVG 1.1//EN\"\n \"http://www.w3.org/Graphics/SVG/1.1/DTD/svg11.dtd\">\n<!-- Generated by graphviz version 2.40.1 (20161225.0304)\n -->\n<!-- Title: %3 Pages: 1 -->\n<svg width=\"448pt\" height=\"98pt\"\n viewBox=\"0.00 0.00 448.15 98.00\" xmlns=\"http://www.w3.org/2000/svg\" xmlns:xlink=\"http://www.w3.org/1999/xlink\">\n<g id=\"graph0\" class=\"graph\" transform=\"scale(1 1) rotate(0) translate(4 94)\">\n<title>%3</title>\n<polygon fill=\"#ffffff\" stroke=\"transparent\" points=\"-4,4 -4,-94 444.1525,-94 444.1525,4 -4,4\"/>\n<!-- t1 -->\n<g id=\"node1\" class=\"node\">\n<title>t1</title>\n<ellipse fill=\"none\" stroke=\"#000000\" cx=\"75.0555\" cy=\"-18\" rx=\"75.1111\" ry=\"18\"/>\n<text text-anchor=\"middle\" x=\"75.0555\" y=\"-15.8\" font-family=\"Times,serif\" font-size=\"9.00\" fill=\"#000000\">PERSON.v(name{olivia,john})</text>\n</g>\n<!-- t2 -->\n<g id=\"node2\" class=\"node\">\n<title>t2</title>\n<ellipse fill=\"none\" stroke=\"#000000\" cx=\"161.0555\" cy=\"-72\" rx=\"32.1641\" ry=\"18\"/>\n<text text-anchor=\"middle\" x=\"161.0555\" y=\"-69.8\" font-family=\"Times,serif\" font-size=\"9.00\" fill=\"#000000\">CASTING</text>\n</g>\n<!-- t2&#45;&gt;t1 -->\n<g id=\"edge2\" class=\"edge\">\n<title>t2&#45;&gt;t1</title>\n<path fill=\"none\" stroke=\"#000000\" d=\"M139.3541,-58.3735C130.4021,-52.7525 119.8024,-46.0969 109.8182,-39.8277\"/>\n<polygon fill=\"#000000\" stroke=\"#000000\" points=\"111.2834,-37.0283 101.9863,-34.91 107.9333,-42.3637 111.2834,-37.0283\"/>\n</g>\n<!-- t3 -->\n<g id=\"node3\" class=\"node\">\n<title>t3</title>\n<ellipse fill=\"none\" stroke=\"#000000\" cx=\"216.0555\" cy=\"-18\" rx=\"51.9231\" ry=\"18\"/>\n<text text-anchor=\"middle\" x=\"216.0555\" y=\"-15.8\" font-family=\"Times,serif\" font-size=\"9.00\" fill=\"#000000\">MOVIE.s(*{films})</text>\n</g>\n<!-- t2&#45;&gt;t3 -->\n<g id=\"edge1\" class=\"edge\">\n<title>t2&#45;&gt;t3</title>\n<path fill=\"none\" stroke=\"#000000\" d=\"M177.2599,-56.0903C181.8782,-51.5559 187.011,-46.5164 191.9911,-41.6269\"/>\n<polygon fill=\"#000000\" stroke=\"#000000\" points=\"194.4096,-43.6668 198.6249,-35.1138 189.9959,-39.1714 194.4096,-43.6668\"/>\n</g>\n<!-- t4 -->\n<g id=\"node4\" class=\"node\">\n<title>t4</title>\n<ellipse fill=\"none\" stroke=\"#000000\" cx=\"271.0555\" cy=\"-72\" rx=\"32.1641\" ry=\"18\"/>\n<text text-anchor=\"middle\" x=\"271.0555\" y=\"-69.8\" font-family=\"Times,serif\" font-size=\"9.00\" fill=\"#000000\">CASTING</text>\n</g>\n<!-- t4&#45;&gt;t3 -->\n<g id=\"edge3\" class=\"edge\">\n<title>t4&#45;&gt;t3</title>\n<path fill=\"none\" stroke=\"#000000\" d=\"M254.8512,-56.0903C250.2328,-51.5559 245.1,-46.5164 240.12,-41.6269\"/>\n<polygon fill=\"#000000\" stroke=\"#000000\" points=\"242.1152,-39.1714 233.4862,-35.1138 237.7014,-43.6668 242.1152,-39.1714\"/>\n</g>\n<!-- t5 -->\n<g id=\"node5\" class=\"node\">\n<title>t5</title>\n<ellipse fill=\"none\" stroke=\"#000000\" cx=\"361.0555\" cy=\"-18\" rx=\"79.1941\" ry=\"18\"/>\n<text text-anchor=\"middle\" x=\"361.0555\" y=\"-15.8\" font-family=\"Times,serif\" font-size=\"9.00\" fill=\"#000000\">PERSON.v(name{travolta,john})</text>\n</g>\n<!-- t4&#45;&gt;t5 -->\n<g id=\"edge4\" class=\"edge\">\n<title>t4&#45;&gt;t5</title>\n<path fill=\"none\" stroke=\"#000000\" d=\"M293.3027,-58.6517C302.8432,-52.9274 314.2354,-46.0921 324.9309,-39.6748\"/>\n<polygon fill=\"#000000\" stroke=\"#000000\" points=\"326.8351,-42.2058 332.9319,-34.8742 323.5937,-36.8036 326.8351,-42.2058\"/>\n</g>\n</g>\n</svg>\n"
          },
          "metadata": {}
        },
        {
          "output_type": "display_data",
          "data": {
            "text/plain": [
              "<IPython.core.display.Markdown object>"
            ],
            "text/markdown": "---"
          },
          "metadata": {}
        },
        {
          "output_type": "stream",
          "name": "stdout",
          "text": [
            "JNTs:\n"
          ]
        },
        {
          "output_type": "display_data",
          "data": {
            "text/plain": [
              "       id          title imdb_index  kind_id  year imdb_id phonetic_code  \\\n",
              "0  199214         Grease       None        1  1978    None           G62   \n",
              "1  559385  Two of a Kind       None        1  1983    None         T1253   \n",
              "2  504851       The Guru       None        1  2002    None            G6   \n",
              "\n",
              "  episode_of_id season_nr episode_nr series_years  __search_id  \\\n",
              "0          None      None       None         None     43908386   \n",
              "1          None      None       None         None     44303665   \n",
              "2          None      None       None         None     44255543   \n",
              "\n",
              "                  name            name  \n",
              "0  Newton-John, Olivia  Travolta, John  \n",
              "1  Newton-John, Olivia  Travolta, John  \n",
              "2  Newton-John, Olivia  Travolta, John  "
            ],
            "text/html": [
              "\n",
              "  <div id=\"df-2e032d40-228b-43e7-a247-87579a9f9242\">\n",
              "    <div class=\"colab-df-container\">\n",
              "      <div>\n",
              "<style scoped>\n",
              "    .dataframe tbody tr th:only-of-type {\n",
              "        vertical-align: middle;\n",
              "    }\n",
              "\n",
              "    .dataframe tbody tr th {\n",
              "        vertical-align: top;\n",
              "    }\n",
              "\n",
              "    .dataframe thead th {\n",
              "        text-align: right;\n",
              "    }\n",
              "</style>\n",
              "<table border=\"1\" class=\"dataframe\">\n",
              "  <thead>\n",
              "    <tr style=\"text-align: right;\">\n",
              "      <th></th>\n",
              "      <th>id</th>\n",
              "      <th>title</th>\n",
              "      <th>imdb_index</th>\n",
              "      <th>kind_id</th>\n",
              "      <th>year</th>\n",
              "      <th>imdb_id</th>\n",
              "      <th>phonetic_code</th>\n",
              "      <th>episode_of_id</th>\n",
              "      <th>season_nr</th>\n",
              "      <th>episode_nr</th>\n",
              "      <th>series_years</th>\n",
              "      <th>__search_id</th>\n",
              "      <th>name</th>\n",
              "      <th>name</th>\n",
              "    </tr>\n",
              "  </thead>\n",
              "  <tbody>\n",
              "    <tr>\n",
              "      <th>0</th>\n",
              "      <td>199214</td>\n",
              "      <td>Grease</td>\n",
              "      <td>None</td>\n",
              "      <td>1</td>\n",
              "      <td>1978</td>\n",
              "      <td>None</td>\n",
              "      <td>G62</td>\n",
              "      <td>None</td>\n",
              "      <td>None</td>\n",
              "      <td>None</td>\n",
              "      <td>None</td>\n",
              "      <td>43908386</td>\n",
              "      <td>Newton-John, Olivia</td>\n",
              "      <td>Travolta, John</td>\n",
              "    </tr>\n",
              "    <tr>\n",
              "      <th>1</th>\n",
              "      <td>559385</td>\n",
              "      <td>Two of a Kind</td>\n",
              "      <td>None</td>\n",
              "      <td>1</td>\n",
              "      <td>1983</td>\n",
              "      <td>None</td>\n",
              "      <td>T1253</td>\n",
              "      <td>None</td>\n",
              "      <td>None</td>\n",
              "      <td>None</td>\n",
              "      <td>None</td>\n",
              "      <td>44303665</td>\n",
              "      <td>Newton-John, Olivia</td>\n",
              "      <td>Travolta, John</td>\n",
              "    </tr>\n",
              "    <tr>\n",
              "      <th>2</th>\n",
              "      <td>504851</td>\n",
              "      <td>The Guru</td>\n",
              "      <td>None</td>\n",
              "      <td>1</td>\n",
              "      <td>2002</td>\n",
              "      <td>None</td>\n",
              "      <td>G6</td>\n",
              "      <td>None</td>\n",
              "      <td>None</td>\n",
              "      <td>None</td>\n",
              "      <td>None</td>\n",
              "      <td>44255543</td>\n",
              "      <td>Newton-John, Olivia</td>\n",
              "      <td>Travolta, John</td>\n",
              "    </tr>\n",
              "  </tbody>\n",
              "</table>\n",
              "</div>\n",
              "      <button class=\"colab-df-convert\" onclick=\"convertToInteractive('df-2e032d40-228b-43e7-a247-87579a9f9242')\"\n",
              "              title=\"Convert this dataframe to an interactive table.\"\n",
              "              style=\"display:none;\">\n",
              "        \n",
              "  <svg xmlns=\"http://www.w3.org/2000/svg\" height=\"24px\"viewBox=\"0 0 24 24\"\n",
              "       width=\"24px\">\n",
              "    <path d=\"M0 0h24v24H0V0z\" fill=\"none\"/>\n",
              "    <path d=\"M18.56 5.44l.94 2.06.94-2.06 2.06-.94-2.06-.94-.94-2.06-.94 2.06-2.06.94zm-11 1L8.5 8.5l.94-2.06 2.06-.94-2.06-.94L8.5 2.5l-.94 2.06-2.06.94zm10 10l.94 2.06.94-2.06 2.06-.94-2.06-.94-.94-2.06-.94 2.06-2.06.94z\"/><path d=\"M17.41 7.96l-1.37-1.37c-.4-.4-.92-.59-1.43-.59-.52 0-1.04.2-1.43.59L10.3 9.45l-7.72 7.72c-.78.78-.78 2.05 0 2.83L4 21.41c.39.39.9.59 1.41.59.51 0 1.02-.2 1.41-.59l7.78-7.78 2.81-2.81c.8-.78.8-2.07 0-2.86zM5.41 20L4 18.59l7.72-7.72 1.47 1.35L5.41 20z\"/>\n",
              "  </svg>\n",
              "      </button>\n",
              "      \n",
              "  <style>\n",
              "    .colab-df-container {\n",
              "      display:flex;\n",
              "      flex-wrap:wrap;\n",
              "      gap: 12px;\n",
              "    }\n",
              "\n",
              "    .colab-df-convert {\n",
              "      background-color: #E8F0FE;\n",
              "      border: none;\n",
              "      border-radius: 50%;\n",
              "      cursor: pointer;\n",
              "      display: none;\n",
              "      fill: #1967D2;\n",
              "      height: 32px;\n",
              "      padding: 0 0 0 0;\n",
              "      width: 32px;\n",
              "    }\n",
              "\n",
              "    .colab-df-convert:hover {\n",
              "      background-color: #E2EBFA;\n",
              "      box-shadow: 0px 1px 2px rgba(60, 64, 67, 0.3), 0px 1px 3px 1px rgba(60, 64, 67, 0.15);\n",
              "      fill: #174EA6;\n",
              "    }\n",
              "\n",
              "    [theme=dark] .colab-df-convert {\n",
              "      background-color: #3B4455;\n",
              "      fill: #D2E3FC;\n",
              "    }\n",
              "\n",
              "    [theme=dark] .colab-df-convert:hover {\n",
              "      background-color: #434B5C;\n",
              "      box-shadow: 0px 1px 3px 1px rgba(0, 0, 0, 0.15);\n",
              "      filter: drop-shadow(0px 1px 2px rgba(0, 0, 0, 0.3));\n",
              "      fill: #FFFFFF;\n",
              "    }\n",
              "  </style>\n",
              "\n",
              "      <script>\n",
              "        const buttonEl =\n",
              "          document.querySelector('#df-2e032d40-228b-43e7-a247-87579a9f9242 button.colab-df-convert');\n",
              "        buttonEl.style.display =\n",
              "          google.colab.kernel.accessAllowed ? 'block' : 'none';\n",
              "\n",
              "        async function convertToInteractive(key) {\n",
              "          const element = document.querySelector('#df-2e032d40-228b-43e7-a247-87579a9f9242');\n",
              "          const dataTable =\n",
              "            await google.colab.kernel.invokeFunction('convertToInteractive',\n",
              "                                                     [key], {});\n",
              "          if (!dataTable) return;\n",
              "\n",
              "          const docLinkHtml = 'Like what you see? Visit the ' +\n",
              "            '<a target=\"_blank\" href=https://colab.research.google.com/notebooks/data_table.ipynb>data table notebook</a>'\n",
              "            + ' to learn more about interactive tables.';\n",
              "          element.innerHTML = '';\n",
              "          dataTable['output_type'] = 'display_data';\n",
              "          await google.colab.output.renderOutput(dataTable, element);\n",
              "          const docLink = document.createElement('div');\n",
              "          docLink.innerHTML = docLinkHtml;\n",
              "          element.appendChild(docLink);\n",
              "        }\n",
              "      </script>\n",
              "    </div>\n",
              "  </div>\n",
              "  "
            ],
            "application/vnd.google.colaboratory.module+javascript": "\n      import \"https://ssl.gstatic.com/colaboratory/data_table/f872b2c2305463fd/data_table.js\";\n\n      window.createDataTable({\n        data: [[{\n            'v': 0,\n            'f': \"0\",\n        },\n{\n            'v': 199214,\n            'f': \"199214\",\n        },\n\"Grease\",\n{\n            'v': null,\n            'f': \"null\",\n        },\n{\n            'v': 1,\n            'f': \"1\",\n        },\n{\n            'v': 1978,\n            'f': \"1978\",\n        },\n{\n            'v': null,\n            'f': \"null\",\n        },\n\"G62\",\n{\n            'v': null,\n            'f': \"null\",\n        },\n{\n            'v': null,\n            'f': \"null\",\n        },\n{\n            'v': null,\n            'f': \"null\",\n        },\n{\n            'v': null,\n            'f': \"null\",\n        },\n{\n            'v': 43908386,\n            'f': \"43908386\",\n        },\n\"Newton-John, Olivia\",\n\"Travolta, John\"],\n [{\n            'v': 1,\n            'f': \"1\",\n        },\n{\n            'v': 559385,\n            'f': \"559385\",\n        },\n\"Two of a Kind\",\n{\n            'v': null,\n            'f': \"null\",\n        },\n{\n            'v': 1,\n            'f': \"1\",\n        },\n{\n            'v': 1983,\n            'f': \"1983\",\n        },\n{\n            'v': null,\n            'f': \"null\",\n        },\n\"T1253\",\n{\n            'v': null,\n            'f': \"null\",\n        },\n{\n            'v': null,\n            'f': \"null\",\n        },\n{\n            'v': null,\n            'f': \"null\",\n        },\n{\n            'v': null,\n            'f': \"null\",\n        },\n{\n            'v': 44303665,\n            'f': \"44303665\",\n        },\n\"Newton-John, Olivia\",\n\"Travolta, John\"],\n [{\n            'v': 2,\n            'f': \"2\",\n        },\n{\n            'v': 504851,\n            'f': \"504851\",\n        },\n\"The Guru\",\n{\n            'v': null,\n            'f': \"null\",\n        },\n{\n            'v': 1,\n            'f': \"1\",\n        },\n{\n            'v': 2002,\n            'f': \"2002\",\n        },\n{\n            'v': null,\n            'f': \"null\",\n        },\n\"G6\",\n{\n            'v': null,\n            'f': \"null\",\n        },\n{\n            'v': null,\n            'f': \"null\",\n        },\n{\n            'v': null,\n            'f': \"null\",\n        },\n{\n            'v': null,\n            'f': \"null\",\n        },\n{\n            'v': 44255543,\n            'f': \"44255543\",\n        },\n\"Newton-John, Olivia\",\n\"Travolta, John\"]],\n        columns: [[\"number\", \"index\"], [\"number\", \"id\"], [\"string\", \"title\"], [\"number\", \"imdb_index\"], [\"number\", \"kind_id\"], [\"number\", \"year\"], [\"number\", \"imdb_id\"], [\"string\", \"phonetic_code\"], [\"number\", \"episode_of_id\"], [\"number\", \"season_nr\"], [\"number\", \"episode_nr\"], [\"number\", \"series_years\"], [\"number\", \"__search_id\"], [\"string\", \"name\"], [\"string\", \"name\"]],\n        columnOptions: [{\"width\": \"1px\", \"className\": \"index_column\"}],\n        rowsPerPage: 25,\n        helpUrl: \"https://colab.research.google.com/notebooks/data_table.ipynb\",\n        suppressOutputScrolling: true,\n        minimumWidth: undefined,\n      });\n    "
          },
          "metadata": {}
        },
        {
          "output_type": "stream",
          "name": "stdout",
          "text": [
            "\n"
          ]
        },
        {
          "output_type": "display_data",
          "data": {
            "text/plain": [
              "<IPython.core.display.Markdown object>"
            ],
            "text/markdown": "---"
          },
          "metadata": {}
        },
        {
          "output_type": "display_data",
          "data": {
            "text/plain": [
              "<IPython.core.display.Markdown object>"
            ],
            "text/markdown": "**2nd CJN**:"
          },
          "metadata": {}
        },
        {
          "output_type": "display_data",
          "data": {
            "text/plain": [
              "<IPython.core.display.Markdown object>"
            ],
            "text/markdown": "---"
          },
          "metadata": {}
        },
        {
          "output_type": "stream",
          "name": "stdout",
          "text": [
            "Graph:\n"
          ]
        },
        {
          "output_type": "display_data",
          "data": {
            "text/plain": [
              "<graphviz.dot.Digraph at 0x7fcd1ab1af90>"
            ],
            "image/svg+xml": "<?xml version=\"1.0\" encoding=\"UTF-8\" standalone=\"no\"?>\n<!DOCTYPE svg PUBLIC \"-//W3C//DTD SVG 1.1//EN\"\n \"http://www.w3.org/Graphics/SVG/1.1/DTD/svg11.dtd\">\n<!-- Generated by graphviz version 2.40.1 (20161225.0304)\n -->\n<!-- Title: %3 Pages: 1 -->\n<svg width=\"204pt\" height=\"98pt\"\n viewBox=\"0.00 0.00 204.30 98.00\" xmlns=\"http://www.w3.org/2000/svg\" xmlns:xlink=\"http://www.w3.org/1999/xlink\">\n<g id=\"graph0\" class=\"graph\" transform=\"scale(1 1) rotate(0) translate(4 94)\">\n<title>%3</title>\n<polygon fill=\"#ffffff\" stroke=\"transparent\" points=\"-4,4 -4,-94 200.2991,-94 200.2991,4 -4,4\"/>\n<!-- t1 -->\n<g id=\"node1\" class=\"node\">\n<title>t1</title>\n<ellipse fill=\"none\" stroke=\"#000000\" cx=\"98.1495\" cy=\"-72\" rx=\"98.2993\" ry=\"18\"/>\n<text text-anchor=\"middle\" x=\"98.1495\" y=\"-69.8\" font-family=\"Times,serif\" font-size=\"9.00\" fill=\"#000000\">MOVIEINFO.v(info{travolta,olivia,john})</text>\n</g>\n<!-- t2 -->\n<g id=\"node2\" class=\"node\">\n<title>t2</title>\n<ellipse fill=\"none\" stroke=\"#000000\" cx=\"98.1495\" cy=\"-18\" rx=\"51.9231\" ry=\"18\"/>\n<text text-anchor=\"middle\" x=\"98.1495\" y=\"-15.8\" font-family=\"Times,serif\" font-size=\"9.00\" fill=\"#000000\">MOVIE.s(*{films})</text>\n</g>\n<!-- t1&#45;&gt;t2 -->\n<g id=\"edge1\" class=\"edge\">\n<title>t1&#45;&gt;t2</title>\n<path fill=\"none\" stroke=\"#000000\" d=\"M98.1495,-53.7181C98.1495,-50.9911 98.1495,-48.1312 98.1495,-45.2673\"/>\n<polygon fill=\"#000000\" stroke=\"#000000\" points=\"101.2996,-45.2631 98.1495,-36.2631 94.9996,-45.2631 101.2996,-45.2631\"/>\n</g>\n</g>\n</svg>\n"
          },
          "metadata": {}
        },
        {
          "output_type": "display_data",
          "data": {
            "text/plain": [
              "<IPython.core.display.Markdown object>"
            ],
            "text/markdown": "---"
          },
          "metadata": {}
        },
        {
          "output_type": "stream",
          "name": "stdout",
          "text": [
            "JNTs:\n"
          ]
        },
        {
          "output_type": "display_data",
          "data": {
            "text/plain": [
              "       id                   title imdb_index  kind_id  year imdb_id  \\\n",
              "0  510494  The Last Days of Disco       None        1  1998    None   \n",
              "\n",
              "  phonetic_code episode_of_id season_nr episode_nr series_years  __search_id  \\\n",
              "0         L2321          None      None       None         None     44283571   \n",
              "\n",
              "                                                info  \n",
              "0  Josh Neff: Disco will never be over. It will a...  "
            ],
            "text/html": [
              "\n",
              "  <div id=\"df-e73d7c02-3306-4d5b-a52f-a48df8556b23\">\n",
              "    <div class=\"colab-df-container\">\n",
              "      <div>\n",
              "<style scoped>\n",
              "    .dataframe tbody tr th:only-of-type {\n",
              "        vertical-align: middle;\n",
              "    }\n",
              "\n",
              "    .dataframe tbody tr th {\n",
              "        vertical-align: top;\n",
              "    }\n",
              "\n",
              "    .dataframe thead th {\n",
              "        text-align: right;\n",
              "    }\n",
              "</style>\n",
              "<table border=\"1\" class=\"dataframe\">\n",
              "  <thead>\n",
              "    <tr style=\"text-align: right;\">\n",
              "      <th></th>\n",
              "      <th>id</th>\n",
              "      <th>title</th>\n",
              "      <th>imdb_index</th>\n",
              "      <th>kind_id</th>\n",
              "      <th>year</th>\n",
              "      <th>imdb_id</th>\n",
              "      <th>phonetic_code</th>\n",
              "      <th>episode_of_id</th>\n",
              "      <th>season_nr</th>\n",
              "      <th>episode_nr</th>\n",
              "      <th>series_years</th>\n",
              "      <th>__search_id</th>\n",
              "      <th>info</th>\n",
              "    </tr>\n",
              "  </thead>\n",
              "  <tbody>\n",
              "    <tr>\n",
              "      <th>0</th>\n",
              "      <td>510494</td>\n",
              "      <td>The Last Days of Disco</td>\n",
              "      <td>None</td>\n",
              "      <td>1</td>\n",
              "      <td>1998</td>\n",
              "      <td>None</td>\n",
              "      <td>L2321</td>\n",
              "      <td>None</td>\n",
              "      <td>None</td>\n",
              "      <td>None</td>\n",
              "      <td>None</td>\n",
              "      <td>44283571</td>\n",
              "      <td>Josh Neff: Disco will never be over. It will a...</td>\n",
              "    </tr>\n",
              "  </tbody>\n",
              "</table>\n",
              "</div>\n",
              "      <button class=\"colab-df-convert\" onclick=\"convertToInteractive('df-e73d7c02-3306-4d5b-a52f-a48df8556b23')\"\n",
              "              title=\"Convert this dataframe to an interactive table.\"\n",
              "              style=\"display:none;\">\n",
              "        \n",
              "  <svg xmlns=\"http://www.w3.org/2000/svg\" height=\"24px\"viewBox=\"0 0 24 24\"\n",
              "       width=\"24px\">\n",
              "    <path d=\"M0 0h24v24H0V0z\" fill=\"none\"/>\n",
              "    <path d=\"M18.56 5.44l.94 2.06.94-2.06 2.06-.94-2.06-.94-.94-2.06-.94 2.06-2.06.94zm-11 1L8.5 8.5l.94-2.06 2.06-.94-2.06-.94L8.5 2.5l-.94 2.06-2.06.94zm10 10l.94 2.06.94-2.06 2.06-.94-2.06-.94-.94-2.06-.94 2.06-2.06.94z\"/><path d=\"M17.41 7.96l-1.37-1.37c-.4-.4-.92-.59-1.43-.59-.52 0-1.04.2-1.43.59L10.3 9.45l-7.72 7.72c-.78.78-.78 2.05 0 2.83L4 21.41c.39.39.9.59 1.41.59.51 0 1.02-.2 1.41-.59l7.78-7.78 2.81-2.81c.8-.78.8-2.07 0-2.86zM5.41 20L4 18.59l7.72-7.72 1.47 1.35L5.41 20z\"/>\n",
              "  </svg>\n",
              "      </button>\n",
              "      \n",
              "  <style>\n",
              "    .colab-df-container {\n",
              "      display:flex;\n",
              "      flex-wrap:wrap;\n",
              "      gap: 12px;\n",
              "    }\n",
              "\n",
              "    .colab-df-convert {\n",
              "      background-color: #E8F0FE;\n",
              "      border: none;\n",
              "      border-radius: 50%;\n",
              "      cursor: pointer;\n",
              "      display: none;\n",
              "      fill: #1967D2;\n",
              "      height: 32px;\n",
              "      padding: 0 0 0 0;\n",
              "      width: 32px;\n",
              "    }\n",
              "\n",
              "    .colab-df-convert:hover {\n",
              "      background-color: #E2EBFA;\n",
              "      box-shadow: 0px 1px 2px rgba(60, 64, 67, 0.3), 0px 1px 3px 1px rgba(60, 64, 67, 0.15);\n",
              "      fill: #174EA6;\n",
              "    }\n",
              "\n",
              "    [theme=dark] .colab-df-convert {\n",
              "      background-color: #3B4455;\n",
              "      fill: #D2E3FC;\n",
              "    }\n",
              "\n",
              "    [theme=dark] .colab-df-convert:hover {\n",
              "      background-color: #434B5C;\n",
              "      box-shadow: 0px 1px 3px 1px rgba(0, 0, 0, 0.15);\n",
              "      filter: drop-shadow(0px 1px 2px rgba(0, 0, 0, 0.3));\n",
              "      fill: #FFFFFF;\n",
              "    }\n",
              "  </style>\n",
              "\n",
              "      <script>\n",
              "        const buttonEl =\n",
              "          document.querySelector('#df-e73d7c02-3306-4d5b-a52f-a48df8556b23 button.colab-df-convert');\n",
              "        buttonEl.style.display =\n",
              "          google.colab.kernel.accessAllowed ? 'block' : 'none';\n",
              "\n",
              "        async function convertToInteractive(key) {\n",
              "          const element = document.querySelector('#df-e73d7c02-3306-4d5b-a52f-a48df8556b23');\n",
              "          const dataTable =\n",
              "            await google.colab.kernel.invokeFunction('convertToInteractive',\n",
              "                                                     [key], {});\n",
              "          if (!dataTable) return;\n",
              "\n",
              "          const docLinkHtml = 'Like what you see? Visit the ' +\n",
              "            '<a target=\"_blank\" href=https://colab.research.google.com/notebooks/data_table.ipynb>data table notebook</a>'\n",
              "            + ' to learn more about interactive tables.';\n",
              "          element.innerHTML = '';\n",
              "          dataTable['output_type'] = 'display_data';\n",
              "          await google.colab.output.renderOutput(dataTable, element);\n",
              "          const docLink = document.createElement('div');\n",
              "          docLink.innerHTML = docLinkHtml;\n",
              "          element.appendChild(docLink);\n",
              "        }\n",
              "      </script>\n",
              "    </div>\n",
              "  </div>\n",
              "  "
            ],
            "application/vnd.google.colaboratory.module+javascript": "\n      import \"https://ssl.gstatic.com/colaboratory/data_table/f872b2c2305463fd/data_table.js\";\n\n      window.createDataTable({\n        data: [[{\n            'v': 0,\n            'f': \"0\",\n        },\n{\n            'v': 510494,\n            'f': \"510494\",\n        },\n\"The Last Days of Disco\",\n{\n            'v': null,\n            'f': \"null\",\n        },\n{\n            'v': 1,\n            'f': \"1\",\n        },\n{\n            'v': 1998,\n            'f': \"1998\",\n        },\n{\n            'v': null,\n            'f': \"null\",\n        },\n\"L2321\",\n{\n            'v': null,\n            'f': \"null\",\n        },\n{\n            'v': null,\n            'f': \"null\",\n        },\n{\n            'v': null,\n            'f': \"null\",\n        },\n{\n            'v': null,\n            'f': \"null\",\n        },\n{\n            'v': 44283571,\n            'f': \"44283571\",\n        },\n\"Josh Neff: Disco will never be over. It will always live in our minds and hearts. Something like this, that was this big, and this important, and this great, will never die. Oh, for a few years - maybe many years - it'll be considered pass\\u00e9 and ridiculous. It will be misrepresented and caricatured and sneered at, or - worse - completely ignored. People will laugh about John Travolta, Olivia Newton-John, white polyester suits and platform shoes and people going like *this* [strikes disco pose] , but we had nothing to do with those things and still loved disco. Those who didn't understand will never understand: disco was much more, and much better, than all that. Disco was too great, and too much fun, to be gone forever! It's got to come back someday. I just hope it will be in our own lifetimes.::[Des, Charlotte, Dan, and Van stare at Josh like he's crazy]::Josh Neff: ...Sorry, I've got a job interview this afternoon and I was just trying to get revved up, but... most of what I said, I, um... believe.\"]],\n        columns: [[\"number\", \"index\"], [\"number\", \"id\"], [\"string\", \"title\"], [\"number\", \"imdb_index\"], [\"number\", \"kind_id\"], [\"number\", \"year\"], [\"number\", \"imdb_id\"], [\"string\", \"phonetic_code\"], [\"number\", \"episode_of_id\"], [\"number\", \"season_nr\"], [\"number\", \"episode_nr\"], [\"number\", \"series_years\"], [\"number\", \"__search_id\"], [\"string\", \"info\"]],\n        columnOptions: [{\"width\": \"1px\", \"className\": \"index_column\"}],\n        rowsPerPage: 25,\n        helpUrl: \"https://colab.research.google.com/notebooks/data_table.ipynb\",\n        suppressOutputScrolling: true,\n        minimumWidth: undefined,\n      });\n    "
          },
          "metadata": {}
        },
        {
          "output_type": "stream",
          "name": "stdout",
          "text": [
            "\n"
          ]
        }
      ]
    },
    {
      "cell_type": "markdown",
      "source": [
        "#### Difficult queries which need eager evaluation"
      ],
      "metadata": {
        "id": "F-41RpU6niZx"
      }
    },
    {
      "cell_type": "code",
      "source": [
        "lathe.change_queryset(2)\n",
        "lathe.load_indexes()"
      ],
      "metadata": {
        "colab": {
          "base_uri": "https://localhost:8080/"
        },
        "id": "NpaX3OpMnjcs",
        "outputId": "adf67bf7-5267-4d37-9b53-c094285bee50"
      },
      "execution_count": 76,
      "outputs": [
        {
          "output_type": "stream",
          "name": "stdout",
          "text": [
            "./config/queryset_configs/coffman_mondial_config.json\n",
            "Changed to query set coffman_mondial.\n",
            "Changed to dataset mondial.\n"
          ]
        }
      ]
    },
    {
      "cell_type": "code",
      "source": [
        "results = lathe.keyword_search('saint kitts cambodia',configuration = (5,5,0))\n",
        "results.cjns(text=False,sql=False)"
      ],
      "metadata": {
        "colab": {
          "base_uri": "https://localhost:8080/",
          "height": 1000
        },
        "id": "o_lKlzFhFI0f",
        "outputId": "f9fb3274-71ca-4228-bff1-b6468ddacb34"
      },
      "execution_count": 54,
      "outputs": [
        {
          "output_type": "stream",
          "name": "stdout",
          "text": [
            "Keyword Query: saint kitts cambodia\n"
          ]
        },
        {
          "output_type": "display_data",
          "data": {
            "text/plain": [
              "<IPython.core.display.Markdown object>"
            ],
            "text/markdown": "---"
          },
          "metadata": {}
        },
        {
          "output_type": "display_data",
          "data": {
            "text/plain": [
              "<IPython.core.display.Markdown object>"
            ],
            "text/markdown": "**1st CJN**:"
          },
          "metadata": {}
        },
        {
          "output_type": "display_data",
          "data": {
            "text/plain": [
              "<IPython.core.display.Markdown object>"
            ],
            "text/markdown": "---"
          },
          "metadata": {}
        },
        {
          "output_type": "stream",
          "name": "stdout",
          "text": [
            "Graph:\n"
          ]
        },
        {
          "output_type": "display_data",
          "data": {
            "text/plain": [
              "<graphviz.dot.Digraph at 0x7fcd1c204b90>"
            ],
            "image/svg+xml": "<?xml version=\"1.0\" encoding=\"UTF-8\" standalone=\"no\"?>\n<!DOCTYPE svg PUBLIC \"-//W3C//DTD SVG 1.1//EN\"\n \"http://www.w3.org/Graphics/SVG/1.1/DTD/svg11.dtd\">\n<!-- Generated by graphviz version 2.40.1 (20161225.0304)\n -->\n<!-- Title: %3 Pages: 1 -->\n<svg width=\"405pt\" height=\"98pt\"\n viewBox=\"0.00 0.00 404.98 98.00\" xmlns=\"http://www.w3.org/2000/svg\" xmlns:xlink=\"http://www.w3.org/1999/xlink\">\n<g id=\"graph0\" class=\"graph\" transform=\"scale(1 1) rotate(0) translate(4 94)\">\n<title>%3</title>\n<polygon fill=\"#ffffff\" stroke=\"transparent\" points=\"-4,4 -4,-94 400.9756,-94 400.9756,4 -4,4\"/>\n<!-- t1 -->\n<g id=\"node1\" class=\"node\">\n<title>t1</title>\n<ellipse fill=\"none\" stroke=\"#000000\" cx=\"56.5803\" cy=\"-18\" rx=\"56.6608\" ry=\"18\"/>\n<text text-anchor=\"middle\" x=\"56.5803\" y=\"-15.8\" font-family=\"Times,serif\" font-size=\"9.00\" fill=\"#000000\">MOVIE.v(title{saint})</text>\n</g>\n<!-- t2 -->\n<g id=\"node2\" class=\"node\">\n<title>t2</title>\n<ellipse fill=\"none\" stroke=\"#000000\" cx=\"135.5803\" cy=\"-72\" rx=\"32.1641\" ry=\"18\"/>\n<text text-anchor=\"middle\" x=\"135.5803\" y=\"-69.8\" font-family=\"Times,serif\" font-size=\"9.00\" fill=\"#000000\">CASTING</text>\n</g>\n<!-- t2&#45;&gt;t1 -->\n<g id=\"edge2\" class=\"edge\">\n<title>t2&#45;&gt;t1</title>\n<path fill=\"none\" stroke=\"#000000\" d=\"M114.824,-57.8121C106.6916,-52.2533 97.1794,-45.7513 88.2278,-39.6324\"/>\n<polygon fill=\"#000000\" stroke=\"#000000\" points=\"89.762,-36.8656 80.5543,-34.3873 86.2068,-42.0667 89.762,-36.8656\"/>\n</g>\n<!-- t3 -->\n<g id=\"node3\" class=\"node\">\n<title>t3</title>\n<ellipse fill=\"none\" stroke=\"#000000\" cx=\"188.5803\" cy=\"-18\" rx=\"61.5538\" ry=\"18\"/>\n<text text-anchor=\"middle\" x=\"188.5803\" y=\"-15.8\" font-family=\"Times,serif\" font-size=\"9.00\" fill=\"#000000\">PERSON.v(name{kitts})</text>\n</g>\n<!-- t2&#45;&gt;t3 -->\n<g id=\"edge1\" class=\"edge\">\n<title>t2&#45;&gt;t3</title>\n<path fill=\"none\" stroke=\"#000000\" d=\"M151.1954,-56.0903C155.4626,-51.7426 160.1856,-46.9305 164.7976,-42.2315\"/>\n<polygon fill=\"#000000\" stroke=\"#000000\" points=\"167.3532,-44.1246 171.4094,-35.495 162.857,-39.7117 167.3532,-44.1246\"/>\n</g>\n<!-- t4 -->\n<g id=\"node4\" class=\"node\">\n<title>t4</title>\n<ellipse fill=\"none\" stroke=\"#000000\" cx=\"240.5803\" cy=\"-72\" rx=\"32.1641\" ry=\"18\"/>\n<text text-anchor=\"middle\" x=\"240.5803\" y=\"-69.8\" font-family=\"Times,serif\" font-size=\"9.00\" fill=\"#000000\">CASTING</text>\n</g>\n<!-- t4&#45;&gt;t3 -->\n<g id=\"edge3\" class=\"edge\">\n<title>t4&#45;&gt;t3</title>\n<path fill=\"none\" stroke=\"#000000\" d=\"M225.2599,-56.0903C221.0732,-51.7426 216.4393,-46.9305 211.9143,-42.2315\"/>\n<polygon fill=\"#000000\" stroke=\"#000000\" points=\"213.9391,-39.7929 205.4273,-35.495 209.4011,-44.1628 213.9391,-39.7929\"/>\n</g>\n<!-- t5 -->\n<g id=\"node5\" class=\"node\">\n<title>t5</title>\n<ellipse fill=\"none\" stroke=\"#000000\" cx=\"330.5803\" cy=\"-18\" rx=\"66.2907\" ry=\"18\"/>\n<text text-anchor=\"middle\" x=\"330.5803\" y=\"-15.8\" font-family=\"Times,serif\" font-size=\"9.00\" fill=\"#000000\">MOVIE.v(title{cambodia})</text>\n</g>\n<!-- t4&#45;&gt;t5 -->\n<g id=\"edge4\" class=\"edge\">\n<title>t4&#45;&gt;t5</title>\n<path fill=\"none\" stroke=\"#000000\" d=\"M262.8275,-58.6517C272.6291,-52.7707 284.385,-45.7172 295.3321,-39.1489\"/>\n<polygon fill=\"#000000\" stroke=\"#000000\" points=\"297.0241,-41.8073 303.1209,-34.4757 293.7827,-36.4051 297.0241,-41.8073\"/>\n</g>\n</g>\n</svg>\n"
          },
          "metadata": {}
        },
        {
          "output_type": "display_data",
          "data": {
            "text/plain": [
              "<IPython.core.display.Markdown object>"
            ],
            "text/markdown": "---"
          },
          "metadata": {}
        },
        {
          "output_type": "stream",
          "name": "stdout",
          "text": [
            "JNTs:\n",
            "\tThis void CJN returns no tuples.\n",
            "\n"
          ]
        },
        {
          "output_type": "display_data",
          "data": {
            "text/plain": [
              "<IPython.core.display.Markdown object>"
            ],
            "text/markdown": "---"
          },
          "metadata": {}
        },
        {
          "output_type": "display_data",
          "data": {
            "text/plain": [
              "<IPython.core.display.Markdown object>"
            ],
            "text/markdown": "**2nd CJN**:"
          },
          "metadata": {}
        },
        {
          "output_type": "display_data",
          "data": {
            "text/plain": [
              "<IPython.core.display.Markdown object>"
            ],
            "text/markdown": "---"
          },
          "metadata": {}
        },
        {
          "output_type": "stream",
          "name": "stdout",
          "text": [
            "Graph:\n"
          ]
        },
        {
          "output_type": "display_data",
          "data": {
            "text/plain": [
              "<graphviz.dot.Digraph at 0x7fcd1c3bb6d0>"
            ],
            "image/svg+xml": "<?xml version=\"1.0\" encoding=\"UTF-8\" standalone=\"no\"?>\n<!DOCTYPE svg PUBLIC \"-//W3C//DTD SVG 1.1//EN\"\n \"http://www.w3.org/Graphics/SVG/1.1/DTD/svg11.dtd\">\n<!-- Generated by graphviz version 2.40.1 (20161225.0304)\n -->\n<!-- Title: %3 Pages: 1 -->\n<svg width=\"440pt\" height=\"98pt\"\n viewBox=\"0.00 0.00 439.68 98.00\" xmlns=\"http://www.w3.org/2000/svg\" xmlns:xlink=\"http://www.w3.org/1999/xlink\">\n<g id=\"graph0\" class=\"graph\" transform=\"scale(1 1) rotate(0) translate(4 94)\">\n<title>%3</title>\n<polygon fill=\"#ffffff\" stroke=\"transparent\" points=\"-4,4 -4,-94 435.6773,-94 435.6773,4 -4,4\"/>\n<!-- t1 -->\n<g id=\"node1\" class=\"node\">\n<title>t1</title>\n<ellipse fill=\"none\" stroke=\"#000000\" cx=\"73.9008\" cy=\"-18\" rx=\"73.8018\" ry=\"18\"/>\n<text text-anchor=\"middle\" x=\"73.9008\" y=\"-15.8\" font-family=\"Times,serif\" font-size=\"9.00\" fill=\"#000000\">CHARACTER.v(name{saint})</text>\n</g>\n<!-- t2 -->\n<g id=\"node2\" class=\"node\">\n<title>t2</title>\n<ellipse fill=\"none\" stroke=\"#000000\" cx=\"227.9008\" cy=\"-72\" rx=\"32.1641\" ry=\"18\"/>\n<text text-anchor=\"middle\" x=\"227.9008\" y=\"-69.8\" font-family=\"Times,serif\" font-size=\"9.00\" fill=\"#000000\">CASTING</text>\n</g>\n<!-- t2&#45;&gt;t1 -->\n<g id=\"edge3\" class=\"edge\">\n<title>t2&#45;&gt;t1</title>\n<path fill=\"none\" stroke=\"#000000\" d=\"M200.3687,-62.3459C179.4732,-55.0189 150.1494,-44.7365 124.9986,-35.9174\"/>\n<polygon fill=\"#000000\" stroke=\"#000000\" points=\"125.8326,-32.8718 116.2972,-32.8663 123.7479,-38.8169 125.8326,-32.8718\"/>\n</g>\n<!-- t3 -->\n<g id=\"node3\" class=\"node\">\n<title>t3</title>\n<ellipse fill=\"none\" stroke=\"#000000\" cx=\"227.9008\" cy=\"-18\" rx=\"66.2907\" ry=\"18\"/>\n<text text-anchor=\"middle\" x=\"227.9008\" y=\"-15.8\" font-family=\"Times,serif\" font-size=\"9.00\" fill=\"#000000\">MOVIE.v(title{cambodia})</text>\n</g>\n<!-- t2&#45;&gt;t3 -->\n<g id=\"edge1\" class=\"edge\">\n<title>t2&#45;&gt;t3</title>\n<path fill=\"none\" stroke=\"#000000\" d=\"M227.9008,-53.7181C227.9008,-50.9911 227.9008,-48.1312 227.9008,-45.2673\"/>\n<polygon fill=\"#000000\" stroke=\"#000000\" points=\"231.0509,-45.2631 227.9008,-36.2631 224.7509,-45.2631 231.0509,-45.2631\"/>\n</g>\n<!-- t4 -->\n<g id=\"node4\" class=\"node\">\n<title>t4</title>\n<ellipse fill=\"none\" stroke=\"#000000\" cx=\"369.9008\" cy=\"-18\" rx=\"61.5538\" ry=\"18\"/>\n<text text-anchor=\"middle\" x=\"369.9008\" y=\"-15.8\" font-family=\"Times,serif\" font-size=\"9.00\" fill=\"#000000\">PERSON.v(name{kitts})</text>\n</g>\n<!-- t2&#45;&gt;t4 -->\n<g id=\"edge2\" class=\"edge\">\n<title>t2&#45;&gt;t4</title>\n<path fill=\"none\" stroke=\"#000000\" d=\"M254.6099,-61.843C274.0581,-54.4472 300.8883,-44.2442 323.7726,-35.5417\"/>\n<polygon fill=\"#000000\" stroke=\"#000000\" points=\"325.0338,-38.4323 332.3264,-32.2889 322.7944,-32.5437 325.0338,-38.4323\"/>\n</g>\n</g>\n</svg>\n"
          },
          "metadata": {}
        },
        {
          "output_type": "display_data",
          "data": {
            "text/plain": [
              "<IPython.core.display.Markdown object>"
            ],
            "text/markdown": "---"
          },
          "metadata": {}
        },
        {
          "output_type": "stream",
          "name": "stdout",
          "text": [
            "JNTs:\n",
            "\tThis void CJN returns no tuples.\n",
            "\n"
          ]
        },
        {
          "output_type": "display_data",
          "data": {
            "text/plain": [
              "<IPython.core.display.Markdown object>"
            ],
            "text/markdown": "---"
          },
          "metadata": {}
        },
        {
          "output_type": "display_data",
          "data": {
            "text/plain": [
              "<IPython.core.display.Markdown object>"
            ],
            "text/markdown": "**3rd CJN**:"
          },
          "metadata": {}
        },
        {
          "output_type": "display_data",
          "data": {
            "text/plain": [
              "<IPython.core.display.Markdown object>"
            ],
            "text/markdown": "---"
          },
          "metadata": {}
        },
        {
          "output_type": "stream",
          "name": "stdout",
          "text": [
            "Graph:\n"
          ]
        },
        {
          "output_type": "display_data",
          "data": {
            "text/plain": [
              "<graphviz.dot.Digraph at 0x7fcd1cee2f90>"
            ],
            "image/svg+xml": "<?xml version=\"1.0\" encoding=\"UTF-8\" standalone=\"no\"?>\n<!DOCTYPE svg PUBLIC \"-//W3C//DTD SVG 1.1//EN\"\n \"http://www.w3.org/Graphics/SVG/1.1/DTD/svg11.dtd\">\n<!-- Generated by graphviz version 2.40.1 (20161225.0304)\n -->\n<!-- Title: %3 Pages: 1 -->\n<svg width=\"440pt\" height=\"98pt\"\n viewBox=\"0.00 0.00 439.68 98.00\" xmlns=\"http://www.w3.org/2000/svg\" xmlns:xlink=\"http://www.w3.org/1999/xlink\">\n<g id=\"graph0\" class=\"graph\" transform=\"scale(1 1) rotate(0) translate(4 94)\">\n<title>%3</title>\n<polygon fill=\"#ffffff\" stroke=\"transparent\" points=\"-4,4 -4,-94 435.6773,-94 435.6773,4 -4,4\"/>\n<!-- t1 -->\n<g id=\"node1\" class=\"node\">\n<title>t1</title>\n<ellipse fill=\"none\" stroke=\"#000000\" cx=\"73.9008\" cy=\"-18\" rx=\"73.8018\" ry=\"18\"/>\n<text text-anchor=\"middle\" x=\"73.9008\" y=\"-15.8\" font-family=\"Times,serif\" font-size=\"9.00\" fill=\"#000000\">CHARACTER.v(name{saint})</text>\n</g>\n<!-- t2 -->\n<g id=\"node2\" class=\"node\">\n<title>t2</title>\n<ellipse fill=\"none\" stroke=\"#000000\" cx=\"169.9008\" cy=\"-72\" rx=\"32.1641\" ry=\"18\"/>\n<text text-anchor=\"middle\" x=\"169.9008\" y=\"-69.8\" font-family=\"Times,serif\" font-size=\"9.00\" fill=\"#000000\">CASTING</text>\n</g>\n<!-- t2&#45;&gt;t1 -->\n<g id=\"edge2\" class=\"edge\">\n<title>t2&#45;&gt;t1</title>\n<path fill=\"none\" stroke=\"#000000\" d=\"M147.1502,-59.2028C136.5183,-53.2224 123.5761,-45.9424 111.5453,-39.175\"/>\n<polygon fill=\"#000000\" stroke=\"#000000\" points=\"112.7899,-36.261 103.4014,-34.5941 109.7012,-41.7519 112.7899,-36.261\"/>\n</g>\n<!-- t3 -->\n<g id=\"node3\" class=\"node\">\n<title>t3</title>\n<ellipse fill=\"none\" stroke=\"#000000\" cx=\"227.9008\" cy=\"-18\" rx=\"66.2907\" ry=\"18\"/>\n<text text-anchor=\"middle\" x=\"227.9008\" y=\"-15.8\" font-family=\"Times,serif\" font-size=\"9.00\" fill=\"#000000\">MOVIE.v(title{cambodia})</text>\n</g>\n<!-- t2&#45;&gt;t3 -->\n<g id=\"edge1\" class=\"edge\">\n<title>t2&#45;&gt;t3</title>\n<path fill=\"none\" stroke=\"#000000\" d=\"M186.6768,-56.381C191.6639,-51.7378 197.2413,-46.5451 202.6426,-41.5163\"/>\n<polygon fill=\"#000000\" stroke=\"#000000\" points=\"204.8918,-43.7261 209.3324,-35.2878 200.5989,-39.1152 204.8918,-43.7261\"/>\n</g>\n<!-- t4 -->\n<g id=\"node4\" class=\"node\">\n<title>t4</title>\n<ellipse fill=\"none\" stroke=\"#000000\" cx=\"285.9008\" cy=\"-72\" rx=\"32.1641\" ry=\"18\"/>\n<text text-anchor=\"middle\" x=\"285.9008\" y=\"-69.8\" font-family=\"Times,serif\" font-size=\"9.00\" fill=\"#000000\">CASTING</text>\n</g>\n<!-- t4&#45;&gt;t3 -->\n<g id=\"edge3\" class=\"edge\">\n<title>t4&#45;&gt;t3</title>\n<path fill=\"none\" stroke=\"#000000\" d=\"M269.1248,-56.381C264.1378,-51.7378 258.5603,-46.5451 253.159,-41.5163\"/>\n<polygon fill=\"#000000\" stroke=\"#000000\" points=\"255.2028,-39.1152 246.4693,-35.2878 250.9098,-43.7261 255.2028,-39.1152\"/>\n</g>\n<!-- t5 -->\n<g id=\"node5\" class=\"node\">\n<title>t5</title>\n<ellipse fill=\"none\" stroke=\"#000000\" cx=\"369.9008\" cy=\"-18\" rx=\"61.5538\" ry=\"18\"/>\n<text text-anchor=\"middle\" x=\"369.9008\" y=\"-15.8\" font-family=\"Times,serif\" font-size=\"9.00\" fill=\"#000000\">PERSON.v(name{kitts})</text>\n</g>\n<!-- t4&#45;&gt;t5 -->\n<g id=\"edge4\" class=\"edge\">\n<title>t4&#45;&gt;t5</title>\n<path fill=\"none\" stroke=\"#000000\" d=\"M307.0976,-58.3735C315.9948,-52.6539 326.5584,-45.863 336.4593,-39.4981\"/>\n<polygon fill=\"#000000\" stroke=\"#000000\" points=\"338.3458,-42.0302 344.213,-34.5136 334.939,-36.7307 338.3458,-42.0302\"/>\n</g>\n</g>\n</svg>\n"
          },
          "metadata": {}
        },
        {
          "output_type": "display_data",
          "data": {
            "text/plain": [
              "<IPython.core.display.Markdown object>"
            ],
            "text/markdown": "---"
          },
          "metadata": {}
        },
        {
          "output_type": "stream",
          "name": "stdout",
          "text": [
            "JNTs:\n",
            "\tThis void CJN returns no tuples.\n",
            "\n"
          ]
        },
        {
          "output_type": "display_data",
          "data": {
            "text/plain": [
              "<IPython.core.display.Markdown object>"
            ],
            "text/markdown": "---"
          },
          "metadata": {}
        },
        {
          "output_type": "display_data",
          "data": {
            "text/plain": [
              "<IPython.core.display.Markdown object>"
            ],
            "text/markdown": "**4th CJN**:"
          },
          "metadata": {}
        },
        {
          "output_type": "display_data",
          "data": {
            "text/plain": [
              "<IPython.core.display.Markdown object>"
            ],
            "text/markdown": "---"
          },
          "metadata": {}
        },
        {
          "output_type": "stream",
          "name": "stdout",
          "text": [
            "Graph:\n"
          ]
        },
        {
          "output_type": "display_data",
          "data": {
            "text/plain": [
              "<graphviz.dot.Digraph at 0x7fcd1c393f90>"
            ],
            "image/svg+xml": "<?xml version=\"1.0\" encoding=\"UTF-8\" standalone=\"no\"?>\n<!DOCTYPE svg PUBLIC \"-//W3C//DTD SVG 1.1//EN\"\n \"http://www.w3.org/Graphics/SVG/1.1/DTD/svg11.dtd\">\n<!-- Generated by graphviz version 2.40.1 (20161225.0304)\n -->\n<!-- Title: %3 Pages: 1 -->\n<svg width=\"440pt\" height=\"98pt\"\n viewBox=\"0.00 0.00 440.17 98.00\" xmlns=\"http://www.w3.org/2000/svg\" xmlns:xlink=\"http://www.w3.org/1999/xlink\">\n<g id=\"graph0\" class=\"graph\" transform=\"scale(1 1) rotate(0) translate(4 94)\">\n<title>%3</title>\n<polygon fill=\"#ffffff\" stroke=\"transparent\" points=\"-4,4 -4,-94 436.1718,-94 436.1718,4 -4,4\"/>\n<!-- t1 -->\n<g id=\"node1\" class=\"node\">\n<title>t1</title>\n<ellipse fill=\"none\" stroke=\"#000000\" cx=\"220.3953\" cy=\"-18\" rx=\"73.8018\" ry=\"18\"/>\n<text text-anchor=\"middle\" x=\"220.3953\" y=\"-15.8\" font-family=\"Times,serif\" font-size=\"9.00\" fill=\"#000000\">CHARACTER.v(name{saint})</text>\n</g>\n<!-- t2 -->\n<g id=\"node2\" class=\"node\">\n<title>t2</title>\n<ellipse fill=\"none\" stroke=\"#000000\" cx=\"162.3953\" cy=\"-72\" rx=\"32.1641\" ry=\"18\"/>\n<text text-anchor=\"middle\" x=\"162.3953\" y=\"-69.8\" font-family=\"Times,serif\" font-size=\"9.00\" fill=\"#000000\">CASTING</text>\n</g>\n<!-- t2&#45;&gt;t1 -->\n<g id=\"edge2\" class=\"edge\">\n<title>t2&#45;&gt;t1</title>\n<path fill=\"none\" stroke=\"#000000\" d=\"M179.1713,-56.381C183.9555,-51.9267 189.2831,-46.9665 194.4772,-42.1306\"/>\n<polygon fill=\"#000000\" stroke=\"#000000\" points=\"196.9734,-44.1105 201.4139,-35.6723 192.6804,-39.4996 196.9734,-44.1105\"/>\n</g>\n<!-- t3 -->\n<g id=\"node3\" class=\"node\">\n<title>t3</title>\n<ellipse fill=\"none\" stroke=\"#000000\" cx=\"66.3953\" cy=\"-18\" rx=\"66.2907\" ry=\"18\"/>\n<text text-anchor=\"middle\" x=\"66.3953\" y=\"-15.8\" font-family=\"Times,serif\" font-size=\"9.00\" fill=\"#000000\">MOVIE.v(title{cambodia})</text>\n</g>\n<!-- t2&#45;&gt;t3 -->\n<g id=\"edge1\" class=\"edge\">\n<title>t2&#45;&gt;t3</title>\n<path fill=\"none\" stroke=\"#000000\" d=\"M139.6446,-59.2028C128.8196,-53.1137 115.5995,-45.6773 103.3848,-38.8066\"/>\n<polygon fill=\"#000000\" stroke=\"#000000\" points=\"104.927,-36.06 95.5385,-34.393 101.8383,-41.5509 104.927,-36.06\"/>\n</g>\n<!-- t4 -->\n<g id=\"node4\" class=\"node\">\n<title>t4</title>\n<ellipse fill=\"none\" stroke=\"#000000\" cx=\"278.3953\" cy=\"-72\" rx=\"32.1641\" ry=\"18\"/>\n<text text-anchor=\"middle\" x=\"278.3953\" y=\"-69.8\" font-family=\"Times,serif\" font-size=\"9.00\" fill=\"#000000\">CASTING</text>\n</g>\n<!-- t4&#45;&gt;t1 -->\n<g id=\"edge4\" class=\"edge\">\n<title>t4&#45;&gt;t1</title>\n<path fill=\"none\" stroke=\"#000000\" d=\"M261.6193,-56.381C256.835,-51.9267 251.5075,-46.9665 246.3133,-42.1306\"/>\n<polygon fill=\"#000000\" stroke=\"#000000\" points=\"248.1102,-39.4996 239.3766,-35.6723 243.8172,-44.1105 248.1102,-39.4996\"/>\n</g>\n<!-- t5 -->\n<g id=\"node5\" class=\"node\">\n<title>t5</title>\n<ellipse fill=\"none\" stroke=\"#000000\" cx=\"370.3953\" cy=\"-18\" rx=\"61.5538\" ry=\"18\"/>\n<text text-anchor=\"middle\" x=\"370.3953\" y=\"-15.8\" font-family=\"Times,serif\" font-size=\"9.00\" fill=\"#000000\">PERSON.v(name{kitts})</text>\n</g>\n<!-- t4&#45;&gt;t5 -->\n<g id=\"edge3\" class=\"edge\">\n<title>t4&#45;&gt;t5</title>\n<path fill=\"none\" stroke=\"#000000\" d=\"M300.6659,-58.9281C310.9494,-52.8921 323.4117,-45.5773 334.9401,-38.8107\"/>\n<polygon fill=\"#000000\" stroke=\"#000000\" points=\"336.5666,-41.5086 342.7338,-34.2361 333.3775,-36.0753 336.5666,-41.5086\"/>\n</g>\n</g>\n</svg>\n"
          },
          "metadata": {}
        },
        {
          "output_type": "display_data",
          "data": {
            "text/plain": [
              "<IPython.core.display.Markdown object>"
            ],
            "text/markdown": "---"
          },
          "metadata": {}
        },
        {
          "output_type": "stream",
          "name": "stdout",
          "text": [
            "JNTs:\n",
            "\tThis void CJN returns no tuples.\n",
            "\n"
          ]
        },
        {
          "output_type": "display_data",
          "data": {
            "text/plain": [
              "<IPython.core.display.Markdown object>"
            ],
            "text/markdown": "---"
          },
          "metadata": {}
        },
        {
          "output_type": "display_data",
          "data": {
            "text/plain": [
              "<IPython.core.display.Markdown object>"
            ],
            "text/markdown": "**5th CJN**:"
          },
          "metadata": {}
        },
        {
          "output_type": "display_data",
          "data": {
            "text/plain": [
              "<IPython.core.display.Markdown object>"
            ],
            "text/markdown": "---"
          },
          "metadata": {}
        },
        {
          "output_type": "stream",
          "name": "stdout",
          "text": [
            "Graph:\n"
          ]
        },
        {
          "output_type": "display_data",
          "data": {
            "text/plain": [
              "<graphviz.dot.Digraph at 0x7fcd1af0e190>"
            ],
            "image/svg+xml": "<?xml version=\"1.0\" encoding=\"UTF-8\" standalone=\"no\"?>\n<!DOCTYPE svg PUBLIC \"-//W3C//DTD SVG 1.1//EN\"\n \"http://www.w3.org/Graphics/SVG/1.1/DTD/svg11.dtd\">\n<!-- Generated by graphviz version 2.40.1 (20161225.0304)\n -->\n<!-- Title: %3 Pages: 1 -->\n<svg width=\"440pt\" height=\"98pt\"\n viewBox=\"0.00 0.00 440.30 98.00\" xmlns=\"http://www.w3.org/2000/svg\" xmlns:xlink=\"http://www.w3.org/1999/xlink\">\n<g id=\"graph0\" class=\"graph\" transform=\"scale(1 1) rotate(0) translate(4 94)\">\n<title>%3</title>\n<polygon fill=\"#ffffff\" stroke=\"transparent\" points=\"-4,4 -4,-94 436.2961,-94 436.2961,4 -4,4\"/>\n<!-- t1 -->\n<g id=\"node1\" class=\"node\">\n<title>t1</title>\n<ellipse fill=\"none\" stroke=\"#000000\" cx=\"73.9008\" cy=\"-18\" rx=\"73.8018\" ry=\"18\"/>\n<text text-anchor=\"middle\" x=\"73.9008\" y=\"-15.8\" font-family=\"Times,serif\" font-size=\"9.00\" fill=\"#000000\">CHARACTER.v(name{saint})</text>\n</g>\n<!-- t2 -->\n<g id=\"node2\" class=\"node\">\n<title>t2</title>\n<ellipse fill=\"none\" stroke=\"#000000\" cx=\"166.9008\" cy=\"-72\" rx=\"32.1641\" ry=\"18\"/>\n<text text-anchor=\"middle\" x=\"166.9008\" y=\"-69.8\" font-family=\"Times,serif\" font-size=\"9.00\" fill=\"#000000\">CASTING</text>\n</g>\n<!-- t2&#45;&gt;t1 -->\n<g id=\"edge2\" class=\"edge\">\n<title>t2&#45;&gt;t1</title>\n<path fill=\"none\" stroke=\"#000000\" d=\"M144.3881,-58.9281C134.2658,-53.0507 122.0552,-45.9606 110.6614,-39.3449\"/>\n<polygon fill=\"#000000\" stroke=\"#000000\" points=\"111.9157,-36.4307 102.5509,-34.6355 108.7522,-41.8789 111.9157,-36.4307\"/>\n</g>\n<!-- t3 -->\n<g id=\"node3\" class=\"node\">\n<title>t3</title>\n<ellipse fill=\"none\" stroke=\"#000000\" cx=\"223.9008\" cy=\"-18\" rx=\"61.5538\" ry=\"18\"/>\n<text text-anchor=\"middle\" x=\"223.9008\" y=\"-15.8\" font-family=\"Times,serif\" font-size=\"9.00\" fill=\"#000000\">PERSON.v(name{kitts})</text>\n</g>\n<!-- t2&#45;&gt;t3 -->\n<g id=\"edge1\" class=\"edge\">\n<title>t2&#45;&gt;t3</title>\n<path fill=\"none\" stroke=\"#000000\" d=\"M183.3876,-56.381C188.2887,-51.7378 193.7699,-46.5451 199.0781,-41.5163\"/>\n<polygon fill=\"#000000\" stroke=\"#000000\" points=\"201.2854,-43.7643 205.6526,-35.2878 196.9526,-39.1908 201.2854,-43.7643\"/>\n</g>\n<!-- t4 -->\n<g id=\"node4\" class=\"node\">\n<title>t4</title>\n<ellipse fill=\"none\" stroke=\"#000000\" cx=\"280.9008\" cy=\"-72\" rx=\"32.1641\" ry=\"18\"/>\n<text text-anchor=\"middle\" x=\"280.9008\" y=\"-69.8\" font-family=\"Times,serif\" font-size=\"9.00\" fill=\"#000000\">CASTING</text>\n</g>\n<!-- t4&#45;&gt;t3 -->\n<g id=\"edge3\" class=\"edge\">\n<title>t4&#45;&gt;t3</title>\n<path fill=\"none\" stroke=\"#000000\" d=\"M264.4141,-56.381C259.513,-51.7378 254.0317,-46.5451 248.7235,-41.5163\"/>\n<polygon fill=\"#000000\" stroke=\"#000000\" points=\"250.8491,-39.1908 242.1491,-35.2878 246.5163,-43.7643 250.8491,-39.1908\"/>\n</g>\n<!-- t5 -->\n<g id=\"node5\" class=\"node\">\n<title>t5</title>\n<ellipse fill=\"none\" stroke=\"#000000\" cx=\"365.9008\" cy=\"-18\" rx=\"66.2907\" ry=\"18\"/>\n<text text-anchor=\"middle\" x=\"365.9008\" y=\"-15.8\" font-family=\"Times,serif\" font-size=\"9.00\" fill=\"#000000\">MOVIE.v(title{cambodia})</text>\n</g>\n<!-- t4&#45;&gt;t5 -->\n<g id=\"edge4\" class=\"edge\">\n<title>t4&#45;&gt;t5</title>\n<path fill=\"none\" stroke=\"#000000\" d=\"M302.3499,-58.3735C311.2755,-52.7032 321.8582,-45.98 331.8019,-39.6629\"/>\n<polygon fill=\"#000000\" stroke=\"#000000\" points=\"333.6882,-42.1965 339.5957,-34.7115 330.3099,-36.8788 333.6882,-42.1965\"/>\n</g>\n</g>\n</svg>\n"
          },
          "metadata": {}
        },
        {
          "output_type": "display_data",
          "data": {
            "text/plain": [
              "<IPython.core.display.Markdown object>"
            ],
            "text/markdown": "---"
          },
          "metadata": {}
        },
        {
          "output_type": "stream",
          "name": "stdout",
          "text": [
            "JNTs:\n",
            "\tThis void CJN returns no tuples.\n",
            "\n"
          ]
        },
        {
          "output_type": "display_data",
          "data": {
            "text/plain": [
              "<IPython.core.display.Markdown object>"
            ],
            "text/markdown": "---"
          },
          "metadata": {}
        },
        {
          "output_type": "display_data",
          "data": {
            "text/plain": [
              "<IPython.core.display.Markdown object>"
            ],
            "text/markdown": "**6th CJN**:"
          },
          "metadata": {}
        },
        {
          "output_type": "display_data",
          "data": {
            "text/plain": [
              "<IPython.core.display.Markdown object>"
            ],
            "text/markdown": "---"
          },
          "metadata": {}
        },
        {
          "output_type": "stream",
          "name": "stdout",
          "text": [
            "Graph:\n"
          ]
        },
        {
          "output_type": "display_data",
          "data": {
            "text/plain": [
              "<graphviz.dot.Digraph at 0x7fcd1c332e90>"
            ],
            "image/svg+xml": "<?xml version=\"1.0\" encoding=\"UTF-8\" standalone=\"no\"?>\n<!DOCTYPE svg PUBLIC \"-//W3C//DTD SVG 1.1//EN\"\n \"http://www.w3.org/Graphics/SVG/1.1/DTD/svg11.dtd\">\n<!-- Generated by graphviz version 2.40.1 (20161225.0304)\n -->\n<!-- Title: %3 Pages: 1 -->\n<svg width=\"281pt\" height=\"98pt\"\n viewBox=\"0.00 0.00 281.45 98.00\" xmlns=\"http://www.w3.org/2000/svg\" xmlns:xlink=\"http://www.w3.org/1999/xlink\">\n<g id=\"graph0\" class=\"graph\" transform=\"scale(1 1) rotate(0) translate(4 94)\">\n<title>%3</title>\n<polygon fill=\"#ffffff\" stroke=\"transparent\" points=\"-4,4 -4,-94 277.4508,-94 277.4508,4 -4,4\"/>\n<!-- t1 -->\n<g id=\"node1\" class=\"node\">\n<title>t1</title>\n<ellipse fill=\"none\" stroke=\"#000000\" cx=\"79.6743\" cy=\"-18\" rx=\"56.6608\" ry=\"18\"/>\n<text text-anchor=\"middle\" x=\"79.6743\" y=\"-15.8\" font-family=\"Times,serif\" font-size=\"9.00\" fill=\"#000000\">MOVIE.v(title{saint})</text>\n</g>\n<!-- t2 -->\n<g id=\"node2\" class=\"node\">\n<title>t2</title>\n<ellipse fill=\"none\" stroke=\"#000000\" cx=\"79.6743\" cy=\"-72\" rx=\"79.8491\" ry=\"18\"/>\n<text text-anchor=\"middle\" x=\"79.6743\" y=\"-69.8\" font-family=\"Times,serif\" font-size=\"9.00\" fill=\"#000000\">MOVIEINFO.v(info{cambodia})</text>\n</g>\n<!-- t2&#45;&gt;t1 -->\n<g id=\"edge1\" class=\"edge\">\n<title>t2&#45;&gt;t1</title>\n<path fill=\"none\" stroke=\"#000000\" d=\"M79.6743,-53.7181C79.6743,-50.9911 79.6743,-48.1312 79.6743,-45.2673\"/>\n<polygon fill=\"#000000\" stroke=\"#000000\" points=\"82.8244,-45.2631 79.6743,-36.2631 76.5244,-45.2631 82.8244,-45.2631\"/>\n</g>\n<!-- t3 -->\n<g id=\"node3\" class=\"node\">\n<title>t3</title>\n<ellipse fill=\"none\" stroke=\"#000000\" cx=\"208.6743\" cy=\"-72\" rx=\"32.1641\" ry=\"18\"/>\n<text text-anchor=\"middle\" x=\"208.6743\" y=\"-69.8\" font-family=\"Times,serif\" font-size=\"9.00\" fill=\"#000000\">CASTING</text>\n</g>\n<!-- t3&#45;&gt;t1 -->\n<g id=\"edge3\" class=\"edge\">\n<title>t3&#45;&gt;t1</title>\n<path fill=\"none\" stroke=\"#000000\" d=\"M182.9306,-60.9065C177.5636,-58.6108 171.9384,-56.217 166.6743,-54 152.4524,-48.0102 136.8883,-41.5424 122.906,-35.7637\"/>\n<polygon fill=\"#000000\" stroke=\"#000000\" points=\"123.9517,-32.7876 114.4307,-32.2651 121.5478,-38.6109 123.9517,-32.7876\"/>\n</g>\n<!-- t4 -->\n<g id=\"node4\" class=\"node\">\n<title>t4</title>\n<ellipse fill=\"none\" stroke=\"#000000\" cx=\"211.6743\" cy=\"-18\" rx=\"61.5538\" ry=\"18\"/>\n<text text-anchor=\"middle\" x=\"211.6743\" y=\"-15.8\" font-family=\"Times,serif\" font-size=\"9.00\" fill=\"#000000\">PERSON.v(name{kitts})</text>\n</g>\n<!-- t3&#45;&gt;t4 -->\n<g id=\"edge2\" class=\"edge\">\n<title>t3&#45;&gt;t4</title>\n<path fill=\"none\" stroke=\"#000000\" d=\"M209.69,-53.7181C209.8415,-50.9911 210.0004,-48.1312 210.1595,-45.2673\"/>\n<polygon fill=\"#000000\" stroke=\"#000000\" points=\"213.3055,-45.424 210.6597,-36.2631 207.0152,-45.0745 213.3055,-45.424\"/>\n</g>\n</g>\n</svg>\n"
          },
          "metadata": {}
        },
        {
          "output_type": "display_data",
          "data": {
            "text/plain": [
              "<IPython.core.display.Markdown object>"
            ],
            "text/markdown": "---"
          },
          "metadata": {}
        },
        {
          "output_type": "stream",
          "name": "stdout",
          "text": [
            "JNTs:\n",
            "\tThis void CJN returns no tuples.\n",
            "\n"
          ]
        },
        {
          "output_type": "display_data",
          "data": {
            "text/plain": [
              "<IPython.core.display.Markdown object>"
            ],
            "text/markdown": "---"
          },
          "metadata": {}
        },
        {
          "output_type": "display_data",
          "data": {
            "text/plain": [
              "<IPython.core.display.Markdown object>"
            ],
            "text/markdown": "**7th CJN**:"
          },
          "metadata": {}
        },
        {
          "output_type": "display_data",
          "data": {
            "text/plain": [
              "<IPython.core.display.Markdown object>"
            ],
            "text/markdown": "---"
          },
          "metadata": {}
        },
        {
          "output_type": "stream",
          "name": "stdout",
          "text": [
            "Graph:\n"
          ]
        },
        {
          "output_type": "display_data",
          "data": {
            "text/plain": [
              "<graphviz.dot.Digraph at 0x7fcd1b566790>"
            ],
            "image/svg+xml": "<?xml version=\"1.0\" encoding=\"UTF-8\" standalone=\"no\"?>\n<!DOCTYPE svg PUBLIC \"-//W3C//DTD SVG 1.1//EN\"\n \"http://www.w3.org/Graphics/SVG/1.1/DTD/svg11.dtd\">\n<!-- Generated by graphviz version 2.40.1 (20161225.0304)\n -->\n<!-- Title: %3 Pages: 1 -->\n<svg width=\"282pt\" height=\"98pt\"\n viewBox=\"0.00 0.00 281.64 98.00\" xmlns=\"http://www.w3.org/2000/svg\" xmlns:xlink=\"http://www.w3.org/1999/xlink\">\n<g id=\"graph0\" class=\"graph\" transform=\"scale(1 1) rotate(0) translate(4 94)\">\n<title>%3</title>\n<polygon fill=\"#ffffff\" stroke=\"transparent\" points=\"-4,4 -4,-94 277.6359,-94 277.6359,4 -4,4\"/>\n<!-- t1 -->\n<g id=\"node1\" class=\"node\">\n<title>t1</title>\n<ellipse fill=\"none\" stroke=\"#000000\" cx=\"69.8594\" cy=\"-72\" rx=\"69.719\" ry=\"18\"/>\n<text text-anchor=\"middle\" x=\"69.8594\" y=\"-69.8\" font-family=\"Times,serif\" font-size=\"9.00\" fill=\"#000000\">MOVIEINFO.v(info{saint})</text>\n</g>\n<!-- t2 -->\n<g id=\"node2\" class=\"node\">\n<title>t2</title>\n<ellipse fill=\"none\" stroke=\"#000000\" cx=\"69.8594\" cy=\"-18\" rx=\"66.2907\" ry=\"18\"/>\n<text text-anchor=\"middle\" x=\"69.8594\" y=\"-15.8\" font-family=\"Times,serif\" font-size=\"9.00\" fill=\"#000000\">MOVIE.v(title{cambodia})</text>\n</g>\n<!-- t1&#45;&gt;t2 -->\n<g id=\"edge1\" class=\"edge\">\n<title>t1&#45;&gt;t2</title>\n<path fill=\"none\" stroke=\"#000000\" d=\"M69.8594,-53.7181C69.8594,-50.9911 69.8594,-48.1312 69.8594,-45.2673\"/>\n<polygon fill=\"#000000\" stroke=\"#000000\" points=\"73.0095,-45.2631 69.8594,-36.2631 66.7095,-45.2631 73.0095,-45.2631\"/>\n</g>\n<!-- t3 -->\n<g id=\"node3\" class=\"node\">\n<title>t3</title>\n<ellipse fill=\"none\" stroke=\"#000000\" cx=\"198.8594\" cy=\"-72\" rx=\"32.1641\" ry=\"18\"/>\n<text text-anchor=\"middle\" x=\"198.8594\" y=\"-69.8\" font-family=\"Times,serif\" font-size=\"9.00\" fill=\"#000000\">CASTING</text>\n</g>\n<!-- t3&#45;&gt;t2 -->\n<g id=\"edge2\" class=\"edge\">\n<title>t3&#45;&gt;t2</title>\n<path fill=\"none\" stroke=\"#000000\" d=\"M172.7543,-61.0723C156.0802,-54.0924 134.0237,-44.8595 114.6094,-36.7326\"/>\n<polygon fill=\"#000000\" stroke=\"#000000\" points=\"115.7084,-33.7778 106.1901,-33.2082 113.2757,-39.5892 115.7084,-33.7778\"/>\n</g>\n<!-- t4 -->\n<g id=\"node4\" class=\"node\">\n<title>t4</title>\n<ellipse fill=\"none\" stroke=\"#000000\" cx=\"211.8594\" cy=\"-18\" rx=\"61.5538\" ry=\"18\"/>\n<text text-anchor=\"middle\" x=\"211.8594\" y=\"-15.8\" font-family=\"Times,serif\" font-size=\"9.00\" fill=\"#000000\">PERSON.v(name{kitts})</text>\n</g>\n<!-- t3&#45;&gt;t4 -->\n<g id=\"edge3\" class=\"edge\">\n<title>t3&#45;&gt;t4</title>\n<path fill=\"none\" stroke=\"#000000\" d=\"M203.1882,-54.0188C203.8825,-51.1348 204.6141,-48.0957 205.346,-45.0556\"/>\n<polygon fill=\"#000000\" stroke=\"#000000\" points=\"208.4611,-45.5741 207.5051,-36.0868 202.3361,-44.0995 208.4611,-45.5741\"/>\n</g>\n</g>\n</svg>\n"
          },
          "metadata": {}
        },
        {
          "output_type": "display_data",
          "data": {
            "text/plain": [
              "<IPython.core.display.Markdown object>"
            ],
            "text/markdown": "---"
          },
          "metadata": {}
        },
        {
          "output_type": "stream",
          "name": "stdout",
          "text": [
            "JNTs:\n",
            "\tThis void CJN returns no tuples.\n",
            "\n"
          ]
        },
        {
          "output_type": "display_data",
          "data": {
            "text/plain": [
              "<IPython.core.display.Markdown object>"
            ],
            "text/markdown": "---"
          },
          "metadata": {}
        },
        {
          "output_type": "display_data",
          "data": {
            "text/plain": [
              "<IPython.core.display.Markdown object>"
            ],
            "text/markdown": "**8th CJN**:"
          },
          "metadata": {}
        },
        {
          "output_type": "display_data",
          "data": {
            "text/plain": [
              "<IPython.core.display.Markdown object>"
            ],
            "text/markdown": "---"
          },
          "metadata": {}
        },
        {
          "output_type": "stream",
          "name": "stdout",
          "text": [
            "Graph:\n"
          ]
        },
        {
          "output_type": "display_data",
          "data": {
            "text/plain": [
              "<graphviz.dot.Digraph at 0x7fcd1baca050>"
            ],
            "image/svg+xml": "<?xml version=\"1.0\" encoding=\"UTF-8\" standalone=\"no\"?>\n<!DOCTYPE svg PUBLIC \"-//W3C//DTD SVG 1.1//EN\"\n \"http://www.w3.org/Graphics/SVG/1.1/DTD/svg11.dtd\">\n<!-- Generated by graphviz version 2.40.1 (20161225.0304)\n -->\n<!-- Title: %3 Pages: 1 -->\n<svg width=\"418pt\" height=\"98pt\"\n viewBox=\"0.00 0.00 417.71 98.00\" xmlns=\"http://www.w3.org/2000/svg\" xmlns:xlink=\"http://www.w3.org/1999/xlink\">\n<g id=\"graph0\" class=\"graph\" transform=\"scale(1 1) rotate(0) translate(4 94)\">\n<title>%3</title>\n<polygon fill=\"#ffffff\" stroke=\"transparent\" points=\"-4,4 -4,-94 413.7077,-94 413.7077,4 -4,4\"/>\n<!-- t1 -->\n<g id=\"node1\" class=\"node\">\n<title>t1</title>\n<ellipse fill=\"none\" stroke=\"#000000\" cx=\"62.9312\" cy=\"-18\" rx=\"62.8624\" ry=\"18\"/>\n<text text-anchor=\"middle\" x=\"62.9312\" y=\"-15.8\" font-family=\"Times,serif\" font-size=\"9.00\" fill=\"#000000\">PERSON.v(name{saint})</text>\n</g>\n<!-- t2 -->\n<g id=\"node2\" class=\"node\">\n<title>t2</title>\n<ellipse fill=\"none\" stroke=\"#000000\" cx=\"149.9312\" cy=\"-72\" rx=\"32.1641\" ry=\"18\"/>\n<text text-anchor=\"middle\" x=\"149.9312\" y=\"-69.8\" font-family=\"Times,serif\" font-size=\"9.00\" fill=\"#000000\">CASTING</text>\n</g>\n<!-- t2&#45;&gt;t1 -->\n<g id=\"edge1\" class=\"edge\">\n<title>t2&#45;&gt;t1</title>\n<path fill=\"none\" stroke=\"#000000\" d=\"M127.9774,-58.3735C118.6712,-52.5972 107.6048,-45.7284 97.2627,-39.3092\"/>\n<polygon fill=\"#000000\" stroke=\"#000000\" points=\"98.8444,-36.5835 89.5364,-34.5136 95.522,-41.9363 98.8444,-36.5835\"/>\n</g>\n<!-- t3 -->\n<g id=\"node3\" class=\"node\">\n<title>t3</title>\n<ellipse fill=\"none\" stroke=\"#000000\" cx=\"205.9312\" cy=\"-18\" rx=\"66.2907\" ry=\"18\"/>\n<text text-anchor=\"middle\" x=\"205.9312\" y=\"-15.8\" font-family=\"Times,serif\" font-size=\"9.00\" fill=\"#000000\">MOVIE.v(title{cambodia})</text>\n</g>\n<!-- t2&#45;&gt;t3 -->\n<g id=\"edge2\" class=\"edge\">\n<title>t2&#45;&gt;t3</title>\n<path fill=\"none\" stroke=\"#000000\" d=\"M166.1287,-56.381C170.748,-51.9267 175.8918,-46.9665 180.9069,-42.1306\"/>\n<polygon fill=\"#000000\" stroke=\"#000000\" points=\"183.3123,-44.187 187.6044,-35.6723 178.9392,-39.652 183.3123,-44.187\"/>\n</g>\n<!-- t4 -->\n<g id=\"node4\" class=\"node\">\n<title>t4</title>\n<ellipse fill=\"none\" stroke=\"#000000\" cx=\"260.9312\" cy=\"-72\" rx=\"32.1641\" ry=\"18\"/>\n<text text-anchor=\"middle\" x=\"260.9312\" y=\"-69.8\" font-family=\"Times,serif\" font-size=\"9.00\" fill=\"#000000\">CASTING</text>\n</g>\n<!-- t4&#45;&gt;t3 -->\n<g id=\"edge3\" class=\"edge\">\n<title>t4&#45;&gt;t3</title>\n<path fill=\"none\" stroke=\"#000000\" d=\"M244.7268,-56.0903C240.1956,-51.6415 235.1692,-46.7064 230.2776,-41.9038\"/>\n<polygon fill=\"#000000\" stroke=\"#000000\" points=\"232.3791,-39.5526 223.7501,-35.495 227.9654,-44.048 232.3791,-39.5526\"/>\n</g>\n<!-- t5 -->\n<g id=\"node5\" class=\"node\">\n<title>t5</title>\n<ellipse fill=\"none\" stroke=\"#000000\" cx=\"347.9312\" cy=\"-18\" rx=\"61.5538\" ry=\"18\"/>\n<text text-anchor=\"middle\" x=\"347.9312\" y=\"-15.8\" font-family=\"Times,serif\" font-size=\"9.00\" fill=\"#000000\">PERSON.v(name{kitts})</text>\n</g>\n<!-- t4&#45;&gt;t5 -->\n<g id=\"edge4\" class=\"edge\">\n<title>t4&#45;&gt;t5</title>\n<path fill=\"none\" stroke=\"#000000\" d=\"M282.885,-58.3735C292.2714,-52.5474 303.4485,-45.6099 313.867,-39.1433\"/>\n<polygon fill=\"#000000\" stroke=\"#000000\" points=\"315.6583,-41.7389 321.6439,-34.3162 312.3359,-36.3862 315.6583,-41.7389\"/>\n</g>\n</g>\n</svg>\n"
          },
          "metadata": {}
        },
        {
          "output_type": "display_data",
          "data": {
            "text/plain": [
              "<IPython.core.display.Markdown object>"
            ],
            "text/markdown": "---"
          },
          "metadata": {}
        },
        {
          "output_type": "stream",
          "name": "stdout",
          "text": [
            "JNTs:\n",
            "\tThis void CJN returns no tuples.\n",
            "\n"
          ]
        }
      ]
    },
    {
      "cell_type": "code",
      "source": [
        "results = lathe.keyword_search('saint kitts cambodia')\n",
        "results.cjns(text=False,sql=False)"
      ],
      "metadata": {
        "id": "5_Zm3eGktEQH",
        "colab": {
          "base_uri": "https://localhost:8080/",
          "height": 470
        },
        "outputId": "aec2a659-20e5-4e90-be92-4ea9a81753d0"
      },
      "execution_count": 77,
      "outputs": [
        {
          "output_type": "stream",
          "name": "stdout",
          "text": [
            "Keyword Query: saint kitts cambodia\n"
          ]
        },
        {
          "output_type": "display_data",
          "data": {
            "text/plain": [
              "<IPython.core.display.Markdown object>"
            ],
            "text/markdown": "---"
          },
          "metadata": {}
        },
        {
          "output_type": "display_data",
          "data": {
            "text/plain": [
              "<IPython.core.display.Markdown object>"
            ],
            "text/markdown": "**1st CJN**:"
          },
          "metadata": {}
        },
        {
          "output_type": "display_data",
          "data": {
            "text/plain": [
              "<IPython.core.display.Markdown object>"
            ],
            "text/markdown": "---"
          },
          "metadata": {}
        },
        {
          "output_type": "stream",
          "name": "stdout",
          "text": [
            "Graph:\n"
          ]
        },
        {
          "output_type": "display_data",
          "data": {
            "text/plain": [
              "<graphviz.dot.Digraph at 0x7fcd1ceee950>"
            ],
            "image/svg+xml": "<?xml version=\"1.0\" encoding=\"UTF-8\" standalone=\"no\"?>\n<!DOCTYPE svg PUBLIC \"-//W3C//DTD SVG 1.1//EN\"\n \"http://www.w3.org/Graphics/SVG/1.1/DTD/svg11.dtd\">\n<!-- Generated by graphviz version 2.40.1 (20161225.0304)\n -->\n<!-- Title: %3 Pages: 1 -->\n<svg width=\"442pt\" height=\"98pt\"\n viewBox=\"0.00 0.00 441.58 98.00\" xmlns=\"http://www.w3.org/2000/svg\" xmlns:xlink=\"http://www.w3.org/1999/xlink\">\n<g id=\"graph0\" class=\"graph\" transform=\"scale(1 1) rotate(0) translate(4 94)\">\n<title>%3</title>\n<polygon fill=\"#ffffff\" stroke=\"transparent\" points=\"-4,4 -4,-94 437.5752,-94 437.5752,4 -4,4\"/>\n<!-- t1 -->\n<g id=\"node1\" class=\"node\">\n<title>t1</title>\n<ellipse fill=\"none\" stroke=\"#000000\" cx=\"76.7876\" cy=\"-18\" rx=\"76.5758\" ry=\"18\"/>\n<text text-anchor=\"middle\" x=\"76.7876\" y=\"-15.8\" font-family=\"Times,serif\" font-size=\"9.00\" fill=\"#000000\">COUNTRY.v(name{kitts,saint})</text>\n</g>\n<!-- t2 -->\n<g id=\"node2\" class=\"node\">\n<title>t2</title>\n<ellipse fill=\"none\" stroke=\"#000000\" cx=\"158.7876\" cy=\"-72\" rx=\"39.0211\" ry=\"18\"/>\n<text text-anchor=\"middle\" x=\"158.7876\" y=\"-69.8\" font-family=\"Times,serif\" font-size=\"9.00\" fill=\"#000000\">IS_MEMBER</text>\n</g>\n<!-- t2&#45;&gt;t1 -->\n<g id=\"edge2\" class=\"edge\">\n<title>t2&#45;&gt;t1</title>\n<path fill=\"none\" stroke=\"#000000\" d=\"M135.946,-56.958C128.0365,-51.7493 118.9971,-45.7965 110.4051,-40.1383\"/>\n<polygon fill=\"#000000\" stroke=\"#000000\" points=\"111.9344,-37.3738 102.6854,-35.0547 108.4695,-42.6354 111.9344,-37.3738\"/>\n</g>\n<!-- t3 -->\n<g id=\"node3\" class=\"node\">\n<title>t3</title>\n<ellipse fill=\"none\" stroke=\"#000000\" cx=\"216.7876\" cy=\"-18\" rx=\"49.8047\" ry=\"18\"/>\n<text text-anchor=\"middle\" x=\"216.7876\" y=\"-15.8\" font-family=\"Times,serif\" font-size=\"9.00\" fill=\"#000000\">ORGANIZATION</text>\n</g>\n<!-- t2&#45;&gt;t3 -->\n<g id=\"edge1\" class=\"edge\">\n<title>t2&#45;&gt;t3</title>\n<path fill=\"none\" stroke=\"#000000\" d=\"M176.1895,-55.7982C181.0528,-51.2703 186.4372,-46.2572 191.6519,-41.4022\"/>\n<polygon fill=\"#000000\" stroke=\"#000000\" points=\"194.1521,-43.3784 198.5927,-34.9401 189.8591,-38.7674 194.1521,-43.3784\"/>\n</g>\n<!-- t4 -->\n<g id=\"node4\" class=\"node\">\n<title>t4</title>\n<ellipse fill=\"none\" stroke=\"#000000\" cx=\"274.7876\" cy=\"-72\" rx=\"39.0211\" ry=\"18\"/>\n<text text-anchor=\"middle\" x=\"274.7876\" y=\"-69.8\" font-family=\"Times,serif\" font-size=\"9.00\" fill=\"#000000\">IS_MEMBER</text>\n</g>\n<!-- t4&#45;&gt;t3 -->\n<g id=\"edge3\" class=\"edge\">\n<title>t4&#45;&gt;t3</title>\n<path fill=\"none\" stroke=\"#000000\" d=\"M257.3857,-55.7982C252.5223,-51.2703 247.138,-46.2572 241.9233,-41.4022\"/>\n<polygon fill=\"#000000\" stroke=\"#000000\" points=\"243.716,-38.7674 234.9825,-34.9401 239.4231,-43.3784 243.716,-38.7674\"/>\n</g>\n<!-- t5 -->\n<g id=\"node5\" class=\"node\">\n<title>t5</title>\n<ellipse fill=\"none\" stroke=\"#000000\" cx=\"356.7876\" cy=\"-18\" rx=\"76.5758\" ry=\"18\"/>\n<text text-anchor=\"middle\" x=\"356.7876\" y=\"-15.8\" font-family=\"Times,serif\" font-size=\"9.00\" fill=\"#000000\">COUNTRY.v(name{cambodia})</text>\n</g>\n<!-- t4&#45;&gt;t5 -->\n<g id=\"edge4\" class=\"edge\">\n<title>t4&#45;&gt;t5</title>\n<path fill=\"none\" stroke=\"#000000\" d=\"M297.6292,-56.958C305.5387,-51.7493 314.578,-45.7965 323.1701,-40.1383\"/>\n<polygon fill=\"#000000\" stroke=\"#000000\" points=\"325.1057,-42.6354 330.8898,-35.0547 321.6407,-37.3738 325.1057,-42.6354\"/>\n</g>\n</g>\n</svg>\n"
          },
          "metadata": {}
        },
        {
          "output_type": "display_data",
          "data": {
            "text/plain": [
              "<IPython.core.display.Markdown object>"
            ],
            "text/markdown": "---"
          },
          "metadata": {}
        },
        {
          "output_type": "stream",
          "name": "stdout",
          "text": [
            "JNTs:\n"
          ]
        },
        {
          "output_type": "display_data",
          "data": {
            "text/plain": [
              "                    name      name\n",
              "0  Saint Kitts and Nevis  Cambodia\n",
              "1  Saint Kitts and Nevis  Cambodia\n",
              "2  Saint Kitts and Nevis  Cambodia\n",
              "3  Saint Kitts and Nevis  Cambodia\n",
              "4  Saint Kitts and Nevis  Cambodia"
            ],
            "text/html": [
              "\n",
              "  <div id=\"df-656c2176-7213-4e4d-ba48-2895825ba71d\">\n",
              "    <div class=\"colab-df-container\">\n",
              "      <div>\n",
              "<style scoped>\n",
              "    .dataframe tbody tr th:only-of-type {\n",
              "        vertical-align: middle;\n",
              "    }\n",
              "\n",
              "    .dataframe tbody tr th {\n",
              "        vertical-align: top;\n",
              "    }\n",
              "\n",
              "    .dataframe thead th {\n",
              "        text-align: right;\n",
              "    }\n",
              "</style>\n",
              "<table border=\"1\" class=\"dataframe\">\n",
              "  <thead>\n",
              "    <tr style=\"text-align: right;\">\n",
              "      <th></th>\n",
              "      <th>name</th>\n",
              "      <th>name</th>\n",
              "    </tr>\n",
              "  </thead>\n",
              "  <tbody>\n",
              "    <tr>\n",
              "      <th>0</th>\n",
              "      <td>Saint Kitts and Nevis</td>\n",
              "      <td>Cambodia</td>\n",
              "    </tr>\n",
              "    <tr>\n",
              "      <th>1</th>\n",
              "      <td>Saint Kitts and Nevis</td>\n",
              "      <td>Cambodia</td>\n",
              "    </tr>\n",
              "    <tr>\n",
              "      <th>2</th>\n",
              "      <td>Saint Kitts and Nevis</td>\n",
              "      <td>Cambodia</td>\n",
              "    </tr>\n",
              "    <tr>\n",
              "      <th>3</th>\n",
              "      <td>Saint Kitts and Nevis</td>\n",
              "      <td>Cambodia</td>\n",
              "    </tr>\n",
              "    <tr>\n",
              "      <th>4</th>\n",
              "      <td>Saint Kitts and Nevis</td>\n",
              "      <td>Cambodia</td>\n",
              "    </tr>\n",
              "  </tbody>\n",
              "</table>\n",
              "</div>\n",
              "      <button class=\"colab-df-convert\" onclick=\"convertToInteractive('df-656c2176-7213-4e4d-ba48-2895825ba71d')\"\n",
              "              title=\"Convert this dataframe to an interactive table.\"\n",
              "              style=\"display:none;\">\n",
              "        \n",
              "  <svg xmlns=\"http://www.w3.org/2000/svg\" height=\"24px\"viewBox=\"0 0 24 24\"\n",
              "       width=\"24px\">\n",
              "    <path d=\"M0 0h24v24H0V0z\" fill=\"none\"/>\n",
              "    <path d=\"M18.56 5.44l.94 2.06.94-2.06 2.06-.94-2.06-.94-.94-2.06-.94 2.06-2.06.94zm-11 1L8.5 8.5l.94-2.06 2.06-.94-2.06-.94L8.5 2.5l-.94 2.06-2.06.94zm10 10l.94 2.06.94-2.06 2.06-.94-2.06-.94-.94-2.06-.94 2.06-2.06.94z\"/><path d=\"M17.41 7.96l-1.37-1.37c-.4-.4-.92-.59-1.43-.59-.52 0-1.04.2-1.43.59L10.3 9.45l-7.72 7.72c-.78.78-.78 2.05 0 2.83L4 21.41c.39.39.9.59 1.41.59.51 0 1.02-.2 1.41-.59l7.78-7.78 2.81-2.81c.8-.78.8-2.07 0-2.86zM5.41 20L4 18.59l7.72-7.72 1.47 1.35L5.41 20z\"/>\n",
              "  </svg>\n",
              "      </button>\n",
              "      \n",
              "  <style>\n",
              "    .colab-df-container {\n",
              "      display:flex;\n",
              "      flex-wrap:wrap;\n",
              "      gap: 12px;\n",
              "    }\n",
              "\n",
              "    .colab-df-convert {\n",
              "      background-color: #E8F0FE;\n",
              "      border: none;\n",
              "      border-radius: 50%;\n",
              "      cursor: pointer;\n",
              "      display: none;\n",
              "      fill: #1967D2;\n",
              "      height: 32px;\n",
              "      padding: 0 0 0 0;\n",
              "      width: 32px;\n",
              "    }\n",
              "\n",
              "    .colab-df-convert:hover {\n",
              "      background-color: #E2EBFA;\n",
              "      box-shadow: 0px 1px 2px rgba(60, 64, 67, 0.3), 0px 1px 3px 1px rgba(60, 64, 67, 0.15);\n",
              "      fill: #174EA6;\n",
              "    }\n",
              "\n",
              "    [theme=dark] .colab-df-convert {\n",
              "      background-color: #3B4455;\n",
              "      fill: #D2E3FC;\n",
              "    }\n",
              "\n",
              "    [theme=dark] .colab-df-convert:hover {\n",
              "      background-color: #434B5C;\n",
              "      box-shadow: 0px 1px 3px 1px rgba(0, 0, 0, 0.15);\n",
              "      filter: drop-shadow(0px 1px 2px rgba(0, 0, 0, 0.3));\n",
              "      fill: #FFFFFF;\n",
              "    }\n",
              "  </style>\n",
              "\n",
              "      <script>\n",
              "        const buttonEl =\n",
              "          document.querySelector('#df-656c2176-7213-4e4d-ba48-2895825ba71d button.colab-df-convert');\n",
              "        buttonEl.style.display =\n",
              "          google.colab.kernel.accessAllowed ? 'block' : 'none';\n",
              "\n",
              "        async function convertToInteractive(key) {\n",
              "          const element = document.querySelector('#df-656c2176-7213-4e4d-ba48-2895825ba71d');\n",
              "          const dataTable =\n",
              "            await google.colab.kernel.invokeFunction('convertToInteractive',\n",
              "                                                     [key], {});\n",
              "          if (!dataTable) return;\n",
              "\n",
              "          const docLinkHtml = 'Like what you see? Visit the ' +\n",
              "            '<a target=\"_blank\" href=https://colab.research.google.com/notebooks/data_table.ipynb>data table notebook</a>'\n",
              "            + ' to learn more about interactive tables.';\n",
              "          element.innerHTML = '';\n",
              "          dataTable['output_type'] = 'display_data';\n",
              "          await google.colab.output.renderOutput(dataTable, element);\n",
              "          const docLink = document.createElement('div');\n",
              "          docLink.innerHTML = docLinkHtml;\n",
              "          element.appendChild(docLink);\n",
              "        }\n",
              "      </script>\n",
              "    </div>\n",
              "  </div>\n",
              "  "
            ],
            "application/vnd.google.colaboratory.module+javascript": "\n      import \"https://ssl.gstatic.com/colaboratory/data_table/f872b2c2305463fd/data_table.js\";\n\n      window.createDataTable({\n        data: [[{\n            'v': 0,\n            'f': \"0\",\n        },\n\"Saint Kitts and Nevis\",\n\"Cambodia\"],\n [{\n            'v': 1,\n            'f': \"1\",\n        },\n\"Saint Kitts and Nevis\",\n\"Cambodia\"],\n [{\n            'v': 2,\n            'f': \"2\",\n        },\n\"Saint Kitts and Nevis\",\n\"Cambodia\"],\n [{\n            'v': 3,\n            'f': \"3\",\n        },\n\"Saint Kitts and Nevis\",\n\"Cambodia\"],\n [{\n            'v': 4,\n            'f': \"4\",\n        },\n\"Saint Kitts and Nevis\",\n\"Cambodia\"]],\n        columns: [[\"number\", \"index\"], [\"string\", \"name\"], [\"string\", \"name\"]],\n        columnOptions: [{\"width\": \"1px\", \"className\": \"index_column\"}],\n        rowsPerPage: 25,\n        helpUrl: \"https://colab.research.google.com/notebooks/data_table.ipynb\",\n        suppressOutputScrolling: true,\n        minimumWidth: undefined,\n      });\n    "
          },
          "metadata": {}
        },
        {
          "output_type": "stream",
          "name": "stdout",
          "text": [
            "\n"
          ]
        }
      ]
    },
    {
      "cell_type": "markdown",
      "source": [
        "#### Query whose relevant answer is not supported by other systems as they do not consider valid $R_a ← S_b → R_c$."
      ],
      "metadata": {
        "id": "BQzvPnWBoiXa"
      }
    },
    {
      "cell_type": "code",
      "source": [
        "results = lathe.keyword_search('slovakia hungary')\n",
        "results.cjns()"
      ],
      "metadata": {
        "colab": {
          "base_uri": "https://localhost:8080/",
          "height": 746
        },
        "id": "Q5gK0RAcoik8",
        "outputId": "828612fd-83f4-4feb-8871-d785816bbc36"
      },
      "execution_count": 27,
      "outputs": [
        {
          "output_type": "stream",
          "name": "stdout",
          "text": [
            "Keyword Query: slovakia hungary\n"
          ]
        },
        {
          "output_type": "display_data",
          "data": {
            "text/plain": [
              "<IPython.core.display.Markdown object>"
            ],
            "text/markdown": "---"
          },
          "metadata": {}
        },
        {
          "output_type": "display_data",
          "data": {
            "text/plain": [
              "<IPython.core.display.Markdown object>"
            ],
            "text/markdown": "**1st CJN**:"
          },
          "metadata": {}
        },
        {
          "output_type": "display_data",
          "data": {
            "text/plain": [
              "<IPython.core.display.Markdown object>"
            ],
            "text/markdown": "---"
          },
          "metadata": {}
        },
        {
          "output_type": "stream",
          "name": "stdout",
          "text": [
            "Text:\n",
            "\tCOUNTRY.v(name{slovakia})\n",
            "\t\t<BORDERS\n",
            "\t\t\t>COUNTRY.v(name{hungary})\n"
          ]
        },
        {
          "output_type": "display_data",
          "data": {
            "text/plain": [
              "<IPython.core.display.Markdown object>"
            ],
            "text/markdown": "---"
          },
          "metadata": {}
        },
        {
          "output_type": "stream",
          "name": "stdout",
          "text": [
            "Graph:\n"
          ]
        },
        {
          "output_type": "display_data",
          "data": {
            "text/plain": [
              "<graphviz.dot.Digraph at 0x7fcd1c4026d0>"
            ],
            "image/svg+xml": "<?xml version=\"1.0\" encoding=\"UTF-8\" standalone=\"no\"?>\n<!DOCTYPE svg PUBLIC \"-//W3C//DTD SVG 1.1//EN\"\n \"http://www.w3.org/Graphics/SVG/1.1/DTD/svg11.dtd\">\n<!-- Generated by graphviz version 2.40.1 (20161225.0304)\n -->\n<!-- Title: %3 Pages: 1 -->\n<svg width=\"318pt\" height=\"98pt\"\n viewBox=\"0.00 0.00 317.80 98.00\" xmlns=\"http://www.w3.org/2000/svg\" xmlns:xlink=\"http://www.w3.org/1999/xlink\">\n<g id=\"graph0\" class=\"graph\" transform=\"scale(1 1) rotate(0) translate(4 94)\">\n<title>%3</title>\n<polygon fill=\"#ffffff\" stroke=\"transparent\" points=\"-4,4 -4,-94 313.8017,-94 313.8017,4 -4,4\"/>\n<!-- t1 -->\n<g id=\"node1\" class=\"node\">\n<title>t1</title>\n<ellipse fill=\"none\" stroke=\"#000000\" cx=\"73.9008\" cy=\"-18\" rx=\"73.8018\" ry=\"18\"/>\n<text text-anchor=\"middle\" x=\"73.9008\" y=\"-15.8\" font-family=\"Times,serif\" font-size=\"9.00\" fill=\"#000000\">COUNTRY.v(name{slovakia})</text>\n</g>\n<!-- t2 -->\n<g id=\"node2\" class=\"node\">\n<title>t2</title>\n<ellipse fill=\"none\" stroke=\"#000000\" cx=\"154.9008\" cy=\"-72\" rx=\"34.1275\" ry=\"18\"/>\n<text text-anchor=\"middle\" x=\"154.9008\" y=\"-69.8\" font-family=\"Times,serif\" font-size=\"9.00\" fill=\"#000000\">BORDERS</text>\n</g>\n<!-- t2&#45;&gt;t1 -->\n<g id=\"edge2\" class=\"edge\">\n<title>t2&#45;&gt;t1</title>\n<path fill=\"none\" stroke=\"#000000\" d=\"M133.619,-57.8121C125.4983,-52.3983 116.0356,-46.0898 107.0689,-40.1121\"/>\n<polygon fill=\"#000000\" stroke=\"#000000\" points=\"108.5988,-37.3462 99.363,-34.9748 105.1042,-42.5881 108.5988,-37.3462\"/>\n</g>\n<!-- t3 -->\n<g id=\"node3\" class=\"node\">\n<title>t3</title>\n<ellipse fill=\"none\" stroke=\"#000000\" cx=\"235.9008\" cy=\"-18\" rx=\"73.8018\" ry=\"18\"/>\n<text text-anchor=\"middle\" x=\"235.9008\" y=\"-15.8\" font-family=\"Times,serif\" font-size=\"9.00\" fill=\"#000000\">COUNTRY.v(name{hungary})</text>\n</g>\n<!-- t2&#45;&gt;t3 -->\n<g id=\"edge1\" class=\"edge\">\n<title>t2&#45;&gt;t3</title>\n<path fill=\"none\" stroke=\"#000000\" d=\"M176.1826,-57.8121C184.3034,-52.3983 193.7661,-46.0898 202.7327,-40.1121\"/>\n<polygon fill=\"#000000\" stroke=\"#000000\" points=\"204.6975,-42.5881 210.4387,-34.9748 201.2029,-37.3462 204.6975,-42.5881\"/>\n</g>\n</g>\n</svg>\n"
          },
          "metadata": {}
        },
        {
          "output_type": "display_data",
          "data": {
            "text/plain": [
              "<IPython.core.display.Markdown object>"
            ],
            "text/markdown": "---"
          },
          "metadata": {}
        },
        {
          "output_type": "stream",
          "name": "stdout",
          "text": [
            "SQL:\n",
            "  \n",
            "  SELECT\n",
            "  \tt3.name,\n",
            "  \tt1.name\n",
            "  FROM\n",
            "  \t\"country\" t1\n",
            "  \tJOIN \"borders\" t2 ON t2.country1 = t1.code\n",
            "  \tJOIN \"country\" t3 ON t2.country2 = t3.code\n",
            "  WHERE\n",
            "  \tt1.ctid <> t3.ctid\n",
            "  \tAND t1.name_tsvector @@ to_tsquery('slovakia')\n",
            "  \tAND t3.name_tsvector @@ to_tsquery('hungary')\n",
            "  LIMIT 1000;\n",
            "\n"
          ]
        },
        {
          "output_type": "display_data",
          "data": {
            "text/plain": [
              "<IPython.core.display.Markdown object>"
            ],
            "text/markdown": "---"
          },
          "metadata": {}
        },
        {
          "output_type": "stream",
          "name": "stdout",
          "text": [
            "JNTs:\n"
          ]
        },
        {
          "output_type": "display_data",
          "data": {
            "text/plain": [
              "      name      name\n",
              "0  Hungary  Slovakia"
            ],
            "text/html": [
              "\n",
              "  <div id=\"df-945d7ed8-1a0f-4589-a8a4-78f419fa7344\">\n",
              "    <div class=\"colab-df-container\">\n",
              "      <div>\n",
              "<style scoped>\n",
              "    .dataframe tbody tr th:only-of-type {\n",
              "        vertical-align: middle;\n",
              "    }\n",
              "\n",
              "    .dataframe tbody tr th {\n",
              "        vertical-align: top;\n",
              "    }\n",
              "\n",
              "    .dataframe thead th {\n",
              "        text-align: right;\n",
              "    }\n",
              "</style>\n",
              "<table border=\"1\" class=\"dataframe\">\n",
              "  <thead>\n",
              "    <tr style=\"text-align: right;\">\n",
              "      <th></th>\n",
              "      <th>name</th>\n",
              "      <th>name</th>\n",
              "    </tr>\n",
              "  </thead>\n",
              "  <tbody>\n",
              "    <tr>\n",
              "      <th>0</th>\n",
              "      <td>Hungary</td>\n",
              "      <td>Slovakia</td>\n",
              "    </tr>\n",
              "  </tbody>\n",
              "</table>\n",
              "</div>\n",
              "      <button class=\"colab-df-convert\" onclick=\"convertToInteractive('df-945d7ed8-1a0f-4589-a8a4-78f419fa7344')\"\n",
              "              title=\"Convert this dataframe to an interactive table.\"\n",
              "              style=\"display:none;\">\n",
              "        \n",
              "  <svg xmlns=\"http://www.w3.org/2000/svg\" height=\"24px\"viewBox=\"0 0 24 24\"\n",
              "       width=\"24px\">\n",
              "    <path d=\"M0 0h24v24H0V0z\" fill=\"none\"/>\n",
              "    <path d=\"M18.56 5.44l.94 2.06.94-2.06 2.06-.94-2.06-.94-.94-2.06-.94 2.06-2.06.94zm-11 1L8.5 8.5l.94-2.06 2.06-.94-2.06-.94L8.5 2.5l-.94 2.06-2.06.94zm10 10l.94 2.06.94-2.06 2.06-.94-2.06-.94-.94-2.06-.94 2.06-2.06.94z\"/><path d=\"M17.41 7.96l-1.37-1.37c-.4-.4-.92-.59-1.43-.59-.52 0-1.04.2-1.43.59L10.3 9.45l-7.72 7.72c-.78.78-.78 2.05 0 2.83L4 21.41c.39.39.9.59 1.41.59.51 0 1.02-.2 1.41-.59l7.78-7.78 2.81-2.81c.8-.78.8-2.07 0-2.86zM5.41 20L4 18.59l7.72-7.72 1.47 1.35L5.41 20z\"/>\n",
              "  </svg>\n",
              "      </button>\n",
              "      \n",
              "  <style>\n",
              "    .colab-df-container {\n",
              "      display:flex;\n",
              "      flex-wrap:wrap;\n",
              "      gap: 12px;\n",
              "    }\n",
              "\n",
              "    .colab-df-convert {\n",
              "      background-color: #E8F0FE;\n",
              "      border: none;\n",
              "      border-radius: 50%;\n",
              "      cursor: pointer;\n",
              "      display: none;\n",
              "      fill: #1967D2;\n",
              "      height: 32px;\n",
              "      padding: 0 0 0 0;\n",
              "      width: 32px;\n",
              "    }\n",
              "\n",
              "    .colab-df-convert:hover {\n",
              "      background-color: #E2EBFA;\n",
              "      box-shadow: 0px 1px 2px rgba(60, 64, 67, 0.3), 0px 1px 3px 1px rgba(60, 64, 67, 0.15);\n",
              "      fill: #174EA6;\n",
              "    }\n",
              "\n",
              "    [theme=dark] .colab-df-convert {\n",
              "      background-color: #3B4455;\n",
              "      fill: #D2E3FC;\n",
              "    }\n",
              "\n",
              "    [theme=dark] .colab-df-convert:hover {\n",
              "      background-color: #434B5C;\n",
              "      box-shadow: 0px 1px 3px 1px rgba(0, 0, 0, 0.15);\n",
              "      filter: drop-shadow(0px 1px 2px rgba(0, 0, 0, 0.3));\n",
              "      fill: #FFFFFF;\n",
              "    }\n",
              "  </style>\n",
              "\n",
              "      <script>\n",
              "        const buttonEl =\n",
              "          document.querySelector('#df-945d7ed8-1a0f-4589-a8a4-78f419fa7344 button.colab-df-convert');\n",
              "        buttonEl.style.display =\n",
              "          google.colab.kernel.accessAllowed ? 'block' : 'none';\n",
              "\n",
              "        async function convertToInteractive(key) {\n",
              "          const element = document.querySelector('#df-945d7ed8-1a0f-4589-a8a4-78f419fa7344');\n",
              "          const dataTable =\n",
              "            await google.colab.kernel.invokeFunction('convertToInteractive',\n",
              "                                                     [key], {});\n",
              "          if (!dataTable) return;\n",
              "\n",
              "          const docLinkHtml = 'Like what you see? Visit the ' +\n",
              "            '<a target=\"_blank\" href=https://colab.research.google.com/notebooks/data_table.ipynb>data table notebook</a>'\n",
              "            + ' to learn more about interactive tables.';\n",
              "          element.innerHTML = '';\n",
              "          dataTable['output_type'] = 'display_data';\n",
              "          await google.colab.output.renderOutput(dataTable, element);\n",
              "          const docLink = document.createElement('div');\n",
              "          docLink.innerHTML = docLinkHtml;\n",
              "          element.appendChild(docLink);\n",
              "        }\n",
              "      </script>\n",
              "    </div>\n",
              "  </div>\n",
              "  "
            ],
            "application/vnd.google.colaboratory.module+javascript": "\n      import \"https://ssl.gstatic.com/colaboratory/data_table/f872b2c2305463fd/data_table.js\";\n\n      window.createDataTable({\n        data: [[{\n            'v': 0,\n            'f': \"0\",\n        },\n\"Hungary\",\n\"Slovakia\"]],\n        columns: [[\"number\", \"index\"], [\"string\", \"name\"], [\"string\", \"name\"]],\n        columnOptions: [{\"width\": \"1px\", \"className\": \"index_column\"}],\n        rowsPerPage: 25,\n        helpUrl: \"https://colab.research.google.com/notebooks/data_table.ipynb\",\n        suppressOutputScrolling: true,\n        minimumWidth: undefined,\n      });\n    "
          },
          "metadata": {}
        },
        {
          "output_type": "stream",
          "name": "stdout",
          "text": [
            "\n"
          ]
        }
      ]
    },
    {
      "cell_type": "markdown",
      "source": [
        "### Running Benchmark\n",
        "\n"
      ],
      "metadata": {
        "id": "aQHcmOYcmGWc"
      }
    },
    {
      "cell_type": "markdown",
      "source": [
        "#### IMDb Dataset"
      ],
      "metadata": {
        "id": "azWiaZMcpnst"
      }
    },
    {
      "cell_type": "code",
      "source": [
        "lathe.change_queryset(1)\n",
        "lathe.load_indexes()"
      ],
      "metadata": {
        "id": "u_iKNUlEqB4h",
        "outputId": "cae865c0-b216-45cd-891f-b81e07433b5d",
        "colab": {
          "base_uri": "https://localhost:8080/"
        }
      },
      "execution_count": 28,
      "outputs": [
        {
          "output_type": "stream",
          "name": "stdout",
          "text": [
            "./config/queryset_configs/coffman_imdb_config.json\n",
            "Changed to query set coffman_imdb.\n",
            "Changed to dataset imdb.\n"
          ]
        }
      ]
    },
    {
      "cell_type": "code",
      "source": [
        "results = lathe.run_queryset()"
      ],
      "metadata": {
        "outputId": "6dd0eda3-351f-4852-ef47-512fdb4bdeca",
        "colab": {
          "base_uri": "https://localhost:8080/"
        },
        "id": "nlgA_qWsp0uo"
      },
      "execution_count": 29,
      "outputs": [
        {
          "output_type": "stream",
          "name": "stdout",
          "text": [
            "Keyword Query: denzel washington\n",
            "Keyword Query: clint eastwood\n",
            "Keyword Query: john wayne\n",
            "Keyword Query: will smith\n",
            "Keyword Query: harrison ford\n",
            "Keyword Query: julia roberts\n",
            "Keyword Query: tom hanks\n",
            "Keyword Query: johnny depp\n",
            "Keyword Query: angelina jolie\n",
            "Keyword Query: morgan freeman\n",
            "Keyword Query: gone with the wind\n",
            "Keyword Query: star wars\n",
            "Keyword Query: casablanca\n",
            "Keyword Query: lord of the rings\n",
            "Keyword Query: the sound of music\n",
            "Keyword Query: wizard of oz\n",
            "Keyword Query: the notebook\n",
            "Keyword Query: forrest gump\n",
            "Keyword Query: the princess bride\n",
            "Keyword Query: the godfather\n",
            "Keyword Query: title atticus finch\n",
            "Keyword Query: title indiana jones\n",
            "Keyword Query: title james bond\n",
            "Keyword Query: title rick blaine\n",
            "Keyword Query: title will kane\n",
            "Keyword Query: title dr. hannibal lecter\n",
            "Keyword Query: title norman bates\n",
            "Keyword Query: title darth vader\n",
            "Keyword Query: title the wicked witch of the west\n",
            "Keyword Query: title nurse ratched\n",
            "Keyword Query: title frankly my dear i don't give a damn\n",
            "Keyword Query: title i'm going to make him an offer he can't refuse\n",
            "Keyword Query: title you don't understand i coulda had class i coulda been a contender i coulda been somebody instead of a bum which is what i am\n",
            "Keyword Query: title toto i've a feeling we're not in kansas any more\n",
            "Keyword Query: title here's looking at you kid\n",
            "Keyword Query: hamill skywalker\n",
            "Keyword Query: hanks 2004\n",
            "Keyword Query: henry fonda yours mine ours character\n",
            "Keyword Query: russell crowe gladiator character\n",
            "Keyword Query: brent spiner star trek\n",
            "Keyword Query: audrey hepburn 1951\n",
            "Keyword Query: name jacques clouseau\n",
            "Keyword Query: name jack ryan\n",
            "Keyword Query: rocky stallone\n",
            "Keyword Query: name terminator\n",
            "Keyword Query: harrison ford george lucas\n",
            "Keyword Query: sean connery fleming\n",
            "Keyword Query: reeves wachowski\n",
            "Keyword Query: dean jones herbie\n",
            "Keyword Query: indiana jones last crusade lost ark\n"
          ]
        }
      ]
    },
    {
      "cell_type": "code",
      "source": [
        "evaluation=lathe.evaluate_queryset(results)\n",
        "evaluation.metrics()"
      ],
      "metadata": {
        "id": "F8pvLVA3p0uq",
        "outputId": "ebf0e175-d497-499d-c59f-6cee1fe763a8",
        "colab": {
          "base_uri": "https://localhost:8080/",
          "height": 136
        }
      },
      "execution_count": 30,
      "outputs": [
        {
          "output_type": "display_data",
          "data": {
            "text/plain": [
              "       MRR   P@1   P@2   P@3   P@4   P@5   P@6   P@7   P@8   P@9  P@10\n",
              "QMs   0.75  0.58  0.82  0.92  0.92  0.98  0.98  0.98  0.98  0.98  0.98\n",
              "CJNs  0.78  0.64  0.82  0.94  0.96  0.98  0.98  0.98  0.98  0.98  0.98"
            ],
            "text/html": [
              "\n",
              "  <div id=\"df-6b5c5c8f-21e9-4abc-a8ba-889df5fe17aa\">\n",
              "    <div class=\"colab-df-container\">\n",
              "      <div>\n",
              "<style scoped>\n",
              "    .dataframe tbody tr th:only-of-type {\n",
              "        vertical-align: middle;\n",
              "    }\n",
              "\n",
              "    .dataframe tbody tr th {\n",
              "        vertical-align: top;\n",
              "    }\n",
              "\n",
              "    .dataframe thead th {\n",
              "        text-align: right;\n",
              "    }\n",
              "</style>\n",
              "<table border=\"1\" class=\"dataframe\">\n",
              "  <thead>\n",
              "    <tr style=\"text-align: right;\">\n",
              "      <th></th>\n",
              "      <th>MRR</th>\n",
              "      <th>P@1</th>\n",
              "      <th>P@2</th>\n",
              "      <th>P@3</th>\n",
              "      <th>P@4</th>\n",
              "      <th>P@5</th>\n",
              "      <th>P@6</th>\n",
              "      <th>P@7</th>\n",
              "      <th>P@8</th>\n",
              "      <th>P@9</th>\n",
              "      <th>P@10</th>\n",
              "    </tr>\n",
              "  </thead>\n",
              "  <tbody>\n",
              "    <tr>\n",
              "      <th>QMs</th>\n",
              "      <td>0.75</td>\n",
              "      <td>0.58</td>\n",
              "      <td>0.82</td>\n",
              "      <td>0.92</td>\n",
              "      <td>0.92</td>\n",
              "      <td>0.98</td>\n",
              "      <td>0.98</td>\n",
              "      <td>0.98</td>\n",
              "      <td>0.98</td>\n",
              "      <td>0.98</td>\n",
              "      <td>0.98</td>\n",
              "    </tr>\n",
              "    <tr>\n",
              "      <th>CJNs</th>\n",
              "      <td>0.78</td>\n",
              "      <td>0.64</td>\n",
              "      <td>0.82</td>\n",
              "      <td>0.94</td>\n",
              "      <td>0.96</td>\n",
              "      <td>0.98</td>\n",
              "      <td>0.98</td>\n",
              "      <td>0.98</td>\n",
              "      <td>0.98</td>\n",
              "      <td>0.98</td>\n",
              "      <td>0.98</td>\n",
              "    </tr>\n",
              "  </tbody>\n",
              "</table>\n",
              "</div>\n",
              "      <button class=\"colab-df-convert\" onclick=\"convertToInteractive('df-6b5c5c8f-21e9-4abc-a8ba-889df5fe17aa')\"\n",
              "              title=\"Convert this dataframe to an interactive table.\"\n",
              "              style=\"display:none;\">\n",
              "        \n",
              "  <svg xmlns=\"http://www.w3.org/2000/svg\" height=\"24px\"viewBox=\"0 0 24 24\"\n",
              "       width=\"24px\">\n",
              "    <path d=\"M0 0h24v24H0V0z\" fill=\"none\"/>\n",
              "    <path d=\"M18.56 5.44l.94 2.06.94-2.06 2.06-.94-2.06-.94-.94-2.06-.94 2.06-2.06.94zm-11 1L8.5 8.5l.94-2.06 2.06-.94-2.06-.94L8.5 2.5l-.94 2.06-2.06.94zm10 10l.94 2.06.94-2.06 2.06-.94-2.06-.94-.94-2.06-.94 2.06-2.06.94z\"/><path d=\"M17.41 7.96l-1.37-1.37c-.4-.4-.92-.59-1.43-.59-.52 0-1.04.2-1.43.59L10.3 9.45l-7.72 7.72c-.78.78-.78 2.05 0 2.83L4 21.41c.39.39.9.59 1.41.59.51 0 1.02-.2 1.41-.59l7.78-7.78 2.81-2.81c.8-.78.8-2.07 0-2.86zM5.41 20L4 18.59l7.72-7.72 1.47 1.35L5.41 20z\"/>\n",
              "  </svg>\n",
              "      </button>\n",
              "      \n",
              "  <style>\n",
              "    .colab-df-container {\n",
              "      display:flex;\n",
              "      flex-wrap:wrap;\n",
              "      gap: 12px;\n",
              "    }\n",
              "\n",
              "    .colab-df-convert {\n",
              "      background-color: #E8F0FE;\n",
              "      border: none;\n",
              "      border-radius: 50%;\n",
              "      cursor: pointer;\n",
              "      display: none;\n",
              "      fill: #1967D2;\n",
              "      height: 32px;\n",
              "      padding: 0 0 0 0;\n",
              "      width: 32px;\n",
              "    }\n",
              "\n",
              "    .colab-df-convert:hover {\n",
              "      background-color: #E2EBFA;\n",
              "      box-shadow: 0px 1px 2px rgba(60, 64, 67, 0.3), 0px 1px 3px 1px rgba(60, 64, 67, 0.15);\n",
              "      fill: #174EA6;\n",
              "    }\n",
              "\n",
              "    [theme=dark] .colab-df-convert {\n",
              "      background-color: #3B4455;\n",
              "      fill: #D2E3FC;\n",
              "    }\n",
              "\n",
              "    [theme=dark] .colab-df-convert:hover {\n",
              "      background-color: #434B5C;\n",
              "      box-shadow: 0px 1px 3px 1px rgba(0, 0, 0, 0.15);\n",
              "      filter: drop-shadow(0px 1px 2px rgba(0, 0, 0, 0.3));\n",
              "      fill: #FFFFFF;\n",
              "    }\n",
              "  </style>\n",
              "\n",
              "      <script>\n",
              "        const buttonEl =\n",
              "          document.querySelector('#df-6b5c5c8f-21e9-4abc-a8ba-889df5fe17aa button.colab-df-convert');\n",
              "        buttonEl.style.display =\n",
              "          google.colab.kernel.accessAllowed ? 'block' : 'none';\n",
              "\n",
              "        async function convertToInteractive(key) {\n",
              "          const element = document.querySelector('#df-6b5c5c8f-21e9-4abc-a8ba-889df5fe17aa');\n",
              "          const dataTable =\n",
              "            await google.colab.kernel.invokeFunction('convertToInteractive',\n",
              "                                                     [key], {});\n",
              "          if (!dataTable) return;\n",
              "\n",
              "          const docLinkHtml = 'Like what you see? Visit the ' +\n",
              "            '<a target=\"_blank\" href=https://colab.research.google.com/notebooks/data_table.ipynb>data table notebook</a>'\n",
              "            + ' to learn more about interactive tables.';\n",
              "          element.innerHTML = '';\n",
              "          dataTable['output_type'] = 'display_data';\n",
              "          await google.colab.output.renderOutput(dataTable, element);\n",
              "          const docLink = document.createElement('div');\n",
              "          docLink.innerHTML = docLinkHtml;\n",
              "          element.appendChild(docLink);\n",
              "        }\n",
              "      </script>\n",
              "    </div>\n",
              "  </div>\n",
              "  "
            ],
            "application/vnd.google.colaboratory.module+javascript": "\n      import \"https://ssl.gstatic.com/colaboratory/data_table/f872b2c2305463fd/data_table.js\";\n\n      window.createDataTable({\n        data: [[\"QMs\",\n{\n            'v': 0.75,\n            'f': \"0.75\",\n        },\n{\n            'v': 0.58,\n            'f': \"0.58\",\n        },\n{\n            'v': 0.82,\n            'f': \"0.82\",\n        },\n{\n            'v': 0.92,\n            'f': \"0.92\",\n        },\n{\n            'v': 0.92,\n            'f': \"0.92\",\n        },\n{\n            'v': 0.98,\n            'f': \"0.98\",\n        },\n{\n            'v': 0.98,\n            'f': \"0.98\",\n        },\n{\n            'v': 0.98,\n            'f': \"0.98\",\n        },\n{\n            'v': 0.98,\n            'f': \"0.98\",\n        },\n{\n            'v': 0.98,\n            'f': \"0.98\",\n        },\n{\n            'v': 0.98,\n            'f': \"0.98\",\n        }],\n [\"CJNs\",\n{\n            'v': 0.78,\n            'f': \"0.78\",\n        },\n{\n            'v': 0.64,\n            'f': \"0.64\",\n        },\n{\n            'v': 0.82,\n            'f': \"0.82\",\n        },\n{\n            'v': 0.94,\n            'f': \"0.94\",\n        },\n{\n            'v': 0.96,\n            'f': \"0.96\",\n        },\n{\n            'v': 0.98,\n            'f': \"0.98\",\n        },\n{\n            'v': 0.98,\n            'f': \"0.98\",\n        },\n{\n            'v': 0.98,\n            'f': \"0.98\",\n        },\n{\n            'v': 0.98,\n            'f': \"0.98\",\n        },\n{\n            'v': 0.98,\n            'f': \"0.98\",\n        },\n{\n            'v': 0.98,\n            'f': \"0.98\",\n        }]],\n        columns: [[\"string\", \"index\"], [\"number\", \"MRR\"], [\"number\", \"P@1\"], [\"number\", \"P@2\"], [\"number\", \"P@3\"], [\"number\", \"P@4\"], [\"number\", \"P@5\"], [\"number\", \"P@6\"], [\"number\", \"P@7\"], [\"number\", \"P@8\"], [\"number\", \"P@9\"], [\"number\", \"P@10\"]],\n        columnOptions: [{\"width\": \"1px\", \"className\": \"index_column\"}],\n        rowsPerPage: 25,\n        helpUrl: \"https://colab.research.google.com/notebooks/data_table.ipynb\",\n        suppressOutputScrolling: true,\n        minimumWidth: undefined,\n      });\n    "
          },
          "metadata": {}
        }
      ]
    },
    {
      "cell_type": "code",
      "source": [
        "evaluation.relevant_positions()"
      ],
      "metadata": {
        "id": "5Da1-X7-p0ur",
        "outputId": "56ed448c-442f-4031-c076-5cc674ad16aa",
        "colab": {
          "base_uri": "https://localhost:8080/",
          "height": 1000
        }
      },
      "execution_count": 40,
      "outputs": [
        {
          "output_type": "display_data",
          "data": {
            "text/plain": [
              "                                             Relevant Position    \n",
              "                               Keyword Query                QM CJN\n",
              "1                                   thailand                 1   1\n",
              "2                                netherlands                 1   1\n",
              "3                                    georgia                 1   1\n",
              "4                              country china                 2   1\n",
              "5                                 bangladesh                 1   1\n",
              "6                                 alexandria                 1   1\n",
              "7                                  sonsonate                 1   1\n",
              "8                                    xiaogan                 1   1\n",
              "9                              city glendale                 1   1\n",
              "10                              city granada                 1   1\n",
              "11                               Lake Kariba                 1   1\n",
              "12                                     Niger                 1   1\n",
              "13                               Arabian Sea                 1   1\n",
              "14                                    Asauad                 1   1\n",
              "15                                  Sardegna                 1   1\n",
              "16                  arab cooperation council                 1   1\n",
              "17                               world labor                 1   1\n",
              "18                        islamic conference                 1   1\n",
              "19                                  30 group                 1  -1\n",
              "20                        caribbean economic                 1   1\n",
              "21                          slovakia hungary                 1   1\n",
              "22                            mongolia china                 2   1\n",
              "23                             niger algeria                 2   1\n",
              "24                       kuwait saudi arabia                 1   1\n",
              "25                             lebanon syria                 1   1\n",
              "26                          cameroon economy                 1   1\n",
              "27                               nigeria gdp                 1   1\n",
              "28                         mongolia republic                 1   1\n",
              "29                         kiribati politics                 1   1\n",
              "30                           poland language                 1   1\n",
              "31                            spain galician                 1   1\n",
              "32               uzbekistan eastern orthodox                 1   1\n",
              "33                            haiti religion                 1   1\n",
              "34                     suriname ethnic_group                 1   1\n",
              "35                           slovakia german                 2   1\n",
              "36            poland cape verde organization                 1   1\n",
              "37                      saint kitts cambodia                 1   1\n",
              "38  marshall islands grenadines organization                 1   1\n",
              "39  czech republic cote divoire organization                 1  -1\n",
              "40                               panama oman                 1   1\n",
              "41                              iceland mali                 1   1\n",
              "42                       guyana sierra leone                 1   1\n",
              "43                           mauritius india                 1   1\n",
              "44                       vanuatu afghanistan                 1   1\n",
              "45                           libya australia                 2   1\n",
              "46                               hutu africa                 1   1\n",
              "47                               serb europe                 1   1\n",
              "48                                uzbek asia                 2   2\n",
              "49                             rhein germany                 1   1\n",
              "50                                egypt nile                 1   1"
            ],
            "text/html": [
              "\n",
              "  <div id=\"df-9d423c56-cfff-41f9-ae05-b10895dde687\">\n",
              "    <div class=\"colab-df-container\">\n",
              "      <div>\n",
              "<style scoped>\n",
              "    .dataframe tbody tr th:only-of-type {\n",
              "        vertical-align: middle;\n",
              "    }\n",
              "\n",
              "    .dataframe tbody tr th {\n",
              "        vertical-align: top;\n",
              "    }\n",
              "\n",
              "    .dataframe thead tr th {\n",
              "        text-align: left;\n",
              "    }\n",
              "</style>\n",
              "<table border=\"1\" class=\"dataframe\">\n",
              "  <thead>\n",
              "    <tr>\n",
              "      <th></th>\n",
              "      <th></th>\n",
              "      <th colspan=\"2\" halign=\"left\">Relevant Position</th>\n",
              "    </tr>\n",
              "    <tr>\n",
              "      <th></th>\n",
              "      <th>Keyword Query</th>\n",
              "      <th>QM</th>\n",
              "      <th>CJN</th>\n",
              "    </tr>\n",
              "  </thead>\n",
              "  <tbody>\n",
              "    <tr>\n",
              "      <th>1</th>\n",
              "      <td>thailand</td>\n",
              "      <td>1</td>\n",
              "      <td>1</td>\n",
              "    </tr>\n",
              "    <tr>\n",
              "      <th>2</th>\n",
              "      <td>netherlands</td>\n",
              "      <td>1</td>\n",
              "      <td>1</td>\n",
              "    </tr>\n",
              "    <tr>\n",
              "      <th>3</th>\n",
              "      <td>georgia</td>\n",
              "      <td>1</td>\n",
              "      <td>1</td>\n",
              "    </tr>\n",
              "    <tr>\n",
              "      <th>4</th>\n",
              "      <td>country china</td>\n",
              "      <td>2</td>\n",
              "      <td>1</td>\n",
              "    </tr>\n",
              "    <tr>\n",
              "      <th>5</th>\n",
              "      <td>bangladesh</td>\n",
              "      <td>1</td>\n",
              "      <td>1</td>\n",
              "    </tr>\n",
              "    <tr>\n",
              "      <th>6</th>\n",
              "      <td>alexandria</td>\n",
              "      <td>1</td>\n",
              "      <td>1</td>\n",
              "    </tr>\n",
              "    <tr>\n",
              "      <th>7</th>\n",
              "      <td>sonsonate</td>\n",
              "      <td>1</td>\n",
              "      <td>1</td>\n",
              "    </tr>\n",
              "    <tr>\n",
              "      <th>8</th>\n",
              "      <td>xiaogan</td>\n",
              "      <td>1</td>\n",
              "      <td>1</td>\n",
              "    </tr>\n",
              "    <tr>\n",
              "      <th>9</th>\n",
              "      <td>city glendale</td>\n",
              "      <td>1</td>\n",
              "      <td>1</td>\n",
              "    </tr>\n",
              "    <tr>\n",
              "      <th>10</th>\n",
              "      <td>city granada</td>\n",
              "      <td>1</td>\n",
              "      <td>1</td>\n",
              "    </tr>\n",
              "    <tr>\n",
              "      <th>11</th>\n",
              "      <td>Lake Kariba</td>\n",
              "      <td>1</td>\n",
              "      <td>1</td>\n",
              "    </tr>\n",
              "    <tr>\n",
              "      <th>12</th>\n",
              "      <td>Niger</td>\n",
              "      <td>1</td>\n",
              "      <td>1</td>\n",
              "    </tr>\n",
              "    <tr>\n",
              "      <th>13</th>\n",
              "      <td>Arabian Sea</td>\n",
              "      <td>1</td>\n",
              "      <td>1</td>\n",
              "    </tr>\n",
              "    <tr>\n",
              "      <th>14</th>\n",
              "      <td>Asauad</td>\n",
              "      <td>1</td>\n",
              "      <td>1</td>\n",
              "    </tr>\n",
              "    <tr>\n",
              "      <th>15</th>\n",
              "      <td>Sardegna</td>\n",
              "      <td>1</td>\n",
              "      <td>1</td>\n",
              "    </tr>\n",
              "    <tr>\n",
              "      <th>16</th>\n",
              "      <td>arab cooperation council</td>\n",
              "      <td>1</td>\n",
              "      <td>1</td>\n",
              "    </tr>\n",
              "    <tr>\n",
              "      <th>17</th>\n",
              "      <td>world labor</td>\n",
              "      <td>1</td>\n",
              "      <td>1</td>\n",
              "    </tr>\n",
              "    <tr>\n",
              "      <th>18</th>\n",
              "      <td>islamic conference</td>\n",
              "      <td>1</td>\n",
              "      <td>1</td>\n",
              "    </tr>\n",
              "    <tr>\n",
              "      <th>19</th>\n",
              "      <td>30 group</td>\n",
              "      <td>1</td>\n",
              "      <td>-1</td>\n",
              "    </tr>\n",
              "    <tr>\n",
              "      <th>20</th>\n",
              "      <td>caribbean economic</td>\n",
              "      <td>1</td>\n",
              "      <td>1</td>\n",
              "    </tr>\n",
              "    <tr>\n",
              "      <th>21</th>\n",
              "      <td>slovakia hungary</td>\n",
              "      <td>1</td>\n",
              "      <td>1</td>\n",
              "    </tr>\n",
              "    <tr>\n",
              "      <th>22</th>\n",
              "      <td>mongolia china</td>\n",
              "      <td>2</td>\n",
              "      <td>1</td>\n",
              "    </tr>\n",
              "    <tr>\n",
              "      <th>23</th>\n",
              "      <td>niger algeria</td>\n",
              "      <td>2</td>\n",
              "      <td>1</td>\n",
              "    </tr>\n",
              "    <tr>\n",
              "      <th>24</th>\n",
              "      <td>kuwait saudi arabia</td>\n",
              "      <td>1</td>\n",
              "      <td>1</td>\n",
              "    </tr>\n",
              "    <tr>\n",
              "      <th>25</th>\n",
              "      <td>lebanon syria</td>\n",
              "      <td>1</td>\n",
              "      <td>1</td>\n",
              "    </tr>\n",
              "    <tr>\n",
              "      <th>26</th>\n",
              "      <td>cameroon economy</td>\n",
              "      <td>1</td>\n",
              "      <td>1</td>\n",
              "    </tr>\n",
              "    <tr>\n",
              "      <th>27</th>\n",
              "      <td>nigeria gdp</td>\n",
              "      <td>1</td>\n",
              "      <td>1</td>\n",
              "    </tr>\n",
              "    <tr>\n",
              "      <th>28</th>\n",
              "      <td>mongolia republic</td>\n",
              "      <td>1</td>\n",
              "      <td>1</td>\n",
              "    </tr>\n",
              "    <tr>\n",
              "      <th>29</th>\n",
              "      <td>kiribati politics</td>\n",
              "      <td>1</td>\n",
              "      <td>1</td>\n",
              "    </tr>\n",
              "    <tr>\n",
              "      <th>30</th>\n",
              "      <td>poland language</td>\n",
              "      <td>1</td>\n",
              "      <td>1</td>\n",
              "    </tr>\n",
              "    <tr>\n",
              "      <th>31</th>\n",
              "      <td>spain galician</td>\n",
              "      <td>1</td>\n",
              "      <td>1</td>\n",
              "    </tr>\n",
              "    <tr>\n",
              "      <th>32</th>\n",
              "      <td>uzbekistan eastern orthodox</td>\n",
              "      <td>1</td>\n",
              "      <td>1</td>\n",
              "    </tr>\n",
              "    <tr>\n",
              "      <th>33</th>\n",
              "      <td>haiti religion</td>\n",
              "      <td>1</td>\n",
              "      <td>1</td>\n",
              "    </tr>\n",
              "    <tr>\n",
              "      <th>34</th>\n",
              "      <td>suriname ethnic_group</td>\n",
              "      <td>1</td>\n",
              "      <td>1</td>\n",
              "    </tr>\n",
              "    <tr>\n",
              "      <th>35</th>\n",
              "      <td>slovakia german</td>\n",
              "      <td>2</td>\n",
              "      <td>1</td>\n",
              "    </tr>\n",
              "    <tr>\n",
              "      <th>36</th>\n",
              "      <td>poland cape verde organization</td>\n",
              "      <td>1</td>\n",
              "      <td>1</td>\n",
              "    </tr>\n",
              "    <tr>\n",
              "      <th>37</th>\n",
              "      <td>saint kitts cambodia</td>\n",
              "      <td>1</td>\n",
              "      <td>1</td>\n",
              "    </tr>\n",
              "    <tr>\n",
              "      <th>38</th>\n",
              "      <td>marshall islands grenadines organization</td>\n",
              "      <td>1</td>\n",
              "      <td>1</td>\n",
              "    </tr>\n",
              "    <tr>\n",
              "      <th>39</th>\n",
              "      <td>czech republic cote divoire organization</td>\n",
              "      <td>1</td>\n",
              "      <td>-1</td>\n",
              "    </tr>\n",
              "    <tr>\n",
              "      <th>40</th>\n",
              "      <td>panama oman</td>\n",
              "      <td>1</td>\n",
              "      <td>1</td>\n",
              "    </tr>\n",
              "    <tr>\n",
              "      <th>41</th>\n",
              "      <td>iceland mali</td>\n",
              "      <td>1</td>\n",
              "      <td>1</td>\n",
              "    </tr>\n",
              "    <tr>\n",
              "      <th>42</th>\n",
              "      <td>guyana sierra leone</td>\n",
              "      <td>1</td>\n",
              "      <td>1</td>\n",
              "    </tr>\n",
              "    <tr>\n",
              "      <th>43</th>\n",
              "      <td>mauritius india</td>\n",
              "      <td>1</td>\n",
              "      <td>1</td>\n",
              "    </tr>\n",
              "    <tr>\n",
              "      <th>44</th>\n",
              "      <td>vanuatu afghanistan</td>\n",
              "      <td>1</td>\n",
              "      <td>1</td>\n",
              "    </tr>\n",
              "    <tr>\n",
              "      <th>45</th>\n",
              "      <td>libya australia</td>\n",
              "      <td>2</td>\n",
              "      <td>1</td>\n",
              "    </tr>\n",
              "    <tr>\n",
              "      <th>46</th>\n",
              "      <td>hutu africa</td>\n",
              "      <td>1</td>\n",
              "      <td>1</td>\n",
              "    </tr>\n",
              "    <tr>\n",
              "      <th>47</th>\n",
              "      <td>serb europe</td>\n",
              "      <td>1</td>\n",
              "      <td>1</td>\n",
              "    </tr>\n",
              "    <tr>\n",
              "      <th>48</th>\n",
              "      <td>uzbek asia</td>\n",
              "      <td>2</td>\n",
              "      <td>2</td>\n",
              "    </tr>\n",
              "    <tr>\n",
              "      <th>49</th>\n",
              "      <td>rhein germany</td>\n",
              "      <td>1</td>\n",
              "      <td>1</td>\n",
              "    </tr>\n",
              "    <tr>\n",
              "      <th>50</th>\n",
              "      <td>egypt nile</td>\n",
              "      <td>1</td>\n",
              "      <td>1</td>\n",
              "    </tr>\n",
              "  </tbody>\n",
              "</table>\n",
              "</div>\n",
              "      <button class=\"colab-df-convert\" onclick=\"convertToInteractive('df-9d423c56-cfff-41f9-ae05-b10895dde687')\"\n",
              "              title=\"Convert this dataframe to an interactive table.\"\n",
              "              style=\"display:none;\">\n",
              "        \n",
              "  <svg xmlns=\"http://www.w3.org/2000/svg\" height=\"24px\"viewBox=\"0 0 24 24\"\n",
              "       width=\"24px\">\n",
              "    <path d=\"M0 0h24v24H0V0z\" fill=\"none\"/>\n",
              "    <path d=\"M18.56 5.44l.94 2.06.94-2.06 2.06-.94-2.06-.94-.94-2.06-.94 2.06-2.06.94zm-11 1L8.5 8.5l.94-2.06 2.06-.94-2.06-.94L8.5 2.5l-.94 2.06-2.06.94zm10 10l.94 2.06.94-2.06 2.06-.94-2.06-.94-.94-2.06-.94 2.06-2.06.94z\"/><path d=\"M17.41 7.96l-1.37-1.37c-.4-.4-.92-.59-1.43-.59-.52 0-1.04.2-1.43.59L10.3 9.45l-7.72 7.72c-.78.78-.78 2.05 0 2.83L4 21.41c.39.39.9.59 1.41.59.51 0 1.02-.2 1.41-.59l7.78-7.78 2.81-2.81c.8-.78.8-2.07 0-2.86zM5.41 20L4 18.59l7.72-7.72 1.47 1.35L5.41 20z\"/>\n",
              "  </svg>\n",
              "      </button>\n",
              "      \n",
              "  <style>\n",
              "    .colab-df-container {\n",
              "      display:flex;\n",
              "      flex-wrap:wrap;\n",
              "      gap: 12px;\n",
              "    }\n",
              "\n",
              "    .colab-df-convert {\n",
              "      background-color: #E8F0FE;\n",
              "      border: none;\n",
              "      border-radius: 50%;\n",
              "      cursor: pointer;\n",
              "      display: none;\n",
              "      fill: #1967D2;\n",
              "      height: 32px;\n",
              "      padding: 0 0 0 0;\n",
              "      width: 32px;\n",
              "    }\n",
              "\n",
              "    .colab-df-convert:hover {\n",
              "      background-color: #E2EBFA;\n",
              "      box-shadow: 0px 1px 2px rgba(60, 64, 67, 0.3), 0px 1px 3px 1px rgba(60, 64, 67, 0.15);\n",
              "      fill: #174EA6;\n",
              "    }\n",
              "\n",
              "    [theme=dark] .colab-df-convert {\n",
              "      background-color: #3B4455;\n",
              "      fill: #D2E3FC;\n",
              "    }\n",
              "\n",
              "    [theme=dark] .colab-df-convert:hover {\n",
              "      background-color: #434B5C;\n",
              "      box-shadow: 0px 1px 3px 1px rgba(0, 0, 0, 0.15);\n",
              "      filter: drop-shadow(0px 1px 2px rgba(0, 0, 0, 0.3));\n",
              "      fill: #FFFFFF;\n",
              "    }\n",
              "  </style>\n",
              "\n",
              "      <script>\n",
              "        const buttonEl =\n",
              "          document.querySelector('#df-9d423c56-cfff-41f9-ae05-b10895dde687 button.colab-df-convert');\n",
              "        buttonEl.style.display =\n",
              "          google.colab.kernel.accessAllowed ? 'block' : 'none';\n",
              "\n",
              "        async function convertToInteractive(key) {\n",
              "          const element = document.querySelector('#df-9d423c56-cfff-41f9-ae05-b10895dde687');\n",
              "          const dataTable =\n",
              "            await google.colab.kernel.invokeFunction('convertToInteractive',\n",
              "                                                     [key], {});\n",
              "          if (!dataTable) return;\n",
              "\n",
              "          const docLinkHtml = 'Like what you see? Visit the ' +\n",
              "            '<a target=\"_blank\" href=https://colab.research.google.com/notebooks/data_table.ipynb>data table notebook</a>'\n",
              "            + ' to learn more about interactive tables.';\n",
              "          element.innerHTML = '';\n",
              "          dataTable['output_type'] = 'display_data';\n",
              "          await google.colab.output.renderOutput(dataTable, element);\n",
              "          const docLink = document.createElement('div');\n",
              "          docLink.innerHTML = docLinkHtml;\n",
              "          element.appendChild(docLink);\n",
              "        }\n",
              "      </script>\n",
              "    </div>\n",
              "  </div>\n",
              "  "
            ]
          },
          "metadata": {}
        }
      ]
    },
    {
      "cell_type": "markdown",
      "source": [
        "#### MONDIAL Dataset"
      ],
      "metadata": {
        "id": "VlaP-jv9phaQ"
      }
    },
    {
      "cell_type": "code",
      "source": [
        "lathe.change_queryset(2)\n",
        "lathe.load_indexes()"
      ],
      "metadata": {
        "colab": {
          "base_uri": "https://localhost:8080/"
        },
        "id": "hyn46LYUsik7",
        "outputId": "2745e75f-5b0c-48fb-c02e-e9548daca1d8"
      },
      "execution_count": 32,
      "outputs": [
        {
          "output_type": "stream",
          "name": "stdout",
          "text": [
            "./config/queryset_configs/coffman_mondial_config.json\n",
            "Changed to query set coffman_mondial.\n",
            "Changed to dataset mondial.\n"
          ]
        }
      ]
    },
    {
      "cell_type": "code",
      "source": [
        "results = lathe.run_queryset()"
      ],
      "metadata": {
        "colab": {
          "base_uri": "https://localhost:8080/"
        },
        "id": "PE-u3ICd_d-5",
        "outputId": "ae892666-38d3-4beb-b136-a18f31dc47b4"
      },
      "execution_count": 33,
      "outputs": [
        {
          "output_type": "stream",
          "name": "stdout",
          "text": [
            "Keyword Query: thailand\n",
            "Keyword Query: netherlands\n",
            "Keyword Query: georgia\n",
            "Keyword Query: country china\n",
            "Keyword Query: bangladesh\n",
            "Keyword Query: alexandria\n",
            "Keyword Query: sonsonate\n",
            "Keyword Query: xiaogan\n",
            "Keyword Query: city glendale\n",
            "Keyword Query: city granada\n",
            "Keyword Query: Lake Kariba\n",
            "Keyword Query: Niger\n",
            "Keyword Query: Arabian Sea\n",
            "Keyword Query: Asauad\n",
            "Keyword Query: Sardegna\n",
            "Keyword Query: arab cooperation council\n",
            "Keyword Query: world labor\n",
            "Keyword Query: islamic conference\n",
            "Keyword Query: 30 group\n",
            "Keyword Query: caribbean economic\n",
            "Keyword Query: slovakia hungary\n",
            "Keyword Query: mongolia china\n",
            "Keyword Query: niger algeria\n",
            "Keyword Query: kuwait saudi arabia\n",
            "Keyword Query: lebanon syria\n",
            "Keyword Query: cameroon economy\n",
            "Keyword Query: nigeria gdp\n",
            "Keyword Query: mongolia republic\n",
            "Keyword Query: kiribati politics\n",
            "Keyword Query: poland language\n",
            "Keyword Query: spain galician\n",
            "Keyword Query: uzbekistan eastern orthodox\n",
            "Keyword Query: haiti religion\n",
            "Keyword Query: suriname ethnic_group\n",
            "Keyword Query: slovakia german\n",
            "Keyword Query: poland cape verde organization\n",
            "Keyword Query: saint kitts cambodia\n",
            "Keyword Query: marshall islands grenadines organization\n",
            "Keyword Query: czech republic cote divoire organization\n",
            "Keyword Query: panama oman\n",
            "Keyword Query: iceland mali\n",
            "Keyword Query: guyana sierra leone\n",
            "Keyword Query: mauritius india\n",
            "Keyword Query: vanuatu afghanistan\n",
            "Keyword Query: libya australia\n",
            "Keyword Query: hutu africa\n",
            "Keyword Query: serb europe\n",
            "Keyword Query: uzbek asia\n",
            "Keyword Query: rhein germany\n",
            "Keyword Query: egypt nile\n"
          ]
        }
      ]
    },
    {
      "cell_type": "code",
      "source": [
        "evaluation=lathe.evaluate_queryset(results)\n",
        "evaluation.metrics()"
      ],
      "metadata": {
        "colab": {
          "base_uri": "https://localhost:8080/",
          "height": 136
        },
        "id": "Z-FOHKoh_eG9",
        "outputId": "47afd4f5-2e39-4b4e-a2aa-a6d5d55d86bc"
      },
      "execution_count": 34,
      "outputs": [
        {
          "output_type": "display_data",
          "data": {
            "text/plain": [
              "       MRR   P@1   P@2   P@3   P@4   P@5   P@6   P@7   P@8   P@9  P@10\n",
              "QMs   0.94  0.88  1.00  1.00  1.00  1.00  1.00  1.00  1.00  1.00  1.00\n",
              "CJNs  0.95  0.94  0.96  0.96  0.96  0.96  0.96  0.96  0.96  0.96  0.96"
            ],
            "text/html": [
              "\n",
              "  <div id=\"df-a914b344-82c1-47e0-893c-9e8a5bd56bb7\">\n",
              "    <div class=\"colab-df-container\">\n",
              "      <div>\n",
              "<style scoped>\n",
              "    .dataframe tbody tr th:only-of-type {\n",
              "        vertical-align: middle;\n",
              "    }\n",
              "\n",
              "    .dataframe tbody tr th {\n",
              "        vertical-align: top;\n",
              "    }\n",
              "\n",
              "    .dataframe thead th {\n",
              "        text-align: right;\n",
              "    }\n",
              "</style>\n",
              "<table border=\"1\" class=\"dataframe\">\n",
              "  <thead>\n",
              "    <tr style=\"text-align: right;\">\n",
              "      <th></th>\n",
              "      <th>MRR</th>\n",
              "      <th>P@1</th>\n",
              "      <th>P@2</th>\n",
              "      <th>P@3</th>\n",
              "      <th>P@4</th>\n",
              "      <th>P@5</th>\n",
              "      <th>P@6</th>\n",
              "      <th>P@7</th>\n",
              "      <th>P@8</th>\n",
              "      <th>P@9</th>\n",
              "      <th>P@10</th>\n",
              "    </tr>\n",
              "  </thead>\n",
              "  <tbody>\n",
              "    <tr>\n",
              "      <th>QMs</th>\n",
              "      <td>0.94</td>\n",
              "      <td>0.88</td>\n",
              "      <td>1.00</td>\n",
              "      <td>1.00</td>\n",
              "      <td>1.00</td>\n",
              "      <td>1.00</td>\n",
              "      <td>1.00</td>\n",
              "      <td>1.00</td>\n",
              "      <td>1.00</td>\n",
              "      <td>1.00</td>\n",
              "      <td>1.00</td>\n",
              "    </tr>\n",
              "    <tr>\n",
              "      <th>CJNs</th>\n",
              "      <td>0.95</td>\n",
              "      <td>0.94</td>\n",
              "      <td>0.96</td>\n",
              "      <td>0.96</td>\n",
              "      <td>0.96</td>\n",
              "      <td>0.96</td>\n",
              "      <td>0.96</td>\n",
              "      <td>0.96</td>\n",
              "      <td>0.96</td>\n",
              "      <td>0.96</td>\n",
              "      <td>0.96</td>\n",
              "    </tr>\n",
              "  </tbody>\n",
              "</table>\n",
              "</div>\n",
              "      <button class=\"colab-df-convert\" onclick=\"convertToInteractive('df-a914b344-82c1-47e0-893c-9e8a5bd56bb7')\"\n",
              "              title=\"Convert this dataframe to an interactive table.\"\n",
              "              style=\"display:none;\">\n",
              "        \n",
              "  <svg xmlns=\"http://www.w3.org/2000/svg\" height=\"24px\"viewBox=\"0 0 24 24\"\n",
              "       width=\"24px\">\n",
              "    <path d=\"M0 0h24v24H0V0z\" fill=\"none\"/>\n",
              "    <path d=\"M18.56 5.44l.94 2.06.94-2.06 2.06-.94-2.06-.94-.94-2.06-.94 2.06-2.06.94zm-11 1L8.5 8.5l.94-2.06 2.06-.94-2.06-.94L8.5 2.5l-.94 2.06-2.06.94zm10 10l.94 2.06.94-2.06 2.06-.94-2.06-.94-.94-2.06-.94 2.06-2.06.94z\"/><path d=\"M17.41 7.96l-1.37-1.37c-.4-.4-.92-.59-1.43-.59-.52 0-1.04.2-1.43.59L10.3 9.45l-7.72 7.72c-.78.78-.78 2.05 0 2.83L4 21.41c.39.39.9.59 1.41.59.51 0 1.02-.2 1.41-.59l7.78-7.78 2.81-2.81c.8-.78.8-2.07 0-2.86zM5.41 20L4 18.59l7.72-7.72 1.47 1.35L5.41 20z\"/>\n",
              "  </svg>\n",
              "      </button>\n",
              "      \n",
              "  <style>\n",
              "    .colab-df-container {\n",
              "      display:flex;\n",
              "      flex-wrap:wrap;\n",
              "      gap: 12px;\n",
              "    }\n",
              "\n",
              "    .colab-df-convert {\n",
              "      background-color: #E8F0FE;\n",
              "      border: none;\n",
              "      border-radius: 50%;\n",
              "      cursor: pointer;\n",
              "      display: none;\n",
              "      fill: #1967D2;\n",
              "      height: 32px;\n",
              "      padding: 0 0 0 0;\n",
              "      width: 32px;\n",
              "    }\n",
              "\n",
              "    .colab-df-convert:hover {\n",
              "      background-color: #E2EBFA;\n",
              "      box-shadow: 0px 1px 2px rgba(60, 64, 67, 0.3), 0px 1px 3px 1px rgba(60, 64, 67, 0.15);\n",
              "      fill: #174EA6;\n",
              "    }\n",
              "\n",
              "    [theme=dark] .colab-df-convert {\n",
              "      background-color: #3B4455;\n",
              "      fill: #D2E3FC;\n",
              "    }\n",
              "\n",
              "    [theme=dark] .colab-df-convert:hover {\n",
              "      background-color: #434B5C;\n",
              "      box-shadow: 0px 1px 3px 1px rgba(0, 0, 0, 0.15);\n",
              "      filter: drop-shadow(0px 1px 2px rgba(0, 0, 0, 0.3));\n",
              "      fill: #FFFFFF;\n",
              "    }\n",
              "  </style>\n",
              "\n",
              "      <script>\n",
              "        const buttonEl =\n",
              "          document.querySelector('#df-a914b344-82c1-47e0-893c-9e8a5bd56bb7 button.colab-df-convert');\n",
              "        buttonEl.style.display =\n",
              "          google.colab.kernel.accessAllowed ? 'block' : 'none';\n",
              "\n",
              "        async function convertToInteractive(key) {\n",
              "          const element = document.querySelector('#df-a914b344-82c1-47e0-893c-9e8a5bd56bb7');\n",
              "          const dataTable =\n",
              "            await google.colab.kernel.invokeFunction('convertToInteractive',\n",
              "                                                     [key], {});\n",
              "          if (!dataTable) return;\n",
              "\n",
              "          const docLinkHtml = 'Like what you see? Visit the ' +\n",
              "            '<a target=\"_blank\" href=https://colab.research.google.com/notebooks/data_table.ipynb>data table notebook</a>'\n",
              "            + ' to learn more about interactive tables.';\n",
              "          element.innerHTML = '';\n",
              "          dataTable['output_type'] = 'display_data';\n",
              "          await google.colab.output.renderOutput(dataTable, element);\n",
              "          const docLink = document.createElement('div');\n",
              "          docLink.innerHTML = docLinkHtml;\n",
              "          element.appendChild(docLink);\n",
              "        }\n",
              "      </script>\n",
              "    </div>\n",
              "  </div>\n",
              "  "
            ],
            "application/vnd.google.colaboratory.module+javascript": "\n      import \"https://ssl.gstatic.com/colaboratory/data_table/f872b2c2305463fd/data_table.js\";\n\n      window.createDataTable({\n        data: [[\"QMs\",\n{\n            'v': 0.94,\n            'f': \"0.94\",\n        },\n{\n            'v': 0.88,\n            'f': \"0.88\",\n        },\n{\n            'v': 1.0,\n            'f': \"1.0\",\n        },\n{\n            'v': 1.0,\n            'f': \"1.0\",\n        },\n{\n            'v': 1.0,\n            'f': \"1.0\",\n        },\n{\n            'v': 1.0,\n            'f': \"1.0\",\n        },\n{\n            'v': 1.0,\n            'f': \"1.0\",\n        },\n{\n            'v': 1.0,\n            'f': \"1.0\",\n        },\n{\n            'v': 1.0,\n            'f': \"1.0\",\n        },\n{\n            'v': 1.0,\n            'f': \"1.0\",\n        },\n{\n            'v': 1.0,\n            'f': \"1.0\",\n        }],\n [\"CJNs\",\n{\n            'v': 0.95,\n            'f': \"0.95\",\n        },\n{\n            'v': 0.94,\n            'f': \"0.94\",\n        },\n{\n            'v': 0.96,\n            'f': \"0.96\",\n        },\n{\n            'v': 0.96,\n            'f': \"0.96\",\n        },\n{\n            'v': 0.96,\n            'f': \"0.96\",\n        },\n{\n            'v': 0.96,\n            'f': \"0.96\",\n        },\n{\n            'v': 0.96,\n            'f': \"0.96\",\n        },\n{\n            'v': 0.96,\n            'f': \"0.96\",\n        },\n{\n            'v': 0.96,\n            'f': \"0.96\",\n        },\n{\n            'v': 0.96,\n            'f': \"0.96\",\n        },\n{\n            'v': 0.96,\n            'f': \"0.96\",\n        }]],\n        columns: [[\"string\", \"index\"], [\"number\", \"MRR\"], [\"number\", \"P@1\"], [\"number\", \"P@2\"], [\"number\", \"P@3\"], [\"number\", \"P@4\"], [\"number\", \"P@5\"], [\"number\", \"P@6\"], [\"number\", \"P@7\"], [\"number\", \"P@8\"], [\"number\", \"P@9\"], [\"number\", \"P@10\"]],\n        columnOptions: [{\"width\": \"1px\", \"className\": \"index_column\"}],\n        rowsPerPage: 25,\n        helpUrl: \"https://colab.research.google.com/notebooks/data_table.ipynb\",\n        suppressOutputScrolling: true,\n        minimumWidth: undefined,\n      });\n    "
          },
          "metadata": {}
        }
      ]
    },
    {
      "cell_type": "code",
      "source": [
        "evaluation.relevant_positions()"
      ],
      "metadata": {
        "colab": {
          "base_uri": "https://localhost:8080/",
          "height": 1000
        },
        "id": "JLwta5iE_-2l",
        "outputId": "efcfaae6-5ba0-4784-8096-0f4e134a306b"
      },
      "execution_count": 36,
      "outputs": [
        {
          "output_type": "display_data",
          "data": {
            "text/plain": [
              "                                             Relevant Position    \n",
              "                               Keyword Query                QM CJN\n",
              "1                                   thailand                 1   1\n",
              "2                                netherlands                 1   1\n",
              "3                                    georgia                 1   1\n",
              "4                              country china                 2   1\n",
              "5                                 bangladesh                 1   1\n",
              "6                                 alexandria                 1   1\n",
              "7                                  sonsonate                 1   1\n",
              "8                                    xiaogan                 1   1\n",
              "9                              city glendale                 1   1\n",
              "10                              city granada                 1   1\n",
              "11                               Lake Kariba                 1   1\n",
              "12                                     Niger                 1   1\n",
              "13                               Arabian Sea                 1   1\n",
              "14                                    Asauad                 1   1\n",
              "15                                  Sardegna                 1   1\n",
              "16                  arab cooperation council                 1   1\n",
              "17                               world labor                 1   1\n",
              "18                        islamic conference                 1   1\n",
              "19                                  30 group                 1  -1\n",
              "20                        caribbean economic                 1   1\n",
              "21                          slovakia hungary                 1   1\n",
              "22                            mongolia china                 2   1\n",
              "23                             niger algeria                 2   1\n",
              "24                       kuwait saudi arabia                 1   1\n",
              "25                             lebanon syria                 1   1\n",
              "26                          cameroon economy                 1   1\n",
              "27                               nigeria gdp                 1   1\n",
              "28                         mongolia republic                 1   1\n",
              "29                         kiribati politics                 1   1\n",
              "30                           poland language                 1   1\n",
              "31                            spain galician                 1   1\n",
              "32               uzbekistan eastern orthodox                 1   1\n",
              "33                            haiti religion                 1   1\n",
              "34                     suriname ethnic_group                 1   1\n",
              "35                           slovakia german                 2   1\n",
              "36            poland cape verde organization                 1   1\n",
              "37                      saint kitts cambodia                 1   1\n",
              "38  marshall islands grenadines organization                 1   1\n",
              "39  czech republic cote divoire organization                 1  -1\n",
              "40                               panama oman                 1   1\n",
              "41                              iceland mali                 1   1\n",
              "42                       guyana sierra leone                 1   1\n",
              "43                           mauritius india                 1   1\n",
              "44                       vanuatu afghanistan                 1   1\n",
              "45                           libya australia                 2   1\n",
              "46                               hutu africa                 1   1\n",
              "47                               serb europe                 1   1\n",
              "48                                uzbek asia                 2   2\n",
              "49                             rhein germany                 1   1\n",
              "50                                egypt nile                 1   1"
            ],
            "text/html": [
              "\n",
              "  <div id=\"df-82ee3777-27be-4c71-8454-8d85fd5a3229\">\n",
              "    <div class=\"colab-df-container\">\n",
              "      <div>\n",
              "<style scoped>\n",
              "    .dataframe tbody tr th:only-of-type {\n",
              "        vertical-align: middle;\n",
              "    }\n",
              "\n",
              "    .dataframe tbody tr th {\n",
              "        vertical-align: top;\n",
              "    }\n",
              "\n",
              "    .dataframe thead tr th {\n",
              "        text-align: left;\n",
              "    }\n",
              "</style>\n",
              "<table border=\"1\" class=\"dataframe\">\n",
              "  <thead>\n",
              "    <tr>\n",
              "      <th></th>\n",
              "      <th></th>\n",
              "      <th colspan=\"2\" halign=\"left\">Relevant Position</th>\n",
              "    </tr>\n",
              "    <tr>\n",
              "      <th></th>\n",
              "      <th>Keyword Query</th>\n",
              "      <th>QM</th>\n",
              "      <th>CJN</th>\n",
              "    </tr>\n",
              "  </thead>\n",
              "  <tbody>\n",
              "    <tr>\n",
              "      <th>1</th>\n",
              "      <td>thailand</td>\n",
              "      <td>1</td>\n",
              "      <td>1</td>\n",
              "    </tr>\n",
              "    <tr>\n",
              "      <th>2</th>\n",
              "      <td>netherlands</td>\n",
              "      <td>1</td>\n",
              "      <td>1</td>\n",
              "    </tr>\n",
              "    <tr>\n",
              "      <th>3</th>\n",
              "      <td>georgia</td>\n",
              "      <td>1</td>\n",
              "      <td>1</td>\n",
              "    </tr>\n",
              "    <tr>\n",
              "      <th>4</th>\n",
              "      <td>country china</td>\n",
              "      <td>2</td>\n",
              "      <td>1</td>\n",
              "    </tr>\n",
              "    <tr>\n",
              "      <th>5</th>\n",
              "      <td>bangladesh</td>\n",
              "      <td>1</td>\n",
              "      <td>1</td>\n",
              "    </tr>\n",
              "    <tr>\n",
              "      <th>6</th>\n",
              "      <td>alexandria</td>\n",
              "      <td>1</td>\n",
              "      <td>1</td>\n",
              "    </tr>\n",
              "    <tr>\n",
              "      <th>7</th>\n",
              "      <td>sonsonate</td>\n",
              "      <td>1</td>\n",
              "      <td>1</td>\n",
              "    </tr>\n",
              "    <tr>\n",
              "      <th>8</th>\n",
              "      <td>xiaogan</td>\n",
              "      <td>1</td>\n",
              "      <td>1</td>\n",
              "    </tr>\n",
              "    <tr>\n",
              "      <th>9</th>\n",
              "      <td>city glendale</td>\n",
              "      <td>1</td>\n",
              "      <td>1</td>\n",
              "    </tr>\n",
              "    <tr>\n",
              "      <th>10</th>\n",
              "      <td>city granada</td>\n",
              "      <td>1</td>\n",
              "      <td>1</td>\n",
              "    </tr>\n",
              "    <tr>\n",
              "      <th>11</th>\n",
              "      <td>Lake Kariba</td>\n",
              "      <td>1</td>\n",
              "      <td>1</td>\n",
              "    </tr>\n",
              "    <tr>\n",
              "      <th>12</th>\n",
              "      <td>Niger</td>\n",
              "      <td>1</td>\n",
              "      <td>1</td>\n",
              "    </tr>\n",
              "    <tr>\n",
              "      <th>13</th>\n",
              "      <td>Arabian Sea</td>\n",
              "      <td>1</td>\n",
              "      <td>1</td>\n",
              "    </tr>\n",
              "    <tr>\n",
              "      <th>14</th>\n",
              "      <td>Asauad</td>\n",
              "      <td>1</td>\n",
              "      <td>1</td>\n",
              "    </tr>\n",
              "    <tr>\n",
              "      <th>15</th>\n",
              "      <td>Sardegna</td>\n",
              "      <td>1</td>\n",
              "      <td>1</td>\n",
              "    </tr>\n",
              "    <tr>\n",
              "      <th>16</th>\n",
              "      <td>arab cooperation council</td>\n",
              "      <td>1</td>\n",
              "      <td>1</td>\n",
              "    </tr>\n",
              "    <tr>\n",
              "      <th>17</th>\n",
              "      <td>world labor</td>\n",
              "      <td>1</td>\n",
              "      <td>1</td>\n",
              "    </tr>\n",
              "    <tr>\n",
              "      <th>18</th>\n",
              "      <td>islamic conference</td>\n",
              "      <td>1</td>\n",
              "      <td>1</td>\n",
              "    </tr>\n",
              "    <tr>\n",
              "      <th>19</th>\n",
              "      <td>30 group</td>\n",
              "      <td>1</td>\n",
              "      <td>-1</td>\n",
              "    </tr>\n",
              "    <tr>\n",
              "      <th>20</th>\n",
              "      <td>caribbean economic</td>\n",
              "      <td>1</td>\n",
              "      <td>1</td>\n",
              "    </tr>\n",
              "    <tr>\n",
              "      <th>21</th>\n",
              "      <td>slovakia hungary</td>\n",
              "      <td>1</td>\n",
              "      <td>1</td>\n",
              "    </tr>\n",
              "    <tr>\n",
              "      <th>22</th>\n",
              "      <td>mongolia china</td>\n",
              "      <td>2</td>\n",
              "      <td>1</td>\n",
              "    </tr>\n",
              "    <tr>\n",
              "      <th>23</th>\n",
              "      <td>niger algeria</td>\n",
              "      <td>2</td>\n",
              "      <td>1</td>\n",
              "    </tr>\n",
              "    <tr>\n",
              "      <th>24</th>\n",
              "      <td>kuwait saudi arabia</td>\n",
              "      <td>1</td>\n",
              "      <td>1</td>\n",
              "    </tr>\n",
              "    <tr>\n",
              "      <th>25</th>\n",
              "      <td>lebanon syria</td>\n",
              "      <td>1</td>\n",
              "      <td>1</td>\n",
              "    </tr>\n",
              "    <tr>\n",
              "      <th>26</th>\n",
              "      <td>cameroon economy</td>\n",
              "      <td>1</td>\n",
              "      <td>1</td>\n",
              "    </tr>\n",
              "    <tr>\n",
              "      <th>27</th>\n",
              "      <td>nigeria gdp</td>\n",
              "      <td>1</td>\n",
              "      <td>1</td>\n",
              "    </tr>\n",
              "    <tr>\n",
              "      <th>28</th>\n",
              "      <td>mongolia republic</td>\n",
              "      <td>1</td>\n",
              "      <td>1</td>\n",
              "    </tr>\n",
              "    <tr>\n",
              "      <th>29</th>\n",
              "      <td>kiribati politics</td>\n",
              "      <td>1</td>\n",
              "      <td>1</td>\n",
              "    </tr>\n",
              "    <tr>\n",
              "      <th>30</th>\n",
              "      <td>poland language</td>\n",
              "      <td>1</td>\n",
              "      <td>1</td>\n",
              "    </tr>\n",
              "    <tr>\n",
              "      <th>31</th>\n",
              "      <td>spain galician</td>\n",
              "      <td>1</td>\n",
              "      <td>1</td>\n",
              "    </tr>\n",
              "    <tr>\n",
              "      <th>32</th>\n",
              "      <td>uzbekistan eastern orthodox</td>\n",
              "      <td>1</td>\n",
              "      <td>1</td>\n",
              "    </tr>\n",
              "    <tr>\n",
              "      <th>33</th>\n",
              "      <td>haiti religion</td>\n",
              "      <td>1</td>\n",
              "      <td>1</td>\n",
              "    </tr>\n",
              "    <tr>\n",
              "      <th>34</th>\n",
              "      <td>suriname ethnic_group</td>\n",
              "      <td>1</td>\n",
              "      <td>1</td>\n",
              "    </tr>\n",
              "    <tr>\n",
              "      <th>35</th>\n",
              "      <td>slovakia german</td>\n",
              "      <td>2</td>\n",
              "      <td>1</td>\n",
              "    </tr>\n",
              "    <tr>\n",
              "      <th>36</th>\n",
              "      <td>poland cape verde organization</td>\n",
              "      <td>1</td>\n",
              "      <td>1</td>\n",
              "    </tr>\n",
              "    <tr>\n",
              "      <th>37</th>\n",
              "      <td>saint kitts cambodia</td>\n",
              "      <td>1</td>\n",
              "      <td>1</td>\n",
              "    </tr>\n",
              "    <tr>\n",
              "      <th>38</th>\n",
              "      <td>marshall islands grenadines organization</td>\n",
              "      <td>1</td>\n",
              "      <td>1</td>\n",
              "    </tr>\n",
              "    <tr>\n",
              "      <th>39</th>\n",
              "      <td>czech republic cote divoire organization</td>\n",
              "      <td>1</td>\n",
              "      <td>-1</td>\n",
              "    </tr>\n",
              "    <tr>\n",
              "      <th>40</th>\n",
              "      <td>panama oman</td>\n",
              "      <td>1</td>\n",
              "      <td>1</td>\n",
              "    </tr>\n",
              "    <tr>\n",
              "      <th>41</th>\n",
              "      <td>iceland mali</td>\n",
              "      <td>1</td>\n",
              "      <td>1</td>\n",
              "    </tr>\n",
              "    <tr>\n",
              "      <th>42</th>\n",
              "      <td>guyana sierra leone</td>\n",
              "      <td>1</td>\n",
              "      <td>1</td>\n",
              "    </tr>\n",
              "    <tr>\n",
              "      <th>43</th>\n",
              "      <td>mauritius india</td>\n",
              "      <td>1</td>\n",
              "      <td>1</td>\n",
              "    </tr>\n",
              "    <tr>\n",
              "      <th>44</th>\n",
              "      <td>vanuatu afghanistan</td>\n",
              "      <td>1</td>\n",
              "      <td>1</td>\n",
              "    </tr>\n",
              "    <tr>\n",
              "      <th>45</th>\n",
              "      <td>libya australia</td>\n",
              "      <td>2</td>\n",
              "      <td>1</td>\n",
              "    </tr>\n",
              "    <tr>\n",
              "      <th>46</th>\n",
              "      <td>hutu africa</td>\n",
              "      <td>1</td>\n",
              "      <td>1</td>\n",
              "    </tr>\n",
              "    <tr>\n",
              "      <th>47</th>\n",
              "      <td>serb europe</td>\n",
              "      <td>1</td>\n",
              "      <td>1</td>\n",
              "    </tr>\n",
              "    <tr>\n",
              "      <th>48</th>\n",
              "      <td>uzbek asia</td>\n",
              "      <td>2</td>\n",
              "      <td>2</td>\n",
              "    </tr>\n",
              "    <tr>\n",
              "      <th>49</th>\n",
              "      <td>rhein germany</td>\n",
              "      <td>1</td>\n",
              "      <td>1</td>\n",
              "    </tr>\n",
              "    <tr>\n",
              "      <th>50</th>\n",
              "      <td>egypt nile</td>\n",
              "      <td>1</td>\n",
              "      <td>1</td>\n",
              "    </tr>\n",
              "  </tbody>\n",
              "</table>\n",
              "</div>\n",
              "      <button class=\"colab-df-convert\" onclick=\"convertToInteractive('df-82ee3777-27be-4c71-8454-8d85fd5a3229')\"\n",
              "              title=\"Convert this dataframe to an interactive table.\"\n",
              "              style=\"display:none;\">\n",
              "        \n",
              "  <svg xmlns=\"http://www.w3.org/2000/svg\" height=\"24px\"viewBox=\"0 0 24 24\"\n",
              "       width=\"24px\">\n",
              "    <path d=\"M0 0h24v24H0V0z\" fill=\"none\"/>\n",
              "    <path d=\"M18.56 5.44l.94 2.06.94-2.06 2.06-.94-2.06-.94-.94-2.06-.94 2.06-2.06.94zm-11 1L8.5 8.5l.94-2.06 2.06-.94-2.06-.94L8.5 2.5l-.94 2.06-2.06.94zm10 10l.94 2.06.94-2.06 2.06-.94-2.06-.94-.94-2.06-.94 2.06-2.06.94z\"/><path d=\"M17.41 7.96l-1.37-1.37c-.4-.4-.92-.59-1.43-.59-.52 0-1.04.2-1.43.59L10.3 9.45l-7.72 7.72c-.78.78-.78 2.05 0 2.83L4 21.41c.39.39.9.59 1.41.59.51 0 1.02-.2 1.41-.59l7.78-7.78 2.81-2.81c.8-.78.8-2.07 0-2.86zM5.41 20L4 18.59l7.72-7.72 1.47 1.35L5.41 20z\"/>\n",
              "  </svg>\n",
              "      </button>\n",
              "      \n",
              "  <style>\n",
              "    .colab-df-container {\n",
              "      display:flex;\n",
              "      flex-wrap:wrap;\n",
              "      gap: 12px;\n",
              "    }\n",
              "\n",
              "    .colab-df-convert {\n",
              "      background-color: #E8F0FE;\n",
              "      border: none;\n",
              "      border-radius: 50%;\n",
              "      cursor: pointer;\n",
              "      display: none;\n",
              "      fill: #1967D2;\n",
              "      height: 32px;\n",
              "      padding: 0 0 0 0;\n",
              "      width: 32px;\n",
              "    }\n",
              "\n",
              "    .colab-df-convert:hover {\n",
              "      background-color: #E2EBFA;\n",
              "      box-shadow: 0px 1px 2px rgba(60, 64, 67, 0.3), 0px 1px 3px 1px rgba(60, 64, 67, 0.15);\n",
              "      fill: #174EA6;\n",
              "    }\n",
              "\n",
              "    [theme=dark] .colab-df-convert {\n",
              "      background-color: #3B4455;\n",
              "      fill: #D2E3FC;\n",
              "    }\n",
              "\n",
              "    [theme=dark] .colab-df-convert:hover {\n",
              "      background-color: #434B5C;\n",
              "      box-shadow: 0px 1px 3px 1px rgba(0, 0, 0, 0.15);\n",
              "      filter: drop-shadow(0px 1px 2px rgba(0, 0, 0, 0.3));\n",
              "      fill: #FFFFFF;\n",
              "    }\n",
              "  </style>\n",
              "\n",
              "      <script>\n",
              "        const buttonEl =\n",
              "          document.querySelector('#df-82ee3777-27be-4c71-8454-8d85fd5a3229 button.colab-df-convert');\n",
              "        buttonEl.style.display =\n",
              "          google.colab.kernel.accessAllowed ? 'block' : 'none';\n",
              "\n",
              "        async function convertToInteractive(key) {\n",
              "          const element = document.querySelector('#df-82ee3777-27be-4c71-8454-8d85fd5a3229');\n",
              "          const dataTable =\n",
              "            await google.colab.kernel.invokeFunction('convertToInteractive',\n",
              "                                                     [key], {});\n",
              "          if (!dataTable) return;\n",
              "\n",
              "          const docLinkHtml = 'Like what you see? Visit the ' +\n",
              "            '<a target=\"_blank\" href=https://colab.research.google.com/notebooks/data_table.ipynb>data table notebook</a>'\n",
              "            + ' to learn more about interactive tables.';\n",
              "          element.innerHTML = '';\n",
              "          dataTable['output_type'] = 'display_data';\n",
              "          await google.colab.output.renderOutput(dataTable, element);\n",
              "          const docLink = document.createElement('div');\n",
              "          docLink.innerHTML = docLinkHtml;\n",
              "          element.appendChild(docLink);\n",
              "        }\n",
              "      </script>\n",
              "    </div>\n",
              "  </div>\n",
              "  "
            ]
          },
          "metadata": {}
        }
      ]
    },
    {
      "cell_type": "code",
      "source": [
        "results = lathe.run_queryset(configuration=(5,1,0))"
      ],
      "metadata": {
        "colab": {
          "base_uri": "https://localhost:8080/"
        },
        "id": "uLGBx6wSQs84",
        "outputId": "cb7e81af-a175-4d10-cdea-c9a8ea76753a"
      },
      "execution_count": 41,
      "outputs": [
        {
          "output_type": "stream",
          "name": "stdout",
          "text": [
            "Keyword Query: thailand\n",
            "Keyword Query: netherlands\n",
            "Keyword Query: georgia\n",
            "Keyword Query: country china\n",
            "Keyword Query: bangladesh\n",
            "Keyword Query: alexandria\n",
            "Keyword Query: sonsonate\n",
            "Keyword Query: xiaogan\n",
            "Keyword Query: city glendale\n",
            "Keyword Query: city granada\n",
            "Keyword Query: Lake Kariba\n",
            "Keyword Query: Niger\n",
            "Keyword Query: Arabian Sea\n",
            "Keyword Query: Asauad\n",
            "Keyword Query: Sardegna\n",
            "Keyword Query: arab cooperation council\n",
            "Keyword Query: world labor\n",
            "Keyword Query: islamic conference\n",
            "Keyword Query: 30 group\n",
            "Keyword Query: caribbean economic\n",
            "Keyword Query: slovakia hungary\n",
            "Keyword Query: mongolia china\n",
            "Keyword Query: niger algeria\n",
            "Keyword Query: kuwait saudi arabia\n",
            "Keyword Query: lebanon syria\n",
            "Keyword Query: cameroon economy\n",
            "Keyword Query: nigeria gdp\n",
            "Keyword Query: mongolia republic\n",
            "Keyword Query: kiribati politics\n",
            "Keyword Query: poland language\n",
            "Keyword Query: spain galician\n",
            "Keyword Query: uzbekistan eastern orthodox\n",
            "Keyword Query: haiti religion\n",
            "Keyword Query: suriname ethnic_group\n",
            "Keyword Query: slovakia german\n",
            "Keyword Query: poland cape verde organization\n",
            "Keyword Query: saint kitts cambodia\n",
            "Keyword Query: marshall islands grenadines organization\n",
            "Keyword Query: czech republic cote divoire organization\n",
            "Keyword Query: panama oman\n",
            "Keyword Query: iceland mali\n",
            "Keyword Query: guyana sierra leone\n",
            "Keyword Query: mauritius india\n",
            "Keyword Query: vanuatu afghanistan\n",
            "Keyword Query: libya australia\n",
            "Keyword Query: hutu africa\n",
            "Keyword Query: serb europe\n",
            "Keyword Query: uzbek asia\n",
            "Keyword Query: rhein germany\n",
            "Keyword Query: egypt nile\n"
          ]
        }
      ]
    },
    {
      "cell_type": "code",
      "source": [
        "evaluation=lathe.evaluate_queryset(results)\n",
        "evaluation.metrics()"
      ],
      "metadata": {
        "id": "lMU9vMMigR0V"
      },
      "execution_count": null,
      "outputs": []
    },
    {
      "cell_type": "code",
      "source": [
        "evaluation.relevant_positions()"
      ],
      "metadata": {
        "id": "Nw_tKWu7gULe"
      },
      "execution_count": null,
      "outputs": []
    },
    {
      "cell_type": "code",
      "source": [
        "from graphviz import Digraph\n",
        "g= Digraph(\n",
        "    graph_attr={'nodesep':'0.2','ranksep':'0.25'},\n",
        "    node_attr={'fontsize':\"9.0\",},\n",
        "    edge_attr={'arrowsize':'0.9',},\n",
        ")\n",
        "for id in lathe.index_handler.schema_graph.vertices():\n",
        "    g.node(id,label=id.upper())\n",
        "for id_a,id_b in lathe.index_handler.schema_graph.edges():\n",
        "    g.edge(id_a,id_b)\n",
        "print('Graph:')\n",
        "display(g)"
      ],
      "metadata": {
        "colab": {
          "base_uri": "https://localhost:8080/",
          "height": 169
        },
        "id": "-J75Z4g4DdKT",
        "outputId": "79b0785b-8752-436c-c84a-6392ff298718"
      },
      "execution_count": 64,
      "outputs": [
        {
          "output_type": "stream",
          "name": "stdout",
          "text": [
            "Graph:\n"
          ]
        },
        {
          "output_type": "display_data",
          "data": {
            "text/plain": [
              "<graphviz.dot.Digraph at 0x7fcd1b556410>"
            ],
            "image/svg+xml": "<?xml version=\"1.0\" encoding=\"UTF-8\" standalone=\"no\"?>\n<!DOCTYPE svg PUBLIC \"-//W3C//DTD SVG 1.1//EN\"\n \"http://www.w3.org/Graphics/SVG/1.1/DTD/svg11.dtd\">\n<!-- Generated by graphviz version 2.40.1 (20161225.0304)\n -->\n<!-- Title: %3 Pages: 1 -->\n<svg width=\"312pt\" height=\"98pt\"\n viewBox=\"0.00 0.00 312.26 98.00\" xmlns=\"http://www.w3.org/2000/svg\" xmlns:xlink=\"http://www.w3.org/1999/xlink\">\n<g id=\"graph0\" class=\"graph\" transform=\"scale(1 1) rotate(0) translate(4 94)\">\n<title>%3</title>\n<polygon fill=\"#ffffff\" stroke=\"transparent\" points=\"-4,4 -4,-94 308.2598,-94 308.2598,4 -4,4\"/>\n<!-- casting -->\n<g id=\"node1\" class=\"node\">\n<title>casting</title>\n<ellipse fill=\"none\" stroke=\"#000000\" cx=\"160.2598\" cy=\"-72\" rx=\"32.1641\" ry=\"18\"/>\n<text text-anchor=\"middle\" x=\"160.2598\" y=\"-69.8\" font-family=\"Times,serif\" font-size=\"9.00\" fill=\"#000000\">CASTING</text>\n</g>\n<!-- movie -->\n<g id=\"node2\" class=\"node\">\n<title>movie</title>\n<ellipse fill=\"none\" stroke=\"#000000\" cx=\"39.2598\" cy=\"-18\" rx=\"27.2716\" ry=\"18\"/>\n<text text-anchor=\"middle\" x=\"39.2598\" y=\"-15.8\" font-family=\"Times,serif\" font-size=\"9.00\" fill=\"#000000\">MOVIE</text>\n</g>\n<!-- casting&#45;&gt;movie -->\n<g id=\"edge1\" class=\"edge\">\n<title>casting&#45;&gt;movie</title>\n<path fill=\"none\" stroke=\"#000000\" d=\"M133.321,-61.6162C115.9887,-54.7488 93.081,-45.3222 73.2598,-36 71.6733,-35.2538 70.0547,-34.4714 68.4272,-33.6681\"/>\n<polygon fill=\"#000000\" stroke=\"#000000\" points=\"69.7738,-30.819 60.3236,-29.5474 66.9182,-36.4347 69.7738,-30.819\"/>\n</g>\n<!-- person -->\n<g id=\"node4\" class=\"node\">\n<title>person</title>\n<ellipse fill=\"none\" stroke=\"#000000\" cx=\"110.2598\" cy=\"-18\" rx=\"30.0444\" ry=\"18\"/>\n<text text-anchor=\"middle\" x=\"110.2598\" y=\"-15.8\" font-family=\"Times,serif\" font-size=\"9.00\" fill=\"#000000\">PERSON</text>\n</g>\n<!-- casting&#45;&gt;person -->\n<g id=\"edge4\" class=\"edge\">\n<title>casting&#45;&gt;person</title>\n<path fill=\"none\" stroke=\"#000000\" d=\"M145.2582,-55.7982C140.8283,-51.014 135.897,-45.6882 131.1667,-40.5794\"/>\n<polygon fill=\"#000000\" stroke=\"#000000\" points=\"133.3328,-38.2825 124.9068,-33.8187 128.7101,-42.5627 133.3328,-38.2825\"/>\n</g>\n<!-- character -->\n<g id=\"node5\" class=\"node\">\n<title>character</title>\n<ellipse fill=\"none\" stroke=\"#000000\" cx=\"195.2598\" cy=\"-18\" rx=\"40.9837\" ry=\"18\"/>\n<text text-anchor=\"middle\" x=\"195.2598\" y=\"-15.8\" font-family=\"Times,serif\" font-size=\"9.00\" fill=\"#000000\">CHARACTER</text>\n</g>\n<!-- casting&#45;&gt;character -->\n<g id=\"edge2\" class=\"edge\">\n<title>casting&#45;&gt;character</title>\n<path fill=\"none\" stroke=\"#000000\" d=\"M171.334,-54.9141C173.7123,-51.2448 176.2744,-47.2919 178.8071,-43.3842\"/>\n<polygon fill=\"#000000\" stroke=\"#000000\" points=\"181.6446,-44.7979 183.8963,-35.5323 176.3579,-41.3714 181.6446,-44.7979\"/>\n</g>\n<!-- role -->\n<g id=\"node6\" class=\"node\">\n<title>role</title>\n<ellipse fill=\"none\" stroke=\"#000000\" cx=\"277.2598\" cy=\"-18\" rx=\"27\" ry=\"18\"/>\n<text text-anchor=\"middle\" x=\"277.2598\" y=\"-15.8\" font-family=\"Times,serif\" font-size=\"9.00\" fill=\"#000000\">ROLE</text>\n</g>\n<!-- casting&#45;&gt;role -->\n<g id=\"edge3\" class=\"edge\">\n<title>casting&#45;&gt;role</title>\n<path fill=\"none\" stroke=\"#000000\" d=\"M186.2902,-61.3218C202.7647,-54.4135 224.432,-45.0502 243.2598,-36 244.84,-35.2405 246.4536,-34.4474 248.0771,-33.6357\"/>\n<polygon fill=\"#000000\" stroke=\"#000000\" points=\"249.5949,-36.3975 256.1692,-29.4908 246.7228,-30.7903 249.5949,-36.3975\"/>\n</g>\n<!-- movieinfo -->\n<g id=\"node3\" class=\"node\">\n<title>movieinfo</title>\n<ellipse fill=\"none\" stroke=\"#000000\" cx=\"39.2598\" cy=\"-72\" rx=\"39.0211\" ry=\"18\"/>\n<text text-anchor=\"middle\" x=\"39.2598\" y=\"-69.8\" font-family=\"Times,serif\" font-size=\"9.00\" fill=\"#000000\">MOVIEINFO</text>\n</g>\n<!-- movieinfo&#45;&gt;movie -->\n<g id=\"edge5\" class=\"edge\">\n<title>movieinfo&#45;&gt;movie</title>\n<path fill=\"none\" stroke=\"#000000\" d=\"M39.2598,-53.7181C39.2598,-50.9911 39.2598,-48.1312 39.2598,-45.2673\"/>\n<polygon fill=\"#000000\" stroke=\"#000000\" points=\"42.4099,-45.2631 39.2598,-36.2631 36.1099,-45.2631 42.4099,-45.2631\"/>\n</g>\n</g>\n</svg>\n"
          },
          "metadata": {}
        }
      ]
    },
    {
      "cell_type": "code",
      "source": [
        ""
      ],
      "metadata": {
        "id": "1yDdufMUDi4f"
      },
      "execution_count": null,
      "outputs": []
    }
  ]
}