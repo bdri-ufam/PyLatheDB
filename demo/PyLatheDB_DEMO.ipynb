{
  "nbformat": 4,
  "nbformat_minor": 0,
  "metadata": {
    "colab": {
      "name": "PyLatheDB-DEMO.ipynb",
      "provenance": [],
      "collapsed_sections": [
        "9BCs4NWfWhV3",
        "85Bru8qN6lpE"
      ],
      "include_colab_link": true
    },
    "kernelspec": {
      "name": "python3",
      "display_name": "Python 3"
    },
    "language_info": {
      "name": "python"
    }
  },
  "cells": [
    {
      "cell_type": "markdown",
      "metadata": {
        "id": "view-in-github",
        "colab_type": "text"
      },
      "source": [
        "<a href=\"https://colab.research.google.com/github/pr3martins/PyLatheDB/blob/main/demo/PyLatheDB_DEMO.ipynb\" target=\"_parent\"><img src=\"https://colab.research.google.com/assets/colab-badge.svg\" alt=\"Open In Colab\"/></a>"
      ]
    },
    {
      "cell_type": "markdown",
      "source": [
        "# PyLatheDB - A Library for Relational Keyword Search with Support to Schema References\n",
        "---\n",
        "\n",
        "PyLatheDB is based on Lathe, an R-KwS framework that generalizes the well-known concepts of Query Matches (QMs) and Candidate Joining Networks (CJNs) to handle keywords referring to schema elements and introduces new algorithms to generate them, along with a novel approach to automatically select the CJNs that are more likely to represent the user intent when issuing a keyword query.\n",
        "\n",
        "We recommend running this Python Notebook using [Google Colab](https://colab.research.google.com/github/pr3martins/PyLatheDB/blob/main/demo/PyLatheDB_DEMO.ipynb). But its static version is also available in our [GitHub Repository](https://github.com/pr3martins/PyLatheDB/blob/main/demo/PyLatheDB_DEMO.ipynb)."
      ],
      "metadata": {
        "id": "-Avnlu5jzbyD"
      }
    },
    {
      "cell_type": "markdown",
      "source": [
        "## Environment Preparation\n",
        "\n",
        "Initially, before the demonstration, it is necessary to  run an environment preparation step, which includes the installation of the RDBMS; the downloading of some configuration files and scripts; and the installation of the **PyLatheDB** library and its dependencies."
      ],
      "metadata": {
        "id": "9BCs4NWfWhV3"
      }
    },
    {
      "cell_type": "markdown",
      "source": [
        "### Download of the configuration Files\n",
        "\n",
        "The configuration files comprise information about the datasets and query sets used. They are automatically downloaded, but they can also be found [here](https://drive.google.com/drive/folders/1Xz3mPN0NC7xdIETKZlFDTcqcU6lsVUYD?usp=sharing)."
      ],
      "metadata": {
        "id": "BT1FWFwB-Eg9"
      }
    },
    {
      "cell_type": "code",
      "source": [
        "!gdown --id 1KTRL-RhKgnzENlwcGHZ7zkvT4fVsQ1D7\n",
        "!unzip PyLatheDB_DEMO_resources.zip\n",
        "import nltk\n",
        "nltk.download('wordnet')\n",
        "nltk.download('stopwords')\n",
        "nltk.download('omw-1.4')"
      ],
      "metadata": {
        "id": "zv1qHUj_W8fm",
        "outputId": "c40c54a3-e8e7-4525-d150-5396e9348ae2",
        "colab": {
          "base_uri": "https://localhost:8080/"
        }
      },
      "execution_count": 1,
      "outputs": [
        {
          "output_type": "stream",
          "name": "stdout",
          "text": [
            "/usr/local/lib/python3.7/dist-packages/gdown/cli.py:131: FutureWarning: Option `--id` was deprecated in version 4.3.1 and will be removed in 5.0. You don't need to pass it anymore to use a file ID.\n",
            "  category=FutureWarning,\n",
            "Downloading...\n",
            "From: https://drive.google.com/uc?id=1KTRL-RhKgnzENlwcGHZ7zkvT4fVsQ1D7\n",
            "To: /content/PyLatheDB_DEMO_resources.zip\n",
            "100% 92.3M/92.3M [00:03<00:00, 29.0MB/s]\n",
            "Archive:  PyLatheDB_DEMO_resources.zip\n",
            "   creating: config/\n",
            "  inflating: config/config.json      \n",
            "   creating: config/dataset_configs/\n",
            "  inflating: config/dataset_configs/mondial.json  \n",
            "   creating: config/dataset_configs/attributes/\n",
            "  inflating: config/dataset_configs/attributes/imdb_filtered_attributes.json  \n",
            "  inflating: config/dataset_configs/attributes/mondial_all_attributes.json  \n",
            "  inflating: config/dataset_configs/attributes/mondial_filtered_attributes.json  \n",
            "  inflating: config/dataset_configs/attributes/imdb_all_attributes.json  \n",
            "  inflating: config/dataset_configs/imdb.json  \n",
            "   creating: config/queryset_configs/\n",
            "  inflating: config/queryset_configs/coffman_imdb_config.json  \n",
            "  inflating: config/queryset_configs/coffman_mondial_config.json  \n",
            "   creating: datasets/\n",
            "   creating: datasets/imdb/\n",
            "  inflating: datasets/imdb/imdb_schema_index_file.shelve.db  \n",
            "  inflating: datasets/imdb/imdb_value_index_file.shelve.db  \n",
            "  inflating: datasets/imdb/imdb_schema_graph_file.pickle  \n",
            "   creating: datasets/mondial/\n",
            "  inflating: datasets/mondial/mondial_value_index_file.shelve.db  \n",
            "  inflating: datasets/mondial/mondial_schema_graph_file.pickle  \n",
            "  inflating: datasets/mondial/mondial_schema_index_file.shelve.db  \n",
            "   creating: dbsources/\n",
            "  inflating: dbsources/imdb-rename-tables.psql  \n",
            "  inflating: dbsources/mondial-schema_part2.pgsql  \n",
            "  inflating: dbsources/mondial-field_fulltext_index.psql  \n",
            "  inflating: dbsources/imdb-schema.pgsql  \n",
            "  inflating: dbsources/pylathedb.stop  \n",
            "  inflating: dbsources/imdb-data.pgsql  \n",
            "  inflating: dbsources/mondial-schema_part1.pgsql  \n",
            "  inflating: dbsources/mondial-data.pgsql  \n",
            "  inflating: dbsources/imdb-fulltext_index.psql  \n",
            "   creating: querysets/\n",
            "  inflating: querysets/coffman_imdb.json  \n",
            "  inflating: querysets/coffman_mondial.json  \n"
          ]
        },
        {
          "output_type": "stream",
          "name": "stderr",
          "text": [
            "[nltk_data] Downloading package wordnet to /root/nltk_data...\n",
            "[nltk_data]   Unzipping corpora/wordnet.zip.\n",
            "[nltk_data] Downloading package stopwords to /root/nltk_data...\n",
            "[nltk_data]   Unzipping corpora/stopwords.zip.\n",
            "[nltk_data] Downloading package omw-1.4 to /root/nltk_data...\n",
            "[nltk_data]   Unzipping corpora/omw-1.4.zip.\n"
          ]
        },
        {
          "output_type": "execute_result",
          "data": {
            "text/plain": [
              "True"
            ]
          },
          "metadata": {},
          "execution_count": 1
        }
      ]
    },
    {
      "cell_type": "markdown",
      "source": [
        "### Installation of the PostgreSQL"
      ],
      "metadata": {
        "id": "b3oWxUnl-Xyq"
      }
    },
    {
      "cell_type": "code",
      "source": [
        "# Install postgresql server\n",
        "!sudo apt-get -y -qq update\n",
        "!sudo apt-get -y -qq install postgresql postgresql-contrib &>log\n",
        "!sudo service postgresql start\n",
        "\n",
        "# Setup a password `postgres` for username `postgres`\n",
        "!sudo -u postgres psql -U postgres -c \"ALTER USER postgres PASSWORD 'postgres';\"\n",
        "\n",
        "!cp dbsources/pylathedb.stop /usr/share/postgresql/10/tsearch_data/english.stop"
      ],
      "metadata": {
        "id": "PEeEHxMsQVBs",
        "outputId": "81d5e0fd-f84b-4acc-872a-7adb28c12e98",
        "colab": {
          "base_uri": "https://localhost:8080/"
        }
      },
      "execution_count": 2,
      "outputs": [
        {
          "output_type": "stream",
          "name": "stdout",
          "text": [
            " * Starting PostgreSQL 10 database server\n",
            "   ...done.\n",
            "ALTER ROLE\n"
          ]
        }
      ]
    },
    {
      "cell_type": "markdown",
      "source": [
        "### Scripts for the Databases Creation"
      ],
      "metadata": {
        "id": "s89ffyvY-mTG"
      }
    },
    {
      "cell_type": "code",
      "source": [
        "!sudo -u postgres dropdb imdb &>>log\n",
        "!sudo -u postgres createdb imdb &>>log\n",
        "!sudo -u postgres psql -U postgres imdb <  dbsources/imdb-schema.pgsql &>>log\n",
        "!sudo -u postgres psql -U postgres imdb <  dbsources/imdb-data.pgsql &>>log\n",
        "!sudo -u postgres psql -U postgres imdb <  dbsources/imdb-fulltext_index.psql &>>log\n",
        "!sudo -u postgres psql -U postgres imdb < dbsources/imdb-rename-tables.psql &>>log\n",
        "\n",
        "!sudo -u postgres dropdb mondial &>>log\n",
        "!sudo -u postgres createdb mondial &>>log\n",
        "!sudo -u postgres psql -U postgres mondial <  dbsources/mondial-schema_part1.pgsql &>>log\n",
        "!sudo -u postgres psql -U postgres mondial <  dbsources/mondial-data.pgsql &>>log\n",
        "!sudo -u postgres psql -U postgres mondial <  dbsources/mondial-schema_part2.pgsql &>>log\n",
        "!sudo -u postgres psql -U postgres mondial <  dbsources/mondial-field_fulltext_index.psql &>>log"
      ],
      "metadata": {
        "id": "_6HoX6TgfnzA"
      },
      "execution_count": 3,
      "outputs": []
    },
    {
      "cell_type": "markdown",
      "source": [
        "### Enable DataTable Formating from Google Colab"
      ],
      "metadata": {
        "id": "p3mkA7nj_Gty"
      }
    },
    {
      "cell_type": "code",
      "source": [
        "from google.colab import data_table\n",
        "data_table.enable_dataframe_formatter()"
      ],
      "metadata": {
        "id": "DHjj3QY10b--"
      },
      "execution_count": 4,
      "outputs": []
    },
    {
      "cell_type": "markdown",
      "source": [
        "### Installation of the PyLathe library available [here](https://pypi.org/project/pylathedb/)"
      ],
      "metadata": {
        "id": "z0CYsna9-2lY"
      }
    },
    {
      "cell_type": "code",
      "source": [
        "# !pip install pylathedb==1.0.3 -U\n",
        "\n",
        "!pip install -i https://test.pypi.org/simple/ pylathedb -U"
      ],
      "metadata": {
        "id": "TE76LA_p0FQ8",
        "outputId": "0a62d399-a88c-4e6a-a229-177fb3a66003",
        "colab": {
          "base_uri": "https://localhost:8080/"
        }
      },
      "execution_count": 5,
      "outputs": [
        {
          "output_type": "stream",
          "name": "stdout",
          "text": [
            "Looking in indexes: https://test.pypi.org/simple/, https://us-python.pkg.dev/colab-wheels/public/simple/\n",
            "Collecting pylathedb\n",
            "  Downloading https://test-files.pythonhosted.org/packages/09/eb/2ca24255c2cb78d890e1bea1294308e1a8f2013e4927843825d2a8d5f376/pylathedb-0.0.4.dev27-py3-none-any.whl (51 kB)\n",
            "\u001b[K     |████████████████████████████████| 51 kB 433 kB/s \n",
            "\u001b[?25hRequirement already satisfied: prettytable in /usr/local/lib/python3.7/dist-packages (from pylathedb) (3.3.0)\n",
            "Requirement already satisfied: psutil in /usr/local/lib/python3.7/dist-packages (from pylathedb) (5.4.8)\n",
            "Collecting psycopg2-binary\n",
            "  Downloading https://test-files.pythonhosted.org/packages/04/c3/fbf0ec416151ce082087bfbb42f236ec42c2c74d2d9f7a5b5cdf49cfc517/psycopg2_binary-2.7.7-cp37-cp37m-manylinux1_x86_64.whl (2.7 MB)\n",
            "\u001b[K     |████████████████████████████████| 2.7 MB 8.2 MB/s \n",
            "\u001b[?25hRequirement already satisfied: pandas in /usr/local/lib/python3.7/dist-packages (from pylathedb) (1.3.5)\n",
            "Requirement already satisfied: graphviz in /usr/local/lib/python3.7/dist-packages (from pylathedb) (0.10.1)\n",
            "Requirement already satisfied: matplotlib in /usr/local/lib/python3.7/dist-packages (from pylathedb) (3.2.2)\n",
            "Requirement already satisfied: nltk in /usr/local/lib/python3.7/dist-packages (from pylathedb) (3.7)\n",
            "Requirement already satisfied: kiwisolver>=1.0.1 in /usr/local/lib/python3.7/dist-packages (from matplotlib->pylathedb) (1.4.2)\n",
            "Requirement already satisfied: pyparsing!=2.0.4,!=2.1.2,!=2.1.6,>=2.0.1 in /usr/local/lib/python3.7/dist-packages (from matplotlib->pylathedb) (3.0.9)\n",
            "Requirement already satisfied: python-dateutil>=2.1 in /usr/local/lib/python3.7/dist-packages (from matplotlib->pylathedb) (2.8.2)\n",
            "Requirement already satisfied: cycler>=0.10 in /usr/local/lib/python3.7/dist-packages (from matplotlib->pylathedb) (0.11.0)\n",
            "Requirement already satisfied: numpy>=1.11 in /usr/local/lib/python3.7/dist-packages (from matplotlib->pylathedb) (1.21.6)\n",
            "Requirement already satisfied: typing-extensions in /usr/local/lib/python3.7/dist-packages (from kiwisolver>=1.0.1->matplotlib->pylathedb) (4.2.0)\n",
            "Requirement already satisfied: six>=1.5 in /usr/local/lib/python3.7/dist-packages (from python-dateutil>=2.1->matplotlib->pylathedb) (1.15.0)\n",
            "Requirement already satisfied: joblib in /usr/local/lib/python3.7/dist-packages (from nltk->pylathedb) (1.1.0)\n",
            "Requirement already satisfied: click in /usr/local/lib/python3.7/dist-packages (from nltk->pylathedb) (7.1.2)\n",
            "Requirement already satisfied: regex>=2021.8.3 in /usr/local/lib/python3.7/dist-packages (from nltk->pylathedb) (2022.6.2)\n",
            "Requirement already satisfied: tqdm in /usr/local/lib/python3.7/dist-packages (from nltk->pylathedb) (4.64.0)\n",
            "Requirement already satisfied: pytz>=2017.3 in /usr/local/lib/python3.7/dist-packages (from pandas->pylathedb) (2022.1)\n",
            "Requirement already satisfied: wcwidth in /usr/local/lib/python3.7/dist-packages (from prettytable->pylathedb) (0.2.5)\n",
            "Requirement already satisfied: importlib-metadata in /usr/local/lib/python3.7/dist-packages (from prettytable->pylathedb) (4.11.4)\n",
            "Requirement already satisfied: zipp>=0.5 in /usr/local/lib/python3.7/dist-packages (from importlib-metadata->prettytable->pylathedb) (3.8.0)\n",
            "Installing collected packages: psycopg2-binary, pylathedb\n",
            "Successfully installed psycopg2-binary-2.7.7 pylathedb-0.0.4.dev27\n"
          ]
        }
      ]
    },
    {
      "cell_type": "markdown",
      "source": [
        "## PyLatheDB setup\n",
        "\n",
        "In this section, we will run the PyLatheDB setup, which comprises the creation of the Value Index and the Schema Index. We will also explain the main parameters of the library, such as number of QMs, number of CJNs per QM and the use of the eager evaluation strategy for CJN generation. "
      ],
      "metadata": {
        "id": "85Bru8qN6lpE"
      }
    },
    {
      "cell_type": "markdown",
      "source": [
        "### Library import and set configuration directory"
      ],
      "metadata": {
        "id": "g9rv0VoN_nM0"
      }
    },
    {
      "cell_type": "code",
      "source": [
        "from pylathedb.lathe import Lathe\n",
        "lathe = Lathe(config_directory='./config/')"
      ],
      "metadata": {
        "id": "-wpNJChhQjEP"
      },
      "execution_count": 6,
      "outputs": []
    },
    {
      "cell_type": "markdown",
      "source": [
        "### Create Indexes \n",
        "This step is not necessary because we already downloaded the indexes alongside the configuration files. But feel free to test the Index Creation by uncommenting the following cell:"
      ],
      "metadata": {
        "id": "gct9Nh0W_tqp"
      }
    },
    {
      "cell_type": "code",
      "source": [
        "# lathe.create_indexes()"
      ],
      "metadata": {
        "id": "GCxC4RxZ_ln1"
      },
      "execution_count": null,
      "outputs": []
    },
    {
      "cell_type": "markdown",
      "source": [
        "### Load Indexes\n",
        "\n",
        "The cell below shows how to load the Value and Schema Indexes."
      ],
      "metadata": {
        "id": "JL1mPyVCAUiX"
      }
    },
    {
      "cell_type": "code",
      "source": [
        "lathe.load_indexes()"
      ],
      "metadata": {
        "id": "K1AWZHMFXQ_A"
      },
      "execution_count": 7,
      "outputs": []
    },
    {
      "cell_type": "markdown",
      "source": [
        "### Choose Query set/Database\n",
        "\n",
        "You can choose which query set to use and its respective database. Input as a function parameter the number of the name of the query set to use. If you input no number, it will list the query sets available."
      ],
      "metadata": {
        "id": "WjMMYqzAAwIp"
      }
    },
    {
      "cell_type": "code",
      "source": [
        "lathe.change_queryset()"
      ],
      "metadata": {
        "id": "Gs8KXPMSxYYm",
        "colab": {
          "base_uri": "https://localhost:8080/"
        },
        "outputId": "711bc794-4359-482c-c77e-6e4f2f3fbea7"
      },
      "execution_count": 8,
      "outputs": [
        {
          "output_type": "stream",
          "name": "stdout",
          "text": [
            "Please input a query set to change:\n",
            "01 - coffman_imdb\n",
            "02 - coffman_mondial\n"
          ]
        }
      ]
    },
    {
      "cell_type": "code",
      "source": [
        "lathe.change_queryset('coffman_imdb')"
      ],
      "metadata": {
        "colab": {
          "base_uri": "https://localhost:8080/"
        },
        "id": "3FFQCu6bCmk5",
        "outputId": "797dc860-c5f2-409c-a65a-20bbd17ebdfa"
      },
      "execution_count": 9,
      "outputs": [
        {
          "output_type": "stream",
          "name": "stdout",
          "text": [
            "./config/queryset_configs/coffman_imdb_config.json\n",
            "Changed to query set coffman_imdb.\n"
          ]
        }
      ]
    },
    {
      "cell_type": "markdown",
      "source": [
        "### Default Parameters\n",
        "\n",
        "We have a few parameters for R-KwS using PyLatheDB:\n",
        "*    `max_qm_size`: Maximum Query Match Size\n",
        "*    `max_cjn_size`: Maximum Candidate Joining Network Size\n",
        "*    `topk_cns`: Top-k CJNs to be considered\n",
        "*    `configuration`: A tuple containing the number of QMs to be considered, number of CJNs for each QM to be considered, and the maximum number of CJNs to be probed by the eager evaluation for each QM. \n",
        "\n",
        "\n"
      ],
      "metadata": {
        "id": "ey2a_wdSBNKn"
      }
    },
    {
      "cell_type": "code",
      "source": [
        "lathe.max_qm_size = 3\n",
        "lathe.max_cjn_size = 5\n",
        "lathe.topk_cns = 10\n",
        "lathe.configuration = (5,1,9)"
      ],
      "metadata": {
        "id": "P8PUzbKoxOdB"
      },
      "execution_count": 10,
      "outputs": []
    },
    {
      "cell_type": "markdown",
      "source": [
        "## Keyword Search over Relational Databases\n",
        "\n",
        "You can use the function `keyword_search` from the class `Lathe` using three parameters. \n",
        "\n",
        "\n",
        "1.   You can input a Keyword query\n",
        "2.   You can call the function with no input to show a list of premade keyword queries used in Coffman Benchmark.\n",
        "3.   You can input the number of the keyword query according to the option 2."
      ],
      "metadata": {
        "id": "WhwI-lMT_sOJ"
      }
    },
    {
      "cell_type": "code",
      "source": [
        "lathe.keyword_search()"
      ],
      "metadata": {
        "colab": {
          "base_uri": "https://localhost:8080/"
        },
        "id": "YEQ7ZZtWF5gt",
        "outputId": "7fa1de21-52d7-4441-e09d-d5877f9095c5"
      },
      "execution_count": 11,
      "outputs": [
        {
          "output_type": "stream",
          "name": "stdout",
          "text": [
            "Please input a keyword query or choose one of the queries below:\n",
            "01 - denzel washington\n",
            "02 - clint eastwood\n",
            "03 - john wayne\n",
            "04 - will smith\n",
            "05 - harrison ford\n",
            "06 - julia roberts\n",
            "07 - tom hanks\n",
            "08 - johnny depp\n",
            "09 - angelina jolie\n",
            "10 - morgan freeman\n",
            "11 - gone with the wind\n",
            "12 - star wars\n",
            "13 - casablanca\n",
            "14 - lord of the rings\n",
            "15 - the sound of music\n",
            "16 - wizard of oz\n",
            "17 - the notebook\n",
            "18 - forrest gump\n",
            "19 - the princess bride\n",
            "20 - the godfather\n",
            "21 - title atticus finch\n",
            "22 - title indiana jones\n",
            "23 - title james bond\n",
            "24 - title rick blaine\n",
            "25 - title will kane\n",
            "26 - title dr. hannibal lecter\n",
            "27 - title norman bates\n",
            "28 - title darth vader\n",
            "29 - title the wicked witch of the west\n",
            "30 - title nurse ratched\n",
            "31 - title frankly my dear i don't give a damn\n",
            "32 - title i'm going to make him an offer he can't refuse\n",
            "33 - title you don't understand i coulda had class i coulda been a contender i coulda been somebody instead of a bum which is what i am\n",
            "34 - title toto i've a feeling we're not in kansas any more\n",
            "35 - title here's looking at you kid\n",
            "36 - hamill skywalker\n",
            "37 - hanks 2004\n",
            "38 - henry fonda yours mine ours character\n",
            "39 - russell crowe gladiator character\n",
            "40 - brent spiner star trek\n",
            "41 - audrey hepburn 1951\n",
            "42 - name jacques clouseau\n",
            "43 - name jack ryan\n",
            "44 - rocky stallone\n",
            "45 - name terminator\n",
            "46 - harrison ford george lucas\n",
            "47 - sean connery fleming\n",
            "48 - reeves wachowski\n",
            "49 - dean jones herbie\n",
            "50 - indiana jones last crusade lost ark\n"
          ]
        }
      ]
    },
    {
      "cell_type": "markdown",
      "source": [
        "### Understanding the Results\n",
        "\n",
        "The function `keyword_search` from the class `Lathe` returns an `LatheResult` object, which contains methods to show the CJNs, QMs and KMs returned for the keyword query.\n",
        "\n",
        "#### Candidate Joining Networks\n",
        "\n",
        "The library returns, for each CJN, its Text representation, its Graph representation, its SQL translation and the returned results from the SQL execution by the RDBMS. The function `cjns` outputs the informatio about each CJN according to four boolean parameters: `text`, `graph`, `sql`, and `jnts`. All of them are enabled by default.\n",
        "\n",
        "\n",
        "*The Graph representation may not be available in the static version of this notebook in Github. You can run it using Google Colab [here](https://colab.research.google.com/github/pr3martins/PyLatheDB/blob/main/demo/PyLatheDB_DEMO.ipynb).*"
      ],
      "metadata": {
        "id": "4nalYT6yF90_"
      }
    },
    {
      "cell_type": "code",
      "source": [
        "result = lathe.keyword_search('julia roberts films')\n",
        "result.cjns()"
      ],
      "metadata": {
        "colab": {
          "base_uri": "https://localhost:8080/",
          "height": 3923
        },
        "id": "J-fRKmuvP5qE",
        "outputId": "cf126673-6014-42c9-838b-4d9915e0a05f"
      },
      "execution_count": 12,
      "outputs": [
        {
          "output_type": "stream",
          "name": "stdout",
          "text": [
            "Keyword Query: julia roberts films\n"
          ]
        },
        {
          "output_type": "display_data",
          "data": {
            "text/plain": [
              "<IPython.core.display.Markdown object>"
            ],
            "text/markdown": "---"
          },
          "metadata": {}
        },
        {
          "output_type": "display_data",
          "data": {
            "text/plain": [
              "<IPython.core.display.Markdown object>"
            ],
            "text/markdown": "**1st CJN**:"
          },
          "metadata": {}
        },
        {
          "output_type": "display_data",
          "data": {
            "text/plain": [
              "<IPython.core.display.Markdown object>"
            ],
            "text/markdown": "---"
          },
          "metadata": {}
        },
        {
          "output_type": "stream",
          "name": "stdout",
          "text": [
            "Text:\n",
            "\tPERSON.v(name{roberts,julia})\n",
            "\t\t<CASTING\n",
            "\t\t\t>MOVIE.s(*{films})\n"
          ]
        },
        {
          "output_type": "display_data",
          "data": {
            "text/plain": [
              "<IPython.core.display.Markdown object>"
            ],
            "text/markdown": "---"
          },
          "metadata": {}
        },
        {
          "output_type": "stream",
          "name": "stdout",
          "text": [
            "Graph:\n"
          ]
        },
        {
          "output_type": "display_data",
          "data": {
            "text/plain": [
              "<graphviz.dot.Digraph at 0x7f5f581a8950>"
            ],
            "image/svg+xml": "<?xml version=\"1.0\" encoding=\"UTF-8\" standalone=\"no\"?>\n<!DOCTYPE svg PUBLIC \"-//W3C//DTD SVG 1.1//EN\"\n \"http://www.w3.org/Graphics/SVG/1.1/DTD/svg11.dtd\">\n<!-- Generated by graphviz version 2.40.1 (20161225.0304)\n -->\n<!-- Title: %3 Pages: 1 -->\n<svg width=\"280pt\" height=\"98pt\"\n viewBox=\"0.00 0.00 280.33 98.00\" xmlns=\"http://www.w3.org/2000/svg\" xmlns:xlink=\"http://www.w3.org/1999/xlink\">\n<g id=\"graph0\" class=\"graph\" transform=\"scale(1 1) rotate(0) translate(4 94)\">\n<title>%3</title>\n<polygon fill=\"#ffffff\" stroke=\"transparent\" points=\"-4,4 -4,-94 276.3265,-94 276.3265,4 -4,4\"/>\n<!-- t1 -->\n<g id=\"node1\" class=\"node\">\n<title>t1</title>\n<ellipse fill=\"none\" stroke=\"#000000\" cx=\"77.3649\" cy=\"-18\" rx=\"77.2301\" ry=\"18\"/>\n<text text-anchor=\"middle\" x=\"77.3649\" y=\"-15.8\" font-family=\"Times,serif\" font-size=\"9.00\" fill=\"#000000\">PERSON.v(name{roberts,julia})</text>\n</g>\n<!-- t2 -->\n<g id=\"node2\" class=\"node\">\n<title>t2</title>\n<ellipse fill=\"none\" stroke=\"#000000\" cx=\"148.3649\" cy=\"-72\" rx=\"32.1641\" ry=\"18\"/>\n<text text-anchor=\"middle\" x=\"148.3649\" y=\"-69.8\" font-family=\"Times,serif\" font-size=\"9.00\" fill=\"#000000\">CASTING</text>\n</g>\n<!-- t2&#45;&gt;t1 -->\n<g id=\"edge1\" class=\"edge\">\n<title>t2&#45;&gt;t1</title>\n<path fill=\"none\" stroke=\"#000000\" d=\"M128.9639,-57.2443C122.2509,-52.1386 114.5634,-46.2918 107.2085,-40.6979\"/>\n<polygon fill=\"#000000\" stroke=\"#000000\" points=\"109.0832,-38.1662 100.0128,-35.2251 105.2694,-43.1807 109.0832,-38.1662\"/>\n</g>\n<!-- t3 -->\n<g id=\"node3\" class=\"node\">\n<title>t3</title>\n<ellipse fill=\"none\" stroke=\"#000000\" cx=\"220.3649\" cy=\"-18\" rx=\"51.9231\" ry=\"18\"/>\n<text text-anchor=\"middle\" x=\"220.3649\" y=\"-15.8\" font-family=\"Times,serif\" font-size=\"9.00\" fill=\"#000000\">MOVIE.s(*{films})</text>\n</g>\n<!-- t2&#45;&gt;t3 -->\n<g id=\"edge2\" class=\"edge\">\n<title>t2&#45;&gt;t3</title>\n<path fill=\"none\" stroke=\"#000000\" d=\"M167.6596,-57.529C174.7826,-52.1868 183.0267,-46.0037 190.8485,-40.1373\"/>\n<polygon fill=\"#000000\" stroke=\"#000000\" points=\"193.1624,-42.3395 198.4724,-34.4194 189.3823,-37.2995 193.1624,-42.3395\"/>\n</g>\n</g>\n</svg>\n"
          },
          "metadata": {}
        },
        {
          "output_type": "display_data",
          "data": {
            "text/plain": [
              "<IPython.core.display.Markdown object>"
            ],
            "text/markdown": "---"
          },
          "metadata": {}
        },
        {
          "output_type": "stream",
          "name": "stdout",
          "text": [
            "SQL:\n",
            "  \n",
            "  SELECT\n",
            "  \tt3.*,\n",
            "  \tt1.name\n",
            "  FROM\n",
            "  \t\"person\" t1\n",
            "  \tJOIN \"casting\" t2 ON t2.person_id = t1.id\n",
            "  \tJOIN \"movie\" t3 ON t2.movie_id = t3.id\n",
            "  WHERE\n",
            "  \tt1.name_tsvector @@ to_tsquery('roberts & julia')\n",
            "  LIMIT 1000;\n",
            "\n"
          ]
        },
        {
          "output_type": "display_data",
          "data": {
            "text/plain": [
              "<IPython.core.display.Markdown object>"
            ],
            "text/markdown": "---"
          },
          "metadata": {}
        },
        {
          "output_type": "stream",
          "name": "stdout",
          "text": [
            "JNTs:\n"
          ]
        },
        {
          "output_type": "display_data",
          "data": {
            "text/plain": [
              "       id                       title imdb_index  kind_id  year imdb_id  \\\n",
              "0    3161                20 Something       None        1  2006    None   \n",
              "1  175564                   Firehouse       None        1  1987    None   \n",
              "2  198621              Grand Champion       None        1  2002    None   \n",
              "3  304918  Ljuset håller mig sällskap       None        1  2000    None   \n",
              "4  422036               Runaway Bride       None        1  1999    None   \n",
              "\n",
              "  phonetic_code episode_of_id season_nr episode_nr series_years  __search_id  \\\n",
              "0         S5352          None      None       None         None     43788412   \n",
              "1           F62          None      None       None         None     43846816   \n",
              "2         G6532          None      None       None         None     43876968   \n",
              "3         L2346          None      None       None         None     44099445   \n",
              "4         R5163          None      None       None         None     44164278   \n",
              "\n",
              "             name  \n",
              "0  Roberts, Julia  \n",
              "1  Roberts, Julia  \n",
              "2  Roberts, Julia  \n",
              "3  Roberts, Julia  \n",
              "4  Roberts, Julia  "
            ],
            "text/html": [
              "\n",
              "  <div id=\"df-b2acd35e-d96a-4fe8-9bd3-7a9fd5bb19c8\">\n",
              "    <div class=\"colab-df-container\">\n",
              "      <div>\n",
              "<style scoped>\n",
              "    .dataframe tbody tr th:only-of-type {\n",
              "        vertical-align: middle;\n",
              "    }\n",
              "\n",
              "    .dataframe tbody tr th {\n",
              "        vertical-align: top;\n",
              "    }\n",
              "\n",
              "    .dataframe thead th {\n",
              "        text-align: right;\n",
              "    }\n",
              "</style>\n",
              "<table border=\"1\" class=\"dataframe\">\n",
              "  <thead>\n",
              "    <tr style=\"text-align: right;\">\n",
              "      <th></th>\n",
              "      <th>id</th>\n",
              "      <th>title</th>\n",
              "      <th>imdb_index</th>\n",
              "      <th>kind_id</th>\n",
              "      <th>year</th>\n",
              "      <th>imdb_id</th>\n",
              "      <th>phonetic_code</th>\n",
              "      <th>episode_of_id</th>\n",
              "      <th>season_nr</th>\n",
              "      <th>episode_nr</th>\n",
              "      <th>series_years</th>\n",
              "      <th>__search_id</th>\n",
              "      <th>name</th>\n",
              "    </tr>\n",
              "  </thead>\n",
              "  <tbody>\n",
              "    <tr>\n",
              "      <th>0</th>\n",
              "      <td>3161</td>\n",
              "      <td>20 Something</td>\n",
              "      <td>None</td>\n",
              "      <td>1</td>\n",
              "      <td>2006</td>\n",
              "      <td>None</td>\n",
              "      <td>S5352</td>\n",
              "      <td>None</td>\n",
              "      <td>None</td>\n",
              "      <td>None</td>\n",
              "      <td>None</td>\n",
              "      <td>43788412</td>\n",
              "      <td>Roberts, Julia</td>\n",
              "    </tr>\n",
              "    <tr>\n",
              "      <th>1</th>\n",
              "      <td>175564</td>\n",
              "      <td>Firehouse</td>\n",
              "      <td>None</td>\n",
              "      <td>1</td>\n",
              "      <td>1987</td>\n",
              "      <td>None</td>\n",
              "      <td>F62</td>\n",
              "      <td>None</td>\n",
              "      <td>None</td>\n",
              "      <td>None</td>\n",
              "      <td>None</td>\n",
              "      <td>43846816</td>\n",
              "      <td>Roberts, Julia</td>\n",
              "    </tr>\n",
              "    <tr>\n",
              "      <th>2</th>\n",
              "      <td>198621</td>\n",
              "      <td>Grand Champion</td>\n",
              "      <td>None</td>\n",
              "      <td>1</td>\n",
              "      <td>2002</td>\n",
              "      <td>None</td>\n",
              "      <td>G6532</td>\n",
              "      <td>None</td>\n",
              "      <td>None</td>\n",
              "      <td>None</td>\n",
              "      <td>None</td>\n",
              "      <td>43876968</td>\n",
              "      <td>Roberts, Julia</td>\n",
              "    </tr>\n",
              "    <tr>\n",
              "      <th>3</th>\n",
              "      <td>304918</td>\n",
              "      <td>Ljuset håller mig sällskap</td>\n",
              "      <td>None</td>\n",
              "      <td>1</td>\n",
              "      <td>2000</td>\n",
              "      <td>None</td>\n",
              "      <td>L2346</td>\n",
              "      <td>None</td>\n",
              "      <td>None</td>\n",
              "      <td>None</td>\n",
              "      <td>None</td>\n",
              "      <td>44099445</td>\n",
              "      <td>Roberts, Julia</td>\n",
              "    </tr>\n",
              "    <tr>\n",
              "      <th>4</th>\n",
              "      <td>422036</td>\n",
              "      <td>Runaway Bride</td>\n",
              "      <td>None</td>\n",
              "      <td>1</td>\n",
              "      <td>1999</td>\n",
              "      <td>None</td>\n",
              "      <td>R5163</td>\n",
              "      <td>None</td>\n",
              "      <td>None</td>\n",
              "      <td>None</td>\n",
              "      <td>None</td>\n",
              "      <td>44164278</td>\n",
              "      <td>Roberts, Julia</td>\n",
              "    </tr>\n",
              "  </tbody>\n",
              "</table>\n",
              "</div>\n",
              "      <button class=\"colab-df-convert\" onclick=\"convertToInteractive('df-b2acd35e-d96a-4fe8-9bd3-7a9fd5bb19c8')\"\n",
              "              title=\"Convert this dataframe to an interactive table.\"\n",
              "              style=\"display:none;\">\n",
              "        \n",
              "  <svg xmlns=\"http://www.w3.org/2000/svg\" height=\"24px\"viewBox=\"0 0 24 24\"\n",
              "       width=\"24px\">\n",
              "    <path d=\"M0 0h24v24H0V0z\" fill=\"none\"/>\n",
              "    <path d=\"M18.56 5.44l.94 2.06.94-2.06 2.06-.94-2.06-.94-.94-2.06-.94 2.06-2.06.94zm-11 1L8.5 8.5l.94-2.06 2.06-.94-2.06-.94L8.5 2.5l-.94 2.06-2.06.94zm10 10l.94 2.06.94-2.06 2.06-.94-2.06-.94-.94-2.06-.94 2.06-2.06.94z\"/><path d=\"M17.41 7.96l-1.37-1.37c-.4-.4-.92-.59-1.43-.59-.52 0-1.04.2-1.43.59L10.3 9.45l-7.72 7.72c-.78.78-.78 2.05 0 2.83L4 21.41c.39.39.9.59 1.41.59.51 0 1.02-.2 1.41-.59l7.78-7.78 2.81-2.81c.8-.78.8-2.07 0-2.86zM5.41 20L4 18.59l7.72-7.72 1.47 1.35L5.41 20z\"/>\n",
              "  </svg>\n",
              "      </button>\n",
              "      \n",
              "  <style>\n",
              "    .colab-df-container {\n",
              "      display:flex;\n",
              "      flex-wrap:wrap;\n",
              "      gap: 12px;\n",
              "    }\n",
              "\n",
              "    .colab-df-convert {\n",
              "      background-color: #E8F0FE;\n",
              "      border: none;\n",
              "      border-radius: 50%;\n",
              "      cursor: pointer;\n",
              "      display: none;\n",
              "      fill: #1967D2;\n",
              "      height: 32px;\n",
              "      padding: 0 0 0 0;\n",
              "      width: 32px;\n",
              "    }\n",
              "\n",
              "    .colab-df-convert:hover {\n",
              "      background-color: #E2EBFA;\n",
              "      box-shadow: 0px 1px 2px rgba(60, 64, 67, 0.3), 0px 1px 3px 1px rgba(60, 64, 67, 0.15);\n",
              "      fill: #174EA6;\n",
              "    }\n",
              "\n",
              "    [theme=dark] .colab-df-convert {\n",
              "      background-color: #3B4455;\n",
              "      fill: #D2E3FC;\n",
              "    }\n",
              "\n",
              "    [theme=dark] .colab-df-convert:hover {\n",
              "      background-color: #434B5C;\n",
              "      box-shadow: 0px 1px 3px 1px rgba(0, 0, 0, 0.15);\n",
              "      filter: drop-shadow(0px 1px 2px rgba(0, 0, 0, 0.3));\n",
              "      fill: #FFFFFF;\n",
              "    }\n",
              "  </style>\n",
              "\n",
              "      <script>\n",
              "        const buttonEl =\n",
              "          document.querySelector('#df-b2acd35e-d96a-4fe8-9bd3-7a9fd5bb19c8 button.colab-df-convert');\n",
              "        buttonEl.style.display =\n",
              "          google.colab.kernel.accessAllowed ? 'block' : 'none';\n",
              "\n",
              "        async function convertToInteractive(key) {\n",
              "          const element = document.querySelector('#df-b2acd35e-d96a-4fe8-9bd3-7a9fd5bb19c8');\n",
              "          const dataTable =\n",
              "            await google.colab.kernel.invokeFunction('convertToInteractive',\n",
              "                                                     [key], {});\n",
              "          if (!dataTable) return;\n",
              "\n",
              "          const docLinkHtml = 'Like what you see? Visit the ' +\n",
              "            '<a target=\"_blank\" href=https://colab.research.google.com/notebooks/data_table.ipynb>data table notebook</a>'\n",
              "            + ' to learn more about interactive tables.';\n",
              "          element.innerHTML = '';\n",
              "          dataTable['output_type'] = 'display_data';\n",
              "          await google.colab.output.renderOutput(dataTable, element);\n",
              "          const docLink = document.createElement('div');\n",
              "          docLink.innerHTML = docLinkHtml;\n",
              "          element.appendChild(docLink);\n",
              "        }\n",
              "      </script>\n",
              "    </div>\n",
              "  </div>\n",
              "  "
            ],
            "application/vnd.google.colaboratory.module+javascript": "\n      import \"https://ssl.gstatic.com/colaboratory/data_table/f872b2c2305463fd/data_table.js\";\n\n      window.createDataTable({\n        data: [[{\n            'v': 0,\n            'f': \"0\",\n        },\n{\n            'v': 3161,\n            'f': \"3161\",\n        },\n\"20 Something\",\n{\n            'v': null,\n            'f': \"null\",\n        },\n{\n            'v': 1,\n            'f': \"1\",\n        },\n{\n            'v': 2006,\n            'f': \"2006\",\n        },\n{\n            'v': null,\n            'f': \"null\",\n        },\n\"S5352\",\n{\n            'v': null,\n            'f': \"null\",\n        },\n{\n            'v': null,\n            'f': \"null\",\n        },\n{\n            'v': null,\n            'f': \"null\",\n        },\n{\n            'v': null,\n            'f': \"null\",\n        },\n{\n            'v': 43788412,\n            'f': \"43788412\",\n        },\n\"Roberts, Julia\"],\n [{\n            'v': 1,\n            'f': \"1\",\n        },\n{\n            'v': 175564,\n            'f': \"175564\",\n        },\n\"Firehouse\",\n{\n            'v': null,\n            'f': \"null\",\n        },\n{\n            'v': 1,\n            'f': \"1\",\n        },\n{\n            'v': 1987,\n            'f': \"1987\",\n        },\n{\n            'v': null,\n            'f': \"null\",\n        },\n\"F62\",\n{\n            'v': null,\n            'f': \"null\",\n        },\n{\n            'v': null,\n            'f': \"null\",\n        },\n{\n            'v': null,\n            'f': \"null\",\n        },\n{\n            'v': null,\n            'f': \"null\",\n        },\n{\n            'v': 43846816,\n            'f': \"43846816\",\n        },\n\"Roberts, Julia\"],\n [{\n            'v': 2,\n            'f': \"2\",\n        },\n{\n            'v': 198621,\n            'f': \"198621\",\n        },\n\"Grand Champion\",\n{\n            'v': null,\n            'f': \"null\",\n        },\n{\n            'v': 1,\n            'f': \"1\",\n        },\n{\n            'v': 2002,\n            'f': \"2002\",\n        },\n{\n            'v': null,\n            'f': \"null\",\n        },\n\"G6532\",\n{\n            'v': null,\n            'f': \"null\",\n        },\n{\n            'v': null,\n            'f': \"null\",\n        },\n{\n            'v': null,\n            'f': \"null\",\n        },\n{\n            'v': null,\n            'f': \"null\",\n        },\n{\n            'v': 43876968,\n            'f': \"43876968\",\n        },\n\"Roberts, Julia\"],\n [{\n            'v': 3,\n            'f': \"3\",\n        },\n{\n            'v': 304918,\n            'f': \"304918\",\n        },\n\"Ljuset h\\u00e5ller mig s\\u00e4llskap\",\n{\n            'v': null,\n            'f': \"null\",\n        },\n{\n            'v': 1,\n            'f': \"1\",\n        },\n{\n            'v': 2000,\n            'f': \"2000\",\n        },\n{\n            'v': null,\n            'f': \"null\",\n        },\n\"L2346\",\n{\n            'v': null,\n            'f': \"null\",\n        },\n{\n            'v': null,\n            'f': \"null\",\n        },\n{\n            'v': null,\n            'f': \"null\",\n        },\n{\n            'v': null,\n            'f': \"null\",\n        },\n{\n            'v': 44099445,\n            'f': \"44099445\",\n        },\n\"Roberts, Julia\"],\n [{\n            'v': 4,\n            'f': \"4\",\n        },\n{\n            'v': 422036,\n            'f': \"422036\",\n        },\n\"Runaway Bride\",\n{\n            'v': null,\n            'f': \"null\",\n        },\n{\n            'v': 1,\n            'f': \"1\",\n        },\n{\n            'v': 1999,\n            'f': \"1999\",\n        },\n{\n            'v': null,\n            'f': \"null\",\n        },\n\"R5163\",\n{\n            'v': null,\n            'f': \"null\",\n        },\n{\n            'v': null,\n            'f': \"null\",\n        },\n{\n            'v': null,\n            'f': \"null\",\n        },\n{\n            'v': null,\n            'f': \"null\",\n        },\n{\n            'v': 44164278,\n            'f': \"44164278\",\n        },\n\"Roberts, Julia\"]],\n        columns: [[\"number\", \"index\"], [\"number\", \"id\"], [\"string\", \"title\"], [\"number\", \"imdb_index\"], [\"number\", \"kind_id\"], [\"number\", \"year\"], [\"number\", \"imdb_id\"], [\"string\", \"phonetic_code\"], [\"number\", \"episode_of_id\"], [\"number\", \"season_nr\"], [\"number\", \"episode_nr\"], [\"number\", \"series_years\"], [\"number\", \"__search_id\"], [\"string\", \"name\"]],\n        columnOptions: [{\"width\": \"1px\", \"className\": \"index_column\"}],\n        rowsPerPage: 25,\n        helpUrl: \"https://colab.research.google.com/notebooks/data_table.ipynb\",\n        suppressOutputScrolling: true,\n        minimumWidth: undefined,\n      });\n    "
          },
          "metadata": {}
        },
        {
          "output_type": "stream",
          "name": "stdout",
          "text": [
            "\n"
          ]
        },
        {
          "output_type": "display_data",
          "data": {
            "text/plain": [
              "<IPython.core.display.Markdown object>"
            ],
            "text/markdown": "---"
          },
          "metadata": {}
        },
        {
          "output_type": "display_data",
          "data": {
            "text/plain": [
              "<IPython.core.display.Markdown object>"
            ],
            "text/markdown": "**2nd CJN**:"
          },
          "metadata": {}
        },
        {
          "output_type": "display_data",
          "data": {
            "text/plain": [
              "<IPython.core.display.Markdown object>"
            ],
            "text/markdown": "---"
          },
          "metadata": {}
        },
        {
          "output_type": "stream",
          "name": "stdout",
          "text": [
            "Text:\n",
            "\tMOVIE.s(*{films}).v(title{roberts,julia})\n"
          ]
        },
        {
          "output_type": "display_data",
          "data": {
            "text/plain": [
              "<IPython.core.display.Markdown object>"
            ],
            "text/markdown": "---"
          },
          "metadata": {}
        },
        {
          "output_type": "stream",
          "name": "stdout",
          "text": [
            "Graph:\n"
          ]
        },
        {
          "output_type": "display_data",
          "data": {
            "text/plain": [
              "<graphviz.dot.Digraph at 0x7f5f57643b10>"
            ],
            "image/svg+xml": "<?xml version=\"1.0\" encoding=\"UTF-8\" standalone=\"no\"?>\n<!DOCTYPE svg PUBLIC \"-//W3C//DTD SVG 1.1//EN\"\n \"http://www.w3.org/Graphics/SVG/1.1/DTD/svg11.dtd\">\n<!-- Generated by graphviz version 2.40.1 (20161225.0304)\n -->\n<!-- Title: %3 Pages: 1 -->\n<svg width=\"201pt\" height=\"44pt\"\n viewBox=\"0.00 0.00 200.83 44.00\" xmlns=\"http://www.w3.org/2000/svg\" xmlns:xlink=\"http://www.w3.org/1999/xlink\">\n<g id=\"graph0\" class=\"graph\" transform=\"scale(1 1) rotate(0) translate(4 40)\">\n<title>%3</title>\n<polygon fill=\"#ffffff\" stroke=\"transparent\" points=\"-4,4 -4,-40 196.835,-40 196.835,4 -4,4\"/>\n<!-- t1 -->\n<g id=\"node1\" class=\"node\">\n<title>t1</title>\n<ellipse fill=\"none\" stroke=\"#000000\" cx=\"96.4175\" cy=\"-18\" rx=\"96.3351\" ry=\"18\"/>\n<text text-anchor=\"middle\" x=\"96.4175\" y=\"-15.8\" font-family=\"Times,serif\" font-size=\"9.00\" fill=\"#000000\">MOVIE.s(*{films}).v(title{roberts,julia})</text>\n</g>\n</g>\n</svg>\n"
          },
          "metadata": {}
        },
        {
          "output_type": "display_data",
          "data": {
            "text/plain": [
              "<IPython.core.display.Markdown object>"
            ],
            "text/markdown": "---"
          },
          "metadata": {}
        },
        {
          "output_type": "stream",
          "name": "stdout",
          "text": [
            "SQL:\n",
            "  \n",
            "  SELECT\n",
            "  \tt1.title,\n",
            "  \tt1.*\n",
            "  FROM\n",
            "  \t\"movie\" t1\n",
            "  WHERE\n",
            "  \tt1.title_tsvector @@ to_tsquery('roberts & julia')\n",
            "  LIMIT 1000;\n",
            "\n"
          ]
        },
        {
          "output_type": "display_data",
          "data": {
            "text/plain": [
              "<IPython.core.display.Markdown object>"
            ],
            "text/markdown": "---"
          },
          "metadata": {}
        },
        {
          "output_type": "stream",
          "name": "stdout",
          "text": [
            "JNTs:\n"
          ]
        },
        {
          "output_type": "display_data",
          "data": {
            "text/plain": [
              "                                      title      id  \\\n",
              "0  Untitled Julia Roberts/Joan Root Project  567842   \n",
              "\n",
              "                                      title imdb_index  kind_id  year imdb_id  \\\n",
              "0  Untitled Julia Roberts/Joan Root Project       None        1  2009    None   \n",
              "\n",
              "  phonetic_code episode_of_id season_nr episode_nr series_years  __search_id  \n",
              "0         U5343          None      None       None         None     44309348  "
            ],
            "text/html": [
              "\n",
              "  <div id=\"df-1a1ce40f-90d0-4932-ad3a-a65265218db9\">\n",
              "    <div class=\"colab-df-container\">\n",
              "      <div>\n",
              "<style scoped>\n",
              "    .dataframe tbody tr th:only-of-type {\n",
              "        vertical-align: middle;\n",
              "    }\n",
              "\n",
              "    .dataframe tbody tr th {\n",
              "        vertical-align: top;\n",
              "    }\n",
              "\n",
              "    .dataframe thead th {\n",
              "        text-align: right;\n",
              "    }\n",
              "</style>\n",
              "<table border=\"1\" class=\"dataframe\">\n",
              "  <thead>\n",
              "    <tr style=\"text-align: right;\">\n",
              "      <th></th>\n",
              "      <th>title</th>\n",
              "      <th>id</th>\n",
              "      <th>title</th>\n",
              "      <th>imdb_index</th>\n",
              "      <th>kind_id</th>\n",
              "      <th>year</th>\n",
              "      <th>imdb_id</th>\n",
              "      <th>phonetic_code</th>\n",
              "      <th>episode_of_id</th>\n",
              "      <th>season_nr</th>\n",
              "      <th>episode_nr</th>\n",
              "      <th>series_years</th>\n",
              "      <th>__search_id</th>\n",
              "    </tr>\n",
              "  </thead>\n",
              "  <tbody>\n",
              "    <tr>\n",
              "      <th>0</th>\n",
              "      <td>Untitled Julia Roberts/Joan Root Project</td>\n",
              "      <td>567842</td>\n",
              "      <td>Untitled Julia Roberts/Joan Root Project</td>\n",
              "      <td>None</td>\n",
              "      <td>1</td>\n",
              "      <td>2009</td>\n",
              "      <td>None</td>\n",
              "      <td>U5343</td>\n",
              "      <td>None</td>\n",
              "      <td>None</td>\n",
              "      <td>None</td>\n",
              "      <td>None</td>\n",
              "      <td>44309348</td>\n",
              "    </tr>\n",
              "  </tbody>\n",
              "</table>\n",
              "</div>\n",
              "      <button class=\"colab-df-convert\" onclick=\"convertToInteractive('df-1a1ce40f-90d0-4932-ad3a-a65265218db9')\"\n",
              "              title=\"Convert this dataframe to an interactive table.\"\n",
              "              style=\"display:none;\">\n",
              "        \n",
              "  <svg xmlns=\"http://www.w3.org/2000/svg\" height=\"24px\"viewBox=\"0 0 24 24\"\n",
              "       width=\"24px\">\n",
              "    <path d=\"M0 0h24v24H0V0z\" fill=\"none\"/>\n",
              "    <path d=\"M18.56 5.44l.94 2.06.94-2.06 2.06-.94-2.06-.94-.94-2.06-.94 2.06-2.06.94zm-11 1L8.5 8.5l.94-2.06 2.06-.94-2.06-.94L8.5 2.5l-.94 2.06-2.06.94zm10 10l.94 2.06.94-2.06 2.06-.94-2.06-.94-.94-2.06-.94 2.06-2.06.94z\"/><path d=\"M17.41 7.96l-1.37-1.37c-.4-.4-.92-.59-1.43-.59-.52 0-1.04.2-1.43.59L10.3 9.45l-7.72 7.72c-.78.78-.78 2.05 0 2.83L4 21.41c.39.39.9.59 1.41.59.51 0 1.02-.2 1.41-.59l7.78-7.78 2.81-2.81c.8-.78.8-2.07 0-2.86zM5.41 20L4 18.59l7.72-7.72 1.47 1.35L5.41 20z\"/>\n",
              "  </svg>\n",
              "      </button>\n",
              "      \n",
              "  <style>\n",
              "    .colab-df-container {\n",
              "      display:flex;\n",
              "      flex-wrap:wrap;\n",
              "      gap: 12px;\n",
              "    }\n",
              "\n",
              "    .colab-df-convert {\n",
              "      background-color: #E8F0FE;\n",
              "      border: none;\n",
              "      border-radius: 50%;\n",
              "      cursor: pointer;\n",
              "      display: none;\n",
              "      fill: #1967D2;\n",
              "      height: 32px;\n",
              "      padding: 0 0 0 0;\n",
              "      width: 32px;\n",
              "    }\n",
              "\n",
              "    .colab-df-convert:hover {\n",
              "      background-color: #E2EBFA;\n",
              "      box-shadow: 0px 1px 2px rgba(60, 64, 67, 0.3), 0px 1px 3px 1px rgba(60, 64, 67, 0.15);\n",
              "      fill: #174EA6;\n",
              "    }\n",
              "\n",
              "    [theme=dark] .colab-df-convert {\n",
              "      background-color: #3B4455;\n",
              "      fill: #D2E3FC;\n",
              "    }\n",
              "\n",
              "    [theme=dark] .colab-df-convert:hover {\n",
              "      background-color: #434B5C;\n",
              "      box-shadow: 0px 1px 3px 1px rgba(0, 0, 0, 0.15);\n",
              "      filter: drop-shadow(0px 1px 2px rgba(0, 0, 0, 0.3));\n",
              "      fill: #FFFFFF;\n",
              "    }\n",
              "  </style>\n",
              "\n",
              "      <script>\n",
              "        const buttonEl =\n",
              "          document.querySelector('#df-1a1ce40f-90d0-4932-ad3a-a65265218db9 button.colab-df-convert');\n",
              "        buttonEl.style.display =\n",
              "          google.colab.kernel.accessAllowed ? 'block' : 'none';\n",
              "\n",
              "        async function convertToInteractive(key) {\n",
              "          const element = document.querySelector('#df-1a1ce40f-90d0-4932-ad3a-a65265218db9');\n",
              "          const dataTable =\n",
              "            await google.colab.kernel.invokeFunction('convertToInteractive',\n",
              "                                                     [key], {});\n",
              "          if (!dataTable) return;\n",
              "\n",
              "          const docLinkHtml = 'Like what you see? Visit the ' +\n",
              "            '<a target=\"_blank\" href=https://colab.research.google.com/notebooks/data_table.ipynb>data table notebook</a>'\n",
              "            + ' to learn more about interactive tables.';\n",
              "          element.innerHTML = '';\n",
              "          dataTable['output_type'] = 'display_data';\n",
              "          await google.colab.output.renderOutput(dataTable, element);\n",
              "          const docLink = document.createElement('div');\n",
              "          docLink.innerHTML = docLinkHtml;\n",
              "          element.appendChild(docLink);\n",
              "        }\n",
              "      </script>\n",
              "    </div>\n",
              "  </div>\n",
              "  "
            ],
            "application/vnd.google.colaboratory.module+javascript": "\n      import \"https://ssl.gstatic.com/colaboratory/data_table/f872b2c2305463fd/data_table.js\";\n\n      window.createDataTable({\n        data: [[{\n            'v': 0,\n            'f': \"0\",\n        },\n\"Untitled Julia Roberts/Joan Root Project\",\n{\n            'v': 567842,\n            'f': \"567842\",\n        },\n\"Untitled Julia Roberts/Joan Root Project\",\n{\n            'v': null,\n            'f': \"null\",\n        },\n{\n            'v': 1,\n            'f': \"1\",\n        },\n{\n            'v': 2009,\n            'f': \"2009\",\n        },\n{\n            'v': null,\n            'f': \"null\",\n        },\n\"U5343\",\n{\n            'v': null,\n            'f': \"null\",\n        },\n{\n            'v': null,\n            'f': \"null\",\n        },\n{\n            'v': null,\n            'f': \"null\",\n        },\n{\n            'v': null,\n            'f': \"null\",\n        },\n{\n            'v': 44309348,\n            'f': \"44309348\",\n        }]],\n        columns: [[\"number\", \"index\"], [\"string\", \"title\"], [\"number\", \"id\"], [\"string\", \"title\"], [\"number\", \"imdb_index\"], [\"number\", \"kind_id\"], [\"number\", \"year\"], [\"number\", \"imdb_id\"], [\"string\", \"phonetic_code\"], [\"number\", \"episode_of_id\"], [\"number\", \"season_nr\"], [\"number\", \"episode_nr\"], [\"number\", \"series_years\"], [\"number\", \"__search_id\"]],\n        columnOptions: [{\"width\": \"1px\", \"className\": \"index_column\"}],\n        rowsPerPage: 25,\n        helpUrl: \"https://colab.research.google.com/notebooks/data_table.ipynb\",\n        suppressOutputScrolling: true,\n        minimumWidth: undefined,\n      });\n    "
          },
          "metadata": {}
        },
        {
          "output_type": "stream",
          "name": "stdout",
          "text": [
            "\n"
          ]
        },
        {
          "output_type": "display_data",
          "data": {
            "text/plain": [
              "<IPython.core.display.Markdown object>"
            ],
            "text/markdown": "---"
          },
          "metadata": {}
        },
        {
          "output_type": "display_data",
          "data": {
            "text/plain": [
              "<IPython.core.display.Markdown object>"
            ],
            "text/markdown": "**3rd CJN**:"
          },
          "metadata": {}
        },
        {
          "output_type": "display_data",
          "data": {
            "text/plain": [
              "<IPython.core.display.Markdown object>"
            ],
            "text/markdown": "---"
          },
          "metadata": {}
        },
        {
          "output_type": "stream",
          "name": "stdout",
          "text": [
            "Text:\n",
            "\tMOVIEINFO.v(info{roberts,julia})\n",
            "\t\t>MOVIE.s(*{films})\n"
          ]
        },
        {
          "output_type": "display_data",
          "data": {
            "text/plain": [
              "<IPython.core.display.Markdown object>"
            ],
            "text/markdown": "---"
          },
          "metadata": {}
        },
        {
          "output_type": "stream",
          "name": "stdout",
          "text": [
            "Graph:\n"
          ]
        },
        {
          "output_type": "display_data",
          "data": {
            "text/plain": [
              "<graphviz.dot.Digraph at 0x7f5f58127490>"
            ],
            "image/svg+xml": "<?xml version=\"1.0\" encoding=\"UTF-8\" standalone=\"no\"?>\n<!DOCTYPE svg PUBLIC \"-//W3C//DTD SVG 1.1//EN\"\n \"http://www.w3.org/Graphics/SVG/1.1/DTD/svg11.dtd\">\n<!-- Generated by graphviz version 2.40.1 (20161225.0304)\n -->\n<!-- Title: %3 Pages: 1 -->\n<svg width=\"177pt\" height=\"98pt\"\n viewBox=\"0.00 0.00 176.59 98.00\" xmlns=\"http://www.w3.org/2000/svg\" xmlns:xlink=\"http://www.w3.org/1999/xlink\">\n<g id=\"graph0\" class=\"graph\" transform=\"scale(1 1) rotate(0) translate(4 94)\">\n<title>%3</title>\n<polygon fill=\"#ffffff\" stroke=\"transparent\" points=\"-4,4 -4,-94 172.5863,-94 172.5863,4 -4,4\"/>\n<!-- t1 -->\n<g id=\"node1\" class=\"node\">\n<title>t1</title>\n<ellipse fill=\"none\" stroke=\"#000000\" cx=\"84.2931\" cy=\"-72\" rx=\"84.0868\" ry=\"18\"/>\n<text text-anchor=\"middle\" x=\"84.2931\" y=\"-69.8\" font-family=\"Times,serif\" font-size=\"9.00\" fill=\"#000000\">MOVIEINFO.v(info{roberts,julia})</text>\n</g>\n<!-- t2 -->\n<g id=\"node2\" class=\"node\">\n<title>t2</title>\n<ellipse fill=\"none\" stroke=\"#000000\" cx=\"84.2931\" cy=\"-18\" rx=\"51.9231\" ry=\"18\"/>\n<text text-anchor=\"middle\" x=\"84.2931\" y=\"-15.8\" font-family=\"Times,serif\" font-size=\"9.00\" fill=\"#000000\">MOVIE.s(*{films})</text>\n</g>\n<!-- t1&#45;&gt;t2 -->\n<g id=\"edge1\" class=\"edge\">\n<title>t1&#45;&gt;t2</title>\n<path fill=\"none\" stroke=\"#000000\" d=\"M84.2931,-53.7181C84.2931,-50.9911 84.2931,-48.1312 84.2931,-45.2673\"/>\n<polygon fill=\"#000000\" stroke=\"#000000\" points=\"87.4432,-45.2631 84.2931,-36.2631 81.1432,-45.2631 87.4432,-45.2631\"/>\n</g>\n</g>\n</svg>\n"
          },
          "metadata": {}
        },
        {
          "output_type": "display_data",
          "data": {
            "text/plain": [
              "<IPython.core.display.Markdown object>"
            ],
            "text/markdown": "---"
          },
          "metadata": {}
        },
        {
          "output_type": "stream",
          "name": "stdout",
          "text": [
            "SQL:\n",
            "  \n",
            "  SELECT\n",
            "  \tt2.*,\n",
            "  \tt1.info\n",
            "  FROM\n",
            "  \t\"movieinfo\" t1\n",
            "  \tJOIN \"movie\" t2 ON t1.movie_id = t2.id\n",
            "  WHERE\n",
            "  \tt1.info_tsvector @@ to_tsquery('roberts & julia')\n",
            "  LIMIT 1000;\n",
            "\n"
          ]
        },
        {
          "output_type": "display_data",
          "data": {
            "text/plain": [
              "<IPython.core.display.Markdown object>"
            ],
            "text/markdown": "---"
          },
          "metadata": {}
        },
        {
          "output_type": "stream",
          "name": "stdout",
          "text": [
            "JNTs:\n"
          ]
        },
        {
          "output_type": "display_data",
          "data": {
            "text/plain": [
              "       id           title imdb_index  kind_id  year imdb_id phonetic_code  \\\n",
              "0  263267  Kiss the Bride       None        1  2007    None         K2316   \n",
              "1  364762  Ocean's Twelve       None        1  2004    None         O2523   \n",
              "2  364762  Ocean's Twelve       None        1  2004    None         O2523   \n",
              "3  364762  Ocean's Twelve       None        1  2004    None         O2523   \n",
              "4  523654    The Prestige       None        1  2006    None         P6232   \n",
              "\n",
              "  episode_of_id season_nr episode_nr series_years  __search_id  \\\n",
              "0          None      None       None         None     43995987   \n",
              "1          None      None       None         None     44054612   \n",
              "2          None      None       None         None     44054612   \n",
              "3          None      None       None         None     44054612   \n",
              "4          None      None       None         None     44264635   \n",
              "\n",
              "                                                info  \n",
              "0  Stephanie: You totally love him. You want to w...  \n",
              "1  [to Tess while she is pretending to be Julia R...  \n",
              "2  Tess Ocean: [while trying to get through a cro...  \n",
              "3  Tess Ocean: Ma Marcus?::Julia Roberts: Um... N...  \n",
              "4  Julia McCullough: I thought up a name for you:...  "
            ],
            "text/html": [
              "\n",
              "  <div id=\"df-1fa11b0f-3402-4971-b10b-24d718c329b6\">\n",
              "    <div class=\"colab-df-container\">\n",
              "      <div>\n",
              "<style scoped>\n",
              "    .dataframe tbody tr th:only-of-type {\n",
              "        vertical-align: middle;\n",
              "    }\n",
              "\n",
              "    .dataframe tbody tr th {\n",
              "        vertical-align: top;\n",
              "    }\n",
              "\n",
              "    .dataframe thead th {\n",
              "        text-align: right;\n",
              "    }\n",
              "</style>\n",
              "<table border=\"1\" class=\"dataframe\">\n",
              "  <thead>\n",
              "    <tr style=\"text-align: right;\">\n",
              "      <th></th>\n",
              "      <th>id</th>\n",
              "      <th>title</th>\n",
              "      <th>imdb_index</th>\n",
              "      <th>kind_id</th>\n",
              "      <th>year</th>\n",
              "      <th>imdb_id</th>\n",
              "      <th>phonetic_code</th>\n",
              "      <th>episode_of_id</th>\n",
              "      <th>season_nr</th>\n",
              "      <th>episode_nr</th>\n",
              "      <th>series_years</th>\n",
              "      <th>__search_id</th>\n",
              "      <th>info</th>\n",
              "    </tr>\n",
              "  </thead>\n",
              "  <tbody>\n",
              "    <tr>\n",
              "      <th>0</th>\n",
              "      <td>263267</td>\n",
              "      <td>Kiss the Bride</td>\n",
              "      <td>None</td>\n",
              "      <td>1</td>\n",
              "      <td>2007</td>\n",
              "      <td>None</td>\n",
              "      <td>K2316</td>\n",
              "      <td>None</td>\n",
              "      <td>None</td>\n",
              "      <td>None</td>\n",
              "      <td>None</td>\n",
              "      <td>43995987</td>\n",
              "      <td>Stephanie: You totally love him. You want to w...</td>\n",
              "    </tr>\n",
              "    <tr>\n",
              "      <th>1</th>\n",
              "      <td>364762</td>\n",
              "      <td>Ocean's Twelve</td>\n",
              "      <td>None</td>\n",
              "      <td>1</td>\n",
              "      <td>2004</td>\n",
              "      <td>None</td>\n",
              "      <td>O2523</td>\n",
              "      <td>None</td>\n",
              "      <td>None</td>\n",
              "      <td>None</td>\n",
              "      <td>None</td>\n",
              "      <td>44054612</td>\n",
              "      <td>[to Tess while she is pretending to be Julia R...</td>\n",
              "    </tr>\n",
              "    <tr>\n",
              "      <th>2</th>\n",
              "      <td>364762</td>\n",
              "      <td>Ocean's Twelve</td>\n",
              "      <td>None</td>\n",
              "      <td>1</td>\n",
              "      <td>2004</td>\n",
              "      <td>None</td>\n",
              "      <td>O2523</td>\n",
              "      <td>None</td>\n",
              "      <td>None</td>\n",
              "      <td>None</td>\n",
              "      <td>None</td>\n",
              "      <td>44054612</td>\n",
              "      <td>Tess Ocean: [while trying to get through a cro...</td>\n",
              "    </tr>\n",
              "    <tr>\n",
              "      <th>3</th>\n",
              "      <td>364762</td>\n",
              "      <td>Ocean's Twelve</td>\n",
              "      <td>None</td>\n",
              "      <td>1</td>\n",
              "      <td>2004</td>\n",
              "      <td>None</td>\n",
              "      <td>O2523</td>\n",
              "      <td>None</td>\n",
              "      <td>None</td>\n",
              "      <td>None</td>\n",
              "      <td>None</td>\n",
              "      <td>44054612</td>\n",
              "      <td>Tess Ocean: Ma Marcus?::Julia Roberts: Um... N...</td>\n",
              "    </tr>\n",
              "    <tr>\n",
              "      <th>4</th>\n",
              "      <td>523654</td>\n",
              "      <td>The Prestige</td>\n",
              "      <td>None</td>\n",
              "      <td>1</td>\n",
              "      <td>2006</td>\n",
              "      <td>None</td>\n",
              "      <td>P6232</td>\n",
              "      <td>None</td>\n",
              "      <td>None</td>\n",
              "      <td>None</td>\n",
              "      <td>None</td>\n",
              "      <td>44264635</td>\n",
              "      <td>Julia McCullough: I thought up a name for you:...</td>\n",
              "    </tr>\n",
              "  </tbody>\n",
              "</table>\n",
              "</div>\n",
              "      <button class=\"colab-df-convert\" onclick=\"convertToInteractive('df-1fa11b0f-3402-4971-b10b-24d718c329b6')\"\n",
              "              title=\"Convert this dataframe to an interactive table.\"\n",
              "              style=\"display:none;\">\n",
              "        \n",
              "  <svg xmlns=\"http://www.w3.org/2000/svg\" height=\"24px\"viewBox=\"0 0 24 24\"\n",
              "       width=\"24px\">\n",
              "    <path d=\"M0 0h24v24H0V0z\" fill=\"none\"/>\n",
              "    <path d=\"M18.56 5.44l.94 2.06.94-2.06 2.06-.94-2.06-.94-.94-2.06-.94 2.06-2.06.94zm-11 1L8.5 8.5l.94-2.06 2.06-.94-2.06-.94L8.5 2.5l-.94 2.06-2.06.94zm10 10l.94 2.06.94-2.06 2.06-.94-2.06-.94-.94-2.06-.94 2.06-2.06.94z\"/><path d=\"M17.41 7.96l-1.37-1.37c-.4-.4-.92-.59-1.43-.59-.52 0-1.04.2-1.43.59L10.3 9.45l-7.72 7.72c-.78.78-.78 2.05 0 2.83L4 21.41c.39.39.9.59 1.41.59.51 0 1.02-.2 1.41-.59l7.78-7.78 2.81-2.81c.8-.78.8-2.07 0-2.86zM5.41 20L4 18.59l7.72-7.72 1.47 1.35L5.41 20z\"/>\n",
              "  </svg>\n",
              "      </button>\n",
              "      \n",
              "  <style>\n",
              "    .colab-df-container {\n",
              "      display:flex;\n",
              "      flex-wrap:wrap;\n",
              "      gap: 12px;\n",
              "    }\n",
              "\n",
              "    .colab-df-convert {\n",
              "      background-color: #E8F0FE;\n",
              "      border: none;\n",
              "      border-radius: 50%;\n",
              "      cursor: pointer;\n",
              "      display: none;\n",
              "      fill: #1967D2;\n",
              "      height: 32px;\n",
              "      padding: 0 0 0 0;\n",
              "      width: 32px;\n",
              "    }\n",
              "\n",
              "    .colab-df-convert:hover {\n",
              "      background-color: #E2EBFA;\n",
              "      box-shadow: 0px 1px 2px rgba(60, 64, 67, 0.3), 0px 1px 3px 1px rgba(60, 64, 67, 0.15);\n",
              "      fill: #174EA6;\n",
              "    }\n",
              "\n",
              "    [theme=dark] .colab-df-convert {\n",
              "      background-color: #3B4455;\n",
              "      fill: #D2E3FC;\n",
              "    }\n",
              "\n",
              "    [theme=dark] .colab-df-convert:hover {\n",
              "      background-color: #434B5C;\n",
              "      box-shadow: 0px 1px 3px 1px rgba(0, 0, 0, 0.15);\n",
              "      filter: drop-shadow(0px 1px 2px rgba(0, 0, 0, 0.3));\n",
              "      fill: #FFFFFF;\n",
              "    }\n",
              "  </style>\n",
              "\n",
              "      <script>\n",
              "        const buttonEl =\n",
              "          document.querySelector('#df-1fa11b0f-3402-4971-b10b-24d718c329b6 button.colab-df-convert');\n",
              "        buttonEl.style.display =\n",
              "          google.colab.kernel.accessAllowed ? 'block' : 'none';\n",
              "\n",
              "        async function convertToInteractive(key) {\n",
              "          const element = document.querySelector('#df-1fa11b0f-3402-4971-b10b-24d718c329b6');\n",
              "          const dataTable =\n",
              "            await google.colab.kernel.invokeFunction('convertToInteractive',\n",
              "                                                     [key], {});\n",
              "          if (!dataTable) return;\n",
              "\n",
              "          const docLinkHtml = 'Like what you see? Visit the ' +\n",
              "            '<a target=\"_blank\" href=https://colab.research.google.com/notebooks/data_table.ipynb>data table notebook</a>'\n",
              "            + ' to learn more about interactive tables.';\n",
              "          element.innerHTML = '';\n",
              "          dataTable['output_type'] = 'display_data';\n",
              "          await google.colab.output.renderOutput(dataTable, element);\n",
              "          const docLink = document.createElement('div');\n",
              "          docLink.innerHTML = docLinkHtml;\n",
              "          element.appendChild(docLink);\n",
              "        }\n",
              "      </script>\n",
              "    </div>\n",
              "  </div>\n",
              "  "
            ],
            "application/vnd.google.colaboratory.module+javascript": "\n      import \"https://ssl.gstatic.com/colaboratory/data_table/f872b2c2305463fd/data_table.js\";\n\n      window.createDataTable({\n        data: [[{\n            'v': 0,\n            'f': \"0\",\n        },\n{\n            'v': 263267,\n            'f': \"263267\",\n        },\n\"Kiss the Bride\",\n{\n            'v': null,\n            'f': \"null\",\n        },\n{\n            'v': 1,\n            'f': \"1\",\n        },\n{\n            'v': 2007,\n            'f': \"2007\",\n        },\n{\n            'v': null,\n            'f': \"null\",\n        },\n\"K2316\",\n{\n            'v': null,\n            'f': \"null\",\n        },\n{\n            'v': null,\n            'f': \"null\",\n        },\n{\n            'v': null,\n            'f': \"null\",\n        },\n{\n            'v': null,\n            'f': \"null\",\n        },\n{\n            'v': 43995987,\n            'f': \"43995987\",\n        },\n\"Stephanie: You totally love him. You want to wreck the wedding and steal him for yourself. You are so Julia Roberts in \\\"My Best Friend's Wedding\\\" right now.\"],\n [{\n            'v': 1,\n            'f': \"1\",\n        },\n{\n            'v': 364762,\n            'f': \"364762\",\n        },\n\"Ocean's Twelve\",\n{\n            'v': null,\n            'f': \"null\",\n        },\n{\n            'v': 1,\n            'f': \"1\",\n        },\n{\n            'v': 2004,\n            'f': \"2004\",\n        },\n{\n            'v': null,\n            'f': \"null\",\n        },\n\"O2523\",\n{\n            'v': null,\n            'f': \"null\",\n        },\n{\n            'v': null,\n            'f': \"null\",\n        },\n{\n            'v': null,\n            'f': \"null\",\n        },\n{\n            'v': null,\n            'f': \"null\",\n        },\n{\n            'v': 44054612,\n            'f': \"44054612\",\n        },\n\"[to Tess while she is pretending to be Julia Roberts and is surrounded by photographers]::Linus Caldwell: Protect your fake baby, protect your fake baby!\"],\n [{\n            'v': 2,\n            'f': \"2\",\n        },\n{\n            'v': 364762,\n            'f': \"364762\",\n        },\n\"Ocean's Twelve\",\n{\n            'v': null,\n            'f': \"null\",\n        },\n{\n            'v': 1,\n            'f': \"1\",\n        },\n{\n            'v': 2004,\n            'f': \"2004\",\n        },\n{\n            'v': null,\n            'f': \"null\",\n        },\n\"O2523\",\n{\n            'v': null,\n            'f': \"null\",\n        },\n{\n            'v': null,\n            'f': \"null\",\n        },\n{\n            'v': null,\n            'f': \"null\",\n        },\n{\n            'v': null,\n            'f': \"null\",\n        },\n{\n            'v': 44054612,\n            'f': \"44054612\",\n        },\n\"Tess Ocean: [while trying to get through a crowd of fans thinking she's Julia Roberts] How is this going to get Danny out?::Linus Caldwell: We need someone famous.::Tess Ocean: Why didn't you get someone famous?::Linus Caldwell: Just think Four Weddings and a Funeral.::Tess Ocean: [rather bewildered] She wasn't in Four Weddings and a Funeral.::Linus Caldwell: 'I'. 'I wasn't in Four Weddings and a Funeral'! Just protect your fake baby!\"],\n [{\n            'v': 3,\n            'f': \"3\",\n        },\n{\n            'v': 364762,\n            'f': \"364762\",\n        },\n\"Ocean's Twelve\",\n{\n            'v': null,\n            'f': \"null\",\n        },\n{\n            'v': 1,\n            'f': \"1\",\n        },\n{\n            'v': 2004,\n            'f': \"2004\",\n        },\n{\n            'v': null,\n            'f': \"null\",\n        },\n\"O2523\",\n{\n            'v': null,\n            'f': \"null\",\n        },\n{\n            'v': null,\n            'f': \"null\",\n        },\n{\n            'v': null,\n            'f': \"null\",\n        },\n{\n            'v': null,\n            'f': \"null\",\n        },\n{\n            'v': 44054612,\n            'f': \"44054612\",\n        },\n\"Tess Ocean: Ma Marcus?::Julia Roberts: Um... No it's Julia.::Tess Ocean: um... oh... Hello Julia... it's ah... Julia.\"],\n [{\n            'v': 4,\n            'f': \"4\",\n        },\n{\n            'v': 523654,\n            'f': \"523654\",\n        },\n\"The Prestige\",\n{\n            'v': null,\n            'f': \"null\",\n        },\n{\n            'v': 1,\n            'f': \"1\",\n        },\n{\n            'v': 2006,\n            'f': \"2006\",\n        },\n{\n            'v': null,\n            'f': \"null\",\n        },\n\"P6232\",\n{\n            'v': null,\n            'f': \"null\",\n        },\n{\n            'v': null,\n            'f': \"null\",\n        },\n{\n            'v': null,\n            'f': \"null\",\n        },\n{\n            'v': null,\n            'f': \"null\",\n        },\n{\n            'v': 44264635,\n            'f': \"44264635\",\n        },\n\"Julia McCullough: I thought up a name for you: The Great Danton. Do you like it? It's sophisticated.::Robert Angier: [scoffs] It's French.\"]],\n        columns: [[\"number\", \"index\"], [\"number\", \"id\"], [\"string\", \"title\"], [\"number\", \"imdb_index\"], [\"number\", \"kind_id\"], [\"number\", \"year\"], [\"number\", \"imdb_id\"], [\"string\", \"phonetic_code\"], [\"number\", \"episode_of_id\"], [\"number\", \"season_nr\"], [\"number\", \"episode_nr\"], [\"number\", \"series_years\"], [\"number\", \"__search_id\"], [\"string\", \"info\"]],\n        columnOptions: [{\"width\": \"1px\", \"className\": \"index_column\"}],\n        rowsPerPage: 25,\n        helpUrl: \"https://colab.research.google.com/notebooks/data_table.ipynb\",\n        suppressOutputScrolling: true,\n        minimumWidth: undefined,\n      });\n    "
          },
          "metadata": {}
        },
        {
          "output_type": "stream",
          "name": "stdout",
          "text": [
            "\n"
          ]
        },
        {
          "output_type": "display_data",
          "data": {
            "text/plain": [
              "<IPython.core.display.Markdown object>"
            ],
            "text/markdown": "---"
          },
          "metadata": {}
        },
        {
          "output_type": "display_data",
          "data": {
            "text/plain": [
              "<IPython.core.display.Markdown object>"
            ],
            "text/markdown": "**4th CJN**:"
          },
          "metadata": {}
        },
        {
          "output_type": "display_data",
          "data": {
            "text/plain": [
              "<IPython.core.display.Markdown object>"
            ],
            "text/markdown": "---"
          },
          "metadata": {}
        },
        {
          "output_type": "stream",
          "name": "stdout",
          "text": [
            "Text:\n",
            "\tPERSON.v(name{julia})\n",
            "\t\t<CASTING\n",
            "\t\t\t>MOVIE.s(*{films})\n",
            "\t\t\t\t<CASTING\n",
            "\t\t\t\t\t>PERSON.v(name{roberts})\n"
          ]
        },
        {
          "output_type": "display_data",
          "data": {
            "text/plain": [
              "<IPython.core.display.Markdown object>"
            ],
            "text/markdown": "---"
          },
          "metadata": {}
        },
        {
          "output_type": "stream",
          "name": "stdout",
          "text": [
            "Graph:\n"
          ]
        },
        {
          "output_type": "display_data",
          "data": {
            "text/plain": [
              "<graphviz.dot.Digraph at 0x7f5f575f7450>"
            ],
            "image/svg+xml": "<?xml version=\"1.0\" encoding=\"UTF-8\" standalone=\"no\"?>\n<!DOCTYPE svg PUBLIC \"-//W3C//DTD SVG 1.1//EN\"\n \"http://www.w3.org/Graphics/SVG/1.1/DTD/svg11.dtd\">\n<!-- Generated by graphviz version 2.40.1 (20161225.0304)\n -->\n<!-- Title: %3 Pages: 1 -->\n<svg width=\"399pt\" height=\"98pt\"\n viewBox=\"0.00 0.00 399.33 98.00\" xmlns=\"http://www.w3.org/2000/svg\" xmlns:xlink=\"http://www.w3.org/1999/xlink\">\n<g id=\"graph0\" class=\"graph\" transform=\"scale(1 1) rotate(0) translate(4 94)\">\n<title>%3</title>\n<polygon fill=\"#ffffff\" stroke=\"transparent\" points=\"-4,4 -4,-94 395.3265,-94 395.3265,4 -4,4\"/>\n<!-- t1 -->\n<g id=\"node1\" class=\"node\">\n<title>t1</title>\n<ellipse fill=\"none\" stroke=\"#000000\" cx=\"61.7765\" cy=\"-18\" rx=\"61.5538\" ry=\"18\"/>\n<text text-anchor=\"middle\" x=\"61.7765\" y=\"-15.8\" font-family=\"Times,serif\" font-size=\"9.00\" fill=\"#000000\">PERSON.v(name{julia})</text>\n</g>\n<!-- t2 -->\n<g id=\"node2\" class=\"node\">\n<title>t2</title>\n<ellipse fill=\"none\" stroke=\"#000000\" cx=\"137.7765\" cy=\"-72\" rx=\"32.1641\" ry=\"18\"/>\n<text text-anchor=\"middle\" x=\"137.7765\" y=\"-69.8\" font-family=\"Times,serif\" font-size=\"9.00\" fill=\"#000000\">CASTING</text>\n</g>\n<!-- t2&#45;&gt;t1 -->\n<g id=\"edge2\" class=\"edge\">\n<title>t2&#45;&gt;t1</title>\n<path fill=\"none\" stroke=\"#000000\" d=\"M117.8084,-57.8121C110.1986,-52.4052 101.3328,-46.1058 92.929,-40.1347\"/>\n<polygon fill=\"#000000\" stroke=\"#000000\" points=\"94.5517,-37.4235 85.3905,-34.7784 90.9026,-42.5591 94.5517,-37.4235\"/>\n</g>\n<!-- t3 -->\n<g id=\"node3\" class=\"node\">\n<title>t3</title>\n<ellipse fill=\"none\" stroke=\"#000000\" cx=\"189.7765\" cy=\"-18\" rx=\"51.9231\" ry=\"18\"/>\n<text text-anchor=\"middle\" x=\"189.7765\" y=\"-15.8\" font-family=\"Times,serif\" font-size=\"9.00\" fill=\"#000000\">MOVIE.s(*{films})</text>\n</g>\n<!-- t2&#45;&gt;t3 -->\n<g id=\"edge1\" class=\"edge\">\n<title>t2&#45;&gt;t3</title>\n<path fill=\"none\" stroke=\"#000000\" d=\"M153.0969,-56.0903C157.4634,-51.5559 162.3162,-46.5164 167.0247,-41.6269\"/>\n<polygon fill=\"#000000\" stroke=\"#000000\" points=\"169.3228,-43.7816 173.2966,-35.1138 164.7847,-39.4117 169.3228,-43.7816\"/>\n</g>\n<!-- t4 -->\n<g id=\"node4\" class=\"node\">\n<title>t4</title>\n<ellipse fill=\"none\" stroke=\"#000000\" cx=\"240.7765\" cy=\"-72\" rx=\"32.1641\" ry=\"18\"/>\n<text text-anchor=\"middle\" x=\"240.7765\" y=\"-69.8\" font-family=\"Times,serif\" font-size=\"9.00\" fill=\"#000000\">CASTING</text>\n</g>\n<!-- t4&#45;&gt;t3 -->\n<g id=\"edge4\" class=\"edge\">\n<title>t4&#45;&gt;t3</title>\n<path fill=\"none\" stroke=\"#000000\" d=\"M225.4748,-55.7982C221.3745,-51.4567 216.8529,-46.6692 212.4456,-42.0026\"/>\n<polygon fill=\"#000000\" stroke=\"#000000\" points=\"214.6022,-39.6983 206.1324,-35.3181 210.022,-44.0241 214.6022,-39.6983\"/>\n</g>\n<!-- t5 -->\n<g id=\"node5\" class=\"node\">\n<title>t5</title>\n<ellipse fill=\"none\" stroke=\"#000000\" cx=\"323.7765\" cy=\"-18\" rx=\"67.6\" ry=\"18\"/>\n<text text-anchor=\"middle\" x=\"323.7765\" y=\"-15.8\" font-family=\"Times,serif\" font-size=\"9.00\" fill=\"#000000\">PERSON.v(name{roberts})</text>\n</g>\n<!-- t4&#45;&gt;t5 -->\n<g id=\"edge3\" class=\"edge\">\n<title>t4&#45;&gt;t5</title>\n<path fill=\"none\" stroke=\"#000000\" d=\"M262.151,-58.0937C270.7067,-52.5273 280.7682,-45.9813 290.2521,-39.811\"/>\n<polygon fill=\"#000000\" stroke=\"#000000\" points=\"292.211,-42.2946 298.0371,-34.7461 288.7753,-37.0139 292.211,-42.2946\"/>\n</g>\n</g>\n</svg>\n"
          },
          "metadata": {}
        },
        {
          "output_type": "display_data",
          "data": {
            "text/plain": [
              "<IPython.core.display.Markdown object>"
            ],
            "text/markdown": "---"
          },
          "metadata": {}
        },
        {
          "output_type": "stream",
          "name": "stdout",
          "text": [
            "SQL:\n",
            "  \n",
            "  SELECT\n",
            "  \tt3.*,\n",
            "  \tt5.name,\n",
            "  \tt1.name\n",
            "  FROM\n",
            "  \t\"person\" t1\n",
            "  \tJOIN \"casting\" t2 ON t2.person_id = t1.id\n",
            "  \tJOIN \"movie\" t3 ON t2.movie_id = t3.id\n",
            "  \tJOIN \"casting\" t4 ON t4.movie_id = t3.id\n",
            "  \tJOIN \"person\" t5 ON t4.person_id = t5.id\n",
            "  WHERE\n",
            "  \tt1.ctid <> t5.ctid\n",
            "  \tAND t2.ctid <> t4.ctid\n",
            "  \tAND t1.name_tsvector @@ to_tsquery('julia')\n",
            "  \tAND t5.name_tsvector @@ to_tsquery('roberts')\n",
            "  LIMIT 1000;\n",
            "\n"
          ]
        },
        {
          "output_type": "display_data",
          "data": {
            "text/plain": [
              "<IPython.core.display.Markdown object>"
            ],
            "text/markdown": "---"
          },
          "metadata": {}
        },
        {
          "output_type": "stream",
          "name": "stdout",
          "text": [
            "JNTs:\n"
          ]
        },
        {
          "output_type": "display_data",
          "data": {
            "text/plain": [
              "       id         title imdb_index  kind_id  year imdb_id phonetic_code  \\\n",
              "0  387801  Pig Business       None        1  2009    None         P2125   \n",
              "1  527311    The Rookie       None        1  1990    None            R2   \n",
              "2  527311    The Rookie       None        1  1990    None            R2   \n",
              "3  136518      Dispatch       None        1  2009    None         D2132   \n",
              "4  136518      Dispatch       None        1  2009    None         D2132   \n",
              "\n",
              "  episode_of_id season_nr episode_nr series_years  __search_id  \\\n",
              "0          None      None       None         None     44088144   \n",
              "1          None      None       None         None     44275854   \n",
              "2          None      None       None         None     44275854   \n",
              "3          None      None       None         None     43911170   \n",
              "4          None      None       None         None     43911170   \n",
              "\n",
              "                  name          name  \n",
              "0  Kennedy Jr., Robert  Guest, Julia  \n",
              "1       Harvey, Robert   Julia, Raul  \n",
              "2        Dubac, Robert   Julia, Raul  \n",
              "3       Watzke, Robert   Boyd, Julia  \n",
              "4      Roberts, Arthur   Boyd, Julia  "
            ],
            "text/html": [
              "\n",
              "  <div id=\"df-9d585a3f-0bb0-4511-803a-f59fdeb5f15e\">\n",
              "    <div class=\"colab-df-container\">\n",
              "      <div>\n",
              "<style scoped>\n",
              "    .dataframe tbody tr th:only-of-type {\n",
              "        vertical-align: middle;\n",
              "    }\n",
              "\n",
              "    .dataframe tbody tr th {\n",
              "        vertical-align: top;\n",
              "    }\n",
              "\n",
              "    .dataframe thead th {\n",
              "        text-align: right;\n",
              "    }\n",
              "</style>\n",
              "<table border=\"1\" class=\"dataframe\">\n",
              "  <thead>\n",
              "    <tr style=\"text-align: right;\">\n",
              "      <th></th>\n",
              "      <th>id</th>\n",
              "      <th>title</th>\n",
              "      <th>imdb_index</th>\n",
              "      <th>kind_id</th>\n",
              "      <th>year</th>\n",
              "      <th>imdb_id</th>\n",
              "      <th>phonetic_code</th>\n",
              "      <th>episode_of_id</th>\n",
              "      <th>season_nr</th>\n",
              "      <th>episode_nr</th>\n",
              "      <th>series_years</th>\n",
              "      <th>__search_id</th>\n",
              "      <th>name</th>\n",
              "      <th>name</th>\n",
              "    </tr>\n",
              "  </thead>\n",
              "  <tbody>\n",
              "    <tr>\n",
              "      <th>0</th>\n",
              "      <td>387801</td>\n",
              "      <td>Pig Business</td>\n",
              "      <td>None</td>\n",
              "      <td>1</td>\n",
              "      <td>2009</td>\n",
              "      <td>None</td>\n",
              "      <td>P2125</td>\n",
              "      <td>None</td>\n",
              "      <td>None</td>\n",
              "      <td>None</td>\n",
              "      <td>None</td>\n",
              "      <td>44088144</td>\n",
              "      <td>Kennedy Jr., Robert</td>\n",
              "      <td>Guest, Julia</td>\n",
              "    </tr>\n",
              "    <tr>\n",
              "      <th>1</th>\n",
              "      <td>527311</td>\n",
              "      <td>The Rookie</td>\n",
              "      <td>None</td>\n",
              "      <td>1</td>\n",
              "      <td>1990</td>\n",
              "      <td>None</td>\n",
              "      <td>R2</td>\n",
              "      <td>None</td>\n",
              "      <td>None</td>\n",
              "      <td>None</td>\n",
              "      <td>None</td>\n",
              "      <td>44275854</td>\n",
              "      <td>Harvey, Robert</td>\n",
              "      <td>Julia, Raul</td>\n",
              "    </tr>\n",
              "    <tr>\n",
              "      <th>2</th>\n",
              "      <td>527311</td>\n",
              "      <td>The Rookie</td>\n",
              "      <td>None</td>\n",
              "      <td>1</td>\n",
              "      <td>1990</td>\n",
              "      <td>None</td>\n",
              "      <td>R2</td>\n",
              "      <td>None</td>\n",
              "      <td>None</td>\n",
              "      <td>None</td>\n",
              "      <td>None</td>\n",
              "      <td>44275854</td>\n",
              "      <td>Dubac, Robert</td>\n",
              "      <td>Julia, Raul</td>\n",
              "    </tr>\n",
              "    <tr>\n",
              "      <th>3</th>\n",
              "      <td>136518</td>\n",
              "      <td>Dispatch</td>\n",
              "      <td>None</td>\n",
              "      <td>1</td>\n",
              "      <td>2009</td>\n",
              "      <td>None</td>\n",
              "      <td>D2132</td>\n",
              "      <td>None</td>\n",
              "      <td>None</td>\n",
              "      <td>None</td>\n",
              "      <td>None</td>\n",
              "      <td>43911170</td>\n",
              "      <td>Watzke, Robert</td>\n",
              "      <td>Boyd, Julia</td>\n",
              "    </tr>\n",
              "    <tr>\n",
              "      <th>4</th>\n",
              "      <td>136518</td>\n",
              "      <td>Dispatch</td>\n",
              "      <td>None</td>\n",
              "      <td>1</td>\n",
              "      <td>2009</td>\n",
              "      <td>None</td>\n",
              "      <td>D2132</td>\n",
              "      <td>None</td>\n",
              "      <td>None</td>\n",
              "      <td>None</td>\n",
              "      <td>None</td>\n",
              "      <td>43911170</td>\n",
              "      <td>Roberts, Arthur</td>\n",
              "      <td>Boyd, Julia</td>\n",
              "    </tr>\n",
              "  </tbody>\n",
              "</table>\n",
              "</div>\n",
              "      <button class=\"colab-df-convert\" onclick=\"convertToInteractive('df-9d585a3f-0bb0-4511-803a-f59fdeb5f15e')\"\n",
              "              title=\"Convert this dataframe to an interactive table.\"\n",
              "              style=\"display:none;\">\n",
              "        \n",
              "  <svg xmlns=\"http://www.w3.org/2000/svg\" height=\"24px\"viewBox=\"0 0 24 24\"\n",
              "       width=\"24px\">\n",
              "    <path d=\"M0 0h24v24H0V0z\" fill=\"none\"/>\n",
              "    <path d=\"M18.56 5.44l.94 2.06.94-2.06 2.06-.94-2.06-.94-.94-2.06-.94 2.06-2.06.94zm-11 1L8.5 8.5l.94-2.06 2.06-.94-2.06-.94L8.5 2.5l-.94 2.06-2.06.94zm10 10l.94 2.06.94-2.06 2.06-.94-2.06-.94-.94-2.06-.94 2.06-2.06.94z\"/><path d=\"M17.41 7.96l-1.37-1.37c-.4-.4-.92-.59-1.43-.59-.52 0-1.04.2-1.43.59L10.3 9.45l-7.72 7.72c-.78.78-.78 2.05 0 2.83L4 21.41c.39.39.9.59 1.41.59.51 0 1.02-.2 1.41-.59l7.78-7.78 2.81-2.81c.8-.78.8-2.07 0-2.86zM5.41 20L4 18.59l7.72-7.72 1.47 1.35L5.41 20z\"/>\n",
              "  </svg>\n",
              "      </button>\n",
              "      \n",
              "  <style>\n",
              "    .colab-df-container {\n",
              "      display:flex;\n",
              "      flex-wrap:wrap;\n",
              "      gap: 12px;\n",
              "    }\n",
              "\n",
              "    .colab-df-convert {\n",
              "      background-color: #E8F0FE;\n",
              "      border: none;\n",
              "      border-radius: 50%;\n",
              "      cursor: pointer;\n",
              "      display: none;\n",
              "      fill: #1967D2;\n",
              "      height: 32px;\n",
              "      padding: 0 0 0 0;\n",
              "      width: 32px;\n",
              "    }\n",
              "\n",
              "    .colab-df-convert:hover {\n",
              "      background-color: #E2EBFA;\n",
              "      box-shadow: 0px 1px 2px rgba(60, 64, 67, 0.3), 0px 1px 3px 1px rgba(60, 64, 67, 0.15);\n",
              "      fill: #174EA6;\n",
              "    }\n",
              "\n",
              "    [theme=dark] .colab-df-convert {\n",
              "      background-color: #3B4455;\n",
              "      fill: #D2E3FC;\n",
              "    }\n",
              "\n",
              "    [theme=dark] .colab-df-convert:hover {\n",
              "      background-color: #434B5C;\n",
              "      box-shadow: 0px 1px 3px 1px rgba(0, 0, 0, 0.15);\n",
              "      filter: drop-shadow(0px 1px 2px rgba(0, 0, 0, 0.3));\n",
              "      fill: #FFFFFF;\n",
              "    }\n",
              "  </style>\n",
              "\n",
              "      <script>\n",
              "        const buttonEl =\n",
              "          document.querySelector('#df-9d585a3f-0bb0-4511-803a-f59fdeb5f15e button.colab-df-convert');\n",
              "        buttonEl.style.display =\n",
              "          google.colab.kernel.accessAllowed ? 'block' : 'none';\n",
              "\n",
              "        async function convertToInteractive(key) {\n",
              "          const element = document.querySelector('#df-9d585a3f-0bb0-4511-803a-f59fdeb5f15e');\n",
              "          const dataTable =\n",
              "            await google.colab.kernel.invokeFunction('convertToInteractive',\n",
              "                                                     [key], {});\n",
              "          if (!dataTable) return;\n",
              "\n",
              "          const docLinkHtml = 'Like what you see? Visit the ' +\n",
              "            '<a target=\"_blank\" href=https://colab.research.google.com/notebooks/data_table.ipynb>data table notebook</a>'\n",
              "            + ' to learn more about interactive tables.';\n",
              "          element.innerHTML = '';\n",
              "          dataTable['output_type'] = 'display_data';\n",
              "          await google.colab.output.renderOutput(dataTable, element);\n",
              "          const docLink = document.createElement('div');\n",
              "          docLink.innerHTML = docLinkHtml;\n",
              "          element.appendChild(docLink);\n",
              "        }\n",
              "      </script>\n",
              "    </div>\n",
              "  </div>\n",
              "  "
            ],
            "application/vnd.google.colaboratory.module+javascript": "\n      import \"https://ssl.gstatic.com/colaboratory/data_table/f872b2c2305463fd/data_table.js\";\n\n      window.createDataTable({\n        data: [[{\n            'v': 0,\n            'f': \"0\",\n        },\n{\n            'v': 387801,\n            'f': \"387801\",\n        },\n\"Pig Business\",\n{\n            'v': null,\n            'f': \"null\",\n        },\n{\n            'v': 1,\n            'f': \"1\",\n        },\n{\n            'v': 2009,\n            'f': \"2009\",\n        },\n{\n            'v': null,\n            'f': \"null\",\n        },\n\"P2125\",\n{\n            'v': null,\n            'f': \"null\",\n        },\n{\n            'v': null,\n            'f': \"null\",\n        },\n{\n            'v': null,\n            'f': \"null\",\n        },\n{\n            'v': null,\n            'f': \"null\",\n        },\n{\n            'v': 44088144,\n            'f': \"44088144\",\n        },\n\"Kennedy Jr., Robert\",\n\"Guest, Julia\"],\n [{\n            'v': 1,\n            'f': \"1\",\n        },\n{\n            'v': 527311,\n            'f': \"527311\",\n        },\n\"The Rookie\",\n{\n            'v': null,\n            'f': \"null\",\n        },\n{\n            'v': 1,\n            'f': \"1\",\n        },\n{\n            'v': 1990,\n            'f': \"1990\",\n        },\n{\n            'v': null,\n            'f': \"null\",\n        },\n\"R2\",\n{\n            'v': null,\n            'f': \"null\",\n        },\n{\n            'v': null,\n            'f': \"null\",\n        },\n{\n            'v': null,\n            'f': \"null\",\n        },\n{\n            'v': null,\n            'f': \"null\",\n        },\n{\n            'v': 44275854,\n            'f': \"44275854\",\n        },\n\"Harvey, Robert\",\n\"Julia, Raul\"],\n [{\n            'v': 2,\n            'f': \"2\",\n        },\n{\n            'v': 527311,\n            'f': \"527311\",\n        },\n\"The Rookie\",\n{\n            'v': null,\n            'f': \"null\",\n        },\n{\n            'v': 1,\n            'f': \"1\",\n        },\n{\n            'v': 1990,\n            'f': \"1990\",\n        },\n{\n            'v': null,\n            'f': \"null\",\n        },\n\"R2\",\n{\n            'v': null,\n            'f': \"null\",\n        },\n{\n            'v': null,\n            'f': \"null\",\n        },\n{\n            'v': null,\n            'f': \"null\",\n        },\n{\n            'v': null,\n            'f': \"null\",\n        },\n{\n            'v': 44275854,\n            'f': \"44275854\",\n        },\n\"Dubac, Robert\",\n\"Julia, Raul\"],\n [{\n            'v': 3,\n            'f': \"3\",\n        },\n{\n            'v': 136518,\n            'f': \"136518\",\n        },\n\"Dispatch\",\n{\n            'v': null,\n            'f': \"null\",\n        },\n{\n            'v': 1,\n            'f': \"1\",\n        },\n{\n            'v': 2009,\n            'f': \"2009\",\n        },\n{\n            'v': null,\n            'f': \"null\",\n        },\n\"D2132\",\n{\n            'v': null,\n            'f': \"null\",\n        },\n{\n            'v': null,\n            'f': \"null\",\n        },\n{\n            'v': null,\n            'f': \"null\",\n        },\n{\n            'v': null,\n            'f': \"null\",\n        },\n{\n            'v': 43911170,\n            'f': \"43911170\",\n        },\n\"Watzke, Robert\",\n\"Boyd, Julia\"],\n [{\n            'v': 4,\n            'f': \"4\",\n        },\n{\n            'v': 136518,\n            'f': \"136518\",\n        },\n\"Dispatch\",\n{\n            'v': null,\n            'f': \"null\",\n        },\n{\n            'v': 1,\n            'f': \"1\",\n        },\n{\n            'v': 2009,\n            'f': \"2009\",\n        },\n{\n            'v': null,\n            'f': \"null\",\n        },\n\"D2132\",\n{\n            'v': null,\n            'f': \"null\",\n        },\n{\n            'v': null,\n            'f': \"null\",\n        },\n{\n            'v': null,\n            'f': \"null\",\n        },\n{\n            'v': null,\n            'f': \"null\",\n        },\n{\n            'v': 43911170,\n            'f': \"43911170\",\n        },\n\"Roberts, Arthur\",\n\"Boyd, Julia\"]],\n        columns: [[\"number\", \"index\"], [\"number\", \"id\"], [\"string\", \"title\"], [\"number\", \"imdb_index\"], [\"number\", \"kind_id\"], [\"number\", \"year\"], [\"number\", \"imdb_id\"], [\"string\", \"phonetic_code\"], [\"number\", \"episode_of_id\"], [\"number\", \"season_nr\"], [\"number\", \"episode_nr\"], [\"number\", \"series_years\"], [\"number\", \"__search_id\"], [\"string\", \"name\"], [\"string\", \"name\"]],\n        columnOptions: [{\"width\": \"1px\", \"className\": \"index_column\"}],\n        rowsPerPage: 25,\n        helpUrl: \"https://colab.research.google.com/notebooks/data_table.ipynb\",\n        suppressOutputScrolling: true,\n        minimumWidth: undefined,\n      });\n    "
          },
          "metadata": {}
        },
        {
          "output_type": "stream",
          "name": "stdout",
          "text": [
            "\n"
          ]
        },
        {
          "output_type": "display_data",
          "data": {
            "text/plain": [
              "<IPython.core.display.Markdown object>"
            ],
            "text/markdown": "---"
          },
          "metadata": {}
        },
        {
          "output_type": "display_data",
          "data": {
            "text/plain": [
              "<IPython.core.display.Markdown object>"
            ],
            "text/markdown": "**5th CJN**:"
          },
          "metadata": {}
        },
        {
          "output_type": "display_data",
          "data": {
            "text/plain": [
              "<IPython.core.display.Markdown object>"
            ],
            "text/markdown": "---"
          },
          "metadata": {}
        },
        {
          "output_type": "stream",
          "name": "stdout",
          "text": [
            "Text:\n",
            "\tPERSON.v(name{roberts,julia})\n",
            "\t\t<CASTING\n",
            "\t\t\t>CHARACTER\n",
            "\t\t\t\t<CASTING\n",
            "\t\t\t\t\t>MOVIE.v(title{films})\n"
          ]
        },
        {
          "output_type": "display_data",
          "data": {
            "text/plain": [
              "<IPython.core.display.Markdown object>"
            ],
            "text/markdown": "---"
          },
          "metadata": {}
        },
        {
          "output_type": "stream",
          "name": "stdout",
          "text": [
            "Graph:\n"
          ]
        },
        {
          "output_type": "display_data",
          "data": {
            "text/plain": [
              "<graphviz.dot.Digraph at 0x7f5f576438d0>"
            ],
            "image/svg+xml": "<?xml version=\"1.0\" encoding=\"UTF-8\" standalone=\"no\"?>\n<!DOCTYPE svg PUBLIC \"-//W3C//DTD SVG 1.1//EN\"\n \"http://www.w3.org/Graphics/SVG/1.1/DTD/svg11.dtd\">\n<!-- Generated by graphviz version 2.40.1 (20161225.0304)\n -->\n<!-- Title: %3 Pages: 1 -->\n<svg width=\"387pt\" height=\"98pt\"\n viewBox=\"0.00 0.00 386.52 98.00\" xmlns=\"http://www.w3.org/2000/svg\" xmlns:xlink=\"http://www.w3.org/1999/xlink\">\n<g id=\"graph0\" class=\"graph\" transform=\"scale(1 1) rotate(0) translate(4 94)\">\n<title>%3</title>\n<polygon fill=\"#ffffff\" stroke=\"transparent\" points=\"-4,4 -4,-94 382.5226,-94 382.5226,4 -4,4\"/>\n<!-- t1 -->\n<g id=\"node1\" class=\"node\">\n<title>t1</title>\n<ellipse fill=\"none\" stroke=\"#000000\" cx=\"77.3649\" cy=\"-18\" rx=\"77.2301\" ry=\"18\"/>\n<text text-anchor=\"middle\" x=\"77.3649\" y=\"-15.8\" font-family=\"Times,serif\" font-size=\"9.00\" fill=\"#000000\">PERSON.v(name{roberts,julia})</text>\n</g>\n<!-- t2 -->\n<g id=\"node2\" class=\"node\">\n<title>t2</title>\n<ellipse fill=\"none\" stroke=\"#000000\" cx=\"156.3649\" cy=\"-72\" rx=\"32.1641\" ry=\"18\"/>\n<text text-anchor=\"middle\" x=\"156.3649\" y=\"-69.8\" font-family=\"Times,serif\" font-size=\"9.00\" fill=\"#000000\">CASTING</text>\n</g>\n<!-- t2&#45;&gt;t1 -->\n<g id=\"edge2\" class=\"edge\">\n<title>t2&#45;&gt;t1</title>\n<path fill=\"none\" stroke=\"#000000\" d=\"M135.6086,-57.8121C127.7591,-52.4467 118.624,-46.2024 109.9484,-40.2723\"/>\n<polygon fill=\"#000000\" stroke=\"#000000\" points=\"111.6942,-37.65 102.4865,-35.1717 108.139,-42.8511 111.6942,-37.65\"/>\n</g>\n<!-- t3 -->\n<g id=\"node3\" class=\"node\">\n<title>t3</title>\n<ellipse fill=\"none\" stroke=\"#000000\" cx=\"209.3649\" cy=\"-18\" rx=\"40.9837\" ry=\"18\"/>\n<text text-anchor=\"middle\" x=\"209.3649\" y=\"-15.8\" font-family=\"Times,serif\" font-size=\"9.00\" fill=\"#000000\">CHARACTER</text>\n</g>\n<!-- t2&#45;&gt;t3 -->\n<g id=\"edge1\" class=\"edge\">\n<title>t2&#45;&gt;t3</title>\n<path fill=\"none\" stroke=\"#000000\" d=\"M171.98,-56.0903C176.5144,-51.4704 181.5634,-46.3261 186.4471,-41.3503\"/>\n<polygon fill=\"#000000\" stroke=\"#000000\" points=\"188.8841,-43.3642 192.9403,-34.7346 184.3879,-38.9513 188.8841,-43.3642\"/>\n</g>\n<!-- t4 -->\n<g id=\"node4\" class=\"node\">\n<title>t4</title>\n<ellipse fill=\"none\" stroke=\"#000000\" cx=\"261.3649\" cy=\"-72\" rx=\"32.1641\" ry=\"18\"/>\n<text text-anchor=\"middle\" x=\"261.3649\" y=\"-69.8\" font-family=\"Times,serif\" font-size=\"9.00\" fill=\"#000000\">CASTING</text>\n</g>\n<!-- t4&#45;&gt;t3 -->\n<g id=\"edge3\" class=\"edge\">\n<title>t4&#45;&gt;t3</title>\n<path fill=\"none\" stroke=\"#000000\" d=\"M246.0445,-56.0903C241.5956,-51.4704 236.6419,-46.3261 231.8504,-41.3503\"/>\n<polygon fill=\"#000000\" stroke=\"#000000\" points=\"233.9915,-39.0325 225.4797,-34.7346 229.4535,-43.4025 233.9915,-39.0325\"/>\n</g>\n<!-- t5 -->\n<g id=\"node5\" class=\"node\">\n<title>t5</title>\n<ellipse fill=\"none\" stroke=\"#000000\" cx=\"321.3649\" cy=\"-18\" rx=\"57.3158\" ry=\"18\"/>\n<text text-anchor=\"middle\" x=\"321.3649\" y=\"-15.8\" font-family=\"Times,serif\" font-size=\"9.00\" fill=\"#000000\">MOVIE.v(title{films})</text>\n</g>\n<!-- t4&#45;&gt;t5 -->\n<g id=\"edge4\" class=\"edge\">\n<title>t4&#45;&gt;t5</title>\n<path fill=\"none\" stroke=\"#000000\" d=\"M278.398,-56.6702C283.7768,-51.8293 289.8442,-46.3687 295.688,-41.1092\"/>\n<polygon fill=\"#000000\" stroke=\"#000000\" points=\"297.8084,-43.4388 302.3909,-35.0767 293.5939,-38.756 297.8084,-43.4388\"/>\n</g>\n</g>\n</svg>\n"
          },
          "metadata": {}
        },
        {
          "output_type": "display_data",
          "data": {
            "text/plain": [
              "<IPython.core.display.Markdown object>"
            ],
            "text/markdown": "---"
          },
          "metadata": {}
        },
        {
          "output_type": "stream",
          "name": "stdout",
          "text": [
            "SQL:\n",
            "  \n",
            "  SELECT\n",
            "  \tt5.title,\n",
            "  \tt1.name\n",
            "  FROM\n",
            "  \t\"person\" t1\n",
            "  \tJOIN \"casting\" t2 ON t2.person_id = t1.id\n",
            "  \tJOIN \"character\" t3 ON t2.person_role_id = t3.id\n",
            "  \tJOIN \"casting\" t4 ON t4.person_role_id = t3.id\n",
            "  \tJOIN \"movie\" t5 ON t4.movie_id = t5.id\n",
            "  WHERE\n",
            "  \tt2.ctid <> t4.ctid\n",
            "  \tAND t1.name_tsvector @@ to_tsquery('roberts & julia')\n",
            "  \tAND t5.title_tsvector @@ to_tsquery('films')\n",
            "  LIMIT 1000;\n",
            "\n"
          ]
        },
        {
          "output_type": "display_data",
          "data": {
            "text/plain": [
              "<IPython.core.display.Markdown object>"
            ],
            "text/markdown": "---"
          },
          "metadata": {}
        },
        {
          "output_type": "stream",
          "name": "stdout",
          "text": [
            "JNTs:\n"
          ]
        },
        {
          "output_type": "display_data",
          "data": {
            "text/plain": [
              "                                               title            name\n",
              "0                             The Film That Was Lost  Roberts, Julia\n",
              "1              The Fantasy Film Worlds of George Pal  Roberts, Julia\n",
              "2  Going to Pieces: The Rise and Fall of the Slas...  Roberts, Julia\n",
              "3  Going to Pieces: The Rise and Fall of the Slas...  Roberts, Julia\n",
              "4              The Fantasy Film Worlds of George Pal  Roberts, Julia"
            ],
            "text/html": [
              "\n",
              "  <div id=\"df-8d8f7e58-97db-4cf3-a2da-ba2728cec06b\">\n",
              "    <div class=\"colab-df-container\">\n",
              "      <div>\n",
              "<style scoped>\n",
              "    .dataframe tbody tr th:only-of-type {\n",
              "        vertical-align: middle;\n",
              "    }\n",
              "\n",
              "    .dataframe tbody tr th {\n",
              "        vertical-align: top;\n",
              "    }\n",
              "\n",
              "    .dataframe thead th {\n",
              "        text-align: right;\n",
              "    }\n",
              "</style>\n",
              "<table border=\"1\" class=\"dataframe\">\n",
              "  <thead>\n",
              "    <tr style=\"text-align: right;\">\n",
              "      <th></th>\n",
              "      <th>title</th>\n",
              "      <th>name</th>\n",
              "    </tr>\n",
              "  </thead>\n",
              "  <tbody>\n",
              "    <tr>\n",
              "      <th>0</th>\n",
              "      <td>The Film That Was Lost</td>\n",
              "      <td>Roberts, Julia</td>\n",
              "    </tr>\n",
              "    <tr>\n",
              "      <th>1</th>\n",
              "      <td>The Fantasy Film Worlds of George Pal</td>\n",
              "      <td>Roberts, Julia</td>\n",
              "    </tr>\n",
              "    <tr>\n",
              "      <th>2</th>\n",
              "      <td>Going to Pieces: The Rise and Fall of the Slas...</td>\n",
              "      <td>Roberts, Julia</td>\n",
              "    </tr>\n",
              "    <tr>\n",
              "      <th>3</th>\n",
              "      <td>Going to Pieces: The Rise and Fall of the Slas...</td>\n",
              "      <td>Roberts, Julia</td>\n",
              "    </tr>\n",
              "    <tr>\n",
              "      <th>4</th>\n",
              "      <td>The Fantasy Film Worlds of George Pal</td>\n",
              "      <td>Roberts, Julia</td>\n",
              "    </tr>\n",
              "  </tbody>\n",
              "</table>\n",
              "</div>\n",
              "      <button class=\"colab-df-convert\" onclick=\"convertToInteractive('df-8d8f7e58-97db-4cf3-a2da-ba2728cec06b')\"\n",
              "              title=\"Convert this dataframe to an interactive table.\"\n",
              "              style=\"display:none;\">\n",
              "        \n",
              "  <svg xmlns=\"http://www.w3.org/2000/svg\" height=\"24px\"viewBox=\"0 0 24 24\"\n",
              "       width=\"24px\">\n",
              "    <path d=\"M0 0h24v24H0V0z\" fill=\"none\"/>\n",
              "    <path d=\"M18.56 5.44l.94 2.06.94-2.06 2.06-.94-2.06-.94-.94-2.06-.94 2.06-2.06.94zm-11 1L8.5 8.5l.94-2.06 2.06-.94-2.06-.94L8.5 2.5l-.94 2.06-2.06.94zm10 10l.94 2.06.94-2.06 2.06-.94-2.06-.94-.94-2.06-.94 2.06-2.06.94z\"/><path d=\"M17.41 7.96l-1.37-1.37c-.4-.4-.92-.59-1.43-.59-.52 0-1.04.2-1.43.59L10.3 9.45l-7.72 7.72c-.78.78-.78 2.05 0 2.83L4 21.41c.39.39.9.59 1.41.59.51 0 1.02-.2 1.41-.59l7.78-7.78 2.81-2.81c.8-.78.8-2.07 0-2.86zM5.41 20L4 18.59l7.72-7.72 1.47 1.35L5.41 20z\"/>\n",
              "  </svg>\n",
              "      </button>\n",
              "      \n",
              "  <style>\n",
              "    .colab-df-container {\n",
              "      display:flex;\n",
              "      flex-wrap:wrap;\n",
              "      gap: 12px;\n",
              "    }\n",
              "\n",
              "    .colab-df-convert {\n",
              "      background-color: #E8F0FE;\n",
              "      border: none;\n",
              "      border-radius: 50%;\n",
              "      cursor: pointer;\n",
              "      display: none;\n",
              "      fill: #1967D2;\n",
              "      height: 32px;\n",
              "      padding: 0 0 0 0;\n",
              "      width: 32px;\n",
              "    }\n",
              "\n",
              "    .colab-df-convert:hover {\n",
              "      background-color: #E2EBFA;\n",
              "      box-shadow: 0px 1px 2px rgba(60, 64, 67, 0.3), 0px 1px 3px 1px rgba(60, 64, 67, 0.15);\n",
              "      fill: #174EA6;\n",
              "    }\n",
              "\n",
              "    [theme=dark] .colab-df-convert {\n",
              "      background-color: #3B4455;\n",
              "      fill: #D2E3FC;\n",
              "    }\n",
              "\n",
              "    [theme=dark] .colab-df-convert:hover {\n",
              "      background-color: #434B5C;\n",
              "      box-shadow: 0px 1px 3px 1px rgba(0, 0, 0, 0.15);\n",
              "      filter: drop-shadow(0px 1px 2px rgba(0, 0, 0, 0.3));\n",
              "      fill: #FFFFFF;\n",
              "    }\n",
              "  </style>\n",
              "\n",
              "      <script>\n",
              "        const buttonEl =\n",
              "          document.querySelector('#df-8d8f7e58-97db-4cf3-a2da-ba2728cec06b button.colab-df-convert');\n",
              "        buttonEl.style.display =\n",
              "          google.colab.kernel.accessAllowed ? 'block' : 'none';\n",
              "\n",
              "        async function convertToInteractive(key) {\n",
              "          const element = document.querySelector('#df-8d8f7e58-97db-4cf3-a2da-ba2728cec06b');\n",
              "          const dataTable =\n",
              "            await google.colab.kernel.invokeFunction('convertToInteractive',\n",
              "                                                     [key], {});\n",
              "          if (!dataTable) return;\n",
              "\n",
              "          const docLinkHtml = 'Like what you see? Visit the ' +\n",
              "            '<a target=\"_blank\" href=https://colab.research.google.com/notebooks/data_table.ipynb>data table notebook</a>'\n",
              "            + ' to learn more about interactive tables.';\n",
              "          element.innerHTML = '';\n",
              "          dataTable['output_type'] = 'display_data';\n",
              "          await google.colab.output.renderOutput(dataTable, element);\n",
              "          const docLink = document.createElement('div');\n",
              "          docLink.innerHTML = docLinkHtml;\n",
              "          element.appendChild(docLink);\n",
              "        }\n",
              "      </script>\n",
              "    </div>\n",
              "  </div>\n",
              "  "
            ],
            "application/vnd.google.colaboratory.module+javascript": "\n      import \"https://ssl.gstatic.com/colaboratory/data_table/f872b2c2305463fd/data_table.js\";\n\n      window.createDataTable({\n        data: [[{\n            'v': 0,\n            'f': \"0\",\n        },\n\"The Film That Was Lost\",\n\"Roberts, Julia\"],\n [{\n            'v': 1,\n            'f': \"1\",\n        },\n\"The Fantasy Film Worlds of George Pal\",\n\"Roberts, Julia\"],\n [{\n            'v': 2,\n            'f': \"2\",\n        },\n\"Going to Pieces: The Rise and Fall of the Slasher Film\",\n\"Roberts, Julia\"],\n [{\n            'v': 3,\n            'f': \"3\",\n        },\n\"Going to Pieces: The Rise and Fall of the Slasher Film\",\n\"Roberts, Julia\"],\n [{\n            'v': 4,\n            'f': \"4\",\n        },\n\"The Fantasy Film Worlds of George Pal\",\n\"Roberts, Julia\"]],\n        columns: [[\"number\", \"index\"], [\"string\", \"title\"], [\"string\", \"name\"]],\n        columnOptions: [{\"width\": \"1px\", \"className\": \"index_column\"}],\n        rowsPerPage: 25,\n        helpUrl: \"https://colab.research.google.com/notebooks/data_table.ipynb\",\n        suppressOutputScrolling: true,\n        minimumWidth: undefined,\n      });\n    "
          },
          "metadata": {}
        },
        {
          "output_type": "stream",
          "name": "stdout",
          "text": [
            "\n"
          ]
        }
      ]
    },
    {
      "cell_type": "markdown",
      "source": [
        "### Query Matches\n",
        "\n",
        "The function `qms` returns a ranked list of the Query Matches for the keyword query. Each QM is presented as a set of Keyword Matches."
      ],
      "metadata": {
        "id": "kBHjyuQswF4H"
      }
    },
    {
      "cell_type": "code",
      "source": [
        "result.qms()"
      ],
      "metadata": {
        "colab": {
          "base_uri": "https://localhost:8080/",
          "height": 353
        },
        "id": "scMhvLTHFaPc",
        "outputId": "2e4a5edb-60d6-43ce-8ce2-1867b016a6ff"
      },
      "execution_count": 13,
      "outputs": [
        {
          "output_type": "display_data",
          "data": {
            "text/plain": [
              "<IPython.core.display.Markdown object>"
            ],
            "text/markdown": "---"
          },
          "metadata": {}
        },
        {
          "output_type": "display_data",
          "data": {
            "text/plain": [
              "<IPython.core.display.Markdown object>"
            ],
            "text/markdown": "**1st QM**:"
          },
          "metadata": {}
        },
        {
          "output_type": "display_data",
          "data": {
            "text/plain": [
              "<IPython.core.display.Markdown object>"
            ],
            "text/markdown": "---"
          },
          "metadata": {}
        },
        {
          "output_type": "stream",
          "name": "stdout",
          "text": [
            "{PERSON.v(name{roberts,julia}), MOVIE.s(*{films})}\n"
          ]
        },
        {
          "output_type": "display_data",
          "data": {
            "text/plain": [
              "<IPython.core.display.Markdown object>"
            ],
            "text/markdown": "---"
          },
          "metadata": {}
        },
        {
          "output_type": "display_data",
          "data": {
            "text/plain": [
              "<IPython.core.display.Markdown object>"
            ],
            "text/markdown": "**2nd QM**:"
          },
          "metadata": {}
        },
        {
          "output_type": "display_data",
          "data": {
            "text/plain": [
              "<IPython.core.display.Markdown object>"
            ],
            "text/markdown": "---"
          },
          "metadata": {}
        },
        {
          "output_type": "stream",
          "name": "stdout",
          "text": [
            "{MOVIE.s(*{films}).v(title{roberts,julia})}\n"
          ]
        },
        {
          "output_type": "display_data",
          "data": {
            "text/plain": [
              "<IPython.core.display.Markdown object>"
            ],
            "text/markdown": "---"
          },
          "metadata": {}
        },
        {
          "output_type": "display_data",
          "data": {
            "text/plain": [
              "<IPython.core.display.Markdown object>"
            ],
            "text/markdown": "**3rd QM**:"
          },
          "metadata": {}
        },
        {
          "output_type": "display_data",
          "data": {
            "text/plain": [
              "<IPython.core.display.Markdown object>"
            ],
            "text/markdown": "---"
          },
          "metadata": {}
        },
        {
          "output_type": "stream",
          "name": "stdout",
          "text": [
            "{MOVIEINFO.v(info{roberts,julia}), MOVIE.s(*{films})}\n"
          ]
        },
        {
          "output_type": "display_data",
          "data": {
            "text/plain": [
              "<IPython.core.display.Markdown object>"
            ],
            "text/markdown": "---"
          },
          "metadata": {}
        },
        {
          "output_type": "display_data",
          "data": {
            "text/plain": [
              "<IPython.core.display.Markdown object>"
            ],
            "text/markdown": "**4th QM**:"
          },
          "metadata": {}
        },
        {
          "output_type": "display_data",
          "data": {
            "text/plain": [
              "<IPython.core.display.Markdown object>"
            ],
            "text/markdown": "---"
          },
          "metadata": {}
        },
        {
          "output_type": "stream",
          "name": "stdout",
          "text": [
            "{PERSON.v(name{julia}), PERSON.v(name{roberts}), MOVIE.s(*{films})}\n"
          ]
        },
        {
          "output_type": "display_data",
          "data": {
            "text/plain": [
              "<IPython.core.display.Markdown object>"
            ],
            "text/markdown": "---"
          },
          "metadata": {}
        },
        {
          "output_type": "display_data",
          "data": {
            "text/plain": [
              "<IPython.core.display.Markdown object>"
            ],
            "text/markdown": "**5th QM**:"
          },
          "metadata": {}
        },
        {
          "output_type": "display_data",
          "data": {
            "text/plain": [
              "<IPython.core.display.Markdown object>"
            ],
            "text/markdown": "---"
          },
          "metadata": {}
        },
        {
          "output_type": "stream",
          "name": "stdout",
          "text": [
            "{PERSON.v(name{roberts,julia}), MOVIE.v(title{films})}\n"
          ]
        }
      ]
    },
    {
      "cell_type": "markdown",
      "source": [
        "### Keyword Matches\n",
        "\n",
        "The function `kms` returns two unordered lists, one for the Schema-Keyword Matches and one for Value-Keyword Matches."
      ],
      "metadata": {
        "id": "zcLxI1p0wkcS"
      }
    },
    {
      "cell_type": "code",
      "source": [
        "result.kms()"
      ],
      "metadata": {
        "colab": {
          "base_uri": "https://localhost:8080/",
          "height": 395
        },
        "id": "sipofwKEFdqz",
        "outputId": "80da0b01-d59b-4f8f-b4bf-c2c88dcbbc08"
      },
      "execution_count": 14,
      "outputs": [
        {
          "output_type": "display_data",
          "data": {
            "text/plain": [
              "<IPython.core.display.Markdown object>"
            ],
            "text/markdown": "---"
          },
          "metadata": {}
        },
        {
          "output_type": "display_data",
          "data": {
            "text/plain": [
              "<IPython.core.display.Markdown object>"
            ],
            "text/markdown": "**SKMs**:"
          },
          "metadata": {}
        },
        {
          "output_type": "display_data",
          "data": {
            "text/plain": [
              "<IPython.core.display.Markdown object>"
            ],
            "text/markdown": "---"
          },
          "metadata": {}
        },
        {
          "output_type": "stream",
          "name": "stdout",
          "text": [
            "MOVIE.s(*{films})\n"
          ]
        },
        {
          "output_type": "display_data",
          "data": {
            "text/plain": [
              "<IPython.core.display.Markdown object>"
            ],
            "text/markdown": "---"
          },
          "metadata": {}
        },
        {
          "output_type": "display_data",
          "data": {
            "text/plain": [
              "<IPython.core.display.Markdown object>"
            ],
            "text/markdown": "**VKMs**:"
          },
          "metadata": {}
        },
        {
          "output_type": "display_data",
          "data": {
            "text/plain": [
              "<IPython.core.display.Markdown object>"
            ],
            "text/markdown": "---"
          },
          "metadata": {}
        },
        {
          "output_type": "stream",
          "name": "stdout",
          "text": [
            "MOVIEINFO.v(info{julia})\n",
            "PERSON.v(name{julia})\n",
            "CHARACTER.v(name{julia})\n",
            "MOVIE.v(title{julia})\n",
            "MOVIEINFO.v(info{roberts})\n",
            "PERSON.v(name{roberts})\n",
            "CHARACTER.v(name{roberts})\n",
            "MOVIE.v(title{roberts})\n",
            "MOVIEINFO.v(info{films})\n",
            "CHARACTER.v(name{films})\n",
            "MOVIE.v(title{films})\n",
            "MOVIEINFO.v(info{roberts,julia})\n",
            "MOVIEINFO.v(info{films,julia})\n",
            "PERSON.v(name{roberts,julia})\n",
            "MOVIE.v(title{roberts,julia})\n"
          ]
        }
      ]
    },
    {
      "cell_type": "markdown",
      "source": [
        "\n",
        "### Example Queries\n"
      ],
      "metadata": {
        "id": "1J_9frEYlbB9"
      }
    },
    {
      "cell_type": "markdown",
      "source": [
        "#### Keywords present in more than one keyword match"
      ],
      "metadata": {
        "id": "Ozqp7FgWm6Ct"
      }
    },
    {
      "cell_type": "code",
      "source": [
        "results = lathe.keyword_search('john travolta olivia films')\n",
        "results.cjns()"
      ],
      "metadata": {
        "colab": {
          "base_uri": "https://localhost:8080/",
          "height": 1615
        },
        "id": "-vPSeS2vZ9kS",
        "outputId": "042d95d3-891b-4fd8-9a0c-e440f600bb7a"
      },
      "execution_count": 15,
      "outputs": [
        {
          "output_type": "stream",
          "name": "stdout",
          "text": [
            "Keyword Query: john travolta olivia films\n"
          ]
        },
        {
          "output_type": "display_data",
          "data": {
            "text/plain": [
              "<IPython.core.display.Markdown object>"
            ],
            "text/markdown": "---"
          },
          "metadata": {}
        },
        {
          "output_type": "display_data",
          "data": {
            "text/plain": [
              "<IPython.core.display.Markdown object>"
            ],
            "text/markdown": "**1st CJN**:"
          },
          "metadata": {}
        },
        {
          "output_type": "display_data",
          "data": {
            "text/plain": [
              "<IPython.core.display.Markdown object>"
            ],
            "text/markdown": "---"
          },
          "metadata": {}
        },
        {
          "output_type": "stream",
          "name": "stdout",
          "text": [
            "Text:\n",
            "\tPERSON.v(name{travolta,john})\n",
            "\t\t<CASTING\n",
            "\t\t\t>MOVIE.s(*{films})\n",
            "\t\t\t\t<CASTING\n",
            "\t\t\t\t\t>PERSON.v(name{john,olivia})\n"
          ]
        },
        {
          "output_type": "display_data",
          "data": {
            "text/plain": [
              "<IPython.core.display.Markdown object>"
            ],
            "text/markdown": "---"
          },
          "metadata": {}
        },
        {
          "output_type": "stream",
          "name": "stdout",
          "text": [
            "Graph:\n"
          ]
        },
        {
          "output_type": "display_data",
          "data": {
            "text/plain": [
              "<graphviz.dot.Digraph at 0x7f5f90718bd0>"
            ],
            "image/svg+xml": "<?xml version=\"1.0\" encoding=\"UTF-8\" standalone=\"no\"?>\n<!DOCTYPE svg PUBLIC \"-//W3C//DTD SVG 1.1//EN\"\n \"http://www.w3.org/Graphics/SVG/1.1/DTD/svg11.dtd\">\n<!-- Generated by graphviz version 2.40.1 (20161225.0304)\n -->\n<!-- Title: %3 Pages: 1 -->\n<svg width=\"448pt\" height=\"98pt\"\n viewBox=\"0.00 0.00 448.15 98.00\" xmlns=\"http://www.w3.org/2000/svg\" xmlns:xlink=\"http://www.w3.org/1999/xlink\">\n<g id=\"graph0\" class=\"graph\" transform=\"scale(1 1) rotate(0) translate(4 94)\">\n<title>%3</title>\n<polygon fill=\"#ffffff\" stroke=\"transparent\" points=\"-4,4 -4,-94 444.1525,-94 444.1525,4 -4,4\"/>\n<!-- t1 -->\n<g id=\"node1\" class=\"node\">\n<title>t1</title>\n<ellipse fill=\"none\" stroke=\"#000000\" cx=\"79.097\" cy=\"-18\" rx=\"79.1941\" ry=\"18\"/>\n<text text-anchor=\"middle\" x=\"79.097\" y=\"-15.8\" font-family=\"Times,serif\" font-size=\"9.00\" fill=\"#000000\">PERSON.v(name{travolta,john})</text>\n</g>\n<!-- t2 -->\n<g id=\"node2\" class=\"node\">\n<title>t2</title>\n<ellipse fill=\"none\" stroke=\"#000000\" cx=\"168.097\" cy=\"-72\" rx=\"32.1641\" ry=\"18\"/>\n<text text-anchor=\"middle\" x=\"168.097\" y=\"-69.8\" font-family=\"Times,serif\" font-size=\"9.00\" fill=\"#000000\">CASTING</text>\n</g>\n<!-- t2&#45;&gt;t1 -->\n<g id=\"edge1\" class=\"edge\">\n<title>t2&#45;&gt;t1</title>\n<path fill=\"none\" stroke=\"#000000\" d=\"M146.097,-58.6517C136.6625,-52.9274 125.3969,-46.0921 114.8202,-39.6748\"/>\n<polygon fill=\"#000000\" stroke=\"#000000\" points=\"116.2367,-36.8497 106.9082,-34.8742 112.9686,-42.2359 116.2367,-36.8497\"/>\n</g>\n<!-- t3 -->\n<g id=\"node3\" class=\"node\">\n<title>t3</title>\n<ellipse fill=\"none\" stroke=\"#000000\" cx=\"224.097\" cy=\"-18\" rx=\"51.9231\" ry=\"18\"/>\n<text text-anchor=\"middle\" x=\"224.097\" y=\"-15.8\" font-family=\"Times,serif\" font-size=\"9.00\" fill=\"#000000\">MOVIE.s(*{films})</text>\n</g>\n<!-- t2&#45;&gt;t3 -->\n<g id=\"edge2\" class=\"edge\">\n<title>t2&#45;&gt;t3</title>\n<path fill=\"none\" stroke=\"#000000\" d=\"M184.2945,-56.381C189.0026,-51.841 194.2556,-46.7756 199.3618,-41.8517\"/>\n<polygon fill=\"#000000\" stroke=\"#000000\" points=\"201.8768,-43.8026 206.1689,-35.2878 197.5037,-39.2676 201.8768,-43.8026\"/>\n</g>\n<!-- t4 -->\n<g id=\"node4\" class=\"node\">\n<title>t4</title>\n<ellipse fill=\"none\" stroke=\"#000000\" cx=\"280.097\" cy=\"-72\" rx=\"32.1641\" ry=\"18\"/>\n<text text-anchor=\"middle\" x=\"280.097\" y=\"-69.8\" font-family=\"Times,serif\" font-size=\"9.00\" fill=\"#000000\">CASTING</text>\n</g>\n<!-- t4&#45;&gt;t3 -->\n<g id=\"edge4\" class=\"edge\">\n<title>t4&#45;&gt;t3</title>\n<path fill=\"none\" stroke=\"#000000\" d=\"M263.8995,-56.381C259.1914,-51.841 253.9383,-46.7756 248.8321,-41.8517\"/>\n<polygon fill=\"#000000\" stroke=\"#000000\" points=\"250.6903,-39.2676 242.0251,-35.2878 246.3172,-43.8026 250.6903,-39.2676\"/>\n</g>\n<!-- t5 -->\n<g id=\"node5\" class=\"node\">\n<title>t5</title>\n<ellipse fill=\"none\" stroke=\"#000000\" cx=\"365.097\" cy=\"-18\" rx=\"75.1111\" ry=\"18\"/>\n<text text-anchor=\"middle\" x=\"365.097\" y=\"-15.8\" font-family=\"Times,serif\" font-size=\"9.00\" fill=\"#000000\">PERSON.v(name{john,olivia})</text>\n</g>\n<!-- t4&#45;&gt;t5 -->\n<g id=\"edge3\" class=\"edge\">\n<title>t4&#45;&gt;t5</title>\n<path fill=\"none\" stroke=\"#000000\" d=\"M301.5461,-58.3735C310.394,-52.7525 320.8704,-46.0969 330.7385,-39.8277\"/>\n<polygon fill=\"#000000\" stroke=\"#000000\" points=\"332.5718,-42.395 338.4793,-34.91 329.1935,-37.0773 332.5718,-42.395\"/>\n</g>\n</g>\n</svg>\n"
          },
          "metadata": {}
        },
        {
          "output_type": "display_data",
          "data": {
            "text/plain": [
              "<IPython.core.display.Markdown object>"
            ],
            "text/markdown": "---"
          },
          "metadata": {}
        },
        {
          "output_type": "stream",
          "name": "stdout",
          "text": [
            "SQL:\n",
            "  \n",
            "  SELECT\n",
            "  \tt3.*,\n",
            "  \tt5.name,\n",
            "  \tt1.name\n",
            "  FROM\n",
            "  \t\"person\" t1\n",
            "  \tJOIN \"casting\" t2 ON t2.person_id = t1.id\n",
            "  \tJOIN \"movie\" t3 ON t2.movie_id = t3.id\n",
            "  \tJOIN \"casting\" t4 ON t4.movie_id = t3.id\n",
            "  \tJOIN \"person\" t5 ON t4.person_id = t5.id\n",
            "  WHERE\n",
            "  \tt1.ctid <> t5.ctid\n",
            "  \tAND t2.ctid <> t4.ctid\n",
            "  \tAND t1.name_tsvector @@ to_tsquery('travolta & john')\n",
            "  \tAND t5.name_tsvector @@ to_tsquery('john & olivia')\n",
            "  LIMIT 1000;\n",
            "\n"
          ]
        },
        {
          "output_type": "display_data",
          "data": {
            "text/plain": [
              "<IPython.core.display.Markdown object>"
            ],
            "text/markdown": "---"
          },
          "metadata": {}
        },
        {
          "output_type": "stream",
          "name": "stdout",
          "text": [
            "JNTs:\n"
          ]
        },
        {
          "output_type": "display_data",
          "data": {
            "text/plain": [
              "       id          title imdb_index  kind_id  year imdb_id phonetic_code  \\\n",
              "0  199214         Grease       None        1  1978    None           G62   \n",
              "1  559385  Two of a Kind       None        1  1983    None         T1253   \n",
              "2  504851       The Guru       None        1  2002    None            G6   \n",
              "\n",
              "  episode_of_id season_nr episode_nr series_years  __search_id  \\\n",
              "0          None      None       None         None     43908386   \n",
              "1          None      None       None         None     44303665   \n",
              "2          None      None       None         None     44255543   \n",
              "\n",
              "                  name            name  \n",
              "0  Newton-John, Olivia  Travolta, John  \n",
              "1  Newton-John, Olivia  Travolta, John  \n",
              "2  Newton-John, Olivia  Travolta, John  "
            ],
            "text/html": [
              "\n",
              "  <div id=\"df-4c8ba511-17c5-4a2f-b713-50874b71850f\">\n",
              "    <div class=\"colab-df-container\">\n",
              "      <div>\n",
              "<style scoped>\n",
              "    .dataframe tbody tr th:only-of-type {\n",
              "        vertical-align: middle;\n",
              "    }\n",
              "\n",
              "    .dataframe tbody tr th {\n",
              "        vertical-align: top;\n",
              "    }\n",
              "\n",
              "    .dataframe thead th {\n",
              "        text-align: right;\n",
              "    }\n",
              "</style>\n",
              "<table border=\"1\" class=\"dataframe\">\n",
              "  <thead>\n",
              "    <tr style=\"text-align: right;\">\n",
              "      <th></th>\n",
              "      <th>id</th>\n",
              "      <th>title</th>\n",
              "      <th>imdb_index</th>\n",
              "      <th>kind_id</th>\n",
              "      <th>year</th>\n",
              "      <th>imdb_id</th>\n",
              "      <th>phonetic_code</th>\n",
              "      <th>episode_of_id</th>\n",
              "      <th>season_nr</th>\n",
              "      <th>episode_nr</th>\n",
              "      <th>series_years</th>\n",
              "      <th>__search_id</th>\n",
              "      <th>name</th>\n",
              "      <th>name</th>\n",
              "    </tr>\n",
              "  </thead>\n",
              "  <tbody>\n",
              "    <tr>\n",
              "      <th>0</th>\n",
              "      <td>199214</td>\n",
              "      <td>Grease</td>\n",
              "      <td>None</td>\n",
              "      <td>1</td>\n",
              "      <td>1978</td>\n",
              "      <td>None</td>\n",
              "      <td>G62</td>\n",
              "      <td>None</td>\n",
              "      <td>None</td>\n",
              "      <td>None</td>\n",
              "      <td>None</td>\n",
              "      <td>43908386</td>\n",
              "      <td>Newton-John, Olivia</td>\n",
              "      <td>Travolta, John</td>\n",
              "    </tr>\n",
              "    <tr>\n",
              "      <th>1</th>\n",
              "      <td>559385</td>\n",
              "      <td>Two of a Kind</td>\n",
              "      <td>None</td>\n",
              "      <td>1</td>\n",
              "      <td>1983</td>\n",
              "      <td>None</td>\n",
              "      <td>T1253</td>\n",
              "      <td>None</td>\n",
              "      <td>None</td>\n",
              "      <td>None</td>\n",
              "      <td>None</td>\n",
              "      <td>44303665</td>\n",
              "      <td>Newton-John, Olivia</td>\n",
              "      <td>Travolta, John</td>\n",
              "    </tr>\n",
              "    <tr>\n",
              "      <th>2</th>\n",
              "      <td>504851</td>\n",
              "      <td>The Guru</td>\n",
              "      <td>None</td>\n",
              "      <td>1</td>\n",
              "      <td>2002</td>\n",
              "      <td>None</td>\n",
              "      <td>G6</td>\n",
              "      <td>None</td>\n",
              "      <td>None</td>\n",
              "      <td>None</td>\n",
              "      <td>None</td>\n",
              "      <td>44255543</td>\n",
              "      <td>Newton-John, Olivia</td>\n",
              "      <td>Travolta, John</td>\n",
              "    </tr>\n",
              "  </tbody>\n",
              "</table>\n",
              "</div>\n",
              "      <button class=\"colab-df-convert\" onclick=\"convertToInteractive('df-4c8ba511-17c5-4a2f-b713-50874b71850f')\"\n",
              "              title=\"Convert this dataframe to an interactive table.\"\n",
              "              style=\"display:none;\">\n",
              "        \n",
              "  <svg xmlns=\"http://www.w3.org/2000/svg\" height=\"24px\"viewBox=\"0 0 24 24\"\n",
              "       width=\"24px\">\n",
              "    <path d=\"M0 0h24v24H0V0z\" fill=\"none\"/>\n",
              "    <path d=\"M18.56 5.44l.94 2.06.94-2.06 2.06-.94-2.06-.94-.94-2.06-.94 2.06-2.06.94zm-11 1L8.5 8.5l.94-2.06 2.06-.94-2.06-.94L8.5 2.5l-.94 2.06-2.06.94zm10 10l.94 2.06.94-2.06 2.06-.94-2.06-.94-.94-2.06-.94 2.06-2.06.94z\"/><path d=\"M17.41 7.96l-1.37-1.37c-.4-.4-.92-.59-1.43-.59-.52 0-1.04.2-1.43.59L10.3 9.45l-7.72 7.72c-.78.78-.78 2.05 0 2.83L4 21.41c.39.39.9.59 1.41.59.51 0 1.02-.2 1.41-.59l7.78-7.78 2.81-2.81c.8-.78.8-2.07 0-2.86zM5.41 20L4 18.59l7.72-7.72 1.47 1.35L5.41 20z\"/>\n",
              "  </svg>\n",
              "      </button>\n",
              "      \n",
              "  <style>\n",
              "    .colab-df-container {\n",
              "      display:flex;\n",
              "      flex-wrap:wrap;\n",
              "      gap: 12px;\n",
              "    }\n",
              "\n",
              "    .colab-df-convert {\n",
              "      background-color: #E8F0FE;\n",
              "      border: none;\n",
              "      border-radius: 50%;\n",
              "      cursor: pointer;\n",
              "      display: none;\n",
              "      fill: #1967D2;\n",
              "      height: 32px;\n",
              "      padding: 0 0 0 0;\n",
              "      width: 32px;\n",
              "    }\n",
              "\n",
              "    .colab-df-convert:hover {\n",
              "      background-color: #E2EBFA;\n",
              "      box-shadow: 0px 1px 2px rgba(60, 64, 67, 0.3), 0px 1px 3px 1px rgba(60, 64, 67, 0.15);\n",
              "      fill: #174EA6;\n",
              "    }\n",
              "\n",
              "    [theme=dark] .colab-df-convert {\n",
              "      background-color: #3B4455;\n",
              "      fill: #D2E3FC;\n",
              "    }\n",
              "\n",
              "    [theme=dark] .colab-df-convert:hover {\n",
              "      background-color: #434B5C;\n",
              "      box-shadow: 0px 1px 3px 1px rgba(0, 0, 0, 0.15);\n",
              "      filter: drop-shadow(0px 1px 2px rgba(0, 0, 0, 0.3));\n",
              "      fill: #FFFFFF;\n",
              "    }\n",
              "  </style>\n",
              "\n",
              "      <script>\n",
              "        const buttonEl =\n",
              "          document.querySelector('#df-4c8ba511-17c5-4a2f-b713-50874b71850f button.colab-df-convert');\n",
              "        buttonEl.style.display =\n",
              "          google.colab.kernel.accessAllowed ? 'block' : 'none';\n",
              "\n",
              "        async function convertToInteractive(key) {\n",
              "          const element = document.querySelector('#df-4c8ba511-17c5-4a2f-b713-50874b71850f');\n",
              "          const dataTable =\n",
              "            await google.colab.kernel.invokeFunction('convertToInteractive',\n",
              "                                                     [key], {});\n",
              "          if (!dataTable) return;\n",
              "\n",
              "          const docLinkHtml = 'Like what you see? Visit the ' +\n",
              "            '<a target=\"_blank\" href=https://colab.research.google.com/notebooks/data_table.ipynb>data table notebook</a>'\n",
              "            + ' to learn more about interactive tables.';\n",
              "          element.innerHTML = '';\n",
              "          dataTable['output_type'] = 'display_data';\n",
              "          await google.colab.output.renderOutput(dataTable, element);\n",
              "          const docLink = document.createElement('div');\n",
              "          docLink.innerHTML = docLinkHtml;\n",
              "          element.appendChild(docLink);\n",
              "        }\n",
              "      </script>\n",
              "    </div>\n",
              "  </div>\n",
              "  "
            ],
            "application/vnd.google.colaboratory.module+javascript": "\n      import \"https://ssl.gstatic.com/colaboratory/data_table/f872b2c2305463fd/data_table.js\";\n\n      window.createDataTable({\n        data: [[{\n            'v': 0,\n            'f': \"0\",\n        },\n{\n            'v': 199214,\n            'f': \"199214\",\n        },\n\"Grease\",\n{\n            'v': null,\n            'f': \"null\",\n        },\n{\n            'v': 1,\n            'f': \"1\",\n        },\n{\n            'v': 1978,\n            'f': \"1978\",\n        },\n{\n            'v': null,\n            'f': \"null\",\n        },\n\"G62\",\n{\n            'v': null,\n            'f': \"null\",\n        },\n{\n            'v': null,\n            'f': \"null\",\n        },\n{\n            'v': null,\n            'f': \"null\",\n        },\n{\n            'v': null,\n            'f': \"null\",\n        },\n{\n            'v': 43908386,\n            'f': \"43908386\",\n        },\n\"Newton-John, Olivia\",\n\"Travolta, John\"],\n [{\n            'v': 1,\n            'f': \"1\",\n        },\n{\n            'v': 559385,\n            'f': \"559385\",\n        },\n\"Two of a Kind\",\n{\n            'v': null,\n            'f': \"null\",\n        },\n{\n            'v': 1,\n            'f': \"1\",\n        },\n{\n            'v': 1983,\n            'f': \"1983\",\n        },\n{\n            'v': null,\n            'f': \"null\",\n        },\n\"T1253\",\n{\n            'v': null,\n            'f': \"null\",\n        },\n{\n            'v': null,\n            'f': \"null\",\n        },\n{\n            'v': null,\n            'f': \"null\",\n        },\n{\n            'v': null,\n            'f': \"null\",\n        },\n{\n            'v': 44303665,\n            'f': \"44303665\",\n        },\n\"Newton-John, Olivia\",\n\"Travolta, John\"],\n [{\n            'v': 2,\n            'f': \"2\",\n        },\n{\n            'v': 504851,\n            'f': \"504851\",\n        },\n\"The Guru\",\n{\n            'v': null,\n            'f': \"null\",\n        },\n{\n            'v': 1,\n            'f': \"1\",\n        },\n{\n            'v': 2002,\n            'f': \"2002\",\n        },\n{\n            'v': null,\n            'f': \"null\",\n        },\n\"G6\",\n{\n            'v': null,\n            'f': \"null\",\n        },\n{\n            'v': null,\n            'f': \"null\",\n        },\n{\n            'v': null,\n            'f': \"null\",\n        },\n{\n            'v': null,\n            'f': \"null\",\n        },\n{\n            'v': 44255543,\n            'f': \"44255543\",\n        },\n\"Newton-John, Olivia\",\n\"Travolta, John\"]],\n        columns: [[\"number\", \"index\"], [\"number\", \"id\"], [\"string\", \"title\"], [\"number\", \"imdb_index\"], [\"number\", \"kind_id\"], [\"number\", \"year\"], [\"number\", \"imdb_id\"], [\"string\", \"phonetic_code\"], [\"number\", \"episode_of_id\"], [\"number\", \"season_nr\"], [\"number\", \"episode_nr\"], [\"number\", \"series_years\"], [\"number\", \"__search_id\"], [\"string\", \"name\"], [\"string\", \"name\"]],\n        columnOptions: [{\"width\": \"1px\", \"className\": \"index_column\"}],\n        rowsPerPage: 25,\n        helpUrl: \"https://colab.research.google.com/notebooks/data_table.ipynb\",\n        suppressOutputScrolling: true,\n        minimumWidth: undefined,\n      });\n    "
          },
          "metadata": {}
        },
        {
          "output_type": "stream",
          "name": "stdout",
          "text": [
            "\n"
          ]
        },
        {
          "output_type": "display_data",
          "data": {
            "text/plain": [
              "<IPython.core.display.Markdown object>"
            ],
            "text/markdown": "---"
          },
          "metadata": {}
        },
        {
          "output_type": "display_data",
          "data": {
            "text/plain": [
              "<IPython.core.display.Markdown object>"
            ],
            "text/markdown": "**2nd CJN**:"
          },
          "metadata": {}
        },
        {
          "output_type": "display_data",
          "data": {
            "text/plain": [
              "<IPython.core.display.Markdown object>"
            ],
            "text/markdown": "---"
          },
          "metadata": {}
        },
        {
          "output_type": "stream",
          "name": "stdout",
          "text": [
            "Text:\n",
            "\tMOVIEINFO.v(info{travolta,john,olivia})\n",
            "\t\t>MOVIE.s(*{films})\n"
          ]
        },
        {
          "output_type": "display_data",
          "data": {
            "text/plain": [
              "<IPython.core.display.Markdown object>"
            ],
            "text/markdown": "---"
          },
          "metadata": {}
        },
        {
          "output_type": "stream",
          "name": "stdout",
          "text": [
            "Graph:\n"
          ]
        },
        {
          "output_type": "display_data",
          "data": {
            "text/plain": [
              "<graphviz.dot.Digraph at 0x7f5f57307090>"
            ],
            "image/svg+xml": "<?xml version=\"1.0\" encoding=\"UTF-8\" standalone=\"no\"?>\n<!DOCTYPE svg PUBLIC \"-//W3C//DTD SVG 1.1//EN\"\n \"http://www.w3.org/Graphics/SVG/1.1/DTD/svg11.dtd\">\n<!-- Generated by graphviz version 2.40.1 (20161225.0304)\n -->\n<!-- Title: %3 Pages: 1 -->\n<svg width=\"204pt\" height=\"98pt\"\n viewBox=\"0.00 0.00 204.30 98.00\" xmlns=\"http://www.w3.org/2000/svg\" xmlns:xlink=\"http://www.w3.org/1999/xlink\">\n<g id=\"graph0\" class=\"graph\" transform=\"scale(1 1) rotate(0) translate(4 94)\">\n<title>%3</title>\n<polygon fill=\"#ffffff\" stroke=\"transparent\" points=\"-4,4 -4,-94 200.2991,-94 200.2991,4 -4,4\"/>\n<!-- t1 -->\n<g id=\"node1\" class=\"node\">\n<title>t1</title>\n<ellipse fill=\"none\" stroke=\"#000000\" cx=\"98.1495\" cy=\"-72\" rx=\"98.2993\" ry=\"18\"/>\n<text text-anchor=\"middle\" x=\"98.1495\" y=\"-69.8\" font-family=\"Times,serif\" font-size=\"9.00\" fill=\"#000000\">MOVIEINFO.v(info{travolta,john,olivia})</text>\n</g>\n<!-- t2 -->\n<g id=\"node2\" class=\"node\">\n<title>t2</title>\n<ellipse fill=\"none\" stroke=\"#000000\" cx=\"98.1495\" cy=\"-18\" rx=\"51.9231\" ry=\"18\"/>\n<text text-anchor=\"middle\" x=\"98.1495\" y=\"-15.8\" font-family=\"Times,serif\" font-size=\"9.00\" fill=\"#000000\">MOVIE.s(*{films})</text>\n</g>\n<!-- t1&#45;&gt;t2 -->\n<g id=\"edge1\" class=\"edge\">\n<title>t1&#45;&gt;t2</title>\n<path fill=\"none\" stroke=\"#000000\" d=\"M98.1495,-53.7181C98.1495,-50.9911 98.1495,-48.1312 98.1495,-45.2673\"/>\n<polygon fill=\"#000000\" stroke=\"#000000\" points=\"101.2996,-45.2631 98.1495,-36.2631 94.9996,-45.2631 101.2996,-45.2631\"/>\n</g>\n</g>\n</svg>\n"
          },
          "metadata": {}
        },
        {
          "output_type": "display_data",
          "data": {
            "text/plain": [
              "<IPython.core.display.Markdown object>"
            ],
            "text/markdown": "---"
          },
          "metadata": {}
        },
        {
          "output_type": "stream",
          "name": "stdout",
          "text": [
            "SQL:\n",
            "  \n",
            "  SELECT\n",
            "  \tt2.*,\n",
            "  \tt1.info\n",
            "  FROM\n",
            "  \t\"movieinfo\" t1\n",
            "  \tJOIN \"movie\" t2 ON t1.movie_id = t2.id\n",
            "  WHERE\n",
            "  \tt1.info_tsvector @@ to_tsquery('travolta & john & olivia')\n",
            "  LIMIT 1000;\n",
            "\n"
          ]
        },
        {
          "output_type": "display_data",
          "data": {
            "text/plain": [
              "<IPython.core.display.Markdown object>"
            ],
            "text/markdown": "---"
          },
          "metadata": {}
        },
        {
          "output_type": "stream",
          "name": "stdout",
          "text": [
            "JNTs:\n"
          ]
        },
        {
          "output_type": "display_data",
          "data": {
            "text/plain": [
              "       id                   title imdb_index  kind_id  year imdb_id  \\\n",
              "0  510494  The Last Days of Disco       None        1  1998    None   \n",
              "\n",
              "  phonetic_code episode_of_id season_nr episode_nr series_years  __search_id  \\\n",
              "0         L2321          None      None       None         None     44283571   \n",
              "\n",
              "                                                info  \n",
              "0  Josh Neff: Disco will never be over. It will a...  "
            ],
            "text/html": [
              "\n",
              "  <div id=\"df-85595312-bc5d-47f0-b18c-0508c40ef10f\">\n",
              "    <div class=\"colab-df-container\">\n",
              "      <div>\n",
              "<style scoped>\n",
              "    .dataframe tbody tr th:only-of-type {\n",
              "        vertical-align: middle;\n",
              "    }\n",
              "\n",
              "    .dataframe tbody tr th {\n",
              "        vertical-align: top;\n",
              "    }\n",
              "\n",
              "    .dataframe thead th {\n",
              "        text-align: right;\n",
              "    }\n",
              "</style>\n",
              "<table border=\"1\" class=\"dataframe\">\n",
              "  <thead>\n",
              "    <tr style=\"text-align: right;\">\n",
              "      <th></th>\n",
              "      <th>id</th>\n",
              "      <th>title</th>\n",
              "      <th>imdb_index</th>\n",
              "      <th>kind_id</th>\n",
              "      <th>year</th>\n",
              "      <th>imdb_id</th>\n",
              "      <th>phonetic_code</th>\n",
              "      <th>episode_of_id</th>\n",
              "      <th>season_nr</th>\n",
              "      <th>episode_nr</th>\n",
              "      <th>series_years</th>\n",
              "      <th>__search_id</th>\n",
              "      <th>info</th>\n",
              "    </tr>\n",
              "  </thead>\n",
              "  <tbody>\n",
              "    <tr>\n",
              "      <th>0</th>\n",
              "      <td>510494</td>\n",
              "      <td>The Last Days of Disco</td>\n",
              "      <td>None</td>\n",
              "      <td>1</td>\n",
              "      <td>1998</td>\n",
              "      <td>None</td>\n",
              "      <td>L2321</td>\n",
              "      <td>None</td>\n",
              "      <td>None</td>\n",
              "      <td>None</td>\n",
              "      <td>None</td>\n",
              "      <td>44283571</td>\n",
              "      <td>Josh Neff: Disco will never be over. It will a...</td>\n",
              "    </tr>\n",
              "  </tbody>\n",
              "</table>\n",
              "</div>\n",
              "      <button class=\"colab-df-convert\" onclick=\"convertToInteractive('df-85595312-bc5d-47f0-b18c-0508c40ef10f')\"\n",
              "              title=\"Convert this dataframe to an interactive table.\"\n",
              "              style=\"display:none;\">\n",
              "        \n",
              "  <svg xmlns=\"http://www.w3.org/2000/svg\" height=\"24px\"viewBox=\"0 0 24 24\"\n",
              "       width=\"24px\">\n",
              "    <path d=\"M0 0h24v24H0V0z\" fill=\"none\"/>\n",
              "    <path d=\"M18.56 5.44l.94 2.06.94-2.06 2.06-.94-2.06-.94-.94-2.06-.94 2.06-2.06.94zm-11 1L8.5 8.5l.94-2.06 2.06-.94-2.06-.94L8.5 2.5l-.94 2.06-2.06.94zm10 10l.94 2.06.94-2.06 2.06-.94-2.06-.94-.94-2.06-.94 2.06-2.06.94z\"/><path d=\"M17.41 7.96l-1.37-1.37c-.4-.4-.92-.59-1.43-.59-.52 0-1.04.2-1.43.59L10.3 9.45l-7.72 7.72c-.78.78-.78 2.05 0 2.83L4 21.41c.39.39.9.59 1.41.59.51 0 1.02-.2 1.41-.59l7.78-7.78 2.81-2.81c.8-.78.8-2.07 0-2.86zM5.41 20L4 18.59l7.72-7.72 1.47 1.35L5.41 20z\"/>\n",
              "  </svg>\n",
              "      </button>\n",
              "      \n",
              "  <style>\n",
              "    .colab-df-container {\n",
              "      display:flex;\n",
              "      flex-wrap:wrap;\n",
              "      gap: 12px;\n",
              "    }\n",
              "\n",
              "    .colab-df-convert {\n",
              "      background-color: #E8F0FE;\n",
              "      border: none;\n",
              "      border-radius: 50%;\n",
              "      cursor: pointer;\n",
              "      display: none;\n",
              "      fill: #1967D2;\n",
              "      height: 32px;\n",
              "      padding: 0 0 0 0;\n",
              "      width: 32px;\n",
              "    }\n",
              "\n",
              "    .colab-df-convert:hover {\n",
              "      background-color: #E2EBFA;\n",
              "      box-shadow: 0px 1px 2px rgba(60, 64, 67, 0.3), 0px 1px 3px 1px rgba(60, 64, 67, 0.15);\n",
              "      fill: #174EA6;\n",
              "    }\n",
              "\n",
              "    [theme=dark] .colab-df-convert {\n",
              "      background-color: #3B4455;\n",
              "      fill: #D2E3FC;\n",
              "    }\n",
              "\n",
              "    [theme=dark] .colab-df-convert:hover {\n",
              "      background-color: #434B5C;\n",
              "      box-shadow: 0px 1px 3px 1px rgba(0, 0, 0, 0.15);\n",
              "      filter: drop-shadow(0px 1px 2px rgba(0, 0, 0, 0.3));\n",
              "      fill: #FFFFFF;\n",
              "    }\n",
              "  </style>\n",
              "\n",
              "      <script>\n",
              "        const buttonEl =\n",
              "          document.querySelector('#df-85595312-bc5d-47f0-b18c-0508c40ef10f button.colab-df-convert');\n",
              "        buttonEl.style.display =\n",
              "          google.colab.kernel.accessAllowed ? 'block' : 'none';\n",
              "\n",
              "        async function convertToInteractive(key) {\n",
              "          const element = document.querySelector('#df-85595312-bc5d-47f0-b18c-0508c40ef10f');\n",
              "          const dataTable =\n",
              "            await google.colab.kernel.invokeFunction('convertToInteractive',\n",
              "                                                     [key], {});\n",
              "          if (!dataTable) return;\n",
              "\n",
              "          const docLinkHtml = 'Like what you see? Visit the ' +\n",
              "            '<a target=\"_blank\" href=https://colab.research.google.com/notebooks/data_table.ipynb>data table notebook</a>'\n",
              "            + ' to learn more about interactive tables.';\n",
              "          element.innerHTML = '';\n",
              "          dataTable['output_type'] = 'display_data';\n",
              "          await google.colab.output.renderOutput(dataTable, element);\n",
              "          const docLink = document.createElement('div');\n",
              "          docLink.innerHTML = docLinkHtml;\n",
              "          element.appendChild(docLink);\n",
              "        }\n",
              "      </script>\n",
              "    </div>\n",
              "  </div>\n",
              "  "
            ],
            "application/vnd.google.colaboratory.module+javascript": "\n      import \"https://ssl.gstatic.com/colaboratory/data_table/f872b2c2305463fd/data_table.js\";\n\n      window.createDataTable({\n        data: [[{\n            'v': 0,\n            'f': \"0\",\n        },\n{\n            'v': 510494,\n            'f': \"510494\",\n        },\n\"The Last Days of Disco\",\n{\n            'v': null,\n            'f': \"null\",\n        },\n{\n            'v': 1,\n            'f': \"1\",\n        },\n{\n            'v': 1998,\n            'f': \"1998\",\n        },\n{\n            'v': null,\n            'f': \"null\",\n        },\n\"L2321\",\n{\n            'v': null,\n            'f': \"null\",\n        },\n{\n            'v': null,\n            'f': \"null\",\n        },\n{\n            'v': null,\n            'f': \"null\",\n        },\n{\n            'v': null,\n            'f': \"null\",\n        },\n{\n            'v': 44283571,\n            'f': \"44283571\",\n        },\n\"Josh Neff: Disco will never be over. It will always live in our minds and hearts. Something like this, that was this big, and this important, and this great, will never die. Oh, for a few years - maybe many years - it'll be considered pass\\u00e9 and ridiculous. It will be misrepresented and caricatured and sneered at, or - worse - completely ignored. People will laugh about John Travolta, Olivia Newton-John, white polyester suits and platform shoes and people going like *this* [strikes disco pose] , but we had nothing to do with those things and still loved disco. Those who didn't understand will never understand: disco was much more, and much better, than all that. Disco was too great, and too much fun, to be gone forever! It's got to come back someday. I just hope it will be in our own lifetimes.::[Des, Charlotte, Dan, and Van stare at Josh like he's crazy]::Josh Neff: ...Sorry, I've got a job interview this afternoon and I was just trying to get revved up, but... most of what I said, I, um... believe.\"]],\n        columns: [[\"number\", \"index\"], [\"number\", \"id\"], [\"string\", \"title\"], [\"number\", \"imdb_index\"], [\"number\", \"kind_id\"], [\"number\", \"year\"], [\"number\", \"imdb_id\"], [\"string\", \"phonetic_code\"], [\"number\", \"episode_of_id\"], [\"number\", \"season_nr\"], [\"number\", \"episode_nr\"], [\"number\", \"series_years\"], [\"number\", \"__search_id\"], [\"string\", \"info\"]],\n        columnOptions: [{\"width\": \"1px\", \"className\": \"index_column\"}],\n        rowsPerPage: 25,\n        helpUrl: \"https://colab.research.google.com/notebooks/data_table.ipynb\",\n        suppressOutputScrolling: true,\n        minimumWidth: undefined,\n      });\n    "
          },
          "metadata": {}
        },
        {
          "output_type": "stream",
          "name": "stdout",
          "text": [
            "\n"
          ]
        }
      ]
    },
    {
      "cell_type": "markdown",
      "source": [
        "#### Difficult queries which need eager evaluation"
      ],
      "metadata": {
        "id": "F-41RpU6niZx"
      }
    },
    {
      "cell_type": "code",
      "source": [
        "lathe.change_queryset(2)\n",
        "lathe.load_indexes()"
      ],
      "metadata": {
        "colab": {
          "base_uri": "https://localhost:8080/"
        },
        "id": "NpaX3OpMnjcs",
        "outputId": "f22a1d3d-bb5c-4bfc-e886-130a5128620c"
      },
      "execution_count": 23,
      "outputs": [
        {
          "output_type": "stream",
          "name": "stdout",
          "text": [
            "./config/queryset_configs/coffman_mondial_config.json\n",
            "Changed to query set coffman_mondial.\n",
            "Changed to dataset mondial.\n"
          ]
        }
      ]
    },
    {
      "cell_type": "code",
      "source": [
        "results = lathe.keyword_search('saint kitts cambodia')\n",
        "results.cjns(text=True,graph=True,sql=True,df=True)"
      ],
      "metadata": {
        "id": "5_Zm3eGktEQH",
        "colab": {
          "base_uri": "https://localhost:8080/",
          "height": 918
        },
        "outputId": "3ba5dad3-60dc-4d47-ab77-db3d999a8b1d"
      },
      "execution_count": 28,
      "outputs": [
        {
          "output_type": "stream",
          "name": "stdout",
          "text": [
            "Keyword Query: saint kitts cambodia\n"
          ]
        },
        {
          "output_type": "display_data",
          "data": {
            "text/plain": [
              "<IPython.core.display.Markdown object>"
            ],
            "text/markdown": "---"
          },
          "metadata": {}
        },
        {
          "output_type": "display_data",
          "data": {
            "text/plain": [
              "<IPython.core.display.Markdown object>"
            ],
            "text/markdown": "**1st CJN**:"
          },
          "metadata": {}
        },
        {
          "output_type": "display_data",
          "data": {
            "text/plain": [
              "<IPython.core.display.Markdown object>"
            ],
            "text/markdown": "---"
          },
          "metadata": {}
        },
        {
          "output_type": "stream",
          "name": "stdout",
          "text": [
            "Text:\n",
            "\tCOUNTRY.v(name{kitts,saint})\n",
            "\t\t<IS_MEMBER\n",
            "\t\t\t>ORGANIZATION\n",
            "\t\t\t\t<IS_MEMBER\n",
            "\t\t\t\t\t>COUNTRY.v(name{cambodia})\n"
          ]
        },
        {
          "output_type": "display_data",
          "data": {
            "text/plain": [
              "<IPython.core.display.Markdown object>"
            ],
            "text/markdown": "---"
          },
          "metadata": {}
        },
        {
          "output_type": "stream",
          "name": "stdout",
          "text": [
            "Graph:\n"
          ]
        },
        {
          "output_type": "display_data",
          "data": {
            "text/plain": [
              "<graphviz.dot.Digraph at 0x7f5f62c88690>"
            ],
            "image/svg+xml": "<?xml version=\"1.0\" encoding=\"UTF-8\" standalone=\"no\"?>\n<!DOCTYPE svg PUBLIC \"-//W3C//DTD SVG 1.1//EN\"\n \"http://www.w3.org/Graphics/SVG/1.1/DTD/svg11.dtd\">\n<!-- Generated by graphviz version 2.40.1 (20161225.0304)\n -->\n<!-- Title: %3 Pages: 1 -->\n<svg width=\"442pt\" height=\"98pt\"\n viewBox=\"0.00 0.00 441.58 98.00\" xmlns=\"http://www.w3.org/2000/svg\" xmlns:xlink=\"http://www.w3.org/1999/xlink\">\n<g id=\"graph0\" class=\"graph\" transform=\"scale(1 1) rotate(0) translate(4 94)\">\n<title>%3</title>\n<polygon fill=\"#ffffff\" stroke=\"transparent\" points=\"-4,4 -4,-94 437.5752,-94 437.5752,4 -4,4\"/>\n<!-- t1 -->\n<g id=\"node1\" class=\"node\">\n<title>t1</title>\n<ellipse fill=\"none\" stroke=\"#000000\" cx=\"76.7876\" cy=\"-18\" rx=\"76.5758\" ry=\"18\"/>\n<text text-anchor=\"middle\" x=\"76.7876\" y=\"-15.8\" font-family=\"Times,serif\" font-size=\"9.00\" fill=\"#000000\">COUNTRY.v(name{kitts,saint})</text>\n</g>\n<!-- t2 -->\n<g id=\"node2\" class=\"node\">\n<title>t2</title>\n<ellipse fill=\"none\" stroke=\"#000000\" cx=\"158.7876\" cy=\"-72\" rx=\"39.0211\" ry=\"18\"/>\n<text text-anchor=\"middle\" x=\"158.7876\" y=\"-69.8\" font-family=\"Times,serif\" font-size=\"9.00\" fill=\"#000000\">IS_MEMBER</text>\n</g>\n<!-- t2&#45;&gt;t1 -->\n<g id=\"edge2\" class=\"edge\">\n<title>t2&#45;&gt;t1</title>\n<path fill=\"none\" stroke=\"#000000\" d=\"M135.946,-56.958C128.0365,-51.7493 118.9971,-45.7965 110.4051,-40.1383\"/>\n<polygon fill=\"#000000\" stroke=\"#000000\" points=\"111.9344,-37.3738 102.6854,-35.0547 108.4695,-42.6354 111.9344,-37.3738\"/>\n</g>\n<!-- t3 -->\n<g id=\"node3\" class=\"node\">\n<title>t3</title>\n<ellipse fill=\"none\" stroke=\"#000000\" cx=\"216.7876\" cy=\"-18\" rx=\"49.8047\" ry=\"18\"/>\n<text text-anchor=\"middle\" x=\"216.7876\" y=\"-15.8\" font-family=\"Times,serif\" font-size=\"9.00\" fill=\"#000000\">ORGANIZATION</text>\n</g>\n<!-- t2&#45;&gt;t3 -->\n<g id=\"edge1\" class=\"edge\">\n<title>t2&#45;&gt;t3</title>\n<path fill=\"none\" stroke=\"#000000\" d=\"M176.1895,-55.7982C181.0528,-51.2703 186.4372,-46.2572 191.6519,-41.4022\"/>\n<polygon fill=\"#000000\" stroke=\"#000000\" points=\"194.1521,-43.3784 198.5927,-34.9401 189.8591,-38.7674 194.1521,-43.3784\"/>\n</g>\n<!-- t4 -->\n<g id=\"node4\" class=\"node\">\n<title>t4</title>\n<ellipse fill=\"none\" stroke=\"#000000\" cx=\"274.7876\" cy=\"-72\" rx=\"39.0211\" ry=\"18\"/>\n<text text-anchor=\"middle\" x=\"274.7876\" y=\"-69.8\" font-family=\"Times,serif\" font-size=\"9.00\" fill=\"#000000\">IS_MEMBER</text>\n</g>\n<!-- t4&#45;&gt;t3 -->\n<g id=\"edge4\" class=\"edge\">\n<title>t4&#45;&gt;t3</title>\n<path fill=\"none\" stroke=\"#000000\" d=\"M257.3857,-55.7982C252.5223,-51.2703 247.138,-46.2572 241.9233,-41.4022\"/>\n<polygon fill=\"#000000\" stroke=\"#000000\" points=\"243.716,-38.7674 234.9825,-34.9401 239.4231,-43.3784 243.716,-38.7674\"/>\n</g>\n<!-- t5 -->\n<g id=\"node5\" class=\"node\">\n<title>t5</title>\n<ellipse fill=\"none\" stroke=\"#000000\" cx=\"356.7876\" cy=\"-18\" rx=\"76.5758\" ry=\"18\"/>\n<text text-anchor=\"middle\" x=\"356.7876\" y=\"-15.8\" font-family=\"Times,serif\" font-size=\"9.00\" fill=\"#000000\">COUNTRY.v(name{cambodia})</text>\n</g>\n<!-- t4&#45;&gt;t5 -->\n<g id=\"edge3\" class=\"edge\">\n<title>t4&#45;&gt;t5</title>\n<path fill=\"none\" stroke=\"#000000\" d=\"M297.6292,-56.958C305.5387,-51.7493 314.578,-45.7965 323.1701,-40.1383\"/>\n<polygon fill=\"#000000\" stroke=\"#000000\" points=\"325.1057,-42.6354 330.8898,-35.0547 321.6407,-37.3738 325.1057,-42.6354\"/>\n</g>\n</g>\n</svg>\n"
          },
          "metadata": {}
        },
        {
          "output_type": "display_data",
          "data": {
            "text/plain": [
              "<IPython.core.display.Markdown object>"
            ],
            "text/markdown": "---"
          },
          "metadata": {}
        },
        {
          "output_type": "stream",
          "name": "stdout",
          "text": [
            "SQL:\n",
            "  \n",
            "  SELECT\n",
            "  \tt5.name,\n",
            "  \tt1.name\n",
            "  FROM\n",
            "  \t\"country\" t1\n",
            "  \tJOIN \"is_member\" t2 ON t2.country = t1.code\n",
            "  \tJOIN \"organization\" t3 ON t2.organization = t3.abbreviation\n",
            "  \tJOIN \"is_member\" t4 ON t4.organization = t3.abbreviation\n",
            "  \tJOIN \"country\" t5 ON t4.country = t5.code\n",
            "  WHERE\n",
            "  \tt1.ctid <> t5.ctid\n",
            "  \tAND t2.ctid <> t4.ctid\n",
            "  \tAND t1.name_tsvector @@ to_tsquery('kitts & saint')\n",
            "  \tAND t5.name_tsvector @@ to_tsquery('cambodia')\n",
            "  LIMIT 1000;\n",
            "\n"
          ]
        },
        {
          "output_type": "display_data",
          "data": {
            "text/plain": [
              "<IPython.core.display.Markdown object>"
            ],
            "text/markdown": "---"
          },
          "metadata": {}
        },
        {
          "output_type": "stream",
          "name": "stdout",
          "text": [
            "JNTs:\n"
          ]
        },
        {
          "output_type": "display_data",
          "data": {
            "text/plain": [
              "       name                   name\n",
              "0  Cambodia  Saint Kitts and Nevis\n",
              "1  Cambodia  Saint Kitts and Nevis\n",
              "2  Cambodia  Saint Kitts and Nevis\n",
              "3  Cambodia  Saint Kitts and Nevis\n",
              "4  Cambodia  Saint Kitts and Nevis"
            ],
            "text/html": [
              "\n",
              "  <div id=\"df-a348981f-9a04-43a8-a34d-35e7e3373317\">\n",
              "    <div class=\"colab-df-container\">\n",
              "      <div>\n",
              "<style scoped>\n",
              "    .dataframe tbody tr th:only-of-type {\n",
              "        vertical-align: middle;\n",
              "    }\n",
              "\n",
              "    .dataframe tbody tr th {\n",
              "        vertical-align: top;\n",
              "    }\n",
              "\n",
              "    .dataframe thead th {\n",
              "        text-align: right;\n",
              "    }\n",
              "</style>\n",
              "<table border=\"1\" class=\"dataframe\">\n",
              "  <thead>\n",
              "    <tr style=\"text-align: right;\">\n",
              "      <th></th>\n",
              "      <th>name</th>\n",
              "      <th>name</th>\n",
              "    </tr>\n",
              "  </thead>\n",
              "  <tbody>\n",
              "    <tr>\n",
              "      <th>0</th>\n",
              "      <td>Cambodia</td>\n",
              "      <td>Saint Kitts and Nevis</td>\n",
              "    </tr>\n",
              "    <tr>\n",
              "      <th>1</th>\n",
              "      <td>Cambodia</td>\n",
              "      <td>Saint Kitts and Nevis</td>\n",
              "    </tr>\n",
              "    <tr>\n",
              "      <th>2</th>\n",
              "      <td>Cambodia</td>\n",
              "      <td>Saint Kitts and Nevis</td>\n",
              "    </tr>\n",
              "    <tr>\n",
              "      <th>3</th>\n",
              "      <td>Cambodia</td>\n",
              "      <td>Saint Kitts and Nevis</td>\n",
              "    </tr>\n",
              "    <tr>\n",
              "      <th>4</th>\n",
              "      <td>Cambodia</td>\n",
              "      <td>Saint Kitts and Nevis</td>\n",
              "    </tr>\n",
              "  </tbody>\n",
              "</table>\n",
              "</div>\n",
              "      <button class=\"colab-df-convert\" onclick=\"convertToInteractive('df-a348981f-9a04-43a8-a34d-35e7e3373317')\"\n",
              "              title=\"Convert this dataframe to an interactive table.\"\n",
              "              style=\"display:none;\">\n",
              "        \n",
              "  <svg xmlns=\"http://www.w3.org/2000/svg\" height=\"24px\"viewBox=\"0 0 24 24\"\n",
              "       width=\"24px\">\n",
              "    <path d=\"M0 0h24v24H0V0z\" fill=\"none\"/>\n",
              "    <path d=\"M18.56 5.44l.94 2.06.94-2.06 2.06-.94-2.06-.94-.94-2.06-.94 2.06-2.06.94zm-11 1L8.5 8.5l.94-2.06 2.06-.94-2.06-.94L8.5 2.5l-.94 2.06-2.06.94zm10 10l.94 2.06.94-2.06 2.06-.94-2.06-.94-.94-2.06-.94 2.06-2.06.94z\"/><path d=\"M17.41 7.96l-1.37-1.37c-.4-.4-.92-.59-1.43-.59-.52 0-1.04.2-1.43.59L10.3 9.45l-7.72 7.72c-.78.78-.78 2.05 0 2.83L4 21.41c.39.39.9.59 1.41.59.51 0 1.02-.2 1.41-.59l7.78-7.78 2.81-2.81c.8-.78.8-2.07 0-2.86zM5.41 20L4 18.59l7.72-7.72 1.47 1.35L5.41 20z\"/>\n",
              "  </svg>\n",
              "      </button>\n",
              "      \n",
              "  <style>\n",
              "    .colab-df-container {\n",
              "      display:flex;\n",
              "      flex-wrap:wrap;\n",
              "      gap: 12px;\n",
              "    }\n",
              "\n",
              "    .colab-df-convert {\n",
              "      background-color: #E8F0FE;\n",
              "      border: none;\n",
              "      border-radius: 50%;\n",
              "      cursor: pointer;\n",
              "      display: none;\n",
              "      fill: #1967D2;\n",
              "      height: 32px;\n",
              "      padding: 0 0 0 0;\n",
              "      width: 32px;\n",
              "    }\n",
              "\n",
              "    .colab-df-convert:hover {\n",
              "      background-color: #E2EBFA;\n",
              "      box-shadow: 0px 1px 2px rgba(60, 64, 67, 0.3), 0px 1px 3px 1px rgba(60, 64, 67, 0.15);\n",
              "      fill: #174EA6;\n",
              "    }\n",
              "\n",
              "    [theme=dark] .colab-df-convert {\n",
              "      background-color: #3B4455;\n",
              "      fill: #D2E3FC;\n",
              "    }\n",
              "\n",
              "    [theme=dark] .colab-df-convert:hover {\n",
              "      background-color: #434B5C;\n",
              "      box-shadow: 0px 1px 3px 1px rgba(0, 0, 0, 0.15);\n",
              "      filter: drop-shadow(0px 1px 2px rgba(0, 0, 0, 0.3));\n",
              "      fill: #FFFFFF;\n",
              "    }\n",
              "  </style>\n",
              "\n",
              "      <script>\n",
              "        const buttonEl =\n",
              "          document.querySelector('#df-a348981f-9a04-43a8-a34d-35e7e3373317 button.colab-df-convert');\n",
              "        buttonEl.style.display =\n",
              "          google.colab.kernel.accessAllowed ? 'block' : 'none';\n",
              "\n",
              "        async function convertToInteractive(key) {\n",
              "          const element = document.querySelector('#df-a348981f-9a04-43a8-a34d-35e7e3373317');\n",
              "          const dataTable =\n",
              "            await google.colab.kernel.invokeFunction('convertToInteractive',\n",
              "                                                     [key], {});\n",
              "          if (!dataTable) return;\n",
              "\n",
              "          const docLinkHtml = 'Like what you see? Visit the ' +\n",
              "            '<a target=\"_blank\" href=https://colab.research.google.com/notebooks/data_table.ipynb>data table notebook</a>'\n",
              "            + ' to learn more about interactive tables.';\n",
              "          element.innerHTML = '';\n",
              "          dataTable['output_type'] = 'display_data';\n",
              "          await google.colab.output.renderOutput(dataTable, element);\n",
              "          const docLink = document.createElement('div');\n",
              "          docLink.innerHTML = docLinkHtml;\n",
              "          element.appendChild(docLink);\n",
              "        }\n",
              "      </script>\n",
              "    </div>\n",
              "  </div>\n",
              "  "
            ],
            "application/vnd.google.colaboratory.module+javascript": "\n      import \"https://ssl.gstatic.com/colaboratory/data_table/f872b2c2305463fd/data_table.js\";\n\n      window.createDataTable({\n        data: [[{\n            'v': 0,\n            'f': \"0\",\n        },\n\"Cambodia\",\n\"Saint Kitts and Nevis\"],\n [{\n            'v': 1,\n            'f': \"1\",\n        },\n\"Cambodia\",\n\"Saint Kitts and Nevis\"],\n [{\n            'v': 2,\n            'f': \"2\",\n        },\n\"Cambodia\",\n\"Saint Kitts and Nevis\"],\n [{\n            'v': 3,\n            'f': \"3\",\n        },\n\"Cambodia\",\n\"Saint Kitts and Nevis\"],\n [{\n            'v': 4,\n            'f': \"4\",\n        },\n\"Cambodia\",\n\"Saint Kitts and Nevis\"]],\n        columns: [[\"number\", \"index\"], [\"string\", \"name\"], [\"string\", \"name\"]],\n        columnOptions: [{\"width\": \"1px\", \"className\": \"index_column\"}],\n        rowsPerPage: 25,\n        helpUrl: \"https://colab.research.google.com/notebooks/data_table.ipynb\",\n        suppressOutputScrolling: true,\n        minimumWidth: undefined,\n      });\n    "
          },
          "metadata": {}
        },
        {
          "output_type": "stream",
          "name": "stdout",
          "text": [
            "\n"
          ]
        }
      ]
    },
    {
      "cell_type": "markdown",
      "source": [
        "#### Query whose relevant answer is not supported by other systems as they do not consider valid $R_a ← S_b → R_c$."
      ],
      "metadata": {
        "id": "BQzvPnWBoiXa"
      }
    },
    {
      "cell_type": "code",
      "source": [
        "results = lathe.keyword_search('slovakia hungary')\n",
        "results.cjns()"
      ],
      "metadata": {
        "colab": {
          "base_uri": "https://localhost:8080/",
          "height": 744
        },
        "id": "Q5gK0RAcoik8",
        "outputId": "633110e3-af34-4085-987c-92b910ebf911"
      },
      "execution_count": 29,
      "outputs": [
        {
          "output_type": "stream",
          "name": "stdout",
          "text": [
            "Keyword Query: slovakia hungary\n"
          ]
        },
        {
          "output_type": "display_data",
          "data": {
            "text/plain": [
              "<IPython.core.display.Markdown object>"
            ],
            "text/markdown": "---"
          },
          "metadata": {}
        },
        {
          "output_type": "display_data",
          "data": {
            "text/plain": [
              "<IPython.core.display.Markdown object>"
            ],
            "text/markdown": "**1st CJN**:"
          },
          "metadata": {}
        },
        {
          "output_type": "display_data",
          "data": {
            "text/plain": [
              "<IPython.core.display.Markdown object>"
            ],
            "text/markdown": "---"
          },
          "metadata": {}
        },
        {
          "output_type": "stream",
          "name": "stdout",
          "text": [
            "Text:\n",
            "\tCOUNTRY.v(name{slovakia})\n",
            "\t\t<BORDERS\n",
            "\t\t\t>COUNTRY.v(name{hungary})\n"
          ]
        },
        {
          "output_type": "display_data",
          "data": {
            "text/plain": [
              "<IPython.core.display.Markdown object>"
            ],
            "text/markdown": "---"
          },
          "metadata": {}
        },
        {
          "output_type": "stream",
          "name": "stdout",
          "text": [
            "Graph:\n"
          ]
        },
        {
          "output_type": "display_data",
          "data": {
            "text/plain": [
              "<graphviz.dot.Digraph at 0x7f5f5676be50>"
            ],
            "image/svg+xml": "<?xml version=\"1.0\" encoding=\"UTF-8\" standalone=\"no\"?>\n<!DOCTYPE svg PUBLIC \"-//W3C//DTD SVG 1.1//EN\"\n \"http://www.w3.org/Graphics/SVG/1.1/DTD/svg11.dtd\">\n<!-- Generated by graphviz version 2.40.1 (20161225.0304)\n -->\n<!-- Title: %3 Pages: 1 -->\n<svg width=\"318pt\" height=\"98pt\"\n viewBox=\"0.00 0.00 317.80 98.00\" xmlns=\"http://www.w3.org/2000/svg\" xmlns:xlink=\"http://www.w3.org/1999/xlink\">\n<g id=\"graph0\" class=\"graph\" transform=\"scale(1 1) rotate(0) translate(4 94)\">\n<title>%3</title>\n<polygon fill=\"#ffffff\" stroke=\"transparent\" points=\"-4,4 -4,-94 313.8017,-94 313.8017,4 -4,4\"/>\n<!-- t1 -->\n<g id=\"node1\" class=\"node\">\n<title>t1</title>\n<ellipse fill=\"none\" stroke=\"#000000\" cx=\"73.9008\" cy=\"-18\" rx=\"73.8018\" ry=\"18\"/>\n<text text-anchor=\"middle\" x=\"73.9008\" y=\"-15.8\" font-family=\"Times,serif\" font-size=\"9.00\" fill=\"#000000\">COUNTRY.v(name{slovakia})</text>\n</g>\n<!-- t2 -->\n<g id=\"node2\" class=\"node\">\n<title>t2</title>\n<ellipse fill=\"none\" stroke=\"#000000\" cx=\"154.9008\" cy=\"-72\" rx=\"34.1275\" ry=\"18\"/>\n<text text-anchor=\"middle\" x=\"154.9008\" y=\"-69.8\" font-family=\"Times,serif\" font-size=\"9.00\" fill=\"#000000\">BORDERS</text>\n</g>\n<!-- t2&#45;&gt;t1 -->\n<g id=\"edge1\" class=\"edge\">\n<title>t2&#45;&gt;t1</title>\n<path fill=\"none\" stroke=\"#000000\" d=\"M133.619,-57.8121C125.4983,-52.3983 116.0356,-46.0898 107.0689,-40.1121\"/>\n<polygon fill=\"#000000\" stroke=\"#000000\" points=\"108.5988,-37.3462 99.363,-34.9748 105.1042,-42.5881 108.5988,-37.3462\"/>\n</g>\n<!-- t3 -->\n<g id=\"node3\" class=\"node\">\n<title>t3</title>\n<ellipse fill=\"none\" stroke=\"#000000\" cx=\"235.9008\" cy=\"-18\" rx=\"73.8018\" ry=\"18\"/>\n<text text-anchor=\"middle\" x=\"235.9008\" y=\"-15.8\" font-family=\"Times,serif\" font-size=\"9.00\" fill=\"#000000\">COUNTRY.v(name{hungary})</text>\n</g>\n<!-- t2&#45;&gt;t3 -->\n<g id=\"edge2\" class=\"edge\">\n<title>t2&#45;&gt;t3</title>\n<path fill=\"none\" stroke=\"#000000\" d=\"M176.1826,-57.8121C184.3034,-52.3983 193.7661,-46.0898 202.7327,-40.1121\"/>\n<polygon fill=\"#000000\" stroke=\"#000000\" points=\"204.6975,-42.5881 210.4387,-34.9748 201.2029,-37.3462 204.6975,-42.5881\"/>\n</g>\n</g>\n</svg>\n"
          },
          "metadata": {}
        },
        {
          "output_type": "display_data",
          "data": {
            "text/plain": [
              "<IPython.core.display.Markdown object>"
            ],
            "text/markdown": "---"
          },
          "metadata": {}
        },
        {
          "output_type": "stream",
          "name": "stdout",
          "text": [
            "SQL:\n",
            "  \n",
            "  SELECT\n",
            "  \tt3.name,\n",
            "  \tt1.name\n",
            "  FROM\n",
            "  \t\"country\" t1\n",
            "  \tJOIN \"borders\" t2 ON t2.country1 = t1.code\n",
            "  \tJOIN \"country\" t3 ON t2.country2 = t3.code\n",
            "  WHERE\n",
            "  \tt1.ctid <> t3.ctid\n",
            "  \tAND t1.name_tsvector @@ to_tsquery('slovakia')\n",
            "  \tAND t3.name_tsvector @@ to_tsquery('hungary')\n",
            "  LIMIT 1000;\n",
            "\n"
          ]
        },
        {
          "output_type": "display_data",
          "data": {
            "text/plain": [
              "<IPython.core.display.Markdown object>"
            ],
            "text/markdown": "---"
          },
          "metadata": {}
        },
        {
          "output_type": "stream",
          "name": "stdout",
          "text": [
            "JNTs:\n"
          ]
        },
        {
          "output_type": "display_data",
          "data": {
            "text/plain": [
              "      name      name\n",
              "0  Hungary  Slovakia"
            ],
            "text/html": [
              "\n",
              "  <div id=\"df-9578bf9b-74a9-4272-8149-ca009026347a\">\n",
              "    <div class=\"colab-df-container\">\n",
              "      <div>\n",
              "<style scoped>\n",
              "    .dataframe tbody tr th:only-of-type {\n",
              "        vertical-align: middle;\n",
              "    }\n",
              "\n",
              "    .dataframe tbody tr th {\n",
              "        vertical-align: top;\n",
              "    }\n",
              "\n",
              "    .dataframe thead th {\n",
              "        text-align: right;\n",
              "    }\n",
              "</style>\n",
              "<table border=\"1\" class=\"dataframe\">\n",
              "  <thead>\n",
              "    <tr style=\"text-align: right;\">\n",
              "      <th></th>\n",
              "      <th>name</th>\n",
              "      <th>name</th>\n",
              "    </tr>\n",
              "  </thead>\n",
              "  <tbody>\n",
              "    <tr>\n",
              "      <th>0</th>\n",
              "      <td>Hungary</td>\n",
              "      <td>Slovakia</td>\n",
              "    </tr>\n",
              "  </tbody>\n",
              "</table>\n",
              "</div>\n",
              "      <button class=\"colab-df-convert\" onclick=\"convertToInteractive('df-9578bf9b-74a9-4272-8149-ca009026347a')\"\n",
              "              title=\"Convert this dataframe to an interactive table.\"\n",
              "              style=\"display:none;\">\n",
              "        \n",
              "  <svg xmlns=\"http://www.w3.org/2000/svg\" height=\"24px\"viewBox=\"0 0 24 24\"\n",
              "       width=\"24px\">\n",
              "    <path d=\"M0 0h24v24H0V0z\" fill=\"none\"/>\n",
              "    <path d=\"M18.56 5.44l.94 2.06.94-2.06 2.06-.94-2.06-.94-.94-2.06-.94 2.06-2.06.94zm-11 1L8.5 8.5l.94-2.06 2.06-.94-2.06-.94L8.5 2.5l-.94 2.06-2.06.94zm10 10l.94 2.06.94-2.06 2.06-.94-2.06-.94-.94-2.06-.94 2.06-2.06.94z\"/><path d=\"M17.41 7.96l-1.37-1.37c-.4-.4-.92-.59-1.43-.59-.52 0-1.04.2-1.43.59L10.3 9.45l-7.72 7.72c-.78.78-.78 2.05 0 2.83L4 21.41c.39.39.9.59 1.41.59.51 0 1.02-.2 1.41-.59l7.78-7.78 2.81-2.81c.8-.78.8-2.07 0-2.86zM5.41 20L4 18.59l7.72-7.72 1.47 1.35L5.41 20z\"/>\n",
              "  </svg>\n",
              "      </button>\n",
              "      \n",
              "  <style>\n",
              "    .colab-df-container {\n",
              "      display:flex;\n",
              "      flex-wrap:wrap;\n",
              "      gap: 12px;\n",
              "    }\n",
              "\n",
              "    .colab-df-convert {\n",
              "      background-color: #E8F0FE;\n",
              "      border: none;\n",
              "      border-radius: 50%;\n",
              "      cursor: pointer;\n",
              "      display: none;\n",
              "      fill: #1967D2;\n",
              "      height: 32px;\n",
              "      padding: 0 0 0 0;\n",
              "      width: 32px;\n",
              "    }\n",
              "\n",
              "    .colab-df-convert:hover {\n",
              "      background-color: #E2EBFA;\n",
              "      box-shadow: 0px 1px 2px rgba(60, 64, 67, 0.3), 0px 1px 3px 1px rgba(60, 64, 67, 0.15);\n",
              "      fill: #174EA6;\n",
              "    }\n",
              "\n",
              "    [theme=dark] .colab-df-convert {\n",
              "      background-color: #3B4455;\n",
              "      fill: #D2E3FC;\n",
              "    }\n",
              "\n",
              "    [theme=dark] .colab-df-convert:hover {\n",
              "      background-color: #434B5C;\n",
              "      box-shadow: 0px 1px 3px 1px rgba(0, 0, 0, 0.15);\n",
              "      filter: drop-shadow(0px 1px 2px rgba(0, 0, 0, 0.3));\n",
              "      fill: #FFFFFF;\n",
              "    }\n",
              "  </style>\n",
              "\n",
              "      <script>\n",
              "        const buttonEl =\n",
              "          document.querySelector('#df-9578bf9b-74a9-4272-8149-ca009026347a button.colab-df-convert');\n",
              "        buttonEl.style.display =\n",
              "          google.colab.kernel.accessAllowed ? 'block' : 'none';\n",
              "\n",
              "        async function convertToInteractive(key) {\n",
              "          const element = document.querySelector('#df-9578bf9b-74a9-4272-8149-ca009026347a');\n",
              "          const dataTable =\n",
              "            await google.colab.kernel.invokeFunction('convertToInteractive',\n",
              "                                                     [key], {});\n",
              "          if (!dataTable) return;\n",
              "\n",
              "          const docLinkHtml = 'Like what you see? Visit the ' +\n",
              "            '<a target=\"_blank\" href=https://colab.research.google.com/notebooks/data_table.ipynb>data table notebook</a>'\n",
              "            + ' to learn more about interactive tables.';\n",
              "          element.innerHTML = '';\n",
              "          dataTable['output_type'] = 'display_data';\n",
              "          await google.colab.output.renderOutput(dataTable, element);\n",
              "          const docLink = document.createElement('div');\n",
              "          docLink.innerHTML = docLinkHtml;\n",
              "          element.appendChild(docLink);\n",
              "        }\n",
              "      </script>\n",
              "    </div>\n",
              "  </div>\n",
              "  "
            ],
            "application/vnd.google.colaboratory.module+javascript": "\n      import \"https://ssl.gstatic.com/colaboratory/data_table/f872b2c2305463fd/data_table.js\";\n\n      window.createDataTable({\n        data: [[{\n            'v': 0,\n            'f': \"0\",\n        },\n\"Hungary\",\n\"Slovakia\"]],\n        columns: [[\"number\", \"index\"], [\"string\", \"name\"], [\"string\", \"name\"]],\n        columnOptions: [{\"width\": \"1px\", \"className\": \"index_column\"}],\n        rowsPerPage: 25,\n        helpUrl: \"https://colab.research.google.com/notebooks/data_table.ipynb\",\n        suppressOutputScrolling: true,\n        minimumWidth: undefined,\n      });\n    "
          },
          "metadata": {}
        },
        {
          "output_type": "stream",
          "name": "stdout",
          "text": [
            "\n"
          ]
        }
      ]
    },
    {
      "cell_type": "markdown",
      "source": [
        "### Running Benchmark\n",
        "\n"
      ],
      "metadata": {
        "id": "aQHcmOYcmGWc"
      }
    },
    {
      "cell_type": "markdown",
      "source": [
        "#### IMDb Dataset"
      ],
      "metadata": {
        "id": "azWiaZMcpnst"
      }
    },
    {
      "cell_type": "code",
      "source": [
        "lathe.change_queryset(1)\n",
        "lathe.load_indexes()"
      ],
      "metadata": {
        "id": "u_iKNUlEqB4h",
        "outputId": "d6c8835b-951a-484e-d98b-7398da0dfd9d",
        "colab": {
          "base_uri": "https://localhost:8080/"
        }
      },
      "execution_count": null,
      "outputs": [
        {
          "output_type": "stream",
          "name": "stdout",
          "text": [
            "./config/queryset_configs/coffman_imdb_config.json\n",
            "Changed to query set coffman_imdb.\n",
            "Changed to dataset imdb.\n"
          ]
        }
      ]
    },
    {
      "cell_type": "code",
      "source": [
        "results = lathe.run_queryset()"
      ],
      "metadata": {
        "outputId": "b7ca50c9-f10f-4282-93af-e3e8278ed4c2",
        "colab": {
          "base_uri": "https://localhost:8080/"
        },
        "id": "nlgA_qWsp0uo"
      },
      "execution_count": null,
      "outputs": [
        {
          "output_type": "stream",
          "name": "stdout",
          "text": [
            "Keyword Query: denzel washington\n",
            "Keyword Query: clint eastwood\n",
            "Keyword Query: john wayne\n",
            "Keyword Query: will smith\n",
            "Keyword Query: harrison ford\n",
            "Keyword Query: julia roberts\n",
            "Keyword Query: tom hanks\n",
            "Keyword Query: johnny depp\n",
            "Keyword Query: angelina jolie\n",
            "Keyword Query: morgan freeman\n",
            "Keyword Query: gone with the wind\n",
            "Keyword Query: star wars\n",
            "Keyword Query: casablanca\n",
            "Keyword Query: lord of the rings\n",
            "Keyword Query: the sound of music\n",
            "Keyword Query: wizard of oz\n",
            "Keyword Query: the notebook\n",
            "Keyword Query: forrest gump\n",
            "Keyword Query: the princess bride\n",
            "Keyword Query: the godfather\n",
            "Keyword Query: title atticus finch\n",
            "Keyword Query: title indiana jones\n",
            "Keyword Query: title james bond\n",
            "Keyword Query: title rick blaine\n",
            "Keyword Query: title will kane\n",
            "Keyword Query: title dr. hannibal lecter\n",
            "Keyword Query: title norman bates\n",
            "Keyword Query: title darth vader\n",
            "Keyword Query: title the wicked witch of the west\n",
            "Keyword Query: title nurse ratched\n",
            "Keyword Query: title frankly my dear i don't give a damn\n",
            "Keyword Query: title i'm going to make him an offer he can't refuse\n",
            "Keyword Query: title you don't understand i coulda had class i coulda been a contender i coulda been somebody instead of a bum which is what i am\n",
            "Keyword Query: title toto i've a feeling we're not in kansas any more\n",
            "Keyword Query: title here's looking at you kid\n",
            "Keyword Query: hamill skywalker\n",
            "Keyword Query: hanks 2004\n",
            "Keyword Query: henry fonda yours mine ours character\n",
            "Keyword Query: russell crowe gladiator character\n",
            "Keyword Query: brent spiner star trek\n",
            "Keyword Query: audrey hepburn 1951\n",
            "Keyword Query: name jacques clouseau\n",
            "Keyword Query: name jack ryan\n",
            "Keyword Query: rocky stallone\n",
            "Keyword Query: name terminator\n",
            "Keyword Query: harrison ford george lucas\n",
            "Keyword Query: sean connery fleming\n",
            "Keyword Query: reeves wachowski\n",
            "Keyword Query: dean jones herbie\n",
            "Keyword Query: indiana jones last crusade lost ark\n"
          ]
        }
      ]
    },
    {
      "cell_type": "code",
      "source": [
        "evaluation=lathe.evaluate_queryset(results)\n",
        "evaluation.metrics()"
      ],
      "metadata": {
        "id": "F8pvLVA3p0uq",
        "outputId": "305350dd-5771-4fdb-ffd8-ee948621f273",
        "colab": {
          "base_uri": "https://localhost:8080/",
          "height": 134
        }
      },
      "execution_count": null,
      "outputs": [
        {
          "output_type": "display_data",
          "data": {
            "text/plain": [
              "       MRR   P@1   P@2   P@3   P@4   P@5   P@6   P@7   P@8   P@9  P@10\n",
              "QMs   0.75  0.58  0.82  0.92  0.92  0.98  0.98  0.98  0.98  0.98  0.98\n",
              "CJNs  0.78  0.64  0.82  0.94  0.96  0.98  0.98  0.98  0.98  0.98  0.98"
            ],
            "text/html": [
              "\n",
              "  <div id=\"df-433cbd03-18ed-4cbb-98c1-079505032716\">\n",
              "    <div class=\"colab-df-container\">\n",
              "      <div>\n",
              "<style scoped>\n",
              "    .dataframe tbody tr th:only-of-type {\n",
              "        vertical-align: middle;\n",
              "    }\n",
              "\n",
              "    .dataframe tbody tr th {\n",
              "        vertical-align: top;\n",
              "    }\n",
              "\n",
              "    .dataframe thead th {\n",
              "        text-align: right;\n",
              "    }\n",
              "</style>\n",
              "<table border=\"1\" class=\"dataframe\">\n",
              "  <thead>\n",
              "    <tr style=\"text-align: right;\">\n",
              "      <th></th>\n",
              "      <th>MRR</th>\n",
              "      <th>P@1</th>\n",
              "      <th>P@2</th>\n",
              "      <th>P@3</th>\n",
              "      <th>P@4</th>\n",
              "      <th>P@5</th>\n",
              "      <th>P@6</th>\n",
              "      <th>P@7</th>\n",
              "      <th>P@8</th>\n",
              "      <th>P@9</th>\n",
              "      <th>P@10</th>\n",
              "    </tr>\n",
              "  </thead>\n",
              "  <tbody>\n",
              "    <tr>\n",
              "      <th>QMs</th>\n",
              "      <td>0.75</td>\n",
              "      <td>0.58</td>\n",
              "      <td>0.82</td>\n",
              "      <td>0.92</td>\n",
              "      <td>0.92</td>\n",
              "      <td>0.98</td>\n",
              "      <td>0.98</td>\n",
              "      <td>0.98</td>\n",
              "      <td>0.98</td>\n",
              "      <td>0.98</td>\n",
              "      <td>0.98</td>\n",
              "    </tr>\n",
              "    <tr>\n",
              "      <th>CJNs</th>\n",
              "      <td>0.78</td>\n",
              "      <td>0.64</td>\n",
              "      <td>0.82</td>\n",
              "      <td>0.94</td>\n",
              "      <td>0.96</td>\n",
              "      <td>0.98</td>\n",
              "      <td>0.98</td>\n",
              "      <td>0.98</td>\n",
              "      <td>0.98</td>\n",
              "      <td>0.98</td>\n",
              "      <td>0.98</td>\n",
              "    </tr>\n",
              "  </tbody>\n",
              "</table>\n",
              "</div>\n",
              "      <button class=\"colab-df-convert\" onclick=\"convertToInteractive('df-433cbd03-18ed-4cbb-98c1-079505032716')\"\n",
              "              title=\"Convert this dataframe to an interactive table.\"\n",
              "              style=\"display:none;\">\n",
              "        \n",
              "  <svg xmlns=\"http://www.w3.org/2000/svg\" height=\"24px\"viewBox=\"0 0 24 24\"\n",
              "       width=\"24px\">\n",
              "    <path d=\"M0 0h24v24H0V0z\" fill=\"none\"/>\n",
              "    <path d=\"M18.56 5.44l.94 2.06.94-2.06 2.06-.94-2.06-.94-.94-2.06-.94 2.06-2.06.94zm-11 1L8.5 8.5l.94-2.06 2.06-.94-2.06-.94L8.5 2.5l-.94 2.06-2.06.94zm10 10l.94 2.06.94-2.06 2.06-.94-2.06-.94-.94-2.06-.94 2.06-2.06.94z\"/><path d=\"M17.41 7.96l-1.37-1.37c-.4-.4-.92-.59-1.43-.59-.52 0-1.04.2-1.43.59L10.3 9.45l-7.72 7.72c-.78.78-.78 2.05 0 2.83L4 21.41c.39.39.9.59 1.41.59.51 0 1.02-.2 1.41-.59l7.78-7.78 2.81-2.81c.8-.78.8-2.07 0-2.86zM5.41 20L4 18.59l7.72-7.72 1.47 1.35L5.41 20z\"/>\n",
              "  </svg>\n",
              "      </button>\n",
              "      \n",
              "  <style>\n",
              "    .colab-df-container {\n",
              "      display:flex;\n",
              "      flex-wrap:wrap;\n",
              "      gap: 12px;\n",
              "    }\n",
              "\n",
              "    .colab-df-convert {\n",
              "      background-color: #E8F0FE;\n",
              "      border: none;\n",
              "      border-radius: 50%;\n",
              "      cursor: pointer;\n",
              "      display: none;\n",
              "      fill: #1967D2;\n",
              "      height: 32px;\n",
              "      padding: 0 0 0 0;\n",
              "      width: 32px;\n",
              "    }\n",
              "\n",
              "    .colab-df-convert:hover {\n",
              "      background-color: #E2EBFA;\n",
              "      box-shadow: 0px 1px 2px rgba(60, 64, 67, 0.3), 0px 1px 3px 1px rgba(60, 64, 67, 0.15);\n",
              "      fill: #174EA6;\n",
              "    }\n",
              "\n",
              "    [theme=dark] .colab-df-convert {\n",
              "      background-color: #3B4455;\n",
              "      fill: #D2E3FC;\n",
              "    }\n",
              "\n",
              "    [theme=dark] .colab-df-convert:hover {\n",
              "      background-color: #434B5C;\n",
              "      box-shadow: 0px 1px 3px 1px rgba(0, 0, 0, 0.15);\n",
              "      filter: drop-shadow(0px 1px 2px rgba(0, 0, 0, 0.3));\n",
              "      fill: #FFFFFF;\n",
              "    }\n",
              "  </style>\n",
              "\n",
              "      <script>\n",
              "        const buttonEl =\n",
              "          document.querySelector('#df-433cbd03-18ed-4cbb-98c1-079505032716 button.colab-df-convert');\n",
              "        buttonEl.style.display =\n",
              "          google.colab.kernel.accessAllowed ? 'block' : 'none';\n",
              "\n",
              "        async function convertToInteractive(key) {\n",
              "          const element = document.querySelector('#df-433cbd03-18ed-4cbb-98c1-079505032716');\n",
              "          const dataTable =\n",
              "            await google.colab.kernel.invokeFunction('convertToInteractive',\n",
              "                                                     [key], {});\n",
              "          if (!dataTable) return;\n",
              "\n",
              "          const docLinkHtml = 'Like what you see? Visit the ' +\n",
              "            '<a target=\"_blank\" href=https://colab.research.google.com/notebooks/data_table.ipynb>data table notebook</a>'\n",
              "            + ' to learn more about interactive tables.';\n",
              "          element.innerHTML = '';\n",
              "          dataTable['output_type'] = 'display_data';\n",
              "          await google.colab.output.renderOutput(dataTable, element);\n",
              "          const docLink = document.createElement('div');\n",
              "          docLink.innerHTML = docLinkHtml;\n",
              "          element.appendChild(docLink);\n",
              "        }\n",
              "      </script>\n",
              "    </div>\n",
              "  </div>\n",
              "  "
            ],
            "application/vnd.google.colaboratory.module+javascript": "\n      import \"https://ssl.gstatic.com/colaboratory/data_table/f872b2c2305463fd/data_table.js\";\n\n      window.createDataTable({\n        data: [[\"QMs\",\n{\n            'v': 0.75,\n            'f': \"0.75\",\n        },\n{\n            'v': 0.58,\n            'f': \"0.58\",\n        },\n{\n            'v': 0.82,\n            'f': \"0.82\",\n        },\n{\n            'v': 0.92,\n            'f': \"0.92\",\n        },\n{\n            'v': 0.92,\n            'f': \"0.92\",\n        },\n{\n            'v': 0.98,\n            'f': \"0.98\",\n        },\n{\n            'v': 0.98,\n            'f': \"0.98\",\n        },\n{\n            'v': 0.98,\n            'f': \"0.98\",\n        },\n{\n            'v': 0.98,\n            'f': \"0.98\",\n        },\n{\n            'v': 0.98,\n            'f': \"0.98\",\n        },\n{\n            'v': 0.98,\n            'f': \"0.98\",\n        }],\n [\"CJNs\",\n{\n            'v': 0.78,\n            'f': \"0.78\",\n        },\n{\n            'v': 0.64,\n            'f': \"0.64\",\n        },\n{\n            'v': 0.82,\n            'f': \"0.82\",\n        },\n{\n            'v': 0.94,\n            'f': \"0.94\",\n        },\n{\n            'v': 0.96,\n            'f': \"0.96\",\n        },\n{\n            'v': 0.98,\n            'f': \"0.98\",\n        },\n{\n            'v': 0.98,\n            'f': \"0.98\",\n        },\n{\n            'v': 0.98,\n            'f': \"0.98\",\n        },\n{\n            'v': 0.98,\n            'f': \"0.98\",\n        },\n{\n            'v': 0.98,\n            'f': \"0.98\",\n        },\n{\n            'v': 0.98,\n            'f': \"0.98\",\n        }]],\n        columns: [[\"string\", \"index\"], [\"number\", \"MRR\"], [\"number\", \"P@1\"], [\"number\", \"P@2\"], [\"number\", \"P@3\"], [\"number\", \"P@4\"], [\"number\", \"P@5\"], [\"number\", \"P@6\"], [\"number\", \"P@7\"], [\"number\", \"P@8\"], [\"number\", \"P@9\"], [\"number\", \"P@10\"]],\n        columnOptions: [{\"width\": \"1px\", \"className\": \"index_column\"}],\n        rowsPerPage: 25,\n        helpUrl: \"https://colab.research.google.com/notebooks/data_table.ipynb\",\n        suppressOutputScrolling: true,\n        minimumWidth: undefined,\n      });\n    "
          },
          "metadata": {}
        }
      ]
    },
    {
      "cell_type": "code",
      "source": [
        "evaluation.relevant_positions()"
      ],
      "metadata": {
        "id": "5Da1-X7-p0ur",
        "outputId": "460f971d-174e-4536-87bc-f9ed15f1a4ed",
        "colab": {
          "base_uri": "https://localhost:8080/",
          "height": 1000
        }
      },
      "execution_count": null,
      "outputs": [
        {
          "output_type": "display_data",
          "data": {
            "text/plain": [
              "                                                      Relevant Position    \n",
              "                                        Keyword Query                QM CJN\n",
              "1                                   denzel washington                 1   1\n",
              "2                                      clint eastwood                 1   1\n",
              "3                                          john wayne                 1   1\n",
              "4                                          will smith                 1   1\n",
              "5                                       harrison ford                 1   1\n",
              "6                                       julia roberts                 1   1\n",
              "7                                           tom hanks                 1   1\n",
              "8                                         johnny depp                 3   3\n",
              "9                                      angelina jolie                 1   1\n",
              "10                                     morgan freeman                 1   1\n",
              "11                                 gone with the wind                 1   1\n",
              "12                                          star wars                 1   1\n",
              "13                                         casablanca                 1   1\n",
              "14                                  lord of the rings                 2   2\n",
              "15                                 the sound of music                 1   1\n",
              "16                                       wizard of oz                 1   1\n",
              "17                                       the notebook                 1   1\n",
              "18                                       forrest gump                 3   3\n",
              "19                                 the princess bride                 1   1\n",
              "20                                      the godfather                 1   1\n",
              "21                                title atticus finch                 1   2\n",
              "22                                title indiana jones                 2   2\n",
              "23                                   title james bond                 2   3\n",
              "24                                  title rick blaine                 2   2\n",
              "25                                    title will kane                 3   3\n",
              "26                          title dr. hannibal lecter                 1   1\n",
              "27                                 title norman bates                 2   2\n",
              "28                                  title darth vader                 3   4\n",
              "29                 title the wicked witch of the west                 1   1\n",
              "30                                title nurse ratched                 1   1\n",
              "31          title frankly my dear i don't give a damn                 1   1\n",
              "32  title i'm going to make him an offer he can't ...                 1   1\n",
              "33  title you don't understand i coulda had class ...                -1  -1\n",
              "34  title toto i've a feeling we're not in kansas ...                 1   1\n",
              "35                    title here's looking at you kid                 1   1\n",
              "36                                   hamill skywalker                 2   2\n",
              "37                                         hanks 2004                 1   1\n",
              "38              henry fonda yours mine ours character                 5   1\n",
              "39                  russell crowe gladiator character                 2   1\n",
              "40                             brent spiner star trek                 1   1\n",
              "41                                audrey hepburn 1951                 1   1\n",
              "42                              name jacques clouseau                 2   2\n",
              "43                                     name jack ryan                 5   5\n",
              "44                                     rocky stallone                 3   2\n",
              "45                                    name terminator                 5   3\n",
              "46                         harrison ford george lucas                 2   2\n",
              "47                               sean connery fleming                 2   1\n",
              "48                                   reeves wachowski                 1   1\n",
              "49                                  dean jones herbie                 2   3\n",
              "50                indiana jones last crusade lost ark                 2   1"
            ],
            "text/html": [
              "\n",
              "  <div id=\"df-648e8537-14de-4d07-b75f-baa173f0da89\">\n",
              "    <div class=\"colab-df-container\">\n",
              "      <div>\n",
              "<style scoped>\n",
              "    .dataframe tbody tr th:only-of-type {\n",
              "        vertical-align: middle;\n",
              "    }\n",
              "\n",
              "    .dataframe tbody tr th {\n",
              "        vertical-align: top;\n",
              "    }\n",
              "\n",
              "    .dataframe thead tr th {\n",
              "        text-align: left;\n",
              "    }\n",
              "</style>\n",
              "<table border=\"1\" class=\"dataframe\">\n",
              "  <thead>\n",
              "    <tr>\n",
              "      <th></th>\n",
              "      <th></th>\n",
              "      <th colspan=\"2\" halign=\"left\">Relevant Position</th>\n",
              "    </tr>\n",
              "    <tr>\n",
              "      <th></th>\n",
              "      <th>Keyword Query</th>\n",
              "      <th>QM</th>\n",
              "      <th>CJN</th>\n",
              "    </tr>\n",
              "  </thead>\n",
              "  <tbody>\n",
              "    <tr>\n",
              "      <th>1</th>\n",
              "      <td>denzel washington</td>\n",
              "      <td>1</td>\n",
              "      <td>1</td>\n",
              "    </tr>\n",
              "    <tr>\n",
              "      <th>2</th>\n",
              "      <td>clint eastwood</td>\n",
              "      <td>1</td>\n",
              "      <td>1</td>\n",
              "    </tr>\n",
              "    <tr>\n",
              "      <th>3</th>\n",
              "      <td>john wayne</td>\n",
              "      <td>1</td>\n",
              "      <td>1</td>\n",
              "    </tr>\n",
              "    <tr>\n",
              "      <th>4</th>\n",
              "      <td>will smith</td>\n",
              "      <td>1</td>\n",
              "      <td>1</td>\n",
              "    </tr>\n",
              "    <tr>\n",
              "      <th>5</th>\n",
              "      <td>harrison ford</td>\n",
              "      <td>1</td>\n",
              "      <td>1</td>\n",
              "    </tr>\n",
              "    <tr>\n",
              "      <th>6</th>\n",
              "      <td>julia roberts</td>\n",
              "      <td>1</td>\n",
              "      <td>1</td>\n",
              "    </tr>\n",
              "    <tr>\n",
              "      <th>7</th>\n",
              "      <td>tom hanks</td>\n",
              "      <td>1</td>\n",
              "      <td>1</td>\n",
              "    </tr>\n",
              "    <tr>\n",
              "      <th>8</th>\n",
              "      <td>johnny depp</td>\n",
              "      <td>3</td>\n",
              "      <td>3</td>\n",
              "    </tr>\n",
              "    <tr>\n",
              "      <th>9</th>\n",
              "      <td>angelina jolie</td>\n",
              "      <td>1</td>\n",
              "      <td>1</td>\n",
              "    </tr>\n",
              "    <tr>\n",
              "      <th>10</th>\n",
              "      <td>morgan freeman</td>\n",
              "      <td>1</td>\n",
              "      <td>1</td>\n",
              "    </tr>\n",
              "    <tr>\n",
              "      <th>11</th>\n",
              "      <td>gone with the wind</td>\n",
              "      <td>1</td>\n",
              "      <td>1</td>\n",
              "    </tr>\n",
              "    <tr>\n",
              "      <th>12</th>\n",
              "      <td>star wars</td>\n",
              "      <td>1</td>\n",
              "      <td>1</td>\n",
              "    </tr>\n",
              "    <tr>\n",
              "      <th>13</th>\n",
              "      <td>casablanca</td>\n",
              "      <td>1</td>\n",
              "      <td>1</td>\n",
              "    </tr>\n",
              "    <tr>\n",
              "      <th>14</th>\n",
              "      <td>lord of the rings</td>\n",
              "      <td>2</td>\n",
              "      <td>2</td>\n",
              "    </tr>\n",
              "    <tr>\n",
              "      <th>15</th>\n",
              "      <td>the sound of music</td>\n",
              "      <td>1</td>\n",
              "      <td>1</td>\n",
              "    </tr>\n",
              "    <tr>\n",
              "      <th>16</th>\n",
              "      <td>wizard of oz</td>\n",
              "      <td>1</td>\n",
              "      <td>1</td>\n",
              "    </tr>\n",
              "    <tr>\n",
              "      <th>17</th>\n",
              "      <td>the notebook</td>\n",
              "      <td>1</td>\n",
              "      <td>1</td>\n",
              "    </tr>\n",
              "    <tr>\n",
              "      <th>18</th>\n",
              "      <td>forrest gump</td>\n",
              "      <td>3</td>\n",
              "      <td>3</td>\n",
              "    </tr>\n",
              "    <tr>\n",
              "      <th>19</th>\n",
              "      <td>the princess bride</td>\n",
              "      <td>1</td>\n",
              "      <td>1</td>\n",
              "    </tr>\n",
              "    <tr>\n",
              "      <th>20</th>\n",
              "      <td>the godfather</td>\n",
              "      <td>1</td>\n",
              "      <td>1</td>\n",
              "    </tr>\n",
              "    <tr>\n",
              "      <th>21</th>\n",
              "      <td>title atticus finch</td>\n",
              "      <td>1</td>\n",
              "      <td>2</td>\n",
              "    </tr>\n",
              "    <tr>\n",
              "      <th>22</th>\n",
              "      <td>title indiana jones</td>\n",
              "      <td>2</td>\n",
              "      <td>2</td>\n",
              "    </tr>\n",
              "    <tr>\n",
              "      <th>23</th>\n",
              "      <td>title james bond</td>\n",
              "      <td>2</td>\n",
              "      <td>3</td>\n",
              "    </tr>\n",
              "    <tr>\n",
              "      <th>24</th>\n",
              "      <td>title rick blaine</td>\n",
              "      <td>2</td>\n",
              "      <td>2</td>\n",
              "    </tr>\n",
              "    <tr>\n",
              "      <th>25</th>\n",
              "      <td>title will kane</td>\n",
              "      <td>3</td>\n",
              "      <td>3</td>\n",
              "    </tr>\n",
              "    <tr>\n",
              "      <th>26</th>\n",
              "      <td>title dr. hannibal lecter</td>\n",
              "      <td>1</td>\n",
              "      <td>1</td>\n",
              "    </tr>\n",
              "    <tr>\n",
              "      <th>27</th>\n",
              "      <td>title norman bates</td>\n",
              "      <td>2</td>\n",
              "      <td>2</td>\n",
              "    </tr>\n",
              "    <tr>\n",
              "      <th>28</th>\n",
              "      <td>title darth vader</td>\n",
              "      <td>3</td>\n",
              "      <td>4</td>\n",
              "    </tr>\n",
              "    <tr>\n",
              "      <th>29</th>\n",
              "      <td>title the wicked witch of the west</td>\n",
              "      <td>1</td>\n",
              "      <td>1</td>\n",
              "    </tr>\n",
              "    <tr>\n",
              "      <th>30</th>\n",
              "      <td>title nurse ratched</td>\n",
              "      <td>1</td>\n",
              "      <td>1</td>\n",
              "    </tr>\n",
              "    <tr>\n",
              "      <th>31</th>\n",
              "      <td>title frankly my dear i don't give a damn</td>\n",
              "      <td>1</td>\n",
              "      <td>1</td>\n",
              "    </tr>\n",
              "    <tr>\n",
              "      <th>32</th>\n",
              "      <td>title i'm going to make him an offer he can't ...</td>\n",
              "      <td>1</td>\n",
              "      <td>1</td>\n",
              "    </tr>\n",
              "    <tr>\n",
              "      <th>33</th>\n",
              "      <td>title you don't understand i coulda had class ...</td>\n",
              "      <td>-1</td>\n",
              "      <td>-1</td>\n",
              "    </tr>\n",
              "    <tr>\n",
              "      <th>34</th>\n",
              "      <td>title toto i've a feeling we're not in kansas ...</td>\n",
              "      <td>1</td>\n",
              "      <td>1</td>\n",
              "    </tr>\n",
              "    <tr>\n",
              "      <th>35</th>\n",
              "      <td>title here's looking at you kid</td>\n",
              "      <td>1</td>\n",
              "      <td>1</td>\n",
              "    </tr>\n",
              "    <tr>\n",
              "      <th>36</th>\n",
              "      <td>hamill skywalker</td>\n",
              "      <td>2</td>\n",
              "      <td>2</td>\n",
              "    </tr>\n",
              "    <tr>\n",
              "      <th>37</th>\n",
              "      <td>hanks 2004</td>\n",
              "      <td>1</td>\n",
              "      <td>1</td>\n",
              "    </tr>\n",
              "    <tr>\n",
              "      <th>38</th>\n",
              "      <td>henry fonda yours mine ours character</td>\n",
              "      <td>5</td>\n",
              "      <td>1</td>\n",
              "    </tr>\n",
              "    <tr>\n",
              "      <th>39</th>\n",
              "      <td>russell crowe gladiator character</td>\n",
              "      <td>2</td>\n",
              "      <td>1</td>\n",
              "    </tr>\n",
              "    <tr>\n",
              "      <th>40</th>\n",
              "      <td>brent spiner star trek</td>\n",
              "      <td>1</td>\n",
              "      <td>1</td>\n",
              "    </tr>\n",
              "    <tr>\n",
              "      <th>41</th>\n",
              "      <td>audrey hepburn 1951</td>\n",
              "      <td>1</td>\n",
              "      <td>1</td>\n",
              "    </tr>\n",
              "    <tr>\n",
              "      <th>42</th>\n",
              "      <td>name jacques clouseau</td>\n",
              "      <td>2</td>\n",
              "      <td>2</td>\n",
              "    </tr>\n",
              "    <tr>\n",
              "      <th>43</th>\n",
              "      <td>name jack ryan</td>\n",
              "      <td>5</td>\n",
              "      <td>5</td>\n",
              "    </tr>\n",
              "    <tr>\n",
              "      <th>44</th>\n",
              "      <td>rocky stallone</td>\n",
              "      <td>3</td>\n",
              "      <td>2</td>\n",
              "    </tr>\n",
              "    <tr>\n",
              "      <th>45</th>\n",
              "      <td>name terminator</td>\n",
              "      <td>5</td>\n",
              "      <td>3</td>\n",
              "    </tr>\n",
              "    <tr>\n",
              "      <th>46</th>\n",
              "      <td>harrison ford george lucas</td>\n",
              "      <td>2</td>\n",
              "      <td>2</td>\n",
              "    </tr>\n",
              "    <tr>\n",
              "      <th>47</th>\n",
              "      <td>sean connery fleming</td>\n",
              "      <td>2</td>\n",
              "      <td>1</td>\n",
              "    </tr>\n",
              "    <tr>\n",
              "      <th>48</th>\n",
              "      <td>reeves wachowski</td>\n",
              "      <td>1</td>\n",
              "      <td>1</td>\n",
              "    </tr>\n",
              "    <tr>\n",
              "      <th>49</th>\n",
              "      <td>dean jones herbie</td>\n",
              "      <td>2</td>\n",
              "      <td>3</td>\n",
              "    </tr>\n",
              "    <tr>\n",
              "      <th>50</th>\n",
              "      <td>indiana jones last crusade lost ark</td>\n",
              "      <td>2</td>\n",
              "      <td>1</td>\n",
              "    </tr>\n",
              "  </tbody>\n",
              "</table>\n",
              "</div>\n",
              "      <button class=\"colab-df-convert\" onclick=\"convertToInteractive('df-648e8537-14de-4d07-b75f-baa173f0da89')\"\n",
              "              title=\"Convert this dataframe to an interactive table.\"\n",
              "              style=\"display:none;\">\n",
              "        \n",
              "  <svg xmlns=\"http://www.w3.org/2000/svg\" height=\"24px\"viewBox=\"0 0 24 24\"\n",
              "       width=\"24px\">\n",
              "    <path d=\"M0 0h24v24H0V0z\" fill=\"none\"/>\n",
              "    <path d=\"M18.56 5.44l.94 2.06.94-2.06 2.06-.94-2.06-.94-.94-2.06-.94 2.06-2.06.94zm-11 1L8.5 8.5l.94-2.06 2.06-.94-2.06-.94L8.5 2.5l-.94 2.06-2.06.94zm10 10l.94 2.06.94-2.06 2.06-.94-2.06-.94-.94-2.06-.94 2.06-2.06.94z\"/><path d=\"M17.41 7.96l-1.37-1.37c-.4-.4-.92-.59-1.43-.59-.52 0-1.04.2-1.43.59L10.3 9.45l-7.72 7.72c-.78.78-.78 2.05 0 2.83L4 21.41c.39.39.9.59 1.41.59.51 0 1.02-.2 1.41-.59l7.78-7.78 2.81-2.81c.8-.78.8-2.07 0-2.86zM5.41 20L4 18.59l7.72-7.72 1.47 1.35L5.41 20z\"/>\n",
              "  </svg>\n",
              "      </button>\n",
              "      \n",
              "  <style>\n",
              "    .colab-df-container {\n",
              "      display:flex;\n",
              "      flex-wrap:wrap;\n",
              "      gap: 12px;\n",
              "    }\n",
              "\n",
              "    .colab-df-convert {\n",
              "      background-color: #E8F0FE;\n",
              "      border: none;\n",
              "      border-radius: 50%;\n",
              "      cursor: pointer;\n",
              "      display: none;\n",
              "      fill: #1967D2;\n",
              "      height: 32px;\n",
              "      padding: 0 0 0 0;\n",
              "      width: 32px;\n",
              "    }\n",
              "\n",
              "    .colab-df-convert:hover {\n",
              "      background-color: #E2EBFA;\n",
              "      box-shadow: 0px 1px 2px rgba(60, 64, 67, 0.3), 0px 1px 3px 1px rgba(60, 64, 67, 0.15);\n",
              "      fill: #174EA6;\n",
              "    }\n",
              "\n",
              "    [theme=dark] .colab-df-convert {\n",
              "      background-color: #3B4455;\n",
              "      fill: #D2E3FC;\n",
              "    }\n",
              "\n",
              "    [theme=dark] .colab-df-convert:hover {\n",
              "      background-color: #434B5C;\n",
              "      box-shadow: 0px 1px 3px 1px rgba(0, 0, 0, 0.15);\n",
              "      filter: drop-shadow(0px 1px 2px rgba(0, 0, 0, 0.3));\n",
              "      fill: #FFFFFF;\n",
              "    }\n",
              "  </style>\n",
              "\n",
              "      <script>\n",
              "        const buttonEl =\n",
              "          document.querySelector('#df-648e8537-14de-4d07-b75f-baa173f0da89 button.colab-df-convert');\n",
              "        buttonEl.style.display =\n",
              "          google.colab.kernel.accessAllowed ? 'block' : 'none';\n",
              "\n",
              "        async function convertToInteractive(key) {\n",
              "          const element = document.querySelector('#df-648e8537-14de-4d07-b75f-baa173f0da89');\n",
              "          const dataTable =\n",
              "            await google.colab.kernel.invokeFunction('convertToInteractive',\n",
              "                                                     [key], {});\n",
              "          if (!dataTable) return;\n",
              "\n",
              "          const docLinkHtml = 'Like what you see? Visit the ' +\n",
              "            '<a target=\"_blank\" href=https://colab.research.google.com/notebooks/data_table.ipynb>data table notebook</a>'\n",
              "            + ' to learn more about interactive tables.';\n",
              "          element.innerHTML = '';\n",
              "          dataTable['output_type'] = 'display_data';\n",
              "          await google.colab.output.renderOutput(dataTable, element);\n",
              "          const docLink = document.createElement('div');\n",
              "          docLink.innerHTML = docLinkHtml;\n",
              "          element.appendChild(docLink);\n",
              "        }\n",
              "      </script>\n",
              "    </div>\n",
              "  </div>\n",
              "  "
            ]
          },
          "metadata": {}
        }
      ]
    },
    {
      "cell_type": "markdown",
      "source": [
        "#### MONDIAL Dataset"
      ],
      "metadata": {
        "id": "VlaP-jv9phaQ"
      }
    },
    {
      "cell_type": "code",
      "source": [
        "lathe.change_queryset(2)\n",
        "lathe.load_indexes()"
      ],
      "metadata": {
        "colab": {
          "base_uri": "https://localhost:8080/"
        },
        "id": "hyn46LYUsik7",
        "outputId": "a86c20fc-5cf3-4e34-d365-dc7a785a3e38"
      },
      "execution_count": 53,
      "outputs": [
        {
          "output_type": "stream",
          "name": "stdout",
          "text": [
            "./config/queryset_configs/coffman_mondial_config.json\n",
            "Changed to query set coffman_mondial.\n",
            "Changed to dataset mondial.\n"
          ]
        }
      ]
    },
    {
      "cell_type": "code",
      "source": [
        "results = lathe.run_queryset()"
      ],
      "metadata": {
        "colab": {
          "base_uri": "https://localhost:8080/"
        },
        "id": "PE-u3ICd_d-5",
        "outputId": "0513f0c0-aed4-4513-da19-d40158fbef6e"
      },
      "execution_count": null,
      "outputs": [
        {
          "output_type": "stream",
          "name": "stdout",
          "text": [
            "Keyword Query: thailand\n",
            "Keyword Query: netherlands\n",
            "Keyword Query: georgia\n",
            "Keyword Query: country china\n",
            "Keyword Query: bangladesh\n",
            "Keyword Query: alexandria\n",
            "Keyword Query: sonsonate\n",
            "Keyword Query: xiaogan\n",
            "Keyword Query: city glendale\n",
            "Keyword Query: city granada\n",
            "Keyword Query: Lake Kariba\n",
            "Keyword Query: Niger\n",
            "Keyword Query: Arabian Sea\n",
            "Keyword Query: Asauad\n",
            "Keyword Query: Sardegna\n",
            "Keyword Query: arab cooperation council\n",
            "Keyword Query: world labor\n",
            "Keyword Query: islamic conference\n",
            "Keyword Query: 30 group\n",
            "Keyword Query: caribbean economic\n",
            "Keyword Query: slovakia hungary\n",
            "Keyword Query: mongolia china\n",
            "Keyword Query: niger algeria\n",
            "Keyword Query: kuwait saudi arabia\n",
            "Keyword Query: lebanon syria\n",
            "Keyword Query: cameroon economy\n",
            "Keyword Query: nigeria gdp\n",
            "Keyword Query: mongolia republic\n",
            "Keyword Query: kiribati politics\n",
            "Keyword Query: poland language\n",
            "Keyword Query: spain galician\n",
            "Keyword Query: uzbekistan eastern orthodox\n",
            "Keyword Query: haiti religion\n",
            "Keyword Query: suriname ethnic_group\n",
            "Keyword Query: slovakia german\n",
            "Keyword Query: poland cape verde organization\n",
            "Keyword Query: saint kitts cambodia\n",
            "Keyword Query: marshall islands grenadines organization\n",
            "Keyword Query: czech republic cote divoire organization\n",
            "Keyword Query: panama oman\n",
            "Keyword Query: iceland mali\n",
            "Keyword Query: guyana sierra leone\n",
            "Keyword Query: mauritius india\n",
            "Keyword Query: vanuatu afghanistan\n",
            "Keyword Query: libya australia\n",
            "Keyword Query: hutu africa\n",
            "Keyword Query: serb europe\n",
            "Keyword Query: uzbek asia\n",
            "Keyword Query: rhein germany\n",
            "Keyword Query: egypt nile\n"
          ]
        }
      ]
    },
    {
      "cell_type": "code",
      "source": [
        "evaluation=lathe.evaluate_queryset(results)\n",
        "evaluation.metrics()"
      ],
      "metadata": {
        "colab": {
          "base_uri": "https://localhost:8080/",
          "height": 134
        },
        "id": "Z-FOHKoh_eG9",
        "outputId": "4359fd73-47d9-42cc-f804-02222545f25c"
      },
      "execution_count": null,
      "outputs": [
        {
          "output_type": "display_data",
          "data": {
            "text/plain": [
              "       MRR   P@1   P@2   P@3   P@4   P@5   P@6   P@7   P@8   P@9  P@10\n",
              "QMs   0.94  0.88  1.00  1.00  1.00  1.00  1.00  1.00  1.00  1.00  1.00\n",
              "CJNs  0.95  0.94  0.96  0.96  0.96  0.96  0.96  0.96  0.96  0.96  0.96"
            ],
            "text/html": [
              "\n",
              "  <div id=\"df-f28dc190-a00e-4f16-8c77-fb6b77b6a761\">\n",
              "    <div class=\"colab-df-container\">\n",
              "      <div>\n",
              "<style scoped>\n",
              "    .dataframe tbody tr th:only-of-type {\n",
              "        vertical-align: middle;\n",
              "    }\n",
              "\n",
              "    .dataframe tbody tr th {\n",
              "        vertical-align: top;\n",
              "    }\n",
              "\n",
              "    .dataframe thead th {\n",
              "        text-align: right;\n",
              "    }\n",
              "</style>\n",
              "<table border=\"1\" class=\"dataframe\">\n",
              "  <thead>\n",
              "    <tr style=\"text-align: right;\">\n",
              "      <th></th>\n",
              "      <th>MRR</th>\n",
              "      <th>P@1</th>\n",
              "      <th>P@2</th>\n",
              "      <th>P@3</th>\n",
              "      <th>P@4</th>\n",
              "      <th>P@5</th>\n",
              "      <th>P@6</th>\n",
              "      <th>P@7</th>\n",
              "      <th>P@8</th>\n",
              "      <th>P@9</th>\n",
              "      <th>P@10</th>\n",
              "    </tr>\n",
              "  </thead>\n",
              "  <tbody>\n",
              "    <tr>\n",
              "      <th>QMs</th>\n",
              "      <td>0.94</td>\n",
              "      <td>0.88</td>\n",
              "      <td>1.00</td>\n",
              "      <td>1.00</td>\n",
              "      <td>1.00</td>\n",
              "      <td>1.00</td>\n",
              "      <td>1.00</td>\n",
              "      <td>1.00</td>\n",
              "      <td>1.00</td>\n",
              "      <td>1.00</td>\n",
              "      <td>1.00</td>\n",
              "    </tr>\n",
              "    <tr>\n",
              "      <th>CJNs</th>\n",
              "      <td>0.95</td>\n",
              "      <td>0.94</td>\n",
              "      <td>0.96</td>\n",
              "      <td>0.96</td>\n",
              "      <td>0.96</td>\n",
              "      <td>0.96</td>\n",
              "      <td>0.96</td>\n",
              "      <td>0.96</td>\n",
              "      <td>0.96</td>\n",
              "      <td>0.96</td>\n",
              "      <td>0.96</td>\n",
              "    </tr>\n",
              "  </tbody>\n",
              "</table>\n",
              "</div>\n",
              "      <button class=\"colab-df-convert\" onclick=\"convertToInteractive('df-f28dc190-a00e-4f16-8c77-fb6b77b6a761')\"\n",
              "              title=\"Convert this dataframe to an interactive table.\"\n",
              "              style=\"display:none;\">\n",
              "        \n",
              "  <svg xmlns=\"http://www.w3.org/2000/svg\" height=\"24px\"viewBox=\"0 0 24 24\"\n",
              "       width=\"24px\">\n",
              "    <path d=\"M0 0h24v24H0V0z\" fill=\"none\"/>\n",
              "    <path d=\"M18.56 5.44l.94 2.06.94-2.06 2.06-.94-2.06-.94-.94-2.06-.94 2.06-2.06.94zm-11 1L8.5 8.5l.94-2.06 2.06-.94-2.06-.94L8.5 2.5l-.94 2.06-2.06.94zm10 10l.94 2.06.94-2.06 2.06-.94-2.06-.94-.94-2.06-.94 2.06-2.06.94z\"/><path d=\"M17.41 7.96l-1.37-1.37c-.4-.4-.92-.59-1.43-.59-.52 0-1.04.2-1.43.59L10.3 9.45l-7.72 7.72c-.78.78-.78 2.05 0 2.83L4 21.41c.39.39.9.59 1.41.59.51 0 1.02-.2 1.41-.59l7.78-7.78 2.81-2.81c.8-.78.8-2.07 0-2.86zM5.41 20L4 18.59l7.72-7.72 1.47 1.35L5.41 20z\"/>\n",
              "  </svg>\n",
              "      </button>\n",
              "      \n",
              "  <style>\n",
              "    .colab-df-container {\n",
              "      display:flex;\n",
              "      flex-wrap:wrap;\n",
              "      gap: 12px;\n",
              "    }\n",
              "\n",
              "    .colab-df-convert {\n",
              "      background-color: #E8F0FE;\n",
              "      border: none;\n",
              "      border-radius: 50%;\n",
              "      cursor: pointer;\n",
              "      display: none;\n",
              "      fill: #1967D2;\n",
              "      height: 32px;\n",
              "      padding: 0 0 0 0;\n",
              "      width: 32px;\n",
              "    }\n",
              "\n",
              "    .colab-df-convert:hover {\n",
              "      background-color: #E2EBFA;\n",
              "      box-shadow: 0px 1px 2px rgba(60, 64, 67, 0.3), 0px 1px 3px 1px rgba(60, 64, 67, 0.15);\n",
              "      fill: #174EA6;\n",
              "    }\n",
              "\n",
              "    [theme=dark] .colab-df-convert {\n",
              "      background-color: #3B4455;\n",
              "      fill: #D2E3FC;\n",
              "    }\n",
              "\n",
              "    [theme=dark] .colab-df-convert:hover {\n",
              "      background-color: #434B5C;\n",
              "      box-shadow: 0px 1px 3px 1px rgba(0, 0, 0, 0.15);\n",
              "      filter: drop-shadow(0px 1px 2px rgba(0, 0, 0, 0.3));\n",
              "      fill: #FFFFFF;\n",
              "    }\n",
              "  </style>\n",
              "\n",
              "      <script>\n",
              "        const buttonEl =\n",
              "          document.querySelector('#df-f28dc190-a00e-4f16-8c77-fb6b77b6a761 button.colab-df-convert');\n",
              "        buttonEl.style.display =\n",
              "          google.colab.kernel.accessAllowed ? 'block' : 'none';\n",
              "\n",
              "        async function convertToInteractive(key) {\n",
              "          const element = document.querySelector('#df-f28dc190-a00e-4f16-8c77-fb6b77b6a761');\n",
              "          const dataTable =\n",
              "            await google.colab.kernel.invokeFunction('convertToInteractive',\n",
              "                                                     [key], {});\n",
              "          if (!dataTable) return;\n",
              "\n",
              "          const docLinkHtml = 'Like what you see? Visit the ' +\n",
              "            '<a target=\"_blank\" href=https://colab.research.google.com/notebooks/data_table.ipynb>data table notebook</a>'\n",
              "            + ' to learn more about interactive tables.';\n",
              "          element.innerHTML = '';\n",
              "          dataTable['output_type'] = 'display_data';\n",
              "          await google.colab.output.renderOutput(dataTable, element);\n",
              "          const docLink = document.createElement('div');\n",
              "          docLink.innerHTML = docLinkHtml;\n",
              "          element.appendChild(docLink);\n",
              "        }\n",
              "      </script>\n",
              "    </div>\n",
              "  </div>\n",
              "  "
            ],
            "application/vnd.google.colaboratory.module+javascript": "\n      import \"https://ssl.gstatic.com/colaboratory/data_table/f872b2c2305463fd/data_table.js\";\n\n      window.createDataTable({\n        data: [[\"QMs\",\n{\n            'v': 0.94,\n            'f': \"0.94\",\n        },\n{\n            'v': 0.88,\n            'f': \"0.88\",\n        },\n{\n            'v': 1.0,\n            'f': \"1.0\",\n        },\n{\n            'v': 1.0,\n            'f': \"1.0\",\n        },\n{\n            'v': 1.0,\n            'f': \"1.0\",\n        },\n{\n            'v': 1.0,\n            'f': \"1.0\",\n        },\n{\n            'v': 1.0,\n            'f': \"1.0\",\n        },\n{\n            'v': 1.0,\n            'f': \"1.0\",\n        },\n{\n            'v': 1.0,\n            'f': \"1.0\",\n        },\n{\n            'v': 1.0,\n            'f': \"1.0\",\n        },\n{\n            'v': 1.0,\n            'f': \"1.0\",\n        }],\n [\"CJNs\",\n{\n            'v': 0.95,\n            'f': \"0.95\",\n        },\n{\n            'v': 0.94,\n            'f': \"0.94\",\n        },\n{\n            'v': 0.96,\n            'f': \"0.96\",\n        },\n{\n            'v': 0.96,\n            'f': \"0.96\",\n        },\n{\n            'v': 0.96,\n            'f': \"0.96\",\n        },\n{\n            'v': 0.96,\n            'f': \"0.96\",\n        },\n{\n            'v': 0.96,\n            'f': \"0.96\",\n        },\n{\n            'v': 0.96,\n            'f': \"0.96\",\n        },\n{\n            'v': 0.96,\n            'f': \"0.96\",\n        },\n{\n            'v': 0.96,\n            'f': \"0.96\",\n        },\n{\n            'v': 0.96,\n            'f': \"0.96\",\n        }]],\n        columns: [[\"string\", \"index\"], [\"number\", \"MRR\"], [\"number\", \"P@1\"], [\"number\", \"P@2\"], [\"number\", \"P@3\"], [\"number\", \"P@4\"], [\"number\", \"P@5\"], [\"number\", \"P@6\"], [\"number\", \"P@7\"], [\"number\", \"P@8\"], [\"number\", \"P@9\"], [\"number\", \"P@10\"]],\n        columnOptions: [{\"width\": \"1px\", \"className\": \"index_column\"}],\n        rowsPerPage: 25,\n        helpUrl: \"https://colab.research.google.com/notebooks/data_table.ipynb\",\n        suppressOutputScrolling: true,\n        minimumWidth: undefined,\n      });\n    "
          },
          "metadata": {}
        }
      ]
    },
    {
      "cell_type": "code",
      "source": [
        "evaluation.relevant_positions()"
      ],
      "metadata": {
        "colab": {
          "base_uri": "https://localhost:8080/",
          "height": 1000
        },
        "id": "JLwta5iE_-2l",
        "outputId": "40361692-4663-4932-ef6e-f537d5bc8b53"
      },
      "execution_count": null,
      "outputs": [
        {
          "output_type": "display_data",
          "data": {
            "text/plain": [
              "                                             Relevant Position    \n",
              "                               Keyword Query                QM CJN\n",
              "1                                   thailand                 1   1\n",
              "2                                netherlands                 1   1\n",
              "3                                    georgia                 1   1\n",
              "4                              country china                 2   1\n",
              "5                                 bangladesh                 1   1\n",
              "6                                 alexandria                 1   1\n",
              "7                                  sonsonate                 1   1\n",
              "8                                    xiaogan                 1   1\n",
              "9                              city glendale                 1   1\n",
              "10                              city granada                 1   1\n",
              "11                               Lake Kariba                 1   1\n",
              "12                                     Niger                 1   1\n",
              "13                               Arabian Sea                 1   1\n",
              "14                                    Asauad                 1   1\n",
              "15                                  Sardegna                 1   1\n",
              "16                  arab cooperation council                 1   1\n",
              "17                               world labor                 1   1\n",
              "18                        islamic conference                 1   1\n",
              "19                                  30 group                 1  -1\n",
              "20                        caribbean economic                 1   1\n",
              "21                          slovakia hungary                 1   1\n",
              "22                            mongolia china                 2   1\n",
              "23                             niger algeria                 2   1\n",
              "24                       kuwait saudi arabia                 1   1\n",
              "25                             lebanon syria                 1   1\n",
              "26                          cameroon economy                 1   1\n",
              "27                               nigeria gdp                 1   1\n",
              "28                         mongolia republic                 1   1\n",
              "29                         kiribati politics                 1   1\n",
              "30                           poland language                 1   1\n",
              "31                            spain galician                 1   1\n",
              "32               uzbekistan eastern orthodox                 1   1\n",
              "33                            haiti religion                 1   1\n",
              "34                     suriname ethnic_group                 1   1\n",
              "35                           slovakia german                 2   1\n",
              "36            poland cape verde organization                 1   1\n",
              "37                      saint kitts cambodia                 1   1\n",
              "38  marshall islands grenadines organization                 1   1\n",
              "39  czech republic cote divoire organization                 1  -1\n",
              "40                               panama oman                 1   1\n",
              "41                              iceland mali                 1   1\n",
              "42                       guyana sierra leone                 1   1\n",
              "43                           mauritius india                 1   1\n",
              "44                       vanuatu afghanistan                 1   1\n",
              "45                           libya australia                 2   1\n",
              "46                               hutu africa                 1   1\n",
              "47                               serb europe                 1   1\n",
              "48                                uzbek asia                 2   2\n",
              "49                             rhein germany                 1   1\n",
              "50                                egypt nile                 1   1"
            ],
            "text/html": [
              "\n",
              "  <div id=\"df-8089b34c-3c62-48b6-9908-d932bbfd4b59\">\n",
              "    <div class=\"colab-df-container\">\n",
              "      <div>\n",
              "<style scoped>\n",
              "    .dataframe tbody tr th:only-of-type {\n",
              "        vertical-align: middle;\n",
              "    }\n",
              "\n",
              "    .dataframe tbody tr th {\n",
              "        vertical-align: top;\n",
              "    }\n",
              "\n",
              "    .dataframe thead tr th {\n",
              "        text-align: left;\n",
              "    }\n",
              "</style>\n",
              "<table border=\"1\" class=\"dataframe\">\n",
              "  <thead>\n",
              "    <tr>\n",
              "      <th></th>\n",
              "      <th></th>\n",
              "      <th colspan=\"2\" halign=\"left\">Relevant Position</th>\n",
              "    </tr>\n",
              "    <tr>\n",
              "      <th></th>\n",
              "      <th>Keyword Query</th>\n",
              "      <th>QM</th>\n",
              "      <th>CJN</th>\n",
              "    </tr>\n",
              "  </thead>\n",
              "  <tbody>\n",
              "    <tr>\n",
              "      <th>1</th>\n",
              "      <td>thailand</td>\n",
              "      <td>1</td>\n",
              "      <td>1</td>\n",
              "    </tr>\n",
              "    <tr>\n",
              "      <th>2</th>\n",
              "      <td>netherlands</td>\n",
              "      <td>1</td>\n",
              "      <td>1</td>\n",
              "    </tr>\n",
              "    <tr>\n",
              "      <th>3</th>\n",
              "      <td>georgia</td>\n",
              "      <td>1</td>\n",
              "      <td>1</td>\n",
              "    </tr>\n",
              "    <tr>\n",
              "      <th>4</th>\n",
              "      <td>country china</td>\n",
              "      <td>2</td>\n",
              "      <td>1</td>\n",
              "    </tr>\n",
              "    <tr>\n",
              "      <th>5</th>\n",
              "      <td>bangladesh</td>\n",
              "      <td>1</td>\n",
              "      <td>1</td>\n",
              "    </tr>\n",
              "    <tr>\n",
              "      <th>6</th>\n",
              "      <td>alexandria</td>\n",
              "      <td>1</td>\n",
              "      <td>1</td>\n",
              "    </tr>\n",
              "    <tr>\n",
              "      <th>7</th>\n",
              "      <td>sonsonate</td>\n",
              "      <td>1</td>\n",
              "      <td>1</td>\n",
              "    </tr>\n",
              "    <tr>\n",
              "      <th>8</th>\n",
              "      <td>xiaogan</td>\n",
              "      <td>1</td>\n",
              "      <td>1</td>\n",
              "    </tr>\n",
              "    <tr>\n",
              "      <th>9</th>\n",
              "      <td>city glendale</td>\n",
              "      <td>1</td>\n",
              "      <td>1</td>\n",
              "    </tr>\n",
              "    <tr>\n",
              "      <th>10</th>\n",
              "      <td>city granada</td>\n",
              "      <td>1</td>\n",
              "      <td>1</td>\n",
              "    </tr>\n",
              "    <tr>\n",
              "      <th>11</th>\n",
              "      <td>Lake Kariba</td>\n",
              "      <td>1</td>\n",
              "      <td>1</td>\n",
              "    </tr>\n",
              "    <tr>\n",
              "      <th>12</th>\n",
              "      <td>Niger</td>\n",
              "      <td>1</td>\n",
              "      <td>1</td>\n",
              "    </tr>\n",
              "    <tr>\n",
              "      <th>13</th>\n",
              "      <td>Arabian Sea</td>\n",
              "      <td>1</td>\n",
              "      <td>1</td>\n",
              "    </tr>\n",
              "    <tr>\n",
              "      <th>14</th>\n",
              "      <td>Asauad</td>\n",
              "      <td>1</td>\n",
              "      <td>1</td>\n",
              "    </tr>\n",
              "    <tr>\n",
              "      <th>15</th>\n",
              "      <td>Sardegna</td>\n",
              "      <td>1</td>\n",
              "      <td>1</td>\n",
              "    </tr>\n",
              "    <tr>\n",
              "      <th>16</th>\n",
              "      <td>arab cooperation council</td>\n",
              "      <td>1</td>\n",
              "      <td>1</td>\n",
              "    </tr>\n",
              "    <tr>\n",
              "      <th>17</th>\n",
              "      <td>world labor</td>\n",
              "      <td>1</td>\n",
              "      <td>1</td>\n",
              "    </tr>\n",
              "    <tr>\n",
              "      <th>18</th>\n",
              "      <td>islamic conference</td>\n",
              "      <td>1</td>\n",
              "      <td>1</td>\n",
              "    </tr>\n",
              "    <tr>\n",
              "      <th>19</th>\n",
              "      <td>30 group</td>\n",
              "      <td>1</td>\n",
              "      <td>-1</td>\n",
              "    </tr>\n",
              "    <tr>\n",
              "      <th>20</th>\n",
              "      <td>caribbean economic</td>\n",
              "      <td>1</td>\n",
              "      <td>1</td>\n",
              "    </tr>\n",
              "    <tr>\n",
              "      <th>21</th>\n",
              "      <td>slovakia hungary</td>\n",
              "      <td>1</td>\n",
              "      <td>1</td>\n",
              "    </tr>\n",
              "    <tr>\n",
              "      <th>22</th>\n",
              "      <td>mongolia china</td>\n",
              "      <td>2</td>\n",
              "      <td>1</td>\n",
              "    </tr>\n",
              "    <tr>\n",
              "      <th>23</th>\n",
              "      <td>niger algeria</td>\n",
              "      <td>2</td>\n",
              "      <td>1</td>\n",
              "    </tr>\n",
              "    <tr>\n",
              "      <th>24</th>\n",
              "      <td>kuwait saudi arabia</td>\n",
              "      <td>1</td>\n",
              "      <td>1</td>\n",
              "    </tr>\n",
              "    <tr>\n",
              "      <th>25</th>\n",
              "      <td>lebanon syria</td>\n",
              "      <td>1</td>\n",
              "      <td>1</td>\n",
              "    </tr>\n",
              "    <tr>\n",
              "      <th>26</th>\n",
              "      <td>cameroon economy</td>\n",
              "      <td>1</td>\n",
              "      <td>1</td>\n",
              "    </tr>\n",
              "    <tr>\n",
              "      <th>27</th>\n",
              "      <td>nigeria gdp</td>\n",
              "      <td>1</td>\n",
              "      <td>1</td>\n",
              "    </tr>\n",
              "    <tr>\n",
              "      <th>28</th>\n",
              "      <td>mongolia republic</td>\n",
              "      <td>1</td>\n",
              "      <td>1</td>\n",
              "    </tr>\n",
              "    <tr>\n",
              "      <th>29</th>\n",
              "      <td>kiribati politics</td>\n",
              "      <td>1</td>\n",
              "      <td>1</td>\n",
              "    </tr>\n",
              "    <tr>\n",
              "      <th>30</th>\n",
              "      <td>poland language</td>\n",
              "      <td>1</td>\n",
              "      <td>1</td>\n",
              "    </tr>\n",
              "    <tr>\n",
              "      <th>31</th>\n",
              "      <td>spain galician</td>\n",
              "      <td>1</td>\n",
              "      <td>1</td>\n",
              "    </tr>\n",
              "    <tr>\n",
              "      <th>32</th>\n",
              "      <td>uzbekistan eastern orthodox</td>\n",
              "      <td>1</td>\n",
              "      <td>1</td>\n",
              "    </tr>\n",
              "    <tr>\n",
              "      <th>33</th>\n",
              "      <td>haiti religion</td>\n",
              "      <td>1</td>\n",
              "      <td>1</td>\n",
              "    </tr>\n",
              "    <tr>\n",
              "      <th>34</th>\n",
              "      <td>suriname ethnic_group</td>\n",
              "      <td>1</td>\n",
              "      <td>1</td>\n",
              "    </tr>\n",
              "    <tr>\n",
              "      <th>35</th>\n",
              "      <td>slovakia german</td>\n",
              "      <td>2</td>\n",
              "      <td>1</td>\n",
              "    </tr>\n",
              "    <tr>\n",
              "      <th>36</th>\n",
              "      <td>poland cape verde organization</td>\n",
              "      <td>1</td>\n",
              "      <td>1</td>\n",
              "    </tr>\n",
              "    <tr>\n",
              "      <th>37</th>\n",
              "      <td>saint kitts cambodia</td>\n",
              "      <td>1</td>\n",
              "      <td>1</td>\n",
              "    </tr>\n",
              "    <tr>\n",
              "      <th>38</th>\n",
              "      <td>marshall islands grenadines organization</td>\n",
              "      <td>1</td>\n",
              "      <td>1</td>\n",
              "    </tr>\n",
              "    <tr>\n",
              "      <th>39</th>\n",
              "      <td>czech republic cote divoire organization</td>\n",
              "      <td>1</td>\n",
              "      <td>-1</td>\n",
              "    </tr>\n",
              "    <tr>\n",
              "      <th>40</th>\n",
              "      <td>panama oman</td>\n",
              "      <td>1</td>\n",
              "      <td>1</td>\n",
              "    </tr>\n",
              "    <tr>\n",
              "      <th>41</th>\n",
              "      <td>iceland mali</td>\n",
              "      <td>1</td>\n",
              "      <td>1</td>\n",
              "    </tr>\n",
              "    <tr>\n",
              "      <th>42</th>\n",
              "      <td>guyana sierra leone</td>\n",
              "      <td>1</td>\n",
              "      <td>1</td>\n",
              "    </tr>\n",
              "    <tr>\n",
              "      <th>43</th>\n",
              "      <td>mauritius india</td>\n",
              "      <td>1</td>\n",
              "      <td>1</td>\n",
              "    </tr>\n",
              "    <tr>\n",
              "      <th>44</th>\n",
              "      <td>vanuatu afghanistan</td>\n",
              "      <td>1</td>\n",
              "      <td>1</td>\n",
              "    </tr>\n",
              "    <tr>\n",
              "      <th>45</th>\n",
              "      <td>libya australia</td>\n",
              "      <td>2</td>\n",
              "      <td>1</td>\n",
              "    </tr>\n",
              "    <tr>\n",
              "      <th>46</th>\n",
              "      <td>hutu africa</td>\n",
              "      <td>1</td>\n",
              "      <td>1</td>\n",
              "    </tr>\n",
              "    <tr>\n",
              "      <th>47</th>\n",
              "      <td>serb europe</td>\n",
              "      <td>1</td>\n",
              "      <td>1</td>\n",
              "    </tr>\n",
              "    <tr>\n",
              "      <th>48</th>\n",
              "      <td>uzbek asia</td>\n",
              "      <td>2</td>\n",
              "      <td>2</td>\n",
              "    </tr>\n",
              "    <tr>\n",
              "      <th>49</th>\n",
              "      <td>rhein germany</td>\n",
              "      <td>1</td>\n",
              "      <td>1</td>\n",
              "    </tr>\n",
              "    <tr>\n",
              "      <th>50</th>\n",
              "      <td>egypt nile</td>\n",
              "      <td>1</td>\n",
              "      <td>1</td>\n",
              "    </tr>\n",
              "  </tbody>\n",
              "</table>\n",
              "</div>\n",
              "      <button class=\"colab-df-convert\" onclick=\"convertToInteractive('df-8089b34c-3c62-48b6-9908-d932bbfd4b59')\"\n",
              "              title=\"Convert this dataframe to an interactive table.\"\n",
              "              style=\"display:none;\">\n",
              "        \n",
              "  <svg xmlns=\"http://www.w3.org/2000/svg\" height=\"24px\"viewBox=\"0 0 24 24\"\n",
              "       width=\"24px\">\n",
              "    <path d=\"M0 0h24v24H0V0z\" fill=\"none\"/>\n",
              "    <path d=\"M18.56 5.44l.94 2.06.94-2.06 2.06-.94-2.06-.94-.94-2.06-.94 2.06-2.06.94zm-11 1L8.5 8.5l.94-2.06 2.06-.94-2.06-.94L8.5 2.5l-.94 2.06-2.06.94zm10 10l.94 2.06.94-2.06 2.06-.94-2.06-.94-.94-2.06-.94 2.06-2.06.94z\"/><path d=\"M17.41 7.96l-1.37-1.37c-.4-.4-.92-.59-1.43-.59-.52 0-1.04.2-1.43.59L10.3 9.45l-7.72 7.72c-.78.78-.78 2.05 0 2.83L4 21.41c.39.39.9.59 1.41.59.51 0 1.02-.2 1.41-.59l7.78-7.78 2.81-2.81c.8-.78.8-2.07 0-2.86zM5.41 20L4 18.59l7.72-7.72 1.47 1.35L5.41 20z\"/>\n",
              "  </svg>\n",
              "      </button>\n",
              "      \n",
              "  <style>\n",
              "    .colab-df-container {\n",
              "      display:flex;\n",
              "      flex-wrap:wrap;\n",
              "      gap: 12px;\n",
              "    }\n",
              "\n",
              "    .colab-df-convert {\n",
              "      background-color: #E8F0FE;\n",
              "      border: none;\n",
              "      border-radius: 50%;\n",
              "      cursor: pointer;\n",
              "      display: none;\n",
              "      fill: #1967D2;\n",
              "      height: 32px;\n",
              "      padding: 0 0 0 0;\n",
              "      width: 32px;\n",
              "    }\n",
              "\n",
              "    .colab-df-convert:hover {\n",
              "      background-color: #E2EBFA;\n",
              "      box-shadow: 0px 1px 2px rgba(60, 64, 67, 0.3), 0px 1px 3px 1px rgba(60, 64, 67, 0.15);\n",
              "      fill: #174EA6;\n",
              "    }\n",
              "\n",
              "    [theme=dark] .colab-df-convert {\n",
              "      background-color: #3B4455;\n",
              "      fill: #D2E3FC;\n",
              "    }\n",
              "\n",
              "    [theme=dark] .colab-df-convert:hover {\n",
              "      background-color: #434B5C;\n",
              "      box-shadow: 0px 1px 3px 1px rgba(0, 0, 0, 0.15);\n",
              "      filter: drop-shadow(0px 1px 2px rgba(0, 0, 0, 0.3));\n",
              "      fill: #FFFFFF;\n",
              "    }\n",
              "  </style>\n",
              "\n",
              "      <script>\n",
              "        const buttonEl =\n",
              "          document.querySelector('#df-8089b34c-3c62-48b6-9908-d932bbfd4b59 button.colab-df-convert');\n",
              "        buttonEl.style.display =\n",
              "          google.colab.kernel.accessAllowed ? 'block' : 'none';\n",
              "\n",
              "        async function convertToInteractive(key) {\n",
              "          const element = document.querySelector('#df-8089b34c-3c62-48b6-9908-d932bbfd4b59');\n",
              "          const dataTable =\n",
              "            await google.colab.kernel.invokeFunction('convertToInteractive',\n",
              "                                                     [key], {});\n",
              "          if (!dataTable) return;\n",
              "\n",
              "          const docLinkHtml = 'Like what you see? Visit the ' +\n",
              "            '<a target=\"_blank\" href=https://colab.research.google.com/notebooks/data_table.ipynb>data table notebook</a>'\n",
              "            + ' to learn more about interactive tables.';\n",
              "          element.innerHTML = '';\n",
              "          dataTable['output_type'] = 'display_data';\n",
              "          await google.colab.output.renderOutput(dataTable, element);\n",
              "          const docLink = document.createElement('div');\n",
              "          docLink.innerHTML = docLinkHtml;\n",
              "          element.appendChild(docLink);\n",
              "        }\n",
              "      </script>\n",
              "    </div>\n",
              "  </div>\n",
              "  "
            ]
          },
          "metadata": {}
        }
      ]
    },
    {
      "cell_type": "code",
      "source": [
        "list(schema_graph.vertices())"
      ],
      "metadata": {
        "colab": {
          "base_uri": "https://localhost:8080/"
        },
        "id": "p1cG-Bd3s31i",
        "outputId": "886361ea-8070-48fc-f33c-36e7c3287992"
      },
      "execution_count": 45,
      "outputs": [
        {
          "output_type": "execute_result",
          "data": {
            "text/plain": [
              "['casting',\n",
              " 'movie',\n",
              " 'movieinfo',\n",
              " 'person',\n",
              " 'character',\n",
              " 'role',\n",
              " 'borders',\n",
              " 'country',\n",
              " 'city',\n",
              " 'province',\n",
              " 'economy',\n",
              " 'encompasses',\n",
              " 'continent',\n",
              " 'ethnic_group',\n",
              " 'geo_desert',\n",
              " 'desert',\n",
              " 'geo_island',\n",
              " 'island',\n",
              " 'geo_lake',\n",
              " 'lake',\n",
              " 'geo_mountain',\n",
              " 'mountain',\n",
              " 'geo_river',\n",
              " 'river',\n",
              " 'geo_sea',\n",
              " 'sea',\n",
              " 'is_member',\n",
              " 'organization',\n",
              " 'language',\n",
              " 'located',\n",
              " 'merges_with',\n",
              " 'politics',\n",
              " 'population',\n",
              " 'religion']"
            ]
          },
          "metadata": {},
          "execution_count": 45
        }
      ]
    },
    {
      "cell_type": "code",
      "source": [
        "schema_graph._graph_dict = {}\n",
        "schema_graph._edges_info = {}"
      ],
      "metadata": {
        "id": "GKPHWtput-1L"
      },
      "execution_count": 47,
      "outputs": []
    },
    {
      "cell_type": "code",
      "source": [
        "from graphviz import Digraph\n",
        "\n",
        "schema_graph=lathe.index_handler.schema_graph\n",
        "\n",
        "g= Digraph(\n",
        "    graph_attr={'nodesep':'0.2','ranksep':'0.25'},\n",
        "    node_attr={'fontsize':\"9.0\",},\n",
        "    edge_attr={'arrowsize':'0.9',},\n",
        " )\n",
        "for id in schema_graph.vertices():\n",
        "    g.node(id)\n",
        "for id_a,id_b in schema_graph.edges():\n",
        "    g.edge(id_a,id_b)\n",
        "# printmd('---')\n",
        "print('Graph:')\n",
        "display(g)"
      ],
      "metadata": {
        "colab": {
          "base_uri": "https://localhost:8080/",
          "height": 312
        },
        "id": "JwNDuD7bsnUm",
        "outputId": "c51b842b-3c99-4965-cbad-27cb4b8f706a"
      },
      "execution_count": 54,
      "outputs": [
        {
          "output_type": "stream",
          "name": "stdout",
          "text": [
            "Graph:\n"
          ]
        },
        {
          "output_type": "display_data",
          "data": {
            "text/plain": [
              "<graphviz.dot.Digraph at 0x7f5f5544b750>"
            ],
            "image/svg+xml": "<?xml version=\"1.0\" encoding=\"UTF-8\" standalone=\"no\"?>\n<!DOCTYPE svg PUBLIC \"-//W3C//DTD SVG 1.1//EN\"\n \"http://www.w3.org/Graphics/SVG/1.1/DTD/svg11.dtd\">\n<!-- Generated by graphviz version 2.40.1 (20161225.0304)\n -->\n<!-- Title: %3 Pages: 1 -->\n<svg width=\"1044pt\" height=\"206pt\"\n viewBox=\"0.00 0.00 1043.98 206.00\" xmlns=\"http://www.w3.org/2000/svg\" xmlns:xlink=\"http://www.w3.org/1999/xlink\">\n<g id=\"graph0\" class=\"graph\" transform=\"scale(1 1) rotate(0) translate(4 202)\">\n<title>%3</title>\n<polygon fill=\"#ffffff\" stroke=\"transparent\" points=\"-4,4 -4,-202 1039.9757,-202 1039.9757,4 -4,4\"/>\n<!-- casting -->\n<g id=\"node1\" class=\"node\">\n<title>casting</title>\n<ellipse fill=\"none\" stroke=\"#000000\" cx=\"134.5996\" cy=\"-180\" rx=\"27\" ry=\"18\"/>\n<text text-anchor=\"middle\" x=\"134.5996\" y=\"-177.8\" font-family=\"Times,serif\" font-size=\"9.00\" fill=\"#000000\">casting</text>\n</g>\n<!-- movie -->\n<g id=\"node2\" class=\"node\">\n<title>movie</title>\n<ellipse fill=\"none\" stroke=\"#000000\" cx=\"30.5996\" cy=\"-126\" rx=\"27\" ry=\"18\"/>\n<text text-anchor=\"middle\" x=\"30.5996\" y=\"-123.8\" font-family=\"Times,serif\" font-size=\"9.00\" fill=\"#000000\">movie</text>\n</g>\n<!-- casting&#45;&gt;movie -->\n<g id=\"edge1\" class=\"edge\">\n<title>casting&#45;&gt;movie</title>\n<path fill=\"none\" stroke=\"#000000\" d=\"M113.1199,-169.0367C99.2523,-161.9381 80.8342,-152.4717 64.5996,-144 63.0452,-143.1889 61.4522,-142.3549 59.8447,-141.5112\"/>\n<polygon fill=\"#000000\" stroke=\"#000000\" points=\"61.2302,-138.6808 51.7993,-137.2732 58.294,-144.2547 61.2302,-138.6808\"/>\n</g>\n<!-- person -->\n<g id=\"node4\" class=\"node\">\n<title>person</title>\n<ellipse fill=\"none\" stroke=\"#000000\" cx=\"98.5996\" cy=\"-126\" rx=\"27\" ry=\"18\"/>\n<text text-anchor=\"middle\" x=\"98.5996\" y=\"-123.8\" font-family=\"Times,serif\" font-size=\"9.00\" fill=\"#000000\">person</text>\n</g>\n<!-- casting&#45;&gt;person -->\n<g id=\"edge3\" class=\"edge\">\n<title>casting&#45;&gt;person</title>\n<path fill=\"none\" stroke=\"#000000\" d=\"M123.6028,-163.5048C120.863,-159.3951 117.8667,-154.9008 114.9303,-150.4961\"/>\n<polygon fill=\"#000000\" stroke=\"#000000\" points=\"117.3908,-148.508 109.7775,-142.7669 112.1489,-152.0026 117.3908,-148.508\"/>\n</g>\n<!-- character -->\n<g id=\"node5\" class=\"node\">\n<title>character</title>\n<ellipse fill=\"none\" stroke=\"#000000\" cx=\"167.5996\" cy=\"-126\" rx=\"27.9273\" ry=\"18\"/>\n<text text-anchor=\"middle\" x=\"167.5996\" y=\"-123.8\" font-family=\"Times,serif\" font-size=\"9.00\" fill=\"#000000\">character</text>\n</g>\n<!-- casting&#45;&gt;character -->\n<g id=\"edge4\" class=\"edge\">\n<title>casting&#45;&gt;character</title>\n<path fill=\"none\" stroke=\"#000000\" d=\"M144.8601,-163.2101C147.2582,-159.2858 149.8626,-155.0241 152.4241,-150.8325\"/>\n<polygon fill=\"#000000\" stroke=\"#000000\" points=\"155.2265,-152.2877 157.2317,-142.9655 149.8508,-149.0025 155.2265,-152.2877\"/>\n</g>\n<!-- role -->\n<g id=\"node6\" class=\"node\">\n<title>role</title>\n<ellipse fill=\"none\" stroke=\"#000000\" cx=\"236.5996\" cy=\"-126\" rx=\"27\" ry=\"18\"/>\n<text text-anchor=\"middle\" x=\"236.5996\" y=\"-123.8\" font-family=\"Times,serif\" font-size=\"9.00\" fill=\"#000000\">role</text>\n</g>\n<!-- casting&#45;&gt;role -->\n<g id=\"edge2\" class=\"edge\">\n<title>casting&#45;&gt;role</title>\n<path fill=\"none\" stroke=\"#000000\" d=\"M156.2311,-168.548C171.0711,-160.6916 190.9435,-150.1709 207.2143,-141.5569\"/>\n<polygon fill=\"#000000\" stroke=\"#000000\" points=\"208.8687,-144.2453 215.3489,-137.2503 205.921,-138.6774 208.8687,-144.2453\"/>\n</g>\n<!-- movieinfo -->\n<g id=\"node3\" class=\"node\">\n<title>movieinfo</title>\n<ellipse fill=\"none\" stroke=\"#000000\" cx=\"30.5996\" cy=\"-180\" rx=\"30.6995\" ry=\"18\"/>\n<text text-anchor=\"middle\" x=\"30.5996\" y=\"-177.8\" font-family=\"Times,serif\" font-size=\"9.00\" fill=\"#000000\">movieinfo</text>\n</g>\n<!-- movieinfo&#45;&gt;movie -->\n<g id=\"edge5\" class=\"edge\">\n<title>movieinfo&#45;&gt;movie</title>\n<path fill=\"none\" stroke=\"#000000\" d=\"M30.5996,-161.7181C30.5996,-158.9911 30.5996,-156.1312 30.5996,-153.2673\"/>\n<polygon fill=\"#000000\" stroke=\"#000000\" points=\"33.7497,-153.2631 30.5996,-144.2631 27.4497,-153.2631 33.7497,-153.2631\"/>\n</g>\n<!-- borders -->\n<g id=\"node7\" class=\"node\">\n<title>borders</title>\n<ellipse fill=\"none\" stroke=\"#000000\" cx=\"641.5996\" cy=\"-180\" rx=\"27\" ry=\"18\"/>\n<text text-anchor=\"middle\" x=\"641.5996\" y=\"-177.8\" font-family=\"Times,serif\" font-size=\"9.00\" fill=\"#000000\">borders</text>\n</g>\n<!-- country -->\n<g id=\"node8\" class=\"node\">\n<title>country</title>\n<ellipse fill=\"none\" stroke=\"#000000\" cx=\"501.5996\" cy=\"-126\" rx=\"27\" ry=\"18\"/>\n<text text-anchor=\"middle\" x=\"501.5996\" y=\"-123.8\" font-family=\"Times,serif\" font-size=\"9.00\" fill=\"#000000\">country</text>\n</g>\n<!-- borders&#45;&gt;country -->\n<g id=\"edge6\" class=\"edge\">\n<title>borders&#45;&gt;country</title>\n<path fill=\"none\" stroke=\"#000000\" d=\"M620.6507,-168.1956C616.3949,-166.0014 611.9029,-163.8275 607.5996,-162 583.9256,-151.9463 576.9504,-152.2807 552.5996,-144 546.6269,-141.969 540.2764,-139.7642 534.1578,-137.6167\"/>\n<polygon fill=\"#000000\" stroke=\"#000000\" points=\"534.9656,-134.5615 525.4302,-134.5384 532.87,-140.5028 534.9656,-134.5615\"/>\n</g>\n<!-- city -->\n<g id=\"node9\" class=\"node\">\n<title>city</title>\n<ellipse fill=\"none\" stroke=\"#000000\" cx=\"533.5996\" cy=\"-72\" rx=\"27\" ry=\"18\"/>\n<text text-anchor=\"middle\" x=\"533.5996\" y=\"-69.8\" font-family=\"Times,serif\" font-size=\"9.00\" fill=\"#000000\">city</text>\n</g>\n<!-- country&#45;&gt;city -->\n<g id=\"edge7\" class=\"edge\">\n<title>country&#45;&gt;city</title>\n<path fill=\"none\" stroke=\"#000000\" d=\"M511.5492,-109.2101C513.8746,-105.2858 516.4001,-101.0241 518.884,-96.8325\"/>\n<polygon fill=\"#000000\" stroke=\"#000000\" points=\"521.6676,-98.3141 523.5459,-88.9655 516.2477,-95.1023 521.6676,-98.3141\"/>\n</g>\n<!-- province -->\n<g id=\"node10\" class=\"node\">\n<title>province</title>\n<ellipse fill=\"none\" stroke=\"#000000\" cx=\"533.5996\" cy=\"-18\" rx=\"27.2716\" ry=\"18\"/>\n<text text-anchor=\"middle\" x=\"533.5996\" y=\"-15.8\" font-family=\"Times,serif\" font-size=\"9.00\" fill=\"#000000\">province</text>\n</g>\n<!-- city&#45;&gt;province -->\n<g id=\"edge8\" class=\"edge\">\n<title>city&#45;&gt;province</title>\n<path fill=\"none\" stroke=\"#000000\" d=\"M528.619,-54.0188C528.4367,-51.0734 528.3469,-47.9663 528.3496,-44.8616\"/>\n<polygon fill=\"#000000\" stroke=\"#000000\" points=\"531.5026,-44.8131 528.6356,-35.719 525.2057,-44.6161 531.5026,-44.8131\"/>\n</g>\n<!-- province&#45;&gt;country -->\n<g id=\"edge9\" class=\"edge\">\n<title>province&#45;&gt;country</title>\n<path fill=\"none\" stroke=\"#000000\" d=\"M515.7275,-31.8732C509.3741,-37.9045 502.9662,-45.5321 499.5996,-54 493.9691,-68.162 494.1529,-85.1582 495.8911,-99.0803\"/>\n<polygon fill=\"#000000\" stroke=\"#000000\" points=\"492.8056,-99.7402 497.2905,-108.1549 499.032,-98.78 492.8056,-99.7402\"/>\n</g>\n<!-- province&#45;&gt;city -->\n<g id=\"edge10\" class=\"edge\">\n<title>province&#45;&gt;city</title>\n<path fill=\"none\" stroke=\"#000000\" d=\"M538.5636,-35.719C538.7514,-38.6546 538.8468,-41.7569 538.8495,-44.8616\"/>\n<polygon fill=\"#000000\" stroke=\"#000000\" points=\"535.6962,-44.93 538.5801,-54.0188 541.9935,-45.1153 535.6962,-44.93\"/>\n</g>\n<!-- economy -->\n<g id=\"node11\" class=\"node\">\n<title>economy</title>\n<ellipse fill=\"none\" stroke=\"#000000\" cx=\"203.5996\" cy=\"-180\" rx=\"28.0819\" ry=\"18\"/>\n<text text-anchor=\"middle\" x=\"203.5996\" y=\"-177.8\" font-family=\"Times,serif\" font-size=\"9.00\" fill=\"#000000\">economy</text>\n</g>\n<!-- economy&#45;&gt;country -->\n<g id=\"edge11\" class=\"edge\">\n<title>economy&#45;&gt;country</title>\n<path fill=\"none\" stroke=\"#000000\" d=\"M224.8242,-167.9604C229.5677,-165.6775 234.6598,-163.5286 239.5996,-162 317.8469,-137.7868 414.2705,-129.8379 465.5395,-127.2437\"/>\n<polygon fill=\"#000000\" stroke=\"#000000\" points=\"465.7305,-130.3883 474.5725,-126.8189 465.4344,-124.0953 465.7305,-130.3883\"/>\n</g>\n<!-- encompasses -->\n<g id=\"node12\" class=\"node\">\n<title>encompasses</title>\n<ellipse fill=\"none\" stroke=\"#000000\" cx=\"854.5996\" cy=\"-180\" rx=\"36.2466\" ry=\"18\"/>\n<text text-anchor=\"middle\" x=\"854.5996\" y=\"-177.8\" font-family=\"Times,serif\" font-size=\"9.00\" fill=\"#000000\">encompasses</text>\n</g>\n<!-- encompasses&#45;&gt;country -->\n<g id=\"edge13\" class=\"edge\">\n<title>encompasses&#45;&gt;country</title>\n<path fill=\"none\" stroke=\"#000000\" d=\"M820.5871,-173.1768C801.0524,-169.4494 776.0203,-164.996 753.5996,-162 664.6989,-150.1205 640.2387,-163.0743 552.5996,-144 546.312,-142.6316 539.736,-140.7058 533.4766,-138.6193\"/>\n<polygon fill=\"#000000\" stroke=\"#000000\" points=\"534.1381,-135.5126 524.6027,-135.4933 532.0448,-141.4547 534.1381,-135.5126\"/>\n</g>\n<!-- continent -->\n<g id=\"node13\" class=\"node\">\n<title>continent</title>\n<ellipse fill=\"none\" stroke=\"#000000\" cx=\"910.5996\" cy=\"-126\" rx=\"28.0819\" ry=\"18\"/>\n<text text-anchor=\"middle\" x=\"910.5996\" y=\"-123.8\" font-family=\"Times,serif\" font-size=\"9.00\" fill=\"#000000\">continent</text>\n</g>\n<!-- encompasses&#45;&gt;continent -->\n<g id=\"edge12\" class=\"edge\">\n<title>encompasses&#45;&gt;continent</title>\n<path fill=\"none\" stroke=\"#000000\" d=\"M871.4014,-163.7982C876.6568,-158.7305 882.5424,-153.0551 888.1231,-147.6737\"/>\n<polygon fill=\"#000000\" stroke=\"#000000\" points=\"890.6665,-149.5972 894.9586,-141.0824 886.2934,-145.0621 890.6665,-149.5972\"/>\n</g>\n<!-- ethnic_group -->\n<g id=\"node14\" class=\"node\">\n<title>ethnic_group</title>\n<ellipse fill=\"none\" stroke=\"#000000\" cx=\"282.5996\" cy=\"-180\" rx=\"36.2466\" ry=\"18\"/>\n<text text-anchor=\"middle\" x=\"282.5996\" y=\"-177.8\" font-family=\"Times,serif\" font-size=\"9.00\" fill=\"#000000\">ethnic_group</text>\n</g>\n<!-- ethnic_group&#45;&gt;country -->\n<g id=\"edge14\" class=\"edge\">\n<title>ethnic_group&#45;&gt;country</title>\n<path fill=\"none\" stroke=\"#000000\" d=\"M309.6011,-167.759C314.8417,-165.6517 320.3407,-163.6216 325.5996,-162 373.2037,-147.3212 429.9196,-136.945 465.8451,-131.2168\"/>\n<polygon fill=\"#000000\" stroke=\"#000000\" points=\"466.5512,-134.2947 474.9568,-129.7927 465.5783,-128.0703 466.5512,-134.2947\"/>\n</g>\n<!-- geo_desert -->\n<g id=\"node15\" class=\"node\">\n<title>geo_desert</title>\n<ellipse fill=\"none\" stroke=\"#000000\" cx=\"352.5996\" cy=\"-72\" rx=\"31.5104\" ry=\"18\"/>\n<text text-anchor=\"middle\" x=\"352.5996\" y=\"-69.8\" font-family=\"Times,serif\" font-size=\"9.00\" fill=\"#000000\">geo_desert</text>\n</g>\n<!-- geo_desert&#45;&gt;province -->\n<g id=\"edge16\" class=\"edge\">\n<title>geo_desert&#45;&gt;province</title>\n<path fill=\"none\" stroke=\"#000000\" d=\"M376.6447,-60.0356C381.5251,-57.8546 386.6733,-55.7264 391.5996,-54 423.1352,-42.9482 432.2096,-44.2177 464.5996,-36 475.9432,-33.122 488.3178,-29.9151 499.4151,-27.0146\"/>\n<polygon fill=\"#000000\" stroke=\"#000000\" points=\"500.4781,-29.9925 508.3858,-24.6642 498.8813,-23.8982 500.4781,-29.9925\"/>\n</g>\n<!-- desert -->\n<g id=\"node16\" class=\"node\">\n<title>desert</title>\n<ellipse fill=\"none\" stroke=\"#000000\" cx=\"352.5996\" cy=\"-18\" rx=\"27\" ry=\"18\"/>\n<text text-anchor=\"middle\" x=\"352.5996\" y=\"-15.8\" font-family=\"Times,serif\" font-size=\"9.00\" fill=\"#000000\">desert</text>\n</g>\n<!-- geo_desert&#45;&gt;desert -->\n<g id=\"edge15\" class=\"edge\">\n<title>geo_desert&#45;&gt;desert</title>\n<path fill=\"none\" stroke=\"#000000\" d=\"M352.5996,-53.7181C352.5996,-50.9911 352.5996,-48.1312 352.5996,-45.2673\"/>\n<polygon fill=\"#000000\" stroke=\"#000000\" points=\"355.7497,-45.2631 352.5996,-36.2631 349.4497,-45.2631 355.7497,-45.2631\"/>\n</g>\n<!-- geo_island -->\n<g id=\"node17\" class=\"node\">\n<title>geo_island</title>\n<ellipse fill=\"none\" stroke=\"#000000\" cx=\"430.5996\" cy=\"-72\" rx=\"31.5104\" ry=\"18\"/>\n<text text-anchor=\"middle\" x=\"430.5996\" y=\"-69.8\" font-family=\"Times,serif\" font-size=\"9.00\" fill=\"#000000\">geo_island</text>\n</g>\n<!-- geo_island&#45;&gt;province -->\n<g id=\"edge18\" class=\"edge\">\n<title>geo_island&#45;&gt;province</title>\n<path fill=\"none\" stroke=\"#000000\" d=\"M453.9719,-59.7466C468.6954,-52.0274 487.8435,-41.9886 503.6727,-33.6898\"/>\n<polygon fill=\"#000000\" stroke=\"#000000\" points=\"505.5677,-36.2531 512.076,-29.2842 502.6424,-30.6734 505.5677,-36.2531\"/>\n</g>\n<!-- island -->\n<g id=\"node18\" class=\"node\">\n<title>island</title>\n<ellipse fill=\"none\" stroke=\"#000000\" cx=\"430.5996\" cy=\"-18\" rx=\"27\" ry=\"18\"/>\n<text text-anchor=\"middle\" x=\"430.5996\" y=\"-15.8\" font-family=\"Times,serif\" font-size=\"9.00\" fill=\"#000000\">island</text>\n</g>\n<!-- geo_island&#45;&gt;island -->\n<g id=\"edge17\" class=\"edge\">\n<title>geo_island&#45;&gt;island</title>\n<path fill=\"none\" stroke=\"#000000\" d=\"M430.5996,-53.7181C430.5996,-50.9911 430.5996,-48.1312 430.5996,-45.2673\"/>\n<polygon fill=\"#000000\" stroke=\"#000000\" points=\"433.7497,-45.2631 430.5996,-36.2631 427.4497,-45.2631 433.7497,-45.2631\"/>\n</g>\n<!-- geo_lake -->\n<g id=\"node19\" class=\"node\">\n<title>geo_lake</title>\n<ellipse fill=\"none\" stroke=\"#000000\" cx=\"723.5996\" cy=\"-72\" rx=\"27.9273\" ry=\"18\"/>\n<text text-anchor=\"middle\" x=\"723.5996\" y=\"-69.8\" font-family=\"Times,serif\" font-size=\"9.00\" fill=\"#000000\">geo_lake</text>\n</g>\n<!-- geo_lake&#45;&gt;province -->\n<g id=\"edge20\" class=\"edge\">\n<title>geo_lake&#45;&gt;province</title>\n<path fill=\"none\" stroke=\"#000000\" d=\"M702.7871,-59.8507C698.5201,-57.6849 693.989,-55.6097 689.5996,-54 654.5687,-41.1535 643.9516,-44.4099 607.5996,-36 594.7683,-33.0315 580.7188,-29.6479 568.3418,-26.6217\"/>\n<polygon fill=\"#000000\" stroke=\"#000000\" points=\"568.7424,-23.4766 559.2509,-24.39 567.2403,-29.5949 568.7424,-23.4766\"/>\n</g>\n<!-- lake -->\n<g id=\"node20\" class=\"node\">\n<title>lake</title>\n<ellipse fill=\"none\" stroke=\"#000000\" cx=\"841.5996\" cy=\"-18\" rx=\"27\" ry=\"18\"/>\n<text text-anchor=\"middle\" x=\"841.5996\" y=\"-15.8\" font-family=\"Times,serif\" font-size=\"9.00\" fill=\"#000000\">lake</text>\n</g>\n<!-- geo_lake&#45;&gt;lake -->\n<g id=\"edge19\" class=\"edge\">\n<title>geo_lake&#45;&gt;lake</title>\n<path fill=\"none\" stroke=\"#000000\" d=\"M745.3336,-60.5424C749.7007,-58.3196 754.2765,-56.0465 758.5996,-54 775.3325,-46.0789 794.2519,-37.8204 809.7973,-31.2143\"/>\n<polygon fill=\"#000000\" stroke=\"#000000\" points=\"811.4531,-33.9344 818.5182,-27.5307 809.0018,-28.1309 811.4531,-33.9344\"/>\n</g>\n<!-- geo_mountain -->\n<g id=\"node21\" class=\"node\">\n<title>geo_mountain</title>\n<ellipse fill=\"none\" stroke=\"#000000\" cx=\"643.5996\" cy=\"-72\" rx=\"38.8658\" ry=\"18\"/>\n<text text-anchor=\"middle\" x=\"643.5996\" y=\"-69.8\" font-family=\"Times,serif\" font-size=\"9.00\" fill=\"#000000\">geo_mountain</text>\n</g>\n<!-- geo_mountain&#45;&gt;province -->\n<g id=\"edge22\" class=\"edge\">\n<title>geo_mountain&#45;&gt;province</title>\n<path fill=\"none\" stroke=\"#000000\" d=\"M616.9716,-58.9281C600.9446,-51.0603 580.4913,-41.0196 563.8544,-32.8524\"/>\n<polygon fill=\"#000000\" stroke=\"#000000\" points=\"565.013,-29.9121 555.5459,-28.7736 562.2368,-35.5674 565.013,-29.9121\"/>\n</g>\n<!-- mountain -->\n<g id=\"node22\" class=\"node\">\n<title>mountain</title>\n<ellipse fill=\"none\" stroke=\"#000000\" cx=\"643.5996\" cy=\"-18\" rx=\"28.7356\" ry=\"18\"/>\n<text text-anchor=\"middle\" x=\"643.5996\" y=\"-15.8\" font-family=\"Times,serif\" font-size=\"9.00\" fill=\"#000000\">mountain</text>\n</g>\n<!-- geo_mountain&#45;&gt;mountain -->\n<g id=\"edge21\" class=\"edge\">\n<title>geo_mountain&#45;&gt;mountain</title>\n<path fill=\"none\" stroke=\"#000000\" d=\"M643.5996,-53.7181C643.5996,-50.9911 643.5996,-48.1312 643.5996,-45.2673\"/>\n<polygon fill=\"#000000\" stroke=\"#000000\" points=\"646.7497,-45.2631 643.5996,-36.2631 640.4497,-45.2631 646.7497,-45.2631\"/>\n</g>\n<!-- geo_river -->\n<g id=\"node23\" class=\"node\">\n<title>geo_river</title>\n<ellipse fill=\"none\" stroke=\"#000000\" cx=\"738.5996\" cy=\"-126\" rx=\"28.7356\" ry=\"18\"/>\n<text text-anchor=\"middle\" x=\"738.5996\" y=\"-123.8\" font-family=\"Times,serif\" font-size=\"9.00\" fill=\"#000000\">geo_river</text>\n</g>\n<!-- geo_river&#45;&gt;province -->\n<g id=\"edge24\" class=\"edge\">\n<title>geo_river&#45;&gt;province</title>\n<path fill=\"none\" stroke=\"#000000\" d=\"M710.7991,-121.0122C675.3189,-114.2894 616.2938,-101.7991 597.5996,-90 579.987,-78.8836 581.4232,-69.5784 567.5996,-54 563.4592,-49.3341 558.9344,-44.4209 554.5756,-39.7755\"/>\n<polygon fill=\"#000000\" stroke=\"#000000\" points=\"556.8468,-37.5927 548.3726,-33.2211 552.2711,-41.9231 556.8468,-37.5927\"/>\n</g>\n<!-- river -->\n<g id=\"node24\" class=\"node\">\n<title>river</title>\n<ellipse fill=\"none\" stroke=\"#000000\" cx=\"890.5996\" cy=\"-72\" rx=\"27\" ry=\"18\"/>\n<text text-anchor=\"middle\" x=\"890.5996\" y=\"-69.8\" font-family=\"Times,serif\" font-size=\"9.00\" fill=\"#000000\">river</text>\n</g>\n<!-- geo_river&#45;&gt;river -->\n<g id=\"edge23\" class=\"edge\">\n<title>geo_river&#45;&gt;river</title>\n<path fill=\"none\" stroke=\"#000000\" d=\"M763.6993,-117.083C789.4165,-107.9466 829.5246,-93.6977 857.7531,-83.6691\"/>\n<polygon fill=\"#000000\" stroke=\"#000000\" points=\"859.0413,-86.5544 866.4675,-80.5732 856.9322,-80.6179 859.0413,-86.5544\"/>\n</g>\n<!-- river&#45;&gt;lake -->\n<g id=\"edge25\" class=\"edge\">\n<title>river&#45;&gt;lake</title>\n<path fill=\"none\" stroke=\"#000000\" d=\"M876.4267,-56.381C871.9962,-51.4984 867.0142,-46.008 862.2337,-40.7396\"/>\n<polygon fill=\"#000000\" stroke=\"#000000\" points=\"864.291,-38.3193 855.9103,-33.771 859.6255,-42.5529 864.291,-38.3193\"/>\n</g>\n<!-- river&#45;&gt;river -->\n<g id=\"edge27\" class=\"edge\">\n<title>river&#45;&gt;river</title>\n<path fill=\"none\" stroke=\"#000000\" d=\"M913.3672,-82.0039C923.1897,-82.8229 931.5996,-79.4883 931.5996,-72 931.5996,-67.0858 927.9777,-63.9605 922.7117,-62.6239\"/>\n<polygon fill=\"#000000\" stroke=\"#000000\" points=\"922.5582,-59.4566 913.3672,-61.9961 922.1358,-65.7424 922.5582,-59.4566\"/>\n</g>\n<!-- sea -->\n<g id=\"node26\" class=\"node\">\n<title>sea</title>\n<ellipse fill=\"none\" stroke=\"#000000\" cx=\"947.5996\" cy=\"-18\" rx=\"27\" ry=\"18\"/>\n<text text-anchor=\"middle\" x=\"947.5996\" y=\"-15.8\" font-family=\"Times,serif\" font-size=\"9.00\" fill=\"#000000\">sea</text>\n</g>\n<!-- river&#45;&gt;sea -->\n<g id=\"edge26\" class=\"edge\">\n<title>river&#45;&gt;sea</title>\n<path fill=\"none\" stroke=\"#000000\" d=\"M906.1751,-57.2443C912.0815,-51.6487 918.9275,-45.163 925.332,-39.0956\"/>\n<polygon fill=\"#000000\" stroke=\"#000000\" points=\"927.6757,-41.2144 932.0429,-32.7379 923.3429,-36.6409 927.6757,-41.2144\"/>\n</g>\n<!-- geo_sea -->\n<g id=\"node25\" class=\"node\">\n<title>geo_sea</title>\n<ellipse fill=\"none\" stroke=\"#000000\" cx=\"792.5996\" cy=\"-72\" rx=\"27\" ry=\"18\"/>\n<text text-anchor=\"middle\" x=\"792.5996\" y=\"-69.8\" font-family=\"Times,serif\" font-size=\"9.00\" fill=\"#000000\">geo_sea</text>\n</g>\n<!-- geo_sea&#45;&gt;province -->\n<g id=\"edge29\" class=\"edge\">\n<title>geo_sea&#45;&gt;province</title>\n<path fill=\"none\" stroke=\"#000000\" d=\"M772.6333,-59.8771C768.1484,-57.5994 763.3172,-55.4737 758.5996,-54 694.0876,-33.848 674.1104,-48.0087 607.5996,-36 594.4072,-33.6181 580.0569,-30.2994 567.5354,-27.1596\"/>\n<polygon fill=\"#000000\" stroke=\"#000000\" points=\"568.2835,-24.0997 558.7836,-24.921 566.7222,-30.2032 568.2835,-24.0997\"/>\n</g>\n<!-- geo_sea&#45;&gt;sea -->\n<g id=\"edge28\" class=\"edge\">\n<title>geo_sea&#45;&gt;sea</title>\n<path fill=\"none\" stroke=\"#000000\" d=\"M816.8183,-63.5625C843.2076,-54.3688 885.5717,-39.6097 914.8997,-29.3922\"/>\n<polygon fill=\"#000000\" stroke=\"#000000\" points=\"916.0882,-32.3139 923.5509,-26.3783 914.0155,-26.3646 916.0882,-32.3139\"/>\n</g>\n<!-- is_member -->\n<g id=\"node27\" class=\"node\">\n<title>is_member</title>\n<ellipse fill=\"none\" stroke=\"#000000\" cx=\"714.5996\" cy=\"-180\" rx=\"32.1641\" ry=\"18\"/>\n<text text-anchor=\"middle\" x=\"714.5996\" y=\"-177.8\" font-family=\"Times,serif\" font-size=\"9.00\" fill=\"#000000\">is_member</text>\n</g>\n<!-- is_member&#45;&gt;country -->\n<g id=\"edge31\" class=\"edge\">\n<title>is_member&#45;&gt;country</title>\n<path fill=\"none\" stroke=\"#000000\" d=\"M690.6771,-167.6564C685.7866,-165.5066 680.6033,-163.487 675.5996,-162 622.6396,-146.2619 606.2346,-157.2563 552.5996,-144 546.4141,-142.4712 539.9243,-140.4881 533.7262,-138.399\"/>\n<polygon fill=\"#000000\" stroke=\"#000000\" points=\"534.4587,-135.3176 524.9233,-135.303 532.3684,-141.2607 534.4587,-135.3176\"/>\n</g>\n<!-- organization -->\n<g id=\"node28\" class=\"node\">\n<title>organization</title>\n<ellipse fill=\"none\" stroke=\"#000000\" cx=\"594.5996\" cy=\"-126\" rx=\"34.7826\" ry=\"18\"/>\n<text text-anchor=\"middle\" x=\"594.5996\" y=\"-123.8\" font-family=\"Times,serif\" font-size=\"9.00\" fill=\"#000000\">organization</text>\n</g>\n<!-- is_member&#45;&gt;organization -->\n<g id=\"edge30\" class=\"edge\">\n<title>is_member&#45;&gt;organization</title>\n<path fill=\"none\" stroke=\"#000000\" d=\"M689.4483,-168.3282C684.8466,-166.2108 680.0828,-164.0308 675.5996,-162 660.6246,-155.2169 644.0425,-147.826 629.8024,-141.5157\"/>\n<polygon fill=\"#000000\" stroke=\"#000000\" points=\"630.7787,-138.5032 621.2738,-137.7415 628.2291,-144.2642 630.7787,-138.5032\"/>\n</g>\n<!-- organization&#45;&gt;city -->\n<g id=\"edge32\" class=\"edge\">\n<title>organization&#45;&gt;city</title>\n<path fill=\"none\" stroke=\"#000000\" d=\"M576.9558,-110.381C570.7542,-104.891 563.6845,-98.6326 557.0793,-92.7853\"/>\n<polygon fill=\"#000000\" stroke=\"#000000\" points=\"558.9842,-90.2647 550.1573,-86.6577 554.8083,-94.9819 558.9842,-90.2647\"/>\n</g>\n<!-- language -->\n<g id=\"node29\" class=\"node\">\n<title>language</title>\n<ellipse fill=\"none\" stroke=\"#000000\" cx=\"360.5996\" cy=\"-180\" rx=\"27.9273\" ry=\"18\"/>\n<text text-anchor=\"middle\" x=\"360.5996\" y=\"-177.8\" font-family=\"Times,serif\" font-size=\"9.00\" fill=\"#000000\">language</text>\n</g>\n<!-- language&#45;&gt;country -->\n<g id=\"edge33\" class=\"edge\">\n<title>language&#45;&gt;country</title>\n<path fill=\"none\" stroke=\"#000000\" d=\"M382.2068,-168.2596C386.5843,-166.0601 391.1964,-163.8679 395.5996,-162 419.3957,-151.9053 447.0769,-142.5828 468.1835,-135.9548\"/>\n<polygon fill=\"#000000\" stroke=\"#000000\" points=\"469.1325,-138.9586 476.7961,-133.2848 467.267,-132.9411 469.1325,-138.9586\"/>\n</g>\n<!-- located -->\n<g id=\"node30\" class=\"node\">\n<title>located</title>\n<ellipse fill=\"none\" stroke=\"#000000\" cx=\"841.5996\" cy=\"-126\" rx=\"27\" ry=\"18\"/>\n<text text-anchor=\"middle\" x=\"841.5996\" y=\"-123.8\" font-family=\"Times,serif\" font-size=\"9.00\" fill=\"#000000\">located</text>\n</g>\n<!-- located&#45;&gt;city -->\n<g id=\"edge37\" class=\"edge\">\n<title>located&#45;&gt;city</title>\n<path fill=\"none\" stroke=\"#000000\" d=\"M816.9984,-118.3711C804.4245,-114.7331 788.8144,-110.6146 774.5996,-108 696.8318,-93.6957 675.2823,-104.7593 597.5996,-90 587.442,-88.0701 576.5568,-85.2869 566.6969,-82.4838\"/>\n<polygon fill=\"#000000\" stroke=\"#000000\" points=\"567.5032,-79.4377 557.9804,-79.9279 565.7304,-85.4831 567.5032,-79.4377\"/>\n</g>\n<!-- located&#45;&gt;lake -->\n<g id=\"edge34\" class=\"edge\">\n<title>located&#45;&gt;lake</title>\n<path fill=\"none\" stroke=\"#000000\" d=\"M841.5996,-107.6793C841.5996,-90.5088 841.5996,-64.6268 841.5996,-45.0743\"/>\n<polygon fill=\"#000000\" stroke=\"#000000\" points=\"844.7497,-45.0501 841.5996,-36.0502 838.4497,-45.0502 844.7497,-45.0501\"/>\n</g>\n<!-- located&#45;&gt;river -->\n<g id=\"edge36\" class=\"edge\">\n<title>located&#45;&gt;river</title>\n<path fill=\"none\" stroke=\"#000000\" d=\"M855.7724,-110.381C860.2029,-105.4984 865.1849,-100.008 869.9655,-94.7396\"/>\n<polygon fill=\"#000000\" stroke=\"#000000\" points=\"872.5737,-96.5529 876.2888,-87.771 867.9081,-92.3193 872.5737,-96.5529\"/>\n</g>\n<!-- located&#45;&gt;sea -->\n<g id=\"edge35\" class=\"edge\">\n<title>located&#45;&gt;sea</title>\n<path fill=\"none\" stroke=\"#000000\" d=\"M861.5641,-113.8716C866.0492,-111.5942 870.8808,-109.47 875.5996,-108 908.2847,-97.8175 1005.8503,-115.5826 1028.5996,-90 1039.2318,-78.0436 1037.3182,-67.4159 1028.5996,-54 1018.4818,-38.4312 999.9083,-29.5411 983.0971,-24.4925\"/>\n<polygon fill=\"#000000\" stroke=\"#000000\" points=\"983.5118,-21.3429 974.0038,-22.0649 981.8868,-27.4298 983.5118,-21.3429\"/>\n</g>\n<!-- merges_with -->\n<g id=\"node31\" class=\"node\">\n<title>merges_with</title>\n<ellipse fill=\"none\" stroke=\"#000000\" cx=\"985.5996\" cy=\"-72\" rx=\"35.5926\" ry=\"18\"/>\n<text text-anchor=\"middle\" x=\"985.5996\" y=\"-69.8\" font-family=\"Times,serif\" font-size=\"9.00\" fill=\"#000000\">merges_with</text>\n</g>\n<!-- merges_with&#45;&gt;sea -->\n<g id=\"edge38\" class=\"edge\">\n<title>merges_with&#45;&gt;sea</title>\n<path fill=\"none\" stroke=\"#000000\" d=\"M973.5761,-54.9141C970.6951,-50.8199 967.5655,-46.3726 964.509,-42.0292\"/>\n<polygon fill=\"#000000\" stroke=\"#000000\" points=\"966.9112,-39.9692 959.1556,-34.4217 961.759,-43.5948 966.9112,-39.9692\"/>\n</g>\n<!-- politics -->\n<g id=\"node32\" class=\"node\">\n<title>politics</title>\n<ellipse fill=\"none\" stroke=\"#000000\" cx=\"429.5996\" cy=\"-180\" rx=\"27\" ry=\"18\"/>\n<text text-anchor=\"middle\" x=\"429.5996\" y=\"-177.8\" font-family=\"Times,serif\" font-size=\"9.00\" fill=\"#000000\">politics</text>\n</g>\n<!-- politics&#45;&gt;country -->\n<g id=\"edge39\" class=\"edge\">\n<title>politics&#45;&gt;country</title>\n<path fill=\"none\" stroke=\"#000000\" d=\"M447.7682,-166.3735C456.3148,-159.9636 466.6552,-152.2082 475.9797,-145.2149\"/>\n<polygon fill=\"#000000\" stroke=\"#000000\" points=\"477.8763,-147.73 483.1863,-139.81 474.0963,-142.69 477.8763,-147.73\"/>\n</g>\n<!-- population -->\n<g id=\"node33\" class=\"node\">\n<title>population</title>\n<ellipse fill=\"none\" stroke=\"#000000\" cx=\"501.5996\" cy=\"-180\" rx=\"31.3548\" ry=\"18\"/>\n<text text-anchor=\"middle\" x=\"501.5996\" y=\"-177.8\" font-family=\"Times,serif\" font-size=\"9.00\" fill=\"#000000\">population</text>\n</g>\n<!-- population&#45;&gt;country -->\n<g id=\"edge40\" class=\"edge\">\n<title>population&#45;&gt;country</title>\n<path fill=\"none\" stroke=\"#000000\" d=\"M501.5996,-161.7181C501.5996,-158.9911 501.5996,-156.1312 501.5996,-153.2673\"/>\n<polygon fill=\"#000000\" stroke=\"#000000\" points=\"504.7497,-153.2631 501.5996,-144.2631 498.4497,-153.2631 504.7497,-153.2631\"/>\n</g>\n<!-- religion -->\n<g id=\"node34\" class=\"node\">\n<title>religion</title>\n<ellipse fill=\"none\" stroke=\"#000000\" cx=\"573.5996\" cy=\"-180\" rx=\"27\" ry=\"18\"/>\n<text text-anchor=\"middle\" x=\"573.5996\" y=\"-177.8\" font-family=\"Times,serif\" font-size=\"9.00\" fill=\"#000000\">religion</text>\n</g>\n<!-- religion&#45;&gt;country -->\n<g id=\"edge41\" class=\"edge\">\n<title>religion&#45;&gt;country</title>\n<path fill=\"none\" stroke=\"#000000\" d=\"M555.4309,-166.3735C546.8843,-159.9636 536.5439,-152.2082 527.2194,-145.2149\"/>\n<polygon fill=\"#000000\" stroke=\"#000000\" points=\"529.1029,-142.69 520.0128,-139.81 525.3228,-147.73 529.1029,-142.69\"/>\n</g>\n</g>\n</svg>\n"
          },
          "metadata": {}
        }
      ]
    }
  ]
}