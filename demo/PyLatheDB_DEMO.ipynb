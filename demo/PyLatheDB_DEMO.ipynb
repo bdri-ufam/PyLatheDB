{
  "nbformat": 4,
  "nbformat_minor": 0,
  "metadata": {
    "colab": {
      "name": "PyLatheDB-DEMO.ipynb",
      "provenance": [],
      "collapsed_sections": [
        "9BCs4NWfWhV3",
        "85Bru8qN6lpE"
      ],
      "include_colab_link": true
    },
    "kernelspec": {
      "name": "python3",
      "display_name": "Python 3"
    },
    "language_info": {
      "name": "python"
    }
  },
  "cells": [
    {
      "cell_type": "markdown",
      "metadata": {
        "id": "view-in-github",
        "colab_type": "text"
      },
      "source": [
        "<a href=\"https://colab.research.google.com/github/pr3martins/PyLatheDB/blob/main/demo/PyLatheDB_DEMO.ipynb\" target=\"_parent\"><img src=\"https://colab.research.google.com/assets/colab-badge.svg\" alt=\"Open In Colab\"/></a>"
      ]
    },
    {
      "cell_type": "markdown",
      "source": [
        "# PyLatheDB - A Library for Relational Keyword Search with Support to Schema References\n",
        "---\n",
        "\n",
        "PyLatheDB is based on Lathe, an R-KwS framework that generalizes the well-known concepts of Query Matches (QMs) and Candidate Joining Networks (CJNs) to handle keywords referring to schema elements and introduces new algorithms to generate them, along with a novel approach to automatically select the CJNs that are more likely to represent the user intent when issuing a keyword query.\n",
        "\n",
        "We recommend running this Python Notebook using [Google Colab](https://colab.research.google.com/github/pr3martins/PyLatheDB/blob/main/demo/PyLatheDB_DEMO.ipynb). But its static version is also available in our [GitHub Repository](https://github.com/pr3martins/PyLatheDB/blob/main/demo/PyLatheDB_DEMO.ipynb)."
      ],
      "metadata": {
        "id": "-Avnlu5jzbyD"
      }
    },
    {
      "cell_type": "markdown",
      "source": [
        "## Environment Preparation\n",
        "\n",
        "Initially, before the demonstration, it is necessary to  run an environment preparation step, which includes the installation of the RDBMS; the downloading of some configuration files and scripts; and the installation of the **PyLatheDB** library and its dependencies."
      ],
      "metadata": {
        "id": "9BCs4NWfWhV3"
      }
    },
    {
      "cell_type": "markdown",
      "source": [
        "### Download of the configuration Files\n",
        "\n",
        "The configuration files comprise information about the datasets and query sets used. They are automatically downloaded, but they can also be found [here](https://drive.google.com/drive/folders/1Xz3mPN0NC7xdIETKZlFDTcqcU6lsVUYD?usp=sharing)."
      ],
      "metadata": {
        "id": "BT1FWFwB-Eg9"
      }
    },
    {
      "cell_type": "code",
      "source": [
        "!gdown --id 1KTRL-RhKgnzENlwcGHZ7zkvT4fVsQ1D7\n",
        "!unzip PyLatheDB_DEMO_resources.zip\n",
        "import nltk\n",
        "nltk.download('wordnet')\n",
        "nltk.download('stopwords')\n",
        "nltk.download('omw-1.4')"
      ],
      "metadata": {
        "id": "zv1qHUj_W8fm",
        "outputId": "ac530a25-f5bd-4190-cc26-e339e620f503",
        "colab": {
          "base_uri": "https://localhost:8080/"
        }
      },
      "execution_count": 1,
      "outputs": [
        {
          "output_type": "stream",
          "name": "stdout",
          "text": [
            "/usr/local/lib/python3.7/dist-packages/gdown/cli.py:131: FutureWarning: Option `--id` was deprecated in version 4.3.1 and will be removed in 5.0. You don't need to pass it anymore to use a file ID.\n",
            "  category=FutureWarning,\n",
            "Downloading...\n",
            "From: https://drive.google.com/uc?id=1KTRL-RhKgnzENlwcGHZ7zkvT4fVsQ1D7\n",
            "To: /content/PyLatheDB_DEMO_resources.zip\n",
            "100% 92.1M/92.1M [00:01<00:00, 84.3MB/s]\n",
            "Archive:  PyLatheDB_DEMO_resources.zip\n",
            "   creating: config/\n",
            "  inflating: config/config.json      \n",
            "   creating: config/dataset_configs/\n",
            "  inflating: config/dataset_configs/mondial.json  \n",
            "   creating: config/dataset_configs/attributes/\n",
            "  inflating: config/dataset_configs/attributes/imdb_filtered_attributes.json  \n",
            "  inflating: config/dataset_configs/attributes/mondial_all_attributes.json  \n",
            "  inflating: config/dataset_configs/attributes/mondial_filtered_attributes.json  \n",
            "  inflating: config/dataset_configs/attributes/imdb_all_attributes.json  \n",
            "  inflating: config/dataset_configs/imdb.json  \n",
            "   creating: config/queryset_configs/\n",
            "  inflating: config/queryset_configs/coffman_imdb_config.json  \n",
            "  inflating: config/queryset_configs/coffman_mondial_config.json  \n",
            "   creating: datasets/\n",
            "   creating: datasets/imdb/\n",
            "  inflating: datasets/imdb/imdb_schema_index_file.shelve.db  \n",
            "  inflating: datasets/imdb/imdb_value_index_file.shelve.db  \n",
            "  inflating: datasets/imdb/imdb_schema_graph_file.pickle  \n",
            "   creating: datasets/mondial/\n",
            "  inflating: datasets/mondial/mondial_value_index_file.shelve.db  \n",
            "  inflating: datasets/mondial/mondial_schema_graph_file.pickle  \n",
            "  inflating: datasets/mondial/mondial_schema_index_file.shelve.db  \n",
            "   creating: dbsources/\n",
            "  inflating: dbsources/imdb-rename-tables.psql  \n",
            "  inflating: dbsources/mondial-schema_part2.pgsql  \n",
            "  inflating: dbsources/mondial-field_fulltext_index.psql  \n",
            "  inflating: dbsources/imdb-schema.pgsql  \n",
            "  inflating: dbsources/pylathedb.stop  \n",
            "  inflating: dbsources/imdb-data.pgsql  \n",
            "  inflating: dbsources/mondial-schema_part1.pgsql  \n",
            "  inflating: dbsources/mondial-data.pgsql  \n",
            "  inflating: dbsources/imdb-fulltext_index.psql  \n",
            "   creating: querysets/\n",
            "  inflating: querysets/coffman_imdb.json  \n",
            "  inflating: querysets/coffman_mondial.json  \n"
          ]
        },
        {
          "output_type": "stream",
          "name": "stderr",
          "text": [
            "[nltk_data] Downloading package wordnet to /root/nltk_data...\n",
            "[nltk_data]   Unzipping corpora/wordnet.zip.\n",
            "[nltk_data] Downloading package stopwords to /root/nltk_data...\n",
            "[nltk_data]   Unzipping corpora/stopwords.zip.\n",
            "[nltk_data] Downloading package omw-1.4 to /root/nltk_data...\n",
            "[nltk_data]   Unzipping corpora/omw-1.4.zip.\n"
          ]
        },
        {
          "output_type": "execute_result",
          "data": {
            "text/plain": [
              "True"
            ]
          },
          "metadata": {},
          "execution_count": 1
        }
      ]
    },
    {
      "cell_type": "markdown",
      "source": [
        "### Installation of the PostgreSQL"
      ],
      "metadata": {
        "id": "b3oWxUnl-Xyq"
      }
    },
    {
      "cell_type": "code",
      "source": [
        "# Install postgresql server\n",
        "!sudo apt-get -y -qq update\n",
        "!sudo apt-get -y -qq install postgresql postgresql-contrib &>log\n",
        "!sudo service postgresql start\n",
        "\n",
        "# Setup a password `postgres` for username `postgres`\n",
        "!sudo -u postgres psql -U postgres -c \"ALTER USER postgres PASSWORD 'postgres';\"\n",
        "\n",
        "!cp dbsources/pylathedb.stop /usr/share/postgresql/10/tsearch_data/english.stop"
      ],
      "metadata": {
        "id": "PEeEHxMsQVBs",
        "outputId": "efb59b2c-6fc9-4411-e21e-cbba8192b2e6",
        "colab": {
          "base_uri": "https://localhost:8080/"
        }
      },
      "execution_count": 2,
      "outputs": [
        {
          "output_type": "stream",
          "name": "stdout",
          "text": [
            " * Starting PostgreSQL 10 database server\n",
            "   ...done.\n",
            "ALTER ROLE\n"
          ]
        }
      ]
    },
    {
      "cell_type": "markdown",
      "source": [
        "### Scripts for the Databases Creation"
      ],
      "metadata": {
        "id": "s89ffyvY-mTG"
      }
    },
    {
      "cell_type": "code",
      "source": [
        "!sudo -u postgres dropdb imdb &>>log\n",
        "!sudo -u postgres createdb imdb &>>log\n",
        "!sudo -u postgres psql -U postgres imdb <  dbsources/imdb-schema.pgsql &>>log\n",
        "!sudo -u postgres psql -U postgres imdb <  dbsources/imdb-data.pgsql &>>log\n",
        "!sudo -u postgres psql -U postgres imdb <  dbsources/imdb-fulltext_index.psql &>>log\n",
        "!sudo -u postgres psql -U postgres imdb < dbsources/imdb-rename-tables.psql &>>log\n",
        "\n",
        "!sudo -u postgres dropdb mondial &>>log\n",
        "!sudo -u postgres createdb mondial &>>log\n",
        "!sudo -u postgres psql -U postgres mondial <  dbsources/mondial-schema_part1.pgsql &>>log\n",
        "!sudo -u postgres psql -U postgres mondial <  dbsources/mondial-data.pgsql &>>log\n",
        "!sudo -u postgres psql -U postgres mondial <  dbsources/mondial-schema_part2.pgsql &>>log\n",
        "!sudo -u postgres psql -U postgres mondial <  dbsources/mondial-field_fulltext_index.psql &>>log"
      ],
      "metadata": {
        "id": "_6HoX6TgfnzA"
      },
      "execution_count": 3,
      "outputs": []
    },
    {
      "cell_type": "markdown",
      "source": [
        "### Enable DataTable Formating from Google Colab"
      ],
      "metadata": {
        "id": "p3mkA7nj_Gty"
      }
    },
    {
      "cell_type": "code",
      "source": [
        "from google.colab import data_table\n",
        "data_table.enable_dataframe_formatter()"
      ],
      "metadata": {
        "id": "DHjj3QY10b--"
      },
      "execution_count": 4,
      "outputs": []
    },
    {
      "cell_type": "markdown",
      "source": [
        "### Installation of the PyLathe library available [here](https://pypi.org/project/pylathedb/)"
      ],
      "metadata": {
        "id": "z0CYsna9-2lY"
      }
    },
    {
      "cell_type": "code",
      "source": [
        "!pip install pylathedb==1.0.7 -U"
      ],
      "metadata": {
        "id": "TE76LA_p0FQ8",
        "outputId": "68d2baf6-c3dd-4baa-9ebd-9c4a88d07edb",
        "colab": {
          "base_uri": "https://localhost:8080/"
        }
      },
      "execution_count": 5,
      "outputs": [
        {
          "output_type": "stream",
          "name": "stdout",
          "text": [
            "Looking in indexes: https://pypi.org/simple, https://us-python.pkg.dev/colab-wheels/public/simple/\n",
            "Collecting pylathedb==1.0.7\n",
            "  Downloading pylathedb-1.0.7-py3-none-any.whl (51 kB)\n",
            "\u001b[K     |████████████████████████████████| 51 kB 535 kB/s \n",
            "\u001b[?25hRequirement already satisfied: prettytable in /usr/local/lib/python3.7/dist-packages (from pylathedb==1.0.7) (3.3.0)\n",
            "Requirement already satisfied: pandas in /usr/local/lib/python3.7/dist-packages (from pylathedb==1.0.7) (1.3.5)\n",
            "Requirement already satisfied: nltk in /usr/local/lib/python3.7/dist-packages (from pylathedb==1.0.7) (3.7)\n",
            "Requirement already satisfied: graphviz in /usr/local/lib/python3.7/dist-packages (from pylathedb==1.0.7) (0.10.1)\n",
            "Collecting psycopg2-binary\n",
            "  Downloading psycopg2_binary-2.9.3-cp37-cp37m-manylinux_2_17_x86_64.manylinux2014_x86_64.whl (3.0 MB)\n",
            "\u001b[K     |████████████████████████████████| 3.0 MB 9.3 MB/s \n",
            "\u001b[?25hRequirement already satisfied: psutil in /usr/local/lib/python3.7/dist-packages (from pylathedb==1.0.7) (5.4.8)\n",
            "Requirement already satisfied: matplotlib in /usr/local/lib/python3.7/dist-packages (from pylathedb==1.0.7) (3.2.2)\n",
            "Requirement already satisfied: pyparsing!=2.0.4,!=2.1.2,!=2.1.6,>=2.0.1 in /usr/local/lib/python3.7/dist-packages (from matplotlib->pylathedb==1.0.7) (3.0.9)\n",
            "Requirement already satisfied: numpy>=1.11 in /usr/local/lib/python3.7/dist-packages (from matplotlib->pylathedb==1.0.7) (1.21.6)\n",
            "Requirement already satisfied: kiwisolver>=1.0.1 in /usr/local/lib/python3.7/dist-packages (from matplotlib->pylathedb==1.0.7) (1.4.3)\n",
            "Requirement already satisfied: cycler>=0.10 in /usr/local/lib/python3.7/dist-packages (from matplotlib->pylathedb==1.0.7) (0.11.0)\n",
            "Requirement already satisfied: python-dateutil>=2.1 in /usr/local/lib/python3.7/dist-packages (from matplotlib->pylathedb==1.0.7) (2.8.2)\n",
            "Requirement already satisfied: typing-extensions in /usr/local/lib/python3.7/dist-packages (from kiwisolver>=1.0.1->matplotlib->pylathedb==1.0.7) (4.1.1)\n",
            "Requirement already satisfied: six>=1.5 in /usr/local/lib/python3.7/dist-packages (from python-dateutil>=2.1->matplotlib->pylathedb==1.0.7) (1.15.0)\n",
            "Requirement already satisfied: joblib in /usr/local/lib/python3.7/dist-packages (from nltk->pylathedb==1.0.7) (1.1.0)\n",
            "Requirement already satisfied: regex>=2021.8.3 in /usr/local/lib/python3.7/dist-packages (from nltk->pylathedb==1.0.7) (2022.6.2)\n",
            "Requirement already satisfied: tqdm in /usr/local/lib/python3.7/dist-packages (from nltk->pylathedb==1.0.7) (4.64.0)\n",
            "Requirement already satisfied: click in /usr/local/lib/python3.7/dist-packages (from nltk->pylathedb==1.0.7) (7.1.2)\n",
            "Requirement already satisfied: pytz>=2017.3 in /usr/local/lib/python3.7/dist-packages (from pandas->pylathedb==1.0.7) (2022.1)\n",
            "Requirement already satisfied: importlib-metadata in /usr/local/lib/python3.7/dist-packages (from prettytable->pylathedb==1.0.7) (4.11.4)\n",
            "Requirement already satisfied: wcwidth in /usr/local/lib/python3.7/dist-packages (from prettytable->pylathedb==1.0.7) (0.2.5)\n",
            "Requirement already satisfied: zipp>=0.5 in /usr/local/lib/python3.7/dist-packages (from importlib-metadata->prettytable->pylathedb==1.0.7) (3.8.0)\n",
            "Installing collected packages: psycopg2-binary, pylathedb\n",
            "Successfully installed psycopg2-binary-2.9.3 pylathedb-1.0.7\n"
          ]
        }
      ]
    },
    {
      "cell_type": "markdown",
      "source": [
        "## PyLatheDB setup\n",
        "\n",
        "In this section, we will run the PyLatheDB setup, which comprises the creation of the Value Index and the Schema Index. We will also explain the main parameters of the library, such as number of QMs, number of CJNs per QM and the use of the eager evaluation strategy for CJN generation. "
      ],
      "metadata": {
        "id": "85Bru8qN6lpE"
      }
    },
    {
      "cell_type": "markdown",
      "source": [
        "### Library import and set configuration directory"
      ],
      "metadata": {
        "id": "g9rv0VoN_nM0"
      }
    },
    {
      "cell_type": "code",
      "source": [
        "from pylathedb.lathe import Lathe\n",
        "lathe = Lathe(config_directory='./config/')"
      ],
      "metadata": {
        "id": "-wpNJChhQjEP"
      },
      "execution_count": 6,
      "outputs": []
    },
    {
      "cell_type": "markdown",
      "source": [
        "### Create Indexes \n",
        "This step is not necessary because we already downloaded the indexes alongside the configuration files. But feel free to test the Index Creation by uncommenting the following cell:"
      ],
      "metadata": {
        "id": "gct9Nh0W_tqp"
      }
    },
    {
      "cell_type": "code",
      "source": [
        "# lathe.create_indexes()"
      ],
      "metadata": {
        "id": "GCxC4RxZ_ln1"
      },
      "execution_count": 7,
      "outputs": []
    },
    {
      "cell_type": "markdown",
      "source": [
        "### Load Indexes\n",
        "\n",
        "The cell below shows how to load the Value and Schema Indexes."
      ],
      "metadata": {
        "id": "JL1mPyVCAUiX"
      }
    },
    {
      "cell_type": "code",
      "source": [
        "lathe.load_indexes()"
      ],
      "metadata": {
        "id": "K1AWZHMFXQ_A"
      },
      "execution_count": 8,
      "outputs": []
    },
    {
      "cell_type": "markdown",
      "source": [
        "### Choose Query set/Database\n",
        "\n",
        "You can choose which query set to use and its respective database. Input as a function parameter the number of the name of the query set to use. If you input no number, it will list the query sets available.\n",
        "\n",
        "*Remember to always load the indexes again after changing query set.*"
      ],
      "metadata": {
        "id": "WjMMYqzAAwIp"
      }
    },
    {
      "cell_type": "code",
      "source": [
        "lathe.change_queryset()"
      ],
      "metadata": {
        "id": "Gs8KXPMSxYYm",
        "colab": {
          "base_uri": "https://localhost:8080/"
        },
        "outputId": "fe339d92-d653-4a1f-c4fc-84f6805314c4"
      },
      "execution_count": 9,
      "outputs": [
        {
          "output_type": "stream",
          "name": "stdout",
          "text": [
            "Please input a query set to change:\n",
            "01 - coffman_imdb\n",
            "02 - coffman_mondial\n"
          ]
        }
      ]
    },
    {
      "cell_type": "markdown",
      "source": [
        "### Default Parameters\n",
        "\n",
        "We have a few parameters for R-KwS using PyLatheDB:\n",
        "*    `max_qm_size`: Maximum Query Match Size\n",
        "*    `max_cjn_size`: Maximum Candidate Joining Network Size\n",
        "*    `topk_cns`: Top-k CJNs to be considered\n",
        "*    `configuration`: A tuple containing the number of QMs to be considered, number of CJNs for each QM to be considered, and the maximum number of CJNs to be probed by the eager evaluation for each QM. \n",
        "\n",
        "\n"
      ],
      "metadata": {
        "id": "ey2a_wdSBNKn"
      }
    },
    {
      "cell_type": "code",
      "source": [
        "lathe.max_qm_size = 3\n",
        "lathe.max_cjn_size = 5\n",
        "lathe.topk_cns = 10\n",
        "\n",
        "num_qms = 5\n",
        "num_cjns_per_qm = 1\n",
        "num_probed_cjns = 0\n",
        "\n",
        "lathe.configuration = (num_qms,num_cjns_per_qm,num_probed_cjns)"
      ],
      "metadata": {
        "id": "P8PUzbKoxOdB"
      },
      "execution_count": 10,
      "outputs": []
    },
    {
      "cell_type": "markdown",
      "source": [
        "## Keyword Search over Relational Databases\n",
        "\n",
        "You can use the function `keyword_search` from the class `Lathe` using three parameters. \n",
        "\n",
        "\n",
        "1.   You can input a Keyword query\n",
        "2.   You can call the function with no input to show a list of premade keyword queries used in Coffman Benchmark.\n",
        "3.   You can input the number of the keyword query according to the option 2."
      ],
      "metadata": {
        "id": "WhwI-lMT_sOJ"
      }
    },
    {
      "cell_type": "code",
      "source": [
        "lathe.keyword_search()"
      ],
      "metadata": {
        "colab": {
          "base_uri": "https://localhost:8080/"
        },
        "id": "YEQ7ZZtWF5gt",
        "outputId": "89cbf4d0-2360-44c8-9a4d-b20aca82adb5"
      },
      "execution_count": 11,
      "outputs": [
        {
          "output_type": "stream",
          "name": "stdout",
          "text": [
            "Please input a keyword query or choose one of the queries below:\n",
            "01 - denzel washington\n",
            "02 - clint eastwood\n",
            "03 - john wayne\n",
            "04 - will smith\n",
            "05 - harrison ford\n",
            "06 - julia roberts\n",
            "07 - tom hanks\n",
            "08 - johnny depp\n",
            "09 - angelina jolie\n",
            "10 - morgan freeman\n",
            "11 - gone with the wind\n",
            "12 - star wars\n",
            "13 - casablanca\n",
            "14 - lord of the rings\n",
            "15 - the sound of music\n",
            "16 - wizard of oz\n",
            "17 - the notebook\n",
            "18 - forrest gump\n",
            "19 - the princess bride\n",
            "20 - the godfather\n",
            "21 - title atticus finch\n",
            "22 - title indiana jones\n",
            "23 - title james bond\n",
            "24 - title rick blaine\n",
            "25 - title will kane\n",
            "26 - title dr. hannibal lecter\n",
            "27 - title norman bates\n",
            "28 - title darth vader\n",
            "29 - title the wicked witch of the west\n",
            "30 - title nurse ratched\n",
            "31 - title frankly my dear i don't give a damn\n",
            "32 - title i'm going to make him an offer he can't refuse\n",
            "33 - title you don't understand i coulda had class i coulda been a contender i coulda been somebody instead of a bum which is what i am\n",
            "34 - title toto i've a feeling we're not in kansas any more\n",
            "35 - title here's looking at you kid\n",
            "36 - hamill skywalker\n",
            "37 - hanks 2004\n",
            "38 - henry fonda yours mine ours character\n",
            "39 - russell crowe gladiator character\n",
            "40 - brent spiner star trek\n",
            "41 - audrey hepburn 1951\n",
            "42 - name jacques clouseau\n",
            "43 - name jack ryan\n",
            "44 - rocky stallone\n",
            "45 - name terminator\n",
            "46 - harrison ford george lucas\n",
            "47 - sean connery fleming\n",
            "48 - reeves wachowski\n",
            "49 - dean jones herbie\n",
            "50 - indiana jones last crusade lost ark\n"
          ]
        }
      ]
    },
    {
      "cell_type": "markdown",
      "source": [
        "### Understanding the Results\n",
        "\n",
        "The function `keyword_search` from the class `Lathe` returns an `LatheResult` object, which contains methods to show the CJNs, QMs and KMs returned for the keyword query."
      ],
      "metadata": {
        "id": "4nalYT6yF90_"
      }
    },
    {
      "cell_type": "markdown",
      "source": [
        "### Keyword Matches\n",
        "\n",
        "The function `kms` returns two unordered lists, one for the Schema-Keyword Matches and one for Value-Keyword Matches."
      ],
      "metadata": {
        "id": "zcLxI1p0wkcS"
      }
    },
    {
      "cell_type": "code",
      "source": [
        "result = lathe.keyword_search('julia roberts films')\n",
        "result.kms()"
      ],
      "metadata": {
        "colab": {
          "base_uri": "https://localhost:8080/",
          "height": 411
        },
        "id": "sipofwKEFdqz",
        "outputId": "9387821d-33cd-4c5d-b851-34371efc0b89"
      },
      "execution_count": 12,
      "outputs": [
        {
          "output_type": "stream",
          "name": "stdout",
          "text": [
            "Keyword Query: julia roberts films\n"
          ]
        },
        {
          "output_type": "display_data",
          "data": {
            "text/plain": [
              "<IPython.core.display.Markdown object>"
            ],
            "text/markdown": "---"
          },
          "metadata": {}
        },
        {
          "output_type": "display_data",
          "data": {
            "text/plain": [
              "<IPython.core.display.Markdown object>"
            ],
            "text/markdown": "**SKMs**:"
          },
          "metadata": {}
        },
        {
          "output_type": "display_data",
          "data": {
            "text/plain": [
              "<IPython.core.display.Markdown object>"
            ],
            "text/markdown": "---"
          },
          "metadata": {}
        },
        {
          "output_type": "stream",
          "name": "stdout",
          "text": [
            "MOVIE.s(*{films})\n"
          ]
        },
        {
          "output_type": "display_data",
          "data": {
            "text/plain": [
              "<IPython.core.display.Markdown object>"
            ],
            "text/markdown": "---"
          },
          "metadata": {}
        },
        {
          "output_type": "display_data",
          "data": {
            "text/plain": [
              "<IPython.core.display.Markdown object>"
            ],
            "text/markdown": "**VKMs**:"
          },
          "metadata": {}
        },
        {
          "output_type": "display_data",
          "data": {
            "text/plain": [
              "<IPython.core.display.Markdown object>"
            ],
            "text/markdown": "---"
          },
          "metadata": {}
        },
        {
          "output_type": "stream",
          "name": "stdout",
          "text": [
            "PERSON.v(name{julia})\n",
            "CHARACTER.v(name{julia})\n",
            "MOVIEINFO.v(info{julia})\n",
            "MOVIE.v(title{julia})\n",
            "PERSON.v(name{roberts})\n",
            "CHARACTER.v(name{roberts})\n",
            "MOVIEINFO.v(info{roberts})\n",
            "MOVIE.v(title{roberts})\n",
            "CHARACTER.v(name{films})\n",
            "MOVIEINFO.v(info{films})\n",
            "MOVIE.v(title{films})\n",
            "PERSON.v(name{julia,roberts})\n",
            "MOVIEINFO.v(info{julia,roberts})\n",
            "MOVIEINFO.v(info{julia,films})\n",
            "MOVIE.v(title{julia,roberts})\n"
          ]
        }
      ]
    },
    {
      "cell_type": "markdown",
      "source": [
        "### Query Matches\n",
        "\n",
        "The function `qms` returns a ranked list of the Query Matches for the keyword query. Each QM is presented as a set of Keyword Matches."
      ],
      "metadata": {
        "id": "kBHjyuQswF4H"
      }
    },
    {
      "cell_type": "code",
      "source": [
        "result.qms()"
      ],
      "metadata": {
        "colab": {
          "base_uri": "https://localhost:8080/",
          "height": 351
        },
        "id": "scMhvLTHFaPc",
        "outputId": "909eac5f-7bee-47f2-9c74-9f61640b3dc5"
      },
      "execution_count": 13,
      "outputs": [
        {
          "output_type": "display_data",
          "data": {
            "text/plain": [
              "<IPython.core.display.Markdown object>"
            ],
            "text/markdown": "---"
          },
          "metadata": {}
        },
        {
          "output_type": "display_data",
          "data": {
            "text/plain": [
              "<IPython.core.display.Markdown object>"
            ],
            "text/markdown": "**1st QM**:"
          },
          "metadata": {}
        },
        {
          "output_type": "display_data",
          "data": {
            "text/plain": [
              "<IPython.core.display.Markdown object>"
            ],
            "text/markdown": "---"
          },
          "metadata": {}
        },
        {
          "output_type": "stream",
          "name": "stdout",
          "text": [
            "{PERSON.v(name{julia,roberts}), MOVIE.s(*{films})}\n"
          ]
        },
        {
          "output_type": "display_data",
          "data": {
            "text/plain": [
              "<IPython.core.display.Markdown object>"
            ],
            "text/markdown": "---"
          },
          "metadata": {}
        },
        {
          "output_type": "display_data",
          "data": {
            "text/plain": [
              "<IPython.core.display.Markdown object>"
            ],
            "text/markdown": "**2nd QM**:"
          },
          "metadata": {}
        },
        {
          "output_type": "display_data",
          "data": {
            "text/plain": [
              "<IPython.core.display.Markdown object>"
            ],
            "text/markdown": "---"
          },
          "metadata": {}
        },
        {
          "output_type": "stream",
          "name": "stdout",
          "text": [
            "{MOVIE.s(*{films}).v(title{julia,roberts})}\n"
          ]
        },
        {
          "output_type": "display_data",
          "data": {
            "text/plain": [
              "<IPython.core.display.Markdown object>"
            ],
            "text/markdown": "---"
          },
          "metadata": {}
        },
        {
          "output_type": "display_data",
          "data": {
            "text/plain": [
              "<IPython.core.display.Markdown object>"
            ],
            "text/markdown": "**3rd QM**:"
          },
          "metadata": {}
        },
        {
          "output_type": "display_data",
          "data": {
            "text/plain": [
              "<IPython.core.display.Markdown object>"
            ],
            "text/markdown": "---"
          },
          "metadata": {}
        },
        {
          "output_type": "stream",
          "name": "stdout",
          "text": [
            "{MOVIEINFO.v(info{julia,roberts}), MOVIE.s(*{films})}\n"
          ]
        },
        {
          "output_type": "display_data",
          "data": {
            "text/plain": [
              "<IPython.core.display.Markdown object>"
            ],
            "text/markdown": "---"
          },
          "metadata": {}
        },
        {
          "output_type": "display_data",
          "data": {
            "text/plain": [
              "<IPython.core.display.Markdown object>"
            ],
            "text/markdown": "**4th QM**:"
          },
          "metadata": {}
        },
        {
          "output_type": "display_data",
          "data": {
            "text/plain": [
              "<IPython.core.display.Markdown object>"
            ],
            "text/markdown": "---"
          },
          "metadata": {}
        },
        {
          "output_type": "stream",
          "name": "stdout",
          "text": [
            "{PERSON.v(name{julia}), MOVIE.s(*{films}), PERSON.v(name{roberts})}\n"
          ]
        },
        {
          "output_type": "display_data",
          "data": {
            "text/plain": [
              "<IPython.core.display.Markdown object>"
            ],
            "text/markdown": "---"
          },
          "metadata": {}
        },
        {
          "output_type": "display_data",
          "data": {
            "text/plain": [
              "<IPython.core.display.Markdown object>"
            ],
            "text/markdown": "**5th QM**:"
          },
          "metadata": {}
        },
        {
          "output_type": "display_data",
          "data": {
            "text/plain": [
              "<IPython.core.display.Markdown object>"
            ],
            "text/markdown": "---"
          },
          "metadata": {}
        },
        {
          "output_type": "stream",
          "name": "stdout",
          "text": [
            "{PERSON.v(name{julia,roberts}), MOVIE.v(title{films})}\n"
          ]
        }
      ]
    },
    {
      "cell_type": "markdown",
      "source": [
        "### Schema Graph (IMDb dataset)"
      ],
      "metadata": {
        "id": "bXdSBQp5LlYa"
      }
    },
    {
      "cell_type": "code",
      "source": [
        "lathe.change_queryset(1)\n",
        "lathe.index_handler.schema_graph.show()"
      ],
      "metadata": {
        "colab": {
          "base_uri": "https://localhost:8080/",
          "height": 203
        },
        "id": "Tb_UdxFULsNJ",
        "outputId": "7064fdb7-557f-4343-94de-5b2a28ff5f9d"
      },
      "execution_count": 14,
      "outputs": [
        {
          "output_type": "stream",
          "name": "stdout",
          "text": [
            "./config/queryset_configs/coffman_imdb_config.json\n",
            "Changed to query set coffman_imdb.\n",
            "Graph:\n"
          ]
        },
        {
          "output_type": "display_data",
          "data": {
            "text/plain": [
              "<graphviz.dot.Digraph at 0x7f31d952a850>"
            ],
            "image/svg+xml": "<?xml version=\"1.0\" encoding=\"UTF-8\" standalone=\"no\"?>\n<!DOCTYPE svg PUBLIC \"-//W3C//DTD SVG 1.1//EN\"\n \"http://www.w3.org/Graphics/SVG/1.1/DTD/svg11.dtd\">\n<!-- Generated by graphviz version 2.40.1 (20161225.0304)\n -->\n<!-- Title: %3 Pages: 1 -->\n<svg width=\"312pt\" height=\"98pt\"\n viewBox=\"0.00 0.00 312.26 98.00\" xmlns=\"http://www.w3.org/2000/svg\" xmlns:xlink=\"http://www.w3.org/1999/xlink\">\n<g id=\"graph0\" class=\"graph\" transform=\"scale(1 1) rotate(0) translate(4 94)\">\n<title>%3</title>\n<polygon fill=\"#ffffff\" stroke=\"transparent\" points=\"-4,4 -4,-94 308.2598,-94 308.2598,4 -4,4\"/>\n<!-- casting -->\n<g id=\"node1\" class=\"node\">\n<title>casting</title>\n<ellipse fill=\"none\" stroke=\"#000000\" cx=\"160.2598\" cy=\"-72\" rx=\"32.1641\" ry=\"18\"/>\n<text text-anchor=\"middle\" x=\"160.2598\" y=\"-69.8\" font-family=\"Times,serif\" font-size=\"9.00\" fill=\"#000000\">CASTING</text>\n</g>\n<!-- movie -->\n<g id=\"node2\" class=\"node\">\n<title>movie</title>\n<ellipse fill=\"none\" stroke=\"#000000\" cx=\"39.2598\" cy=\"-18\" rx=\"27.2716\" ry=\"18\"/>\n<text text-anchor=\"middle\" x=\"39.2598\" y=\"-15.8\" font-family=\"Times,serif\" font-size=\"9.00\" fill=\"#000000\">MOVIE</text>\n</g>\n<!-- casting&#45;&gt;movie -->\n<g id=\"edge1\" class=\"edge\">\n<title>casting&#45;&gt;movie</title>\n<path fill=\"none\" stroke=\"#000000\" d=\"M133.321,-61.6162C115.9887,-54.7488 93.081,-45.3222 73.2598,-36 71.6733,-35.2538 70.0547,-34.4714 68.4272,-33.6681\"/>\n<polygon fill=\"#000000\" stroke=\"#000000\" points=\"69.7738,-30.819 60.3236,-29.5474 66.9182,-36.4347 69.7738,-30.819\"/>\n</g>\n<!-- person -->\n<g id=\"node4\" class=\"node\">\n<title>person</title>\n<ellipse fill=\"none\" stroke=\"#000000\" cx=\"110.2598\" cy=\"-18\" rx=\"30.0444\" ry=\"18\"/>\n<text text-anchor=\"middle\" x=\"110.2598\" y=\"-15.8\" font-family=\"Times,serif\" font-size=\"9.00\" fill=\"#000000\">PERSON</text>\n</g>\n<!-- casting&#45;&gt;person -->\n<g id=\"edge2\" class=\"edge\">\n<title>casting&#45;&gt;person</title>\n<path fill=\"none\" stroke=\"#000000\" d=\"M145.2582,-55.7982C140.8283,-51.014 135.897,-45.6882 131.1667,-40.5794\"/>\n<polygon fill=\"#000000\" stroke=\"#000000\" points=\"133.3328,-38.2825 124.9068,-33.8187 128.7101,-42.5627 133.3328,-38.2825\"/>\n</g>\n<!-- character -->\n<g id=\"node5\" class=\"node\">\n<title>character</title>\n<ellipse fill=\"none\" stroke=\"#000000\" cx=\"195.2598\" cy=\"-18\" rx=\"40.9837\" ry=\"18\"/>\n<text text-anchor=\"middle\" x=\"195.2598\" y=\"-15.8\" font-family=\"Times,serif\" font-size=\"9.00\" fill=\"#000000\">CHARACTER</text>\n</g>\n<!-- casting&#45;&gt;character -->\n<g id=\"edge4\" class=\"edge\">\n<title>casting&#45;&gt;character</title>\n<path fill=\"none\" stroke=\"#000000\" d=\"M171.334,-54.9141C173.7123,-51.2448 176.2744,-47.2919 178.8071,-43.3842\"/>\n<polygon fill=\"#000000\" stroke=\"#000000\" points=\"181.6446,-44.7979 183.8963,-35.5323 176.3579,-41.3714 181.6446,-44.7979\"/>\n</g>\n<!-- role -->\n<g id=\"node6\" class=\"node\">\n<title>role</title>\n<ellipse fill=\"none\" stroke=\"#000000\" cx=\"277.2598\" cy=\"-18\" rx=\"27\" ry=\"18\"/>\n<text text-anchor=\"middle\" x=\"277.2598\" y=\"-15.8\" font-family=\"Times,serif\" font-size=\"9.00\" fill=\"#000000\">ROLE</text>\n</g>\n<!-- casting&#45;&gt;role -->\n<g id=\"edge3\" class=\"edge\">\n<title>casting&#45;&gt;role</title>\n<path fill=\"none\" stroke=\"#000000\" d=\"M186.2902,-61.3218C202.7647,-54.4135 224.432,-45.0502 243.2598,-36 244.84,-35.2405 246.4536,-34.4474 248.0771,-33.6357\"/>\n<polygon fill=\"#000000\" stroke=\"#000000\" points=\"249.5949,-36.3975 256.1692,-29.4908 246.7228,-30.7903 249.5949,-36.3975\"/>\n</g>\n<!-- movieinfo -->\n<g id=\"node3\" class=\"node\">\n<title>movieinfo</title>\n<ellipse fill=\"none\" stroke=\"#000000\" cx=\"39.2598\" cy=\"-72\" rx=\"39.0211\" ry=\"18\"/>\n<text text-anchor=\"middle\" x=\"39.2598\" y=\"-69.8\" font-family=\"Times,serif\" font-size=\"9.00\" fill=\"#000000\">MOVIEINFO</text>\n</g>\n<!-- movieinfo&#45;&gt;movie -->\n<g id=\"edge5\" class=\"edge\">\n<title>movieinfo&#45;&gt;movie</title>\n<path fill=\"none\" stroke=\"#000000\" d=\"M39.2598,-53.7181C39.2598,-50.9911 39.2598,-48.1312 39.2598,-45.2673\"/>\n<polygon fill=\"#000000\" stroke=\"#000000\" points=\"42.4099,-45.2631 39.2598,-36.2631 36.1099,-45.2631 42.4099,-45.2631\"/>\n</g>\n</g>\n</svg>\n"
          },
          "metadata": {}
        }
      ]
    },
    {
      "cell_type": "markdown",
      "source": [
        "#### Candidate Joining Networks\n",
        "\n",
        "The library returns, for each CJN, its Text representation, its Graph representation, its SQL translation and the returned results from the SQL execution by the RDBMS. The function `cjns` outputs the informatio about each CJN according to four boolean parameters: `text`, `graph`, `sql`, and `df`. The parameters `graph` and `df` are enabled by default.\n",
        "\n",
        "\n",
        "*The Graph representation may not be available in the static version of this notebook in Github. You can run it using Google Colab [here](https://colab.research.google.com/github/pr3martins/PyLatheDB/blob/main/demo/PyLatheDB_DEMO.ipynb).*"
      ],
      "metadata": {
        "id": "5i_gF-yrh3d4"
      }
    },
    {
      "cell_type": "code",
      "source": [
        "result.cjns(top_k=1,graph=True,text=True,sql=True,df=True)"
      ],
      "metadata": {
        "colab": {
          "base_uri": "https://localhost:8080/",
          "height": 780
        },
        "id": "IEq5hjlK8vUe",
        "outputId": "bd0c5b62-441d-4aa9-ff31-e2f0a6648863"
      },
      "execution_count": 15,
      "outputs": [
        {
          "output_type": "display_data",
          "data": {
            "text/plain": [
              "<IPython.core.display.Markdown object>"
            ],
            "text/markdown": "---"
          },
          "metadata": {}
        },
        {
          "output_type": "display_data",
          "data": {
            "text/plain": [
              "<IPython.core.display.Markdown object>"
            ],
            "text/markdown": "**1st CJN**:"
          },
          "metadata": {}
        },
        {
          "output_type": "display_data",
          "data": {
            "text/plain": [
              "<IPython.core.display.Markdown object>"
            ],
            "text/markdown": "---"
          },
          "metadata": {}
        },
        {
          "output_type": "stream",
          "name": "stdout",
          "text": [
            "Text:\n",
            "\tPERSON.v(name{julia,roberts})\n",
            "\t\t<CASTING\n",
            "\t\t\t>MOVIE.s(*{films})\n"
          ]
        },
        {
          "output_type": "display_data",
          "data": {
            "text/plain": [
              "<IPython.core.display.Markdown object>"
            ],
            "text/markdown": "---"
          },
          "metadata": {}
        },
        {
          "output_type": "stream",
          "name": "stdout",
          "text": [
            "Graph:\n"
          ]
        },
        {
          "output_type": "display_data",
          "data": {
            "text/plain": [
              "<graphviz.dot.Digraph at 0x7f31a2697f90>"
            ],
            "image/svg+xml": "<?xml version=\"1.0\" encoding=\"UTF-8\" standalone=\"no\"?>\n<!DOCTYPE svg PUBLIC \"-//W3C//DTD SVG 1.1//EN\"\n \"http://www.w3.org/Graphics/SVG/1.1/DTD/svg11.dtd\">\n<!-- Generated by graphviz version 2.40.1 (20161225.0304)\n -->\n<!-- Title: %3 Pages: 1 -->\n<svg width=\"280pt\" height=\"98pt\"\n viewBox=\"0.00 0.00 280.33 98.00\" xmlns=\"http://www.w3.org/2000/svg\" xmlns:xlink=\"http://www.w3.org/1999/xlink\">\n<g id=\"graph0\" class=\"graph\" transform=\"scale(1 1) rotate(0) translate(4 94)\">\n<title>%3</title>\n<polygon fill=\"#ffffff\" stroke=\"transparent\" points=\"-4,4 -4,-94 276.3265,-94 276.3265,4 -4,4\"/>\n<!-- t1 -->\n<g id=\"node1\" class=\"node\">\n<title>t1</title>\n<ellipse fill=\"none\" stroke=\"#000000\" cx=\"77.3649\" cy=\"-18\" rx=\"77.2301\" ry=\"18\"/>\n<text text-anchor=\"middle\" x=\"77.3649\" y=\"-15.8\" font-family=\"Times,serif\" font-size=\"9.00\" fill=\"#000000\">PERSON.v(name{julia,roberts})</text>\n</g>\n<!-- t2 -->\n<g id=\"node2\" class=\"node\">\n<title>t2</title>\n<ellipse fill=\"none\" stroke=\"#000000\" cx=\"148.3649\" cy=\"-72\" rx=\"32.1641\" ry=\"18\"/>\n<text text-anchor=\"middle\" x=\"148.3649\" y=\"-69.8\" font-family=\"Times,serif\" font-size=\"9.00\" fill=\"#000000\">CASTING</text>\n</g>\n<!-- t2&#45;&gt;t1 -->\n<g id=\"edge1\" class=\"edge\">\n<title>t2&#45;&gt;t1</title>\n<path fill=\"none\" stroke=\"#000000\" d=\"M128.9639,-57.2443C122.2509,-52.1386 114.5634,-46.2918 107.2085,-40.6979\"/>\n<polygon fill=\"#000000\" stroke=\"#000000\" points=\"109.0832,-38.1662 100.0128,-35.2251 105.2694,-43.1807 109.0832,-38.1662\"/>\n</g>\n<!-- t3 -->\n<g id=\"node3\" class=\"node\">\n<title>t3</title>\n<ellipse fill=\"none\" stroke=\"#000000\" cx=\"220.3649\" cy=\"-18\" rx=\"51.9231\" ry=\"18\"/>\n<text text-anchor=\"middle\" x=\"220.3649\" y=\"-15.8\" font-family=\"Times,serif\" font-size=\"9.00\" fill=\"#000000\">MOVIE.s(*{films})</text>\n</g>\n<!-- t2&#45;&gt;t3 -->\n<g id=\"edge2\" class=\"edge\">\n<title>t2&#45;&gt;t3</title>\n<path fill=\"none\" stroke=\"#000000\" d=\"M167.6596,-57.529C174.7826,-52.1868 183.0267,-46.0037 190.8485,-40.1373\"/>\n<polygon fill=\"#000000\" stroke=\"#000000\" points=\"193.1624,-42.3395 198.4724,-34.4194 189.3823,-37.2995 193.1624,-42.3395\"/>\n</g>\n</g>\n</svg>\n"
          },
          "metadata": {}
        },
        {
          "output_type": "display_data",
          "data": {
            "text/plain": [
              "<IPython.core.display.Markdown object>"
            ],
            "text/markdown": "---"
          },
          "metadata": {}
        },
        {
          "output_type": "stream",
          "name": "stdout",
          "text": [
            "SQL:\n",
            "  \n",
            "  SELECT\n",
            "  \tt1.name,\n",
            "  \tt3.*\n",
            "  FROM\n",
            "  \t\"person\" t1\n",
            "  \tJOIN \"casting\" t2 ON t2.person_id = t1.id\n",
            "  \tJOIN \"movie\" t3 ON t2.movie_id = t3.id\n",
            "  WHERE\n",
            "  \tt1.name_tsvector @@ to_tsquery('julia & roberts')\n",
            "  LIMIT 1000;\n",
            "\n"
          ]
        },
        {
          "output_type": "display_data",
          "data": {
            "text/plain": [
              "<IPython.core.display.Markdown object>"
            ],
            "text/markdown": "---"
          },
          "metadata": {}
        },
        {
          "output_type": "stream",
          "name": "stdout",
          "text": [
            "JNTs:\n"
          ]
        },
        {
          "output_type": "display_data",
          "data": {
            "text/plain": [
              "             name      id                       title imdb_index  kind_id  \\\n",
              "0  Roberts, Julia    3161                20 Something       None        1   \n",
              "1  Roberts, Julia  175564                   Firehouse       None        1   \n",
              "2  Roberts, Julia  198621              Grand Champion       None        1   \n",
              "3  Roberts, Julia  304918  Ljuset håller mig sällskap       None        1   \n",
              "4  Roberts, Julia  422036               Runaway Bride       None        1   \n",
              "\n",
              "   year imdb_id phonetic_code episode_of_id season_nr episode_nr series_years  \\\n",
              "0  2006    None         S5352          None      None       None         None   \n",
              "1  1987    None           F62          None      None       None         None   \n",
              "2  2002    None         G6532          None      None       None         None   \n",
              "3  2000    None         L2346          None      None       None         None   \n",
              "4  1999    None         R5163          None      None       None         None   \n",
              "\n",
              "   __search_id  \n",
              "0     43788412  \n",
              "1     43846816  \n",
              "2     43876968  \n",
              "3     44099445  \n",
              "4     44164278  "
            ],
            "text/html": [
              "\n",
              "  <div id=\"df-9e7722c1-5703-478e-b265-960c8dac73fe\">\n",
              "    <div class=\"colab-df-container\">\n",
              "      <div>\n",
              "<style scoped>\n",
              "    .dataframe tbody tr th:only-of-type {\n",
              "        vertical-align: middle;\n",
              "    }\n",
              "\n",
              "    .dataframe tbody tr th {\n",
              "        vertical-align: top;\n",
              "    }\n",
              "\n",
              "    .dataframe thead th {\n",
              "        text-align: right;\n",
              "    }\n",
              "</style>\n",
              "<table border=\"1\" class=\"dataframe\">\n",
              "  <thead>\n",
              "    <tr style=\"text-align: right;\">\n",
              "      <th></th>\n",
              "      <th>name</th>\n",
              "      <th>id</th>\n",
              "      <th>title</th>\n",
              "      <th>imdb_index</th>\n",
              "      <th>kind_id</th>\n",
              "      <th>year</th>\n",
              "      <th>imdb_id</th>\n",
              "      <th>phonetic_code</th>\n",
              "      <th>episode_of_id</th>\n",
              "      <th>season_nr</th>\n",
              "      <th>episode_nr</th>\n",
              "      <th>series_years</th>\n",
              "      <th>__search_id</th>\n",
              "    </tr>\n",
              "  </thead>\n",
              "  <tbody>\n",
              "    <tr>\n",
              "      <th>0</th>\n",
              "      <td>Roberts, Julia</td>\n",
              "      <td>3161</td>\n",
              "      <td>20 Something</td>\n",
              "      <td>None</td>\n",
              "      <td>1</td>\n",
              "      <td>2006</td>\n",
              "      <td>None</td>\n",
              "      <td>S5352</td>\n",
              "      <td>None</td>\n",
              "      <td>None</td>\n",
              "      <td>None</td>\n",
              "      <td>None</td>\n",
              "      <td>43788412</td>\n",
              "    </tr>\n",
              "    <tr>\n",
              "      <th>1</th>\n",
              "      <td>Roberts, Julia</td>\n",
              "      <td>175564</td>\n",
              "      <td>Firehouse</td>\n",
              "      <td>None</td>\n",
              "      <td>1</td>\n",
              "      <td>1987</td>\n",
              "      <td>None</td>\n",
              "      <td>F62</td>\n",
              "      <td>None</td>\n",
              "      <td>None</td>\n",
              "      <td>None</td>\n",
              "      <td>None</td>\n",
              "      <td>43846816</td>\n",
              "    </tr>\n",
              "    <tr>\n",
              "      <th>2</th>\n",
              "      <td>Roberts, Julia</td>\n",
              "      <td>198621</td>\n",
              "      <td>Grand Champion</td>\n",
              "      <td>None</td>\n",
              "      <td>1</td>\n",
              "      <td>2002</td>\n",
              "      <td>None</td>\n",
              "      <td>G6532</td>\n",
              "      <td>None</td>\n",
              "      <td>None</td>\n",
              "      <td>None</td>\n",
              "      <td>None</td>\n",
              "      <td>43876968</td>\n",
              "    </tr>\n",
              "    <tr>\n",
              "      <th>3</th>\n",
              "      <td>Roberts, Julia</td>\n",
              "      <td>304918</td>\n",
              "      <td>Ljuset håller mig sällskap</td>\n",
              "      <td>None</td>\n",
              "      <td>1</td>\n",
              "      <td>2000</td>\n",
              "      <td>None</td>\n",
              "      <td>L2346</td>\n",
              "      <td>None</td>\n",
              "      <td>None</td>\n",
              "      <td>None</td>\n",
              "      <td>None</td>\n",
              "      <td>44099445</td>\n",
              "    </tr>\n",
              "    <tr>\n",
              "      <th>4</th>\n",
              "      <td>Roberts, Julia</td>\n",
              "      <td>422036</td>\n",
              "      <td>Runaway Bride</td>\n",
              "      <td>None</td>\n",
              "      <td>1</td>\n",
              "      <td>1999</td>\n",
              "      <td>None</td>\n",
              "      <td>R5163</td>\n",
              "      <td>None</td>\n",
              "      <td>None</td>\n",
              "      <td>None</td>\n",
              "      <td>None</td>\n",
              "      <td>44164278</td>\n",
              "    </tr>\n",
              "  </tbody>\n",
              "</table>\n",
              "</div>\n",
              "      <button class=\"colab-df-convert\" onclick=\"convertToInteractive('df-9e7722c1-5703-478e-b265-960c8dac73fe')\"\n",
              "              title=\"Convert this dataframe to an interactive table.\"\n",
              "              style=\"display:none;\">\n",
              "        \n",
              "  <svg xmlns=\"http://www.w3.org/2000/svg\" height=\"24px\"viewBox=\"0 0 24 24\"\n",
              "       width=\"24px\">\n",
              "    <path d=\"M0 0h24v24H0V0z\" fill=\"none\"/>\n",
              "    <path d=\"M18.56 5.44l.94 2.06.94-2.06 2.06-.94-2.06-.94-.94-2.06-.94 2.06-2.06.94zm-11 1L8.5 8.5l.94-2.06 2.06-.94-2.06-.94L8.5 2.5l-.94 2.06-2.06.94zm10 10l.94 2.06.94-2.06 2.06-.94-2.06-.94-.94-2.06-.94 2.06-2.06.94z\"/><path d=\"M17.41 7.96l-1.37-1.37c-.4-.4-.92-.59-1.43-.59-.52 0-1.04.2-1.43.59L10.3 9.45l-7.72 7.72c-.78.78-.78 2.05 0 2.83L4 21.41c.39.39.9.59 1.41.59.51 0 1.02-.2 1.41-.59l7.78-7.78 2.81-2.81c.8-.78.8-2.07 0-2.86zM5.41 20L4 18.59l7.72-7.72 1.47 1.35L5.41 20z\"/>\n",
              "  </svg>\n",
              "      </button>\n",
              "      \n",
              "  <style>\n",
              "    .colab-df-container {\n",
              "      display:flex;\n",
              "      flex-wrap:wrap;\n",
              "      gap: 12px;\n",
              "    }\n",
              "\n",
              "    .colab-df-convert {\n",
              "      background-color: #E8F0FE;\n",
              "      border: none;\n",
              "      border-radius: 50%;\n",
              "      cursor: pointer;\n",
              "      display: none;\n",
              "      fill: #1967D2;\n",
              "      height: 32px;\n",
              "      padding: 0 0 0 0;\n",
              "      width: 32px;\n",
              "    }\n",
              "\n",
              "    .colab-df-convert:hover {\n",
              "      background-color: #E2EBFA;\n",
              "      box-shadow: 0px 1px 2px rgba(60, 64, 67, 0.3), 0px 1px 3px 1px rgba(60, 64, 67, 0.15);\n",
              "      fill: #174EA6;\n",
              "    }\n",
              "\n",
              "    [theme=dark] .colab-df-convert {\n",
              "      background-color: #3B4455;\n",
              "      fill: #D2E3FC;\n",
              "    }\n",
              "\n",
              "    [theme=dark] .colab-df-convert:hover {\n",
              "      background-color: #434B5C;\n",
              "      box-shadow: 0px 1px 3px 1px rgba(0, 0, 0, 0.15);\n",
              "      filter: drop-shadow(0px 1px 2px rgba(0, 0, 0, 0.3));\n",
              "      fill: #FFFFFF;\n",
              "    }\n",
              "  </style>\n",
              "\n",
              "      <script>\n",
              "        const buttonEl =\n",
              "          document.querySelector('#df-9e7722c1-5703-478e-b265-960c8dac73fe button.colab-df-convert');\n",
              "        buttonEl.style.display =\n",
              "          google.colab.kernel.accessAllowed ? 'block' : 'none';\n",
              "\n",
              "        async function convertToInteractive(key) {\n",
              "          const element = document.querySelector('#df-9e7722c1-5703-478e-b265-960c8dac73fe');\n",
              "          const dataTable =\n",
              "            await google.colab.kernel.invokeFunction('convertToInteractive',\n",
              "                                                     [key], {});\n",
              "          if (!dataTable) return;\n",
              "\n",
              "          const docLinkHtml = 'Like what you see? Visit the ' +\n",
              "            '<a target=\"_blank\" href=https://colab.research.google.com/notebooks/data_table.ipynb>data table notebook</a>'\n",
              "            + ' to learn more about interactive tables.';\n",
              "          element.innerHTML = '';\n",
              "          dataTable['output_type'] = 'display_data';\n",
              "          await google.colab.output.renderOutput(dataTable, element);\n",
              "          const docLink = document.createElement('div');\n",
              "          docLink.innerHTML = docLinkHtml;\n",
              "          element.appendChild(docLink);\n",
              "        }\n",
              "      </script>\n",
              "    </div>\n",
              "  </div>\n",
              "  "
            ],
            "application/vnd.google.colaboratory.module+javascript": "\n      import \"https://ssl.gstatic.com/colaboratory/data_table/f872b2c2305463fd/data_table.js\";\n\n      window.createDataTable({\n        data: [[{\n            'v': 0,\n            'f': \"0\",\n        },\n\"Roberts, Julia\",\n{\n            'v': 3161,\n            'f': \"3161\",\n        },\n\"20 Something\",\n{\n            'v': null,\n            'f': \"null\",\n        },\n{\n            'v': 1,\n            'f': \"1\",\n        },\n{\n            'v': 2006,\n            'f': \"2006\",\n        },\n{\n            'v': null,\n            'f': \"null\",\n        },\n\"S5352\",\n{\n            'v': null,\n            'f': \"null\",\n        },\n{\n            'v': null,\n            'f': \"null\",\n        },\n{\n            'v': null,\n            'f': \"null\",\n        },\n{\n            'v': null,\n            'f': \"null\",\n        },\n{\n            'v': 43788412,\n            'f': \"43788412\",\n        }],\n [{\n            'v': 1,\n            'f': \"1\",\n        },\n\"Roberts, Julia\",\n{\n            'v': 175564,\n            'f': \"175564\",\n        },\n\"Firehouse\",\n{\n            'v': null,\n            'f': \"null\",\n        },\n{\n            'v': 1,\n            'f': \"1\",\n        },\n{\n            'v': 1987,\n            'f': \"1987\",\n        },\n{\n            'v': null,\n            'f': \"null\",\n        },\n\"F62\",\n{\n            'v': null,\n            'f': \"null\",\n        },\n{\n            'v': null,\n            'f': \"null\",\n        },\n{\n            'v': null,\n            'f': \"null\",\n        },\n{\n            'v': null,\n            'f': \"null\",\n        },\n{\n            'v': 43846816,\n            'f': \"43846816\",\n        }],\n [{\n            'v': 2,\n            'f': \"2\",\n        },\n\"Roberts, Julia\",\n{\n            'v': 198621,\n            'f': \"198621\",\n        },\n\"Grand Champion\",\n{\n            'v': null,\n            'f': \"null\",\n        },\n{\n            'v': 1,\n            'f': \"1\",\n        },\n{\n            'v': 2002,\n            'f': \"2002\",\n        },\n{\n            'v': null,\n            'f': \"null\",\n        },\n\"G6532\",\n{\n            'v': null,\n            'f': \"null\",\n        },\n{\n            'v': null,\n            'f': \"null\",\n        },\n{\n            'v': null,\n            'f': \"null\",\n        },\n{\n            'v': null,\n            'f': \"null\",\n        },\n{\n            'v': 43876968,\n            'f': \"43876968\",\n        }],\n [{\n            'v': 3,\n            'f': \"3\",\n        },\n\"Roberts, Julia\",\n{\n            'v': 304918,\n            'f': \"304918\",\n        },\n\"Ljuset h\\u00e5ller mig s\\u00e4llskap\",\n{\n            'v': null,\n            'f': \"null\",\n        },\n{\n            'v': 1,\n            'f': \"1\",\n        },\n{\n            'v': 2000,\n            'f': \"2000\",\n        },\n{\n            'v': null,\n            'f': \"null\",\n        },\n\"L2346\",\n{\n            'v': null,\n            'f': \"null\",\n        },\n{\n            'v': null,\n            'f': \"null\",\n        },\n{\n            'v': null,\n            'f': \"null\",\n        },\n{\n            'v': null,\n            'f': \"null\",\n        },\n{\n            'v': 44099445,\n            'f': \"44099445\",\n        }],\n [{\n            'v': 4,\n            'f': \"4\",\n        },\n\"Roberts, Julia\",\n{\n            'v': 422036,\n            'f': \"422036\",\n        },\n\"Runaway Bride\",\n{\n            'v': null,\n            'f': \"null\",\n        },\n{\n            'v': 1,\n            'f': \"1\",\n        },\n{\n            'v': 1999,\n            'f': \"1999\",\n        },\n{\n            'v': null,\n            'f': \"null\",\n        },\n\"R5163\",\n{\n            'v': null,\n            'f': \"null\",\n        },\n{\n            'v': null,\n            'f': \"null\",\n        },\n{\n            'v': null,\n            'f': \"null\",\n        },\n{\n            'v': null,\n            'f': \"null\",\n        },\n{\n            'v': 44164278,\n            'f': \"44164278\",\n        }]],\n        columns: [[\"number\", \"index\"], [\"string\", \"name\"], [\"number\", \"id\"], [\"string\", \"title\"], [\"number\", \"imdb_index\"], [\"number\", \"kind_id\"], [\"number\", \"year\"], [\"number\", \"imdb_id\"], [\"string\", \"phonetic_code\"], [\"number\", \"episode_of_id\"], [\"number\", \"season_nr\"], [\"number\", \"episode_nr\"], [\"number\", \"series_years\"], [\"number\", \"__search_id\"]],\n        columnOptions: [{\"width\": \"1px\", \"className\": \"index_column\"}],\n        rowsPerPage: 25,\n        helpUrl: \"https://colab.research.google.com/notebooks/data_table.ipynb\",\n        suppressOutputScrolling: true,\n        minimumWidth: undefined,\n      });\n    "
          },
          "metadata": {}
        },
        {
          "output_type": "stream",
          "name": "stdout",
          "text": [
            "\n"
          ]
        }
      ]
    },
    {
      "cell_type": "code",
      "source": [
        "result = lathe.keyword_search('julia roberts films')\n",
        "result.cjns(df=False)"
      ],
      "metadata": {
        "colab": {
          "base_uri": "https://localhost:8080/",
          "height": 1000
        },
        "id": "J-fRKmuvP5qE",
        "outputId": "20a02c3c-e736-48e4-afec-bc13202c01cb"
      },
      "execution_count": 16,
      "outputs": [
        {
          "output_type": "stream",
          "name": "stdout",
          "text": [
            "Keyword Query: julia roberts films\n"
          ]
        },
        {
          "output_type": "display_data",
          "data": {
            "text/plain": [
              "<IPython.core.display.Markdown object>"
            ],
            "text/markdown": "---"
          },
          "metadata": {}
        },
        {
          "output_type": "display_data",
          "data": {
            "text/plain": [
              "<IPython.core.display.Markdown object>"
            ],
            "text/markdown": "**1st CJN**:"
          },
          "metadata": {}
        },
        {
          "output_type": "display_data",
          "data": {
            "text/plain": [
              "<IPython.core.display.Markdown object>"
            ],
            "text/markdown": "---"
          },
          "metadata": {}
        },
        {
          "output_type": "stream",
          "name": "stdout",
          "text": [
            "Graph:\n"
          ]
        },
        {
          "output_type": "display_data",
          "data": {
            "text/plain": [
              "<graphviz.dot.Digraph at 0x7f31a1ab5250>"
            ],
            "image/svg+xml": "<?xml version=\"1.0\" encoding=\"UTF-8\" standalone=\"no\"?>\n<!DOCTYPE svg PUBLIC \"-//W3C//DTD SVG 1.1//EN\"\n \"http://www.w3.org/Graphics/SVG/1.1/DTD/svg11.dtd\">\n<!-- Generated by graphviz version 2.40.1 (20161225.0304)\n -->\n<!-- Title: %3 Pages: 1 -->\n<svg width=\"280pt\" height=\"98pt\"\n viewBox=\"0.00 0.00 280.33 98.00\" xmlns=\"http://www.w3.org/2000/svg\" xmlns:xlink=\"http://www.w3.org/1999/xlink\">\n<g id=\"graph0\" class=\"graph\" transform=\"scale(1 1) rotate(0) translate(4 94)\">\n<title>%3</title>\n<polygon fill=\"#ffffff\" stroke=\"transparent\" points=\"-4,4 -4,-94 276.3265,-94 276.3265,4 -4,4\"/>\n<!-- t1 -->\n<g id=\"node1\" class=\"node\">\n<title>t1</title>\n<ellipse fill=\"none\" stroke=\"#000000\" cx=\"77.3649\" cy=\"-18\" rx=\"77.2301\" ry=\"18\"/>\n<text text-anchor=\"middle\" x=\"77.3649\" y=\"-15.8\" font-family=\"Times,serif\" font-size=\"9.00\" fill=\"#000000\">PERSON.v(name{julia,roberts})</text>\n</g>\n<!-- t2 -->\n<g id=\"node2\" class=\"node\">\n<title>t2</title>\n<ellipse fill=\"none\" stroke=\"#000000\" cx=\"148.3649\" cy=\"-72\" rx=\"32.1641\" ry=\"18\"/>\n<text text-anchor=\"middle\" x=\"148.3649\" y=\"-69.8\" font-family=\"Times,serif\" font-size=\"9.00\" fill=\"#000000\">CASTING</text>\n</g>\n<!-- t2&#45;&gt;t1 -->\n<g id=\"edge1\" class=\"edge\">\n<title>t2&#45;&gt;t1</title>\n<path fill=\"none\" stroke=\"#000000\" d=\"M128.9639,-57.2443C122.2509,-52.1386 114.5634,-46.2918 107.2085,-40.6979\"/>\n<polygon fill=\"#000000\" stroke=\"#000000\" points=\"109.0832,-38.1662 100.0128,-35.2251 105.2694,-43.1807 109.0832,-38.1662\"/>\n</g>\n<!-- t3 -->\n<g id=\"node3\" class=\"node\">\n<title>t3</title>\n<ellipse fill=\"none\" stroke=\"#000000\" cx=\"220.3649\" cy=\"-18\" rx=\"51.9231\" ry=\"18\"/>\n<text text-anchor=\"middle\" x=\"220.3649\" y=\"-15.8\" font-family=\"Times,serif\" font-size=\"9.00\" fill=\"#000000\">MOVIE.s(*{films})</text>\n</g>\n<!-- t2&#45;&gt;t3 -->\n<g id=\"edge2\" class=\"edge\">\n<title>t2&#45;&gt;t3</title>\n<path fill=\"none\" stroke=\"#000000\" d=\"M167.6596,-57.529C174.7826,-52.1868 183.0267,-46.0037 190.8485,-40.1373\"/>\n<polygon fill=\"#000000\" stroke=\"#000000\" points=\"193.1624,-42.3395 198.4724,-34.4194 189.3823,-37.2995 193.1624,-42.3395\"/>\n</g>\n</g>\n</svg>\n"
          },
          "metadata": {}
        },
        {
          "output_type": "stream",
          "name": "stdout",
          "text": [
            "\n"
          ]
        },
        {
          "output_type": "display_data",
          "data": {
            "text/plain": [
              "<IPython.core.display.Markdown object>"
            ],
            "text/markdown": "---"
          },
          "metadata": {}
        },
        {
          "output_type": "display_data",
          "data": {
            "text/plain": [
              "<IPython.core.display.Markdown object>"
            ],
            "text/markdown": "**2nd CJN**:"
          },
          "metadata": {}
        },
        {
          "output_type": "display_data",
          "data": {
            "text/plain": [
              "<IPython.core.display.Markdown object>"
            ],
            "text/markdown": "---"
          },
          "metadata": {}
        },
        {
          "output_type": "stream",
          "name": "stdout",
          "text": [
            "Graph:\n"
          ]
        },
        {
          "output_type": "display_data",
          "data": {
            "text/plain": [
              "<graphviz.dot.Digraph at 0x7f31a1ab5110>"
            ],
            "image/svg+xml": "<?xml version=\"1.0\" encoding=\"UTF-8\" standalone=\"no\"?>\n<!DOCTYPE svg PUBLIC \"-//W3C//DTD SVG 1.1//EN\"\n \"http://www.w3.org/Graphics/SVG/1.1/DTD/svg11.dtd\">\n<!-- Generated by graphviz version 2.40.1 (20161225.0304)\n -->\n<!-- Title: %3 Pages: 1 -->\n<svg width=\"201pt\" height=\"44pt\"\n viewBox=\"0.00 0.00 200.83 44.00\" xmlns=\"http://www.w3.org/2000/svg\" xmlns:xlink=\"http://www.w3.org/1999/xlink\">\n<g id=\"graph0\" class=\"graph\" transform=\"scale(1 1) rotate(0) translate(4 40)\">\n<title>%3</title>\n<polygon fill=\"#ffffff\" stroke=\"transparent\" points=\"-4,4 -4,-40 196.835,-40 196.835,4 -4,4\"/>\n<!-- t1 -->\n<g id=\"node1\" class=\"node\">\n<title>t1</title>\n<ellipse fill=\"none\" stroke=\"#000000\" cx=\"96.4175\" cy=\"-18\" rx=\"96.3351\" ry=\"18\"/>\n<text text-anchor=\"middle\" x=\"96.4175\" y=\"-15.8\" font-family=\"Times,serif\" font-size=\"9.00\" fill=\"#000000\">MOVIE.s(*{films}).v(title{julia,roberts})</text>\n</g>\n</g>\n</svg>\n"
          },
          "metadata": {}
        },
        {
          "output_type": "stream",
          "name": "stdout",
          "text": [
            "\n"
          ]
        },
        {
          "output_type": "display_data",
          "data": {
            "text/plain": [
              "<IPython.core.display.Markdown object>"
            ],
            "text/markdown": "---"
          },
          "metadata": {}
        },
        {
          "output_type": "display_data",
          "data": {
            "text/plain": [
              "<IPython.core.display.Markdown object>"
            ],
            "text/markdown": "**3rd CJN**:"
          },
          "metadata": {}
        },
        {
          "output_type": "display_data",
          "data": {
            "text/plain": [
              "<IPython.core.display.Markdown object>"
            ],
            "text/markdown": "---"
          },
          "metadata": {}
        },
        {
          "output_type": "stream",
          "name": "stdout",
          "text": [
            "Graph:\n"
          ]
        },
        {
          "output_type": "display_data",
          "data": {
            "text/plain": [
              "<graphviz.dot.Digraph at 0x7f31a2627b10>"
            ],
            "image/svg+xml": "<?xml version=\"1.0\" encoding=\"UTF-8\" standalone=\"no\"?>\n<!DOCTYPE svg PUBLIC \"-//W3C//DTD SVG 1.1//EN\"\n \"http://www.w3.org/Graphics/SVG/1.1/DTD/svg11.dtd\">\n<!-- Generated by graphviz version 2.40.1 (20161225.0304)\n -->\n<!-- Title: %3 Pages: 1 -->\n<svg width=\"177pt\" height=\"98pt\"\n viewBox=\"0.00 0.00 176.59 98.00\" xmlns=\"http://www.w3.org/2000/svg\" xmlns:xlink=\"http://www.w3.org/1999/xlink\">\n<g id=\"graph0\" class=\"graph\" transform=\"scale(1 1) rotate(0) translate(4 94)\">\n<title>%3</title>\n<polygon fill=\"#ffffff\" stroke=\"transparent\" points=\"-4,4 -4,-94 172.5863,-94 172.5863,4 -4,4\"/>\n<!-- t1 -->\n<g id=\"node1\" class=\"node\">\n<title>t1</title>\n<ellipse fill=\"none\" stroke=\"#000000\" cx=\"84.2931\" cy=\"-72\" rx=\"84.0868\" ry=\"18\"/>\n<text text-anchor=\"middle\" x=\"84.2931\" y=\"-69.8\" font-family=\"Times,serif\" font-size=\"9.00\" fill=\"#000000\">MOVIEINFO.v(info{roberts,julia})</text>\n</g>\n<!-- t2 -->\n<g id=\"node2\" class=\"node\">\n<title>t2</title>\n<ellipse fill=\"none\" stroke=\"#000000\" cx=\"84.2931\" cy=\"-18\" rx=\"51.9231\" ry=\"18\"/>\n<text text-anchor=\"middle\" x=\"84.2931\" y=\"-15.8\" font-family=\"Times,serif\" font-size=\"9.00\" fill=\"#000000\">MOVIE.s(*{films})</text>\n</g>\n<!-- t1&#45;&gt;t2 -->\n<g id=\"edge1\" class=\"edge\">\n<title>t1&#45;&gt;t2</title>\n<path fill=\"none\" stroke=\"#000000\" d=\"M84.2931,-53.7181C84.2931,-50.9911 84.2931,-48.1312 84.2931,-45.2673\"/>\n<polygon fill=\"#000000\" stroke=\"#000000\" points=\"87.4432,-45.2631 84.2931,-36.2631 81.1432,-45.2631 87.4432,-45.2631\"/>\n</g>\n</g>\n</svg>\n"
          },
          "metadata": {}
        },
        {
          "output_type": "stream",
          "name": "stdout",
          "text": [
            "\n"
          ]
        },
        {
          "output_type": "display_data",
          "data": {
            "text/plain": [
              "<IPython.core.display.Markdown object>"
            ],
            "text/markdown": "---"
          },
          "metadata": {}
        },
        {
          "output_type": "display_data",
          "data": {
            "text/plain": [
              "<IPython.core.display.Markdown object>"
            ],
            "text/markdown": "**4th CJN**:"
          },
          "metadata": {}
        },
        {
          "output_type": "display_data",
          "data": {
            "text/plain": [
              "<IPython.core.display.Markdown object>"
            ],
            "text/markdown": "---"
          },
          "metadata": {}
        },
        {
          "output_type": "stream",
          "name": "stdout",
          "text": [
            "Graph:\n"
          ]
        },
        {
          "output_type": "display_data",
          "data": {
            "text/plain": [
              "<graphviz.dot.Digraph at 0x7f31a757f2d0>"
            ],
            "image/svg+xml": "<?xml version=\"1.0\" encoding=\"UTF-8\" standalone=\"no\"?>\n<!DOCTYPE svg PUBLIC \"-//W3C//DTD SVG 1.1//EN\"\n \"http://www.w3.org/Graphics/SVG/1.1/DTD/svg11.dtd\">\n<!-- Generated by graphviz version 2.40.1 (20161225.0304)\n -->\n<!-- Title: %3 Pages: 1 -->\n<svg width=\"399pt\" height=\"98pt\"\n viewBox=\"0.00 0.00 399.33 98.00\" xmlns=\"http://www.w3.org/2000/svg\" xmlns:xlink=\"http://www.w3.org/1999/xlink\">\n<g id=\"graph0\" class=\"graph\" transform=\"scale(1 1) rotate(0) translate(4 94)\">\n<title>%3</title>\n<polygon fill=\"#ffffff\" stroke=\"transparent\" points=\"-4,4 -4,-94 395.3265,-94 395.3265,4 -4,4\"/>\n<!-- t1 -->\n<g id=\"node1\" class=\"node\">\n<title>t1</title>\n<ellipse fill=\"none\" stroke=\"#000000\" cx=\"61.7765\" cy=\"-18\" rx=\"61.5538\" ry=\"18\"/>\n<text text-anchor=\"middle\" x=\"61.7765\" y=\"-15.8\" font-family=\"Times,serif\" font-size=\"9.00\" fill=\"#000000\">PERSON.v(name{julia})</text>\n</g>\n<!-- t2 -->\n<g id=\"node2\" class=\"node\">\n<title>t2</title>\n<ellipse fill=\"none\" stroke=\"#000000\" cx=\"137.7765\" cy=\"-72\" rx=\"32.1641\" ry=\"18\"/>\n<text text-anchor=\"middle\" x=\"137.7765\" y=\"-69.8\" font-family=\"Times,serif\" font-size=\"9.00\" fill=\"#000000\">CASTING</text>\n</g>\n<!-- t2&#45;&gt;t1 -->\n<g id=\"edge1\" class=\"edge\">\n<title>t2&#45;&gt;t1</title>\n<path fill=\"none\" stroke=\"#000000\" d=\"M117.8084,-57.8121C110.1986,-52.4052 101.3328,-46.1058 92.929,-40.1347\"/>\n<polygon fill=\"#000000\" stroke=\"#000000\" points=\"94.5517,-37.4235 85.3905,-34.7784 90.9026,-42.5591 94.5517,-37.4235\"/>\n</g>\n<!-- t3 -->\n<g id=\"node3\" class=\"node\">\n<title>t3</title>\n<ellipse fill=\"none\" stroke=\"#000000\" cx=\"189.7765\" cy=\"-18\" rx=\"51.9231\" ry=\"18\"/>\n<text text-anchor=\"middle\" x=\"189.7765\" y=\"-15.8\" font-family=\"Times,serif\" font-size=\"9.00\" fill=\"#000000\">MOVIE.s(*{films})</text>\n</g>\n<!-- t2&#45;&gt;t3 -->\n<g id=\"edge2\" class=\"edge\">\n<title>t2&#45;&gt;t3</title>\n<path fill=\"none\" stroke=\"#000000\" d=\"M153.0969,-56.0903C157.4634,-51.5559 162.3162,-46.5164 167.0247,-41.6269\"/>\n<polygon fill=\"#000000\" stroke=\"#000000\" points=\"169.3228,-43.7816 173.2966,-35.1138 164.7847,-39.4117 169.3228,-43.7816\"/>\n</g>\n<!-- t4 -->\n<g id=\"node4\" class=\"node\">\n<title>t4</title>\n<ellipse fill=\"none\" stroke=\"#000000\" cx=\"240.7765\" cy=\"-72\" rx=\"32.1641\" ry=\"18\"/>\n<text text-anchor=\"middle\" x=\"240.7765\" y=\"-69.8\" font-family=\"Times,serif\" font-size=\"9.00\" fill=\"#000000\">CASTING</text>\n</g>\n<!-- t4&#45;&gt;t3 -->\n<g id=\"edge4\" class=\"edge\">\n<title>t4&#45;&gt;t3</title>\n<path fill=\"none\" stroke=\"#000000\" d=\"M225.4748,-55.7982C221.3745,-51.4567 216.8529,-46.6692 212.4456,-42.0026\"/>\n<polygon fill=\"#000000\" stroke=\"#000000\" points=\"214.6022,-39.6983 206.1324,-35.3181 210.022,-44.0241 214.6022,-39.6983\"/>\n</g>\n<!-- t5 -->\n<g id=\"node5\" class=\"node\">\n<title>t5</title>\n<ellipse fill=\"none\" stroke=\"#000000\" cx=\"323.7765\" cy=\"-18\" rx=\"67.6\" ry=\"18\"/>\n<text text-anchor=\"middle\" x=\"323.7765\" y=\"-15.8\" font-family=\"Times,serif\" font-size=\"9.00\" fill=\"#000000\">PERSON.v(name{roberts})</text>\n</g>\n<!-- t4&#45;&gt;t5 -->\n<g id=\"edge3\" class=\"edge\">\n<title>t4&#45;&gt;t5</title>\n<path fill=\"none\" stroke=\"#000000\" d=\"M262.151,-58.0937C270.7067,-52.5273 280.7682,-45.9813 290.2521,-39.811\"/>\n<polygon fill=\"#000000\" stroke=\"#000000\" points=\"292.211,-42.2946 298.0371,-34.7461 288.7753,-37.0139 292.211,-42.2946\"/>\n</g>\n</g>\n</svg>\n"
          },
          "metadata": {}
        },
        {
          "output_type": "stream",
          "name": "stdout",
          "text": [
            "\n"
          ]
        },
        {
          "output_type": "display_data",
          "data": {
            "text/plain": [
              "<IPython.core.display.Markdown object>"
            ],
            "text/markdown": "---"
          },
          "metadata": {}
        },
        {
          "output_type": "display_data",
          "data": {
            "text/plain": [
              "<IPython.core.display.Markdown object>"
            ],
            "text/markdown": "**5th CJN**:"
          },
          "metadata": {}
        },
        {
          "output_type": "display_data",
          "data": {
            "text/plain": [
              "<IPython.core.display.Markdown object>"
            ],
            "text/markdown": "---"
          },
          "metadata": {}
        },
        {
          "output_type": "stream",
          "name": "stdout",
          "text": [
            "Graph:\n"
          ]
        },
        {
          "output_type": "display_data",
          "data": {
            "text/plain": [
              "<graphviz.dot.Digraph at 0x7f31a6f70810>"
            ],
            "image/svg+xml": "<?xml version=\"1.0\" encoding=\"UTF-8\" standalone=\"no\"?>\n<!DOCTYPE svg PUBLIC \"-//W3C//DTD SVG 1.1//EN\"\n \"http://www.w3.org/Graphics/SVG/1.1/DTD/svg11.dtd\">\n<!-- Generated by graphviz version 2.40.1 (20161225.0304)\n -->\n<!-- Title: %3 Pages: 1 -->\n<svg width=\"292pt\" height=\"98pt\"\n viewBox=\"0.00 0.00 291.52 98.00\" xmlns=\"http://www.w3.org/2000/svg\" xmlns:xlink=\"http://www.w3.org/1999/xlink\">\n<g id=\"graph0\" class=\"graph\" transform=\"scale(1 1) rotate(0) translate(4 94)\">\n<title>%3</title>\n<polygon fill=\"#ffffff\" stroke=\"transparent\" points=\"-4,4 -4,-94 287.5226,-94 287.5226,4 -4,4\"/>\n<!-- t1 -->\n<g id=\"node1\" class=\"node\">\n<title>t1</title>\n<ellipse fill=\"none\" stroke=\"#000000\" cx=\"77.3649\" cy=\"-18\" rx=\"77.2301\" ry=\"18\"/>\n<text text-anchor=\"middle\" x=\"77.3649\" y=\"-15.8\" font-family=\"Times,serif\" font-size=\"9.00\" fill=\"#000000\">PERSON.v(name{julia,roberts})</text>\n</g>\n<!-- t2 -->\n<g id=\"node2\" class=\"node\">\n<title>t2</title>\n<ellipse fill=\"none\" stroke=\"#000000\" cx=\"151.3649\" cy=\"-72\" rx=\"32.1641\" ry=\"18\"/>\n<text text-anchor=\"middle\" x=\"151.3649\" y=\"-69.8\" font-family=\"Times,serif\" font-size=\"9.00\" fill=\"#000000\">CASTING</text>\n</g>\n<!-- t2&#45;&gt;t1 -->\n<g id=\"edge2\" class=\"edge\">\n<title>t2&#45;&gt;t1</title>\n<path fill=\"none\" stroke=\"#000000\" d=\"M131.5343,-57.529C124.4703,-52.3742 116.3335,-46.4366 108.549,-40.756\"/>\n<polygon fill=\"#000000\" stroke=\"#000000\" points=\"110.0617,-37.9603 100.9347,-35.1996 106.348,-43.0494 110.0617,-37.9603\"/>\n</g>\n<!-- t3 -->\n<g id=\"node3\" class=\"node\">\n<title>t3</title>\n<ellipse fill=\"none\" stroke=\"#000000\" cx=\"226.3649\" cy=\"-18\" rx=\"57.3158\" ry=\"18\"/>\n<text text-anchor=\"middle\" x=\"226.3649\" y=\"-15.8\" font-family=\"Times,serif\" font-size=\"9.00\" fill=\"#000000\">MOVIE.v(title{films})</text>\n</g>\n<!-- t2&#45;&gt;t3 -->\n<g id=\"edge1\" class=\"edge\">\n<title>t2&#45;&gt;t3</title>\n<path fill=\"none\" stroke=\"#000000\" d=\"M171.4636,-57.529C178.9715,-52.1233 187.6751,-45.8567 195.9088,-39.9284\"/>\n<polygon fill=\"#000000\" stroke=\"#000000\" points=\"197.8272,-42.4288 203.2905,-34.6136 194.1461,-37.3161 197.8272,-42.4288\"/>\n</g>\n</g>\n</svg>\n"
          },
          "metadata": {}
        },
        {
          "output_type": "stream",
          "name": "stdout",
          "text": [
            "\n"
          ]
        }
      ]
    },
    {
      "cell_type": "markdown",
      "source": [
        "### Kyeowrd Search on MONDIAL dataset"
      ],
      "metadata": {
        "id": "EwLLNTCSNiwl"
      }
    },
    {
      "cell_type": "code",
      "source": [
        "lathe.change_queryset(2)\n",
        "lathe.index_handler.schema_graph.show()"
      ],
      "metadata": {
        "colab": {
          "base_uri": "https://localhost:8080/",
          "height": 365
        },
        "id": "vg4fb8vXLlvl",
        "outputId": "56905d72-bfa8-4326-d498-40e30f9d33f7"
      },
      "execution_count": 17,
      "outputs": [
        {
          "output_type": "stream",
          "name": "stdout",
          "text": [
            "./config/queryset_configs/coffman_mondial_config.json\n",
            "Changed to query set coffman_mondial.\n",
            "Changed to dataset mondial.\n",
            "Graph:\n"
          ]
        },
        {
          "output_type": "display_data",
          "data": {
            "text/plain": [
              "<graphviz.dot.Digraph at 0x7f31a1ad6c90>"
            ],
            "image/svg+xml": "<?xml version=\"1.0\" encoding=\"UTF-8\" standalone=\"no\"?>\n<!DOCTYPE svg PUBLIC \"-//W3C//DTD SVG 1.1//EN\"\n \"http://www.w3.org/Graphics/SVG/1.1/DTD/svg11.dtd\">\n<!-- Generated by graphviz version 2.40.1 (20161225.0304)\n -->\n<!-- Title: %3 Pages: 1 -->\n<svg width=\"1026pt\" height=\"206pt\"\n viewBox=\"0.00 0.00 1025.91 206.00\" xmlns=\"http://www.w3.org/2000/svg\" xmlns:xlink=\"http://www.w3.org/1999/xlink\">\n<g id=\"graph0\" class=\"graph\" transform=\"scale(1 1) rotate(0) translate(4 202)\">\n<title>%3</title>\n<polygon fill=\"#ffffff\" stroke=\"transparent\" points=\"-4,4 -4,-202 1021.9135,-202 1021.9135,4 -4,4\"/>\n<!-- borders -->\n<g id=\"node1\" class=\"node\">\n<title>borders</title>\n<ellipse fill=\"none\" stroke=\"#000000\" cx=\"587.3731\" cy=\"-180\" rx=\"34.1275\" ry=\"18\"/>\n<text text-anchor=\"middle\" x=\"587.3731\" y=\"-177.8\" font-family=\"Times,serif\" font-size=\"9.00\" fill=\"#000000\">BORDERS</text>\n</g>\n<!-- country -->\n<g id=\"node2\" class=\"node\">\n<title>country</title>\n<ellipse fill=\"none\" stroke=\"#000000\" cx=\"414.3731\" cy=\"-126\" rx=\"34.7826\" ry=\"18\"/>\n<text text-anchor=\"middle\" x=\"414.3731\" y=\"-123.8\" font-family=\"Times,serif\" font-size=\"9.00\" fill=\"#000000\">COUNTRY</text>\n</g>\n<!-- borders&#45;&gt;country -->\n<g id=\"edge1\" class=\"edge\">\n<title>borders&#45;&gt;country</title>\n<path fill=\"none\" stroke=\"#000000\" d=\"M561.5779,-167.9873C556.5856,-165.859 551.3567,-163.7627 546.3731,-162 541.8958,-160.4164 491.4859,-146.7587 454.2873,-136.7326\"/>\n<polygon fill=\"#000000\" stroke=\"#000000\" points=\"454.6603,-133.5708 445.1507,-134.2714 453.0216,-139.654 454.6603,-133.5708\"/>\n</g>\n<!-- city -->\n<g id=\"node3\" class=\"node\">\n<title>city</title>\n<ellipse fill=\"none\" stroke=\"#000000\" cx=\"438.3731\" cy=\"-72\" rx=\"27\" ry=\"18\"/>\n<text text-anchor=\"middle\" x=\"438.3731\" y=\"-69.8\" font-family=\"Times,serif\" font-size=\"9.00\" fill=\"#000000\">CITY</text>\n</g>\n<!-- country&#45;&gt;city -->\n<g id=\"edge2\" class=\"edge\">\n<title>country&#45;&gt;city</title>\n<path fill=\"none\" stroke=\"#000000\" d=\"M422.2316,-108.3184C423.6969,-105.0214 425.2561,-101.5131 426.8057,-98.0265\"/>\n<polygon fill=\"#000000\" stroke=\"#000000\" points=\"429.8021,-99.0406 430.5789,-89.5369 424.0451,-96.4819 429.8021,-99.0406\"/>\n</g>\n<!-- province -->\n<g id=\"node4\" class=\"node\">\n<title>province</title>\n<ellipse fill=\"none\" stroke=\"#000000\" cx=\"438.3731\" cy=\"-18\" rx=\"35.5926\" ry=\"18\"/>\n<text text-anchor=\"middle\" x=\"438.3731\" y=\"-15.8\" font-family=\"Times,serif\" font-size=\"9.00\" fill=\"#000000\">PROVINCE</text>\n</g>\n<!-- city&#45;&gt;province -->\n<g id=\"edge3\" class=\"edge\">\n<title>city&#45;&gt;province</title>\n<path fill=\"none\" stroke=\"#000000\" d=\"M433.3926,-54.0188C433.2196,-51.2249 433.1299,-48.2855 433.1234,-45.3406\"/>\n<polygon fill=\"#000000\" stroke=\"#000000\" points=\"436.2794,-45.1726 433.3861,-36.0868 429.9819,-44.9938 436.2794,-45.1726\"/>\n</g>\n<!-- province&#45;&gt;country -->\n<g id=\"edge5\" class=\"edge\">\n<title>province&#45;&gt;country</title>\n<path fill=\"none\" stroke=\"#000000\" d=\"M419.0629,-33.2658C413.1977,-39.0607 407.4856,-46.1712 404.3731,-54 398.6361,-68.4299 400.7243,-85.6221 404.4408,-99.5876\"/>\n<polygon fill=\"#000000\" stroke=\"#000000\" points=\"401.4354,-100.5321 407.0523,-108.2375 407.4665,-98.7112 401.4354,-100.5321\"/>\n</g>\n<!-- province&#45;&gt;city -->\n<g id=\"edge4\" class=\"edge\">\n<title>province&#45;&gt;city</title>\n<path fill=\"none\" stroke=\"#000000\" d=\"M443.3601,-36.0868C443.531,-38.8843 443.6186,-41.8257 443.6229,-44.7706\"/>\n<polygon fill=\"#000000\" stroke=\"#000000\" points=\"440.467,-44.9309 443.3536,-54.0188 446.7643,-45.1143 440.467,-44.9309\"/>\n</g>\n<!-- economy -->\n<g id=\"node5\" class=\"node\">\n<title>economy</title>\n<ellipse fill=\"none\" stroke=\"#000000\" cx=\"36.3731\" cy=\"-180\" rx=\"36.2466\" ry=\"18\"/>\n<text text-anchor=\"middle\" x=\"36.3731\" y=\"-177.8\" font-family=\"Times,serif\" font-size=\"9.00\" fill=\"#000000\">ECONOMY</text>\n</g>\n<!-- economy&#45;&gt;country -->\n<g id=\"edge6\" class=\"edge\">\n<title>economy&#45;&gt;country</title>\n<path fill=\"none\" stroke=\"#000000\" d=\"M62.7973,-167.5363C68.1855,-165.3964 73.8866,-163.4111 79.3731,-162 133.4026,-148.1034 292.9014,-134.9292 370.7028,-129.116\"/>\n<polygon fill=\"#000000\" stroke=\"#000000\" points=\"371.0305,-132.2504 379.7732,-128.444 370.565,-125.9676 371.0305,-132.2504\"/>\n</g>\n<!-- encompasses -->\n<g id=\"node6\" class=\"node\">\n<title>encompasses</title>\n<ellipse fill=\"none\" stroke=\"#000000\" cx=\"832.3731\" cy=\"-180\" rx=\"47.186\" ry=\"18\"/>\n<text text-anchor=\"middle\" x=\"832.3731\" y=\"-177.8\" font-family=\"Times,serif\" font-size=\"9.00\" fill=\"#000000\">ENCOMPASSES</text>\n</g>\n<!-- encompasses&#45;&gt;country -->\n<g id=\"edge8\" class=\"edge\">\n<title>encompasses&#45;&gt;country</title>\n<path fill=\"none\" stroke=\"#000000\" d=\"M789.4115,-172.2269C768.6176,-168.6872 743.2568,-164.6957 720.3731,-162 614.5815,-149.5375 586.3818,-161.8975 481.3731,-144 472.112,-142.4216 462.2745,-140.134 453.0715,-137.7159\"/>\n<polygon fill=\"#000000\" stroke=\"#000000\" points=\"453.6367,-134.605 444.1249,-135.2757 451.9789,-140.683 453.6367,-134.605\"/>\n</g>\n<!-- continent -->\n<g id=\"node7\" class=\"node\">\n<title>continent</title>\n<ellipse fill=\"none\" stroke=\"#000000\" cx=\"888.3731\" cy=\"-126\" rx=\"39.0211\" ry=\"18\"/>\n<text text-anchor=\"middle\" x=\"888.3731\" y=\"-123.8\" font-family=\"Times,serif\" font-size=\"9.00\" fill=\"#000000\">CONTINENT</text>\n</g>\n<!-- encompasses&#45;&gt;continent -->\n<g id=\"edge7\" class=\"edge\">\n<title>encompasses&#45;&gt;continent</title>\n<path fill=\"none\" stroke=\"#000000\" d=\"M849.7848,-163.2101C854.4645,-158.6976 859.6069,-153.7388 864.5693,-148.9536\"/>\n<polygon fill=\"#000000\" stroke=\"#000000\" points=\"866.8723,-151.1088 871.1644,-142.5941 862.4992,-146.5738 866.8723,-151.1088\"/>\n</g>\n<!-- ethnic_group -->\n<g id=\"node8\" class=\"node\">\n<title>ethnic_group</title>\n<ellipse fill=\"none\" stroke=\"#000000\" cx=\"136.3731\" cy=\"-180\" rx=\"49.8047\" ry=\"18\"/>\n<text text-anchor=\"middle\" x=\"136.3731\" y=\"-177.8\" font-family=\"Times,serif\" font-size=\"9.00\" fill=\"#000000\">ETHNIC_GROUP</text>\n</g>\n<!-- ethnic_group&#45;&gt;country -->\n<g id=\"edge9\" class=\"edge\">\n<title>ethnic_group&#45;&gt;country</title>\n<path fill=\"none\" stroke=\"#000000\" d=\"M172.6435,-167.6861C179.4813,-165.6102 186.6091,-163.61 193.3731,-162 254.4523,-147.4615 326.4283,-136.9383 371.2393,-131.1509\"/>\n<polygon fill=\"#000000\" stroke=\"#000000\" points=\"371.8452,-134.2492 380.3755,-129.988 371.0497,-127.9996 371.8452,-134.2492\"/>\n</g>\n<!-- geo_desert -->\n<g id=\"node9\" class=\"node\">\n<title>geo_desert</title>\n<ellipse fill=\"none\" stroke=\"#000000\" cx=\"225.3731\" cy=\"-72\" rx=\"42.2937\" ry=\"18\"/>\n<text text-anchor=\"middle\" x=\"225.3731\" y=\"-69.8\" font-family=\"Times,serif\" font-size=\"9.00\" fill=\"#000000\">GEO_DESERT</text>\n</g>\n<!-- geo_desert&#45;&gt;province -->\n<g id=\"edge10\" class=\"edge\">\n<title>geo_desert&#45;&gt;province</title>\n<path fill=\"none\" stroke=\"#000000\" d=\"M256.5164,-59.7896C262.3981,-57.7036 268.5361,-55.6733 274.3731,-54 311.9115,-43.2388 322.2347,-44.3909 360.3731,-36 372.2706,-33.3824 385.1655,-30.447 396.9798,-27.7183\"/>\n<polygon fill=\"#000000\" stroke=\"#000000\" points=\"397.7131,-30.7819 405.7692,-25.6807 396.2903,-24.6447 397.7131,-30.7819\"/>\n</g>\n<!-- desert -->\n<g id=\"node10\" class=\"node\">\n<title>desert</title>\n<ellipse fill=\"none\" stroke=\"#000000\" cx=\"225.3731\" cy=\"-18\" rx=\"28.7356\" ry=\"18\"/>\n<text text-anchor=\"middle\" x=\"225.3731\" y=\"-15.8\" font-family=\"Times,serif\" font-size=\"9.00\" fill=\"#000000\">DESERT</text>\n</g>\n<!-- geo_desert&#45;&gt;desert -->\n<g id=\"edge11\" class=\"edge\">\n<title>geo_desert&#45;&gt;desert</title>\n<path fill=\"none\" stroke=\"#000000\" d=\"M225.3731,-53.7181C225.3731,-50.9911 225.3731,-48.1312 225.3731,-45.2673\"/>\n<polygon fill=\"#000000\" stroke=\"#000000\" points=\"228.5232,-45.2631 225.3731,-36.2631 222.2232,-45.2631 228.5232,-45.2631\"/>\n</g>\n<!-- geo_island -->\n<g id=\"node11\" class=\"node\">\n<title>geo_island</title>\n<ellipse fill=\"none\" stroke=\"#000000\" cx=\"324.3731\" cy=\"-72\" rx=\"42.949\" ry=\"18\"/>\n<text text-anchor=\"middle\" x=\"324.3731\" y=\"-69.8\" font-family=\"Times,serif\" font-size=\"9.00\" fill=\"#000000\">GEO_ISLAND</text>\n</g>\n<!-- geo_island&#45;&gt;province -->\n<g id=\"edge13\" class=\"edge\">\n<title>geo_island&#45;&gt;province</title>\n<path fill=\"none\" stroke=\"#000000\" d=\"M352.846,-58.5128C368.3461,-51.1707 387.6382,-42.0323 403.9747,-34.294\"/>\n<polygon fill=\"#000000\" stroke=\"#000000\" points=\"405.4273,-37.0915 412.2125,-30.3919 402.7303,-31.3979 405.4273,-37.0915\"/>\n</g>\n<!-- island -->\n<g id=\"node12\" class=\"node\">\n<title>island</title>\n<ellipse fill=\"none\" stroke=\"#000000\" cx=\"324.3731\" cy=\"-18\" rx=\"28.7356\" ry=\"18\"/>\n<text text-anchor=\"middle\" x=\"324.3731\" y=\"-15.8\" font-family=\"Times,serif\" font-size=\"9.00\" fill=\"#000000\">ISLAND</text>\n</g>\n<!-- geo_island&#45;&gt;island -->\n<g id=\"edge12\" class=\"edge\">\n<title>geo_island&#45;&gt;island</title>\n<path fill=\"none\" stroke=\"#000000\" d=\"M324.3731,-53.7181C324.3731,-50.9911 324.3731,-48.1312 324.3731,-45.2673\"/>\n<polygon fill=\"#000000\" stroke=\"#000000\" points=\"327.5232,-45.2631 324.3731,-36.2631 321.2232,-45.2631 327.5232,-45.2631\"/>\n</g>\n<!-- geo_lake -->\n<g id=\"node13\" class=\"node\">\n<title>geo_lake</title>\n<ellipse fill=\"none\" stroke=\"#000000\" cx=\"662.3731\" cy=\"-72\" rx=\"36.9009\" ry=\"18\"/>\n<text text-anchor=\"middle\" x=\"662.3731\" y=\"-69.8\" font-family=\"Times,serif\" font-size=\"9.00\" fill=\"#000000\">GEO_LAKE</text>\n</g>\n<!-- geo_lake&#45;&gt;province -->\n<g id=\"edge15\" class=\"edge\">\n<title>geo_lake&#45;&gt;province</title>\n<path fill=\"none\" stroke=\"#000000\" d=\"M634.7622,-59.6505C629.3981,-57.5533 623.7658,-55.5546 618.3731,-54 573.7199,-41.1277 560.906,-45.2929 515.3731,-36 503.6979,-33.6172 491.0881,-30.781 479.5196,-28.0727\"/>\n<polygon fill=\"#000000\" stroke=\"#000000\" points=\"479.9864,-24.9463 470.5029,-25.9393 478.5357,-31.077 479.9864,-24.9463\"/>\n</g>\n<!-- lake -->\n<g id=\"node14\" class=\"node\">\n<title>lake</title>\n<ellipse fill=\"none\" stroke=\"#000000\" cx=\"801.3731\" cy=\"-18\" rx=\"27\" ry=\"18\"/>\n<text text-anchor=\"middle\" x=\"801.3731\" y=\"-15.8\" font-family=\"Times,serif\" font-size=\"9.00\" fill=\"#000000\">LAKE</text>\n</g>\n<!-- geo_lake&#45;&gt;lake -->\n<g id=\"edge14\" class=\"edge\">\n<title>geo_lake&#45;&gt;lake</title>\n<path fill=\"none\" stroke=\"#000000\" d=\"M690.7321,-60.2717C695.9255,-58.16 701.3049,-55.9966 706.3731,-54 727.1037,-45.8334 750.5081,-36.9603 768.8992,-30.0666\"/>\n<polygon fill=\"#000000\" stroke=\"#000000\" points=\"770.165,-32.9564 777.4912,-26.8532 767.958,-27.0556 770.165,-32.9564\"/>\n</g>\n<!-- geo_mountain -->\n<g id=\"node15\" class=\"node\">\n<title>geo_mountain</title>\n<ellipse fill=\"none\" stroke=\"#000000\" cx=\"560.3731\" cy=\"-72\" rx=\"51.2686\" ry=\"18\"/>\n<text text-anchor=\"middle\" x=\"560.3731\" y=\"-69.8\" font-family=\"Times,serif\" font-size=\"9.00\" fill=\"#000000\">GEO_MOUNTAIN</text>\n</g>\n<!-- geo_mountain&#45;&gt;province -->\n<g id=\"edge17\" class=\"edge\">\n<title>geo_mountain&#45;&gt;province</title>\n<path fill=\"none\" stroke=\"#000000\" d=\"M528.319,-57.8121C511.6059,-50.4145 491.1188,-41.3465 473.9207,-33.7342\"/>\n<polygon fill=\"#000000\" stroke=\"#000000\" points=\"474.7693,-30.6651 465.2645,-29.9027 472.2193,-36.426 474.7693,-30.6651\"/>\n</g>\n<!-- mountain -->\n<g id=\"node16\" class=\"node\">\n<title>mountain</title>\n<ellipse fill=\"none\" stroke=\"#000000\" cx=\"560.3731\" cy=\"-18\" rx=\"38.2105\" ry=\"18\"/>\n<text text-anchor=\"middle\" x=\"560.3731\" y=\"-15.8\" font-family=\"Times,serif\" font-size=\"9.00\" fill=\"#000000\">MOUNTAIN</text>\n</g>\n<!-- geo_mountain&#45;&gt;mountain -->\n<g id=\"edge16\" class=\"edge\">\n<title>geo_mountain&#45;&gt;mountain</title>\n<path fill=\"none\" stroke=\"#000000\" d=\"M560.3731,-53.7181C560.3731,-50.9911 560.3731,-48.1312 560.3731,-45.2673\"/>\n<polygon fill=\"#000000\" stroke=\"#000000\" points=\"563.5232,-45.2631 560.3731,-36.2631 557.2232,-45.2631 563.5232,-45.2631\"/>\n</g>\n<!-- geo_river -->\n<g id=\"node17\" class=\"node\">\n<title>geo_river</title>\n<ellipse fill=\"none\" stroke=\"#000000\" cx=\"690.3731\" cy=\"-126\" rx=\"38.8658\" ry=\"18\"/>\n<text text-anchor=\"middle\" x=\"690.3731\" y=\"-123.8\" font-family=\"Times,serif\" font-size=\"9.00\" fill=\"#000000\">GEO_RIVER</text>\n</g>\n<!-- geo_river&#45;&gt;province -->\n<g id=\"edge18\" class=\"edge\">\n<title>geo_river&#45;&gt;province</title>\n<path fill=\"none\" stroke=\"#000000\" d=\"M654.3201,-119.174C599.9571,-108.8706 503.1961,-90.4852 502.3731,-90 484.4308,-79.4239 486.1967,-69.5784 472.3731,-54 468.5537,-49.6958 464.4071,-45.1811 460.3655,-40.8604\"/>\n<polygon fill=\"#000000\" stroke=\"#000000\" points=\"462.6313,-38.6718 454.1631,-34.2885 458.0495,-42.9959 462.6313,-38.6718\"/>\n</g>\n<!-- river -->\n<g id=\"node18\" class=\"node\">\n<title>river</title>\n<ellipse fill=\"none\" stroke=\"#000000\" cx=\"850.3731\" cy=\"-72\" rx=\"27\" ry=\"18\"/>\n<text text-anchor=\"middle\" x=\"850.3731\" y=\"-69.8\" font-family=\"Times,serif\" font-size=\"9.00\" fill=\"#000000\">RIVER</text>\n</g>\n<!-- geo_river&#45;&gt;river -->\n<g id=\"edge19\" class=\"edge\">\n<title>geo_river&#45;&gt;river</title>\n<path fill=\"none\" stroke=\"#000000\" d=\"M721.9839,-115.3313C749.5958,-106.0123 789.5268,-92.5356 817.5047,-83.0931\"/>\n<polygon fill=\"#000000\" stroke=\"#000000\" points=\"818.6176,-86.0421 826.1377,-80.1794 816.6029,-80.0729 818.6176,-86.0421\"/>\n</g>\n<!-- river&#45;&gt;lake -->\n<g id=\"edge20\" class=\"edge\">\n<title>river&#45;&gt;lake</title>\n<path fill=\"none\" stroke=\"#000000\" d=\"M836.2002,-56.381C831.7697,-51.4984 826.7877,-46.008 822.0072,-40.7396\"/>\n<polygon fill=\"#000000\" stroke=\"#000000\" points=\"824.0645,-38.3193 815.6838,-33.771 819.399,-42.5529 824.0645,-38.3193\"/>\n</g>\n<!-- river&#45;&gt;river -->\n<g id=\"edge21\" class=\"edge\">\n<title>river&#45;&gt;river</title>\n<path fill=\"none\" stroke=\"#000000\" d=\"M873.1407,-82.0039C882.9632,-82.8229 891.3731,-79.4883 891.3731,-72 891.3731,-67.0858 887.7512,-63.9605 882.4852,-62.6239\"/>\n<polygon fill=\"#000000\" stroke=\"#000000\" points=\"882.3317,-59.4566 873.1407,-61.9961 881.9093,-65.7424 882.3317,-59.4566\"/>\n</g>\n<!-- sea -->\n<g id=\"node20\" class=\"node\">\n<title>sea</title>\n<ellipse fill=\"none\" stroke=\"#000000\" cx=\"912.3731\" cy=\"-18\" rx=\"27\" ry=\"18\"/>\n<text text-anchor=\"middle\" x=\"912.3731\" y=\"-15.8\" font-family=\"Times,serif\" font-size=\"9.00\" fill=\"#000000\">SEA</text>\n</g>\n<!-- river&#45;&gt;sea -->\n<g id=\"edge22\" class=\"edge\">\n<title>river&#45;&gt;sea</title>\n<path fill=\"none\" stroke=\"#000000\" d=\"M866.9879,-57.529C873.6596,-51.7181 881.4736,-44.9125 888.7193,-38.6016\"/>\n<polygon fill=\"#000000\" stroke=\"#000000\" points=\"890.9945,-40.7974 895.7123,-32.511 886.8567,-36.0466 890.9945,-40.7974\"/>\n</g>\n<!-- geo_sea -->\n<g id=\"node19\" class=\"node\">\n<title>geo_sea</title>\n<ellipse fill=\"none\" stroke=\"#000000\" cx=\"746.3731\" cy=\"-72\" rx=\"32.8182\" ry=\"18\"/>\n<text text-anchor=\"middle\" x=\"746.3731\" y=\"-69.8\" font-family=\"Times,serif\" font-size=\"9.00\" fill=\"#000000\">GEO_SEA</text>\n</g>\n<!-- geo_sea&#45;&gt;province -->\n<g id=\"edge23\" class=\"edge\">\n<title>geo_sea&#45;&gt;province</title>\n<path fill=\"none\" stroke=\"#000000\" d=\"M722.3008,-59.642C717.1571,-57.4379 711.674,-55.4011 706.3731,-54 623.939,-32.2112 599.5244,-49.736 515.3731,-36 503.5059,-34.0629 490.7458,-31.3443 479.0929,-28.6057\"/>\n<polygon fill=\"#000000\" stroke=\"#000000\" points=\"479.5107,-25.4663 470.0231,-26.4197 478.0344,-31.5909 479.5107,-25.4663\"/>\n</g>\n<!-- geo_sea&#45;&gt;sea -->\n<g id=\"edge24\" class=\"edge\">\n<title>geo_sea&#45;&gt;sea</title>\n<path fill=\"none\" stroke=\"#000000\" d=\"M774.9095,-62.7171C803.9329,-53.2757 848.864,-38.6596 879.3941,-28.7281\"/>\n<polygon fill=\"#000000\" stroke=\"#000000\" points=\"880.401,-31.7131 887.9851,-25.9334 878.4521,-25.7221 880.401,-31.7131\"/>\n</g>\n<!-- is_member -->\n<g id=\"node21\" class=\"node\">\n<title>is_member</title>\n<ellipse fill=\"none\" stroke=\"#000000\" cx=\"674.3731\" cy=\"-180\" rx=\"39.0211\" ry=\"18\"/>\n<text text-anchor=\"middle\" x=\"674.3731\" y=\"-177.8\" font-family=\"Times,serif\" font-size=\"9.00\" fill=\"#000000\">IS_MEMBER</text>\n</g>\n<!-- is_member&#45;&gt;country -->\n<g id=\"edge25\" class=\"edge\">\n<title>is_member&#45;&gt;country</title>\n<path fill=\"none\" stroke=\"#000000\" d=\"M645.5333,-167.446C639.9229,-165.3676 634.027,-163.4281 628.3731,-162 564.5561,-145.8805 545.983,-156.5699 481.3731,-144 472.24,-142.2232 462.518,-139.8796 453.3942,-137.4732\"/>\n<polygon fill=\"#000000\" stroke=\"#000000\" points=\"454.0244,-134.3804 444.5137,-135.0645 452.3752,-140.4607 454.0244,-134.3804\"/>\n</g>\n<!-- organization -->\n<g id=\"node22\" class=\"node\">\n<title>organization</title>\n<ellipse fill=\"none\" stroke=\"#000000\" cx=\"538.3731\" cy=\"-126\" rx=\"49.8047\" ry=\"18\"/>\n<text text-anchor=\"middle\" x=\"538.3731\" y=\"-123.8\" font-family=\"Times,serif\" font-size=\"9.00\" fill=\"#000000\">ORGANIZATION</text>\n</g>\n<!-- is_member&#45;&gt;organization -->\n<g id=\"edge26\" class=\"edge\">\n<title>is_member&#45;&gt;organization</title>\n<path fill=\"none\" stroke=\"#000000\" d=\"M644.5273,-168.1495C625.781,-160.7061 601.3147,-150.9915 580.5958,-142.7649\"/>\n<polygon fill=\"#000000\" stroke=\"#000000\" points=\"581.5006,-139.735 571.9733,-139.3413 579.1756,-145.5903 581.5006,-139.735\"/>\n</g>\n<!-- organization&#45;&gt;city -->\n<g id=\"edge27\" class=\"edge\">\n<title>organization&#45;&gt;city</title>\n<path fill=\"none\" stroke=\"#000000\" d=\"M510.5175,-110.958C497.1171,-103.7218 481.0574,-95.0495 467.4955,-87.7261\"/>\n<polygon fill=\"#000000\" stroke=\"#000000\" points=\"468.8361,-84.8701 459.4202,-83.3654 465.8426,-90.4135 468.8361,-84.8701\"/>\n</g>\n<!-- language -->\n<g id=\"node23\" class=\"node\">\n<title>language</title>\n<ellipse fill=\"none\" stroke=\"#000000\" cx=\"239.3731\" cy=\"-180\" rx=\"39.0211\" ry=\"18\"/>\n<text text-anchor=\"middle\" x=\"239.3731\" y=\"-177.8\" font-family=\"Times,serif\" font-size=\"9.00\" fill=\"#000000\">LANGUAGE</text>\n</g>\n<!-- language&#45;&gt;country -->\n<g id=\"edge28\" class=\"edge\">\n<title>language&#45;&gt;country</title>\n<path fill=\"none\" stroke=\"#000000\" d=\"M269.0611,-168.1589C274.7731,-166.0148 280.733,-163.8688 286.3731,-162 315.4521,-152.3649 348.7784,-143.0454 374.1349,-136.3033\"/>\n<polygon fill=\"#000000\" stroke=\"#000000\" points=\"375.1946,-139.2816 383.0935,-133.9402 373.5877,-133.19 375.1946,-139.2816\"/>\n</g>\n<!-- located -->\n<g id=\"node24\" class=\"node\">\n<title>located</title>\n<ellipse fill=\"none\" stroke=\"#000000\" cx=\"801.3731\" cy=\"-126\" rx=\"33.4726\" ry=\"18\"/>\n<text text-anchor=\"middle\" x=\"801.3731\" y=\"-123.8\" font-family=\"Times,serif\" font-size=\"9.00\" fill=\"#000000\">LOCATED</text>\n</g>\n<!-- located&#45;&gt;city -->\n<g id=\"edge30\" class=\"edge\">\n<title>located&#45;&gt;city</title>\n<path fill=\"none\" stroke=\"#000000\" d=\"M772.5257,-116.7213C761.3447,-113.4666 748.3681,-110.1018 736.3731,-108 633.6312,-89.9972 605.0786,-108.209 502.3731,-90 492.1925,-88.1951 481.3005,-85.4494 471.4413,-82.6422\"/>\n<polygon fill=\"#000000\" stroke=\"#000000\" points=\"472.2509,-79.5969 462.7274,-80.0722 470.4687,-85.6396 472.2509,-79.5969\"/>\n</g>\n<!-- located&#45;&gt;lake -->\n<g id=\"edge29\" class=\"edge\">\n<title>located&#45;&gt;lake</title>\n<path fill=\"none\" stroke=\"#000000\" d=\"M801.3731,-107.6793C801.3731,-90.5088 801.3731,-64.6268 801.3731,-45.0743\"/>\n<polygon fill=\"#000000\" stroke=\"#000000\" points=\"804.5232,-45.0501 801.3731,-36.0502 798.2232,-45.0502 804.5232,-45.0501\"/>\n</g>\n<!-- located&#45;&gt;river -->\n<g id=\"edge31\" class=\"edge\">\n<title>located&#45;&gt;river</title>\n<path fill=\"none\" stroke=\"#000000\" d=\"M816.0747,-109.7982C820.4935,-104.9285 825.4214,-99.4978 830.1325,-94.306\"/>\n<polygon fill=\"#000000\" stroke=\"#000000\" points=\"832.639,-96.2312 836.3542,-87.4494 827.9735,-91.9977 832.639,-96.2312\"/>\n</g>\n<!-- located&#45;&gt;sea -->\n<g id=\"edge32\" class=\"edge\">\n<title>located&#45;&gt;sea</title>\n<path fill=\"none\" stroke=\"#000000\" d=\"M826.0854,-113.7024C831.3549,-111.4939 836.9643,-109.4401 842.3731,-108 878.6561,-98.3397 985.2774,-117.9282 1010.3731,-90 1021.0672,-78.0989 1019.5308,-67.1201 1010.3731,-54 1002.7966,-43.1453 971.9633,-32.9578 946.8783,-26.2097\"/>\n<polygon fill=\"#000000\" stroke=\"#000000\" points=\"947.4537,-23.1046 937.9502,-23.8843 945.8657,-29.2012 947.4537,-23.1046\"/>\n</g>\n<!-- merges_with -->\n<g id=\"node25\" class=\"node\">\n<title>merges_with</title>\n<ellipse fill=\"none\" stroke=\"#000000\" cx=\"956.3731\" cy=\"-72\" rx=\"46.5319\" ry=\"18\"/>\n<text text-anchor=\"middle\" x=\"956.3731\" y=\"-69.8\" font-family=\"Times,serif\" font-size=\"9.00\" fill=\"#000000\">MERGES_WITH</text>\n</g>\n<!-- merges_with&#45;&gt;sea -->\n<g id=\"edge33\" class=\"edge\">\n<title>merges_with&#45;&gt;sea</title>\n<path fill=\"none\" stroke=\"#000000\" d=\"M942.209,-54.6168C938.6479,-50.2464 934.7717,-45.4893 931.0279,-40.8946\"/>\n<polygon fill=\"#000000\" stroke=\"#000000\" points=\"933.4451,-38.8743 925.318,-33.887 928.5611,-42.8539 933.4451,-38.8743\"/>\n</g>\n<!-- politics -->\n<g id=\"node26\" class=\"node\">\n<title>politics</title>\n<ellipse fill=\"none\" stroke=\"#000000\" cx=\"325.3731\" cy=\"-180\" rx=\"32.1641\" ry=\"18\"/>\n<text text-anchor=\"middle\" x=\"325.3731\" y=\"-177.8\" font-family=\"Times,serif\" font-size=\"9.00\" fill=\"#000000\">POLITICS</text>\n</g>\n<!-- politics&#45;&gt;country -->\n<g id=\"edge34\" class=\"edge\">\n<title>politics&#45;&gt;country</title>\n<path fill=\"none\" stroke=\"#000000\" d=\"M347.3731,-166.6517C358.3309,-160.0031 371.7589,-151.8558 383.7087,-144.6054\"/>\n<polygon fill=\"#000000\" stroke=\"#000000\" points=\"385.6365,-147.1202 391.6969,-139.7585 382.3685,-141.7341 385.6365,-147.1202\"/>\n</g>\n<!-- population -->\n<g id=\"node27\" class=\"node\">\n<title>population</title>\n<ellipse fill=\"none\" stroke=\"#000000\" cx=\"414.3731\" cy=\"-180\" rx=\"42.949\" ry=\"18\"/>\n<text text-anchor=\"middle\" x=\"414.3731\" y=\"-177.8\" font-family=\"Times,serif\" font-size=\"9.00\" fill=\"#000000\">POPULATION</text>\n</g>\n<!-- population&#45;&gt;country -->\n<g id=\"edge35\" class=\"edge\">\n<title>population&#45;&gt;country</title>\n<path fill=\"none\" stroke=\"#000000\" d=\"M414.3731,-161.7181C414.3731,-158.9911 414.3731,-156.1312 414.3731,-153.2673\"/>\n<polygon fill=\"#000000\" stroke=\"#000000\" points=\"417.5232,-153.2631 414.3731,-144.2631 411.2232,-153.2631 417.5232,-153.2631\"/>\n</g>\n<!-- religion -->\n<g id=\"node28\" class=\"node\">\n<title>religion</title>\n<ellipse fill=\"none\" stroke=\"#000000\" cx=\"505.3731\" cy=\"-180\" rx=\"34.1275\" ry=\"18\"/>\n<text text-anchor=\"middle\" x=\"505.3731\" y=\"-177.8\" font-family=\"Times,serif\" font-size=\"9.00\" fill=\"#000000\">RELIGION</text>\n</g>\n<!-- religion&#45;&gt;country -->\n<g id=\"edge36\" class=\"edge\">\n<title>religion&#45;&gt;country</title>\n<path fill=\"none\" stroke=\"#000000\" d=\"M482.4099,-166.3735C471.0938,-159.6584 457.2895,-151.4669 445.0799,-144.2216\"/>\n<polygon fill=\"#000000\" stroke=\"#000000\" points=\"446.6763,-141.5061 437.3289,-139.6221 443.4612,-146.924 446.6763,-141.5061\"/>\n</g>\n</g>\n</svg>\n"
          },
          "metadata": {}
        }
      ]
    },
    {
      "cell_type": "markdown",
      "source": [
        "### Default Parameters\n",
        "\n",
        "We have a few parameters for R-KwS using PyLatheDB:\n",
        "*    `max_qm_size`: Maximum Query Match Size\n",
        "*    `max_cjn_size`: Maximum Candidate Joining Network Size\n",
        "*    `topk_cns`: Top-k CJNs to be considered\n",
        "*    `configuration`: A tuple containing the number of QMs to be considered, number of CJNs for each QM to be considered, and the maximum number of CJNs to be probed by the eager evaluation for each QM. \n",
        "\n",
        "\n"
      ],
      "metadata": {
        "id": "XVqG6u_jVIm_"
      }
    },
    {
      "cell_type": "code",
      "source": [
        "lathe.max_qm_size = 3\n",
        "lathe.max_cjn_size = 5\n",
        "lathe.topk_cns = 10\n",
        "\n",
        "num_qms = 5\n",
        "num_cjns_per_qm = 1\n",
        "num_probed_cjns = 0\n",
        "\n",
        "lathe.configuration = (num_qms,num_cjns_per_qm,num_probed_cjns)"
      ],
      "metadata": {
        "id": "pjMarOgDVInC"
      },
      "execution_count": 18,
      "outputs": []
    },
    {
      "cell_type": "markdown",
      "source": [
        "#### Keyword Search without Eager CJN Evaluation.\n",
        "\n"
      ],
      "metadata": {
        "id": "F-41RpU6niZx"
      }
    },
    {
      "cell_type": "code",
      "source": [
        "results = lathe.keyword_search('saint kitts cambodia organization',configuration = (5,5,0))\n",
        "results.cjns(text=False,sql=False)"
      ],
      "metadata": {
        "colab": {
          "base_uri": "https://localhost:8080/",
          "height": 1000
        },
        "id": "o_lKlzFhFI0f",
        "outputId": "d55aa637-544b-4356-c885-2e7045cb0d8c"
      },
      "execution_count": 19,
      "outputs": [
        {
          "output_type": "stream",
          "name": "stdout",
          "text": [
            "Keyword Query: saint kitts cambodia organization\n"
          ]
        },
        {
          "output_type": "display_data",
          "data": {
            "text/plain": [
              "<IPython.core.display.Markdown object>"
            ],
            "text/markdown": "---"
          },
          "metadata": {}
        },
        {
          "output_type": "display_data",
          "data": {
            "text/plain": [
              "<IPython.core.display.Markdown object>"
            ],
            "text/markdown": "**1st CJN**:"
          },
          "metadata": {}
        },
        {
          "output_type": "display_data",
          "data": {
            "text/plain": [
              "<IPython.core.display.Markdown object>"
            ],
            "text/markdown": "---"
          },
          "metadata": {}
        },
        {
          "output_type": "stream",
          "name": "stdout",
          "text": [
            "Graph:\n"
          ]
        },
        {
          "output_type": "display_data",
          "data": {
            "text/plain": [
              "<graphviz.dot.Digraph at 0x7f31a1b5ec90>"
            ],
            "image/svg+xml": "<?xml version=\"1.0\" encoding=\"UTF-8\" standalone=\"no\"?>\n<!DOCTYPE svg PUBLIC \"-//W3C//DTD SVG 1.1//EN\"\n \"http://www.w3.org/Graphics/SVG/1.1/DTD/svg11.dtd\">\n<!-- Generated by graphviz version 2.40.1 (20161225.0304)\n -->\n<!-- Title: %3 Pages: 1 -->\n<svg width=\"522pt\" height=\"152pt\"\n viewBox=\"0.00 0.00 521.58 152.00\" xmlns=\"http://www.w3.org/2000/svg\" xmlns:xlink=\"http://www.w3.org/1999/xlink\">\n<g id=\"graph0\" class=\"graph\" transform=\"scale(1 1) rotate(0) translate(4 148)\">\n<title>%3</title>\n<polygon fill=\"#ffffff\" stroke=\"transparent\" points=\"-4,4 -4,-148 517.5752,-148 517.5752,4 -4,4\"/>\n<!-- t1 -->\n<g id=\"node1\" class=\"node\">\n<title>t1</title>\n<ellipse fill=\"none\" stroke=\"#000000\" cx=\"76.7876\" cy=\"-72\" rx=\"76.5758\" ry=\"18\"/>\n<text text-anchor=\"middle\" x=\"76.7876\" y=\"-69.8\" font-family=\"Times,serif\" font-size=\"9.00\" fill=\"#000000\">COUNTRY.v(name{saint,kitts})</text>\n</g>\n<!-- t2 -->\n<g id=\"node2\" class=\"node\">\n<title>t2</title>\n<ellipse fill=\"none\" stroke=\"#000000\" cx=\"166.7876\" cy=\"-18\" rx=\"27\" ry=\"18\"/>\n<text text-anchor=\"middle\" x=\"166.7876\" y=\"-15.8\" font-family=\"Times,serif\" font-size=\"9.00\" fill=\"#000000\">CITY</text>\n</g>\n<!-- t1&#45;&gt;t2 -->\n<g id=\"edge1\" class=\"edge\">\n<title>t1&#45;&gt;t2</title>\n<path fill=\"none\" stroke=\"#000000\" d=\"M104.7708,-55.2101C115.5441,-48.7461 127.8435,-41.3665 138.6329,-34.8928\"/>\n<polygon fill=\"#000000\" stroke=\"#000000\" points=\"140.4422,-37.4808 146.539,-30.1491 137.2009,-32.0786 140.4422,-37.4808\"/>\n</g>\n<!-- t3 -->\n<g id=\"node3\" class=\"node\">\n<title>t3</title>\n<ellipse fill=\"none\" stroke=\"#000000\" cx=\"256.7876\" cy=\"-72\" rx=\"89.4786\" ry=\"18\"/>\n<text text-anchor=\"middle\" x=\"256.7876\" y=\"-69.8\" font-family=\"Times,serif\" font-size=\"9.00\" fill=\"#000000\">ORGANIZATION.s(*{organization})</text>\n</g>\n<!-- t3&#45;&gt;t2 -->\n<g id=\"edge2\" class=\"edge\">\n<title>t3&#45;&gt;t2</title>\n<path fill=\"none\" stroke=\"#000000\" d=\"M228.311,-54.9141C217.6412,-48.5122 205.5321,-41.2467 194.8959,-34.865\"/>\n<polygon fill=\"#000000\" stroke=\"#000000\" points=\"196.4357,-32.1154 187.0976,-30.186 193.1943,-37.5176 196.4357,-32.1154\"/>\n</g>\n<!-- t4 -->\n<g id=\"node4\" class=\"node\">\n<title>t4</title>\n<ellipse fill=\"none\" stroke=\"#000000\" cx=\"346.7876\" cy=\"-126\" rx=\"39.0211\" ry=\"18\"/>\n<text text-anchor=\"middle\" x=\"346.7876\" y=\"-123.8\" font-family=\"Times,serif\" font-size=\"9.00\" fill=\"#000000\">IS_MEMBER</text>\n</g>\n<!-- t4&#45;&gt;t3 -->\n<g id=\"edge3\" class=\"edge\">\n<title>t4&#45;&gt;t3</title>\n<path fill=\"none\" stroke=\"#000000\" d=\"M322.6692,-111.529C313.6305,-106.1057 303.1475,-99.8159 293.2386,-93.8706\"/>\n<polygon fill=\"#000000\" stroke=\"#000000\" points=\"294.7917,-91.129 285.4536,-89.1996 291.5503,-96.5312 294.7917,-91.129\"/>\n</g>\n<!-- t5 -->\n<g id=\"node5\" class=\"node\">\n<title>t5</title>\n<ellipse fill=\"none\" stroke=\"#000000\" cx=\"436.7876\" cy=\"-72\" rx=\"76.5758\" ry=\"18\"/>\n<text text-anchor=\"middle\" x=\"436.7876\" y=\"-69.8\" font-family=\"Times,serif\" font-size=\"9.00\" fill=\"#000000\">COUNTRY.v(name{cambodia})</text>\n</g>\n<!-- t4&#45;&gt;t5 -->\n<g id=\"edge4\" class=\"edge\">\n<title>t4&#45;&gt;t5</title>\n<path fill=\"none\" stroke=\"#000000\" d=\"M370.9059,-111.529C380.109,-106.0071 390.8094,-99.5869 400.8765,-93.5467\"/>\n<polygon fill=\"#000000\" stroke=\"#000000\" points=\"402.6768,-96.14 408.7736,-88.8084 399.4355,-90.7378 402.6768,-96.14\"/>\n</g>\n</g>\n</svg>\n"
          },
          "metadata": {}
        },
        {
          "output_type": "display_data",
          "data": {
            "text/plain": [
              "<IPython.core.display.Markdown object>"
            ],
            "text/markdown": "---"
          },
          "metadata": {}
        },
        {
          "output_type": "stream",
          "name": "stdout",
          "text": [
            "JNTs:\n",
            "\tThis CJN returns no tuples.\n",
            "\n"
          ]
        },
        {
          "output_type": "display_data",
          "data": {
            "text/plain": [
              "<IPython.core.display.Markdown object>"
            ],
            "text/markdown": "---"
          },
          "metadata": {}
        },
        {
          "output_type": "display_data",
          "data": {
            "text/plain": [
              "<IPython.core.display.Markdown object>"
            ],
            "text/markdown": "**2nd CJN**:"
          },
          "metadata": {}
        },
        {
          "output_type": "display_data",
          "data": {
            "text/plain": [
              "<IPython.core.display.Markdown object>"
            ],
            "text/markdown": "---"
          },
          "metadata": {}
        },
        {
          "output_type": "stream",
          "name": "stdout",
          "text": [
            "Graph:\n"
          ]
        },
        {
          "output_type": "display_data",
          "data": {
            "text/plain": [
              "<graphviz.dot.Digraph at 0x7f31a1b5e790>"
            ],
            "image/svg+xml": "<?xml version=\"1.0\" encoding=\"UTF-8\" standalone=\"no\"?>\n<!DOCTYPE svg PUBLIC \"-//W3C//DTD SVG 1.1//EN\"\n \"http://www.w3.org/Graphics/SVG/1.1/DTD/svg11.dtd\">\n<!-- Generated by graphviz version 2.40.1 (20161225.0304)\n -->\n<!-- Title: %3 Pages: 1 -->\n<svg width=\"354pt\" height=\"206pt\"\n viewBox=\"0.00 0.00 354.28 206.00\" xmlns=\"http://www.w3.org/2000/svg\" xmlns:xlink=\"http://www.w3.org/1999/xlink\">\n<g id=\"graph0\" class=\"graph\" transform=\"scale(1 1) rotate(0) translate(4 202)\">\n<title>%3</title>\n<polygon fill=\"#ffffff\" stroke=\"transparent\" points=\"-4,4 -4,-202 350.2769,-202 350.2769,4 -4,4\"/>\n<!-- t1 -->\n<g id=\"node1\" class=\"node\">\n<title>t1</title>\n<ellipse fill=\"none\" stroke=\"#000000\" cx=\"76.7876\" cy=\"-180\" rx=\"76.5758\" ry=\"18\"/>\n<text text-anchor=\"middle\" x=\"76.7876\" y=\"-177.8\" font-family=\"Times,serif\" font-size=\"9.00\" fill=\"#000000\">COUNTRY.v(name{saint,kitts})</text>\n</g>\n<!-- t2 -->\n<g id=\"node2\" class=\"node\">\n<title>t2</title>\n<ellipse fill=\"none\" stroke=\"#000000\" cx=\"166.7876\" cy=\"-126\" rx=\"27\" ry=\"18\"/>\n<text text-anchor=\"middle\" x=\"166.7876\" y=\"-123.8\" font-family=\"Times,serif\" font-size=\"9.00\" fill=\"#000000\">CITY</text>\n</g>\n<!-- t1&#45;&gt;t2 -->\n<g id=\"edge1\" class=\"edge\">\n<title>t1&#45;&gt;t2</title>\n<path fill=\"none\" stroke=\"#000000\" d=\"M104.7708,-163.2101C115.5441,-156.7461 127.8435,-149.3665 138.6329,-142.8928\"/>\n<polygon fill=\"#000000\" stroke=\"#000000\" points=\"140.4422,-145.4808 146.539,-138.1491 137.2009,-140.0786 140.4422,-145.4808\"/>\n</g>\n<!-- t4 -->\n<g id=\"node4\" class=\"node\">\n<title>t4</title>\n<ellipse fill=\"none\" stroke=\"#000000\" cx=\"166.7876\" cy=\"-72\" rx=\"35.5926\" ry=\"18\"/>\n<text text-anchor=\"middle\" x=\"166.7876\" y=\"-69.8\" font-family=\"Times,serif\" font-size=\"9.00\" fill=\"#000000\">PROVINCE</text>\n</g>\n<!-- t2&#45;&gt;t4 -->\n<g id=\"edge2\" class=\"edge\">\n<title>t2&#45;&gt;t4</title>\n<path fill=\"none\" stroke=\"#000000\" d=\"M166.7876,-107.7181C166.7876,-104.9911 166.7876,-102.1312 166.7876,-99.2673\"/>\n<polygon fill=\"#000000\" stroke=\"#000000\" points=\"169.9377,-99.2631 166.7876,-90.2631 163.6377,-99.2631 169.9377,-99.2631\"/>\n</g>\n<!-- t3 -->\n<g id=\"node3\" class=\"node\">\n<title>t3</title>\n<ellipse fill=\"none\" stroke=\"#000000\" cx=\"256.7876\" cy=\"-180\" rx=\"89.4786\" ry=\"18\"/>\n<text text-anchor=\"middle\" x=\"256.7876\" y=\"-177.8\" font-family=\"Times,serif\" font-size=\"9.00\" fill=\"#000000\">ORGANIZATION.s(*{organization})</text>\n</g>\n<!-- t3&#45;&gt;t2 -->\n<g id=\"edge3\" class=\"edge\">\n<title>t3&#45;&gt;t2</title>\n<path fill=\"none\" stroke=\"#000000\" d=\"M228.311,-162.9141C217.6412,-156.5122 205.5321,-149.2467 194.8959,-142.865\"/>\n<polygon fill=\"#000000\" stroke=\"#000000\" points=\"196.4357,-140.1154 187.0976,-138.186 193.1943,-145.5176 196.4357,-140.1154\"/>\n</g>\n<!-- t5 -->\n<g id=\"node5\" class=\"node\">\n<title>t5</title>\n<ellipse fill=\"none\" stroke=\"#000000\" cx=\"166.7876\" cy=\"-18\" rx=\"76.5758\" ry=\"18\"/>\n<text text-anchor=\"middle\" x=\"166.7876\" y=\"-15.8\" font-family=\"Times,serif\" font-size=\"9.00\" fill=\"#000000\">COUNTRY.v(name{cambodia})</text>\n</g>\n<!-- t4&#45;&gt;t5 -->\n<g id=\"edge4\" class=\"edge\">\n<title>t4&#45;&gt;t5</title>\n<path fill=\"none\" stroke=\"#000000\" d=\"M166.7876,-53.7181C166.7876,-50.9911 166.7876,-48.1312 166.7876,-45.2673\"/>\n<polygon fill=\"#000000\" stroke=\"#000000\" points=\"169.9377,-45.2631 166.7876,-36.2631 163.6377,-45.2631 169.9377,-45.2631\"/>\n</g>\n</g>\n</svg>\n"
          },
          "metadata": {}
        },
        {
          "output_type": "display_data",
          "data": {
            "text/plain": [
              "<IPython.core.display.Markdown object>"
            ],
            "text/markdown": "---"
          },
          "metadata": {}
        },
        {
          "output_type": "stream",
          "name": "stdout",
          "text": [
            "JNTs:\n",
            "\tThis CJN returns no tuples.\n",
            "\n"
          ]
        },
        {
          "output_type": "display_data",
          "data": {
            "text/plain": [
              "<IPython.core.display.Markdown object>"
            ],
            "text/markdown": "---"
          },
          "metadata": {}
        },
        {
          "output_type": "display_data",
          "data": {
            "text/plain": [
              "<IPython.core.display.Markdown object>"
            ],
            "text/markdown": "**3rd CJN**:"
          },
          "metadata": {}
        },
        {
          "output_type": "display_data",
          "data": {
            "text/plain": [
              "<IPython.core.display.Markdown object>"
            ],
            "text/markdown": "---"
          },
          "metadata": {}
        },
        {
          "output_type": "stream",
          "name": "stdout",
          "text": [
            "Graph:\n"
          ]
        },
        {
          "output_type": "display_data",
          "data": {
            "text/plain": [
              "<graphviz.dot.Digraph at 0x7f31a1a3b210>"
            ],
            "image/svg+xml": "<?xml version=\"1.0\" encoding=\"UTF-8\" standalone=\"no\"?>\n<!DOCTYPE svg PUBLIC \"-//W3C//DTD SVG 1.1//EN\"\n \"http://www.w3.org/Graphics/SVG/1.1/DTD/svg11.dtd\">\n<!-- Generated by graphviz version 2.40.1 (20161225.0304)\n -->\n<!-- Title: %3 Pages: 1 -->\n<svg width=\"522pt\" height=\"152pt\"\n viewBox=\"0.00 0.00 522.28 152.00\" xmlns=\"http://www.w3.org/2000/svg\" xmlns:xlink=\"http://www.w3.org/1999/xlink\">\n<g id=\"graph0\" class=\"graph\" transform=\"scale(1 1) rotate(0) translate(4 148)\">\n<title>%3</title>\n<polygon fill=\"#ffffff\" stroke=\"transparent\" points=\"-4,4 -4,-148 518.2769,-148 518.2769,4 -4,4\"/>\n<!-- t1 -->\n<g id=\"node1\" class=\"node\">\n<title>t1</title>\n<ellipse fill=\"none\" stroke=\"#000000\" cx=\"269.4893\" cy=\"-72\" rx=\"76.5758\" ry=\"18\"/>\n<text text-anchor=\"middle\" x=\"269.4893\" y=\"-69.8\" font-family=\"Times,serif\" font-size=\"9.00\" fill=\"#000000\">COUNTRY.v(name{saint,kitts})</text>\n</g>\n<!-- t2 -->\n<g id=\"node2\" class=\"node\">\n<title>t2</title>\n<ellipse fill=\"none\" stroke=\"#000000\" cx=\"179.4893\" cy=\"-18\" rx=\"27\" ry=\"18\"/>\n<text text-anchor=\"middle\" x=\"179.4893\" y=\"-15.8\" font-family=\"Times,serif\" font-size=\"9.00\" fill=\"#000000\">CITY</text>\n</g>\n<!-- t1&#45;&gt;t2 -->\n<g id=\"edge1\" class=\"edge\">\n<title>t1&#45;&gt;t2</title>\n<path fill=\"none\" stroke=\"#000000\" d=\"M241.5061,-55.2101C230.7328,-48.7461 218.4334,-41.3665 207.644,-34.8928\"/>\n<polygon fill=\"#000000\" stroke=\"#000000\" points=\"209.076,-32.0786 199.7379,-30.1491 205.8346,-37.4808 209.076,-32.0786\"/>\n</g>\n<!-- t3 -->\n<g id=\"node3\" class=\"node\">\n<title>t3</title>\n<ellipse fill=\"none\" stroke=\"#000000\" cx=\"89.4893\" cy=\"-72\" rx=\"89.4786\" ry=\"18\"/>\n<text text-anchor=\"middle\" x=\"89.4893\" y=\"-69.8\" font-family=\"Times,serif\" font-size=\"9.00\" fill=\"#000000\">ORGANIZATION.s(*{organization})</text>\n</g>\n<!-- t3&#45;&gt;t2 -->\n<g id=\"edge2\" class=\"edge\">\n<title>t3&#45;&gt;t2</title>\n<path fill=\"none\" stroke=\"#000000\" d=\"M117.9659,-54.9141C128.6357,-48.5122 140.7447,-41.2467 151.381,-34.865\"/>\n<polygon fill=\"#000000\" stroke=\"#000000\" points=\"153.0825,-37.5176 159.1793,-30.186 149.8412,-32.1154 153.0825,-37.5176\"/>\n</g>\n<!-- t4 -->\n<g id=\"node4\" class=\"node\">\n<title>t4</title>\n<ellipse fill=\"none\" stroke=\"#000000\" cx=\"353.4893\" cy=\"-126\" rx=\"34.1275\" ry=\"18\"/>\n<text text-anchor=\"middle\" x=\"353.4893\" y=\"-123.8\" font-family=\"Times,serif\" font-size=\"9.00\" fill=\"#000000\">BORDERS</text>\n</g>\n<!-- t4&#45;&gt;t1 -->\n<g id=\"edge4\" class=\"edge\">\n<title>t4&#45;&gt;t1</title>\n<path fill=\"none\" stroke=\"#000000\" d=\"M331.8572,-112.0937C323.2744,-106.5761 313.1943,-100.0961 303.6703,-93.9735\"/>\n<polygon fill=\"#000000\" stroke=\"#000000\" points=\"305.12,-91.1607 295.8459,-88.9436 301.7132,-96.4601 305.12,-91.1607\"/>\n</g>\n<!-- t5 -->\n<g id=\"node5\" class=\"node\">\n<title>t5</title>\n<ellipse fill=\"none\" stroke=\"#000000\" cx=\"437.4893\" cy=\"-72\" rx=\"76.5758\" ry=\"18\"/>\n<text text-anchor=\"middle\" x=\"437.4893\" y=\"-69.8\" font-family=\"Times,serif\" font-size=\"9.00\" fill=\"#000000\">COUNTRY.v(name{cambodia})</text>\n</g>\n<!-- t4&#45;&gt;t5 -->\n<g id=\"edge3\" class=\"edge\">\n<title>t4&#45;&gt;t5</title>\n<path fill=\"none\" stroke=\"#000000\" d=\"M375.1214,-112.0937C383.7042,-106.5761 393.7843,-100.0961 403.3083,-93.9735\"/>\n<polygon fill=\"#000000\" stroke=\"#000000\" points=\"405.2654,-96.4601 411.1326,-88.9436 401.8586,-91.1607 405.2654,-96.4601\"/>\n</g>\n</g>\n</svg>\n"
          },
          "metadata": {}
        },
        {
          "output_type": "display_data",
          "data": {
            "text/plain": [
              "<IPython.core.display.Markdown object>"
            ],
            "text/markdown": "---"
          },
          "metadata": {}
        },
        {
          "output_type": "stream",
          "name": "stdout",
          "text": [
            "JNTs:\n",
            "\tThis CJN returns no tuples.\n",
            "\n"
          ]
        },
        {
          "output_type": "display_data",
          "data": {
            "text/plain": [
              "<IPython.core.display.Markdown object>"
            ],
            "text/markdown": "---"
          },
          "metadata": {}
        },
        {
          "output_type": "display_data",
          "data": {
            "text/plain": [
              "<IPython.core.display.Markdown object>"
            ],
            "text/markdown": "**4th CJN**:"
          },
          "metadata": {}
        },
        {
          "output_type": "display_data",
          "data": {
            "text/plain": [
              "<IPython.core.display.Markdown object>"
            ],
            "text/markdown": "---"
          },
          "metadata": {}
        },
        {
          "output_type": "stream",
          "name": "stdout",
          "text": [
            "Graph:\n"
          ]
        },
        {
          "output_type": "display_data",
          "data": {
            "text/plain": [
              "<graphviz.dot.Digraph at 0x7f31a11a9cd0>"
            ],
            "image/svg+xml": "<?xml version=\"1.0\" encoding=\"UTF-8\" standalone=\"no\"?>\n<!DOCTYPE svg PUBLIC \"-//W3C//DTD SVG 1.1//EN\"\n \"http://www.w3.org/Graphics/SVG/1.1/DTD/svg11.dtd\">\n<!-- Generated by graphviz version 2.40.1 (20161225.0304)\n -->\n<!-- Title: %3 Pages: 1 -->\n<svg width=\"522pt\" height=\"152pt\"\n viewBox=\"0.00 0.00 522.28 152.00\" xmlns=\"http://www.w3.org/2000/svg\" xmlns:xlink=\"http://www.w3.org/1999/xlink\">\n<g id=\"graph0\" class=\"graph\" transform=\"scale(1 1) rotate(0) translate(4 148)\">\n<title>%3</title>\n<polygon fill=\"#ffffff\" stroke=\"transparent\" points=\"-4,4 -4,-148 518.2769,-148 518.2769,4 -4,4\"/>\n<!-- t1 -->\n<g id=\"node1\" class=\"node\">\n<title>t1</title>\n<ellipse fill=\"none\" stroke=\"#000000\" cx=\"76.7876\" cy=\"-72\" rx=\"76.5758\" ry=\"18\"/>\n<text text-anchor=\"middle\" x=\"76.7876\" y=\"-69.8\" font-family=\"Times,serif\" font-size=\"9.00\" fill=\"#000000\">COUNTRY.v(name{saint,kitts})</text>\n</g>\n<!-- t2 -->\n<g id=\"node2\" class=\"node\">\n<title>t2</title>\n<ellipse fill=\"none\" stroke=\"#000000\" cx=\"160.7876\" cy=\"-126\" rx=\"34.1275\" ry=\"18\"/>\n<text text-anchor=\"middle\" x=\"160.7876\" y=\"-123.8\" font-family=\"Times,serif\" font-size=\"9.00\" fill=\"#000000\">BORDERS</text>\n</g>\n<!-- t2&#45;&gt;t1 -->\n<g id=\"edge2\" class=\"edge\">\n<title>t2&#45;&gt;t1</title>\n<path fill=\"none\" stroke=\"#000000\" d=\"M139.1555,-112.0937C130.5727,-106.5761 120.4926,-100.0961 110.9686,-93.9735\"/>\n<polygon fill=\"#000000\" stroke=\"#000000\" points=\"112.4183,-91.1607 103.1442,-88.9436 109.0115,-96.4601 112.4183,-91.1607\"/>\n</g>\n<!-- t3 -->\n<g id=\"node3\" class=\"node\">\n<title>t3</title>\n<ellipse fill=\"none\" stroke=\"#000000\" cx=\"244.7876\" cy=\"-72\" rx=\"76.5758\" ry=\"18\"/>\n<text text-anchor=\"middle\" x=\"244.7876\" y=\"-69.8\" font-family=\"Times,serif\" font-size=\"9.00\" fill=\"#000000\">COUNTRY.v(name{cambodia})</text>\n</g>\n<!-- t2&#45;&gt;t3 -->\n<g id=\"edge1\" class=\"edge\">\n<title>t2&#45;&gt;t3</title>\n<path fill=\"none\" stroke=\"#000000\" d=\"M182.4197,-112.0937C191.0025,-106.5761 201.0826,-100.0961 210.6066,-93.9735\"/>\n<polygon fill=\"#000000\" stroke=\"#000000\" points=\"212.5637,-96.4601 218.4309,-88.9436 209.1569,-91.1607 212.5637,-96.4601\"/>\n</g>\n<!-- t4 -->\n<g id=\"node4\" class=\"node\">\n<title>t4</title>\n<ellipse fill=\"none\" stroke=\"#000000\" cx=\"334.7876\" cy=\"-18\" rx=\"27\" ry=\"18\"/>\n<text text-anchor=\"middle\" x=\"334.7876\" y=\"-15.8\" font-family=\"Times,serif\" font-size=\"9.00\" fill=\"#000000\">CITY</text>\n</g>\n<!-- t3&#45;&gt;t4 -->\n<g id=\"edge3\" class=\"edge\">\n<title>t3&#45;&gt;t4</title>\n<path fill=\"none\" stroke=\"#000000\" d=\"M272.7708,-55.2101C283.5441,-48.7461 295.8435,-41.3665 306.6329,-34.8928\"/>\n<polygon fill=\"#000000\" stroke=\"#000000\" points=\"308.4422,-37.4808 314.539,-30.1491 305.2009,-32.0786 308.4422,-37.4808\"/>\n</g>\n<!-- t5 -->\n<g id=\"node5\" class=\"node\">\n<title>t5</title>\n<ellipse fill=\"none\" stroke=\"#000000\" cx=\"424.7876\" cy=\"-72\" rx=\"89.4786\" ry=\"18\"/>\n<text text-anchor=\"middle\" x=\"424.7876\" y=\"-69.8\" font-family=\"Times,serif\" font-size=\"9.00\" fill=\"#000000\">ORGANIZATION.s(*{organization})</text>\n</g>\n<!-- t5&#45;&gt;t4 -->\n<g id=\"edge4\" class=\"edge\">\n<title>t5&#45;&gt;t4</title>\n<path fill=\"none\" stroke=\"#000000\" d=\"M396.311,-54.9141C385.6412,-48.5122 373.5321,-41.2467 362.8959,-34.865\"/>\n<polygon fill=\"#000000\" stroke=\"#000000\" points=\"364.4357,-32.1154 355.0976,-30.186 361.1943,-37.5176 364.4357,-32.1154\"/>\n</g>\n</g>\n</svg>\n"
          },
          "metadata": {}
        },
        {
          "output_type": "display_data",
          "data": {
            "text/plain": [
              "<IPython.core.display.Markdown object>"
            ],
            "text/markdown": "---"
          },
          "metadata": {}
        },
        {
          "output_type": "stream",
          "name": "stdout",
          "text": [
            "JNTs:\n",
            "\tThis CJN returns no tuples.\n",
            "\n"
          ]
        },
        {
          "output_type": "display_data",
          "data": {
            "text/plain": [
              "<IPython.core.display.Markdown object>"
            ],
            "text/markdown": "---"
          },
          "metadata": {}
        },
        {
          "output_type": "display_data",
          "data": {
            "text/plain": [
              "<IPython.core.display.Markdown object>"
            ],
            "text/markdown": "**5th CJN**:"
          },
          "metadata": {}
        },
        {
          "output_type": "display_data",
          "data": {
            "text/plain": [
              "<IPython.core.display.Markdown object>"
            ],
            "text/markdown": "---"
          },
          "metadata": {}
        },
        {
          "output_type": "stream",
          "name": "stdout",
          "text": [
            "Graph:\n"
          ]
        },
        {
          "output_type": "display_data",
          "data": {
            "text/plain": [
              "<graphviz.dot.Digraph at 0x7f31a1a36490>"
            ],
            "image/svg+xml": "<?xml version=\"1.0\" encoding=\"UTF-8\" standalone=\"no\"?>\n<!DOCTYPE svg PUBLIC \"-//W3C//DTD SVG 1.1//EN\"\n \"http://www.w3.org/Graphics/SVG/1.1/DTD/svg11.dtd\">\n<!-- Generated by graphviz version 2.40.1 (20161225.0304)\n -->\n<!-- Title: %3 Pages: 1 -->\n<svg width=\"522pt\" height=\"98pt\"\n viewBox=\"0.00 0.00 522.28 98.00\" xmlns=\"http://www.w3.org/2000/svg\" xmlns:xlink=\"http://www.w3.org/1999/xlink\">\n<g id=\"graph0\" class=\"graph\" transform=\"scale(1 1) rotate(0) translate(4 94)\">\n<title>%3</title>\n<polygon fill=\"#ffffff\" stroke=\"transparent\" points=\"-4,4 -4,-94 518.2769,-94 518.2769,4 -4,4\"/>\n<!-- t1 -->\n<g id=\"node1\" class=\"node\">\n<title>t1</title>\n<ellipse fill=\"none\" stroke=\"#000000\" cx=\"76.7876\" cy=\"-18\" rx=\"76.5758\" ry=\"18\"/>\n<text text-anchor=\"middle\" x=\"76.7876\" y=\"-15.8\" font-family=\"Times,serif\" font-size=\"9.00\" fill=\"#000000\">COUNTRY.v(name{saint,kitts})</text>\n</g>\n<!-- t2 -->\n<g id=\"node2\" class=\"node\">\n<title>t2</title>\n<ellipse fill=\"none\" stroke=\"#000000\" cx=\"180.7876\" cy=\"-72\" rx=\"34.1275\" ry=\"18\"/>\n<text text-anchor=\"middle\" x=\"180.7876\" y=\"-69.8\" font-family=\"Times,serif\" font-size=\"9.00\" fill=\"#000000\">BORDERS</text>\n</g>\n<!-- t2&#45;&gt;t1 -->\n<g id=\"edge2\" class=\"edge\">\n<title>t2&#45;&gt;t1</title>\n<path fill=\"none\" stroke=\"#000000\" d=\"M156.4042,-59.3394C144.5712,-53.1953 130.0503,-45.6557 116.6645,-38.7053\"/>\n<polygon fill=\"#000000\" stroke=\"#000000\" points=\"117.9498,-35.8234 108.5108,-34.4717 115.0467,-41.4147 117.9498,-35.8234\"/>\n</g>\n<!-- t3 -->\n<g id=\"node3\" class=\"node\">\n<title>t3</title>\n<ellipse fill=\"none\" stroke=\"#000000\" cx=\"244.7876\" cy=\"-18\" rx=\"76.5758\" ry=\"18\"/>\n<text text-anchor=\"middle\" x=\"244.7876\" y=\"-15.8\" font-family=\"Times,serif\" font-size=\"9.00\" fill=\"#000000\">COUNTRY.v(name{cambodia})</text>\n</g>\n<!-- t2&#45;&gt;t3 -->\n<g id=\"edge1\" class=\"edge\">\n<title>t2&#45;&gt;t3</title>\n<path fill=\"none\" stroke=\"#000000\" d=\"M198.9562,-56.6702C204.5873,-51.919 210.926,-46.5707 217.0523,-41.4016\"/>\n<polygon fill=\"#000000\" stroke=\"#000000\" points=\"219.2442,-43.6737 224.0915,-35.4623 215.1815,-38.8587 219.2442,-43.6737\"/>\n</g>\n<!-- t4 -->\n<g id=\"node4\" class=\"node\">\n<title>t4</title>\n<ellipse fill=\"none\" stroke=\"#000000\" cx=\"307.7876\" cy=\"-72\" rx=\"39.0211\" ry=\"18\"/>\n<text text-anchor=\"middle\" x=\"307.7876\" y=\"-69.8\" font-family=\"Times,serif\" font-size=\"9.00\" fill=\"#000000\">IS_MEMBER</text>\n</g>\n<!-- t4&#45;&gt;t3 -->\n<g id=\"edge3\" class=\"edge\">\n<title>t4&#45;&gt;t3</title>\n<path fill=\"none\" stroke=\"#000000\" d=\"M289.2263,-56.0903C283.918,-51.5404 278.0164,-46.4818 272.2936,-41.5766\"/>\n<polygon fill=\"#000000\" stroke=\"#000000\" points=\"274.0817,-38.9604 265.1984,-35.495 269.9817,-43.7438 274.0817,-38.9604\"/>\n</g>\n<!-- t5 -->\n<g id=\"node5\" class=\"node\">\n<title>t5</title>\n<ellipse fill=\"none\" stroke=\"#000000\" cx=\"424.7876\" cy=\"-18\" rx=\"89.4786\" ry=\"18\"/>\n<text text-anchor=\"middle\" x=\"424.7876\" y=\"-15.8\" font-family=\"Times,serif\" font-size=\"9.00\" fill=\"#000000\">ORGANIZATION.s(*{organization})</text>\n</g>\n<!-- t4&#45;&gt;t5 -->\n<g id=\"edge4\" class=\"edge\">\n<title>t4&#45;&gt;t5</title>\n<path fill=\"none\" stroke=\"#000000\" d=\"M335.515,-59.2028C348.9709,-52.9923 365.4633,-45.3804 380.5951,-38.3965\"/>\n<polygon fill=\"#000000\" stroke=\"#000000\" points=\"381.9822,-41.2257 388.8338,-34.5941 379.3421,-35.5056 381.9822,-41.2257\"/>\n</g>\n</g>\n</svg>\n"
          },
          "metadata": {}
        },
        {
          "output_type": "display_data",
          "data": {
            "text/plain": [
              "<IPython.core.display.Markdown object>"
            ],
            "text/markdown": "---"
          },
          "metadata": {}
        },
        {
          "output_type": "stream",
          "name": "stdout",
          "text": [
            "JNTs:\n",
            "\tThis CJN returns no tuples.\n",
            "\n"
          ]
        },
        {
          "output_type": "display_data",
          "data": {
            "text/plain": [
              "<IPython.core.display.Markdown object>"
            ],
            "text/markdown": "---"
          },
          "metadata": {}
        },
        {
          "output_type": "display_data",
          "data": {
            "text/plain": [
              "<IPython.core.display.Markdown object>"
            ],
            "text/markdown": "**6th CJN**:"
          },
          "metadata": {}
        },
        {
          "output_type": "display_data",
          "data": {
            "text/plain": [
              "<IPython.core.display.Markdown object>"
            ],
            "text/markdown": "---"
          },
          "metadata": {}
        },
        {
          "output_type": "stream",
          "name": "stdout",
          "text": [
            "Graph:\n"
          ]
        },
        {
          "output_type": "display_data",
          "data": {
            "text/plain": [
              "<graphviz.dot.Digraph at 0x7f31a1b5ec90>"
            ],
            "image/svg+xml": "<?xml version=\"1.0\" encoding=\"UTF-8\" standalone=\"no\"?>\n<!DOCTYPE svg PUBLIC \"-//W3C//DTD SVG 1.1//EN\"\n \"http://www.w3.org/Graphics/SVG/1.1/DTD/svg11.dtd\">\n<!-- Generated by graphviz version 2.40.1 (20161225.0304)\n -->\n<!-- Title: %3 Pages: 1 -->\n<svg width=\"540pt\" height=\"152pt\"\n viewBox=\"0.00 0.00 539.58 152.00\" xmlns=\"http://www.w3.org/2000/svg\" xmlns:xlink=\"http://www.w3.org/1999/xlink\">\n<g id=\"graph0\" class=\"graph\" transform=\"scale(1 1) rotate(0) translate(4 148)\">\n<title>%3</title>\n<polygon fill=\"#ffffff\" stroke=\"transparent\" points=\"-4,4 -4,-148 535.5752,-148 535.5752,4 -4,4\"/>\n<!-- t1 -->\n<g id=\"node1\" class=\"node\">\n<title>t1</title>\n<ellipse fill=\"none\" stroke=\"#000000\" cx=\"76.7876\" cy=\"-72\" rx=\"76.5758\" ry=\"18\"/>\n<text text-anchor=\"middle\" x=\"76.7876\" y=\"-69.8\" font-family=\"Times,serif\" font-size=\"9.00\" fill=\"#000000\">COUNTRY.v(name{saint,kitts})</text>\n</g>\n<!-- t2 -->\n<g id=\"node2\" class=\"node\">\n<title>t2</title>\n<ellipse fill=\"none\" stroke=\"#000000\" cx=\"170.7876\" cy=\"-18\" rx=\"27\" ry=\"18\"/>\n<text text-anchor=\"middle\" x=\"170.7876\" y=\"-15.8\" font-family=\"Times,serif\" font-size=\"9.00\" fill=\"#000000\">CITY</text>\n</g>\n<!-- t1&#45;&gt;t2 -->\n<g id=\"edge1\" class=\"edge\">\n<title>t1&#45;&gt;t2</title>\n<path fill=\"none\" stroke=\"#000000\" d=\"M106.0145,-55.2101C117.5504,-48.5831 130.7616,-40.9937 142.2311,-34.4048\"/>\n<polygon fill=\"#000000\" stroke=\"#000000\" points=\"143.9912,-37.0265 150.2261,-29.8119 140.853,-31.5637 143.9912,-37.0265\"/>\n</g>\n<!-- t3 -->\n<g id=\"node3\" class=\"node\">\n<title>t3</title>\n<ellipse fill=\"none\" stroke=\"#000000\" cx=\"265.7876\" cy=\"-72\" rx=\"98.2993\" ry=\"18\"/>\n<text text-anchor=\"middle\" x=\"265.7876\" y=\"-69.8\" font-family=\"Times,serif\" font-size=\"9.00\" fill=\"#000000\">ORGANIZATION.v(name{organization})</text>\n</g>\n<!-- t3&#45;&gt;t2 -->\n<g id=\"edge2\" class=\"edge\">\n<title>t3&#45;&gt;t2</title>\n<path fill=\"none\" stroke=\"#000000\" d=\"M235.4678,-54.7656C223.9321,-48.2085 210.834,-40.7632 199.456,-34.2957\"/>\n<polygon fill=\"#000000\" stroke=\"#000000\" points=\"200.903,-31.4949 191.522,-29.7859 197.7897,-36.9719 200.903,-31.4949\"/>\n</g>\n<!-- t4 -->\n<g id=\"node4\" class=\"node\">\n<title>t4</title>\n<ellipse fill=\"none\" stroke=\"#000000\" cx=\"359.7876\" cy=\"-126\" rx=\"39.0211\" ry=\"18\"/>\n<text text-anchor=\"middle\" x=\"359.7876\" y=\"-123.8\" font-family=\"Times,serif\" font-size=\"9.00\" fill=\"#000000\">IS_MEMBER</text>\n</g>\n<!-- t4&#45;&gt;t3 -->\n<g id=\"edge4\" class=\"edge\">\n<title>t4&#45;&gt;t3</title>\n<path fill=\"none\" stroke=\"#000000\" d=\"M335.0902,-111.8121C325.4673,-106.2841 314.2205,-99.8232 303.6209,-93.7341\"/>\n<polygon fill=\"#000000\" stroke=\"#000000\" points=\"305.0522,-90.9235 295.6791,-89.1717 301.914,-96.3863 305.0522,-90.9235\"/>\n</g>\n<!-- t5 -->\n<g id=\"node5\" class=\"node\">\n<title>t5</title>\n<ellipse fill=\"none\" stroke=\"#000000\" cx=\"454.7876\" cy=\"-72\" rx=\"76.5758\" ry=\"18\"/>\n<text text-anchor=\"middle\" x=\"454.7876\" y=\"-69.8\" font-family=\"Times,serif\" font-size=\"9.00\" fill=\"#000000\">COUNTRY.v(name{cambodia})</text>\n</g>\n<!-- t4&#45;&gt;t5 -->\n<g id=\"edge3\" class=\"edge\">\n<title>t4&#45;&gt;t5</title>\n<path fill=\"none\" stroke=\"#000000\" d=\"M384.7477,-111.8121C394.6483,-106.1845 406.2495,-99.5901 417.1301,-93.4053\"/>\n<polygon fill=\"#000000\" stroke=\"#000000\" points=\"419.0024,-95.9645 425.27,-88.7784 415.8891,-90.4874 419.0024,-95.9645\"/>\n</g>\n</g>\n</svg>\n"
          },
          "metadata": {}
        },
        {
          "output_type": "display_data",
          "data": {
            "text/plain": [
              "<IPython.core.display.Markdown object>"
            ],
            "text/markdown": "---"
          },
          "metadata": {}
        },
        {
          "output_type": "stream",
          "name": "stdout",
          "text": [
            "JNTs:\n",
            "\tThis CJN returns no tuples.\n",
            "\n"
          ]
        },
        {
          "output_type": "display_data",
          "data": {
            "text/plain": [
              "<IPython.core.display.Markdown object>"
            ],
            "text/markdown": "---"
          },
          "metadata": {}
        },
        {
          "output_type": "display_data",
          "data": {
            "text/plain": [
              "<IPython.core.display.Markdown object>"
            ],
            "text/markdown": "**7th CJN**:"
          },
          "metadata": {}
        },
        {
          "output_type": "display_data",
          "data": {
            "text/plain": [
              "<IPython.core.display.Markdown object>"
            ],
            "text/markdown": "---"
          },
          "metadata": {}
        },
        {
          "output_type": "stream",
          "name": "stdout",
          "text": [
            "Graph:\n"
          ]
        },
        {
          "output_type": "display_data",
          "data": {
            "text/plain": [
              "<graphviz.dot.Digraph at 0x7f31a1a9dd90>"
            ],
            "image/svg+xml": "<?xml version=\"1.0\" encoding=\"UTF-8\" standalone=\"no\"?>\n<!DOCTYPE svg PUBLIC \"-//W3C//DTD SVG 1.1//EN\"\n \"http://www.w3.org/Graphics/SVG/1.1/DTD/svg11.dtd\">\n<!-- Generated by graphviz version 2.40.1 (20161225.0304)\n -->\n<!-- Title: %3 Pages: 1 -->\n<svg width=\"372pt\" height=\"206pt\"\n viewBox=\"0.00 0.00 371.94 206.00\" xmlns=\"http://www.w3.org/2000/svg\" xmlns:xlink=\"http://www.w3.org/1999/xlink\">\n<g id=\"graph0\" class=\"graph\" transform=\"scale(1 1) rotate(0) translate(4 202)\">\n<title>%3</title>\n<polygon fill=\"#ffffff\" stroke=\"transparent\" points=\"-4,4 -4,-202 367.9371,-202 367.9371,4 -4,4\"/>\n<!-- t1 -->\n<g id=\"node1\" class=\"node\">\n<title>t1</title>\n<ellipse fill=\"none\" stroke=\"#000000\" cx=\"76.7876\" cy=\"-180\" rx=\"76.5758\" ry=\"18\"/>\n<text text-anchor=\"middle\" x=\"76.7876\" y=\"-177.8\" font-family=\"Times,serif\" font-size=\"9.00\" fill=\"#000000\">COUNTRY.v(name{saint,kitts})</text>\n</g>\n<!-- t2 -->\n<g id=\"node2\" class=\"node\">\n<title>t2</title>\n<ellipse fill=\"none\" stroke=\"#000000\" cx=\"170.7876\" cy=\"-126\" rx=\"27\" ry=\"18\"/>\n<text text-anchor=\"middle\" x=\"170.7876\" y=\"-123.8\" font-family=\"Times,serif\" font-size=\"9.00\" fill=\"#000000\">CITY</text>\n</g>\n<!-- t1&#45;&gt;t2 -->\n<g id=\"edge1\" class=\"edge\">\n<title>t1&#45;&gt;t2</title>\n<path fill=\"none\" stroke=\"#000000\" d=\"M106.0145,-163.2101C117.5504,-156.5831 130.7616,-148.9937 142.2311,-142.4048\"/>\n<polygon fill=\"#000000\" stroke=\"#000000\" points=\"143.9912,-145.0265 150.2261,-137.8119 140.853,-139.5637 143.9912,-145.0265\"/>\n</g>\n<!-- t4 -->\n<g id=\"node4\" class=\"node\">\n<title>t4</title>\n<ellipse fill=\"none\" stroke=\"#000000\" cx=\"170.7876\" cy=\"-72\" rx=\"35.5926\" ry=\"18\"/>\n<text text-anchor=\"middle\" x=\"170.7876\" y=\"-69.8\" font-family=\"Times,serif\" font-size=\"9.00\" fill=\"#000000\">PROVINCE</text>\n</g>\n<!-- t2&#45;&gt;t4 -->\n<g id=\"edge2\" class=\"edge\">\n<title>t2&#45;&gt;t4</title>\n<path fill=\"none\" stroke=\"#000000\" d=\"M170.7876,-107.7181C170.7876,-104.9911 170.7876,-102.1312 170.7876,-99.2673\"/>\n<polygon fill=\"#000000\" stroke=\"#000000\" points=\"173.9377,-99.2631 170.7876,-90.2631 167.6377,-99.2631 173.9377,-99.2631\"/>\n</g>\n<!-- t3 -->\n<g id=\"node3\" class=\"node\">\n<title>t3</title>\n<ellipse fill=\"none\" stroke=\"#000000\" cx=\"265.7876\" cy=\"-180\" rx=\"98.2993\" ry=\"18\"/>\n<text text-anchor=\"middle\" x=\"265.7876\" y=\"-177.8\" font-family=\"Times,serif\" font-size=\"9.00\" fill=\"#000000\">ORGANIZATION.v(name{organization})</text>\n</g>\n<!-- t3&#45;&gt;t2 -->\n<g id=\"edge3\" class=\"edge\">\n<title>t3&#45;&gt;t2</title>\n<path fill=\"none\" stroke=\"#000000\" d=\"M235.4678,-162.7656C223.9321,-156.2085 210.834,-148.7632 199.456,-142.2957\"/>\n<polygon fill=\"#000000\" stroke=\"#000000\" points=\"200.903,-139.4949 191.522,-137.7859 197.7897,-144.9719 200.903,-139.4949\"/>\n</g>\n<!-- t5 -->\n<g id=\"node5\" class=\"node\">\n<title>t5</title>\n<ellipse fill=\"none\" stroke=\"#000000\" cx=\"170.7876\" cy=\"-18\" rx=\"76.5758\" ry=\"18\"/>\n<text text-anchor=\"middle\" x=\"170.7876\" y=\"-15.8\" font-family=\"Times,serif\" font-size=\"9.00\" fill=\"#000000\">COUNTRY.v(name{cambodia})</text>\n</g>\n<!-- t4&#45;&gt;t5 -->\n<g id=\"edge4\" class=\"edge\">\n<title>t4&#45;&gt;t5</title>\n<path fill=\"none\" stroke=\"#000000\" d=\"M170.7876,-53.7181C170.7876,-50.9911 170.7876,-48.1312 170.7876,-45.2673\"/>\n<polygon fill=\"#000000\" stroke=\"#000000\" points=\"173.9377,-45.2631 170.7876,-36.2631 167.6377,-45.2631 173.9377,-45.2631\"/>\n</g>\n</g>\n</svg>\n"
          },
          "metadata": {}
        },
        {
          "output_type": "display_data",
          "data": {
            "text/plain": [
              "<IPython.core.display.Markdown object>"
            ],
            "text/markdown": "---"
          },
          "metadata": {}
        },
        {
          "output_type": "stream",
          "name": "stdout",
          "text": [
            "JNTs:\n",
            "\tThis CJN returns no tuples.\n",
            "\n"
          ]
        },
        {
          "output_type": "display_data",
          "data": {
            "text/plain": [
              "<IPython.core.display.Markdown object>"
            ],
            "text/markdown": "---"
          },
          "metadata": {}
        },
        {
          "output_type": "display_data",
          "data": {
            "text/plain": [
              "<IPython.core.display.Markdown object>"
            ],
            "text/markdown": "**8th CJN**:"
          },
          "metadata": {}
        },
        {
          "output_type": "display_data",
          "data": {
            "text/plain": [
              "<IPython.core.display.Markdown object>"
            ],
            "text/markdown": "---"
          },
          "metadata": {}
        },
        {
          "output_type": "stream",
          "name": "stdout",
          "text": [
            "Graph:\n"
          ]
        },
        {
          "output_type": "display_data",
          "data": {
            "text/plain": [
              "<graphviz.dot.Digraph at 0x7f31a1a362d0>"
            ],
            "image/svg+xml": "<?xml version=\"1.0\" encoding=\"UTF-8\" standalone=\"no\"?>\n<!DOCTYPE svg PUBLIC \"-//W3C//DTD SVG 1.1//EN\"\n \"http://www.w3.org/Graphics/SVG/1.1/DTD/svg11.dtd\">\n<!-- Generated by graphviz version 2.40.1 (20161225.0304)\n -->\n<!-- Title: %3 Pages: 1 -->\n<svg width=\"540pt\" height=\"152pt\"\n viewBox=\"0.00 0.00 539.94 152.00\" xmlns=\"http://www.w3.org/2000/svg\" xmlns:xlink=\"http://www.w3.org/1999/xlink\">\n<g id=\"graph0\" class=\"graph\" transform=\"scale(1 1) rotate(0) translate(4 148)\">\n<title>%3</title>\n<polygon fill=\"#ffffff\" stroke=\"transparent\" points=\"-4,4 -4,-148 535.9371,-148 535.9371,4 -4,4\"/>\n<!-- t1 -->\n<g id=\"node1\" class=\"node\">\n<title>t1</title>\n<ellipse fill=\"none\" stroke=\"#000000\" cx=\"287.1495\" cy=\"-72\" rx=\"76.5758\" ry=\"18\"/>\n<text text-anchor=\"middle\" x=\"287.1495\" y=\"-69.8\" font-family=\"Times,serif\" font-size=\"9.00\" fill=\"#000000\">COUNTRY.v(name{saint,kitts})</text>\n</g>\n<!-- t2 -->\n<g id=\"node2\" class=\"node\">\n<title>t2</title>\n<ellipse fill=\"none\" stroke=\"#000000\" cx=\"192.1495\" cy=\"-18\" rx=\"27\" ry=\"18\"/>\n<text text-anchor=\"middle\" x=\"192.1495\" y=\"-15.8\" font-family=\"Times,serif\" font-size=\"9.00\" fill=\"#000000\">CITY</text>\n</g>\n<!-- t1&#45;&gt;t2 -->\n<g id=\"edge1\" class=\"edge\">\n<title>t1&#45;&gt;t2</title>\n<path fill=\"none\" stroke=\"#000000\" d=\"M257.8712,-55.3576C246.1141,-48.6746 232.6014,-40.9937 220.8979,-34.3412\"/>\n<polygon fill=\"#000000\" stroke=\"#000000\" points=\"222.1276,-31.4169 212.7467,-29.7078 219.0143,-36.8939 222.1276,-31.4169\"/>\n</g>\n<!-- t3 -->\n<g id=\"node3\" class=\"node\">\n<title>t3</title>\n<ellipse fill=\"none\" stroke=\"#000000\" cx=\"98.1495\" cy=\"-72\" rx=\"98.2993\" ry=\"18\"/>\n<text text-anchor=\"middle\" x=\"98.1495\" y=\"-69.8\" font-family=\"Times,serif\" font-size=\"9.00\" fill=\"#000000\">ORGANIZATION.v(name{organization})</text>\n</g>\n<!-- t3&#45;&gt;t2 -->\n<g id=\"edge2\" class=\"edge\">\n<title>t3&#45;&gt;t2</title>\n<path fill=\"none\" stroke=\"#000000\" d=\"M128.1502,-54.7656C139.5644,-48.2085 152.5246,-40.7632 163.7829,-34.2957\"/>\n<polygon fill=\"#000000\" stroke=\"#000000\" points=\"165.3985,-37.0004 171.6334,-29.7859 162.2603,-31.5377 165.3985,-37.0004\"/>\n</g>\n<!-- t4 -->\n<g id=\"node4\" class=\"node\">\n<title>t4</title>\n<ellipse fill=\"none\" stroke=\"#000000\" cx=\"371.1495\" cy=\"-126\" rx=\"34.1275\" ry=\"18\"/>\n<text text-anchor=\"middle\" x=\"371.1495\" y=\"-123.8\" font-family=\"Times,serif\" font-size=\"9.00\" fill=\"#000000\">BORDERS</text>\n</g>\n<!-- t4&#45;&gt;t1 -->\n<g id=\"edge4\" class=\"edge\">\n<title>t4&#45;&gt;t1</title>\n<path fill=\"none\" stroke=\"#000000\" d=\"M349.5175,-112.0937C340.9347,-106.5761 330.8546,-100.0961 321.3305,-93.9735\"/>\n<polygon fill=\"#000000\" stroke=\"#000000\" points=\"322.7802,-91.1607 313.5062,-88.9436 319.3734,-96.4601 322.7802,-91.1607\"/>\n</g>\n<!-- t5 -->\n<g id=\"node5\" class=\"node\">\n<title>t5</title>\n<ellipse fill=\"none\" stroke=\"#000000\" cx=\"455.1495\" cy=\"-72\" rx=\"76.5758\" ry=\"18\"/>\n<text text-anchor=\"middle\" x=\"455.1495\" y=\"-69.8\" font-family=\"Times,serif\" font-size=\"9.00\" fill=\"#000000\">COUNTRY.v(name{cambodia})</text>\n</g>\n<!-- t4&#45;&gt;t5 -->\n<g id=\"edge3\" class=\"edge\">\n<title>t4&#45;&gt;t5</title>\n<path fill=\"none\" stroke=\"#000000\" d=\"M392.7816,-112.0937C401.3644,-106.5761 411.4445,-100.0961 420.9686,-93.9735\"/>\n<polygon fill=\"#000000\" stroke=\"#000000\" points=\"422.9257,-96.4601 428.7929,-88.9436 419.5189,-91.1607 422.9257,-96.4601\"/>\n</g>\n</g>\n</svg>\n"
          },
          "metadata": {}
        },
        {
          "output_type": "display_data",
          "data": {
            "text/plain": [
              "<IPython.core.display.Markdown object>"
            ],
            "text/markdown": "---"
          },
          "metadata": {}
        },
        {
          "output_type": "stream",
          "name": "stdout",
          "text": [
            "JNTs:\n",
            "\tThis CJN returns no tuples.\n",
            "\n"
          ]
        },
        {
          "output_type": "display_data",
          "data": {
            "text/plain": [
              "<IPython.core.display.Markdown object>"
            ],
            "text/markdown": "---"
          },
          "metadata": {}
        },
        {
          "output_type": "display_data",
          "data": {
            "text/plain": [
              "<IPython.core.display.Markdown object>"
            ],
            "text/markdown": "**9th CJN**:"
          },
          "metadata": {}
        },
        {
          "output_type": "display_data",
          "data": {
            "text/plain": [
              "<IPython.core.display.Markdown object>"
            ],
            "text/markdown": "---"
          },
          "metadata": {}
        },
        {
          "output_type": "stream",
          "name": "stdout",
          "text": [
            "Graph:\n"
          ]
        },
        {
          "output_type": "display_data",
          "data": {
            "text/plain": [
              "<graphviz.dot.Digraph at 0x7f31a1aaa250>"
            ],
            "image/svg+xml": "<?xml version=\"1.0\" encoding=\"UTF-8\" standalone=\"no\"?>\n<!DOCTYPE svg PUBLIC \"-//W3C//DTD SVG 1.1//EN\"\n \"http://www.w3.org/Graphics/SVG/1.1/DTD/svg11.dtd\">\n<!-- Generated by graphviz version 2.40.1 (20161225.0304)\n -->\n<!-- Title: %3 Pages: 1 -->\n<svg width=\"540pt\" height=\"152pt\"\n viewBox=\"0.00 0.00 539.94 152.00\" xmlns=\"http://www.w3.org/2000/svg\" xmlns:xlink=\"http://www.w3.org/1999/xlink\">\n<g id=\"graph0\" class=\"graph\" transform=\"scale(1 1) rotate(0) translate(4 148)\">\n<title>%3</title>\n<polygon fill=\"#ffffff\" stroke=\"transparent\" points=\"-4,4 -4,-148 535.9371,-148 535.9371,4 -4,4\"/>\n<!-- t1 -->\n<g id=\"node1\" class=\"node\">\n<title>t1</title>\n<ellipse fill=\"none\" stroke=\"#000000\" cx=\"76.7876\" cy=\"-72\" rx=\"76.5758\" ry=\"18\"/>\n<text text-anchor=\"middle\" x=\"76.7876\" y=\"-69.8\" font-family=\"Times,serif\" font-size=\"9.00\" fill=\"#000000\">COUNTRY.v(name{saint,kitts})</text>\n</g>\n<!-- t2 -->\n<g id=\"node2\" class=\"node\">\n<title>t2</title>\n<ellipse fill=\"none\" stroke=\"#000000\" cx=\"160.7876\" cy=\"-126\" rx=\"34.1275\" ry=\"18\"/>\n<text text-anchor=\"middle\" x=\"160.7876\" y=\"-123.8\" font-family=\"Times,serif\" font-size=\"9.00\" fill=\"#000000\">BORDERS</text>\n</g>\n<!-- t2&#45;&gt;t1 -->\n<g id=\"edge2\" class=\"edge\">\n<title>t2&#45;&gt;t1</title>\n<path fill=\"none\" stroke=\"#000000\" d=\"M139.1555,-112.0937C130.5727,-106.5761 120.4926,-100.0961 110.9686,-93.9735\"/>\n<polygon fill=\"#000000\" stroke=\"#000000\" points=\"112.4183,-91.1607 103.1442,-88.9436 109.0115,-96.4601 112.4183,-91.1607\"/>\n</g>\n<!-- t3 -->\n<g id=\"node3\" class=\"node\">\n<title>t3</title>\n<ellipse fill=\"none\" stroke=\"#000000\" cx=\"244.7876\" cy=\"-72\" rx=\"76.5758\" ry=\"18\"/>\n<text text-anchor=\"middle\" x=\"244.7876\" y=\"-69.8\" font-family=\"Times,serif\" font-size=\"9.00\" fill=\"#000000\">COUNTRY.v(name{cambodia})</text>\n</g>\n<!-- t2&#45;&gt;t3 -->\n<g id=\"edge1\" class=\"edge\">\n<title>t2&#45;&gt;t3</title>\n<path fill=\"none\" stroke=\"#000000\" d=\"M182.4197,-112.0937C191.0025,-106.5761 201.0826,-100.0961 210.6066,-93.9735\"/>\n<polygon fill=\"#000000\" stroke=\"#000000\" points=\"212.5637,-96.4601 218.4309,-88.9436 209.1569,-91.1607 212.5637,-96.4601\"/>\n</g>\n<!-- t4 -->\n<g id=\"node4\" class=\"node\">\n<title>t4</title>\n<ellipse fill=\"none\" stroke=\"#000000\" cx=\"338.7876\" cy=\"-18\" rx=\"27\" ry=\"18\"/>\n<text text-anchor=\"middle\" x=\"338.7876\" y=\"-15.8\" font-family=\"Times,serif\" font-size=\"9.00\" fill=\"#000000\">CITY</text>\n</g>\n<!-- t3&#45;&gt;t4 -->\n<g id=\"edge3\" class=\"edge\">\n<title>t3&#45;&gt;t4</title>\n<path fill=\"none\" stroke=\"#000000\" d=\"M274.0145,-55.2101C285.5504,-48.5831 298.7616,-40.9937 310.2311,-34.4048\"/>\n<polygon fill=\"#000000\" stroke=\"#000000\" points=\"311.9912,-37.0265 318.2261,-29.8119 308.853,-31.5637 311.9912,-37.0265\"/>\n</g>\n<!-- t5 -->\n<g id=\"node5\" class=\"node\">\n<title>t5</title>\n<ellipse fill=\"none\" stroke=\"#000000\" cx=\"433.7876\" cy=\"-72\" rx=\"98.2993\" ry=\"18\"/>\n<text text-anchor=\"middle\" x=\"433.7876\" y=\"-69.8\" font-family=\"Times,serif\" font-size=\"9.00\" fill=\"#000000\">ORGANIZATION.v(name{organization})</text>\n</g>\n<!-- t5&#45;&gt;t4 -->\n<g id=\"edge4\" class=\"edge\">\n<title>t5&#45;&gt;t4</title>\n<path fill=\"none\" stroke=\"#000000\" d=\"M403.4678,-54.7656C391.9321,-48.2085 378.834,-40.7632 367.456,-34.2957\"/>\n<polygon fill=\"#000000\" stroke=\"#000000\" points=\"368.903,-31.4949 359.522,-29.7859 365.7897,-36.9719 368.903,-31.4949\"/>\n</g>\n</g>\n</svg>\n"
          },
          "metadata": {}
        },
        {
          "output_type": "display_data",
          "data": {
            "text/plain": [
              "<IPython.core.display.Markdown object>"
            ],
            "text/markdown": "---"
          },
          "metadata": {}
        },
        {
          "output_type": "stream",
          "name": "stdout",
          "text": [
            "JNTs:\n",
            "\tThis CJN returns no tuples.\n",
            "\n"
          ]
        },
        {
          "output_type": "display_data",
          "data": {
            "text/plain": [
              "<IPython.core.display.Markdown object>"
            ],
            "text/markdown": "---"
          },
          "metadata": {}
        },
        {
          "output_type": "display_data",
          "data": {
            "text/plain": [
              "<IPython.core.display.Markdown object>"
            ],
            "text/markdown": "**10th CJN**:"
          },
          "metadata": {}
        },
        {
          "output_type": "display_data",
          "data": {
            "text/plain": [
              "<IPython.core.display.Markdown object>"
            ],
            "text/markdown": "---"
          },
          "metadata": {}
        },
        {
          "output_type": "stream",
          "name": "stdout",
          "text": [
            "Graph:\n"
          ]
        },
        {
          "output_type": "display_data",
          "data": {
            "text/plain": [
              "<graphviz.dot.Digraph at 0x7f31a1a36c90>"
            ],
            "image/svg+xml": "<?xml version=\"1.0\" encoding=\"UTF-8\" standalone=\"no\"?>\n<!DOCTYPE svg PUBLIC \"-//W3C//DTD SVG 1.1//EN\"\n \"http://www.w3.org/Graphics/SVG/1.1/DTD/svg11.dtd\">\n<!-- Generated by graphviz version 2.40.1 (20161225.0304)\n -->\n<!-- Title: %3 Pages: 1 -->\n<svg width=\"540pt\" height=\"98pt\"\n viewBox=\"0.00 0.00 539.94 98.00\" xmlns=\"http://www.w3.org/2000/svg\" xmlns:xlink=\"http://www.w3.org/1999/xlink\">\n<g id=\"graph0\" class=\"graph\" transform=\"scale(1 1) rotate(0) translate(4 94)\">\n<title>%3</title>\n<polygon fill=\"#ffffff\" stroke=\"transparent\" points=\"-4,4 -4,-94 535.9371,-94 535.9371,4 -4,4\"/>\n<!-- t1 -->\n<g id=\"node1\" class=\"node\">\n<title>t1</title>\n<ellipse fill=\"none\" stroke=\"#000000\" cx=\"76.7876\" cy=\"-18\" rx=\"76.5758\" ry=\"18\"/>\n<text text-anchor=\"middle\" x=\"76.7876\" y=\"-15.8\" font-family=\"Times,serif\" font-size=\"9.00\" fill=\"#000000\">COUNTRY.v(name{saint,kitts})</text>\n</g>\n<!-- t2 -->\n<g id=\"node2\" class=\"node\">\n<title>t2</title>\n<ellipse fill=\"none\" stroke=\"#000000\" cx=\"180.7876\" cy=\"-72\" rx=\"34.1275\" ry=\"18\"/>\n<text text-anchor=\"middle\" x=\"180.7876\" y=\"-69.8\" font-family=\"Times,serif\" font-size=\"9.00\" fill=\"#000000\">BORDERS</text>\n</g>\n<!-- t2&#45;&gt;t1 -->\n<g id=\"edge2\" class=\"edge\">\n<title>t2&#45;&gt;t1</title>\n<path fill=\"none\" stroke=\"#000000\" d=\"M156.4042,-59.3394C144.5712,-53.1953 130.0503,-45.6557 116.6645,-38.7053\"/>\n<polygon fill=\"#000000\" stroke=\"#000000\" points=\"117.9498,-35.8234 108.5108,-34.4717 115.0467,-41.4147 117.9498,-35.8234\"/>\n</g>\n<!-- t3 -->\n<g id=\"node3\" class=\"node\">\n<title>t3</title>\n<ellipse fill=\"none\" stroke=\"#000000\" cx=\"244.7876\" cy=\"-18\" rx=\"76.5758\" ry=\"18\"/>\n<text text-anchor=\"middle\" x=\"244.7876\" y=\"-15.8\" font-family=\"Times,serif\" font-size=\"9.00\" fill=\"#000000\">COUNTRY.v(name{cambodia})</text>\n</g>\n<!-- t2&#45;&gt;t3 -->\n<g id=\"edge1\" class=\"edge\">\n<title>t2&#45;&gt;t3</title>\n<path fill=\"none\" stroke=\"#000000\" d=\"M198.9562,-56.6702C204.5873,-51.919 210.926,-46.5707 217.0523,-41.4016\"/>\n<polygon fill=\"#000000\" stroke=\"#000000\" points=\"219.2442,-43.6737 224.0915,-35.4623 215.1815,-38.8587 219.2442,-43.6737\"/>\n</g>\n<!-- t4 -->\n<g id=\"node4\" class=\"node\">\n<title>t4</title>\n<ellipse fill=\"none\" stroke=\"#000000\" cx=\"307.7876\" cy=\"-72\" rx=\"39.0211\" ry=\"18\"/>\n<text text-anchor=\"middle\" x=\"307.7876\" y=\"-69.8\" font-family=\"Times,serif\" font-size=\"9.00\" fill=\"#000000\">IS_MEMBER</text>\n</g>\n<!-- t4&#45;&gt;t3 -->\n<g id=\"edge3\" class=\"edge\">\n<title>t4&#45;&gt;t3</title>\n<path fill=\"none\" stroke=\"#000000\" d=\"M289.2263,-56.0903C283.918,-51.5404 278.0164,-46.4818 272.2936,-41.5766\"/>\n<polygon fill=\"#000000\" stroke=\"#000000\" points=\"274.0817,-38.9604 265.1984,-35.495 269.9817,-43.7438 274.0817,-38.9604\"/>\n</g>\n<!-- t5 -->\n<g id=\"node5\" class=\"node\">\n<title>t5</title>\n<ellipse fill=\"none\" stroke=\"#000000\" cx=\"433.7876\" cy=\"-18\" rx=\"98.2993\" ry=\"18\"/>\n<text text-anchor=\"middle\" x=\"433.7876\" y=\"-15.8\" font-family=\"Times,serif\" font-size=\"9.00\" fill=\"#000000\">ORGANIZATION.v(name{organization})</text>\n</g>\n<!-- t4&#45;&gt;t5 -->\n<g id=\"edge4\" class=\"edge\">\n<title>t4&#45;&gt;t5</title>\n<path fill=\"none\" stroke=\"#000000\" d=\"M336.6945,-59.6113C351.4197,-53.3005 369.7009,-45.4657 386.4155,-38.3023\"/>\n<polygon fill=\"#000000\" stroke=\"#000000\" points=\"387.9548,-41.0698 394.9862,-34.6292 385.473,-35.2792 387.9548,-41.0698\"/>\n</g>\n</g>\n</svg>\n"
          },
          "metadata": {}
        },
        {
          "output_type": "display_data",
          "data": {
            "text/plain": [
              "<IPython.core.display.Markdown object>"
            ],
            "text/markdown": "---"
          },
          "metadata": {}
        },
        {
          "output_type": "stream",
          "name": "stdout",
          "text": [
            "JNTs:\n",
            "\tThis CJN returns no tuples.\n",
            "\n"
          ]
        }
      ]
    },
    {
      "cell_type": "markdown",
      "source": [
        "#### Keyword Search using Eager CJN Evaluation."
      ],
      "metadata": {
        "id": "CIaGmx4aWP7v"
      }
    },
    {
      "cell_type": "code",
      "source": [
        "results = lathe.keyword_search('saint kitts cambodia organization',configuration = (5,1,9))\n",
        "results.cjns(text=False,sql=False)"
      ],
      "metadata": {
        "id": "5_Zm3eGktEQH",
        "colab": {
          "base_uri": "https://localhost:8080/",
          "height": 906
        },
        "outputId": "a9b5eebb-3d23-4fa1-c3e1-204d156fa8be"
      },
      "execution_count": 20,
      "outputs": [
        {
          "output_type": "stream",
          "name": "stdout",
          "text": [
            "Keyword Query: saint kitts cambodia organization\n"
          ]
        },
        {
          "output_type": "display_data",
          "data": {
            "text/plain": [
              "<IPython.core.display.Markdown object>"
            ],
            "text/markdown": "---"
          },
          "metadata": {}
        },
        {
          "output_type": "display_data",
          "data": {
            "text/plain": [
              "<IPython.core.display.Markdown object>"
            ],
            "text/markdown": "**1st CJN**:"
          },
          "metadata": {}
        },
        {
          "output_type": "display_data",
          "data": {
            "text/plain": [
              "<IPython.core.display.Markdown object>"
            ],
            "text/markdown": "---"
          },
          "metadata": {}
        },
        {
          "output_type": "stream",
          "name": "stdout",
          "text": [
            "Graph:\n"
          ]
        },
        {
          "output_type": "display_data",
          "data": {
            "text/plain": [
              "<graphviz.dot.Digraph at 0x7f31a262af50>"
            ],
            "image/svg+xml": "<?xml version=\"1.0\" encoding=\"UTF-8\" standalone=\"no\"?>\n<!DOCTYPE svg PUBLIC \"-//W3C//DTD SVG 1.1//EN\"\n \"http://www.w3.org/Graphics/SVG/1.1/DTD/svg11.dtd\">\n<!-- Generated by graphviz version 2.40.1 (20161225.0304)\n -->\n<!-- Title: %3 Pages: 1 -->\n<svg width=\"522pt\" height=\"98pt\"\n viewBox=\"0.00 0.00 521.58 98.00\" xmlns=\"http://www.w3.org/2000/svg\" xmlns:xlink=\"http://www.w3.org/1999/xlink\">\n<g id=\"graph0\" class=\"graph\" transform=\"scale(1 1) rotate(0) translate(4 94)\">\n<title>%3</title>\n<polygon fill=\"#ffffff\" stroke=\"transparent\" points=\"-4,4 -4,-94 517.5752,-94 517.5752,4 -4,4\"/>\n<!-- t1 -->\n<g id=\"node1\" class=\"node\">\n<title>t1</title>\n<ellipse fill=\"none\" stroke=\"#000000\" cx=\"76.7876\" cy=\"-18\" rx=\"76.5758\" ry=\"18\"/>\n<text text-anchor=\"middle\" x=\"76.7876\" y=\"-15.8\" font-family=\"Times,serif\" font-size=\"9.00\" fill=\"#000000\">COUNTRY.v(name{saint,kitts})</text>\n</g>\n<!-- t2 -->\n<g id=\"node2\" class=\"node\">\n<title>t2</title>\n<ellipse fill=\"none\" stroke=\"#000000\" cx=\"188.7876\" cy=\"-72\" rx=\"39.0211\" ry=\"18\"/>\n<text text-anchor=\"middle\" x=\"188.7876\" y=\"-69.8\" font-family=\"Times,serif\" font-size=\"9.00\" fill=\"#000000\">IS_MEMBER</text>\n</g>\n<!-- t2&#45;&gt;t1 -->\n<g id=\"edge2\" class=\"edge\">\n<title>t2&#45;&gt;t1</title>\n<path fill=\"none\" stroke=\"#000000\" d=\"M161.6755,-58.9281C148.7953,-52.718 133.1075,-45.1543 118.7389,-38.2265\"/>\n<polygon fill=\"#000000\" stroke=\"#000000\" points=\"119.9374,-35.3074 110.4625,-34.2361 117.2013,-40.9823 119.9374,-35.3074\"/>\n</g>\n<!-- t3 -->\n<g id=\"node3\" class=\"node\">\n<title>t3</title>\n<ellipse fill=\"none\" stroke=\"#000000\" cx=\"256.7876\" cy=\"-18\" rx=\"89.4786\" ry=\"18\"/>\n<text text-anchor=\"middle\" x=\"256.7876\" y=\"-15.8\" font-family=\"Times,serif\" font-size=\"9.00\" fill=\"#000000\">ORGANIZATION.s(*{organization})</text>\n</g>\n<!-- t2&#45;&gt;t3 -->\n<g id=\"edge1\" class=\"edge\">\n<title>t2&#45;&gt;t3</title>\n<path fill=\"none\" stroke=\"#000000\" d=\"M208.456,-56.381C214.3201,-51.7242 220.8803,-46.5146 227.2303,-41.472\"/>\n<polygon fill=\"#000000\" stroke=\"#000000\" points=\"229.4445,-43.7361 234.5336,-35.6723 225.5266,-38.8024 229.4445,-43.7361\"/>\n</g>\n<!-- t4 -->\n<g id=\"node4\" class=\"node\">\n<title>t4</title>\n<ellipse fill=\"none\" stroke=\"#000000\" cx=\"324.7876\" cy=\"-72\" rx=\"39.0211\" ry=\"18\"/>\n<text text-anchor=\"middle\" x=\"324.7876\" y=\"-69.8\" font-family=\"Times,serif\" font-size=\"9.00\" fill=\"#000000\">IS_MEMBER</text>\n</g>\n<!-- t4&#45;&gt;t3 -->\n<g id=\"edge3\" class=\"edge\">\n<title>t4&#45;&gt;t3</title>\n<path fill=\"none\" stroke=\"#000000\" d=\"M305.1192,-56.381C299.2551,-51.7242 292.6948,-46.5146 286.3449,-41.472\"/>\n<polygon fill=\"#000000\" stroke=\"#000000\" points=\"288.0485,-38.8024 279.0416,-35.6723 284.1306,-43.7361 288.0485,-38.8024\"/>\n</g>\n<!-- t5 -->\n<g id=\"node5\" class=\"node\">\n<title>t5</title>\n<ellipse fill=\"none\" stroke=\"#000000\" cx=\"436.7876\" cy=\"-18\" rx=\"76.5758\" ry=\"18\"/>\n<text text-anchor=\"middle\" x=\"436.7876\" y=\"-15.8\" font-family=\"Times,serif\" font-size=\"9.00\" fill=\"#000000\">COUNTRY.v(name{cambodia})</text>\n</g>\n<!-- t4&#45;&gt;t5 -->\n<g id=\"edge4\" class=\"edge\">\n<title>t4&#45;&gt;t5</title>\n<path fill=\"none\" stroke=\"#000000\" d=\"M351.8997,-58.9281C364.7798,-52.718 380.4677,-45.1543 394.8363,-38.2265\"/>\n<polygon fill=\"#000000\" stroke=\"#000000\" points=\"396.3739,-40.9823 403.1127,-34.2361 393.6377,-35.3074 396.3739,-40.9823\"/>\n</g>\n</g>\n</svg>\n"
          },
          "metadata": {}
        },
        {
          "output_type": "display_data",
          "data": {
            "text/plain": [
              "<IPython.core.display.Markdown object>"
            ],
            "text/markdown": "---"
          },
          "metadata": {}
        },
        {
          "output_type": "stream",
          "name": "stdout",
          "text": [
            "JNTs:\n"
          ]
        },
        {
          "output_type": "display_data",
          "data": {
            "text/plain": [
              "       name                   name abbreviation  \\\n",
              "0  Cambodia  Saint Kitts and Nevis          FAO   \n",
              "1  Cambodia  Saint Kitts and Nevis         G-77   \n",
              "2  Cambodia  Saint Kitts and Nevis         IBRD   \n",
              "3  Cambodia  Saint Kitts and Nevis     Interpol   \n",
              "4  Cambodia  Saint Kitts and Nevis          IDA   \n",
              "\n",
              "                                                name        city country  \\\n",
              "0                  Food and Agriculture Organization        Rome       I   \n",
              "1                                        Group of 77        None    None   \n",
              "2  International Bank for Reconstruction and Deve...  Washington     USA   \n",
              "3         International Criminal Police Organization        Lyon       F   \n",
              "4              International Development Association  Washington     USA   \n",
              "\n",
              "          province established  __search_id  \n",
              "0            Lazio  1945-10-16        14707  \n",
              "1             None  1967-10-01        14723  \n",
              "2  Distr. Columbia  1944-07-22        14728  \n",
              "3      Rhone Alpes  1956-06-13        14734  \n",
              "4  Distr. Columbia  1960-01-26        14735  "
            ],
            "text/html": [
              "\n",
              "  <div id=\"df-f93a972a-5491-4964-b26d-ce1c5f443191\">\n",
              "    <div class=\"colab-df-container\">\n",
              "      <div>\n",
              "<style scoped>\n",
              "    .dataframe tbody tr th:only-of-type {\n",
              "        vertical-align: middle;\n",
              "    }\n",
              "\n",
              "    .dataframe tbody tr th {\n",
              "        vertical-align: top;\n",
              "    }\n",
              "\n",
              "    .dataframe thead th {\n",
              "        text-align: right;\n",
              "    }\n",
              "</style>\n",
              "<table border=\"1\" class=\"dataframe\">\n",
              "  <thead>\n",
              "    <tr style=\"text-align: right;\">\n",
              "      <th></th>\n",
              "      <th>name</th>\n",
              "      <th>name</th>\n",
              "      <th>abbreviation</th>\n",
              "      <th>name</th>\n",
              "      <th>city</th>\n",
              "      <th>country</th>\n",
              "      <th>province</th>\n",
              "      <th>established</th>\n",
              "      <th>__search_id</th>\n",
              "    </tr>\n",
              "  </thead>\n",
              "  <tbody>\n",
              "    <tr>\n",
              "      <th>0</th>\n",
              "      <td>Cambodia</td>\n",
              "      <td>Saint Kitts and Nevis</td>\n",
              "      <td>FAO</td>\n",
              "      <td>Food and Agriculture Organization</td>\n",
              "      <td>Rome</td>\n",
              "      <td>I</td>\n",
              "      <td>Lazio</td>\n",
              "      <td>1945-10-16</td>\n",
              "      <td>14707</td>\n",
              "    </tr>\n",
              "    <tr>\n",
              "      <th>1</th>\n",
              "      <td>Cambodia</td>\n",
              "      <td>Saint Kitts and Nevis</td>\n",
              "      <td>G-77</td>\n",
              "      <td>Group of 77</td>\n",
              "      <td>None</td>\n",
              "      <td>None</td>\n",
              "      <td>None</td>\n",
              "      <td>1967-10-01</td>\n",
              "      <td>14723</td>\n",
              "    </tr>\n",
              "    <tr>\n",
              "      <th>2</th>\n",
              "      <td>Cambodia</td>\n",
              "      <td>Saint Kitts and Nevis</td>\n",
              "      <td>IBRD</td>\n",
              "      <td>International Bank for Reconstruction and Deve...</td>\n",
              "      <td>Washington</td>\n",
              "      <td>USA</td>\n",
              "      <td>Distr. Columbia</td>\n",
              "      <td>1944-07-22</td>\n",
              "      <td>14728</td>\n",
              "    </tr>\n",
              "    <tr>\n",
              "      <th>3</th>\n",
              "      <td>Cambodia</td>\n",
              "      <td>Saint Kitts and Nevis</td>\n",
              "      <td>Interpol</td>\n",
              "      <td>International Criminal Police Organization</td>\n",
              "      <td>Lyon</td>\n",
              "      <td>F</td>\n",
              "      <td>Rhone Alpes</td>\n",
              "      <td>1956-06-13</td>\n",
              "      <td>14734</td>\n",
              "    </tr>\n",
              "    <tr>\n",
              "      <th>4</th>\n",
              "      <td>Cambodia</td>\n",
              "      <td>Saint Kitts and Nevis</td>\n",
              "      <td>IDA</td>\n",
              "      <td>International Development Association</td>\n",
              "      <td>Washington</td>\n",
              "      <td>USA</td>\n",
              "      <td>Distr. Columbia</td>\n",
              "      <td>1960-01-26</td>\n",
              "      <td>14735</td>\n",
              "    </tr>\n",
              "  </tbody>\n",
              "</table>\n",
              "</div>\n",
              "      <button class=\"colab-df-convert\" onclick=\"convertToInteractive('df-f93a972a-5491-4964-b26d-ce1c5f443191')\"\n",
              "              title=\"Convert this dataframe to an interactive table.\"\n",
              "              style=\"display:none;\">\n",
              "        \n",
              "  <svg xmlns=\"http://www.w3.org/2000/svg\" height=\"24px\"viewBox=\"0 0 24 24\"\n",
              "       width=\"24px\">\n",
              "    <path d=\"M0 0h24v24H0V0z\" fill=\"none\"/>\n",
              "    <path d=\"M18.56 5.44l.94 2.06.94-2.06 2.06-.94-2.06-.94-.94-2.06-.94 2.06-2.06.94zm-11 1L8.5 8.5l.94-2.06 2.06-.94-2.06-.94L8.5 2.5l-.94 2.06-2.06.94zm10 10l.94 2.06.94-2.06 2.06-.94-2.06-.94-.94-2.06-.94 2.06-2.06.94z\"/><path d=\"M17.41 7.96l-1.37-1.37c-.4-.4-.92-.59-1.43-.59-.52 0-1.04.2-1.43.59L10.3 9.45l-7.72 7.72c-.78.78-.78 2.05 0 2.83L4 21.41c.39.39.9.59 1.41.59.51 0 1.02-.2 1.41-.59l7.78-7.78 2.81-2.81c.8-.78.8-2.07 0-2.86zM5.41 20L4 18.59l7.72-7.72 1.47 1.35L5.41 20z\"/>\n",
              "  </svg>\n",
              "      </button>\n",
              "      \n",
              "  <style>\n",
              "    .colab-df-container {\n",
              "      display:flex;\n",
              "      flex-wrap:wrap;\n",
              "      gap: 12px;\n",
              "    }\n",
              "\n",
              "    .colab-df-convert {\n",
              "      background-color: #E8F0FE;\n",
              "      border: none;\n",
              "      border-radius: 50%;\n",
              "      cursor: pointer;\n",
              "      display: none;\n",
              "      fill: #1967D2;\n",
              "      height: 32px;\n",
              "      padding: 0 0 0 0;\n",
              "      width: 32px;\n",
              "    }\n",
              "\n",
              "    .colab-df-convert:hover {\n",
              "      background-color: #E2EBFA;\n",
              "      box-shadow: 0px 1px 2px rgba(60, 64, 67, 0.3), 0px 1px 3px 1px rgba(60, 64, 67, 0.15);\n",
              "      fill: #174EA6;\n",
              "    }\n",
              "\n",
              "    [theme=dark] .colab-df-convert {\n",
              "      background-color: #3B4455;\n",
              "      fill: #D2E3FC;\n",
              "    }\n",
              "\n",
              "    [theme=dark] .colab-df-convert:hover {\n",
              "      background-color: #434B5C;\n",
              "      box-shadow: 0px 1px 3px 1px rgba(0, 0, 0, 0.15);\n",
              "      filter: drop-shadow(0px 1px 2px rgba(0, 0, 0, 0.3));\n",
              "      fill: #FFFFFF;\n",
              "    }\n",
              "  </style>\n",
              "\n",
              "      <script>\n",
              "        const buttonEl =\n",
              "          document.querySelector('#df-f93a972a-5491-4964-b26d-ce1c5f443191 button.colab-df-convert');\n",
              "        buttonEl.style.display =\n",
              "          google.colab.kernel.accessAllowed ? 'block' : 'none';\n",
              "\n",
              "        async function convertToInteractive(key) {\n",
              "          const element = document.querySelector('#df-f93a972a-5491-4964-b26d-ce1c5f443191');\n",
              "          const dataTable =\n",
              "            await google.colab.kernel.invokeFunction('convertToInteractive',\n",
              "                                                     [key], {});\n",
              "          if (!dataTable) return;\n",
              "\n",
              "          const docLinkHtml = 'Like what you see? Visit the ' +\n",
              "            '<a target=\"_blank\" href=https://colab.research.google.com/notebooks/data_table.ipynb>data table notebook</a>'\n",
              "            + ' to learn more about interactive tables.';\n",
              "          element.innerHTML = '';\n",
              "          dataTable['output_type'] = 'display_data';\n",
              "          await google.colab.output.renderOutput(dataTable, element);\n",
              "          const docLink = document.createElement('div');\n",
              "          docLink.innerHTML = docLinkHtml;\n",
              "          element.appendChild(docLink);\n",
              "        }\n",
              "      </script>\n",
              "    </div>\n",
              "  </div>\n",
              "  "
            ],
            "application/vnd.google.colaboratory.module+javascript": "\n      import \"https://ssl.gstatic.com/colaboratory/data_table/f872b2c2305463fd/data_table.js\";\n\n      window.createDataTable({\n        data: [[{\n            'v': 0,\n            'f': \"0\",\n        },\n\"Cambodia\",\n\"Saint Kitts and Nevis\",\n\"FAO\",\n\"Food and Agriculture Organization\",\n\"Rome\",\n\"I\",\n\"Lazio\",\n\"1945-10-16\",\n{\n            'v': 14707,\n            'f': \"14707\",\n        }],\n [{\n            'v': 1,\n            'f': \"1\",\n        },\n\"Cambodia\",\n\"Saint Kitts and Nevis\",\n\"G-77\",\n\"Group of 77\",\nnull,\nnull,\nnull,\n\"1967-10-01\",\n{\n            'v': 14723,\n            'f': \"14723\",\n        }],\n [{\n            'v': 2,\n            'f': \"2\",\n        },\n\"Cambodia\",\n\"Saint Kitts and Nevis\",\n\"IBRD\",\n\"International Bank for Reconstruction and Development\",\n\"Washington\",\n\"USA\",\n\"Distr. Columbia\",\n\"1944-07-22\",\n{\n            'v': 14728,\n            'f': \"14728\",\n        }],\n [{\n            'v': 3,\n            'f': \"3\",\n        },\n\"Cambodia\",\n\"Saint Kitts and Nevis\",\n\"Interpol\",\n\"International Criminal Police Organization\",\n\"Lyon\",\n\"F\",\n\"Rhone Alpes\",\n\"1956-06-13\",\n{\n            'v': 14734,\n            'f': \"14734\",\n        }],\n [{\n            'v': 4,\n            'f': \"4\",\n        },\n\"Cambodia\",\n\"Saint Kitts and Nevis\",\n\"IDA\",\n\"International Development Association\",\n\"Washington\",\n\"USA\",\n\"Distr. Columbia\",\n\"1960-01-26\",\n{\n            'v': 14735,\n            'f': \"14735\",\n        }]],\n        columns: [[\"number\", \"index\"], [\"string\", \"name\"], [\"string\", \"name\"], [\"string\", \"abbreviation\"], [\"string\", \"name\"], [\"string\", \"city\"], [\"string\", \"country\"], [\"string\", \"province\"], [\"string\", \"established\"], [\"number\", \"__search_id\"]],\n        columnOptions: [{\"width\": \"1px\", \"className\": \"index_column\"}],\n        rowsPerPage: 25,\n        helpUrl: \"https://colab.research.google.com/notebooks/data_table.ipynb\",\n        suppressOutputScrolling: true,\n        minimumWidth: undefined,\n      });\n    "
          },
          "metadata": {}
        },
        {
          "output_type": "stream",
          "name": "stdout",
          "text": [
            "\n"
          ]
        },
        {
          "output_type": "display_data",
          "data": {
            "text/plain": [
              "<IPython.core.display.Markdown object>"
            ],
            "text/markdown": "---"
          },
          "metadata": {}
        },
        {
          "output_type": "display_data",
          "data": {
            "text/plain": [
              "<IPython.core.display.Markdown object>"
            ],
            "text/markdown": "**2nd CJN**:"
          },
          "metadata": {}
        },
        {
          "output_type": "display_data",
          "data": {
            "text/plain": [
              "<IPython.core.display.Markdown object>"
            ],
            "text/markdown": "---"
          },
          "metadata": {}
        },
        {
          "output_type": "stream",
          "name": "stdout",
          "text": [
            "Graph:\n"
          ]
        },
        {
          "output_type": "display_data",
          "data": {
            "text/plain": [
              "<graphviz.dot.Digraph at 0x7f31a1ae4e10>"
            ],
            "image/svg+xml": "<?xml version=\"1.0\" encoding=\"UTF-8\" standalone=\"no\"?>\n<!DOCTYPE svg PUBLIC \"-//W3C//DTD SVG 1.1//EN\"\n \"http://www.w3.org/Graphics/SVG/1.1/DTD/svg11.dtd\">\n<!-- Generated by graphviz version 2.40.1 (20161225.0304)\n -->\n<!-- Title: %3 Pages: 1 -->\n<svg width=\"540pt\" height=\"98pt\"\n viewBox=\"0.00 0.00 539.58 98.00\" xmlns=\"http://www.w3.org/2000/svg\" xmlns:xlink=\"http://www.w3.org/1999/xlink\">\n<g id=\"graph0\" class=\"graph\" transform=\"scale(1 1) rotate(0) translate(4 94)\">\n<title>%3</title>\n<polygon fill=\"#ffffff\" stroke=\"transparent\" points=\"-4,4 -4,-94 535.5752,-94 535.5752,4 -4,4\"/>\n<!-- t1 -->\n<g id=\"node1\" class=\"node\">\n<title>t1</title>\n<ellipse fill=\"none\" stroke=\"#000000\" cx=\"76.7876\" cy=\"-18\" rx=\"76.5758\" ry=\"18\"/>\n<text text-anchor=\"middle\" x=\"76.7876\" y=\"-15.8\" font-family=\"Times,serif\" font-size=\"9.00\" fill=\"#000000\">COUNTRY.v(name{saint,kitts})</text>\n</g>\n<!-- t2 -->\n<g id=\"node2\" class=\"node\">\n<title>t2</title>\n<ellipse fill=\"none\" stroke=\"#000000\" cx=\"194.7876\" cy=\"-72\" rx=\"39.0211\" ry=\"18\"/>\n<text text-anchor=\"middle\" x=\"194.7876\" y=\"-69.8\" font-family=\"Times,serif\" font-size=\"9.00\" fill=\"#000000\">IS_MEMBER</text>\n</g>\n<!-- t2&#45;&gt;t1 -->\n<g id=\"edge1\" class=\"edge\">\n<title>t2&#45;&gt;t1</title>\n<path fill=\"none\" stroke=\"#000000\" d=\"M166.8232,-59.2028C153.0223,-52.8871 136.0542,-45.122 120.583,-38.042\"/>\n<polygon fill=\"#000000\" stroke=\"#000000\" points=\"121.6661,-35.0735 112.1715,-34.1926 119.0445,-40.8021 121.6661,-35.0735\"/>\n</g>\n<!-- t3 -->\n<g id=\"node3\" class=\"node\">\n<title>t3</title>\n<ellipse fill=\"none\" stroke=\"#000000\" cx=\"265.7876\" cy=\"-18\" rx=\"98.2993\" ry=\"18\"/>\n<text text-anchor=\"middle\" x=\"265.7876\" y=\"-15.8\" font-family=\"Times,serif\" font-size=\"9.00\" fill=\"#000000\">ORGANIZATION.v(name{organization})</text>\n</g>\n<!-- t2&#45;&gt;t3 -->\n<g id=\"edge2\" class=\"edge\">\n<title>t2&#45;&gt;t3</title>\n<path fill=\"none\" stroke=\"#000000\" d=\"M215.3237,-56.381C221.5796,-51.623 228.5944,-46.2878 235.3584,-41.1434\"/>\n<polygon fill=\"#000000\" stroke=\"#000000\" points=\"237.2952,-43.6279 242.5518,-35.6723 233.4814,-38.6134 237.2952,-43.6279\"/>\n</g>\n<!-- t4 -->\n<g id=\"node4\" class=\"node\">\n<title>t4</title>\n<ellipse fill=\"none\" stroke=\"#000000\" cx=\"335.7876\" cy=\"-72\" rx=\"39.0211\" ry=\"18\"/>\n<text text-anchor=\"middle\" x=\"335.7876\" y=\"-69.8\" font-family=\"Times,serif\" font-size=\"9.00\" fill=\"#000000\">IS_MEMBER</text>\n</g>\n<!-- t4&#45;&gt;t3 -->\n<g id=\"edge4\" class=\"edge\">\n<title>t4&#45;&gt;t3</title>\n<path fill=\"none\" stroke=\"#000000\" d=\"M315.5407,-56.381C309.5041,-51.7242 302.7509,-46.5146 296.2142,-41.472\"/>\n<polygon fill=\"#000000\" stroke=\"#000000\" points=\"297.7462,-38.6754 288.6961,-35.6723 293.8981,-43.6637 297.7462,-38.6754\"/>\n</g>\n<!-- t5 -->\n<g id=\"node5\" class=\"node\">\n<title>t5</title>\n<ellipse fill=\"none\" stroke=\"#000000\" cx=\"454.7876\" cy=\"-18\" rx=\"76.5758\" ry=\"18\"/>\n<text text-anchor=\"middle\" x=\"454.7876\" y=\"-15.8\" font-family=\"Times,serif\" font-size=\"9.00\" fill=\"#000000\">COUNTRY.v(name{cambodia})</text>\n</g>\n<!-- t4&#45;&gt;t5 -->\n<g id=\"edge3\" class=\"edge\">\n<title>t4&#45;&gt;t5</title>\n<path fill=\"none\" stroke=\"#000000\" d=\"M363.9889,-59.2028C378.0228,-52.8344 395.3042,-44.9925 411.0108,-37.8651\"/>\n<polygon fill=\"#000000\" stroke=\"#000000\" points=\"412.6501,-40.5804 419.5441,-33.9929 410.0467,-34.8435 412.6501,-40.5804\"/>\n</g>\n</g>\n</svg>\n"
          },
          "metadata": {}
        },
        {
          "output_type": "display_data",
          "data": {
            "text/plain": [
              "<IPython.core.display.Markdown object>"
            ],
            "text/markdown": "---"
          },
          "metadata": {}
        },
        {
          "output_type": "stream",
          "name": "stdout",
          "text": [
            "JNTs:\n"
          ]
        },
        {
          "output_type": "display_data",
          "data": {
            "text/plain": [
              "       name                                               name  \\\n",
              "0  Cambodia                  Food and Agriculture Organization   \n",
              "1  Cambodia         International Criminal Police Organization   \n",
              "2  Cambodia  United Nations Educational, Scientific, and Cu...   \n",
              "3  Cambodia  United Nations Industrial Development Organiza...   \n",
              "4  Cambodia                          World Health Organization   \n",
              "\n",
              "                    name  \n",
              "0  Saint Kitts and Nevis  \n",
              "1  Saint Kitts and Nevis  \n",
              "2  Saint Kitts and Nevis  \n",
              "3  Saint Kitts and Nevis  \n",
              "4  Saint Kitts and Nevis  "
            ],
            "text/html": [
              "\n",
              "  <div id=\"df-46db7217-f3b2-4833-9027-291df3e17a9a\">\n",
              "    <div class=\"colab-df-container\">\n",
              "      <div>\n",
              "<style scoped>\n",
              "    .dataframe tbody tr th:only-of-type {\n",
              "        vertical-align: middle;\n",
              "    }\n",
              "\n",
              "    .dataframe tbody tr th {\n",
              "        vertical-align: top;\n",
              "    }\n",
              "\n",
              "    .dataframe thead th {\n",
              "        text-align: right;\n",
              "    }\n",
              "</style>\n",
              "<table border=\"1\" class=\"dataframe\">\n",
              "  <thead>\n",
              "    <tr style=\"text-align: right;\">\n",
              "      <th></th>\n",
              "      <th>name</th>\n",
              "      <th>name</th>\n",
              "      <th>name</th>\n",
              "    </tr>\n",
              "  </thead>\n",
              "  <tbody>\n",
              "    <tr>\n",
              "      <th>0</th>\n",
              "      <td>Cambodia</td>\n",
              "      <td>Food and Agriculture Organization</td>\n",
              "      <td>Saint Kitts and Nevis</td>\n",
              "    </tr>\n",
              "    <tr>\n",
              "      <th>1</th>\n",
              "      <td>Cambodia</td>\n",
              "      <td>International Criminal Police Organization</td>\n",
              "      <td>Saint Kitts and Nevis</td>\n",
              "    </tr>\n",
              "    <tr>\n",
              "      <th>2</th>\n",
              "      <td>Cambodia</td>\n",
              "      <td>United Nations Educational, Scientific, and Cu...</td>\n",
              "      <td>Saint Kitts and Nevis</td>\n",
              "    </tr>\n",
              "    <tr>\n",
              "      <th>3</th>\n",
              "      <td>Cambodia</td>\n",
              "      <td>United Nations Industrial Development Organiza...</td>\n",
              "      <td>Saint Kitts and Nevis</td>\n",
              "    </tr>\n",
              "    <tr>\n",
              "      <th>4</th>\n",
              "      <td>Cambodia</td>\n",
              "      <td>World Health Organization</td>\n",
              "      <td>Saint Kitts and Nevis</td>\n",
              "    </tr>\n",
              "  </tbody>\n",
              "</table>\n",
              "</div>\n",
              "      <button class=\"colab-df-convert\" onclick=\"convertToInteractive('df-46db7217-f3b2-4833-9027-291df3e17a9a')\"\n",
              "              title=\"Convert this dataframe to an interactive table.\"\n",
              "              style=\"display:none;\">\n",
              "        \n",
              "  <svg xmlns=\"http://www.w3.org/2000/svg\" height=\"24px\"viewBox=\"0 0 24 24\"\n",
              "       width=\"24px\">\n",
              "    <path d=\"M0 0h24v24H0V0z\" fill=\"none\"/>\n",
              "    <path d=\"M18.56 5.44l.94 2.06.94-2.06 2.06-.94-2.06-.94-.94-2.06-.94 2.06-2.06.94zm-11 1L8.5 8.5l.94-2.06 2.06-.94-2.06-.94L8.5 2.5l-.94 2.06-2.06.94zm10 10l.94 2.06.94-2.06 2.06-.94-2.06-.94-.94-2.06-.94 2.06-2.06.94z\"/><path d=\"M17.41 7.96l-1.37-1.37c-.4-.4-.92-.59-1.43-.59-.52 0-1.04.2-1.43.59L10.3 9.45l-7.72 7.72c-.78.78-.78 2.05 0 2.83L4 21.41c.39.39.9.59 1.41.59.51 0 1.02-.2 1.41-.59l7.78-7.78 2.81-2.81c.8-.78.8-2.07 0-2.86zM5.41 20L4 18.59l7.72-7.72 1.47 1.35L5.41 20z\"/>\n",
              "  </svg>\n",
              "      </button>\n",
              "      \n",
              "  <style>\n",
              "    .colab-df-container {\n",
              "      display:flex;\n",
              "      flex-wrap:wrap;\n",
              "      gap: 12px;\n",
              "    }\n",
              "\n",
              "    .colab-df-convert {\n",
              "      background-color: #E8F0FE;\n",
              "      border: none;\n",
              "      border-radius: 50%;\n",
              "      cursor: pointer;\n",
              "      display: none;\n",
              "      fill: #1967D2;\n",
              "      height: 32px;\n",
              "      padding: 0 0 0 0;\n",
              "      width: 32px;\n",
              "    }\n",
              "\n",
              "    .colab-df-convert:hover {\n",
              "      background-color: #E2EBFA;\n",
              "      box-shadow: 0px 1px 2px rgba(60, 64, 67, 0.3), 0px 1px 3px 1px rgba(60, 64, 67, 0.15);\n",
              "      fill: #174EA6;\n",
              "    }\n",
              "\n",
              "    [theme=dark] .colab-df-convert {\n",
              "      background-color: #3B4455;\n",
              "      fill: #D2E3FC;\n",
              "    }\n",
              "\n",
              "    [theme=dark] .colab-df-convert:hover {\n",
              "      background-color: #434B5C;\n",
              "      box-shadow: 0px 1px 3px 1px rgba(0, 0, 0, 0.15);\n",
              "      filter: drop-shadow(0px 1px 2px rgba(0, 0, 0, 0.3));\n",
              "      fill: #FFFFFF;\n",
              "    }\n",
              "  </style>\n",
              "\n",
              "      <script>\n",
              "        const buttonEl =\n",
              "          document.querySelector('#df-46db7217-f3b2-4833-9027-291df3e17a9a button.colab-df-convert');\n",
              "        buttonEl.style.display =\n",
              "          google.colab.kernel.accessAllowed ? 'block' : 'none';\n",
              "\n",
              "        async function convertToInteractive(key) {\n",
              "          const element = document.querySelector('#df-46db7217-f3b2-4833-9027-291df3e17a9a');\n",
              "          const dataTable =\n",
              "            await google.colab.kernel.invokeFunction('convertToInteractive',\n",
              "                                                     [key], {});\n",
              "          if (!dataTable) return;\n",
              "\n",
              "          const docLinkHtml = 'Like what you see? Visit the ' +\n",
              "            '<a target=\"_blank\" href=https://colab.research.google.com/notebooks/data_table.ipynb>data table notebook</a>'\n",
              "            + ' to learn more about interactive tables.';\n",
              "          element.innerHTML = '';\n",
              "          dataTable['output_type'] = 'display_data';\n",
              "          await google.colab.output.renderOutput(dataTable, element);\n",
              "          const docLink = document.createElement('div');\n",
              "          docLink.innerHTML = docLinkHtml;\n",
              "          element.appendChild(docLink);\n",
              "        }\n",
              "      </script>\n",
              "    </div>\n",
              "  </div>\n",
              "  "
            ],
            "application/vnd.google.colaboratory.module+javascript": "\n      import \"https://ssl.gstatic.com/colaboratory/data_table/f872b2c2305463fd/data_table.js\";\n\n      window.createDataTable({\n        data: [[{\n            'v': 0,\n            'f': \"0\",\n        },\n\"Cambodia\",\n\"Food and Agriculture Organization\",\n\"Saint Kitts and Nevis\"],\n [{\n            'v': 1,\n            'f': \"1\",\n        },\n\"Cambodia\",\n\"International Criminal Police Organization\",\n\"Saint Kitts and Nevis\"],\n [{\n            'v': 2,\n            'f': \"2\",\n        },\n\"Cambodia\",\n\"United Nations Educational, Scientific, and Cultural Organization\",\n\"Saint Kitts and Nevis\"],\n [{\n            'v': 3,\n            'f': \"3\",\n        },\n\"Cambodia\",\n\"United Nations Industrial Development Organization\",\n\"Saint Kitts and Nevis\"],\n [{\n            'v': 4,\n            'f': \"4\",\n        },\n\"Cambodia\",\n\"World Health Organization\",\n\"Saint Kitts and Nevis\"]],\n        columns: [[\"number\", \"index\"], [\"string\", \"name\"], [\"string\", \"name\"], [\"string\", \"name\"]],\n        columnOptions: [{\"width\": \"1px\", \"className\": \"index_column\"}],\n        rowsPerPage: 25,\n        helpUrl: \"https://colab.research.google.com/notebooks/data_table.ipynb\",\n        suppressOutputScrolling: true,\n        minimumWidth: undefined,\n      });\n    "
          },
          "metadata": {}
        },
        {
          "output_type": "stream",
          "name": "stdout",
          "text": [
            "\n"
          ]
        }
      ]
    },
    {
      "cell_type": "markdown",
      "source": [
        "## Contact Info\n",
        "\n",
        "If you have any questions, please contact us.\n",
        "\n",
        "**Github repository**: https://github.com/pr3martins/PyLatheDB\n",
        "\n",
        "**E-mail**: paulo.martins@icomp.ufam.edu.br\n"
      ],
      "metadata": {
        "id": "iRk_DygLW2r2"
      }
    }
  ]
}