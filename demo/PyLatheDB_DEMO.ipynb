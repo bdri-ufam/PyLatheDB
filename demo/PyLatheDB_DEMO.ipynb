{
  "nbformat": 4,
  "nbformat_minor": 0,
  "metadata": {
    "colab": {
      "name": "PyLatheDB-DEMO.ipynb",
      "provenance": [],
      "collapsed_sections": [
        "9BCs4NWfWhV3",
        "85Bru8qN6lpE"
      ],
      "include_colab_link": true
    },
    "kernelspec": {
      "name": "python3",
      "display_name": "Python 3"
    },
    "language_info": {
      "name": "python"
    }
  },
  "cells": [
    {
      "cell_type": "markdown",
      "metadata": {
        "id": "view-in-github",
        "colab_type": "text"
      },
      "source": [
        "<a href=\"https://colab.research.google.com/github/pr3martins/PyLatheDB/blob/main/demo/PyLatheDB_DEMO.ipynb\" target=\"_parent\"><img src=\"https://colab.research.google.com/assets/colab-badge.svg\" alt=\"Open In Colab\"/></a>"
      ]
    },
    {
      "cell_type": "markdown",
      "source": [
        "# PyLatheDB - A Library for Relational Keyword Search with Support to Schema References\n",
        "---\n",
        "\n",
        "PyLatheDB is based on Lathe, an R-KwS framework that generalizes the well-known concepts of Query Matches (QMs) and Candidate Joining Networks (CJNs) to handle keywords referring to schema elements and introduces new algorithms to generate them, along with a novel approach to automatically select the CJNs that are more likely to represent the user intent when issuing a keyword query.\n",
        "\n",
        "We recommend running this Python Notebook using [Google Colab](https://colab.research.google.com/github/pr3martins/PyLatheDB/blob/main/demo/PyLatheDB_DEMO.ipynb). But its static version is also available in our [GitHub Repository](https://github.com/pr3martins/PyLatheDB/blob/main/demo/PyLatheDB_DEMO.ipynb)."
      ],
      "metadata": {
        "id": "-Avnlu5jzbyD"
      }
    },
    {
      "cell_type": "markdown",
      "source": [
        "## Environment Preparation\n",
        "\n",
        "Initially, before the demonstration, it is necessary to  run an environment preparation step, which includes the installation of the RDBMS; the downloading of some configuration files and scripts; and the installation of the **PyLatheDB** library and its dependencies."
      ],
      "metadata": {
        "id": "9BCs4NWfWhV3"
      }
    },
    {
      "cell_type": "markdown",
      "source": [
        "### Download of the configuration Files\n",
        "\n",
        "The configuration files comprise information about the datasets and query sets used. They are automatically downloaded, but they can also be found [here](https://drive.google.com/drive/folders/1Xz3mPN0NC7xdIETKZlFDTcqcU6lsVUYD?usp=sharing)."
      ],
      "metadata": {
        "id": "BT1FWFwB-Eg9"
      }
    },
    {
      "cell_type": "code",
      "source": [
        "!gdown --id 1KTRL-RhKgnzENlwcGHZ7zkvT4fVsQ1D7\n",
        "!unzip PyLatheDB_DEMO_resources.zip\n",
        "import nltk\n",
        "nltk.download('wordnet')\n",
        "nltk.download('stopwords')\n",
        "nltk.download('omw-1.4')"
      ],
      "metadata": {
        "id": "zv1qHUj_W8fm",
        "outputId": "6d36b436-7798-4a8a-eca8-be372cdcb8b3",
        "colab": {
          "base_uri": "https://localhost:8080/"
        }
      },
      "execution_count": null,
      "outputs": [
        {
          "output_type": "stream",
          "name": "stdout",
          "text": [
            "/usr/local/lib/python3.7/dist-packages/gdown/cli.py:131: FutureWarning: Option `--id` was deprecated in version 4.3.1 and will be removed in 5.0. You don't need to pass it anymore to use a file ID.\n",
            "  category=FutureWarning,\n",
            "Downloading...\n",
            "From: https://drive.google.com/uc?id=1KTRL-RhKgnzENlwcGHZ7zkvT4fVsQ1D7\n",
            "To: /content/PyLatheDB_DEMO_resources.zip\n",
            "100% 92.1M/92.1M [00:00<00:00, 98.9MB/s]\n",
            "Archive:  PyLatheDB_DEMO_resources.zip\n",
            "   creating: config/\n",
            "  inflating: config/config.json      \n",
            "   creating: config/dataset_configs/\n",
            "  inflating: config/dataset_configs/mondial.json  \n",
            "   creating: config/dataset_configs/attributes/\n",
            "  inflating: config/dataset_configs/attributes/imdb_filtered_attributes.json  \n",
            "  inflating: config/dataset_configs/attributes/mondial_all_attributes.json  \n",
            "  inflating: config/dataset_configs/attributes/mondial_filtered_attributes.json  \n",
            "  inflating: config/dataset_configs/attributes/imdb_all_attributes.json  \n",
            "  inflating: config/dataset_configs/imdb.json  \n",
            "   creating: config/queryset_configs/\n",
            "  inflating: config/queryset_configs/coffman_imdb_config.json  \n",
            "  inflating: config/queryset_configs/coffman_mondial_config.json  \n",
            "   creating: datasets/\n",
            "   creating: datasets/imdb/\n",
            "  inflating: datasets/imdb/imdb_schema_index_file.shelve.db  \n",
            "  inflating: datasets/imdb/imdb_value_index_file.shelve.db  \n",
            "  inflating: datasets/imdb/imdb_schema_graph_file.pickle  \n",
            "   creating: datasets/mondial/\n",
            "  inflating: datasets/mondial/mondial_value_index_file.shelve.db  \n",
            "  inflating: datasets/mondial/mondial_schema_graph_file.pickle  \n",
            "  inflating: datasets/mondial/mondial_schema_index_file.shelve.db  \n",
            "   creating: dbsources/\n",
            "  inflating: dbsources/imdb-rename-tables.psql  \n",
            "  inflating: dbsources/mondial-schema_part2.pgsql  \n",
            "  inflating: dbsources/mondial-field_fulltext_index.psql  \n",
            "  inflating: dbsources/imdb-schema.pgsql  \n",
            "  inflating: dbsources/pylathedb.stop  \n",
            "  inflating: dbsources/imdb-data.pgsql  \n",
            "  inflating: dbsources/mondial-schema_part1.pgsql  \n",
            "  inflating: dbsources/mondial-data.pgsql  \n",
            "  inflating: dbsources/imdb-fulltext_index.psql  \n",
            "   creating: querysets/\n",
            "  inflating: querysets/coffman_imdb.json  \n",
            "  inflating: querysets/coffman_mondial.json  \n"
          ]
        },
        {
          "output_type": "stream",
          "name": "stderr",
          "text": [
            "[nltk_data] Downloading package wordnet to /root/nltk_data...\n",
            "[nltk_data]   Unzipping corpora/wordnet.zip.\n",
            "[nltk_data] Downloading package stopwords to /root/nltk_data...\n",
            "[nltk_data]   Unzipping corpora/stopwords.zip.\n",
            "[nltk_data] Downloading package omw-1.4 to /root/nltk_data...\n",
            "[nltk_data]   Unzipping corpora/omw-1.4.zip.\n"
          ]
        },
        {
          "output_type": "execute_result",
          "data": {
            "text/plain": [
              "True"
            ]
          },
          "metadata": {},
          "execution_count": 1
        }
      ]
    },
    {
      "cell_type": "markdown",
      "source": [
        "### Installation of the PostgreSQL"
      ],
      "metadata": {
        "id": "b3oWxUnl-Xyq"
      }
    },
    {
      "cell_type": "code",
      "source": [
        "# Install postgresql server\n",
        "!sudo apt-get -y -qq update\n",
        "!sudo apt-get -y -qq install postgresql postgresql-contrib &>log\n",
        "!sudo service postgresql start\n",
        "\n",
        "# Setup a password `postgres` for username `postgres`\n",
        "!sudo -u postgres psql -U postgres -c \"ALTER USER postgres PASSWORD 'postgres';\"\n",
        "\n",
        "!cp dbsources/pylathedb.stop /usr/share/postgresql/10/tsearch_data/english.stop"
      ],
      "metadata": {
        "id": "PEeEHxMsQVBs",
        "outputId": "c6f597f9-fa24-4221-cd73-c8b63a652311",
        "colab": {
          "base_uri": "https://localhost:8080/"
        }
      },
      "execution_count": null,
      "outputs": [
        {
          "output_type": "stream",
          "name": "stdout",
          "text": [
            " * Starting PostgreSQL 10 database server\n",
            "   ...done.\n",
            "ALTER ROLE\n"
          ]
        }
      ]
    },
    {
      "cell_type": "markdown",
      "source": [
        "### Scripts for the Databases Creation"
      ],
      "metadata": {
        "id": "s89ffyvY-mTG"
      }
    },
    {
      "cell_type": "code",
      "source": [
        "!sudo -u postgres dropdb imdb &>>log\n",
        "!sudo -u postgres createdb imdb &>>log\n",
        "!sudo -u postgres psql -U postgres imdb <  dbsources/imdb-schema.pgsql &>>log\n",
        "!sudo -u postgres psql -U postgres imdb <  dbsources/imdb-data.pgsql &>>log\n",
        "!sudo -u postgres psql -U postgres imdb <  dbsources/imdb-fulltext_index.psql &>>log\n",
        "!sudo -u postgres psql -U postgres imdb < dbsources/imdb-rename-tables.psql &>>log\n",
        "\n",
        "!sudo -u postgres dropdb mondial &>>log\n",
        "!sudo -u postgres createdb mondial &>>log\n",
        "!sudo -u postgres psql -U postgres mondial <  dbsources/mondial-schema_part1.pgsql &>>log\n",
        "!sudo -u postgres psql -U postgres mondial <  dbsources/mondial-data.pgsql &>>log\n",
        "!sudo -u postgres psql -U postgres mondial <  dbsources/mondial-schema_part2.pgsql &>>log\n",
        "!sudo -u postgres psql -U postgres mondial <  dbsources/mondial-field_fulltext_index.psql &>>log"
      ],
      "metadata": {
        "id": "_6HoX6TgfnzA"
      },
      "execution_count": null,
      "outputs": []
    },
    {
      "cell_type": "markdown",
      "source": [
        "### Enable DataTable Formating from Google Colab"
      ],
      "metadata": {
        "id": "p3mkA7nj_Gty"
      }
    },
    {
      "cell_type": "code",
      "source": [
        "from google.colab import data_table\n",
        "data_table.enable_dataframe_formatter()"
      ],
      "metadata": {
        "id": "DHjj3QY10b--"
      },
      "execution_count": null,
      "outputs": []
    },
    {
      "cell_type": "markdown",
      "source": [
        "### Installation of the PyLathe library available [here](https://pypi.org/project/pylathedb/)"
      ],
      "metadata": {
        "id": "z0CYsna9-2lY"
      }
    },
    {
      "cell_type": "code",
      "source": [
        "# !pip install pylathedb==1.0.3 -U\n",
        "\n",
        "!pip install -i https://test.pypi.org/simple/ pylathedb -U"
      ],
      "metadata": {
        "id": "TE76LA_p0FQ8",
        "outputId": "1ad27da7-8f8e-4632-a44c-9bc19537dc04",
        "colab": {
          "base_uri": "https://localhost:8080/"
        }
      },
      "execution_count": null,
      "outputs": [
        {
          "output_type": "stream",
          "name": "stdout",
          "text": [
            "Looking in indexes: https://test.pypi.org/simple/, https://us-python.pkg.dev/colab-wheels/public/simple/\n",
            "Collecting pylathedb\n",
            "  Downloading https://test-files.pythonhosted.org/packages/eb/f6/06247e5dcf83237fb6d2fa5c1efbb95088282dbac4e9ae8805982d1abb7a/pylathedb-0.0.4.dev30-py3-none-any.whl (51 kB)\n",
            "\u001b[K     |████████████████████████████████| 51 kB 638 kB/s \n",
            "\u001b[?25hRequirement already satisfied: matplotlib in /usr/local/lib/python3.7/dist-packages (from pylathedb) (3.2.2)\n",
            "Requirement already satisfied: pandas in /usr/local/lib/python3.7/dist-packages (from pylathedb) (1.3.5)\n",
            "Collecting psycopg2-binary\n",
            "  Downloading https://test-files.pythonhosted.org/packages/04/c3/fbf0ec416151ce082087bfbb42f236ec42c2c74d2d9f7a5b5cdf49cfc517/psycopg2_binary-2.7.7-cp37-cp37m-manylinux1_x86_64.whl (2.7 MB)\n",
            "\u001b[K     |████████████████████████████████| 2.7 MB 6.0 MB/s \n",
            "\u001b[?25hRequirement already satisfied: graphviz in /usr/local/lib/python3.7/dist-packages (from pylathedb) (0.10.1)\n",
            "Requirement already satisfied: nltk in /usr/local/lib/python3.7/dist-packages (from pylathedb) (3.7)\n",
            "Requirement already satisfied: psutil in /usr/local/lib/python3.7/dist-packages (from pylathedb) (5.4.8)\n",
            "Requirement already satisfied: prettytable in /usr/local/lib/python3.7/dist-packages (from pylathedb) (3.3.0)\n",
            "Requirement already satisfied: cycler>=0.10 in /usr/local/lib/python3.7/dist-packages (from matplotlib->pylathedb) (0.11.0)\n",
            "Requirement already satisfied: pyparsing!=2.0.4,!=2.1.2,!=2.1.6,>=2.0.1 in /usr/local/lib/python3.7/dist-packages (from matplotlib->pylathedb) (3.0.9)\n",
            "Requirement already satisfied: kiwisolver>=1.0.1 in /usr/local/lib/python3.7/dist-packages (from matplotlib->pylathedb) (1.4.2)\n",
            "Requirement already satisfied: python-dateutil>=2.1 in /usr/local/lib/python3.7/dist-packages (from matplotlib->pylathedb) (2.8.2)\n",
            "Requirement already satisfied: numpy>=1.11 in /usr/local/lib/python3.7/dist-packages (from matplotlib->pylathedb) (1.21.6)\n",
            "Requirement already satisfied: typing-extensions in /usr/local/lib/python3.7/dist-packages (from kiwisolver>=1.0.1->matplotlib->pylathedb) (4.2.0)\n",
            "Requirement already satisfied: six>=1.5 in /usr/local/lib/python3.7/dist-packages (from python-dateutil>=2.1->matplotlib->pylathedb) (1.15.0)\n",
            "Requirement already satisfied: click in /usr/local/lib/python3.7/dist-packages (from nltk->pylathedb) (7.1.2)\n",
            "Requirement already satisfied: joblib in /usr/local/lib/python3.7/dist-packages (from nltk->pylathedb) (1.1.0)\n",
            "Requirement already satisfied: tqdm in /usr/local/lib/python3.7/dist-packages (from nltk->pylathedb) (4.64.0)\n",
            "Requirement already satisfied: regex>=2021.8.3 in /usr/local/lib/python3.7/dist-packages (from nltk->pylathedb) (2022.6.2)\n",
            "Requirement already satisfied: pytz>=2017.3 in /usr/local/lib/python3.7/dist-packages (from pandas->pylathedb) (2022.1)\n",
            "Requirement already satisfied: importlib-metadata in /usr/local/lib/python3.7/dist-packages (from prettytable->pylathedb) (4.11.4)\n",
            "Requirement already satisfied: wcwidth in /usr/local/lib/python3.7/dist-packages (from prettytable->pylathedb) (0.2.5)\n",
            "Requirement already satisfied: zipp>=0.5 in /usr/local/lib/python3.7/dist-packages (from importlib-metadata->prettytable->pylathedb) (3.8.0)\n",
            "Installing collected packages: psycopg2-binary, pylathedb\n",
            "Successfully installed psycopg2-binary-2.7.7 pylathedb-0.0.4.dev30\n"
          ]
        }
      ]
    },
    {
      "cell_type": "markdown",
      "source": [
        "## PyLatheDB setup\n",
        "\n",
        "In this section, we will run the PyLatheDB setup, which comprises the creation of the Value Index and the Schema Index. We will also explain the main parameters of the library, such as number of QMs, number of CJNs per QM and the use of the eager evaluation strategy for CJN generation. "
      ],
      "metadata": {
        "id": "85Bru8qN6lpE"
      }
    },
    {
      "cell_type": "markdown",
      "source": [
        "### Library import and set configuration directory"
      ],
      "metadata": {
        "id": "g9rv0VoN_nM0"
      }
    },
    {
      "cell_type": "code",
      "source": [
        "from pylathedb.lathe import Lathe\n",
        "lathe = Lathe(config_directory='./config/')"
      ],
      "metadata": {
        "id": "-wpNJChhQjEP"
      },
      "execution_count": null,
      "outputs": []
    },
    {
      "cell_type": "markdown",
      "source": [
        "### Create Indexes \n",
        "This step is not necessary because we already downloaded the indexes alongside the configuration files. But feel free to test the Index Creation by uncommenting the following cell:"
      ],
      "metadata": {
        "id": "gct9Nh0W_tqp"
      }
    },
    {
      "cell_type": "code",
      "source": [
        "# lathe.create_indexes()"
      ],
      "metadata": {
        "id": "GCxC4RxZ_ln1"
      },
      "execution_count": null,
      "outputs": []
    },
    {
      "cell_type": "markdown",
      "source": [
        "### Load Indexes\n",
        "\n",
        "The cell below shows how to load the Value and Schema Indexes."
      ],
      "metadata": {
        "id": "JL1mPyVCAUiX"
      }
    },
    {
      "cell_type": "code",
      "source": [
        "lathe.load_indexes()"
      ],
      "metadata": {
        "id": "K1AWZHMFXQ_A"
      },
      "execution_count": null,
      "outputs": []
    },
    {
      "cell_type": "markdown",
      "source": [
        "### Choose Query set/Database\n",
        "\n",
        "You can choose which query set to use and its respective database. Input as a function parameter the number of the name of the query set to use. If you input no number, it will list the query sets available.\n",
        "\n",
        "*Remember to always load the indexes again after changing query set.*"
      ],
      "metadata": {
        "id": "WjMMYqzAAwIp"
      }
    },
    {
      "cell_type": "code",
      "source": [
        "lathe.change_queryset()"
      ],
      "metadata": {
        "id": "Gs8KXPMSxYYm",
        "colab": {
          "base_uri": "https://localhost:8080/"
        },
        "outputId": "e414e1c9-9b45-41b5-a205-fbf3396c47b5"
      },
      "execution_count": null,
      "outputs": [
        {
          "output_type": "stream",
          "name": "stdout",
          "text": [
            "Please input a query set to change:\n",
            "01 - coffman_imdb\n",
            "02 - coffman_mondial\n"
          ]
        }
      ]
    },
    {
      "cell_type": "code",
      "source": [
        "lathe.change_queryset('coffman_imdb')\n",
        "lathe.load_indexes()"
      ],
      "metadata": {
        "colab": {
          "base_uri": "https://localhost:8080/"
        },
        "id": "3FFQCu6bCmk5",
        "outputId": "2f6d9fe5-9e4d-4e55-add8-df86ee3f82d3"
      },
      "execution_count": null,
      "outputs": [
        {
          "output_type": "stream",
          "name": "stdout",
          "text": [
            "./config/queryset_configs/coffman_imdb_config.json\n",
            "Changed to query set coffman_imdb.\n"
          ]
        }
      ]
    },
    {
      "cell_type": "markdown",
      "source": [
        "### Default Parameters\n",
        "\n",
        "We have a few parameters for R-KwS using PyLatheDB:\n",
        "*    `max_qm_size`: Maximum Query Match Size\n",
        "*    `max_cjn_size`: Maximum Candidate Joining Network Size\n",
        "*    `topk_cns`: Top-k CJNs to be considered\n",
        "*    `configuration`: A tuple containing the number of QMs to be considered, number of CJNs for each QM to be considered, and the maximum number of CJNs to be probed by the eager evaluation for each QM. \n",
        "\n",
        "\n"
      ],
      "metadata": {
        "id": "ey2a_wdSBNKn"
      }
    },
    {
      "cell_type": "code",
      "source": [
        "lathe.max_qm_size = 3\n",
        "lathe.max_cjn_size = 5\n",
        "lathe.topk_cns = 10\n",
        "\n",
        "num_qms = 5\n",
        "num_cjns_per_qm = 1\n",
        "num_probed_cjns = 0\n",
        "\n",
        "lathe.configuration = (num_qms,num_cjns_per_qm,num_probed_cjns)"
      ],
      "metadata": {
        "id": "P8PUzbKoxOdB"
      },
      "execution_count": null,
      "outputs": []
    },
    {
      "cell_type": "markdown",
      "source": [
        "## Keyword Search over Relational Databases\n",
        "\n",
        "You can use the function `keyword_search` from the class `Lathe` using three parameters. \n",
        "\n",
        "\n",
        "1.   You can input a Keyword query\n",
        "2.   You can call the function with no input to show a list of premade keyword queries used in Coffman Benchmark.\n",
        "3.   You can input the number of the keyword query according to the option 2."
      ],
      "metadata": {
        "id": "WhwI-lMT_sOJ"
      }
    },
    {
      "cell_type": "code",
      "source": [
        "lathe.keyword_search()"
      ],
      "metadata": {
        "colab": {
          "base_uri": "https://localhost:8080/"
        },
        "id": "YEQ7ZZtWF5gt",
        "outputId": "5ca9adc4-647d-4cc2-958a-4e3717994d6b"
      },
      "execution_count": null,
      "outputs": [
        {
          "output_type": "stream",
          "name": "stdout",
          "text": [
            "Please input a keyword query or choose one of the queries below:\n",
            "01 - denzel washington\n",
            "02 - clint eastwood\n",
            "03 - john wayne\n",
            "04 - will smith\n",
            "05 - harrison ford\n",
            "06 - julia roberts\n",
            "07 - tom hanks\n",
            "08 - johnny depp\n",
            "09 - angelina jolie\n",
            "10 - morgan freeman\n",
            "11 - gone with the wind\n",
            "12 - star wars\n",
            "13 - casablanca\n",
            "14 - lord of the rings\n",
            "15 - the sound of music\n",
            "16 - wizard of oz\n",
            "17 - the notebook\n",
            "18 - forrest gump\n",
            "19 - the princess bride\n",
            "20 - the godfather\n",
            "21 - title atticus finch\n",
            "22 - title indiana jones\n",
            "23 - title james bond\n",
            "24 - title rick blaine\n",
            "25 - title will kane\n",
            "26 - title dr. hannibal lecter\n",
            "27 - title norman bates\n",
            "28 - title darth vader\n",
            "29 - title the wicked witch of the west\n",
            "30 - title nurse ratched\n",
            "31 - title frankly my dear i don't give a damn\n",
            "32 - title i'm going to make him an offer he can't refuse\n",
            "33 - title you don't understand i coulda had class i coulda been a contender i coulda been somebody instead of a bum which is what i am\n",
            "34 - title toto i've a feeling we're not in kansas any more\n",
            "35 - title here's looking at you kid\n",
            "36 - hamill skywalker\n",
            "37 - hanks 2004\n",
            "38 - henry fonda yours mine ours character\n",
            "39 - russell crowe gladiator character\n",
            "40 - brent spiner star trek\n",
            "41 - audrey hepburn 1951\n",
            "42 - name jacques clouseau\n",
            "43 - name jack ryan\n",
            "44 - rocky stallone\n",
            "45 - name terminator\n",
            "46 - harrison ford george lucas\n",
            "47 - sean connery fleming\n",
            "48 - reeves wachowski\n",
            "49 - dean jones herbie\n",
            "50 - indiana jones last crusade lost ark\n"
          ]
        }
      ]
    },
    {
      "cell_type": "markdown",
      "source": [
        "### Understanding the Results\n",
        "\n",
        "The function `keyword_search` from the class `Lathe` returns an `LatheResult` object, which contains methods to show the CJNs, QMs and KMs returned for the keyword query.\n",
        "\n",
        "#### Candidate Joining Networks\n",
        "\n",
        "The library returns, for each CJN, its Text representation, its Graph representation, its SQL translation and the returned results from the SQL execution by the RDBMS. The function `cjns` outputs the informatio about each CJN according to four boolean parameters: `text`, `graph`, `sql`, and `jnts`. All of them are enabled by default.\n",
        "\n",
        "\n",
        "*The Graph representation may not be available in the static version of this notebook in Github. You can run it using Google Colab [here](https://colab.research.google.com/github/pr3martins/PyLatheDB/blob/main/demo/PyLatheDB_DEMO.ipynb).*"
      ],
      "metadata": {
        "id": "4nalYT6yF90_"
      }
    },
    {
      "cell_type": "code",
      "source": [
        "result = lathe.keyword_search('julia roberts films')\n",
        "result.cjns(top_k=1)"
      ],
      "metadata": {
        "colab": {
          "base_uri": "https://localhost:8080/",
          "height": 797
        },
        "id": "IEq5hjlK8vUe",
        "outputId": "a072fa93-a0a0-4010-8917-2ed08be4245c"
      },
      "execution_count": null,
      "outputs": [
        {
          "output_type": "stream",
          "name": "stdout",
          "text": [
            "Keyword Query: julia roberts films\n"
          ]
        },
        {
          "output_type": "display_data",
          "data": {
            "text/plain": [
              "<IPython.core.display.Markdown object>"
            ],
            "text/markdown": "---"
          },
          "metadata": {}
        },
        {
          "output_type": "display_data",
          "data": {
            "text/plain": [
              "<IPython.core.display.Markdown object>"
            ],
            "text/markdown": "**1st CJN**:"
          },
          "metadata": {}
        },
        {
          "output_type": "display_data",
          "data": {
            "text/plain": [
              "<IPython.core.display.Markdown object>"
            ],
            "text/markdown": "---"
          },
          "metadata": {}
        },
        {
          "output_type": "stream",
          "name": "stdout",
          "text": [
            "Text:\n",
            "\tPERSON.v(name{julia,roberts})\n",
            "\t\t<CASTING\n",
            "\t\t\t>MOVIE.s(*{films})\n"
          ]
        },
        {
          "output_type": "display_data",
          "data": {
            "text/plain": [
              "<IPython.core.display.Markdown object>"
            ],
            "text/markdown": "---"
          },
          "metadata": {}
        },
        {
          "output_type": "stream",
          "name": "stdout",
          "text": [
            "Graph:\n"
          ]
        },
        {
          "output_type": "display_data",
          "data": {
            "text/plain": [
              "<graphviz.dot.Digraph at 0x7f0dfc080f10>"
            ],
            "image/svg+xml": "<?xml version=\"1.0\" encoding=\"UTF-8\" standalone=\"no\"?>\n<!DOCTYPE svg PUBLIC \"-//W3C//DTD SVG 1.1//EN\"\n \"http://www.w3.org/Graphics/SVG/1.1/DTD/svg11.dtd\">\n<!-- Generated by graphviz version 2.40.1 (20161225.0304)\n -->\n<!-- Title: %3 Pages: 1 -->\n<svg width=\"280pt\" height=\"98pt\"\n viewBox=\"0.00 0.00 280.33 98.00\" xmlns=\"http://www.w3.org/2000/svg\" xmlns:xlink=\"http://www.w3.org/1999/xlink\">\n<g id=\"graph0\" class=\"graph\" transform=\"scale(1 1) rotate(0) translate(4 94)\">\n<title>%3</title>\n<polygon fill=\"#ffffff\" stroke=\"transparent\" points=\"-4,4 -4,-94 276.3265,-94 276.3265,4 -4,4\"/>\n<!-- t1 -->\n<g id=\"node1\" class=\"node\">\n<title>t1</title>\n<ellipse fill=\"none\" stroke=\"#000000\" cx=\"77.3649\" cy=\"-18\" rx=\"77.2301\" ry=\"18\"/>\n<text text-anchor=\"middle\" x=\"77.3649\" y=\"-15.8\" font-family=\"Times,serif\" font-size=\"9.00\" fill=\"#000000\">PERSON.v(name{julia,roberts})</text>\n</g>\n<!-- t2 -->\n<g id=\"node2\" class=\"node\">\n<title>t2</title>\n<ellipse fill=\"none\" stroke=\"#000000\" cx=\"148.3649\" cy=\"-72\" rx=\"32.1641\" ry=\"18\"/>\n<text text-anchor=\"middle\" x=\"148.3649\" y=\"-69.8\" font-family=\"Times,serif\" font-size=\"9.00\" fill=\"#000000\">CASTING</text>\n</g>\n<!-- t2&#45;&gt;t1 -->\n<g id=\"edge2\" class=\"edge\">\n<title>t2&#45;&gt;t1</title>\n<path fill=\"none\" stroke=\"#000000\" d=\"M128.9639,-57.2443C122.2509,-52.1386 114.5634,-46.2918 107.2085,-40.6979\"/>\n<polygon fill=\"#000000\" stroke=\"#000000\" points=\"109.0832,-38.1662 100.0128,-35.2251 105.2694,-43.1807 109.0832,-38.1662\"/>\n</g>\n<!-- t3 -->\n<g id=\"node3\" class=\"node\">\n<title>t3</title>\n<ellipse fill=\"none\" stroke=\"#000000\" cx=\"220.3649\" cy=\"-18\" rx=\"51.9231\" ry=\"18\"/>\n<text text-anchor=\"middle\" x=\"220.3649\" y=\"-15.8\" font-family=\"Times,serif\" font-size=\"9.00\" fill=\"#000000\">MOVIE.s(*{films})</text>\n</g>\n<!-- t2&#45;&gt;t3 -->\n<g id=\"edge1\" class=\"edge\">\n<title>t2&#45;&gt;t3</title>\n<path fill=\"none\" stroke=\"#000000\" d=\"M167.6596,-57.529C174.7826,-52.1868 183.0267,-46.0037 190.8485,-40.1373\"/>\n<polygon fill=\"#000000\" stroke=\"#000000\" points=\"193.1624,-42.3395 198.4724,-34.4194 189.3823,-37.2995 193.1624,-42.3395\"/>\n</g>\n</g>\n</svg>\n"
          },
          "metadata": {}
        },
        {
          "output_type": "display_data",
          "data": {
            "text/plain": [
              "<IPython.core.display.Markdown object>"
            ],
            "text/markdown": "---"
          },
          "metadata": {}
        },
        {
          "output_type": "stream",
          "name": "stdout",
          "text": [
            "SQL:\n",
            "  \n",
            "  SELECT\n",
            "  \tt1.name,\n",
            "  \tt3.*\n",
            "  FROM\n",
            "  \t\"person\" t1\n",
            "  \tJOIN \"casting\" t2 ON t2.person_id = t1.id\n",
            "  \tJOIN \"movie\" t3 ON t2.movie_id = t3.id\n",
            "  WHERE\n",
            "  \tt1.name_tsvector @@ to_tsquery('julia & roberts')\n",
            "  LIMIT 1000;\n",
            "\n"
          ]
        },
        {
          "output_type": "display_data",
          "data": {
            "text/plain": [
              "<IPython.core.display.Markdown object>"
            ],
            "text/markdown": "---"
          },
          "metadata": {}
        },
        {
          "output_type": "stream",
          "name": "stdout",
          "text": [
            "JNTs:\n"
          ]
        },
        {
          "output_type": "display_data",
          "data": {
            "text/plain": [
              "             name      id                            title imdb_index  \\\n",
              "0  Roberts, Julia    3161                     20 Something       None   \n",
              "1  Roberts, Julia  462275                          Stepmom       None   \n",
              "2  Roberts, Julia  263386  Kit Kittredge: An American Girl       None   \n",
              "3  Roberts, Julia  428985                     Satisfaction       None   \n",
              "4  Roberts, Julia  337406                      Monte Carlo       None   \n",
              "\n",
              "   kind_id  year imdb_id phonetic_code episode_of_id season_nr episode_nr  \\\n",
              "0        1  2006    None         S5352          None      None       None   \n",
              "1        1  1998    None          S315          None      None       None   \n",
              "2        1  2008    None         K3236          None      None       None   \n",
              "3        1  1988    None         S3212          None      None       None   \n",
              "4        1  2010    None         M5326          None      None       None   \n",
              "\n",
              "  series_years  __search_id  \n",
              "0         None     43788412  \n",
              "1         None     44222915  \n",
              "2         None     43982791  \n",
              "3         None     44196668  \n",
              "4         None     44056231  "
            ],
            "text/html": [
              "\n",
              "  <div id=\"df-6a2bd993-2a26-4db2-af79-9b1838705b28\">\n",
              "    <div class=\"colab-df-container\">\n",
              "      <div>\n",
              "<style scoped>\n",
              "    .dataframe tbody tr th:only-of-type {\n",
              "        vertical-align: middle;\n",
              "    }\n",
              "\n",
              "    .dataframe tbody tr th {\n",
              "        vertical-align: top;\n",
              "    }\n",
              "\n",
              "    .dataframe thead th {\n",
              "        text-align: right;\n",
              "    }\n",
              "</style>\n",
              "<table border=\"1\" class=\"dataframe\">\n",
              "  <thead>\n",
              "    <tr style=\"text-align: right;\">\n",
              "      <th></th>\n",
              "      <th>name</th>\n",
              "      <th>id</th>\n",
              "      <th>title</th>\n",
              "      <th>imdb_index</th>\n",
              "      <th>kind_id</th>\n",
              "      <th>year</th>\n",
              "      <th>imdb_id</th>\n",
              "      <th>phonetic_code</th>\n",
              "      <th>episode_of_id</th>\n",
              "      <th>season_nr</th>\n",
              "      <th>episode_nr</th>\n",
              "      <th>series_years</th>\n",
              "      <th>__search_id</th>\n",
              "    </tr>\n",
              "  </thead>\n",
              "  <tbody>\n",
              "    <tr>\n",
              "      <th>0</th>\n",
              "      <td>Roberts, Julia</td>\n",
              "      <td>3161</td>\n",
              "      <td>20 Something</td>\n",
              "      <td>None</td>\n",
              "      <td>1</td>\n",
              "      <td>2006</td>\n",
              "      <td>None</td>\n",
              "      <td>S5352</td>\n",
              "      <td>None</td>\n",
              "      <td>None</td>\n",
              "      <td>None</td>\n",
              "      <td>None</td>\n",
              "      <td>43788412</td>\n",
              "    </tr>\n",
              "    <tr>\n",
              "      <th>1</th>\n",
              "      <td>Roberts, Julia</td>\n",
              "      <td>462275</td>\n",
              "      <td>Stepmom</td>\n",
              "      <td>None</td>\n",
              "      <td>1</td>\n",
              "      <td>1998</td>\n",
              "      <td>None</td>\n",
              "      <td>S315</td>\n",
              "      <td>None</td>\n",
              "      <td>None</td>\n",
              "      <td>None</td>\n",
              "      <td>None</td>\n",
              "      <td>44222915</td>\n",
              "    </tr>\n",
              "    <tr>\n",
              "      <th>2</th>\n",
              "      <td>Roberts, Julia</td>\n",
              "      <td>263386</td>\n",
              "      <td>Kit Kittredge: An American Girl</td>\n",
              "      <td>None</td>\n",
              "      <td>1</td>\n",
              "      <td>2008</td>\n",
              "      <td>None</td>\n",
              "      <td>K3236</td>\n",
              "      <td>None</td>\n",
              "      <td>None</td>\n",
              "      <td>None</td>\n",
              "      <td>None</td>\n",
              "      <td>43982791</td>\n",
              "    </tr>\n",
              "    <tr>\n",
              "      <th>3</th>\n",
              "      <td>Roberts, Julia</td>\n",
              "      <td>428985</td>\n",
              "      <td>Satisfaction</td>\n",
              "      <td>None</td>\n",
              "      <td>1</td>\n",
              "      <td>1988</td>\n",
              "      <td>None</td>\n",
              "      <td>S3212</td>\n",
              "      <td>None</td>\n",
              "      <td>None</td>\n",
              "      <td>None</td>\n",
              "      <td>None</td>\n",
              "      <td>44196668</td>\n",
              "    </tr>\n",
              "    <tr>\n",
              "      <th>4</th>\n",
              "      <td>Roberts, Julia</td>\n",
              "      <td>337406</td>\n",
              "      <td>Monte Carlo</td>\n",
              "      <td>None</td>\n",
              "      <td>1</td>\n",
              "      <td>2010</td>\n",
              "      <td>None</td>\n",
              "      <td>M5326</td>\n",
              "      <td>None</td>\n",
              "      <td>None</td>\n",
              "      <td>None</td>\n",
              "      <td>None</td>\n",
              "      <td>44056231</td>\n",
              "    </tr>\n",
              "  </tbody>\n",
              "</table>\n",
              "</div>\n",
              "      <button class=\"colab-df-convert\" onclick=\"convertToInteractive('df-6a2bd993-2a26-4db2-af79-9b1838705b28')\"\n",
              "              title=\"Convert this dataframe to an interactive table.\"\n",
              "              style=\"display:none;\">\n",
              "        \n",
              "  <svg xmlns=\"http://www.w3.org/2000/svg\" height=\"24px\"viewBox=\"0 0 24 24\"\n",
              "       width=\"24px\">\n",
              "    <path d=\"M0 0h24v24H0V0z\" fill=\"none\"/>\n",
              "    <path d=\"M18.56 5.44l.94 2.06.94-2.06 2.06-.94-2.06-.94-.94-2.06-.94 2.06-2.06.94zm-11 1L8.5 8.5l.94-2.06 2.06-.94-2.06-.94L8.5 2.5l-.94 2.06-2.06.94zm10 10l.94 2.06.94-2.06 2.06-.94-2.06-.94-.94-2.06-.94 2.06-2.06.94z\"/><path d=\"M17.41 7.96l-1.37-1.37c-.4-.4-.92-.59-1.43-.59-.52 0-1.04.2-1.43.59L10.3 9.45l-7.72 7.72c-.78.78-.78 2.05 0 2.83L4 21.41c.39.39.9.59 1.41.59.51 0 1.02-.2 1.41-.59l7.78-7.78 2.81-2.81c.8-.78.8-2.07 0-2.86zM5.41 20L4 18.59l7.72-7.72 1.47 1.35L5.41 20z\"/>\n",
              "  </svg>\n",
              "      </button>\n",
              "      \n",
              "  <style>\n",
              "    .colab-df-container {\n",
              "      display:flex;\n",
              "      flex-wrap:wrap;\n",
              "      gap: 12px;\n",
              "    }\n",
              "\n",
              "    .colab-df-convert {\n",
              "      background-color: #E8F0FE;\n",
              "      border: none;\n",
              "      border-radius: 50%;\n",
              "      cursor: pointer;\n",
              "      display: none;\n",
              "      fill: #1967D2;\n",
              "      height: 32px;\n",
              "      padding: 0 0 0 0;\n",
              "      width: 32px;\n",
              "    }\n",
              "\n",
              "    .colab-df-convert:hover {\n",
              "      background-color: #E2EBFA;\n",
              "      box-shadow: 0px 1px 2px rgba(60, 64, 67, 0.3), 0px 1px 3px 1px rgba(60, 64, 67, 0.15);\n",
              "      fill: #174EA6;\n",
              "    }\n",
              "\n",
              "    [theme=dark] .colab-df-convert {\n",
              "      background-color: #3B4455;\n",
              "      fill: #D2E3FC;\n",
              "    }\n",
              "\n",
              "    [theme=dark] .colab-df-convert:hover {\n",
              "      background-color: #434B5C;\n",
              "      box-shadow: 0px 1px 3px 1px rgba(0, 0, 0, 0.15);\n",
              "      filter: drop-shadow(0px 1px 2px rgba(0, 0, 0, 0.3));\n",
              "      fill: #FFFFFF;\n",
              "    }\n",
              "  </style>\n",
              "\n",
              "      <script>\n",
              "        const buttonEl =\n",
              "          document.querySelector('#df-6a2bd993-2a26-4db2-af79-9b1838705b28 button.colab-df-convert');\n",
              "        buttonEl.style.display =\n",
              "          google.colab.kernel.accessAllowed ? 'block' : 'none';\n",
              "\n",
              "        async function convertToInteractive(key) {\n",
              "          const element = document.querySelector('#df-6a2bd993-2a26-4db2-af79-9b1838705b28');\n",
              "          const dataTable =\n",
              "            await google.colab.kernel.invokeFunction('convertToInteractive',\n",
              "                                                     [key], {});\n",
              "          if (!dataTable) return;\n",
              "\n",
              "          const docLinkHtml = 'Like what you see? Visit the ' +\n",
              "            '<a target=\"_blank\" href=https://colab.research.google.com/notebooks/data_table.ipynb>data table notebook</a>'\n",
              "            + ' to learn more about interactive tables.';\n",
              "          element.innerHTML = '';\n",
              "          dataTable['output_type'] = 'display_data';\n",
              "          await google.colab.output.renderOutput(dataTable, element);\n",
              "          const docLink = document.createElement('div');\n",
              "          docLink.innerHTML = docLinkHtml;\n",
              "          element.appendChild(docLink);\n",
              "        }\n",
              "      </script>\n",
              "    </div>\n",
              "  </div>\n",
              "  "
            ],
            "application/vnd.google.colaboratory.module+javascript": "\n      import \"https://ssl.gstatic.com/colaboratory/data_table/f872b2c2305463fd/data_table.js\";\n\n      window.createDataTable({\n        data: [[{\n            'v': 0,\n            'f': \"0\",\n        },\n\"Roberts, Julia\",\n{\n            'v': 3161,\n            'f': \"3161\",\n        },\n\"20 Something\",\n{\n            'v': null,\n            'f': \"null\",\n        },\n{\n            'v': 1,\n            'f': \"1\",\n        },\n{\n            'v': 2006,\n            'f': \"2006\",\n        },\n{\n            'v': null,\n            'f': \"null\",\n        },\n\"S5352\",\n{\n            'v': null,\n            'f': \"null\",\n        },\n{\n            'v': null,\n            'f': \"null\",\n        },\n{\n            'v': null,\n            'f': \"null\",\n        },\n{\n            'v': null,\n            'f': \"null\",\n        },\n{\n            'v': 43788412,\n            'f': \"43788412\",\n        }],\n [{\n            'v': 1,\n            'f': \"1\",\n        },\n\"Roberts, Julia\",\n{\n            'v': 462275,\n            'f': \"462275\",\n        },\n\"Stepmom\",\n{\n            'v': null,\n            'f': \"null\",\n        },\n{\n            'v': 1,\n            'f': \"1\",\n        },\n{\n            'v': 1998,\n            'f': \"1998\",\n        },\n{\n            'v': null,\n            'f': \"null\",\n        },\n\"S315\",\n{\n            'v': null,\n            'f': \"null\",\n        },\n{\n            'v': null,\n            'f': \"null\",\n        },\n{\n            'v': null,\n            'f': \"null\",\n        },\n{\n            'v': null,\n            'f': \"null\",\n        },\n{\n            'v': 44222915,\n            'f': \"44222915\",\n        }],\n [{\n            'v': 2,\n            'f': \"2\",\n        },\n\"Roberts, Julia\",\n{\n            'v': 263386,\n            'f': \"263386\",\n        },\n\"Kit Kittredge: An American Girl\",\n{\n            'v': null,\n            'f': \"null\",\n        },\n{\n            'v': 1,\n            'f': \"1\",\n        },\n{\n            'v': 2008,\n            'f': \"2008\",\n        },\n{\n            'v': null,\n            'f': \"null\",\n        },\n\"K3236\",\n{\n            'v': null,\n            'f': \"null\",\n        },\n{\n            'v': null,\n            'f': \"null\",\n        },\n{\n            'v': null,\n            'f': \"null\",\n        },\n{\n            'v': null,\n            'f': \"null\",\n        },\n{\n            'v': 43982791,\n            'f': \"43982791\",\n        }],\n [{\n            'v': 3,\n            'f': \"3\",\n        },\n\"Roberts, Julia\",\n{\n            'v': 428985,\n            'f': \"428985\",\n        },\n\"Satisfaction\",\n{\n            'v': null,\n            'f': \"null\",\n        },\n{\n            'v': 1,\n            'f': \"1\",\n        },\n{\n            'v': 1988,\n            'f': \"1988\",\n        },\n{\n            'v': null,\n            'f': \"null\",\n        },\n\"S3212\",\n{\n            'v': null,\n            'f': \"null\",\n        },\n{\n            'v': null,\n            'f': \"null\",\n        },\n{\n            'v': null,\n            'f': \"null\",\n        },\n{\n            'v': null,\n            'f': \"null\",\n        },\n{\n            'v': 44196668,\n            'f': \"44196668\",\n        }],\n [{\n            'v': 4,\n            'f': \"4\",\n        },\n\"Roberts, Julia\",\n{\n            'v': 337406,\n            'f': \"337406\",\n        },\n\"Monte Carlo\",\n{\n            'v': null,\n            'f': \"null\",\n        },\n{\n            'v': 1,\n            'f': \"1\",\n        },\n{\n            'v': 2010,\n            'f': \"2010\",\n        },\n{\n            'v': null,\n            'f': \"null\",\n        },\n\"M5326\",\n{\n            'v': null,\n            'f': \"null\",\n        },\n{\n            'v': null,\n            'f': \"null\",\n        },\n{\n            'v': null,\n            'f': \"null\",\n        },\n{\n            'v': null,\n            'f': \"null\",\n        },\n{\n            'v': 44056231,\n            'f': \"44056231\",\n        }]],\n        columns: [[\"number\", \"index\"], [\"string\", \"name\"], [\"number\", \"id\"], [\"string\", \"title\"], [\"number\", \"imdb_index\"], [\"number\", \"kind_id\"], [\"number\", \"year\"], [\"number\", \"imdb_id\"], [\"string\", \"phonetic_code\"], [\"number\", \"episode_of_id\"], [\"number\", \"season_nr\"], [\"number\", \"episode_nr\"], [\"number\", \"series_years\"], [\"number\", \"__search_id\"]],\n        columnOptions: [{\"width\": \"1px\", \"className\": \"index_column\"}],\n        rowsPerPage: 25,\n        helpUrl: \"https://colab.research.google.com/notebooks/data_table.ipynb\",\n        suppressOutputScrolling: true,\n        minimumWidth: undefined,\n      });\n    "
          },
          "metadata": {}
        },
        {
          "output_type": "stream",
          "name": "stdout",
          "text": [
            "\n"
          ]
        }
      ]
    },
    {
      "cell_type": "code",
      "source": [
        "result = lathe.keyword_search('julia roberts films')\n",
        "result.cjns(graph=True,text=False,sql=False,df=True)"
      ],
      "metadata": {
        "colab": {
          "base_uri": "https://localhost:8080/",
          "height": 2004
        },
        "id": "J-fRKmuvP5qE",
        "outputId": "b870bbe2-7820-48ba-f532-4661c846b147"
      },
      "execution_count": null,
      "outputs": [
        {
          "output_type": "stream",
          "name": "stdout",
          "text": [
            "Keyword Query: julia roberts films\n"
          ]
        },
        {
          "output_type": "display_data",
          "data": {
            "text/plain": [
              "<IPython.core.display.Markdown object>"
            ],
            "text/markdown": "---"
          },
          "metadata": {}
        },
        {
          "output_type": "display_data",
          "data": {
            "text/plain": [
              "<IPython.core.display.Markdown object>"
            ],
            "text/markdown": "**1st CJN**:"
          },
          "metadata": {}
        },
        {
          "output_type": "display_data",
          "data": {
            "text/plain": [
              "<IPython.core.display.Markdown object>"
            ],
            "text/markdown": "---"
          },
          "metadata": {}
        },
        {
          "output_type": "stream",
          "name": "stdout",
          "text": [
            "Graph:\n"
          ]
        },
        {
          "output_type": "display_data",
          "data": {
            "text/plain": [
              "<graphviz.dot.Digraph at 0x7f0dfc341c10>"
            ],
            "image/svg+xml": "<?xml version=\"1.0\" encoding=\"UTF-8\" standalone=\"no\"?>\n<!DOCTYPE svg PUBLIC \"-//W3C//DTD SVG 1.1//EN\"\n \"http://www.w3.org/Graphics/SVG/1.1/DTD/svg11.dtd\">\n<!-- Generated by graphviz version 2.40.1 (20161225.0304)\n -->\n<!-- Title: %3 Pages: 1 -->\n<svg width=\"280pt\" height=\"98pt\"\n viewBox=\"0.00 0.00 280.33 98.00\" xmlns=\"http://www.w3.org/2000/svg\" xmlns:xlink=\"http://www.w3.org/1999/xlink\">\n<g id=\"graph0\" class=\"graph\" transform=\"scale(1 1) rotate(0) translate(4 94)\">\n<title>%3</title>\n<polygon fill=\"#ffffff\" stroke=\"transparent\" points=\"-4,4 -4,-94 276.3265,-94 276.3265,4 -4,4\"/>\n<!-- t1 -->\n<g id=\"node1\" class=\"node\">\n<title>t1</title>\n<ellipse fill=\"none\" stroke=\"#000000\" cx=\"77.3649\" cy=\"-18\" rx=\"77.2301\" ry=\"18\"/>\n<text text-anchor=\"middle\" x=\"77.3649\" y=\"-15.8\" font-family=\"Times,serif\" font-size=\"9.00\" fill=\"#000000\">PERSON.v(name{julia,roberts})</text>\n</g>\n<!-- t2 -->\n<g id=\"node2\" class=\"node\">\n<title>t2</title>\n<ellipse fill=\"none\" stroke=\"#000000\" cx=\"148.3649\" cy=\"-72\" rx=\"32.1641\" ry=\"18\"/>\n<text text-anchor=\"middle\" x=\"148.3649\" y=\"-69.8\" font-family=\"Times,serif\" font-size=\"9.00\" fill=\"#000000\">CASTING</text>\n</g>\n<!-- t2&#45;&gt;t1 -->\n<g id=\"edge2\" class=\"edge\">\n<title>t2&#45;&gt;t1</title>\n<path fill=\"none\" stroke=\"#000000\" d=\"M128.9639,-57.2443C122.2509,-52.1386 114.5634,-46.2918 107.2085,-40.6979\"/>\n<polygon fill=\"#000000\" stroke=\"#000000\" points=\"109.0832,-38.1662 100.0128,-35.2251 105.2694,-43.1807 109.0832,-38.1662\"/>\n</g>\n<!-- t3 -->\n<g id=\"node3\" class=\"node\">\n<title>t3</title>\n<ellipse fill=\"none\" stroke=\"#000000\" cx=\"220.3649\" cy=\"-18\" rx=\"51.9231\" ry=\"18\"/>\n<text text-anchor=\"middle\" x=\"220.3649\" y=\"-15.8\" font-family=\"Times,serif\" font-size=\"9.00\" fill=\"#000000\">MOVIE.s(*{films})</text>\n</g>\n<!-- t2&#45;&gt;t3 -->\n<g id=\"edge1\" class=\"edge\">\n<title>t2&#45;&gt;t3</title>\n<path fill=\"none\" stroke=\"#000000\" d=\"M167.6596,-57.529C174.7826,-52.1868 183.0267,-46.0037 190.8485,-40.1373\"/>\n<polygon fill=\"#000000\" stroke=\"#000000\" points=\"193.1624,-42.3395 198.4724,-34.4194 189.3823,-37.2995 193.1624,-42.3395\"/>\n</g>\n</g>\n</svg>\n"
          },
          "metadata": {}
        },
        {
          "output_type": "display_data",
          "data": {
            "text/plain": [
              "<IPython.core.display.Markdown object>"
            ],
            "text/markdown": "---"
          },
          "metadata": {}
        },
        {
          "output_type": "stream",
          "name": "stdout",
          "text": [
            "JNTs:\n"
          ]
        },
        {
          "output_type": "display_data",
          "data": {
            "text/plain": [
              "             name      id                            title imdb_index  \\\n",
              "0  Roberts, Julia    3161                     20 Something       None   \n",
              "1  Roberts, Julia  462275                          Stepmom       None   \n",
              "2  Roberts, Julia  263386  Kit Kittredge: An American Girl       None   \n",
              "3  Roberts, Julia  428985                     Satisfaction       None   \n",
              "4  Roberts, Julia  337406                      Monte Carlo       None   \n",
              "\n",
              "   kind_id  year imdb_id phonetic_code episode_of_id season_nr episode_nr  \\\n",
              "0        1  2006    None         S5352          None      None       None   \n",
              "1        1  1998    None          S315          None      None       None   \n",
              "2        1  2008    None         K3236          None      None       None   \n",
              "3        1  1988    None         S3212          None      None       None   \n",
              "4        1  2010    None         M5326          None      None       None   \n",
              "\n",
              "  series_years  __search_id  \n",
              "0         None     43788412  \n",
              "1         None     44222915  \n",
              "2         None     43982791  \n",
              "3         None     44196668  \n",
              "4         None     44056231  "
            ],
            "text/html": [
              "\n",
              "  <div id=\"df-e7ba3541-b2f5-4868-b8fb-5f539c552b9a\">\n",
              "    <div class=\"colab-df-container\">\n",
              "      <div>\n",
              "<style scoped>\n",
              "    .dataframe tbody tr th:only-of-type {\n",
              "        vertical-align: middle;\n",
              "    }\n",
              "\n",
              "    .dataframe tbody tr th {\n",
              "        vertical-align: top;\n",
              "    }\n",
              "\n",
              "    .dataframe thead th {\n",
              "        text-align: right;\n",
              "    }\n",
              "</style>\n",
              "<table border=\"1\" class=\"dataframe\">\n",
              "  <thead>\n",
              "    <tr style=\"text-align: right;\">\n",
              "      <th></th>\n",
              "      <th>name</th>\n",
              "      <th>id</th>\n",
              "      <th>title</th>\n",
              "      <th>imdb_index</th>\n",
              "      <th>kind_id</th>\n",
              "      <th>year</th>\n",
              "      <th>imdb_id</th>\n",
              "      <th>phonetic_code</th>\n",
              "      <th>episode_of_id</th>\n",
              "      <th>season_nr</th>\n",
              "      <th>episode_nr</th>\n",
              "      <th>series_years</th>\n",
              "      <th>__search_id</th>\n",
              "    </tr>\n",
              "  </thead>\n",
              "  <tbody>\n",
              "    <tr>\n",
              "      <th>0</th>\n",
              "      <td>Roberts, Julia</td>\n",
              "      <td>3161</td>\n",
              "      <td>20 Something</td>\n",
              "      <td>None</td>\n",
              "      <td>1</td>\n",
              "      <td>2006</td>\n",
              "      <td>None</td>\n",
              "      <td>S5352</td>\n",
              "      <td>None</td>\n",
              "      <td>None</td>\n",
              "      <td>None</td>\n",
              "      <td>None</td>\n",
              "      <td>43788412</td>\n",
              "    </tr>\n",
              "    <tr>\n",
              "      <th>1</th>\n",
              "      <td>Roberts, Julia</td>\n",
              "      <td>462275</td>\n",
              "      <td>Stepmom</td>\n",
              "      <td>None</td>\n",
              "      <td>1</td>\n",
              "      <td>1998</td>\n",
              "      <td>None</td>\n",
              "      <td>S315</td>\n",
              "      <td>None</td>\n",
              "      <td>None</td>\n",
              "      <td>None</td>\n",
              "      <td>None</td>\n",
              "      <td>44222915</td>\n",
              "    </tr>\n",
              "    <tr>\n",
              "      <th>2</th>\n",
              "      <td>Roberts, Julia</td>\n",
              "      <td>263386</td>\n",
              "      <td>Kit Kittredge: An American Girl</td>\n",
              "      <td>None</td>\n",
              "      <td>1</td>\n",
              "      <td>2008</td>\n",
              "      <td>None</td>\n",
              "      <td>K3236</td>\n",
              "      <td>None</td>\n",
              "      <td>None</td>\n",
              "      <td>None</td>\n",
              "      <td>None</td>\n",
              "      <td>43982791</td>\n",
              "    </tr>\n",
              "    <tr>\n",
              "      <th>3</th>\n",
              "      <td>Roberts, Julia</td>\n",
              "      <td>428985</td>\n",
              "      <td>Satisfaction</td>\n",
              "      <td>None</td>\n",
              "      <td>1</td>\n",
              "      <td>1988</td>\n",
              "      <td>None</td>\n",
              "      <td>S3212</td>\n",
              "      <td>None</td>\n",
              "      <td>None</td>\n",
              "      <td>None</td>\n",
              "      <td>None</td>\n",
              "      <td>44196668</td>\n",
              "    </tr>\n",
              "    <tr>\n",
              "      <th>4</th>\n",
              "      <td>Roberts, Julia</td>\n",
              "      <td>337406</td>\n",
              "      <td>Monte Carlo</td>\n",
              "      <td>None</td>\n",
              "      <td>1</td>\n",
              "      <td>2010</td>\n",
              "      <td>None</td>\n",
              "      <td>M5326</td>\n",
              "      <td>None</td>\n",
              "      <td>None</td>\n",
              "      <td>None</td>\n",
              "      <td>None</td>\n",
              "      <td>44056231</td>\n",
              "    </tr>\n",
              "  </tbody>\n",
              "</table>\n",
              "</div>\n",
              "      <button class=\"colab-df-convert\" onclick=\"convertToInteractive('df-e7ba3541-b2f5-4868-b8fb-5f539c552b9a')\"\n",
              "              title=\"Convert this dataframe to an interactive table.\"\n",
              "              style=\"display:none;\">\n",
              "        \n",
              "  <svg xmlns=\"http://www.w3.org/2000/svg\" height=\"24px\"viewBox=\"0 0 24 24\"\n",
              "       width=\"24px\">\n",
              "    <path d=\"M0 0h24v24H0V0z\" fill=\"none\"/>\n",
              "    <path d=\"M18.56 5.44l.94 2.06.94-2.06 2.06-.94-2.06-.94-.94-2.06-.94 2.06-2.06.94zm-11 1L8.5 8.5l.94-2.06 2.06-.94-2.06-.94L8.5 2.5l-.94 2.06-2.06.94zm10 10l.94 2.06.94-2.06 2.06-.94-2.06-.94-.94-2.06-.94 2.06-2.06.94z\"/><path d=\"M17.41 7.96l-1.37-1.37c-.4-.4-.92-.59-1.43-.59-.52 0-1.04.2-1.43.59L10.3 9.45l-7.72 7.72c-.78.78-.78 2.05 0 2.83L4 21.41c.39.39.9.59 1.41.59.51 0 1.02-.2 1.41-.59l7.78-7.78 2.81-2.81c.8-.78.8-2.07 0-2.86zM5.41 20L4 18.59l7.72-7.72 1.47 1.35L5.41 20z\"/>\n",
              "  </svg>\n",
              "      </button>\n",
              "      \n",
              "  <style>\n",
              "    .colab-df-container {\n",
              "      display:flex;\n",
              "      flex-wrap:wrap;\n",
              "      gap: 12px;\n",
              "    }\n",
              "\n",
              "    .colab-df-convert {\n",
              "      background-color: #E8F0FE;\n",
              "      border: none;\n",
              "      border-radius: 50%;\n",
              "      cursor: pointer;\n",
              "      display: none;\n",
              "      fill: #1967D2;\n",
              "      height: 32px;\n",
              "      padding: 0 0 0 0;\n",
              "      width: 32px;\n",
              "    }\n",
              "\n",
              "    .colab-df-convert:hover {\n",
              "      background-color: #E2EBFA;\n",
              "      box-shadow: 0px 1px 2px rgba(60, 64, 67, 0.3), 0px 1px 3px 1px rgba(60, 64, 67, 0.15);\n",
              "      fill: #174EA6;\n",
              "    }\n",
              "\n",
              "    [theme=dark] .colab-df-convert {\n",
              "      background-color: #3B4455;\n",
              "      fill: #D2E3FC;\n",
              "    }\n",
              "\n",
              "    [theme=dark] .colab-df-convert:hover {\n",
              "      background-color: #434B5C;\n",
              "      box-shadow: 0px 1px 3px 1px rgba(0, 0, 0, 0.15);\n",
              "      filter: drop-shadow(0px 1px 2px rgba(0, 0, 0, 0.3));\n",
              "      fill: #FFFFFF;\n",
              "    }\n",
              "  </style>\n",
              "\n",
              "      <script>\n",
              "        const buttonEl =\n",
              "          document.querySelector('#df-e7ba3541-b2f5-4868-b8fb-5f539c552b9a button.colab-df-convert');\n",
              "        buttonEl.style.display =\n",
              "          google.colab.kernel.accessAllowed ? 'block' : 'none';\n",
              "\n",
              "        async function convertToInteractive(key) {\n",
              "          const element = document.querySelector('#df-e7ba3541-b2f5-4868-b8fb-5f539c552b9a');\n",
              "          const dataTable =\n",
              "            await google.colab.kernel.invokeFunction('convertToInteractive',\n",
              "                                                     [key], {});\n",
              "          if (!dataTable) return;\n",
              "\n",
              "          const docLinkHtml = 'Like what you see? Visit the ' +\n",
              "            '<a target=\"_blank\" href=https://colab.research.google.com/notebooks/data_table.ipynb>data table notebook</a>'\n",
              "            + ' to learn more about interactive tables.';\n",
              "          element.innerHTML = '';\n",
              "          dataTable['output_type'] = 'display_data';\n",
              "          await google.colab.output.renderOutput(dataTable, element);\n",
              "          const docLink = document.createElement('div');\n",
              "          docLink.innerHTML = docLinkHtml;\n",
              "          element.appendChild(docLink);\n",
              "        }\n",
              "      </script>\n",
              "    </div>\n",
              "  </div>\n",
              "  "
            ],
            "application/vnd.google.colaboratory.module+javascript": "\n      import \"https://ssl.gstatic.com/colaboratory/data_table/f872b2c2305463fd/data_table.js\";\n\n      window.createDataTable({\n        data: [[{\n            'v': 0,\n            'f': \"0\",\n        },\n\"Roberts, Julia\",\n{\n            'v': 3161,\n            'f': \"3161\",\n        },\n\"20 Something\",\n{\n            'v': null,\n            'f': \"null\",\n        },\n{\n            'v': 1,\n            'f': \"1\",\n        },\n{\n            'v': 2006,\n            'f': \"2006\",\n        },\n{\n            'v': null,\n            'f': \"null\",\n        },\n\"S5352\",\n{\n            'v': null,\n            'f': \"null\",\n        },\n{\n            'v': null,\n            'f': \"null\",\n        },\n{\n            'v': null,\n            'f': \"null\",\n        },\n{\n            'v': null,\n            'f': \"null\",\n        },\n{\n            'v': 43788412,\n            'f': \"43788412\",\n        }],\n [{\n            'v': 1,\n            'f': \"1\",\n        },\n\"Roberts, Julia\",\n{\n            'v': 462275,\n            'f': \"462275\",\n        },\n\"Stepmom\",\n{\n            'v': null,\n            'f': \"null\",\n        },\n{\n            'v': 1,\n            'f': \"1\",\n        },\n{\n            'v': 1998,\n            'f': \"1998\",\n        },\n{\n            'v': null,\n            'f': \"null\",\n        },\n\"S315\",\n{\n            'v': null,\n            'f': \"null\",\n        },\n{\n            'v': null,\n            'f': \"null\",\n        },\n{\n            'v': null,\n            'f': \"null\",\n        },\n{\n            'v': null,\n            'f': \"null\",\n        },\n{\n            'v': 44222915,\n            'f': \"44222915\",\n        }],\n [{\n            'v': 2,\n            'f': \"2\",\n        },\n\"Roberts, Julia\",\n{\n            'v': 263386,\n            'f': \"263386\",\n        },\n\"Kit Kittredge: An American Girl\",\n{\n            'v': null,\n            'f': \"null\",\n        },\n{\n            'v': 1,\n            'f': \"1\",\n        },\n{\n            'v': 2008,\n            'f': \"2008\",\n        },\n{\n            'v': null,\n            'f': \"null\",\n        },\n\"K3236\",\n{\n            'v': null,\n            'f': \"null\",\n        },\n{\n            'v': null,\n            'f': \"null\",\n        },\n{\n            'v': null,\n            'f': \"null\",\n        },\n{\n            'v': null,\n            'f': \"null\",\n        },\n{\n            'v': 43982791,\n            'f': \"43982791\",\n        }],\n [{\n            'v': 3,\n            'f': \"3\",\n        },\n\"Roberts, Julia\",\n{\n            'v': 428985,\n            'f': \"428985\",\n        },\n\"Satisfaction\",\n{\n            'v': null,\n            'f': \"null\",\n        },\n{\n            'v': 1,\n            'f': \"1\",\n        },\n{\n            'v': 1988,\n            'f': \"1988\",\n        },\n{\n            'v': null,\n            'f': \"null\",\n        },\n\"S3212\",\n{\n            'v': null,\n            'f': \"null\",\n        },\n{\n            'v': null,\n            'f': \"null\",\n        },\n{\n            'v': null,\n            'f': \"null\",\n        },\n{\n            'v': null,\n            'f': \"null\",\n        },\n{\n            'v': 44196668,\n            'f': \"44196668\",\n        }],\n [{\n            'v': 4,\n            'f': \"4\",\n        },\n\"Roberts, Julia\",\n{\n            'v': 337406,\n            'f': \"337406\",\n        },\n\"Monte Carlo\",\n{\n            'v': null,\n            'f': \"null\",\n        },\n{\n            'v': 1,\n            'f': \"1\",\n        },\n{\n            'v': 2010,\n            'f': \"2010\",\n        },\n{\n            'v': null,\n            'f': \"null\",\n        },\n\"M5326\",\n{\n            'v': null,\n            'f': \"null\",\n        },\n{\n            'v': null,\n            'f': \"null\",\n        },\n{\n            'v': null,\n            'f': \"null\",\n        },\n{\n            'v': null,\n            'f': \"null\",\n        },\n{\n            'v': 44056231,\n            'f': \"44056231\",\n        }]],\n        columns: [[\"number\", \"index\"], [\"string\", \"name\"], [\"number\", \"id\"], [\"string\", \"title\"], [\"number\", \"imdb_index\"], [\"number\", \"kind_id\"], [\"number\", \"year\"], [\"number\", \"imdb_id\"], [\"string\", \"phonetic_code\"], [\"number\", \"episode_of_id\"], [\"number\", \"season_nr\"], [\"number\", \"episode_nr\"], [\"number\", \"series_years\"], [\"number\", \"__search_id\"]],\n        columnOptions: [{\"width\": \"1px\", \"className\": \"index_column\"}],\n        rowsPerPage: 25,\n        helpUrl: \"https://colab.research.google.com/notebooks/data_table.ipynb\",\n        suppressOutputScrolling: true,\n        minimumWidth: undefined,\n      });\n    "
          },
          "metadata": {}
        },
        {
          "output_type": "stream",
          "name": "stdout",
          "text": [
            "\n"
          ]
        },
        {
          "output_type": "display_data",
          "data": {
            "text/plain": [
              "<IPython.core.display.Markdown object>"
            ],
            "text/markdown": "---"
          },
          "metadata": {}
        },
        {
          "output_type": "display_data",
          "data": {
            "text/plain": [
              "<IPython.core.display.Markdown object>"
            ],
            "text/markdown": "**2nd CJN**:"
          },
          "metadata": {}
        },
        {
          "output_type": "display_data",
          "data": {
            "text/plain": [
              "<IPython.core.display.Markdown object>"
            ],
            "text/markdown": "---"
          },
          "metadata": {}
        },
        {
          "output_type": "stream",
          "name": "stdout",
          "text": [
            "Graph:\n"
          ]
        },
        {
          "output_type": "display_data",
          "data": {
            "text/plain": [
              "<graphviz.dot.Digraph at 0x7f0dfc633950>"
            ],
            "image/svg+xml": "<?xml version=\"1.0\" encoding=\"UTF-8\" standalone=\"no\"?>\n<!DOCTYPE svg PUBLIC \"-//W3C//DTD SVG 1.1//EN\"\n \"http://www.w3.org/Graphics/SVG/1.1/DTD/svg11.dtd\">\n<!-- Generated by graphviz version 2.40.1 (20161225.0304)\n -->\n<!-- Title: %3 Pages: 1 -->\n<svg width=\"201pt\" height=\"44pt\"\n viewBox=\"0.00 0.00 200.83 44.00\" xmlns=\"http://www.w3.org/2000/svg\" xmlns:xlink=\"http://www.w3.org/1999/xlink\">\n<g id=\"graph0\" class=\"graph\" transform=\"scale(1 1) rotate(0) translate(4 40)\">\n<title>%3</title>\n<polygon fill=\"#ffffff\" stroke=\"transparent\" points=\"-4,4 -4,-40 196.835,-40 196.835,4 -4,4\"/>\n<!-- t1 -->\n<g id=\"node1\" class=\"node\">\n<title>t1</title>\n<ellipse fill=\"none\" stroke=\"#000000\" cx=\"96.4175\" cy=\"-18\" rx=\"96.3351\" ry=\"18\"/>\n<text text-anchor=\"middle\" x=\"96.4175\" y=\"-15.8\" font-family=\"Times,serif\" font-size=\"9.00\" fill=\"#000000\">MOVIE.s(*{films}).v(title{julia,roberts})</text>\n</g>\n</g>\n</svg>\n"
          },
          "metadata": {}
        },
        {
          "output_type": "display_data",
          "data": {
            "text/plain": [
              "<IPython.core.display.Markdown object>"
            ],
            "text/markdown": "---"
          },
          "metadata": {}
        },
        {
          "output_type": "stream",
          "name": "stdout",
          "text": [
            "JNTs:\n"
          ]
        },
        {
          "output_type": "display_data",
          "data": {
            "text/plain": [
              "                                      title      id  \\\n",
              "0  Untitled Julia Roberts/Joan Root Project  567842   \n",
              "\n",
              "                                      title imdb_index  kind_id  year imdb_id  \\\n",
              "0  Untitled Julia Roberts/Joan Root Project       None        1  2009    None   \n",
              "\n",
              "  phonetic_code episode_of_id season_nr episode_nr series_years  __search_id  \n",
              "0         U5343          None      None       None         None     44309348  "
            ],
            "text/html": [
              "\n",
              "  <div id=\"df-59ba0edf-81cf-4e7b-a485-093cde5f336d\">\n",
              "    <div class=\"colab-df-container\">\n",
              "      <div>\n",
              "<style scoped>\n",
              "    .dataframe tbody tr th:only-of-type {\n",
              "        vertical-align: middle;\n",
              "    }\n",
              "\n",
              "    .dataframe tbody tr th {\n",
              "        vertical-align: top;\n",
              "    }\n",
              "\n",
              "    .dataframe thead th {\n",
              "        text-align: right;\n",
              "    }\n",
              "</style>\n",
              "<table border=\"1\" class=\"dataframe\">\n",
              "  <thead>\n",
              "    <tr style=\"text-align: right;\">\n",
              "      <th></th>\n",
              "      <th>title</th>\n",
              "      <th>id</th>\n",
              "      <th>title</th>\n",
              "      <th>imdb_index</th>\n",
              "      <th>kind_id</th>\n",
              "      <th>year</th>\n",
              "      <th>imdb_id</th>\n",
              "      <th>phonetic_code</th>\n",
              "      <th>episode_of_id</th>\n",
              "      <th>season_nr</th>\n",
              "      <th>episode_nr</th>\n",
              "      <th>series_years</th>\n",
              "      <th>__search_id</th>\n",
              "    </tr>\n",
              "  </thead>\n",
              "  <tbody>\n",
              "    <tr>\n",
              "      <th>0</th>\n",
              "      <td>Untitled Julia Roberts/Joan Root Project</td>\n",
              "      <td>567842</td>\n",
              "      <td>Untitled Julia Roberts/Joan Root Project</td>\n",
              "      <td>None</td>\n",
              "      <td>1</td>\n",
              "      <td>2009</td>\n",
              "      <td>None</td>\n",
              "      <td>U5343</td>\n",
              "      <td>None</td>\n",
              "      <td>None</td>\n",
              "      <td>None</td>\n",
              "      <td>None</td>\n",
              "      <td>44309348</td>\n",
              "    </tr>\n",
              "  </tbody>\n",
              "</table>\n",
              "</div>\n",
              "      <button class=\"colab-df-convert\" onclick=\"convertToInteractive('df-59ba0edf-81cf-4e7b-a485-093cde5f336d')\"\n",
              "              title=\"Convert this dataframe to an interactive table.\"\n",
              "              style=\"display:none;\">\n",
              "        \n",
              "  <svg xmlns=\"http://www.w3.org/2000/svg\" height=\"24px\"viewBox=\"0 0 24 24\"\n",
              "       width=\"24px\">\n",
              "    <path d=\"M0 0h24v24H0V0z\" fill=\"none\"/>\n",
              "    <path d=\"M18.56 5.44l.94 2.06.94-2.06 2.06-.94-2.06-.94-.94-2.06-.94 2.06-2.06.94zm-11 1L8.5 8.5l.94-2.06 2.06-.94-2.06-.94L8.5 2.5l-.94 2.06-2.06.94zm10 10l.94 2.06.94-2.06 2.06-.94-2.06-.94-.94-2.06-.94 2.06-2.06.94z\"/><path d=\"M17.41 7.96l-1.37-1.37c-.4-.4-.92-.59-1.43-.59-.52 0-1.04.2-1.43.59L10.3 9.45l-7.72 7.72c-.78.78-.78 2.05 0 2.83L4 21.41c.39.39.9.59 1.41.59.51 0 1.02-.2 1.41-.59l7.78-7.78 2.81-2.81c.8-.78.8-2.07 0-2.86zM5.41 20L4 18.59l7.72-7.72 1.47 1.35L5.41 20z\"/>\n",
              "  </svg>\n",
              "      </button>\n",
              "      \n",
              "  <style>\n",
              "    .colab-df-container {\n",
              "      display:flex;\n",
              "      flex-wrap:wrap;\n",
              "      gap: 12px;\n",
              "    }\n",
              "\n",
              "    .colab-df-convert {\n",
              "      background-color: #E8F0FE;\n",
              "      border: none;\n",
              "      border-radius: 50%;\n",
              "      cursor: pointer;\n",
              "      display: none;\n",
              "      fill: #1967D2;\n",
              "      height: 32px;\n",
              "      padding: 0 0 0 0;\n",
              "      width: 32px;\n",
              "    }\n",
              "\n",
              "    .colab-df-convert:hover {\n",
              "      background-color: #E2EBFA;\n",
              "      box-shadow: 0px 1px 2px rgba(60, 64, 67, 0.3), 0px 1px 3px 1px rgba(60, 64, 67, 0.15);\n",
              "      fill: #174EA6;\n",
              "    }\n",
              "\n",
              "    [theme=dark] .colab-df-convert {\n",
              "      background-color: #3B4455;\n",
              "      fill: #D2E3FC;\n",
              "    }\n",
              "\n",
              "    [theme=dark] .colab-df-convert:hover {\n",
              "      background-color: #434B5C;\n",
              "      box-shadow: 0px 1px 3px 1px rgba(0, 0, 0, 0.15);\n",
              "      filter: drop-shadow(0px 1px 2px rgba(0, 0, 0, 0.3));\n",
              "      fill: #FFFFFF;\n",
              "    }\n",
              "  </style>\n",
              "\n",
              "      <script>\n",
              "        const buttonEl =\n",
              "          document.querySelector('#df-59ba0edf-81cf-4e7b-a485-093cde5f336d button.colab-df-convert');\n",
              "        buttonEl.style.display =\n",
              "          google.colab.kernel.accessAllowed ? 'block' : 'none';\n",
              "\n",
              "        async function convertToInteractive(key) {\n",
              "          const element = document.querySelector('#df-59ba0edf-81cf-4e7b-a485-093cde5f336d');\n",
              "          const dataTable =\n",
              "            await google.colab.kernel.invokeFunction('convertToInteractive',\n",
              "                                                     [key], {});\n",
              "          if (!dataTable) return;\n",
              "\n",
              "          const docLinkHtml = 'Like what you see? Visit the ' +\n",
              "            '<a target=\"_blank\" href=https://colab.research.google.com/notebooks/data_table.ipynb>data table notebook</a>'\n",
              "            + ' to learn more about interactive tables.';\n",
              "          element.innerHTML = '';\n",
              "          dataTable['output_type'] = 'display_data';\n",
              "          await google.colab.output.renderOutput(dataTable, element);\n",
              "          const docLink = document.createElement('div');\n",
              "          docLink.innerHTML = docLinkHtml;\n",
              "          element.appendChild(docLink);\n",
              "        }\n",
              "      </script>\n",
              "    </div>\n",
              "  </div>\n",
              "  "
            ],
            "application/vnd.google.colaboratory.module+javascript": "\n      import \"https://ssl.gstatic.com/colaboratory/data_table/f872b2c2305463fd/data_table.js\";\n\n      window.createDataTable({\n        data: [[{\n            'v': 0,\n            'f': \"0\",\n        },\n\"Untitled Julia Roberts/Joan Root Project\",\n{\n            'v': 567842,\n            'f': \"567842\",\n        },\n\"Untitled Julia Roberts/Joan Root Project\",\n{\n            'v': null,\n            'f': \"null\",\n        },\n{\n            'v': 1,\n            'f': \"1\",\n        },\n{\n            'v': 2009,\n            'f': \"2009\",\n        },\n{\n            'v': null,\n            'f': \"null\",\n        },\n\"U5343\",\n{\n            'v': null,\n            'f': \"null\",\n        },\n{\n            'v': null,\n            'f': \"null\",\n        },\n{\n            'v': null,\n            'f': \"null\",\n        },\n{\n            'v': null,\n            'f': \"null\",\n        },\n{\n            'v': 44309348,\n            'f': \"44309348\",\n        }]],\n        columns: [[\"number\", \"index\"], [\"string\", \"title\"], [\"number\", \"id\"], [\"string\", \"title\"], [\"number\", \"imdb_index\"], [\"number\", \"kind_id\"], [\"number\", \"year\"], [\"number\", \"imdb_id\"], [\"string\", \"phonetic_code\"], [\"number\", \"episode_of_id\"], [\"number\", \"season_nr\"], [\"number\", \"episode_nr\"], [\"number\", \"series_years\"], [\"number\", \"__search_id\"]],\n        columnOptions: [{\"width\": \"1px\", \"className\": \"index_column\"}],\n        rowsPerPage: 25,\n        helpUrl: \"https://colab.research.google.com/notebooks/data_table.ipynb\",\n        suppressOutputScrolling: true,\n        minimumWidth: undefined,\n      });\n    "
          },
          "metadata": {}
        },
        {
          "output_type": "stream",
          "name": "stdout",
          "text": [
            "\n"
          ]
        },
        {
          "output_type": "display_data",
          "data": {
            "text/plain": [
              "<IPython.core.display.Markdown object>"
            ],
            "text/markdown": "---"
          },
          "metadata": {}
        },
        {
          "output_type": "display_data",
          "data": {
            "text/plain": [
              "<IPython.core.display.Markdown object>"
            ],
            "text/markdown": "**3rd CJN**:"
          },
          "metadata": {}
        },
        {
          "output_type": "display_data",
          "data": {
            "text/plain": [
              "<IPython.core.display.Markdown object>"
            ],
            "text/markdown": "---"
          },
          "metadata": {}
        },
        {
          "output_type": "stream",
          "name": "stdout",
          "text": [
            "Graph:\n"
          ]
        },
        {
          "output_type": "display_data",
          "data": {
            "text/plain": [
              "<graphviz.dot.Digraph at 0x7f0dfb308c10>"
            ],
            "image/svg+xml": "<?xml version=\"1.0\" encoding=\"UTF-8\" standalone=\"no\"?>\n<!DOCTYPE svg PUBLIC \"-//W3C//DTD SVG 1.1//EN\"\n \"http://www.w3.org/Graphics/SVG/1.1/DTD/svg11.dtd\">\n<!-- Generated by graphviz version 2.40.1 (20161225.0304)\n -->\n<!-- Title: %3 Pages: 1 -->\n<svg width=\"177pt\" height=\"98pt\"\n viewBox=\"0.00 0.00 176.59 98.00\" xmlns=\"http://www.w3.org/2000/svg\" xmlns:xlink=\"http://www.w3.org/1999/xlink\">\n<g id=\"graph0\" class=\"graph\" transform=\"scale(1 1) rotate(0) translate(4 94)\">\n<title>%3</title>\n<polygon fill=\"#ffffff\" stroke=\"transparent\" points=\"-4,4 -4,-94 172.5863,-94 172.5863,4 -4,4\"/>\n<!-- t1 -->\n<g id=\"node1\" class=\"node\">\n<title>t1</title>\n<ellipse fill=\"none\" stroke=\"#000000\" cx=\"84.2931\" cy=\"-72\" rx=\"84.0868\" ry=\"18\"/>\n<text text-anchor=\"middle\" x=\"84.2931\" y=\"-69.8\" font-family=\"Times,serif\" font-size=\"9.00\" fill=\"#000000\">MOVIEINFO.v(info{julia,roberts})</text>\n</g>\n<!-- t2 -->\n<g id=\"node2\" class=\"node\">\n<title>t2</title>\n<ellipse fill=\"none\" stroke=\"#000000\" cx=\"84.2931\" cy=\"-18\" rx=\"51.9231\" ry=\"18\"/>\n<text text-anchor=\"middle\" x=\"84.2931\" y=\"-15.8\" font-family=\"Times,serif\" font-size=\"9.00\" fill=\"#000000\">MOVIE.s(*{films})</text>\n</g>\n<!-- t1&#45;&gt;t2 -->\n<g id=\"edge1\" class=\"edge\">\n<title>t1&#45;&gt;t2</title>\n<path fill=\"none\" stroke=\"#000000\" d=\"M84.2931,-53.7181C84.2931,-50.9911 84.2931,-48.1312 84.2931,-45.2673\"/>\n<polygon fill=\"#000000\" stroke=\"#000000\" points=\"87.4432,-45.2631 84.2931,-36.2631 81.1432,-45.2631 87.4432,-45.2631\"/>\n</g>\n</g>\n</svg>\n"
          },
          "metadata": {}
        },
        {
          "output_type": "display_data",
          "data": {
            "text/plain": [
              "<IPython.core.display.Markdown object>"
            ],
            "text/markdown": "---"
          },
          "metadata": {}
        },
        {
          "output_type": "stream",
          "name": "stdout",
          "text": [
            "JNTs:\n"
          ]
        },
        {
          "output_type": "display_data",
          "data": {
            "text/plain": [
              "       id           title imdb_index  kind_id  year imdb_id phonetic_code  \\\n",
              "0  263267  Kiss the Bride       None        1  2007    None         K2316   \n",
              "1  364762  Ocean's Twelve       None        1  2004    None         O2523   \n",
              "2  364762  Ocean's Twelve       None        1  2004    None         O2523   \n",
              "3  364762  Ocean's Twelve       None        1  2004    None         O2523   \n",
              "4  523654    The Prestige       None        1  2006    None         P6232   \n",
              "\n",
              "  episode_of_id season_nr episode_nr series_years  __search_id  \\\n",
              "0          None      None       None         None     43995987   \n",
              "1          None      None       None         None     44054612   \n",
              "2          None      None       None         None     44054612   \n",
              "3          None      None       None         None     44054612   \n",
              "4          None      None       None         None     44264635   \n",
              "\n",
              "                                                info  \n",
              "0  Stephanie: You totally love him. You want to w...  \n",
              "1  [to Tess while she is pretending to be Julia R...  \n",
              "2  Tess Ocean: [while trying to get through a cro...  \n",
              "3  Tess Ocean: Ma Marcus?::Julia Roberts: Um... N...  \n",
              "4  Julia McCullough: I thought up a name for you:...  "
            ],
            "text/html": [
              "\n",
              "  <div id=\"df-78357edd-3e3a-4226-afff-fd9d55ec0858\">\n",
              "    <div class=\"colab-df-container\">\n",
              "      <div>\n",
              "<style scoped>\n",
              "    .dataframe tbody tr th:only-of-type {\n",
              "        vertical-align: middle;\n",
              "    }\n",
              "\n",
              "    .dataframe tbody tr th {\n",
              "        vertical-align: top;\n",
              "    }\n",
              "\n",
              "    .dataframe thead th {\n",
              "        text-align: right;\n",
              "    }\n",
              "</style>\n",
              "<table border=\"1\" class=\"dataframe\">\n",
              "  <thead>\n",
              "    <tr style=\"text-align: right;\">\n",
              "      <th></th>\n",
              "      <th>id</th>\n",
              "      <th>title</th>\n",
              "      <th>imdb_index</th>\n",
              "      <th>kind_id</th>\n",
              "      <th>year</th>\n",
              "      <th>imdb_id</th>\n",
              "      <th>phonetic_code</th>\n",
              "      <th>episode_of_id</th>\n",
              "      <th>season_nr</th>\n",
              "      <th>episode_nr</th>\n",
              "      <th>series_years</th>\n",
              "      <th>__search_id</th>\n",
              "      <th>info</th>\n",
              "    </tr>\n",
              "  </thead>\n",
              "  <tbody>\n",
              "    <tr>\n",
              "      <th>0</th>\n",
              "      <td>263267</td>\n",
              "      <td>Kiss the Bride</td>\n",
              "      <td>None</td>\n",
              "      <td>1</td>\n",
              "      <td>2007</td>\n",
              "      <td>None</td>\n",
              "      <td>K2316</td>\n",
              "      <td>None</td>\n",
              "      <td>None</td>\n",
              "      <td>None</td>\n",
              "      <td>None</td>\n",
              "      <td>43995987</td>\n",
              "      <td>Stephanie: You totally love him. You want to w...</td>\n",
              "    </tr>\n",
              "    <tr>\n",
              "      <th>1</th>\n",
              "      <td>364762</td>\n",
              "      <td>Ocean's Twelve</td>\n",
              "      <td>None</td>\n",
              "      <td>1</td>\n",
              "      <td>2004</td>\n",
              "      <td>None</td>\n",
              "      <td>O2523</td>\n",
              "      <td>None</td>\n",
              "      <td>None</td>\n",
              "      <td>None</td>\n",
              "      <td>None</td>\n",
              "      <td>44054612</td>\n",
              "      <td>[to Tess while she is pretending to be Julia R...</td>\n",
              "    </tr>\n",
              "    <tr>\n",
              "      <th>2</th>\n",
              "      <td>364762</td>\n",
              "      <td>Ocean's Twelve</td>\n",
              "      <td>None</td>\n",
              "      <td>1</td>\n",
              "      <td>2004</td>\n",
              "      <td>None</td>\n",
              "      <td>O2523</td>\n",
              "      <td>None</td>\n",
              "      <td>None</td>\n",
              "      <td>None</td>\n",
              "      <td>None</td>\n",
              "      <td>44054612</td>\n",
              "      <td>Tess Ocean: [while trying to get through a cro...</td>\n",
              "    </tr>\n",
              "    <tr>\n",
              "      <th>3</th>\n",
              "      <td>364762</td>\n",
              "      <td>Ocean's Twelve</td>\n",
              "      <td>None</td>\n",
              "      <td>1</td>\n",
              "      <td>2004</td>\n",
              "      <td>None</td>\n",
              "      <td>O2523</td>\n",
              "      <td>None</td>\n",
              "      <td>None</td>\n",
              "      <td>None</td>\n",
              "      <td>None</td>\n",
              "      <td>44054612</td>\n",
              "      <td>Tess Ocean: Ma Marcus?::Julia Roberts: Um... N...</td>\n",
              "    </tr>\n",
              "    <tr>\n",
              "      <th>4</th>\n",
              "      <td>523654</td>\n",
              "      <td>The Prestige</td>\n",
              "      <td>None</td>\n",
              "      <td>1</td>\n",
              "      <td>2006</td>\n",
              "      <td>None</td>\n",
              "      <td>P6232</td>\n",
              "      <td>None</td>\n",
              "      <td>None</td>\n",
              "      <td>None</td>\n",
              "      <td>None</td>\n",
              "      <td>44264635</td>\n",
              "      <td>Julia McCullough: I thought up a name for you:...</td>\n",
              "    </tr>\n",
              "  </tbody>\n",
              "</table>\n",
              "</div>\n",
              "      <button class=\"colab-df-convert\" onclick=\"convertToInteractive('df-78357edd-3e3a-4226-afff-fd9d55ec0858')\"\n",
              "              title=\"Convert this dataframe to an interactive table.\"\n",
              "              style=\"display:none;\">\n",
              "        \n",
              "  <svg xmlns=\"http://www.w3.org/2000/svg\" height=\"24px\"viewBox=\"0 0 24 24\"\n",
              "       width=\"24px\">\n",
              "    <path d=\"M0 0h24v24H0V0z\" fill=\"none\"/>\n",
              "    <path d=\"M18.56 5.44l.94 2.06.94-2.06 2.06-.94-2.06-.94-.94-2.06-.94 2.06-2.06.94zm-11 1L8.5 8.5l.94-2.06 2.06-.94-2.06-.94L8.5 2.5l-.94 2.06-2.06.94zm10 10l.94 2.06.94-2.06 2.06-.94-2.06-.94-.94-2.06-.94 2.06-2.06.94z\"/><path d=\"M17.41 7.96l-1.37-1.37c-.4-.4-.92-.59-1.43-.59-.52 0-1.04.2-1.43.59L10.3 9.45l-7.72 7.72c-.78.78-.78 2.05 0 2.83L4 21.41c.39.39.9.59 1.41.59.51 0 1.02-.2 1.41-.59l7.78-7.78 2.81-2.81c.8-.78.8-2.07 0-2.86zM5.41 20L4 18.59l7.72-7.72 1.47 1.35L5.41 20z\"/>\n",
              "  </svg>\n",
              "      </button>\n",
              "      \n",
              "  <style>\n",
              "    .colab-df-container {\n",
              "      display:flex;\n",
              "      flex-wrap:wrap;\n",
              "      gap: 12px;\n",
              "    }\n",
              "\n",
              "    .colab-df-convert {\n",
              "      background-color: #E8F0FE;\n",
              "      border: none;\n",
              "      border-radius: 50%;\n",
              "      cursor: pointer;\n",
              "      display: none;\n",
              "      fill: #1967D2;\n",
              "      height: 32px;\n",
              "      padding: 0 0 0 0;\n",
              "      width: 32px;\n",
              "    }\n",
              "\n",
              "    .colab-df-convert:hover {\n",
              "      background-color: #E2EBFA;\n",
              "      box-shadow: 0px 1px 2px rgba(60, 64, 67, 0.3), 0px 1px 3px 1px rgba(60, 64, 67, 0.15);\n",
              "      fill: #174EA6;\n",
              "    }\n",
              "\n",
              "    [theme=dark] .colab-df-convert {\n",
              "      background-color: #3B4455;\n",
              "      fill: #D2E3FC;\n",
              "    }\n",
              "\n",
              "    [theme=dark] .colab-df-convert:hover {\n",
              "      background-color: #434B5C;\n",
              "      box-shadow: 0px 1px 3px 1px rgba(0, 0, 0, 0.15);\n",
              "      filter: drop-shadow(0px 1px 2px rgba(0, 0, 0, 0.3));\n",
              "      fill: #FFFFFF;\n",
              "    }\n",
              "  </style>\n",
              "\n",
              "      <script>\n",
              "        const buttonEl =\n",
              "          document.querySelector('#df-78357edd-3e3a-4226-afff-fd9d55ec0858 button.colab-df-convert');\n",
              "        buttonEl.style.display =\n",
              "          google.colab.kernel.accessAllowed ? 'block' : 'none';\n",
              "\n",
              "        async function convertToInteractive(key) {\n",
              "          const element = document.querySelector('#df-78357edd-3e3a-4226-afff-fd9d55ec0858');\n",
              "          const dataTable =\n",
              "            await google.colab.kernel.invokeFunction('convertToInteractive',\n",
              "                                                     [key], {});\n",
              "          if (!dataTable) return;\n",
              "\n",
              "          const docLinkHtml = 'Like what you see? Visit the ' +\n",
              "            '<a target=\"_blank\" href=https://colab.research.google.com/notebooks/data_table.ipynb>data table notebook</a>'\n",
              "            + ' to learn more about interactive tables.';\n",
              "          element.innerHTML = '';\n",
              "          dataTable['output_type'] = 'display_data';\n",
              "          await google.colab.output.renderOutput(dataTable, element);\n",
              "          const docLink = document.createElement('div');\n",
              "          docLink.innerHTML = docLinkHtml;\n",
              "          element.appendChild(docLink);\n",
              "        }\n",
              "      </script>\n",
              "    </div>\n",
              "  </div>\n",
              "  "
            ],
            "application/vnd.google.colaboratory.module+javascript": "\n      import \"https://ssl.gstatic.com/colaboratory/data_table/f872b2c2305463fd/data_table.js\";\n\n      window.createDataTable({\n        data: [[{\n            'v': 0,\n            'f': \"0\",\n        },\n{\n            'v': 263267,\n            'f': \"263267\",\n        },\n\"Kiss the Bride\",\n{\n            'v': null,\n            'f': \"null\",\n        },\n{\n            'v': 1,\n            'f': \"1\",\n        },\n{\n            'v': 2007,\n            'f': \"2007\",\n        },\n{\n            'v': null,\n            'f': \"null\",\n        },\n\"K2316\",\n{\n            'v': null,\n            'f': \"null\",\n        },\n{\n            'v': null,\n            'f': \"null\",\n        },\n{\n            'v': null,\n            'f': \"null\",\n        },\n{\n            'v': null,\n            'f': \"null\",\n        },\n{\n            'v': 43995987,\n            'f': \"43995987\",\n        },\n\"Stephanie: You totally love him. You want to wreck the wedding and steal him for yourself. You are so Julia Roberts in \\\"My Best Friend's Wedding\\\" right now.\"],\n [{\n            'v': 1,\n            'f': \"1\",\n        },\n{\n            'v': 364762,\n            'f': \"364762\",\n        },\n\"Ocean's Twelve\",\n{\n            'v': null,\n            'f': \"null\",\n        },\n{\n            'v': 1,\n            'f': \"1\",\n        },\n{\n            'v': 2004,\n            'f': \"2004\",\n        },\n{\n            'v': null,\n            'f': \"null\",\n        },\n\"O2523\",\n{\n            'v': null,\n            'f': \"null\",\n        },\n{\n            'v': null,\n            'f': \"null\",\n        },\n{\n            'v': null,\n            'f': \"null\",\n        },\n{\n            'v': null,\n            'f': \"null\",\n        },\n{\n            'v': 44054612,\n            'f': \"44054612\",\n        },\n\"[to Tess while she is pretending to be Julia Roberts and is surrounded by photographers]::Linus Caldwell: Protect your fake baby, protect your fake baby!\"],\n [{\n            'v': 2,\n            'f': \"2\",\n        },\n{\n            'v': 364762,\n            'f': \"364762\",\n        },\n\"Ocean's Twelve\",\n{\n            'v': null,\n            'f': \"null\",\n        },\n{\n            'v': 1,\n            'f': \"1\",\n        },\n{\n            'v': 2004,\n            'f': \"2004\",\n        },\n{\n            'v': null,\n            'f': \"null\",\n        },\n\"O2523\",\n{\n            'v': null,\n            'f': \"null\",\n        },\n{\n            'v': null,\n            'f': \"null\",\n        },\n{\n            'v': null,\n            'f': \"null\",\n        },\n{\n            'v': null,\n            'f': \"null\",\n        },\n{\n            'v': 44054612,\n            'f': \"44054612\",\n        },\n\"Tess Ocean: [while trying to get through a crowd of fans thinking she's Julia Roberts] How is this going to get Danny out?::Linus Caldwell: We need someone famous.::Tess Ocean: Why didn't you get someone famous?::Linus Caldwell: Just think Four Weddings and a Funeral.::Tess Ocean: [rather bewildered] She wasn't in Four Weddings and a Funeral.::Linus Caldwell: 'I'. 'I wasn't in Four Weddings and a Funeral'! Just protect your fake baby!\"],\n [{\n            'v': 3,\n            'f': \"3\",\n        },\n{\n            'v': 364762,\n            'f': \"364762\",\n        },\n\"Ocean's Twelve\",\n{\n            'v': null,\n            'f': \"null\",\n        },\n{\n            'v': 1,\n            'f': \"1\",\n        },\n{\n            'v': 2004,\n            'f': \"2004\",\n        },\n{\n            'v': null,\n            'f': \"null\",\n        },\n\"O2523\",\n{\n            'v': null,\n            'f': \"null\",\n        },\n{\n            'v': null,\n            'f': \"null\",\n        },\n{\n            'v': null,\n            'f': \"null\",\n        },\n{\n            'v': null,\n            'f': \"null\",\n        },\n{\n            'v': 44054612,\n            'f': \"44054612\",\n        },\n\"Tess Ocean: Ma Marcus?::Julia Roberts: Um... No it's Julia.::Tess Ocean: um... oh... Hello Julia... it's ah... Julia.\"],\n [{\n            'v': 4,\n            'f': \"4\",\n        },\n{\n            'v': 523654,\n            'f': \"523654\",\n        },\n\"The Prestige\",\n{\n            'v': null,\n            'f': \"null\",\n        },\n{\n            'v': 1,\n            'f': \"1\",\n        },\n{\n            'v': 2006,\n            'f': \"2006\",\n        },\n{\n            'v': null,\n            'f': \"null\",\n        },\n\"P6232\",\n{\n            'v': null,\n            'f': \"null\",\n        },\n{\n            'v': null,\n            'f': \"null\",\n        },\n{\n            'v': null,\n            'f': \"null\",\n        },\n{\n            'v': null,\n            'f': \"null\",\n        },\n{\n            'v': 44264635,\n            'f': \"44264635\",\n        },\n\"Julia McCullough: I thought up a name for you: The Great Danton. Do you like it? It's sophisticated.::Robert Angier: [scoffs] It's French.\"]],\n        columns: [[\"number\", \"index\"], [\"number\", \"id\"], [\"string\", \"title\"], [\"number\", \"imdb_index\"], [\"number\", \"kind_id\"], [\"number\", \"year\"], [\"number\", \"imdb_id\"], [\"string\", \"phonetic_code\"], [\"number\", \"episode_of_id\"], [\"number\", \"season_nr\"], [\"number\", \"episode_nr\"], [\"number\", \"series_years\"], [\"number\", \"__search_id\"], [\"string\", \"info\"]],\n        columnOptions: [{\"width\": \"1px\", \"className\": \"index_column\"}],\n        rowsPerPage: 25,\n        helpUrl: \"https://colab.research.google.com/notebooks/data_table.ipynb\",\n        suppressOutputScrolling: true,\n        minimumWidth: undefined,\n      });\n    "
          },
          "metadata": {}
        },
        {
          "output_type": "stream",
          "name": "stdout",
          "text": [
            "\n"
          ]
        },
        {
          "output_type": "display_data",
          "data": {
            "text/plain": [
              "<IPython.core.display.Markdown object>"
            ],
            "text/markdown": "---"
          },
          "metadata": {}
        },
        {
          "output_type": "display_data",
          "data": {
            "text/plain": [
              "<IPython.core.display.Markdown object>"
            ],
            "text/markdown": "**4th CJN**:"
          },
          "metadata": {}
        },
        {
          "output_type": "display_data",
          "data": {
            "text/plain": [
              "<IPython.core.display.Markdown object>"
            ],
            "text/markdown": "---"
          },
          "metadata": {}
        },
        {
          "output_type": "stream",
          "name": "stdout",
          "text": [
            "Graph:\n"
          ]
        },
        {
          "output_type": "display_data",
          "data": {
            "text/plain": [
              "<graphviz.dot.Digraph at 0x7f0dfb57b1d0>"
            ],
            "image/svg+xml": "<?xml version=\"1.0\" encoding=\"UTF-8\" standalone=\"no\"?>\n<!DOCTYPE svg PUBLIC \"-//W3C//DTD SVG 1.1//EN\"\n \"http://www.w3.org/Graphics/SVG/1.1/DTD/svg11.dtd\">\n<!-- Generated by graphviz version 2.40.1 (20161225.0304)\n -->\n<!-- Title: %3 Pages: 1 -->\n<svg width=\"399pt\" height=\"98pt\"\n viewBox=\"0.00 0.00 399.33 98.00\" xmlns=\"http://www.w3.org/2000/svg\" xmlns:xlink=\"http://www.w3.org/1999/xlink\">\n<g id=\"graph0\" class=\"graph\" transform=\"scale(1 1) rotate(0) translate(4 94)\">\n<title>%3</title>\n<polygon fill=\"#ffffff\" stroke=\"transparent\" points=\"-4,4 -4,-94 395.3265,-94 395.3265,4 -4,4\"/>\n<!-- t1 -->\n<g id=\"node1\" class=\"node\">\n<title>t1</title>\n<ellipse fill=\"none\" stroke=\"#000000\" cx=\"61.7765\" cy=\"-18\" rx=\"61.5538\" ry=\"18\"/>\n<text text-anchor=\"middle\" x=\"61.7765\" y=\"-15.8\" font-family=\"Times,serif\" font-size=\"9.00\" fill=\"#000000\">PERSON.v(name{julia})</text>\n</g>\n<!-- t2 -->\n<g id=\"node2\" class=\"node\">\n<title>t2</title>\n<ellipse fill=\"none\" stroke=\"#000000\" cx=\"137.7765\" cy=\"-72\" rx=\"32.1641\" ry=\"18\"/>\n<text text-anchor=\"middle\" x=\"137.7765\" y=\"-69.8\" font-family=\"Times,serif\" font-size=\"9.00\" fill=\"#000000\">CASTING</text>\n</g>\n<!-- t2&#45;&gt;t1 -->\n<g id=\"edge2\" class=\"edge\">\n<title>t2&#45;&gt;t1</title>\n<path fill=\"none\" stroke=\"#000000\" d=\"M117.8084,-57.8121C110.1986,-52.4052 101.3328,-46.1058 92.929,-40.1347\"/>\n<polygon fill=\"#000000\" stroke=\"#000000\" points=\"94.5517,-37.4235 85.3905,-34.7784 90.9026,-42.5591 94.5517,-37.4235\"/>\n</g>\n<!-- t3 -->\n<g id=\"node3\" class=\"node\">\n<title>t3</title>\n<ellipse fill=\"none\" stroke=\"#000000\" cx=\"189.7765\" cy=\"-18\" rx=\"51.9231\" ry=\"18\"/>\n<text text-anchor=\"middle\" x=\"189.7765\" y=\"-15.8\" font-family=\"Times,serif\" font-size=\"9.00\" fill=\"#000000\">MOVIE.s(*{films})</text>\n</g>\n<!-- t2&#45;&gt;t3 -->\n<g id=\"edge1\" class=\"edge\">\n<title>t2&#45;&gt;t3</title>\n<path fill=\"none\" stroke=\"#000000\" d=\"M153.0969,-56.0903C157.4634,-51.5559 162.3162,-46.5164 167.0247,-41.6269\"/>\n<polygon fill=\"#000000\" stroke=\"#000000\" points=\"169.3228,-43.7816 173.2966,-35.1138 164.7847,-39.4117 169.3228,-43.7816\"/>\n</g>\n<!-- t4 -->\n<g id=\"node4\" class=\"node\">\n<title>t4</title>\n<ellipse fill=\"none\" stroke=\"#000000\" cx=\"240.7765\" cy=\"-72\" rx=\"32.1641\" ry=\"18\"/>\n<text text-anchor=\"middle\" x=\"240.7765\" y=\"-69.8\" font-family=\"Times,serif\" font-size=\"9.00\" fill=\"#000000\">CASTING</text>\n</g>\n<!-- t4&#45;&gt;t3 -->\n<g id=\"edge4\" class=\"edge\">\n<title>t4&#45;&gt;t3</title>\n<path fill=\"none\" stroke=\"#000000\" d=\"M225.4748,-55.7982C221.3745,-51.4567 216.8529,-46.6692 212.4456,-42.0026\"/>\n<polygon fill=\"#000000\" stroke=\"#000000\" points=\"214.6022,-39.6983 206.1324,-35.3181 210.022,-44.0241 214.6022,-39.6983\"/>\n</g>\n<!-- t5 -->\n<g id=\"node5\" class=\"node\">\n<title>t5</title>\n<ellipse fill=\"none\" stroke=\"#000000\" cx=\"323.7765\" cy=\"-18\" rx=\"67.6\" ry=\"18\"/>\n<text text-anchor=\"middle\" x=\"323.7765\" y=\"-15.8\" font-family=\"Times,serif\" font-size=\"9.00\" fill=\"#000000\">PERSON.v(name{roberts})</text>\n</g>\n<!-- t4&#45;&gt;t5 -->\n<g id=\"edge3\" class=\"edge\">\n<title>t4&#45;&gt;t5</title>\n<path fill=\"none\" stroke=\"#000000\" d=\"M262.151,-58.0937C270.7067,-52.5273 280.7682,-45.9813 290.2521,-39.811\"/>\n<polygon fill=\"#000000\" stroke=\"#000000\" points=\"292.211,-42.2946 298.0371,-34.7461 288.7753,-37.0139 292.211,-42.2946\"/>\n</g>\n</g>\n</svg>\n"
          },
          "metadata": {}
        },
        {
          "output_type": "display_data",
          "data": {
            "text/plain": [
              "<IPython.core.display.Markdown object>"
            ],
            "text/markdown": "---"
          },
          "metadata": {}
        },
        {
          "output_type": "stream",
          "name": "stdout",
          "text": [
            "JNTs:\n"
          ]
        },
        {
          "output_type": "display_data",
          "data": {
            "text/plain": [
              "                name            name      id                   title  \\\n",
              "0     Roberts, Rhoda  Overton, Julia   65006   Bis ans Ende der Welt   \n",
              "1     Ivison, Robert   Verdin, Julia  460479                 Stander   \n",
              "2       Toth, Robert   Rylova, Julia  127273                Deserted   \n",
              "3  Catron, Robert L.   Rhoton, Julia   74474  Breakin' All the Rules   \n",
              "4    Foulkes, Robert   Rhoton, Julia   74474  Breakin' All the Rules   \n",
              "\n",
              "  imdb_index  kind_id  year imdb_id phonetic_code episode_of_id season_nr  \\\n",
              "0       None        1  1991    None         B2525          None      None   \n",
              "1       None        1  2003    None         S3536          None      None   \n",
              "2       None        1  2008    None          D263          None      None   \n",
              "3       None        1  2004    None         B6254          None      None   \n",
              "4       None        1  2004    None         B6254          None      None   \n",
              "\n",
              "  episode_nr series_years  __search_id  \n",
              "0       None         None     43750296  \n",
              "1       None         None     44214350  \n",
              "2       None         None     43897946  \n",
              "3       None         None     43770813  \n",
              "4       None         None     43770813  "
            ],
            "text/html": [
              "\n",
              "  <div id=\"df-725b09da-5a9f-4d9e-ba67-f174f5285c44\">\n",
              "    <div class=\"colab-df-container\">\n",
              "      <div>\n",
              "<style scoped>\n",
              "    .dataframe tbody tr th:only-of-type {\n",
              "        vertical-align: middle;\n",
              "    }\n",
              "\n",
              "    .dataframe tbody tr th {\n",
              "        vertical-align: top;\n",
              "    }\n",
              "\n",
              "    .dataframe thead th {\n",
              "        text-align: right;\n",
              "    }\n",
              "</style>\n",
              "<table border=\"1\" class=\"dataframe\">\n",
              "  <thead>\n",
              "    <tr style=\"text-align: right;\">\n",
              "      <th></th>\n",
              "      <th>name</th>\n",
              "      <th>name</th>\n",
              "      <th>id</th>\n",
              "      <th>title</th>\n",
              "      <th>imdb_index</th>\n",
              "      <th>kind_id</th>\n",
              "      <th>year</th>\n",
              "      <th>imdb_id</th>\n",
              "      <th>phonetic_code</th>\n",
              "      <th>episode_of_id</th>\n",
              "      <th>season_nr</th>\n",
              "      <th>episode_nr</th>\n",
              "      <th>series_years</th>\n",
              "      <th>__search_id</th>\n",
              "    </tr>\n",
              "  </thead>\n",
              "  <tbody>\n",
              "    <tr>\n",
              "      <th>0</th>\n",
              "      <td>Roberts, Rhoda</td>\n",
              "      <td>Overton, Julia</td>\n",
              "      <td>65006</td>\n",
              "      <td>Bis ans Ende der Welt</td>\n",
              "      <td>None</td>\n",
              "      <td>1</td>\n",
              "      <td>1991</td>\n",
              "      <td>None</td>\n",
              "      <td>B2525</td>\n",
              "      <td>None</td>\n",
              "      <td>None</td>\n",
              "      <td>None</td>\n",
              "      <td>None</td>\n",
              "      <td>43750296</td>\n",
              "    </tr>\n",
              "    <tr>\n",
              "      <th>1</th>\n",
              "      <td>Ivison, Robert</td>\n",
              "      <td>Verdin, Julia</td>\n",
              "      <td>460479</td>\n",
              "      <td>Stander</td>\n",
              "      <td>None</td>\n",
              "      <td>1</td>\n",
              "      <td>2003</td>\n",
              "      <td>None</td>\n",
              "      <td>S3536</td>\n",
              "      <td>None</td>\n",
              "      <td>None</td>\n",
              "      <td>None</td>\n",
              "      <td>None</td>\n",
              "      <td>44214350</td>\n",
              "    </tr>\n",
              "    <tr>\n",
              "      <th>2</th>\n",
              "      <td>Toth, Robert</td>\n",
              "      <td>Rylova, Julia</td>\n",
              "      <td>127273</td>\n",
              "      <td>Deserted</td>\n",
              "      <td>None</td>\n",
              "      <td>1</td>\n",
              "      <td>2008</td>\n",
              "      <td>None</td>\n",
              "      <td>D263</td>\n",
              "      <td>None</td>\n",
              "      <td>None</td>\n",
              "      <td>None</td>\n",
              "      <td>None</td>\n",
              "      <td>43897946</td>\n",
              "    </tr>\n",
              "    <tr>\n",
              "      <th>3</th>\n",
              "      <td>Catron, Robert L.</td>\n",
              "      <td>Rhoton, Julia</td>\n",
              "      <td>74474</td>\n",
              "      <td>Breakin' All the Rules</td>\n",
              "      <td>None</td>\n",
              "      <td>1</td>\n",
              "      <td>2004</td>\n",
              "      <td>None</td>\n",
              "      <td>B6254</td>\n",
              "      <td>None</td>\n",
              "      <td>None</td>\n",
              "      <td>None</td>\n",
              "      <td>None</td>\n",
              "      <td>43770813</td>\n",
              "    </tr>\n",
              "    <tr>\n",
              "      <th>4</th>\n",
              "      <td>Foulkes, Robert</td>\n",
              "      <td>Rhoton, Julia</td>\n",
              "      <td>74474</td>\n",
              "      <td>Breakin' All the Rules</td>\n",
              "      <td>None</td>\n",
              "      <td>1</td>\n",
              "      <td>2004</td>\n",
              "      <td>None</td>\n",
              "      <td>B6254</td>\n",
              "      <td>None</td>\n",
              "      <td>None</td>\n",
              "      <td>None</td>\n",
              "      <td>None</td>\n",
              "      <td>43770813</td>\n",
              "    </tr>\n",
              "  </tbody>\n",
              "</table>\n",
              "</div>\n",
              "      <button class=\"colab-df-convert\" onclick=\"convertToInteractive('df-725b09da-5a9f-4d9e-ba67-f174f5285c44')\"\n",
              "              title=\"Convert this dataframe to an interactive table.\"\n",
              "              style=\"display:none;\">\n",
              "        \n",
              "  <svg xmlns=\"http://www.w3.org/2000/svg\" height=\"24px\"viewBox=\"0 0 24 24\"\n",
              "       width=\"24px\">\n",
              "    <path d=\"M0 0h24v24H0V0z\" fill=\"none\"/>\n",
              "    <path d=\"M18.56 5.44l.94 2.06.94-2.06 2.06-.94-2.06-.94-.94-2.06-.94 2.06-2.06.94zm-11 1L8.5 8.5l.94-2.06 2.06-.94-2.06-.94L8.5 2.5l-.94 2.06-2.06.94zm10 10l.94 2.06.94-2.06 2.06-.94-2.06-.94-.94-2.06-.94 2.06-2.06.94z\"/><path d=\"M17.41 7.96l-1.37-1.37c-.4-.4-.92-.59-1.43-.59-.52 0-1.04.2-1.43.59L10.3 9.45l-7.72 7.72c-.78.78-.78 2.05 0 2.83L4 21.41c.39.39.9.59 1.41.59.51 0 1.02-.2 1.41-.59l7.78-7.78 2.81-2.81c.8-.78.8-2.07 0-2.86zM5.41 20L4 18.59l7.72-7.72 1.47 1.35L5.41 20z\"/>\n",
              "  </svg>\n",
              "      </button>\n",
              "      \n",
              "  <style>\n",
              "    .colab-df-container {\n",
              "      display:flex;\n",
              "      flex-wrap:wrap;\n",
              "      gap: 12px;\n",
              "    }\n",
              "\n",
              "    .colab-df-convert {\n",
              "      background-color: #E8F0FE;\n",
              "      border: none;\n",
              "      border-radius: 50%;\n",
              "      cursor: pointer;\n",
              "      display: none;\n",
              "      fill: #1967D2;\n",
              "      height: 32px;\n",
              "      padding: 0 0 0 0;\n",
              "      width: 32px;\n",
              "    }\n",
              "\n",
              "    .colab-df-convert:hover {\n",
              "      background-color: #E2EBFA;\n",
              "      box-shadow: 0px 1px 2px rgba(60, 64, 67, 0.3), 0px 1px 3px 1px rgba(60, 64, 67, 0.15);\n",
              "      fill: #174EA6;\n",
              "    }\n",
              "\n",
              "    [theme=dark] .colab-df-convert {\n",
              "      background-color: #3B4455;\n",
              "      fill: #D2E3FC;\n",
              "    }\n",
              "\n",
              "    [theme=dark] .colab-df-convert:hover {\n",
              "      background-color: #434B5C;\n",
              "      box-shadow: 0px 1px 3px 1px rgba(0, 0, 0, 0.15);\n",
              "      filter: drop-shadow(0px 1px 2px rgba(0, 0, 0, 0.3));\n",
              "      fill: #FFFFFF;\n",
              "    }\n",
              "  </style>\n",
              "\n",
              "      <script>\n",
              "        const buttonEl =\n",
              "          document.querySelector('#df-725b09da-5a9f-4d9e-ba67-f174f5285c44 button.colab-df-convert');\n",
              "        buttonEl.style.display =\n",
              "          google.colab.kernel.accessAllowed ? 'block' : 'none';\n",
              "\n",
              "        async function convertToInteractive(key) {\n",
              "          const element = document.querySelector('#df-725b09da-5a9f-4d9e-ba67-f174f5285c44');\n",
              "          const dataTable =\n",
              "            await google.colab.kernel.invokeFunction('convertToInteractive',\n",
              "                                                     [key], {});\n",
              "          if (!dataTable) return;\n",
              "\n",
              "          const docLinkHtml = 'Like what you see? Visit the ' +\n",
              "            '<a target=\"_blank\" href=https://colab.research.google.com/notebooks/data_table.ipynb>data table notebook</a>'\n",
              "            + ' to learn more about interactive tables.';\n",
              "          element.innerHTML = '';\n",
              "          dataTable['output_type'] = 'display_data';\n",
              "          await google.colab.output.renderOutput(dataTable, element);\n",
              "          const docLink = document.createElement('div');\n",
              "          docLink.innerHTML = docLinkHtml;\n",
              "          element.appendChild(docLink);\n",
              "        }\n",
              "      </script>\n",
              "    </div>\n",
              "  </div>\n",
              "  "
            ],
            "application/vnd.google.colaboratory.module+javascript": "\n      import \"https://ssl.gstatic.com/colaboratory/data_table/f872b2c2305463fd/data_table.js\";\n\n      window.createDataTable({\n        data: [[{\n            'v': 0,\n            'f': \"0\",\n        },\n\"Roberts, Rhoda\",\n\"Overton, Julia\",\n{\n            'v': 65006,\n            'f': \"65006\",\n        },\n\"Bis ans Ende der Welt\",\n{\n            'v': null,\n            'f': \"null\",\n        },\n{\n            'v': 1,\n            'f': \"1\",\n        },\n{\n            'v': 1991,\n            'f': \"1991\",\n        },\n{\n            'v': null,\n            'f': \"null\",\n        },\n\"B2525\",\n{\n            'v': null,\n            'f': \"null\",\n        },\n{\n            'v': null,\n            'f': \"null\",\n        },\n{\n            'v': null,\n            'f': \"null\",\n        },\n{\n            'v': null,\n            'f': \"null\",\n        },\n{\n            'v': 43750296,\n            'f': \"43750296\",\n        }],\n [{\n            'v': 1,\n            'f': \"1\",\n        },\n\"Ivison, Robert\",\n\"Verdin, Julia\",\n{\n            'v': 460479,\n            'f': \"460479\",\n        },\n\"Stander\",\n{\n            'v': null,\n            'f': \"null\",\n        },\n{\n            'v': 1,\n            'f': \"1\",\n        },\n{\n            'v': 2003,\n            'f': \"2003\",\n        },\n{\n            'v': null,\n            'f': \"null\",\n        },\n\"S3536\",\n{\n            'v': null,\n            'f': \"null\",\n        },\n{\n            'v': null,\n            'f': \"null\",\n        },\n{\n            'v': null,\n            'f': \"null\",\n        },\n{\n            'v': null,\n            'f': \"null\",\n        },\n{\n            'v': 44214350,\n            'f': \"44214350\",\n        }],\n [{\n            'v': 2,\n            'f': \"2\",\n        },\n\"Toth, Robert\",\n\"Rylova, Julia\",\n{\n            'v': 127273,\n            'f': \"127273\",\n        },\n\"Deserted\",\n{\n            'v': null,\n            'f': \"null\",\n        },\n{\n            'v': 1,\n            'f': \"1\",\n        },\n{\n            'v': 2008,\n            'f': \"2008\",\n        },\n{\n            'v': null,\n            'f': \"null\",\n        },\n\"D263\",\n{\n            'v': null,\n            'f': \"null\",\n        },\n{\n            'v': null,\n            'f': \"null\",\n        },\n{\n            'v': null,\n            'f': \"null\",\n        },\n{\n            'v': null,\n            'f': \"null\",\n        },\n{\n            'v': 43897946,\n            'f': \"43897946\",\n        }],\n [{\n            'v': 3,\n            'f': \"3\",\n        },\n\"Catron, Robert L.\",\n\"Rhoton, Julia\",\n{\n            'v': 74474,\n            'f': \"74474\",\n        },\n\"Breakin' All the Rules\",\n{\n            'v': null,\n            'f': \"null\",\n        },\n{\n            'v': 1,\n            'f': \"1\",\n        },\n{\n            'v': 2004,\n            'f': \"2004\",\n        },\n{\n            'v': null,\n            'f': \"null\",\n        },\n\"B6254\",\n{\n            'v': null,\n            'f': \"null\",\n        },\n{\n            'v': null,\n            'f': \"null\",\n        },\n{\n            'v': null,\n            'f': \"null\",\n        },\n{\n            'v': null,\n            'f': \"null\",\n        },\n{\n            'v': 43770813,\n            'f': \"43770813\",\n        }],\n [{\n            'v': 4,\n            'f': \"4\",\n        },\n\"Foulkes, Robert\",\n\"Rhoton, Julia\",\n{\n            'v': 74474,\n            'f': \"74474\",\n        },\n\"Breakin' All the Rules\",\n{\n            'v': null,\n            'f': \"null\",\n        },\n{\n            'v': 1,\n            'f': \"1\",\n        },\n{\n            'v': 2004,\n            'f': \"2004\",\n        },\n{\n            'v': null,\n            'f': \"null\",\n        },\n\"B6254\",\n{\n            'v': null,\n            'f': \"null\",\n        },\n{\n            'v': null,\n            'f': \"null\",\n        },\n{\n            'v': null,\n            'f': \"null\",\n        },\n{\n            'v': null,\n            'f': \"null\",\n        },\n{\n            'v': 43770813,\n            'f': \"43770813\",\n        }]],\n        columns: [[\"number\", \"index\"], [\"string\", \"name\"], [\"string\", \"name\"], [\"number\", \"id\"], [\"string\", \"title\"], [\"number\", \"imdb_index\"], [\"number\", \"kind_id\"], [\"number\", \"year\"], [\"number\", \"imdb_id\"], [\"string\", \"phonetic_code\"], [\"number\", \"episode_of_id\"], [\"number\", \"season_nr\"], [\"number\", \"episode_nr\"], [\"number\", \"series_years\"], [\"number\", \"__search_id\"]],\n        columnOptions: [{\"width\": \"1px\", \"className\": \"index_column\"}],\n        rowsPerPage: 25,\n        helpUrl: \"https://colab.research.google.com/notebooks/data_table.ipynb\",\n        suppressOutputScrolling: true,\n        minimumWidth: undefined,\n      });\n    "
          },
          "metadata": {}
        },
        {
          "output_type": "stream",
          "name": "stdout",
          "text": [
            "\n"
          ]
        },
        {
          "output_type": "display_data",
          "data": {
            "text/plain": [
              "<IPython.core.display.Markdown object>"
            ],
            "text/markdown": "---"
          },
          "metadata": {}
        },
        {
          "output_type": "display_data",
          "data": {
            "text/plain": [
              "<IPython.core.display.Markdown object>"
            ],
            "text/markdown": "**5th CJN**:"
          },
          "metadata": {}
        },
        {
          "output_type": "display_data",
          "data": {
            "text/plain": [
              "<IPython.core.display.Markdown object>"
            ],
            "text/markdown": "---"
          },
          "metadata": {}
        },
        {
          "output_type": "stream",
          "name": "stdout",
          "text": [
            "Graph:\n"
          ]
        },
        {
          "output_type": "display_data",
          "data": {
            "text/plain": [
              "<graphviz.dot.Digraph at 0x7f0e0aea6b50>"
            ],
            "image/svg+xml": "<?xml version=\"1.0\" encoding=\"UTF-8\" standalone=\"no\"?>\n<!DOCTYPE svg PUBLIC \"-//W3C//DTD SVG 1.1//EN\"\n \"http://www.w3.org/Graphics/SVG/1.1/DTD/svg11.dtd\">\n<!-- Generated by graphviz version 2.40.1 (20161225.0304)\n -->\n<!-- Title: %3 Pages: 1 -->\n<svg width=\"292pt\" height=\"98pt\"\n viewBox=\"0.00 0.00 291.52 98.00\" xmlns=\"http://www.w3.org/2000/svg\" xmlns:xlink=\"http://www.w3.org/1999/xlink\">\n<g id=\"graph0\" class=\"graph\" transform=\"scale(1 1) rotate(0) translate(4 94)\">\n<title>%3</title>\n<polygon fill=\"#ffffff\" stroke=\"transparent\" points=\"-4,4 -4,-94 287.5226,-94 287.5226,4 -4,4\"/>\n<!-- t1 -->\n<g id=\"node1\" class=\"node\">\n<title>t1</title>\n<ellipse fill=\"none\" stroke=\"#000000\" cx=\"77.3649\" cy=\"-18\" rx=\"77.2301\" ry=\"18\"/>\n<text text-anchor=\"middle\" x=\"77.3649\" y=\"-15.8\" font-family=\"Times,serif\" font-size=\"9.00\" fill=\"#000000\">PERSON.v(name{julia,roberts})</text>\n</g>\n<!-- t2 -->\n<g id=\"node2\" class=\"node\">\n<title>t2</title>\n<ellipse fill=\"none\" stroke=\"#000000\" cx=\"151.3649\" cy=\"-72\" rx=\"32.1641\" ry=\"18\"/>\n<text text-anchor=\"middle\" x=\"151.3649\" y=\"-69.8\" font-family=\"Times,serif\" font-size=\"9.00\" fill=\"#000000\">CASTING</text>\n</g>\n<!-- t2&#45;&gt;t1 -->\n<g id=\"edge1\" class=\"edge\">\n<title>t2&#45;&gt;t1</title>\n<path fill=\"none\" stroke=\"#000000\" d=\"M131.5343,-57.529C124.4703,-52.3742 116.3335,-46.4366 108.549,-40.756\"/>\n<polygon fill=\"#000000\" stroke=\"#000000\" points=\"110.0617,-37.9603 100.9347,-35.1996 106.348,-43.0494 110.0617,-37.9603\"/>\n</g>\n<!-- t3 -->\n<g id=\"node3\" class=\"node\">\n<title>t3</title>\n<ellipse fill=\"none\" stroke=\"#000000\" cx=\"226.3649\" cy=\"-18\" rx=\"57.3158\" ry=\"18\"/>\n<text text-anchor=\"middle\" x=\"226.3649\" y=\"-15.8\" font-family=\"Times,serif\" font-size=\"9.00\" fill=\"#000000\">MOVIE.v(title{films})</text>\n</g>\n<!-- t2&#45;&gt;t3 -->\n<g id=\"edge2\" class=\"edge\">\n<title>t2&#45;&gt;t3</title>\n<path fill=\"none\" stroke=\"#000000\" d=\"M171.4636,-57.529C178.9715,-52.1233 187.6751,-45.8567 195.9088,-39.9284\"/>\n<polygon fill=\"#000000\" stroke=\"#000000\" points=\"197.8272,-42.4288 203.2905,-34.6136 194.1461,-37.3161 197.8272,-42.4288\"/>\n</g>\n</g>\n</svg>\n"
          },
          "metadata": {}
        },
        {
          "output_type": "display_data",
          "data": {
            "text/plain": [
              "<IPython.core.display.Markdown object>"
            ],
            "text/markdown": "---"
          },
          "metadata": {}
        },
        {
          "output_type": "stream",
          "name": "stdout",
          "text": [
            "JNTs:\n",
            "\tThis void CJN returns no tuples.\n",
            "\n"
          ]
        }
      ]
    },
    {
      "cell_type": "markdown",
      "source": [
        "### Query Matches\n",
        "\n",
        "The function `qms` returns a ranked list of the Query Matches for the keyword query. Each QM is presented as a set of Keyword Matches."
      ],
      "metadata": {
        "id": "kBHjyuQswF4H"
      }
    },
    {
      "cell_type": "code",
      "source": [
        "result.qms()"
      ],
      "metadata": {
        "colab": {
          "base_uri": "https://localhost:8080/",
          "height": 351
        },
        "id": "scMhvLTHFaPc",
        "outputId": "14c3bc08-4042-4ebe-8c67-cc7cbf1e1b21"
      },
      "execution_count": null,
      "outputs": [
        {
          "output_type": "display_data",
          "data": {
            "text/plain": [
              "<IPython.core.display.Markdown object>"
            ],
            "text/markdown": "---"
          },
          "metadata": {}
        },
        {
          "output_type": "display_data",
          "data": {
            "text/plain": [
              "<IPython.core.display.Markdown object>"
            ],
            "text/markdown": "**1st QM**:"
          },
          "metadata": {}
        },
        {
          "output_type": "display_data",
          "data": {
            "text/plain": [
              "<IPython.core.display.Markdown object>"
            ],
            "text/markdown": "---"
          },
          "metadata": {}
        },
        {
          "output_type": "stream",
          "name": "stdout",
          "text": [
            "{PERSON.v(name{julia,roberts}), MOVIE.s(*{films})}\n"
          ]
        },
        {
          "output_type": "display_data",
          "data": {
            "text/plain": [
              "<IPython.core.display.Markdown object>"
            ],
            "text/markdown": "---"
          },
          "metadata": {}
        },
        {
          "output_type": "display_data",
          "data": {
            "text/plain": [
              "<IPython.core.display.Markdown object>"
            ],
            "text/markdown": "**2nd QM**:"
          },
          "metadata": {}
        },
        {
          "output_type": "display_data",
          "data": {
            "text/plain": [
              "<IPython.core.display.Markdown object>"
            ],
            "text/markdown": "---"
          },
          "metadata": {}
        },
        {
          "output_type": "stream",
          "name": "stdout",
          "text": [
            "{MOVIE.s(*{films}).v(title{julia,roberts})}\n"
          ]
        },
        {
          "output_type": "display_data",
          "data": {
            "text/plain": [
              "<IPython.core.display.Markdown object>"
            ],
            "text/markdown": "---"
          },
          "metadata": {}
        },
        {
          "output_type": "display_data",
          "data": {
            "text/plain": [
              "<IPython.core.display.Markdown object>"
            ],
            "text/markdown": "**3rd QM**:"
          },
          "metadata": {}
        },
        {
          "output_type": "display_data",
          "data": {
            "text/plain": [
              "<IPython.core.display.Markdown object>"
            ],
            "text/markdown": "---"
          },
          "metadata": {}
        },
        {
          "output_type": "stream",
          "name": "stdout",
          "text": [
            "{MOVIEINFO.v(info{julia,roberts}), MOVIE.s(*{films})}\n"
          ]
        },
        {
          "output_type": "display_data",
          "data": {
            "text/plain": [
              "<IPython.core.display.Markdown object>"
            ],
            "text/markdown": "---"
          },
          "metadata": {}
        },
        {
          "output_type": "display_data",
          "data": {
            "text/plain": [
              "<IPython.core.display.Markdown object>"
            ],
            "text/markdown": "**4th QM**:"
          },
          "metadata": {}
        },
        {
          "output_type": "display_data",
          "data": {
            "text/plain": [
              "<IPython.core.display.Markdown object>"
            ],
            "text/markdown": "---"
          },
          "metadata": {}
        },
        {
          "output_type": "stream",
          "name": "stdout",
          "text": [
            "{PERSON.v(name{julia}), MOVIE.s(*{films}), PERSON.v(name{roberts})}\n"
          ]
        },
        {
          "output_type": "display_data",
          "data": {
            "text/plain": [
              "<IPython.core.display.Markdown object>"
            ],
            "text/markdown": "---"
          },
          "metadata": {}
        },
        {
          "output_type": "display_data",
          "data": {
            "text/plain": [
              "<IPython.core.display.Markdown object>"
            ],
            "text/markdown": "**5th QM**:"
          },
          "metadata": {}
        },
        {
          "output_type": "display_data",
          "data": {
            "text/plain": [
              "<IPython.core.display.Markdown object>"
            ],
            "text/markdown": "---"
          },
          "metadata": {}
        },
        {
          "output_type": "stream",
          "name": "stdout",
          "text": [
            "{PERSON.v(name{julia,roberts}), MOVIE.v(title{films})}\n"
          ]
        }
      ]
    },
    {
      "cell_type": "markdown",
      "source": [
        "### Keyword Matches\n",
        "\n",
        "The function `kms` returns two unordered lists, one for the Schema-Keyword Matches and one for Value-Keyword Matches."
      ],
      "metadata": {
        "id": "zcLxI1p0wkcS"
      }
    },
    {
      "cell_type": "code",
      "source": [
        "result.kms()"
      ],
      "metadata": {
        "colab": {
          "base_uri": "https://localhost:8080/",
          "height": 394
        },
        "id": "sipofwKEFdqz",
        "outputId": "c3458b9c-b8f7-47b0-c07a-5ef70f04967d"
      },
      "execution_count": null,
      "outputs": [
        {
          "output_type": "display_data",
          "data": {
            "text/plain": [
              "<IPython.core.display.Markdown object>"
            ],
            "text/markdown": "---"
          },
          "metadata": {}
        },
        {
          "output_type": "display_data",
          "data": {
            "text/plain": [
              "<IPython.core.display.Markdown object>"
            ],
            "text/markdown": "**SKMs**:"
          },
          "metadata": {}
        },
        {
          "output_type": "display_data",
          "data": {
            "text/plain": [
              "<IPython.core.display.Markdown object>"
            ],
            "text/markdown": "---"
          },
          "metadata": {}
        },
        {
          "output_type": "stream",
          "name": "stdout",
          "text": [
            "MOVIE.s(*{films})\n"
          ]
        },
        {
          "output_type": "display_data",
          "data": {
            "text/plain": [
              "<IPython.core.display.Markdown object>"
            ],
            "text/markdown": "---"
          },
          "metadata": {}
        },
        {
          "output_type": "display_data",
          "data": {
            "text/plain": [
              "<IPython.core.display.Markdown object>"
            ],
            "text/markdown": "**VKMs**:"
          },
          "metadata": {}
        },
        {
          "output_type": "display_data",
          "data": {
            "text/plain": [
              "<IPython.core.display.Markdown object>"
            ],
            "text/markdown": "---"
          },
          "metadata": {}
        },
        {
          "output_type": "stream",
          "name": "stdout",
          "text": [
            "PERSON.v(name{julia})\n",
            "CHARACTER.v(name{julia})\n",
            "MOVIEINFO.v(info{julia})\n",
            "MOVIE.v(title{julia})\n",
            "PERSON.v(name{roberts})\n",
            "CHARACTER.v(name{roberts})\n",
            "MOVIEINFO.v(info{roberts})\n",
            "MOVIE.v(title{roberts})\n",
            "CHARACTER.v(name{films})\n",
            "MOVIEINFO.v(info{films})\n",
            "MOVIE.v(title{films})\n",
            "PERSON.v(name{julia,roberts})\n",
            "MOVIEINFO.v(info{julia,roberts})\n",
            "MOVIEINFO.v(info{julia,films})\n",
            "MOVIE.v(title{julia,roberts})\n"
          ]
        }
      ]
    },
    {
      "cell_type": "markdown",
      "source": [
        "### Schema Graph"
      ],
      "metadata": {
        "id": "bXdSBQp5LlYa"
      }
    },
    {
      "cell_type": "markdown",
      "source": [
        "#### IMDb Graph"
      ],
      "metadata": {
        "id": "VRqLi7-jNZW0"
      }
    },
    {
      "cell_type": "code",
      "source": [
        "lathe.change_queryset(1)\n",
        "lathe.load_indexes()\n",
        "\n",
        "lathe.index_handler.schema_graph.show()"
      ],
      "metadata": {
        "colab": {
          "base_uri": "https://localhost:8080/",
          "height": 221
        },
        "id": "Tb_UdxFULsNJ",
        "outputId": "108cd5cb-b2a6-4fd4-8853-cbe4001a1e81"
      },
      "execution_count": null,
      "outputs": [
        {
          "output_type": "stream",
          "name": "stdout",
          "text": [
            "./config/queryset_configs/coffman_imdb_config.json\n",
            "Changed to query set coffman_imdb.\n",
            "Changed to dataset imdb.\n",
            "Graph:\n"
          ]
        },
        {
          "output_type": "display_data",
          "data": {
            "text/plain": [
              "<graphviz.dot.Digraph at 0x7f0dfbaf9090>"
            ],
            "image/svg+xml": "<?xml version=\"1.0\" encoding=\"UTF-8\" standalone=\"no\"?>\n<!DOCTYPE svg PUBLIC \"-//W3C//DTD SVG 1.1//EN\"\n \"http://www.w3.org/Graphics/SVG/1.1/DTD/svg11.dtd\">\n<!-- Generated by graphviz version 2.40.1 (20161225.0304)\n -->\n<!-- Title: %3 Pages: 1 -->\n<svg width=\"272pt\" height=\"98pt\"\n viewBox=\"0.00 0.00 271.60 98.00\" xmlns=\"http://www.w3.org/2000/svg\" xmlns:xlink=\"http://www.w3.org/1999/xlink\">\n<g id=\"graph0\" class=\"graph\" transform=\"scale(1 1) rotate(0) translate(4 94)\">\n<title>%3</title>\n<polygon fill=\"#ffffff\" stroke=\"transparent\" points=\"-4,4 -4,-94 267.5996,-94 267.5996,4 -4,4\"/>\n<!-- casting -->\n<g id=\"node1\" class=\"node\">\n<title>casting</title>\n<ellipse fill=\"none\" stroke=\"#000000\" cx=\"134.5996\" cy=\"-72\" rx=\"27\" ry=\"18\"/>\n<text text-anchor=\"middle\" x=\"134.5996\" y=\"-69.8\" font-family=\"Times,serif\" font-size=\"9.00\" fill=\"#000000\">casting</text>\n</g>\n<!-- movie -->\n<g id=\"node2\" class=\"node\">\n<title>movie</title>\n<ellipse fill=\"none\" stroke=\"#000000\" cx=\"30.5996\" cy=\"-18\" rx=\"27\" ry=\"18\"/>\n<text text-anchor=\"middle\" x=\"30.5996\" y=\"-15.8\" font-family=\"Times,serif\" font-size=\"9.00\" fill=\"#000000\">movie</text>\n</g>\n<!-- casting&#45;&gt;movie -->\n<g id=\"edge2\" class=\"edge\">\n<title>casting&#45;&gt;movie</title>\n<path fill=\"none\" stroke=\"#000000\" d=\"M113.1199,-61.0367C99.2523,-53.9381 80.8342,-44.4717 64.5996,-36 63.0452,-35.1889 61.4522,-34.3549 59.8447,-33.5112\"/>\n<polygon fill=\"#000000\" stroke=\"#000000\" points=\"61.2302,-30.6808 51.7993,-29.2732 58.294,-36.2547 61.2302,-30.6808\"/>\n</g>\n<!-- person -->\n<g id=\"node4\" class=\"node\">\n<title>person</title>\n<ellipse fill=\"none\" stroke=\"#000000\" cx=\"98.5996\" cy=\"-18\" rx=\"27\" ry=\"18\"/>\n<text text-anchor=\"middle\" x=\"98.5996\" y=\"-15.8\" font-family=\"Times,serif\" font-size=\"9.00\" fill=\"#000000\">person</text>\n</g>\n<!-- casting&#45;&gt;person -->\n<g id=\"edge3\" class=\"edge\">\n<title>casting&#45;&gt;person</title>\n<path fill=\"none\" stroke=\"#000000\" d=\"M123.6028,-55.5048C120.863,-51.3951 117.8667,-46.9008 114.9303,-42.4961\"/>\n<polygon fill=\"#000000\" stroke=\"#000000\" points=\"117.3908,-40.508 109.7775,-34.7669 112.1489,-44.0026 117.3908,-40.508\"/>\n</g>\n<!-- character -->\n<g id=\"node5\" class=\"node\">\n<title>character</title>\n<ellipse fill=\"none\" stroke=\"#000000\" cx=\"167.5996\" cy=\"-18\" rx=\"27.9273\" ry=\"18\"/>\n<text text-anchor=\"middle\" x=\"167.5996\" y=\"-15.8\" font-family=\"Times,serif\" font-size=\"9.00\" fill=\"#000000\">character</text>\n</g>\n<!-- casting&#45;&gt;character -->\n<g id=\"edge1\" class=\"edge\">\n<title>casting&#45;&gt;character</title>\n<path fill=\"none\" stroke=\"#000000\" d=\"M144.8601,-55.2101C147.2582,-51.2858 149.8626,-47.0241 152.4241,-42.8325\"/>\n<polygon fill=\"#000000\" stroke=\"#000000\" points=\"155.2265,-44.2877 157.2317,-34.9655 149.8508,-41.0025 155.2265,-44.2877\"/>\n</g>\n<!-- role -->\n<g id=\"node6\" class=\"node\">\n<title>role</title>\n<ellipse fill=\"none\" stroke=\"#000000\" cx=\"236.5996\" cy=\"-18\" rx=\"27\" ry=\"18\"/>\n<text text-anchor=\"middle\" x=\"236.5996\" y=\"-15.8\" font-family=\"Times,serif\" font-size=\"9.00\" fill=\"#000000\">role</text>\n</g>\n<!-- casting&#45;&gt;role -->\n<g id=\"edge4\" class=\"edge\">\n<title>casting&#45;&gt;role</title>\n<path fill=\"none\" stroke=\"#000000\" d=\"M156.2311,-60.548C171.0711,-52.6916 190.9435,-42.1709 207.2143,-33.5569\"/>\n<polygon fill=\"#000000\" stroke=\"#000000\" points=\"208.8687,-36.2453 215.3489,-29.2503 205.921,-30.6774 208.8687,-36.2453\"/>\n</g>\n<!-- movieinfo -->\n<g id=\"node3\" class=\"node\">\n<title>movieinfo</title>\n<ellipse fill=\"none\" stroke=\"#000000\" cx=\"30.5996\" cy=\"-72\" rx=\"30.6995\" ry=\"18\"/>\n<text text-anchor=\"middle\" x=\"30.5996\" y=\"-69.8\" font-family=\"Times,serif\" font-size=\"9.00\" fill=\"#000000\">movieinfo</text>\n</g>\n<!-- movieinfo&#45;&gt;movie -->\n<g id=\"edge5\" class=\"edge\">\n<title>movieinfo&#45;&gt;movie</title>\n<path fill=\"none\" stroke=\"#000000\" d=\"M30.5996,-53.7181C30.5996,-50.9911 30.5996,-48.1312 30.5996,-45.2673\"/>\n<polygon fill=\"#000000\" stroke=\"#000000\" points=\"33.7497,-45.2631 30.5996,-36.2631 27.4497,-45.2631 33.7497,-45.2631\"/>\n</g>\n</g>\n</svg>\n"
          },
          "metadata": {}
        }
      ]
    },
    {
      "cell_type": "markdown",
      "source": [
        "#### MONDIAL Graph"
      ],
      "metadata": {
        "id": "EwLLNTCSNiwl"
      }
    },
    {
      "cell_type": "code",
      "source": [
        "lathe.change_queryset(2)\n",
        "lathe.load_indexes()\n",
        "\n",
        "lathe.index_handler.schema_graph.show()"
      ],
      "metadata": {
        "colab": {
          "base_uri": "https://localhost:8080/",
          "height": 365
        },
        "id": "vg4fb8vXLlvl",
        "outputId": "fe6b3523-34af-421f-f0b6-a49934a85f66"
      },
      "execution_count": null,
      "outputs": [
        {
          "output_type": "stream",
          "name": "stdout",
          "text": [
            "./config/queryset_configs/coffman_mondial_config.json\n",
            "Changed to query set coffman_mondial.\n",
            "Changed to dataset mondial.\n",
            "Graph:\n"
          ]
        },
        {
          "output_type": "display_data",
          "data": {
            "text/plain": [
              "<graphviz.dot.Digraph at 0x7f0dfb88aa10>"
            ],
            "image/svg+xml": "<?xml version=\"1.0\" encoding=\"UTF-8\" standalone=\"no\"?>\n<!DOCTYPE svg PUBLIC \"-//W3C//DTD SVG 1.1//EN\"\n \"http://www.w3.org/Graphics/SVG/1.1/DTD/svg11.dtd\">\n<!-- Generated by graphviz version 2.40.1 (20161225.0304)\n -->\n<!-- Title: %3 Pages: 1 -->\n<svg width=\"861pt\" height=\"206pt\"\n viewBox=\"0.00 0.00 860.67 206.00\" xmlns=\"http://www.w3.org/2000/svg\" xmlns:xlink=\"http://www.w3.org/1999/xlink\">\n<g id=\"graph0\" class=\"graph\" transform=\"scale(1 1) rotate(0) translate(4 202)\">\n<title>%3</title>\n<polygon fill=\"#ffffff\" stroke=\"transparent\" points=\"-4,4 -4,-202 856.6663,-202 856.6663,4 -4,4\"/>\n<!-- borders -->\n<g id=\"node1\" class=\"node\">\n<title>borders</title>\n<ellipse fill=\"none\" stroke=\"#000000\" cx=\"466.2902\" cy=\"-180\" rx=\"27\" ry=\"18\"/>\n<text text-anchor=\"middle\" x=\"466.2902\" y=\"-177.8\" font-family=\"Times,serif\" font-size=\"9.00\" fill=\"#000000\">borders</text>\n</g>\n<!-- country -->\n<g id=\"node2\" class=\"node\">\n<title>country</title>\n<ellipse fill=\"none\" stroke=\"#000000\" cx=\"326.2902\" cy=\"-126\" rx=\"27\" ry=\"18\"/>\n<text text-anchor=\"middle\" x=\"326.2902\" y=\"-123.8\" font-family=\"Times,serif\" font-size=\"9.00\" fill=\"#000000\">country</text>\n</g>\n<!-- borders&#45;&gt;country -->\n<g id=\"edge1\" class=\"edge\">\n<title>borders&#45;&gt;country</title>\n<path fill=\"none\" stroke=\"#000000\" d=\"M445.3251,-168.2335C441.0707,-166.0361 436.5832,-163.8514 432.2902,-162 408.5545,-151.7641 380.8709,-142.447 359.7481,-135.8569\"/>\n<polygon fill=\"#000000\" stroke=\"#000000\" points=\"360.6562,-132.8407 351.1278,-133.2048 358.8036,-138.8621 360.6562,-132.8407\"/>\n</g>\n<!-- city -->\n<g id=\"node3\" class=\"node\">\n<title>city</title>\n<ellipse fill=\"none\" stroke=\"#000000\" cx=\"350.2902\" cy=\"-72\" rx=\"27\" ry=\"18\"/>\n<text text-anchor=\"middle\" x=\"350.2902\" y=\"-69.8\" font-family=\"Times,serif\" font-size=\"9.00\" fill=\"#000000\">city</text>\n</g>\n<!-- country&#45;&gt;city -->\n<g id=\"edge2\" class=\"edge\">\n<title>country&#45;&gt;city</title>\n<path fill=\"none\" stroke=\"#000000\" d=\"M334.016,-108.6168C335.5576,-105.1482 337.2075,-101.4361 338.8436,-97.7549\"/>\n<polygon fill=\"#000000\" stroke=\"#000000\" points=\"341.802,-98.8543 342.5788,-89.3506 336.045,-96.2956 341.802,-98.8543\"/>\n</g>\n<!-- province -->\n<g id=\"node4\" class=\"node\">\n<title>province</title>\n<ellipse fill=\"none\" stroke=\"#000000\" cx=\"350.2902\" cy=\"-18\" rx=\"27.2716\" ry=\"18\"/>\n<text text-anchor=\"middle\" x=\"350.2902\" y=\"-15.8\" font-family=\"Times,serif\" font-size=\"9.00\" fill=\"#000000\">province</text>\n</g>\n<!-- city&#45;&gt;province -->\n<g id=\"edge3\" class=\"edge\">\n<title>city&#45;&gt;province</title>\n<path fill=\"none\" stroke=\"#000000\" d=\"M345.3096,-54.0188C345.1273,-51.0734 345.0375,-47.9663 345.0402,-44.8616\"/>\n<polygon fill=\"#000000\" stroke=\"#000000\" points=\"348.1932,-44.8131 345.3262,-35.719 341.8963,-44.6161 348.1932,-44.8131\"/>\n</g>\n<!-- province&#45;&gt;country -->\n<g id=\"edge5\" class=\"edge\">\n<title>province&#45;&gt;country</title>\n<path fill=\"none\" stroke=\"#000000\" d=\"M332.4181,-31.8732C326.0647,-37.9045 319.6568,-45.5321 316.2902,-54 310.5149,-68.5261 312.6696,-85.8515 316.4324,-99.8665\"/>\n<polygon fill=\"#000000\" stroke=\"#000000\" points=\"313.4367,-100.8423 319.0702,-108.5356 319.4639,-99.0084 313.4367,-100.8423\"/>\n</g>\n<!-- province&#45;&gt;city -->\n<g id=\"edge4\" class=\"edge\">\n<title>province&#45;&gt;city</title>\n<path fill=\"none\" stroke=\"#000000\" d=\"M355.2542,-35.719C355.442,-38.6546 355.5374,-41.7569 355.5401,-44.8616\"/>\n<polygon fill=\"#000000\" stroke=\"#000000\" points=\"352.3868,-44.93 355.2707,-54.0188 358.6841,-45.1153 352.3868,-44.93\"/>\n</g>\n<!-- economy -->\n<g id=\"node5\" class=\"node\">\n<title>economy</title>\n<ellipse fill=\"none\" stroke=\"#000000\" cx=\"28.2902\" cy=\"-180\" rx=\"28.0819\" ry=\"18\"/>\n<text text-anchor=\"middle\" x=\"28.2902\" y=\"-177.8\" font-family=\"Times,serif\" font-size=\"9.00\" fill=\"#000000\">economy</text>\n</g>\n<!-- economy&#45;&gt;country -->\n<g id=\"edge6\" class=\"edge\">\n<title>economy&#45;&gt;country</title>\n<path fill=\"none\" stroke=\"#000000\" d=\"M49.5148,-167.9604C54.2583,-165.6775 59.3504,-163.5286 64.2902,-162 142.5375,-137.7868 238.9611,-129.8379 290.2301,-127.2437\"/>\n<polygon fill=\"#000000\" stroke=\"#000000\" points=\"290.4211,-130.3883 299.2631,-126.8189 290.125,-124.0953 290.4211,-130.3883\"/>\n</g>\n<!-- encompasses -->\n<g id=\"node6\" class=\"node\">\n<title>encompasses</title>\n<ellipse fill=\"none\" stroke=\"#000000\" cx=\"675.2902\" cy=\"-180\" rx=\"36.2466\" ry=\"18\"/>\n<text text-anchor=\"middle\" x=\"675.2902\" y=\"-177.8\" font-family=\"Times,serif\" font-size=\"9.00\" fill=\"#000000\">encompasses</text>\n</g>\n<!-- encompasses&#45;&gt;country -->\n<g id=\"edge7\" class=\"edge\">\n<title>encompasses&#45;&gt;country</title>\n<path fill=\"none\" stroke=\"#000000\" d=\"M641.2762,-173.0494C622.7161,-169.4182 599.3014,-165.0982 578.2902,-162 505.748,-151.3033 486.7316,-155.3593 414.2902,-144 396.6469,-141.2334 377.178,-137.3398 361.0478,-133.8812\"/>\n<polygon fill=\"#000000\" stroke=\"#000000\" points=\"361.4395,-130.7428 351.9754,-131.907 360.0998,-136.8987 361.4395,-130.7428\"/>\n</g>\n<!-- continent -->\n<g id=\"node7\" class=\"node\">\n<title>continent</title>\n<ellipse fill=\"none\" stroke=\"#000000\" cx=\"727.2902\" cy=\"-126\" rx=\"28.0819\" ry=\"18\"/>\n<text text-anchor=\"middle\" x=\"727.2902\" y=\"-123.8\" font-family=\"Times,serif\" font-size=\"9.00\" fill=\"#000000\">continent</text>\n</g>\n<!-- encompasses&#45;&gt;continent -->\n<g id=\"edge8\" class=\"edge\">\n<title>encompasses&#45;&gt;continent</title>\n<path fill=\"none\" stroke=\"#000000\" d=\"M691.1744,-163.5048C695.7741,-158.7283 700.8741,-153.4321 705.7574,-148.361\"/>\n<polygon fill=\"#000000\" stroke=\"#000000\" points=\"708.2409,-150.3232 712.2147,-141.6553 703.7029,-145.9532 708.2409,-150.3232\"/>\n</g>\n<!-- ethnic_group -->\n<g id=\"node8\" class=\"node\">\n<title>ethnic_group</title>\n<ellipse fill=\"none\" stroke=\"#000000\" cx=\"107.2902\" cy=\"-180\" rx=\"36.2466\" ry=\"18\"/>\n<text text-anchor=\"middle\" x=\"107.2902\" y=\"-177.8\" font-family=\"Times,serif\" font-size=\"9.00\" fill=\"#000000\">ethnic_group</text>\n</g>\n<!-- ethnic_group&#45;&gt;country -->\n<g id=\"edge9\" class=\"edge\">\n<title>ethnic_group&#45;&gt;country</title>\n<path fill=\"none\" stroke=\"#000000\" d=\"M134.2917,-167.759C139.5322,-165.6517 145.0313,-163.6216 150.2902,-162 197.8943,-147.3212 254.6102,-136.945 290.5357,-131.2168\"/>\n<polygon fill=\"#000000\" stroke=\"#000000\" points=\"291.2418,-134.2947 299.6474,-129.7927 290.2689,-128.0703 291.2418,-134.2947\"/>\n</g>\n<!-- geo_desert -->\n<g id=\"node9\" class=\"node\">\n<title>geo_desert</title>\n<ellipse fill=\"none\" stroke=\"#000000\" cx=\"169.2902\" cy=\"-72\" rx=\"31.5104\" ry=\"18\"/>\n<text text-anchor=\"middle\" x=\"169.2902\" y=\"-69.8\" font-family=\"Times,serif\" font-size=\"9.00\" fill=\"#000000\">geo_desert</text>\n</g>\n<!-- geo_desert&#45;&gt;province -->\n<g id=\"edge10\" class=\"edge\">\n<title>geo_desert&#45;&gt;province</title>\n<path fill=\"none\" stroke=\"#000000\" d=\"M193.3353,-60.0356C198.2157,-57.8546 203.3639,-55.7264 208.2902,-54 239.8258,-42.9482 248.9002,-44.2177 281.2902,-36 292.6338,-33.122 305.0084,-29.9151 316.1057,-27.0146\"/>\n<polygon fill=\"#000000\" stroke=\"#000000\" points=\"317.1687,-29.9925 325.0764,-24.6642 315.5719,-23.8982 317.1687,-29.9925\"/>\n</g>\n<!-- desert -->\n<g id=\"node10\" class=\"node\">\n<title>desert</title>\n<ellipse fill=\"none\" stroke=\"#000000\" cx=\"169.2902\" cy=\"-18\" rx=\"27\" ry=\"18\"/>\n<text text-anchor=\"middle\" x=\"169.2902\" y=\"-15.8\" font-family=\"Times,serif\" font-size=\"9.00\" fill=\"#000000\">desert</text>\n</g>\n<!-- geo_desert&#45;&gt;desert -->\n<g id=\"edge11\" class=\"edge\">\n<title>geo_desert&#45;&gt;desert</title>\n<path fill=\"none\" stroke=\"#000000\" d=\"M169.2902,-53.7181C169.2902,-50.9911 169.2902,-48.1312 169.2902,-45.2673\"/>\n<polygon fill=\"#000000\" stroke=\"#000000\" points=\"172.4403,-45.2631 169.2902,-36.2631 166.1403,-45.2631 172.4403,-45.2631\"/>\n</g>\n<!-- geo_island -->\n<g id=\"node11\" class=\"node\">\n<title>geo_island</title>\n<ellipse fill=\"none\" stroke=\"#000000\" cx=\"247.2902\" cy=\"-72\" rx=\"31.5104\" ry=\"18\"/>\n<text text-anchor=\"middle\" x=\"247.2902\" y=\"-69.8\" font-family=\"Times,serif\" font-size=\"9.00\" fill=\"#000000\">geo_island</text>\n</g>\n<!-- geo_island&#45;&gt;province -->\n<g id=\"edge12\" class=\"edge\">\n<title>geo_island&#45;&gt;province</title>\n<path fill=\"none\" stroke=\"#000000\" d=\"M270.6625,-59.7466C285.386,-52.0274 304.5341,-41.9886 320.3633,-33.6898\"/>\n<polygon fill=\"#000000\" stroke=\"#000000\" points=\"322.2583,-36.2531 328.7666,-29.2842 319.333,-30.6734 322.2583,-36.2531\"/>\n</g>\n<!-- island -->\n<g id=\"node12\" class=\"node\">\n<title>island</title>\n<ellipse fill=\"none\" stroke=\"#000000\" cx=\"247.2902\" cy=\"-18\" rx=\"27\" ry=\"18\"/>\n<text text-anchor=\"middle\" x=\"247.2902\" y=\"-15.8\" font-family=\"Times,serif\" font-size=\"9.00\" fill=\"#000000\">island</text>\n</g>\n<!-- geo_island&#45;&gt;island -->\n<g id=\"edge13\" class=\"edge\">\n<title>geo_island&#45;&gt;island</title>\n<path fill=\"none\" stroke=\"#000000\" d=\"M247.2902,-53.7181C247.2902,-50.9911 247.2902,-48.1312 247.2902,-45.2673\"/>\n<polygon fill=\"#000000\" stroke=\"#000000\" points=\"250.4403,-45.2631 247.2902,-36.2631 244.1403,-45.2631 250.4403,-45.2631\"/>\n</g>\n<!-- geo_lake -->\n<g id=\"node13\" class=\"node\">\n<title>geo_lake</title>\n<ellipse fill=\"none\" stroke=\"#000000\" cx=\"540.2902\" cy=\"-72\" rx=\"27.9273\" ry=\"18\"/>\n<text text-anchor=\"middle\" x=\"540.2902\" y=\"-69.8\" font-family=\"Times,serif\" font-size=\"9.00\" fill=\"#000000\">geo_lake</text>\n</g>\n<!-- geo_lake&#45;&gt;province -->\n<g id=\"edge14\" class=\"edge\">\n<title>geo_lake&#45;&gt;province</title>\n<path fill=\"none\" stroke=\"#000000\" d=\"M519.4777,-59.8507C515.2107,-57.6849 510.6796,-55.6097 506.2902,-54 471.2593,-41.1535 460.6422,-44.4099 424.2902,-36 411.4589,-33.0315 397.4094,-29.6479 385.0324,-26.6217\"/>\n<polygon fill=\"#000000\" stroke=\"#000000\" points=\"385.433,-23.4766 375.9415,-24.39 383.9309,-29.5949 385.433,-23.4766\"/>\n</g>\n<!-- lake -->\n<g id=\"node14\" class=\"node\">\n<title>lake</title>\n<ellipse fill=\"none\" stroke=\"#000000\" cx=\"658.2902\" cy=\"-18\" rx=\"27\" ry=\"18\"/>\n<text text-anchor=\"middle\" x=\"658.2902\" y=\"-15.8\" font-family=\"Times,serif\" font-size=\"9.00\" fill=\"#000000\">lake</text>\n</g>\n<!-- geo_lake&#45;&gt;lake -->\n<g id=\"edge15\" class=\"edge\">\n<title>geo_lake&#45;&gt;lake</title>\n<path fill=\"none\" stroke=\"#000000\" d=\"M562.0242,-60.5424C566.3913,-58.3196 570.9671,-56.0465 575.2902,-54 592.0231,-46.0789 610.9425,-37.8204 626.4879,-31.2143\"/>\n<polygon fill=\"#000000\" stroke=\"#000000\" points=\"628.1437,-33.9344 635.2088,-27.5307 625.6924,-28.1309 628.1437,-33.9344\"/>\n</g>\n<!-- geo_mountain -->\n<g id=\"node15\" class=\"node\">\n<title>geo_mountain</title>\n<ellipse fill=\"none\" stroke=\"#000000\" cx=\"460.2902\" cy=\"-72\" rx=\"38.8658\" ry=\"18\"/>\n<text text-anchor=\"middle\" x=\"460.2902\" y=\"-69.8\" font-family=\"Times,serif\" font-size=\"9.00\" fill=\"#000000\">geo_mountain</text>\n</g>\n<!-- geo_mountain&#45;&gt;province -->\n<g id=\"edge16\" class=\"edge\">\n<title>geo_mountain&#45;&gt;province</title>\n<path fill=\"none\" stroke=\"#000000\" d=\"M433.6622,-58.9281C417.6352,-51.0603 397.1819,-41.0196 380.545,-32.8524\"/>\n<polygon fill=\"#000000\" stroke=\"#000000\" points=\"381.7036,-29.9121 372.2365,-28.7736 378.9274,-35.5674 381.7036,-29.9121\"/>\n</g>\n<!-- mountain -->\n<g id=\"node16\" class=\"node\">\n<title>mountain</title>\n<ellipse fill=\"none\" stroke=\"#000000\" cx=\"460.2902\" cy=\"-18\" rx=\"28.7356\" ry=\"18\"/>\n<text text-anchor=\"middle\" x=\"460.2902\" y=\"-15.8\" font-family=\"Times,serif\" font-size=\"9.00\" fill=\"#000000\">mountain</text>\n</g>\n<!-- geo_mountain&#45;&gt;mountain -->\n<g id=\"edge17\" class=\"edge\">\n<title>geo_mountain&#45;&gt;mountain</title>\n<path fill=\"none\" stroke=\"#000000\" d=\"M460.2902,-53.7181C460.2902,-50.9911 460.2902,-48.1312 460.2902,-45.2673\"/>\n<polygon fill=\"#000000\" stroke=\"#000000\" points=\"463.4403,-45.2631 460.2902,-36.2631 457.1403,-45.2631 463.4403,-45.2631\"/>\n</g>\n<!-- geo_river -->\n<g id=\"node17\" class=\"node\">\n<title>geo_river</title>\n<ellipse fill=\"none\" stroke=\"#000000\" cx=\"561.2902\" cy=\"-126\" rx=\"28.7356\" ry=\"18\"/>\n<text text-anchor=\"middle\" x=\"561.2902\" y=\"-123.8\" font-family=\"Times,serif\" font-size=\"9.00\" fill=\"#000000\">geo_river</text>\n</g>\n<!-- geo_river&#45;&gt;province -->\n<g id=\"edge18\" class=\"edge\">\n<title>geo_river&#45;&gt;province</title>\n<path fill=\"none\" stroke=\"#000000\" d=\"M535.0352,-118.072C523.7691,-114.781 510.4301,-111.0313 498.2902,-108 461.2467,-98.7502 446.9678,-109.7471 414.2902,-90 396.4648,-79.2281 398.1138,-69.5784 384.2902,-54 380.1498,-49.3341 375.625,-44.4209 371.2662,-39.7755\"/>\n<polygon fill=\"#000000\" stroke=\"#000000\" points=\"373.5374,-37.5927 365.0632,-33.2211 368.9617,-41.9231 373.5374,-37.5927\"/>\n</g>\n<!-- river -->\n<g id=\"node18\" class=\"node\">\n<title>river</title>\n<ellipse fill=\"none\" stroke=\"#000000\" cx=\"707.2902\" cy=\"-72\" rx=\"27\" ry=\"18\"/>\n<text text-anchor=\"middle\" x=\"707.2902\" y=\"-69.8\" font-family=\"Times,serif\" font-size=\"9.00\" fill=\"#000000\">river</text>\n</g>\n<!-- geo_river&#45;&gt;river -->\n<g id=\"edge19\" class=\"edge\">\n<title>geo_river&#45;&gt;river</title>\n<path fill=\"none\" stroke=\"#000000\" d=\"M586.3885,-116.7171C610.8539,-107.6682 648.1714,-93.8658 674.8721,-83.9903\"/>\n<polygon fill=\"#000000\" stroke=\"#000000\" points=\"676.1378,-86.8807 683.4862,-80.8042 673.9523,-80.9719 676.1378,-86.8807\"/>\n</g>\n<!-- river&#45;&gt;lake -->\n<g id=\"edge21\" class=\"edge\">\n<title>river&#45;&gt;lake</title>\n<path fill=\"none\" stroke=\"#000000\" d=\"M693.1173,-56.381C688.6868,-51.4984 683.7048,-46.008 678.9243,-40.7396\"/>\n<polygon fill=\"#000000\" stroke=\"#000000\" points=\"680.9816,-38.3193 672.6009,-33.771 676.3161,-42.5529 680.9816,-38.3193\"/>\n</g>\n<!-- river&#45;&gt;river -->\n<g id=\"edge20\" class=\"edge\">\n<title>river&#45;&gt;river</title>\n<path fill=\"none\" stroke=\"#000000\" d=\"M730.0578,-82.0039C739.8803,-82.8229 748.2902,-79.4883 748.2902,-72 748.2902,-67.0858 744.6683,-63.9605 739.4023,-62.6239\"/>\n<polygon fill=\"#000000\" stroke=\"#000000\" points=\"739.2488,-59.4566 730.0578,-61.9961 738.8264,-65.7424 739.2488,-59.4566\"/>\n</g>\n<!-- sea -->\n<g id=\"node20\" class=\"node\">\n<title>sea</title>\n<ellipse fill=\"none\" stroke=\"#000000\" cx=\"764.2902\" cy=\"-18\" rx=\"27\" ry=\"18\"/>\n<text text-anchor=\"middle\" x=\"764.2902\" y=\"-15.8\" font-family=\"Times,serif\" font-size=\"9.00\" fill=\"#000000\">sea</text>\n</g>\n<!-- river&#45;&gt;sea -->\n<g id=\"edge22\" class=\"edge\">\n<title>river&#45;&gt;sea</title>\n<path fill=\"none\" stroke=\"#000000\" d=\"M722.8657,-57.2443C728.7721,-51.6487 735.6181,-45.163 742.0226,-39.0956\"/>\n<polygon fill=\"#000000\" stroke=\"#000000\" points=\"744.3663,-41.2144 748.7335,-32.7379 740.0335,-36.6409 744.3663,-41.2144\"/>\n</g>\n<!-- geo_sea -->\n<g id=\"node19\" class=\"node\">\n<title>geo_sea</title>\n<ellipse fill=\"none\" stroke=\"#000000\" cx=\"609.2902\" cy=\"-72\" rx=\"27\" ry=\"18\"/>\n<text text-anchor=\"middle\" x=\"609.2902\" y=\"-69.8\" font-family=\"Times,serif\" font-size=\"9.00\" fill=\"#000000\">geo_sea</text>\n</g>\n<!-- geo_sea&#45;&gt;province -->\n<g id=\"edge23\" class=\"edge\">\n<title>geo_sea&#45;&gt;province</title>\n<path fill=\"none\" stroke=\"#000000\" d=\"M589.3239,-59.8771C584.839,-57.5994 580.0078,-55.4737 575.2902,-54 510.7782,-33.848 490.801,-48.0087 424.2902,-36 411.0978,-33.6181 396.7475,-30.2994 384.226,-27.1596\"/>\n<polygon fill=\"#000000\" stroke=\"#000000\" points=\"384.9741,-24.0997 375.4742,-24.921 383.4128,-30.2032 384.9741,-24.0997\"/>\n</g>\n<!-- geo_sea&#45;&gt;sea -->\n<g id=\"edge24\" class=\"edge\">\n<title>geo_sea&#45;&gt;sea</title>\n<path fill=\"none\" stroke=\"#000000\" d=\"M633.5089,-63.5625C659.8982,-54.3688 702.2623,-39.6097 731.5903,-29.3922\"/>\n<polygon fill=\"#000000\" stroke=\"#000000\" points=\"732.7788,-32.3139 740.2415,-26.3783 730.7061,-26.3646 732.7788,-32.3139\"/>\n</g>\n<!-- is_member -->\n<g id=\"node21\" class=\"node\">\n<title>is_member</title>\n<ellipse fill=\"none\" stroke=\"#000000\" cx=\"539.2902\" cy=\"-180\" rx=\"32.1641\" ry=\"18\"/>\n<text text-anchor=\"middle\" x=\"539.2902\" y=\"-177.8\" font-family=\"Times,serif\" font-size=\"9.00\" fill=\"#000000\">is_member</text>\n</g>\n<!-- is_member&#45;&gt;country -->\n<g id=\"edge25\" class=\"edge\">\n<title>is_member&#45;&gt;country</title>\n<path fill=\"none\" stroke=\"#000000\" d=\"M515.2952,-167.8879C510.4107,-165.7191 505.2481,-163.6332 500.2902,-162 498.6266,-161.452 411.6772,-143.548 361.3401,-133.2002\"/>\n<polygon fill=\"#000000\" stroke=\"#000000\" points=\"361.8459,-130.0884 352.396,-131.3619 360.5775,-136.2594 361.8459,-130.0884\"/>\n</g>\n<!-- organization -->\n<g id=\"node22\" class=\"node\">\n<title>organization</title>\n<ellipse fill=\"none\" stroke=\"#000000\" cx=\"456.2902\" cy=\"-126\" rx=\"34.7826\" ry=\"18\"/>\n<text text-anchor=\"middle\" x=\"456.2902\" y=\"-123.8\" font-family=\"Times,serif\" font-size=\"9.00\" fill=\"#000000\">organization</text>\n</g>\n<!-- is_member&#45;&gt;organization -->\n<g id=\"edge26\" class=\"edge\">\n<title>is_member&#45;&gt;organization</title>\n<path fill=\"none\" stroke=\"#000000\" d=\"M517.9156,-166.0937C508.1937,-159.7685 496.5274,-152.1785 485.9735,-145.3121\"/>\n<polygon fill=\"#000000\" stroke=\"#000000\" points=\"487.4321,-142.5031 478.1704,-140.2353 483.9964,-147.7838 487.4321,-142.5031\"/>\n</g>\n<!-- organization&#45;&gt;city -->\n<g id=\"edge27\" class=\"edge\">\n<title>organization&#45;&gt;city</title>\n<path fill=\"none\" stroke=\"#000000\" d=\"M431.4379,-113.3394C416.0136,-105.4818 396.1087,-95.3415 379.8732,-87.0706\"/>\n<polygon fill=\"#000000\" stroke=\"#000000\" points=\"381.21,-84.2165 371.7608,-82.9379 378.3503,-89.83 381.21,-84.2165\"/>\n</g>\n<!-- language -->\n<g id=\"node23\" class=\"node\">\n<title>language</title>\n<ellipse fill=\"none\" stroke=\"#000000\" cx=\"185.2902\" cy=\"-180\" rx=\"27.9273\" ry=\"18\"/>\n<text text-anchor=\"middle\" x=\"185.2902\" y=\"-177.8\" font-family=\"Times,serif\" font-size=\"9.00\" fill=\"#000000\">language</text>\n</g>\n<!-- language&#45;&gt;country -->\n<g id=\"edge28\" class=\"edge\">\n<title>language&#45;&gt;country</title>\n<path fill=\"none\" stroke=\"#000000\" d=\"M206.8974,-168.2596C211.2749,-166.0601 215.887,-163.8679 220.2902,-162 244.0863,-151.9053 271.7675,-142.5828 292.8741,-135.9548\"/>\n<polygon fill=\"#000000\" stroke=\"#000000\" points=\"293.8231,-138.9586 301.4867,-133.2848 291.9576,-132.9411 293.8231,-138.9586\"/>\n</g>\n<!-- located -->\n<g id=\"node24\" class=\"node\">\n<title>located</title>\n<ellipse fill=\"none\" stroke=\"#000000\" cx=\"658.2902\" cy=\"-126\" rx=\"27\" ry=\"18\"/>\n<text text-anchor=\"middle\" x=\"658.2902\" y=\"-123.8\" font-family=\"Times,serif\" font-size=\"9.00\" fill=\"#000000\">located</text>\n</g>\n<!-- located&#45;&gt;city -->\n<g id=\"edge29\" class=\"edge\">\n<title>located&#45;&gt;city</title>\n<path fill=\"none\" stroke=\"#000000\" d=\"M634.2104,-117.7521C623.0931,-114.2409 609.6452,-110.4081 597.2902,-108 517.0738,-92.3654 494.6048,-105.122 414.2902,-90 404.1294,-88.0869 393.2433,-85.3087 383.3835,-82.5051\"/>\n<polygon fill=\"#000000\" stroke=\"#000000\" points=\"384.1902,-79.4591 374.6674,-79.9473 382.4162,-85.5041 384.1902,-79.4591\"/>\n</g>\n<!-- located&#45;&gt;lake -->\n<g id=\"edge31\" class=\"edge\">\n<title>located&#45;&gt;lake</title>\n<path fill=\"none\" stroke=\"#000000\" d=\"M658.2902,-107.6793C658.2902,-90.5088 658.2902,-64.6268 658.2902,-45.0743\"/>\n<polygon fill=\"#000000\" stroke=\"#000000\" points=\"661.4403,-45.0501 658.2902,-36.0502 655.1403,-45.0502 661.4403,-45.0501\"/>\n</g>\n<!-- located&#45;&gt;river -->\n<g id=\"edge30\" class=\"edge\">\n<title>located&#45;&gt;river</title>\n<path fill=\"none\" stroke=\"#000000\" d=\"M672.463,-110.381C676.8935,-105.4984 681.8755,-100.008 686.6561,-94.7396\"/>\n<polygon fill=\"#000000\" stroke=\"#000000\" points=\"689.2643,-96.5529 692.9794,-87.771 684.5987,-92.3193 689.2643,-96.5529\"/>\n</g>\n<!-- located&#45;&gt;sea -->\n<g id=\"edge32\" class=\"edge\">\n<title>located&#45;&gt;sea</title>\n<path fill=\"none\" stroke=\"#000000\" d=\"M678.2547,-113.8716C682.7398,-111.5942 687.5714,-109.47 692.2902,-108 724.9753,-97.8175 822.5409,-115.5826 845.2902,-90 855.9224,-78.0436 854.0088,-67.4159 845.2902,-54 835.1724,-38.4312 816.5989,-29.5411 799.7877,-24.4925\"/>\n<polygon fill=\"#000000\" stroke=\"#000000\" points=\"800.2024,-21.3429 790.6944,-22.0649 798.5774,-27.4298 800.2024,-21.3429\"/>\n</g>\n<!-- merges_with -->\n<g id=\"node25\" class=\"node\">\n<title>merges_with</title>\n<ellipse fill=\"none\" stroke=\"#000000\" cx=\"802.2902\" cy=\"-72\" rx=\"35.5926\" ry=\"18\"/>\n<text text-anchor=\"middle\" x=\"802.2902\" y=\"-69.8\" font-family=\"Times,serif\" font-size=\"9.00\" fill=\"#000000\">merges_with</text>\n</g>\n<!-- merges_with&#45;&gt;sea -->\n<g id=\"edge33\" class=\"edge\">\n<title>merges_with&#45;&gt;sea</title>\n<path fill=\"none\" stroke=\"#000000\" d=\"M790.2667,-54.9141C787.3857,-50.8199 784.2561,-46.3726 781.1996,-42.0292\"/>\n<polygon fill=\"#000000\" stroke=\"#000000\" points=\"783.6018,-39.9692 775.8462,-34.4217 778.4496,-43.5948 783.6018,-39.9692\"/>\n</g>\n<!-- politics -->\n<g id=\"node26\" class=\"node\">\n<title>politics</title>\n<ellipse fill=\"none\" stroke=\"#000000\" cx=\"254.2902\" cy=\"-180\" rx=\"27\" ry=\"18\"/>\n<text text-anchor=\"middle\" x=\"254.2902\" y=\"-177.8\" font-family=\"Times,serif\" font-size=\"9.00\" fill=\"#000000\">politics</text>\n</g>\n<!-- politics&#45;&gt;country -->\n<g id=\"edge34\" class=\"edge\">\n<title>politics&#45;&gt;country</title>\n<path fill=\"none\" stroke=\"#000000\" d=\"M272.4588,-166.3735C281.0054,-159.9636 291.3458,-152.2082 300.6703,-145.2149\"/>\n<polygon fill=\"#000000\" stroke=\"#000000\" points=\"302.5669,-147.73 307.8769,-139.81 298.7869,-142.69 302.5669,-147.73\"/>\n</g>\n<!-- population -->\n<g id=\"node27\" class=\"node\">\n<title>population</title>\n<ellipse fill=\"none\" stroke=\"#000000\" cx=\"326.2902\" cy=\"-180\" rx=\"31.3548\" ry=\"18\"/>\n<text text-anchor=\"middle\" x=\"326.2902\" y=\"-177.8\" font-family=\"Times,serif\" font-size=\"9.00\" fill=\"#000000\">population</text>\n</g>\n<!-- population&#45;&gt;country -->\n<g id=\"edge35\" class=\"edge\">\n<title>population&#45;&gt;country</title>\n<path fill=\"none\" stroke=\"#000000\" d=\"M326.2902,-161.7181C326.2902,-158.9911 326.2902,-156.1312 326.2902,-153.2673\"/>\n<polygon fill=\"#000000\" stroke=\"#000000\" points=\"329.4403,-153.2631 326.2902,-144.2631 323.1403,-153.2631 329.4403,-153.2631\"/>\n</g>\n<!-- religion -->\n<g id=\"node28\" class=\"node\">\n<title>religion</title>\n<ellipse fill=\"none\" stroke=\"#000000\" cx=\"398.2902\" cy=\"-180\" rx=\"27\" ry=\"18\"/>\n<text text-anchor=\"middle\" x=\"398.2902\" y=\"-177.8\" font-family=\"Times,serif\" font-size=\"9.00\" fill=\"#000000\">religion</text>\n</g>\n<!-- religion&#45;&gt;country -->\n<g id=\"edge36\" class=\"edge\">\n<title>religion&#45;&gt;country</title>\n<path fill=\"none\" stroke=\"#000000\" d=\"M380.1215,-166.3735C371.5749,-159.9636 361.2345,-152.2082 351.91,-145.2149\"/>\n<polygon fill=\"#000000\" stroke=\"#000000\" points=\"353.7935,-142.69 344.7034,-139.81 350.0134,-147.73 353.7935,-142.69\"/>\n</g>\n</g>\n</svg>\n"
          },
          "metadata": {}
        }
      ]
    },
    {
      "cell_type": "markdown",
      "source": [
        "### Default Parameters\n",
        "\n",
        "We have a few parameters for R-KwS using PyLatheDB:\n",
        "*    `max_qm_size`: Maximum Query Match Size\n",
        "*    `max_cjn_size`: Maximum Candidate Joining Network Size\n",
        "*    `topk_cns`: Top-k CJNs to be considered\n",
        "*    `configuration`: A tuple containing the number of QMs to be considered, number of CJNs for each QM to be considered, and the maximum number of CJNs to be probed by the eager evaluation for each QM. \n",
        "\n",
        "\n"
      ],
      "metadata": {
        "id": "XVqG6u_jVIm_"
      }
    },
    {
      "cell_type": "code",
      "source": [
        "lathe.max_qm_size = 3\n",
        "lathe.max_cjn_size = 5\n",
        "lathe.topk_cns = 10\n",
        "\n",
        "num_qms = 5\n",
        "num_cjns_per_qm = 1\n",
        "num_probed_cjns = 0\n",
        "\n",
        "lathe.configuration = (num_qms,num_cjns_per_qm,num_probed_cjns)"
      ],
      "metadata": {
        "id": "pjMarOgDVInC"
      },
      "execution_count": null,
      "outputs": []
    },
    {
      "cell_type": "markdown",
      "source": [
        "#### Keyword Search without Eager CJN Evaluation.\n",
        "\n"
      ],
      "metadata": {
        "id": "F-41RpU6niZx"
      }
    },
    {
      "cell_type": "code",
      "source": [
        "results = lathe.keyword_search('saint kitts cambodia organization',configuration = (5,5,0))\n",
        "results.cjns(text=False,sql=False)"
      ],
      "metadata": {
        "colab": {
          "base_uri": "https://localhost:8080/",
          "height": 1000
        },
        "id": "o_lKlzFhFI0f",
        "outputId": "21c62a8c-cb76-4057-c3b6-d72f5d41fd96"
      },
      "execution_count": null,
      "outputs": [
        {
          "output_type": "stream",
          "name": "stdout",
          "text": [
            "Keyword Query: saint kitts cambodia organization\n"
          ]
        },
        {
          "output_type": "display_data",
          "data": {
            "text/plain": [
              "<IPython.core.display.Markdown object>"
            ],
            "text/markdown": "---"
          },
          "metadata": {}
        },
        {
          "output_type": "display_data",
          "data": {
            "text/plain": [
              "<IPython.core.display.Markdown object>"
            ],
            "text/markdown": "**1st CJN**:"
          },
          "metadata": {}
        },
        {
          "output_type": "display_data",
          "data": {
            "text/plain": [
              "<IPython.core.display.Markdown object>"
            ],
            "text/markdown": "---"
          },
          "metadata": {}
        },
        {
          "output_type": "stream",
          "name": "stdout",
          "text": [
            "Graph:\n"
          ]
        },
        {
          "output_type": "display_data",
          "data": {
            "text/plain": [
              "<graphviz.dot.Digraph at 0x7f0e01e8f790>"
            ],
            "image/svg+xml": "<?xml version=\"1.0\" encoding=\"UTF-8\" standalone=\"no\"?>\n<!DOCTYPE svg PUBLIC \"-//W3C//DTD SVG 1.1//EN\"\n \"http://www.w3.org/Graphics/SVG/1.1/DTD/svg11.dtd\">\n<!-- Generated by graphviz version 2.40.1 (20161225.0304)\n -->\n<!-- Title: %3 Pages: 1 -->\n<svg width=\"522pt\" height=\"152pt\"\n viewBox=\"0.00 0.00 521.58 152.00\" xmlns=\"http://www.w3.org/2000/svg\" xmlns:xlink=\"http://www.w3.org/1999/xlink\">\n<g id=\"graph0\" class=\"graph\" transform=\"scale(1 1) rotate(0) translate(4 148)\">\n<title>%3</title>\n<polygon fill=\"#ffffff\" stroke=\"transparent\" points=\"-4,4 -4,-148 517.5752,-148 517.5752,4 -4,4\"/>\n<!-- t1 -->\n<g id=\"node1\" class=\"node\">\n<title>t1</title>\n<ellipse fill=\"none\" stroke=\"#000000\" cx=\"76.7876\" cy=\"-72\" rx=\"76.5758\" ry=\"18\"/>\n<text text-anchor=\"middle\" x=\"76.7876\" y=\"-69.8\" font-family=\"Times,serif\" font-size=\"9.00\" fill=\"#000000\">COUNTRY.v(name{saint,kitts})</text>\n</g>\n<!-- t2 -->\n<g id=\"node2\" class=\"node\">\n<title>t2</title>\n<ellipse fill=\"none\" stroke=\"#000000\" cx=\"166.7876\" cy=\"-18\" rx=\"27\" ry=\"18\"/>\n<text text-anchor=\"middle\" x=\"166.7876\" y=\"-15.8\" font-family=\"Times,serif\" font-size=\"9.00\" fill=\"#000000\">CITY</text>\n</g>\n<!-- t1&#45;&gt;t2 -->\n<g id=\"edge1\" class=\"edge\">\n<title>t1&#45;&gt;t2</title>\n<path fill=\"none\" stroke=\"#000000\" d=\"M104.7708,-55.2101C115.5441,-48.7461 127.8435,-41.3665 138.6329,-34.8928\"/>\n<polygon fill=\"#000000\" stroke=\"#000000\" points=\"140.4422,-37.4808 146.539,-30.1491 137.2009,-32.0786 140.4422,-37.4808\"/>\n</g>\n<!-- t3 -->\n<g id=\"node3\" class=\"node\">\n<title>t3</title>\n<ellipse fill=\"none\" stroke=\"#000000\" cx=\"256.7876\" cy=\"-72\" rx=\"89.4786\" ry=\"18\"/>\n<text text-anchor=\"middle\" x=\"256.7876\" y=\"-69.8\" font-family=\"Times,serif\" font-size=\"9.00\" fill=\"#000000\">ORGANIZATION.s(*{organization})</text>\n</g>\n<!-- t3&#45;&gt;t2 -->\n<g id=\"edge2\" class=\"edge\">\n<title>t3&#45;&gt;t2</title>\n<path fill=\"none\" stroke=\"#000000\" d=\"M228.311,-54.9141C217.6412,-48.5122 205.5321,-41.2467 194.8959,-34.865\"/>\n<polygon fill=\"#000000\" stroke=\"#000000\" points=\"196.4357,-32.1154 187.0976,-30.186 193.1943,-37.5176 196.4357,-32.1154\"/>\n</g>\n<!-- t4 -->\n<g id=\"node4\" class=\"node\">\n<title>t4</title>\n<ellipse fill=\"none\" stroke=\"#000000\" cx=\"346.7876\" cy=\"-126\" rx=\"39.0211\" ry=\"18\"/>\n<text text-anchor=\"middle\" x=\"346.7876\" y=\"-123.8\" font-family=\"Times,serif\" font-size=\"9.00\" fill=\"#000000\">IS_MEMBER</text>\n</g>\n<!-- t4&#45;&gt;t3 -->\n<g id=\"edge4\" class=\"edge\">\n<title>t4&#45;&gt;t3</title>\n<path fill=\"none\" stroke=\"#000000\" d=\"M322.6692,-111.529C313.6305,-106.1057 303.1475,-99.8159 293.2386,-93.8706\"/>\n<polygon fill=\"#000000\" stroke=\"#000000\" points=\"294.7917,-91.129 285.4536,-89.1996 291.5503,-96.5312 294.7917,-91.129\"/>\n</g>\n<!-- t5 -->\n<g id=\"node5\" class=\"node\">\n<title>t5</title>\n<ellipse fill=\"none\" stroke=\"#000000\" cx=\"436.7876\" cy=\"-72\" rx=\"76.5758\" ry=\"18\"/>\n<text text-anchor=\"middle\" x=\"436.7876\" y=\"-69.8\" font-family=\"Times,serif\" font-size=\"9.00\" fill=\"#000000\">COUNTRY.v(name{cambodia})</text>\n</g>\n<!-- t4&#45;&gt;t5 -->\n<g id=\"edge3\" class=\"edge\">\n<title>t4&#45;&gt;t5</title>\n<path fill=\"none\" stroke=\"#000000\" d=\"M370.9059,-111.529C380.109,-106.0071 390.8094,-99.5869 400.8765,-93.5467\"/>\n<polygon fill=\"#000000\" stroke=\"#000000\" points=\"402.6768,-96.14 408.7736,-88.8084 399.4355,-90.7378 402.6768,-96.14\"/>\n</g>\n</g>\n</svg>\n"
          },
          "metadata": {}
        },
        {
          "output_type": "display_data",
          "data": {
            "text/plain": [
              "<IPython.core.display.Markdown object>"
            ],
            "text/markdown": "---"
          },
          "metadata": {}
        },
        {
          "output_type": "stream",
          "name": "stdout",
          "text": [
            "JNTs:\n",
            "\tThis void CJN returns no tuples.\n",
            "\n"
          ]
        },
        {
          "output_type": "display_data",
          "data": {
            "text/plain": [
              "<IPython.core.display.Markdown object>"
            ],
            "text/markdown": "---"
          },
          "metadata": {}
        },
        {
          "output_type": "display_data",
          "data": {
            "text/plain": [
              "<IPython.core.display.Markdown object>"
            ],
            "text/markdown": "**2nd CJN**:"
          },
          "metadata": {}
        },
        {
          "output_type": "display_data",
          "data": {
            "text/plain": [
              "<IPython.core.display.Markdown object>"
            ],
            "text/markdown": "---"
          },
          "metadata": {}
        },
        {
          "output_type": "stream",
          "name": "stdout",
          "text": [
            "Graph:\n"
          ]
        },
        {
          "output_type": "display_data",
          "data": {
            "text/plain": [
              "<graphviz.dot.Digraph at 0x7f0e01e8f6d0>"
            ],
            "image/svg+xml": "<?xml version=\"1.0\" encoding=\"UTF-8\" standalone=\"no\"?>\n<!DOCTYPE svg PUBLIC \"-//W3C//DTD SVG 1.1//EN\"\n \"http://www.w3.org/Graphics/SVG/1.1/DTD/svg11.dtd\">\n<!-- Generated by graphviz version 2.40.1 (20161225.0304)\n -->\n<!-- Title: %3 Pages: 1 -->\n<svg width=\"354pt\" height=\"206pt\"\n viewBox=\"0.00 0.00 354.28 206.00\" xmlns=\"http://www.w3.org/2000/svg\" xmlns:xlink=\"http://www.w3.org/1999/xlink\">\n<g id=\"graph0\" class=\"graph\" transform=\"scale(1 1) rotate(0) translate(4 202)\">\n<title>%3</title>\n<polygon fill=\"#ffffff\" stroke=\"transparent\" points=\"-4,4 -4,-202 350.2769,-202 350.2769,4 -4,4\"/>\n<!-- t1 -->\n<g id=\"node1\" class=\"node\">\n<title>t1</title>\n<ellipse fill=\"none\" stroke=\"#000000\" cx=\"76.7876\" cy=\"-180\" rx=\"76.5758\" ry=\"18\"/>\n<text text-anchor=\"middle\" x=\"76.7876\" y=\"-177.8\" font-family=\"Times,serif\" font-size=\"9.00\" fill=\"#000000\">COUNTRY.v(name{saint,kitts})</text>\n</g>\n<!-- t2 -->\n<g id=\"node2\" class=\"node\">\n<title>t2</title>\n<ellipse fill=\"none\" stroke=\"#000000\" cx=\"166.7876\" cy=\"-126\" rx=\"27\" ry=\"18\"/>\n<text text-anchor=\"middle\" x=\"166.7876\" y=\"-123.8\" font-family=\"Times,serif\" font-size=\"9.00\" fill=\"#000000\">CITY</text>\n</g>\n<!-- t1&#45;&gt;t2 -->\n<g id=\"edge1\" class=\"edge\">\n<title>t1&#45;&gt;t2</title>\n<path fill=\"none\" stroke=\"#000000\" d=\"M104.7708,-163.2101C115.5441,-156.7461 127.8435,-149.3665 138.6329,-142.8928\"/>\n<polygon fill=\"#000000\" stroke=\"#000000\" points=\"140.4422,-145.4808 146.539,-138.1491 137.2009,-140.0786 140.4422,-145.4808\"/>\n</g>\n<!-- t4 -->\n<g id=\"node4\" class=\"node\">\n<title>t4</title>\n<ellipse fill=\"none\" stroke=\"#000000\" cx=\"166.7876\" cy=\"-72\" rx=\"35.5926\" ry=\"18\"/>\n<text text-anchor=\"middle\" x=\"166.7876\" y=\"-69.8\" font-family=\"Times,serif\" font-size=\"9.00\" fill=\"#000000\">PROVINCE</text>\n</g>\n<!-- t2&#45;&gt;t4 -->\n<g id=\"edge2\" class=\"edge\">\n<title>t2&#45;&gt;t4</title>\n<path fill=\"none\" stroke=\"#000000\" d=\"M166.7876,-107.7181C166.7876,-104.9911 166.7876,-102.1312 166.7876,-99.2673\"/>\n<polygon fill=\"#000000\" stroke=\"#000000\" points=\"169.9377,-99.2631 166.7876,-90.2631 163.6377,-99.2631 169.9377,-99.2631\"/>\n</g>\n<!-- t3 -->\n<g id=\"node3\" class=\"node\">\n<title>t3</title>\n<ellipse fill=\"none\" stroke=\"#000000\" cx=\"256.7876\" cy=\"-180\" rx=\"89.4786\" ry=\"18\"/>\n<text text-anchor=\"middle\" x=\"256.7876\" y=\"-177.8\" font-family=\"Times,serif\" font-size=\"9.00\" fill=\"#000000\">ORGANIZATION.s(*{organization})</text>\n</g>\n<!-- t3&#45;&gt;t2 -->\n<g id=\"edge3\" class=\"edge\">\n<title>t3&#45;&gt;t2</title>\n<path fill=\"none\" stroke=\"#000000\" d=\"M228.311,-162.9141C217.6412,-156.5122 205.5321,-149.2467 194.8959,-142.865\"/>\n<polygon fill=\"#000000\" stroke=\"#000000\" points=\"196.4357,-140.1154 187.0976,-138.186 193.1943,-145.5176 196.4357,-140.1154\"/>\n</g>\n<!-- t5 -->\n<g id=\"node5\" class=\"node\">\n<title>t5</title>\n<ellipse fill=\"none\" stroke=\"#000000\" cx=\"166.7876\" cy=\"-18\" rx=\"76.5758\" ry=\"18\"/>\n<text text-anchor=\"middle\" x=\"166.7876\" y=\"-15.8\" font-family=\"Times,serif\" font-size=\"9.00\" fill=\"#000000\">COUNTRY.v(name{cambodia})</text>\n</g>\n<!-- t4&#45;&gt;t5 -->\n<g id=\"edge4\" class=\"edge\">\n<title>t4&#45;&gt;t5</title>\n<path fill=\"none\" stroke=\"#000000\" d=\"M166.7876,-53.7181C166.7876,-50.9911 166.7876,-48.1312 166.7876,-45.2673\"/>\n<polygon fill=\"#000000\" stroke=\"#000000\" points=\"169.9377,-45.2631 166.7876,-36.2631 163.6377,-45.2631 169.9377,-45.2631\"/>\n</g>\n</g>\n</svg>\n"
          },
          "metadata": {}
        },
        {
          "output_type": "display_data",
          "data": {
            "text/plain": [
              "<IPython.core.display.Markdown object>"
            ],
            "text/markdown": "---"
          },
          "metadata": {}
        },
        {
          "output_type": "stream",
          "name": "stdout",
          "text": [
            "JNTs:\n",
            "\tThis void CJN returns no tuples.\n",
            "\n"
          ]
        },
        {
          "output_type": "display_data",
          "data": {
            "text/plain": [
              "<IPython.core.display.Markdown object>"
            ],
            "text/markdown": "---"
          },
          "metadata": {}
        },
        {
          "output_type": "display_data",
          "data": {
            "text/plain": [
              "<IPython.core.display.Markdown object>"
            ],
            "text/markdown": "**3rd CJN**:"
          },
          "metadata": {}
        },
        {
          "output_type": "display_data",
          "data": {
            "text/plain": [
              "<IPython.core.display.Markdown object>"
            ],
            "text/markdown": "---"
          },
          "metadata": {}
        },
        {
          "output_type": "stream",
          "name": "stdout",
          "text": [
            "Graph:\n"
          ]
        },
        {
          "output_type": "display_data",
          "data": {
            "text/plain": [
              "<graphviz.dot.Digraph at 0x7f0dfaf0db10>"
            ],
            "image/svg+xml": "<?xml version=\"1.0\" encoding=\"UTF-8\" standalone=\"no\"?>\n<!DOCTYPE svg PUBLIC \"-//W3C//DTD SVG 1.1//EN\"\n \"http://www.w3.org/Graphics/SVG/1.1/DTD/svg11.dtd\">\n<!-- Generated by graphviz version 2.40.1 (20161225.0304)\n -->\n<!-- Title: %3 Pages: 1 -->\n<svg width=\"522pt\" height=\"152pt\"\n viewBox=\"0.00 0.00 522.28 152.00\" xmlns=\"http://www.w3.org/2000/svg\" xmlns:xlink=\"http://www.w3.org/1999/xlink\">\n<g id=\"graph0\" class=\"graph\" transform=\"scale(1 1) rotate(0) translate(4 148)\">\n<title>%3</title>\n<polygon fill=\"#ffffff\" stroke=\"transparent\" points=\"-4,4 -4,-148 518.2769,-148 518.2769,4 -4,4\"/>\n<!-- t1 -->\n<g id=\"node1\" class=\"node\">\n<title>t1</title>\n<ellipse fill=\"none\" stroke=\"#000000\" cx=\"269.4893\" cy=\"-72\" rx=\"76.5758\" ry=\"18\"/>\n<text text-anchor=\"middle\" x=\"269.4893\" y=\"-69.8\" font-family=\"Times,serif\" font-size=\"9.00\" fill=\"#000000\">COUNTRY.v(name{saint,kitts})</text>\n</g>\n<!-- t2 -->\n<g id=\"node2\" class=\"node\">\n<title>t2</title>\n<ellipse fill=\"none\" stroke=\"#000000\" cx=\"179.4893\" cy=\"-18\" rx=\"27\" ry=\"18\"/>\n<text text-anchor=\"middle\" x=\"179.4893\" y=\"-15.8\" font-family=\"Times,serif\" font-size=\"9.00\" fill=\"#000000\">CITY</text>\n</g>\n<!-- t1&#45;&gt;t2 -->\n<g id=\"edge1\" class=\"edge\">\n<title>t1&#45;&gt;t2</title>\n<path fill=\"none\" stroke=\"#000000\" d=\"M241.5061,-55.2101C230.7328,-48.7461 218.4334,-41.3665 207.644,-34.8928\"/>\n<polygon fill=\"#000000\" stroke=\"#000000\" points=\"209.076,-32.0786 199.7379,-30.1491 205.8346,-37.4808 209.076,-32.0786\"/>\n</g>\n<!-- t3 -->\n<g id=\"node3\" class=\"node\">\n<title>t3</title>\n<ellipse fill=\"none\" stroke=\"#000000\" cx=\"89.4893\" cy=\"-72\" rx=\"89.4786\" ry=\"18\"/>\n<text text-anchor=\"middle\" x=\"89.4893\" y=\"-69.8\" font-family=\"Times,serif\" font-size=\"9.00\" fill=\"#000000\">ORGANIZATION.s(*{organization})</text>\n</g>\n<!-- t3&#45;&gt;t2 -->\n<g id=\"edge2\" class=\"edge\">\n<title>t3&#45;&gt;t2</title>\n<path fill=\"none\" stroke=\"#000000\" d=\"M117.9659,-54.9141C128.6357,-48.5122 140.7447,-41.2467 151.381,-34.865\"/>\n<polygon fill=\"#000000\" stroke=\"#000000\" points=\"153.0825,-37.5176 159.1793,-30.186 149.8412,-32.1154 153.0825,-37.5176\"/>\n</g>\n<!-- t4 -->\n<g id=\"node4\" class=\"node\">\n<title>t4</title>\n<ellipse fill=\"none\" stroke=\"#000000\" cx=\"353.4893\" cy=\"-126\" rx=\"34.1275\" ry=\"18\"/>\n<text text-anchor=\"middle\" x=\"353.4893\" y=\"-123.8\" font-family=\"Times,serif\" font-size=\"9.00\" fill=\"#000000\">BORDERS</text>\n</g>\n<!-- t4&#45;&gt;t1 -->\n<g id=\"edge4\" class=\"edge\">\n<title>t4&#45;&gt;t1</title>\n<path fill=\"none\" stroke=\"#000000\" d=\"M331.8572,-112.0937C323.2744,-106.5761 313.1943,-100.0961 303.6703,-93.9735\"/>\n<polygon fill=\"#000000\" stroke=\"#000000\" points=\"305.12,-91.1607 295.8459,-88.9436 301.7132,-96.4601 305.12,-91.1607\"/>\n</g>\n<!-- t5 -->\n<g id=\"node5\" class=\"node\">\n<title>t5</title>\n<ellipse fill=\"none\" stroke=\"#000000\" cx=\"437.4893\" cy=\"-72\" rx=\"76.5758\" ry=\"18\"/>\n<text text-anchor=\"middle\" x=\"437.4893\" y=\"-69.8\" font-family=\"Times,serif\" font-size=\"9.00\" fill=\"#000000\">COUNTRY.v(name{cambodia})</text>\n</g>\n<!-- t4&#45;&gt;t5 -->\n<g id=\"edge3\" class=\"edge\">\n<title>t4&#45;&gt;t5</title>\n<path fill=\"none\" stroke=\"#000000\" d=\"M375.1214,-112.0937C383.7042,-106.5761 393.7843,-100.0961 403.3083,-93.9735\"/>\n<polygon fill=\"#000000\" stroke=\"#000000\" points=\"405.2654,-96.4601 411.1326,-88.9436 401.8586,-91.1607 405.2654,-96.4601\"/>\n</g>\n</g>\n</svg>\n"
          },
          "metadata": {}
        },
        {
          "output_type": "display_data",
          "data": {
            "text/plain": [
              "<IPython.core.display.Markdown object>"
            ],
            "text/markdown": "---"
          },
          "metadata": {}
        },
        {
          "output_type": "stream",
          "name": "stdout",
          "text": [
            "JNTs:\n",
            "\tThis void CJN returns no tuples.\n",
            "\n"
          ]
        },
        {
          "output_type": "display_data",
          "data": {
            "text/plain": [
              "<IPython.core.display.Markdown object>"
            ],
            "text/markdown": "---"
          },
          "metadata": {}
        },
        {
          "output_type": "display_data",
          "data": {
            "text/plain": [
              "<IPython.core.display.Markdown object>"
            ],
            "text/markdown": "**4th CJN**:"
          },
          "metadata": {}
        },
        {
          "output_type": "display_data",
          "data": {
            "text/plain": [
              "<IPython.core.display.Markdown object>"
            ],
            "text/markdown": "---"
          },
          "metadata": {}
        },
        {
          "output_type": "stream",
          "name": "stdout",
          "text": [
            "Graph:\n"
          ]
        },
        {
          "output_type": "display_data",
          "data": {
            "text/plain": [
              "<graphviz.dot.Digraph at 0x7f0e0ae48fd0>"
            ],
            "image/svg+xml": "<?xml version=\"1.0\" encoding=\"UTF-8\" standalone=\"no\"?>\n<!DOCTYPE svg PUBLIC \"-//W3C//DTD SVG 1.1//EN\"\n \"http://www.w3.org/Graphics/SVG/1.1/DTD/svg11.dtd\">\n<!-- Generated by graphviz version 2.40.1 (20161225.0304)\n -->\n<!-- Title: %3 Pages: 1 -->\n<svg width=\"522pt\" height=\"152pt\"\n viewBox=\"0.00 0.00 522.28 152.00\" xmlns=\"http://www.w3.org/2000/svg\" xmlns:xlink=\"http://www.w3.org/1999/xlink\">\n<g id=\"graph0\" class=\"graph\" transform=\"scale(1 1) rotate(0) translate(4 148)\">\n<title>%3</title>\n<polygon fill=\"#ffffff\" stroke=\"transparent\" points=\"-4,4 -4,-148 518.2769,-148 518.2769,4 -4,4\"/>\n<!-- t1 -->\n<g id=\"node1\" class=\"node\">\n<title>t1</title>\n<ellipse fill=\"none\" stroke=\"#000000\" cx=\"76.7876\" cy=\"-72\" rx=\"76.5758\" ry=\"18\"/>\n<text text-anchor=\"middle\" x=\"76.7876\" y=\"-69.8\" font-family=\"Times,serif\" font-size=\"9.00\" fill=\"#000000\">COUNTRY.v(name{saint,kitts})</text>\n</g>\n<!-- t2 -->\n<g id=\"node2\" class=\"node\">\n<title>t2</title>\n<ellipse fill=\"none\" stroke=\"#000000\" cx=\"160.7876\" cy=\"-126\" rx=\"34.1275\" ry=\"18\"/>\n<text text-anchor=\"middle\" x=\"160.7876\" y=\"-123.8\" font-family=\"Times,serif\" font-size=\"9.00\" fill=\"#000000\">BORDERS</text>\n</g>\n<!-- t2&#45;&gt;t1 -->\n<g id=\"edge2\" class=\"edge\">\n<title>t2&#45;&gt;t1</title>\n<path fill=\"none\" stroke=\"#000000\" d=\"M139.1555,-112.0937C130.5727,-106.5761 120.4926,-100.0961 110.9686,-93.9735\"/>\n<polygon fill=\"#000000\" stroke=\"#000000\" points=\"112.4183,-91.1607 103.1442,-88.9436 109.0115,-96.4601 112.4183,-91.1607\"/>\n</g>\n<!-- t3 -->\n<g id=\"node3\" class=\"node\">\n<title>t3</title>\n<ellipse fill=\"none\" stroke=\"#000000\" cx=\"244.7876\" cy=\"-72\" rx=\"76.5758\" ry=\"18\"/>\n<text text-anchor=\"middle\" x=\"244.7876\" y=\"-69.8\" font-family=\"Times,serif\" font-size=\"9.00\" fill=\"#000000\">COUNTRY.v(name{cambodia})</text>\n</g>\n<!-- t2&#45;&gt;t3 -->\n<g id=\"edge1\" class=\"edge\">\n<title>t2&#45;&gt;t3</title>\n<path fill=\"none\" stroke=\"#000000\" d=\"M182.4197,-112.0937C191.0025,-106.5761 201.0826,-100.0961 210.6066,-93.9735\"/>\n<polygon fill=\"#000000\" stroke=\"#000000\" points=\"212.5637,-96.4601 218.4309,-88.9436 209.1569,-91.1607 212.5637,-96.4601\"/>\n</g>\n<!-- t4 -->\n<g id=\"node4\" class=\"node\">\n<title>t4</title>\n<ellipse fill=\"none\" stroke=\"#000000\" cx=\"334.7876\" cy=\"-18\" rx=\"27\" ry=\"18\"/>\n<text text-anchor=\"middle\" x=\"334.7876\" y=\"-15.8\" font-family=\"Times,serif\" font-size=\"9.00\" fill=\"#000000\">CITY</text>\n</g>\n<!-- t3&#45;&gt;t4 -->\n<g id=\"edge3\" class=\"edge\">\n<title>t3&#45;&gt;t4</title>\n<path fill=\"none\" stroke=\"#000000\" d=\"M272.7708,-55.2101C283.5441,-48.7461 295.8435,-41.3665 306.6329,-34.8928\"/>\n<polygon fill=\"#000000\" stroke=\"#000000\" points=\"308.4422,-37.4808 314.539,-30.1491 305.2009,-32.0786 308.4422,-37.4808\"/>\n</g>\n<!-- t5 -->\n<g id=\"node5\" class=\"node\">\n<title>t5</title>\n<ellipse fill=\"none\" stroke=\"#000000\" cx=\"424.7876\" cy=\"-72\" rx=\"89.4786\" ry=\"18\"/>\n<text text-anchor=\"middle\" x=\"424.7876\" y=\"-69.8\" font-family=\"Times,serif\" font-size=\"9.00\" fill=\"#000000\">ORGANIZATION.s(*{organization})</text>\n</g>\n<!-- t5&#45;&gt;t4 -->\n<g id=\"edge4\" class=\"edge\">\n<title>t5&#45;&gt;t4</title>\n<path fill=\"none\" stroke=\"#000000\" d=\"M396.311,-54.9141C385.6412,-48.5122 373.5321,-41.2467 362.8959,-34.865\"/>\n<polygon fill=\"#000000\" stroke=\"#000000\" points=\"364.4357,-32.1154 355.0976,-30.186 361.1943,-37.5176 364.4357,-32.1154\"/>\n</g>\n</g>\n</svg>\n"
          },
          "metadata": {}
        },
        {
          "output_type": "display_data",
          "data": {
            "text/plain": [
              "<IPython.core.display.Markdown object>"
            ],
            "text/markdown": "---"
          },
          "metadata": {}
        },
        {
          "output_type": "stream",
          "name": "stdout",
          "text": [
            "JNTs:\n",
            "\tThis void CJN returns no tuples.\n",
            "\n"
          ]
        },
        {
          "output_type": "display_data",
          "data": {
            "text/plain": [
              "<IPython.core.display.Markdown object>"
            ],
            "text/markdown": "---"
          },
          "metadata": {}
        },
        {
          "output_type": "display_data",
          "data": {
            "text/plain": [
              "<IPython.core.display.Markdown object>"
            ],
            "text/markdown": "**5th CJN**:"
          },
          "metadata": {}
        },
        {
          "output_type": "display_data",
          "data": {
            "text/plain": [
              "<IPython.core.display.Markdown object>"
            ],
            "text/markdown": "---"
          },
          "metadata": {}
        },
        {
          "output_type": "stream",
          "name": "stdout",
          "text": [
            "Graph:\n"
          ]
        },
        {
          "output_type": "display_data",
          "data": {
            "text/plain": [
              "<graphviz.dot.Digraph at 0x7f0dfa9a8dd0>"
            ],
            "image/svg+xml": "<?xml version=\"1.0\" encoding=\"UTF-8\" standalone=\"no\"?>\n<!DOCTYPE svg PUBLIC \"-//W3C//DTD SVG 1.1//EN\"\n \"http://www.w3.org/Graphics/SVG/1.1/DTD/svg11.dtd\">\n<!-- Generated by graphviz version 2.40.1 (20161225.0304)\n -->\n<!-- Title: %3 Pages: 1 -->\n<svg width=\"522pt\" height=\"98pt\"\n viewBox=\"0.00 0.00 522.28 98.00\" xmlns=\"http://www.w3.org/2000/svg\" xmlns:xlink=\"http://www.w3.org/1999/xlink\">\n<g id=\"graph0\" class=\"graph\" transform=\"scale(1 1) rotate(0) translate(4 94)\">\n<title>%3</title>\n<polygon fill=\"#ffffff\" stroke=\"transparent\" points=\"-4,4 -4,-94 518.2769,-94 518.2769,4 -4,4\"/>\n<!-- t1 -->\n<g id=\"node1\" class=\"node\">\n<title>t1</title>\n<ellipse fill=\"none\" stroke=\"#000000\" cx=\"76.7876\" cy=\"-18\" rx=\"76.5758\" ry=\"18\"/>\n<text text-anchor=\"middle\" x=\"76.7876\" y=\"-15.8\" font-family=\"Times,serif\" font-size=\"9.00\" fill=\"#000000\">COUNTRY.v(name{saint,kitts})</text>\n</g>\n<!-- t2 -->\n<g id=\"node2\" class=\"node\">\n<title>t2</title>\n<ellipse fill=\"none\" stroke=\"#000000\" cx=\"180.7876\" cy=\"-72\" rx=\"34.1275\" ry=\"18\"/>\n<text text-anchor=\"middle\" x=\"180.7876\" y=\"-69.8\" font-family=\"Times,serif\" font-size=\"9.00\" fill=\"#000000\">BORDERS</text>\n</g>\n<!-- t2&#45;&gt;t1 -->\n<g id=\"edge2\" class=\"edge\">\n<title>t2&#45;&gt;t1</title>\n<path fill=\"none\" stroke=\"#000000\" d=\"M156.4042,-59.3394C144.5712,-53.1953 130.0503,-45.6557 116.6645,-38.7053\"/>\n<polygon fill=\"#000000\" stroke=\"#000000\" points=\"117.9498,-35.8234 108.5108,-34.4717 115.0467,-41.4147 117.9498,-35.8234\"/>\n</g>\n<!-- t3 -->\n<g id=\"node3\" class=\"node\">\n<title>t3</title>\n<ellipse fill=\"none\" stroke=\"#000000\" cx=\"244.7876\" cy=\"-18\" rx=\"76.5758\" ry=\"18\"/>\n<text text-anchor=\"middle\" x=\"244.7876\" y=\"-15.8\" font-family=\"Times,serif\" font-size=\"9.00\" fill=\"#000000\">COUNTRY.v(name{cambodia})</text>\n</g>\n<!-- t2&#45;&gt;t3 -->\n<g id=\"edge1\" class=\"edge\">\n<title>t2&#45;&gt;t3</title>\n<path fill=\"none\" stroke=\"#000000\" d=\"M198.9562,-56.6702C204.5873,-51.919 210.926,-46.5707 217.0523,-41.4016\"/>\n<polygon fill=\"#000000\" stroke=\"#000000\" points=\"219.2442,-43.6737 224.0915,-35.4623 215.1815,-38.8587 219.2442,-43.6737\"/>\n</g>\n<!-- t4 -->\n<g id=\"node4\" class=\"node\">\n<title>t4</title>\n<ellipse fill=\"none\" stroke=\"#000000\" cx=\"307.7876\" cy=\"-72\" rx=\"39.0211\" ry=\"18\"/>\n<text text-anchor=\"middle\" x=\"307.7876\" y=\"-69.8\" font-family=\"Times,serif\" font-size=\"9.00\" fill=\"#000000\">IS_MEMBER</text>\n</g>\n<!-- t4&#45;&gt;t3 -->\n<g id=\"edge3\" class=\"edge\">\n<title>t4&#45;&gt;t3</title>\n<path fill=\"none\" stroke=\"#000000\" d=\"M289.2263,-56.0903C283.918,-51.5404 278.0164,-46.4818 272.2936,-41.5766\"/>\n<polygon fill=\"#000000\" stroke=\"#000000\" points=\"274.0817,-38.9604 265.1984,-35.495 269.9817,-43.7438 274.0817,-38.9604\"/>\n</g>\n<!-- t5 -->\n<g id=\"node5\" class=\"node\">\n<title>t5</title>\n<ellipse fill=\"none\" stroke=\"#000000\" cx=\"424.7876\" cy=\"-18\" rx=\"89.4786\" ry=\"18\"/>\n<text text-anchor=\"middle\" x=\"424.7876\" y=\"-15.8\" font-family=\"Times,serif\" font-size=\"9.00\" fill=\"#000000\">ORGANIZATION.s(*{organization})</text>\n</g>\n<!-- t4&#45;&gt;t5 -->\n<g id=\"edge4\" class=\"edge\">\n<title>t4&#45;&gt;t5</title>\n<path fill=\"none\" stroke=\"#000000\" d=\"M335.515,-59.2028C348.9709,-52.9923 365.4633,-45.3804 380.5951,-38.3965\"/>\n<polygon fill=\"#000000\" stroke=\"#000000\" points=\"381.9822,-41.2257 388.8338,-34.5941 379.3421,-35.5056 381.9822,-41.2257\"/>\n</g>\n</g>\n</svg>\n"
          },
          "metadata": {}
        },
        {
          "output_type": "display_data",
          "data": {
            "text/plain": [
              "<IPython.core.display.Markdown object>"
            ],
            "text/markdown": "---"
          },
          "metadata": {}
        },
        {
          "output_type": "stream",
          "name": "stdout",
          "text": [
            "JNTs:\n",
            "\tThis void CJN returns no tuples.\n",
            "\n"
          ]
        },
        {
          "output_type": "display_data",
          "data": {
            "text/plain": [
              "<IPython.core.display.Markdown object>"
            ],
            "text/markdown": "---"
          },
          "metadata": {}
        },
        {
          "output_type": "display_data",
          "data": {
            "text/plain": [
              "<IPython.core.display.Markdown object>"
            ],
            "text/markdown": "**6th CJN**:"
          },
          "metadata": {}
        },
        {
          "output_type": "display_data",
          "data": {
            "text/plain": [
              "<IPython.core.display.Markdown object>"
            ],
            "text/markdown": "---"
          },
          "metadata": {}
        },
        {
          "output_type": "stream",
          "name": "stdout",
          "text": [
            "Graph:\n"
          ]
        },
        {
          "output_type": "display_data",
          "data": {
            "text/plain": [
              "<graphviz.dot.Digraph at 0x7f0e0312a110>"
            ],
            "image/svg+xml": "<?xml version=\"1.0\" encoding=\"UTF-8\" standalone=\"no\"?>\n<!DOCTYPE svg PUBLIC \"-//W3C//DTD SVG 1.1//EN\"\n \"http://www.w3.org/Graphics/SVG/1.1/DTD/svg11.dtd\">\n<!-- Generated by graphviz version 2.40.1 (20161225.0304)\n -->\n<!-- Title: %3 Pages: 1 -->\n<svg width=\"540pt\" height=\"152pt\"\n viewBox=\"0.00 0.00 539.58 152.00\" xmlns=\"http://www.w3.org/2000/svg\" xmlns:xlink=\"http://www.w3.org/1999/xlink\">\n<g id=\"graph0\" class=\"graph\" transform=\"scale(1 1) rotate(0) translate(4 148)\">\n<title>%3</title>\n<polygon fill=\"#ffffff\" stroke=\"transparent\" points=\"-4,4 -4,-148 535.5752,-148 535.5752,4 -4,4\"/>\n<!-- t1 -->\n<g id=\"node1\" class=\"node\">\n<title>t1</title>\n<ellipse fill=\"none\" stroke=\"#000000\" cx=\"76.7876\" cy=\"-72\" rx=\"76.5758\" ry=\"18\"/>\n<text text-anchor=\"middle\" x=\"76.7876\" y=\"-69.8\" font-family=\"Times,serif\" font-size=\"9.00\" fill=\"#000000\">COUNTRY.v(name{saint,kitts})</text>\n</g>\n<!-- t2 -->\n<g id=\"node2\" class=\"node\">\n<title>t2</title>\n<ellipse fill=\"none\" stroke=\"#000000\" cx=\"170.7876\" cy=\"-18\" rx=\"27\" ry=\"18\"/>\n<text text-anchor=\"middle\" x=\"170.7876\" y=\"-15.8\" font-family=\"Times,serif\" font-size=\"9.00\" fill=\"#000000\">CITY</text>\n</g>\n<!-- t1&#45;&gt;t2 -->\n<g id=\"edge1\" class=\"edge\">\n<title>t1&#45;&gt;t2</title>\n<path fill=\"none\" stroke=\"#000000\" d=\"M106.0145,-55.2101C117.5504,-48.5831 130.7616,-40.9937 142.2311,-34.4048\"/>\n<polygon fill=\"#000000\" stroke=\"#000000\" points=\"143.9912,-37.0265 150.2261,-29.8119 140.853,-31.5637 143.9912,-37.0265\"/>\n</g>\n<!-- t3 -->\n<g id=\"node3\" class=\"node\">\n<title>t3</title>\n<ellipse fill=\"none\" stroke=\"#000000\" cx=\"265.7876\" cy=\"-72\" rx=\"98.2993\" ry=\"18\"/>\n<text text-anchor=\"middle\" x=\"265.7876\" y=\"-69.8\" font-family=\"Times,serif\" font-size=\"9.00\" fill=\"#000000\">ORGANIZATION.v(name{organization})</text>\n</g>\n<!-- t3&#45;&gt;t2 -->\n<g id=\"edge2\" class=\"edge\">\n<title>t3&#45;&gt;t2</title>\n<path fill=\"none\" stroke=\"#000000\" d=\"M235.4678,-54.7656C223.9321,-48.2085 210.834,-40.7632 199.456,-34.2957\"/>\n<polygon fill=\"#000000\" stroke=\"#000000\" points=\"200.903,-31.4949 191.522,-29.7859 197.7897,-36.9719 200.903,-31.4949\"/>\n</g>\n<!-- t4 -->\n<g id=\"node4\" class=\"node\">\n<title>t4</title>\n<ellipse fill=\"none\" stroke=\"#000000\" cx=\"359.7876\" cy=\"-126\" rx=\"39.0211\" ry=\"18\"/>\n<text text-anchor=\"middle\" x=\"359.7876\" y=\"-123.8\" font-family=\"Times,serif\" font-size=\"9.00\" fill=\"#000000\">IS_MEMBER</text>\n</g>\n<!-- t4&#45;&gt;t3 -->\n<g id=\"edge4\" class=\"edge\">\n<title>t4&#45;&gt;t3</title>\n<path fill=\"none\" stroke=\"#000000\" d=\"M335.0902,-111.8121C325.4673,-106.2841 314.2205,-99.8232 303.6209,-93.7341\"/>\n<polygon fill=\"#000000\" stroke=\"#000000\" points=\"305.0522,-90.9235 295.6791,-89.1717 301.914,-96.3863 305.0522,-90.9235\"/>\n</g>\n<!-- t5 -->\n<g id=\"node5\" class=\"node\">\n<title>t5</title>\n<ellipse fill=\"none\" stroke=\"#000000\" cx=\"454.7876\" cy=\"-72\" rx=\"76.5758\" ry=\"18\"/>\n<text text-anchor=\"middle\" x=\"454.7876\" y=\"-69.8\" font-family=\"Times,serif\" font-size=\"9.00\" fill=\"#000000\">COUNTRY.v(name{cambodia})</text>\n</g>\n<!-- t4&#45;&gt;t5 -->\n<g id=\"edge3\" class=\"edge\">\n<title>t4&#45;&gt;t5</title>\n<path fill=\"none\" stroke=\"#000000\" d=\"M384.7477,-111.8121C394.6483,-106.1845 406.2495,-99.5901 417.1301,-93.4053\"/>\n<polygon fill=\"#000000\" stroke=\"#000000\" points=\"419.0024,-95.9645 425.27,-88.7784 415.8891,-90.4874 419.0024,-95.9645\"/>\n</g>\n</g>\n</svg>\n"
          },
          "metadata": {}
        },
        {
          "output_type": "display_data",
          "data": {
            "text/plain": [
              "<IPython.core.display.Markdown object>"
            ],
            "text/markdown": "---"
          },
          "metadata": {}
        },
        {
          "output_type": "stream",
          "name": "stdout",
          "text": [
            "JNTs:\n",
            "\tThis void CJN returns no tuples.\n",
            "\n"
          ]
        },
        {
          "output_type": "display_data",
          "data": {
            "text/plain": [
              "<IPython.core.display.Markdown object>"
            ],
            "text/markdown": "---"
          },
          "metadata": {}
        },
        {
          "output_type": "display_data",
          "data": {
            "text/plain": [
              "<IPython.core.display.Markdown object>"
            ],
            "text/markdown": "**7th CJN**:"
          },
          "metadata": {}
        },
        {
          "output_type": "display_data",
          "data": {
            "text/plain": [
              "<IPython.core.display.Markdown object>"
            ],
            "text/markdown": "---"
          },
          "metadata": {}
        },
        {
          "output_type": "stream",
          "name": "stdout",
          "text": [
            "Graph:\n"
          ]
        },
        {
          "output_type": "display_data",
          "data": {
            "text/plain": [
              "<graphviz.dot.Digraph at 0x7f0e0adf3c90>"
            ],
            "image/svg+xml": "<?xml version=\"1.0\" encoding=\"UTF-8\" standalone=\"no\"?>\n<!DOCTYPE svg PUBLIC \"-//W3C//DTD SVG 1.1//EN\"\n \"http://www.w3.org/Graphics/SVG/1.1/DTD/svg11.dtd\">\n<!-- Generated by graphviz version 2.40.1 (20161225.0304)\n -->\n<!-- Title: %3 Pages: 1 -->\n<svg width=\"372pt\" height=\"206pt\"\n viewBox=\"0.00 0.00 371.94 206.00\" xmlns=\"http://www.w3.org/2000/svg\" xmlns:xlink=\"http://www.w3.org/1999/xlink\">\n<g id=\"graph0\" class=\"graph\" transform=\"scale(1 1) rotate(0) translate(4 202)\">\n<title>%3</title>\n<polygon fill=\"#ffffff\" stroke=\"transparent\" points=\"-4,4 -4,-202 367.9371,-202 367.9371,4 -4,4\"/>\n<!-- t1 -->\n<g id=\"node1\" class=\"node\">\n<title>t1</title>\n<ellipse fill=\"none\" stroke=\"#000000\" cx=\"76.7876\" cy=\"-180\" rx=\"76.5758\" ry=\"18\"/>\n<text text-anchor=\"middle\" x=\"76.7876\" y=\"-177.8\" font-family=\"Times,serif\" font-size=\"9.00\" fill=\"#000000\">COUNTRY.v(name{saint,kitts})</text>\n</g>\n<!-- t2 -->\n<g id=\"node2\" class=\"node\">\n<title>t2</title>\n<ellipse fill=\"none\" stroke=\"#000000\" cx=\"170.7876\" cy=\"-126\" rx=\"27\" ry=\"18\"/>\n<text text-anchor=\"middle\" x=\"170.7876\" y=\"-123.8\" font-family=\"Times,serif\" font-size=\"9.00\" fill=\"#000000\">CITY</text>\n</g>\n<!-- t1&#45;&gt;t2 -->\n<g id=\"edge1\" class=\"edge\">\n<title>t1&#45;&gt;t2</title>\n<path fill=\"none\" stroke=\"#000000\" d=\"M106.0145,-163.2101C117.5504,-156.5831 130.7616,-148.9937 142.2311,-142.4048\"/>\n<polygon fill=\"#000000\" stroke=\"#000000\" points=\"143.9912,-145.0265 150.2261,-137.8119 140.853,-139.5637 143.9912,-145.0265\"/>\n</g>\n<!-- t4 -->\n<g id=\"node4\" class=\"node\">\n<title>t4</title>\n<ellipse fill=\"none\" stroke=\"#000000\" cx=\"170.7876\" cy=\"-72\" rx=\"35.5926\" ry=\"18\"/>\n<text text-anchor=\"middle\" x=\"170.7876\" y=\"-69.8\" font-family=\"Times,serif\" font-size=\"9.00\" fill=\"#000000\">PROVINCE</text>\n</g>\n<!-- t2&#45;&gt;t4 -->\n<g id=\"edge2\" class=\"edge\">\n<title>t2&#45;&gt;t4</title>\n<path fill=\"none\" stroke=\"#000000\" d=\"M170.7876,-107.7181C170.7876,-104.9911 170.7876,-102.1312 170.7876,-99.2673\"/>\n<polygon fill=\"#000000\" stroke=\"#000000\" points=\"173.9377,-99.2631 170.7876,-90.2631 167.6377,-99.2631 173.9377,-99.2631\"/>\n</g>\n<!-- t3 -->\n<g id=\"node3\" class=\"node\">\n<title>t3</title>\n<ellipse fill=\"none\" stroke=\"#000000\" cx=\"265.7876\" cy=\"-180\" rx=\"98.2993\" ry=\"18\"/>\n<text text-anchor=\"middle\" x=\"265.7876\" y=\"-177.8\" font-family=\"Times,serif\" font-size=\"9.00\" fill=\"#000000\">ORGANIZATION.v(name{organization})</text>\n</g>\n<!-- t3&#45;&gt;t2 -->\n<g id=\"edge3\" class=\"edge\">\n<title>t3&#45;&gt;t2</title>\n<path fill=\"none\" stroke=\"#000000\" d=\"M235.4678,-162.7656C223.9321,-156.2085 210.834,-148.7632 199.456,-142.2957\"/>\n<polygon fill=\"#000000\" stroke=\"#000000\" points=\"200.903,-139.4949 191.522,-137.7859 197.7897,-144.9719 200.903,-139.4949\"/>\n</g>\n<!-- t5 -->\n<g id=\"node5\" class=\"node\">\n<title>t5</title>\n<ellipse fill=\"none\" stroke=\"#000000\" cx=\"170.7876\" cy=\"-18\" rx=\"76.5758\" ry=\"18\"/>\n<text text-anchor=\"middle\" x=\"170.7876\" y=\"-15.8\" font-family=\"Times,serif\" font-size=\"9.00\" fill=\"#000000\">COUNTRY.v(name{cambodia})</text>\n</g>\n<!-- t4&#45;&gt;t5 -->\n<g id=\"edge4\" class=\"edge\">\n<title>t4&#45;&gt;t5</title>\n<path fill=\"none\" stroke=\"#000000\" d=\"M170.7876,-53.7181C170.7876,-50.9911 170.7876,-48.1312 170.7876,-45.2673\"/>\n<polygon fill=\"#000000\" stroke=\"#000000\" points=\"173.9377,-45.2631 170.7876,-36.2631 167.6377,-45.2631 173.9377,-45.2631\"/>\n</g>\n</g>\n</svg>\n"
          },
          "metadata": {}
        },
        {
          "output_type": "display_data",
          "data": {
            "text/plain": [
              "<IPython.core.display.Markdown object>"
            ],
            "text/markdown": "---"
          },
          "metadata": {}
        },
        {
          "output_type": "stream",
          "name": "stdout",
          "text": [
            "JNTs:\n",
            "\tThis void CJN returns no tuples.\n",
            "\n"
          ]
        },
        {
          "output_type": "display_data",
          "data": {
            "text/plain": [
              "<IPython.core.display.Markdown object>"
            ],
            "text/markdown": "---"
          },
          "metadata": {}
        },
        {
          "output_type": "display_data",
          "data": {
            "text/plain": [
              "<IPython.core.display.Markdown object>"
            ],
            "text/markdown": "**8th CJN**:"
          },
          "metadata": {}
        },
        {
          "output_type": "display_data",
          "data": {
            "text/plain": [
              "<IPython.core.display.Markdown object>"
            ],
            "text/markdown": "---"
          },
          "metadata": {}
        },
        {
          "output_type": "stream",
          "name": "stdout",
          "text": [
            "Graph:\n"
          ]
        },
        {
          "output_type": "display_data",
          "data": {
            "text/plain": [
              "<graphviz.dot.Digraph at 0x7f0dfb4d8ad0>"
            ],
            "image/svg+xml": "<?xml version=\"1.0\" encoding=\"UTF-8\" standalone=\"no\"?>\n<!DOCTYPE svg PUBLIC \"-//W3C//DTD SVG 1.1//EN\"\n \"http://www.w3.org/Graphics/SVG/1.1/DTD/svg11.dtd\">\n<!-- Generated by graphviz version 2.40.1 (20161225.0304)\n -->\n<!-- Title: %3 Pages: 1 -->\n<svg width=\"540pt\" height=\"152pt\"\n viewBox=\"0.00 0.00 539.94 152.00\" xmlns=\"http://www.w3.org/2000/svg\" xmlns:xlink=\"http://www.w3.org/1999/xlink\">\n<g id=\"graph0\" class=\"graph\" transform=\"scale(1 1) rotate(0) translate(4 148)\">\n<title>%3</title>\n<polygon fill=\"#ffffff\" stroke=\"transparent\" points=\"-4,4 -4,-148 535.9371,-148 535.9371,4 -4,4\"/>\n<!-- t1 -->\n<g id=\"node1\" class=\"node\">\n<title>t1</title>\n<ellipse fill=\"none\" stroke=\"#000000\" cx=\"287.1495\" cy=\"-72\" rx=\"76.5758\" ry=\"18\"/>\n<text text-anchor=\"middle\" x=\"287.1495\" y=\"-69.8\" font-family=\"Times,serif\" font-size=\"9.00\" fill=\"#000000\">COUNTRY.v(name{saint,kitts})</text>\n</g>\n<!-- t2 -->\n<g id=\"node2\" class=\"node\">\n<title>t2</title>\n<ellipse fill=\"none\" stroke=\"#000000\" cx=\"192.1495\" cy=\"-18\" rx=\"27\" ry=\"18\"/>\n<text text-anchor=\"middle\" x=\"192.1495\" y=\"-15.8\" font-family=\"Times,serif\" font-size=\"9.00\" fill=\"#000000\">CITY</text>\n</g>\n<!-- t1&#45;&gt;t2 -->\n<g id=\"edge1\" class=\"edge\">\n<title>t1&#45;&gt;t2</title>\n<path fill=\"none\" stroke=\"#000000\" d=\"M257.8712,-55.3576C246.1141,-48.6746 232.6014,-40.9937 220.8979,-34.3412\"/>\n<polygon fill=\"#000000\" stroke=\"#000000\" points=\"222.1276,-31.4169 212.7467,-29.7078 219.0143,-36.8939 222.1276,-31.4169\"/>\n</g>\n<!-- t3 -->\n<g id=\"node3\" class=\"node\">\n<title>t3</title>\n<ellipse fill=\"none\" stroke=\"#000000\" cx=\"98.1495\" cy=\"-72\" rx=\"98.2993\" ry=\"18\"/>\n<text text-anchor=\"middle\" x=\"98.1495\" y=\"-69.8\" font-family=\"Times,serif\" font-size=\"9.00\" fill=\"#000000\">ORGANIZATION.v(name{organization})</text>\n</g>\n<!-- t3&#45;&gt;t2 -->\n<g id=\"edge2\" class=\"edge\">\n<title>t3&#45;&gt;t2</title>\n<path fill=\"none\" stroke=\"#000000\" d=\"M128.1502,-54.7656C139.5644,-48.2085 152.5246,-40.7632 163.7829,-34.2957\"/>\n<polygon fill=\"#000000\" stroke=\"#000000\" points=\"165.3985,-37.0004 171.6334,-29.7859 162.2603,-31.5377 165.3985,-37.0004\"/>\n</g>\n<!-- t4 -->\n<g id=\"node4\" class=\"node\">\n<title>t4</title>\n<ellipse fill=\"none\" stroke=\"#000000\" cx=\"371.1495\" cy=\"-126\" rx=\"34.1275\" ry=\"18\"/>\n<text text-anchor=\"middle\" x=\"371.1495\" y=\"-123.8\" font-family=\"Times,serif\" font-size=\"9.00\" fill=\"#000000\">BORDERS</text>\n</g>\n<!-- t4&#45;&gt;t1 -->\n<g id=\"edge4\" class=\"edge\">\n<title>t4&#45;&gt;t1</title>\n<path fill=\"none\" stroke=\"#000000\" d=\"M349.5175,-112.0937C340.9347,-106.5761 330.8546,-100.0961 321.3305,-93.9735\"/>\n<polygon fill=\"#000000\" stroke=\"#000000\" points=\"322.7802,-91.1607 313.5062,-88.9436 319.3734,-96.4601 322.7802,-91.1607\"/>\n</g>\n<!-- t5 -->\n<g id=\"node5\" class=\"node\">\n<title>t5</title>\n<ellipse fill=\"none\" stroke=\"#000000\" cx=\"455.1495\" cy=\"-72\" rx=\"76.5758\" ry=\"18\"/>\n<text text-anchor=\"middle\" x=\"455.1495\" y=\"-69.8\" font-family=\"Times,serif\" font-size=\"9.00\" fill=\"#000000\">COUNTRY.v(name{cambodia})</text>\n</g>\n<!-- t4&#45;&gt;t5 -->\n<g id=\"edge3\" class=\"edge\">\n<title>t4&#45;&gt;t5</title>\n<path fill=\"none\" stroke=\"#000000\" d=\"M392.7816,-112.0937C401.3644,-106.5761 411.4445,-100.0961 420.9686,-93.9735\"/>\n<polygon fill=\"#000000\" stroke=\"#000000\" points=\"422.9257,-96.4601 428.7929,-88.9436 419.5189,-91.1607 422.9257,-96.4601\"/>\n</g>\n</g>\n</svg>\n"
          },
          "metadata": {}
        },
        {
          "output_type": "display_data",
          "data": {
            "text/plain": [
              "<IPython.core.display.Markdown object>"
            ],
            "text/markdown": "---"
          },
          "metadata": {}
        },
        {
          "output_type": "stream",
          "name": "stdout",
          "text": [
            "JNTs:\n",
            "\tThis void CJN returns no tuples.\n",
            "\n"
          ]
        },
        {
          "output_type": "display_data",
          "data": {
            "text/plain": [
              "<IPython.core.display.Markdown object>"
            ],
            "text/markdown": "---"
          },
          "metadata": {}
        },
        {
          "output_type": "display_data",
          "data": {
            "text/plain": [
              "<IPython.core.display.Markdown object>"
            ],
            "text/markdown": "**9th CJN**:"
          },
          "metadata": {}
        },
        {
          "output_type": "display_data",
          "data": {
            "text/plain": [
              "<IPython.core.display.Markdown object>"
            ],
            "text/markdown": "---"
          },
          "metadata": {}
        },
        {
          "output_type": "stream",
          "name": "stdout",
          "text": [
            "Graph:\n"
          ]
        },
        {
          "output_type": "display_data",
          "data": {
            "text/plain": [
              "<graphviz.dot.Digraph at 0x7f0e01e8f790>"
            ],
            "image/svg+xml": "<?xml version=\"1.0\" encoding=\"UTF-8\" standalone=\"no\"?>\n<!DOCTYPE svg PUBLIC \"-//W3C//DTD SVG 1.1//EN\"\n \"http://www.w3.org/Graphics/SVG/1.1/DTD/svg11.dtd\">\n<!-- Generated by graphviz version 2.40.1 (20161225.0304)\n -->\n<!-- Title: %3 Pages: 1 -->\n<svg width=\"540pt\" height=\"152pt\"\n viewBox=\"0.00 0.00 539.94 152.00\" xmlns=\"http://www.w3.org/2000/svg\" xmlns:xlink=\"http://www.w3.org/1999/xlink\">\n<g id=\"graph0\" class=\"graph\" transform=\"scale(1 1) rotate(0) translate(4 148)\">\n<title>%3</title>\n<polygon fill=\"#ffffff\" stroke=\"transparent\" points=\"-4,4 -4,-148 535.9371,-148 535.9371,4 -4,4\"/>\n<!-- t1 -->\n<g id=\"node1\" class=\"node\">\n<title>t1</title>\n<ellipse fill=\"none\" stroke=\"#000000\" cx=\"76.7876\" cy=\"-72\" rx=\"76.5758\" ry=\"18\"/>\n<text text-anchor=\"middle\" x=\"76.7876\" y=\"-69.8\" font-family=\"Times,serif\" font-size=\"9.00\" fill=\"#000000\">COUNTRY.v(name{saint,kitts})</text>\n</g>\n<!-- t2 -->\n<g id=\"node2\" class=\"node\">\n<title>t2</title>\n<ellipse fill=\"none\" stroke=\"#000000\" cx=\"160.7876\" cy=\"-126\" rx=\"34.1275\" ry=\"18\"/>\n<text text-anchor=\"middle\" x=\"160.7876\" y=\"-123.8\" font-family=\"Times,serif\" font-size=\"9.00\" fill=\"#000000\">BORDERS</text>\n</g>\n<!-- t2&#45;&gt;t1 -->\n<g id=\"edge2\" class=\"edge\">\n<title>t2&#45;&gt;t1</title>\n<path fill=\"none\" stroke=\"#000000\" d=\"M139.1555,-112.0937C130.5727,-106.5761 120.4926,-100.0961 110.9686,-93.9735\"/>\n<polygon fill=\"#000000\" stroke=\"#000000\" points=\"112.4183,-91.1607 103.1442,-88.9436 109.0115,-96.4601 112.4183,-91.1607\"/>\n</g>\n<!-- t3 -->\n<g id=\"node3\" class=\"node\">\n<title>t3</title>\n<ellipse fill=\"none\" stroke=\"#000000\" cx=\"244.7876\" cy=\"-72\" rx=\"76.5758\" ry=\"18\"/>\n<text text-anchor=\"middle\" x=\"244.7876\" y=\"-69.8\" font-family=\"Times,serif\" font-size=\"9.00\" fill=\"#000000\">COUNTRY.v(name{cambodia})</text>\n</g>\n<!-- t2&#45;&gt;t3 -->\n<g id=\"edge1\" class=\"edge\">\n<title>t2&#45;&gt;t3</title>\n<path fill=\"none\" stroke=\"#000000\" d=\"M182.4197,-112.0937C191.0025,-106.5761 201.0826,-100.0961 210.6066,-93.9735\"/>\n<polygon fill=\"#000000\" stroke=\"#000000\" points=\"212.5637,-96.4601 218.4309,-88.9436 209.1569,-91.1607 212.5637,-96.4601\"/>\n</g>\n<!-- t4 -->\n<g id=\"node4\" class=\"node\">\n<title>t4</title>\n<ellipse fill=\"none\" stroke=\"#000000\" cx=\"338.7876\" cy=\"-18\" rx=\"27\" ry=\"18\"/>\n<text text-anchor=\"middle\" x=\"338.7876\" y=\"-15.8\" font-family=\"Times,serif\" font-size=\"9.00\" fill=\"#000000\">CITY</text>\n</g>\n<!-- t3&#45;&gt;t4 -->\n<g id=\"edge3\" class=\"edge\">\n<title>t3&#45;&gt;t4</title>\n<path fill=\"none\" stroke=\"#000000\" d=\"M274.0145,-55.2101C285.5504,-48.5831 298.7616,-40.9937 310.2311,-34.4048\"/>\n<polygon fill=\"#000000\" stroke=\"#000000\" points=\"311.9912,-37.0265 318.2261,-29.8119 308.853,-31.5637 311.9912,-37.0265\"/>\n</g>\n<!-- t5 -->\n<g id=\"node5\" class=\"node\">\n<title>t5</title>\n<ellipse fill=\"none\" stroke=\"#000000\" cx=\"433.7876\" cy=\"-72\" rx=\"98.2993\" ry=\"18\"/>\n<text text-anchor=\"middle\" x=\"433.7876\" y=\"-69.8\" font-family=\"Times,serif\" font-size=\"9.00\" fill=\"#000000\">ORGANIZATION.v(name{organization})</text>\n</g>\n<!-- t5&#45;&gt;t4 -->\n<g id=\"edge4\" class=\"edge\">\n<title>t5&#45;&gt;t4</title>\n<path fill=\"none\" stroke=\"#000000\" d=\"M403.4678,-54.7656C391.9321,-48.2085 378.834,-40.7632 367.456,-34.2957\"/>\n<polygon fill=\"#000000\" stroke=\"#000000\" points=\"368.903,-31.4949 359.522,-29.7859 365.7897,-36.9719 368.903,-31.4949\"/>\n</g>\n</g>\n</svg>\n"
          },
          "metadata": {}
        },
        {
          "output_type": "display_data",
          "data": {
            "text/plain": [
              "<IPython.core.display.Markdown object>"
            ],
            "text/markdown": "---"
          },
          "metadata": {}
        },
        {
          "output_type": "stream",
          "name": "stdout",
          "text": [
            "JNTs:\n",
            "\tThis void CJN returns no tuples.\n",
            "\n"
          ]
        },
        {
          "output_type": "display_data",
          "data": {
            "text/plain": [
              "<IPython.core.display.Markdown object>"
            ],
            "text/markdown": "---"
          },
          "metadata": {}
        },
        {
          "output_type": "display_data",
          "data": {
            "text/plain": [
              "<IPython.core.display.Markdown object>"
            ],
            "text/markdown": "**10th CJN**:"
          },
          "metadata": {}
        },
        {
          "output_type": "display_data",
          "data": {
            "text/plain": [
              "<IPython.core.display.Markdown object>"
            ],
            "text/markdown": "---"
          },
          "metadata": {}
        },
        {
          "output_type": "stream",
          "name": "stdout",
          "text": [
            "Graph:\n"
          ]
        },
        {
          "output_type": "display_data",
          "data": {
            "text/plain": [
              "<graphviz.dot.Digraph at 0x7f0dfb287210>"
            ],
            "image/svg+xml": "<?xml version=\"1.0\" encoding=\"UTF-8\" standalone=\"no\"?>\n<!DOCTYPE svg PUBLIC \"-//W3C//DTD SVG 1.1//EN\"\n \"http://www.w3.org/Graphics/SVG/1.1/DTD/svg11.dtd\">\n<!-- Generated by graphviz version 2.40.1 (20161225.0304)\n -->\n<!-- Title: %3 Pages: 1 -->\n<svg width=\"540pt\" height=\"98pt\"\n viewBox=\"0.00 0.00 539.94 98.00\" xmlns=\"http://www.w3.org/2000/svg\" xmlns:xlink=\"http://www.w3.org/1999/xlink\">\n<g id=\"graph0\" class=\"graph\" transform=\"scale(1 1) rotate(0) translate(4 94)\">\n<title>%3</title>\n<polygon fill=\"#ffffff\" stroke=\"transparent\" points=\"-4,4 -4,-94 535.9371,-94 535.9371,4 -4,4\"/>\n<!-- t1 -->\n<g id=\"node1\" class=\"node\">\n<title>t1</title>\n<ellipse fill=\"none\" stroke=\"#000000\" cx=\"76.7876\" cy=\"-18\" rx=\"76.5758\" ry=\"18\"/>\n<text text-anchor=\"middle\" x=\"76.7876\" y=\"-15.8\" font-family=\"Times,serif\" font-size=\"9.00\" fill=\"#000000\">COUNTRY.v(name{saint,kitts})</text>\n</g>\n<!-- t2 -->\n<g id=\"node2\" class=\"node\">\n<title>t2</title>\n<ellipse fill=\"none\" stroke=\"#000000\" cx=\"180.7876\" cy=\"-72\" rx=\"34.1275\" ry=\"18\"/>\n<text text-anchor=\"middle\" x=\"180.7876\" y=\"-69.8\" font-family=\"Times,serif\" font-size=\"9.00\" fill=\"#000000\">BORDERS</text>\n</g>\n<!-- t2&#45;&gt;t1 -->\n<g id=\"edge2\" class=\"edge\">\n<title>t2&#45;&gt;t1</title>\n<path fill=\"none\" stroke=\"#000000\" d=\"M156.4042,-59.3394C144.5712,-53.1953 130.0503,-45.6557 116.6645,-38.7053\"/>\n<polygon fill=\"#000000\" stroke=\"#000000\" points=\"117.9498,-35.8234 108.5108,-34.4717 115.0467,-41.4147 117.9498,-35.8234\"/>\n</g>\n<!-- t3 -->\n<g id=\"node3\" class=\"node\">\n<title>t3</title>\n<ellipse fill=\"none\" stroke=\"#000000\" cx=\"244.7876\" cy=\"-18\" rx=\"76.5758\" ry=\"18\"/>\n<text text-anchor=\"middle\" x=\"244.7876\" y=\"-15.8\" font-family=\"Times,serif\" font-size=\"9.00\" fill=\"#000000\">COUNTRY.v(name{cambodia})</text>\n</g>\n<!-- t2&#45;&gt;t3 -->\n<g id=\"edge1\" class=\"edge\">\n<title>t2&#45;&gt;t3</title>\n<path fill=\"none\" stroke=\"#000000\" d=\"M198.9562,-56.6702C204.5873,-51.919 210.926,-46.5707 217.0523,-41.4016\"/>\n<polygon fill=\"#000000\" stroke=\"#000000\" points=\"219.2442,-43.6737 224.0915,-35.4623 215.1815,-38.8587 219.2442,-43.6737\"/>\n</g>\n<!-- t4 -->\n<g id=\"node4\" class=\"node\">\n<title>t4</title>\n<ellipse fill=\"none\" stroke=\"#000000\" cx=\"307.7876\" cy=\"-72\" rx=\"39.0211\" ry=\"18\"/>\n<text text-anchor=\"middle\" x=\"307.7876\" y=\"-69.8\" font-family=\"Times,serif\" font-size=\"9.00\" fill=\"#000000\">IS_MEMBER</text>\n</g>\n<!-- t4&#45;&gt;t3 -->\n<g id=\"edge3\" class=\"edge\">\n<title>t4&#45;&gt;t3</title>\n<path fill=\"none\" stroke=\"#000000\" d=\"M289.2263,-56.0903C283.918,-51.5404 278.0164,-46.4818 272.2936,-41.5766\"/>\n<polygon fill=\"#000000\" stroke=\"#000000\" points=\"274.0817,-38.9604 265.1984,-35.495 269.9817,-43.7438 274.0817,-38.9604\"/>\n</g>\n<!-- t5 -->\n<g id=\"node5\" class=\"node\">\n<title>t5</title>\n<ellipse fill=\"none\" stroke=\"#000000\" cx=\"433.7876\" cy=\"-18\" rx=\"98.2993\" ry=\"18\"/>\n<text text-anchor=\"middle\" x=\"433.7876\" y=\"-15.8\" font-family=\"Times,serif\" font-size=\"9.00\" fill=\"#000000\">ORGANIZATION.v(name{organization})</text>\n</g>\n<!-- t4&#45;&gt;t5 -->\n<g id=\"edge4\" class=\"edge\">\n<title>t4&#45;&gt;t5</title>\n<path fill=\"none\" stroke=\"#000000\" d=\"M336.6945,-59.6113C351.4197,-53.3005 369.7009,-45.4657 386.4155,-38.3023\"/>\n<polygon fill=\"#000000\" stroke=\"#000000\" points=\"387.9548,-41.0698 394.9862,-34.6292 385.473,-35.2792 387.9548,-41.0698\"/>\n</g>\n</g>\n</svg>\n"
          },
          "metadata": {}
        },
        {
          "output_type": "display_data",
          "data": {
            "text/plain": [
              "<IPython.core.display.Markdown object>"
            ],
            "text/markdown": "---"
          },
          "metadata": {}
        },
        {
          "output_type": "stream",
          "name": "stdout",
          "text": [
            "JNTs:\n",
            "\tThis void CJN returns no tuples.\n",
            "\n"
          ]
        }
      ]
    },
    {
      "cell_type": "markdown",
      "source": [
        "#### Keyword Search using Eager CJN Evaluation."
      ],
      "metadata": {
        "id": "CIaGmx4aWP7v"
      }
    },
    {
      "cell_type": "code",
      "source": [
        "results = lathe.keyword_search('saint kitts cambodia organization',configuration = (5,1,9))\n",
        "results.cjns(text=False,sql=False)"
      ],
      "metadata": {
        "id": "5_Zm3eGktEQH",
        "colab": {
          "base_uri": "https://localhost:8080/",
          "height": 906
        },
        "outputId": "eaabc880-fd49-4c92-fabe-8fdf1ea0f26b"
      },
      "execution_count": null,
      "outputs": [
        {
          "output_type": "stream",
          "name": "stdout",
          "text": [
            "Keyword Query: saint kitts cambodia organization\n"
          ]
        },
        {
          "output_type": "display_data",
          "data": {
            "text/plain": [
              "<IPython.core.display.Markdown object>"
            ],
            "text/markdown": "---"
          },
          "metadata": {}
        },
        {
          "output_type": "display_data",
          "data": {
            "text/plain": [
              "<IPython.core.display.Markdown object>"
            ],
            "text/markdown": "**1st CJN**:"
          },
          "metadata": {}
        },
        {
          "output_type": "display_data",
          "data": {
            "text/plain": [
              "<IPython.core.display.Markdown object>"
            ],
            "text/markdown": "---"
          },
          "metadata": {}
        },
        {
          "output_type": "stream",
          "name": "stdout",
          "text": [
            "Graph:\n"
          ]
        },
        {
          "output_type": "display_data",
          "data": {
            "text/plain": [
              "<graphviz.dot.Digraph at 0x7f0dfb412c10>"
            ],
            "image/svg+xml": "<?xml version=\"1.0\" encoding=\"UTF-8\" standalone=\"no\"?>\n<!DOCTYPE svg PUBLIC \"-//W3C//DTD SVG 1.1//EN\"\n \"http://www.w3.org/Graphics/SVG/1.1/DTD/svg11.dtd\">\n<!-- Generated by graphviz version 2.40.1 (20161225.0304)\n -->\n<!-- Title: %3 Pages: 1 -->\n<svg width=\"522pt\" height=\"98pt\"\n viewBox=\"0.00 0.00 521.58 98.00\" xmlns=\"http://www.w3.org/2000/svg\" xmlns:xlink=\"http://www.w3.org/1999/xlink\">\n<g id=\"graph0\" class=\"graph\" transform=\"scale(1 1) rotate(0) translate(4 94)\">\n<title>%3</title>\n<polygon fill=\"#ffffff\" stroke=\"transparent\" points=\"-4,4 -4,-94 517.5752,-94 517.5752,4 -4,4\"/>\n<!-- t1 -->\n<g id=\"node1\" class=\"node\">\n<title>t1</title>\n<ellipse fill=\"none\" stroke=\"#000000\" cx=\"76.7876\" cy=\"-18\" rx=\"76.5758\" ry=\"18\"/>\n<text text-anchor=\"middle\" x=\"76.7876\" y=\"-15.8\" font-family=\"Times,serif\" font-size=\"9.00\" fill=\"#000000\">COUNTRY.v(name{saint,kitts})</text>\n</g>\n<!-- t2 -->\n<g id=\"node2\" class=\"node\">\n<title>t2</title>\n<ellipse fill=\"none\" stroke=\"#000000\" cx=\"188.7876\" cy=\"-72\" rx=\"39.0211\" ry=\"18\"/>\n<text text-anchor=\"middle\" x=\"188.7876\" y=\"-69.8\" font-family=\"Times,serif\" font-size=\"9.00\" fill=\"#000000\">IS_MEMBER</text>\n</g>\n<!-- t2&#45;&gt;t1 -->\n<g id=\"edge2\" class=\"edge\">\n<title>t2&#45;&gt;t1</title>\n<path fill=\"none\" stroke=\"#000000\" d=\"M161.6755,-58.9281C148.7953,-52.718 133.1075,-45.1543 118.7389,-38.2265\"/>\n<polygon fill=\"#000000\" stroke=\"#000000\" points=\"119.9374,-35.3074 110.4625,-34.2361 117.2013,-40.9823 119.9374,-35.3074\"/>\n</g>\n<!-- t3 -->\n<g id=\"node3\" class=\"node\">\n<title>t3</title>\n<ellipse fill=\"none\" stroke=\"#000000\" cx=\"256.7876\" cy=\"-18\" rx=\"89.4786\" ry=\"18\"/>\n<text text-anchor=\"middle\" x=\"256.7876\" y=\"-15.8\" font-family=\"Times,serif\" font-size=\"9.00\" fill=\"#000000\">ORGANIZATION.s(*{organization})</text>\n</g>\n<!-- t2&#45;&gt;t3 -->\n<g id=\"edge1\" class=\"edge\">\n<title>t2&#45;&gt;t3</title>\n<path fill=\"none\" stroke=\"#000000\" d=\"M208.456,-56.381C214.3201,-51.7242 220.8803,-46.5146 227.2303,-41.472\"/>\n<polygon fill=\"#000000\" stroke=\"#000000\" points=\"229.4445,-43.7361 234.5336,-35.6723 225.5266,-38.8024 229.4445,-43.7361\"/>\n</g>\n<!-- t4 -->\n<g id=\"node4\" class=\"node\">\n<title>t4</title>\n<ellipse fill=\"none\" stroke=\"#000000\" cx=\"324.7876\" cy=\"-72\" rx=\"39.0211\" ry=\"18\"/>\n<text text-anchor=\"middle\" x=\"324.7876\" y=\"-69.8\" font-family=\"Times,serif\" font-size=\"9.00\" fill=\"#000000\">IS_MEMBER</text>\n</g>\n<!-- t4&#45;&gt;t3 -->\n<g id=\"edge4\" class=\"edge\">\n<title>t4&#45;&gt;t3</title>\n<path fill=\"none\" stroke=\"#000000\" d=\"M305.1192,-56.381C299.2551,-51.7242 292.6948,-46.5146 286.3449,-41.472\"/>\n<polygon fill=\"#000000\" stroke=\"#000000\" points=\"288.0485,-38.8024 279.0416,-35.6723 284.1306,-43.7361 288.0485,-38.8024\"/>\n</g>\n<!-- t5 -->\n<g id=\"node5\" class=\"node\">\n<title>t5</title>\n<ellipse fill=\"none\" stroke=\"#000000\" cx=\"436.7876\" cy=\"-18\" rx=\"76.5758\" ry=\"18\"/>\n<text text-anchor=\"middle\" x=\"436.7876\" y=\"-15.8\" font-family=\"Times,serif\" font-size=\"9.00\" fill=\"#000000\">COUNTRY.v(name{cambodia})</text>\n</g>\n<!-- t4&#45;&gt;t5 -->\n<g id=\"edge3\" class=\"edge\">\n<title>t4&#45;&gt;t5</title>\n<path fill=\"none\" stroke=\"#000000\" d=\"M351.8997,-58.9281C364.7798,-52.718 380.4677,-45.1543 394.8363,-38.2265\"/>\n<polygon fill=\"#000000\" stroke=\"#000000\" points=\"396.3739,-40.9823 403.1127,-34.2361 393.6377,-35.3074 396.3739,-40.9823\"/>\n</g>\n</g>\n</svg>\n"
          },
          "metadata": {}
        },
        {
          "output_type": "display_data",
          "data": {
            "text/plain": [
              "<IPython.core.display.Markdown object>"
            ],
            "text/markdown": "---"
          },
          "metadata": {}
        },
        {
          "output_type": "stream",
          "name": "stdout",
          "text": [
            "JNTs:\n"
          ]
        },
        {
          "output_type": "display_data",
          "data": {
            "text/plain": [
              "       name                   name abbreviation  \\\n",
              "0  Cambodia  Saint Kitts and Nevis          FAO   \n",
              "1  Cambodia  Saint Kitts and Nevis         G-77   \n",
              "2  Cambodia  Saint Kitts and Nevis         IBRD   \n",
              "3  Cambodia  Saint Kitts and Nevis     Interpol   \n",
              "4  Cambodia  Saint Kitts and Nevis          IDA   \n",
              "\n",
              "                                                name        city country  \\\n",
              "0                  Food and Agriculture Organization        Rome       I   \n",
              "1                                        Group of 77        None    None   \n",
              "2  International Bank for Reconstruction and Deve...  Washington     USA   \n",
              "3         International Criminal Police Organization        Lyon       F   \n",
              "4              International Development Association  Washington     USA   \n",
              "\n",
              "          province established  __search_id  \n",
              "0            Lazio  1945-10-16        14707  \n",
              "1             None  1967-10-01        14723  \n",
              "2  Distr. Columbia  1944-07-22        14728  \n",
              "3      Rhone Alpes  1956-06-13        14734  \n",
              "4  Distr. Columbia  1960-01-26        14735  "
            ],
            "text/html": [
              "\n",
              "  <div id=\"df-47d813f9-3875-4ff1-83b3-809c493f6626\">\n",
              "    <div class=\"colab-df-container\">\n",
              "      <div>\n",
              "<style scoped>\n",
              "    .dataframe tbody tr th:only-of-type {\n",
              "        vertical-align: middle;\n",
              "    }\n",
              "\n",
              "    .dataframe tbody tr th {\n",
              "        vertical-align: top;\n",
              "    }\n",
              "\n",
              "    .dataframe thead th {\n",
              "        text-align: right;\n",
              "    }\n",
              "</style>\n",
              "<table border=\"1\" class=\"dataframe\">\n",
              "  <thead>\n",
              "    <tr style=\"text-align: right;\">\n",
              "      <th></th>\n",
              "      <th>name</th>\n",
              "      <th>name</th>\n",
              "      <th>abbreviation</th>\n",
              "      <th>name</th>\n",
              "      <th>city</th>\n",
              "      <th>country</th>\n",
              "      <th>province</th>\n",
              "      <th>established</th>\n",
              "      <th>__search_id</th>\n",
              "    </tr>\n",
              "  </thead>\n",
              "  <tbody>\n",
              "    <tr>\n",
              "      <th>0</th>\n",
              "      <td>Cambodia</td>\n",
              "      <td>Saint Kitts and Nevis</td>\n",
              "      <td>FAO</td>\n",
              "      <td>Food and Agriculture Organization</td>\n",
              "      <td>Rome</td>\n",
              "      <td>I</td>\n",
              "      <td>Lazio</td>\n",
              "      <td>1945-10-16</td>\n",
              "      <td>14707</td>\n",
              "    </tr>\n",
              "    <tr>\n",
              "      <th>1</th>\n",
              "      <td>Cambodia</td>\n",
              "      <td>Saint Kitts and Nevis</td>\n",
              "      <td>G-77</td>\n",
              "      <td>Group of 77</td>\n",
              "      <td>None</td>\n",
              "      <td>None</td>\n",
              "      <td>None</td>\n",
              "      <td>1967-10-01</td>\n",
              "      <td>14723</td>\n",
              "    </tr>\n",
              "    <tr>\n",
              "      <th>2</th>\n",
              "      <td>Cambodia</td>\n",
              "      <td>Saint Kitts and Nevis</td>\n",
              "      <td>IBRD</td>\n",
              "      <td>International Bank for Reconstruction and Deve...</td>\n",
              "      <td>Washington</td>\n",
              "      <td>USA</td>\n",
              "      <td>Distr. Columbia</td>\n",
              "      <td>1944-07-22</td>\n",
              "      <td>14728</td>\n",
              "    </tr>\n",
              "    <tr>\n",
              "      <th>3</th>\n",
              "      <td>Cambodia</td>\n",
              "      <td>Saint Kitts and Nevis</td>\n",
              "      <td>Interpol</td>\n",
              "      <td>International Criminal Police Organization</td>\n",
              "      <td>Lyon</td>\n",
              "      <td>F</td>\n",
              "      <td>Rhone Alpes</td>\n",
              "      <td>1956-06-13</td>\n",
              "      <td>14734</td>\n",
              "    </tr>\n",
              "    <tr>\n",
              "      <th>4</th>\n",
              "      <td>Cambodia</td>\n",
              "      <td>Saint Kitts and Nevis</td>\n",
              "      <td>IDA</td>\n",
              "      <td>International Development Association</td>\n",
              "      <td>Washington</td>\n",
              "      <td>USA</td>\n",
              "      <td>Distr. Columbia</td>\n",
              "      <td>1960-01-26</td>\n",
              "      <td>14735</td>\n",
              "    </tr>\n",
              "  </tbody>\n",
              "</table>\n",
              "</div>\n",
              "      <button class=\"colab-df-convert\" onclick=\"convertToInteractive('df-47d813f9-3875-4ff1-83b3-809c493f6626')\"\n",
              "              title=\"Convert this dataframe to an interactive table.\"\n",
              "              style=\"display:none;\">\n",
              "        \n",
              "  <svg xmlns=\"http://www.w3.org/2000/svg\" height=\"24px\"viewBox=\"0 0 24 24\"\n",
              "       width=\"24px\">\n",
              "    <path d=\"M0 0h24v24H0V0z\" fill=\"none\"/>\n",
              "    <path d=\"M18.56 5.44l.94 2.06.94-2.06 2.06-.94-2.06-.94-.94-2.06-.94 2.06-2.06.94zm-11 1L8.5 8.5l.94-2.06 2.06-.94-2.06-.94L8.5 2.5l-.94 2.06-2.06.94zm10 10l.94 2.06.94-2.06 2.06-.94-2.06-.94-.94-2.06-.94 2.06-2.06.94z\"/><path d=\"M17.41 7.96l-1.37-1.37c-.4-.4-.92-.59-1.43-.59-.52 0-1.04.2-1.43.59L10.3 9.45l-7.72 7.72c-.78.78-.78 2.05 0 2.83L4 21.41c.39.39.9.59 1.41.59.51 0 1.02-.2 1.41-.59l7.78-7.78 2.81-2.81c.8-.78.8-2.07 0-2.86zM5.41 20L4 18.59l7.72-7.72 1.47 1.35L5.41 20z\"/>\n",
              "  </svg>\n",
              "      </button>\n",
              "      \n",
              "  <style>\n",
              "    .colab-df-container {\n",
              "      display:flex;\n",
              "      flex-wrap:wrap;\n",
              "      gap: 12px;\n",
              "    }\n",
              "\n",
              "    .colab-df-convert {\n",
              "      background-color: #E8F0FE;\n",
              "      border: none;\n",
              "      border-radius: 50%;\n",
              "      cursor: pointer;\n",
              "      display: none;\n",
              "      fill: #1967D2;\n",
              "      height: 32px;\n",
              "      padding: 0 0 0 0;\n",
              "      width: 32px;\n",
              "    }\n",
              "\n",
              "    .colab-df-convert:hover {\n",
              "      background-color: #E2EBFA;\n",
              "      box-shadow: 0px 1px 2px rgba(60, 64, 67, 0.3), 0px 1px 3px 1px rgba(60, 64, 67, 0.15);\n",
              "      fill: #174EA6;\n",
              "    }\n",
              "\n",
              "    [theme=dark] .colab-df-convert {\n",
              "      background-color: #3B4455;\n",
              "      fill: #D2E3FC;\n",
              "    }\n",
              "\n",
              "    [theme=dark] .colab-df-convert:hover {\n",
              "      background-color: #434B5C;\n",
              "      box-shadow: 0px 1px 3px 1px rgba(0, 0, 0, 0.15);\n",
              "      filter: drop-shadow(0px 1px 2px rgba(0, 0, 0, 0.3));\n",
              "      fill: #FFFFFF;\n",
              "    }\n",
              "  </style>\n",
              "\n",
              "      <script>\n",
              "        const buttonEl =\n",
              "          document.querySelector('#df-47d813f9-3875-4ff1-83b3-809c493f6626 button.colab-df-convert');\n",
              "        buttonEl.style.display =\n",
              "          google.colab.kernel.accessAllowed ? 'block' : 'none';\n",
              "\n",
              "        async function convertToInteractive(key) {\n",
              "          const element = document.querySelector('#df-47d813f9-3875-4ff1-83b3-809c493f6626');\n",
              "          const dataTable =\n",
              "            await google.colab.kernel.invokeFunction('convertToInteractive',\n",
              "                                                     [key], {});\n",
              "          if (!dataTable) return;\n",
              "\n",
              "          const docLinkHtml = 'Like what you see? Visit the ' +\n",
              "            '<a target=\"_blank\" href=https://colab.research.google.com/notebooks/data_table.ipynb>data table notebook</a>'\n",
              "            + ' to learn more about interactive tables.';\n",
              "          element.innerHTML = '';\n",
              "          dataTable['output_type'] = 'display_data';\n",
              "          await google.colab.output.renderOutput(dataTable, element);\n",
              "          const docLink = document.createElement('div');\n",
              "          docLink.innerHTML = docLinkHtml;\n",
              "          element.appendChild(docLink);\n",
              "        }\n",
              "      </script>\n",
              "    </div>\n",
              "  </div>\n",
              "  "
            ],
            "application/vnd.google.colaboratory.module+javascript": "\n      import \"https://ssl.gstatic.com/colaboratory/data_table/f872b2c2305463fd/data_table.js\";\n\n      window.createDataTable({\n        data: [[{\n            'v': 0,\n            'f': \"0\",\n        },\n\"Cambodia\",\n\"Saint Kitts and Nevis\",\n\"FAO\",\n\"Food and Agriculture Organization\",\n\"Rome\",\n\"I\",\n\"Lazio\",\n\"1945-10-16\",\n{\n            'v': 14707,\n            'f': \"14707\",\n        }],\n [{\n            'v': 1,\n            'f': \"1\",\n        },\n\"Cambodia\",\n\"Saint Kitts and Nevis\",\n\"G-77\",\n\"Group of 77\",\nnull,\nnull,\nnull,\n\"1967-10-01\",\n{\n            'v': 14723,\n            'f': \"14723\",\n        }],\n [{\n            'v': 2,\n            'f': \"2\",\n        },\n\"Cambodia\",\n\"Saint Kitts and Nevis\",\n\"IBRD\",\n\"International Bank for Reconstruction and Development\",\n\"Washington\",\n\"USA\",\n\"Distr. Columbia\",\n\"1944-07-22\",\n{\n            'v': 14728,\n            'f': \"14728\",\n        }],\n [{\n            'v': 3,\n            'f': \"3\",\n        },\n\"Cambodia\",\n\"Saint Kitts and Nevis\",\n\"Interpol\",\n\"International Criminal Police Organization\",\n\"Lyon\",\n\"F\",\n\"Rhone Alpes\",\n\"1956-06-13\",\n{\n            'v': 14734,\n            'f': \"14734\",\n        }],\n [{\n            'v': 4,\n            'f': \"4\",\n        },\n\"Cambodia\",\n\"Saint Kitts and Nevis\",\n\"IDA\",\n\"International Development Association\",\n\"Washington\",\n\"USA\",\n\"Distr. Columbia\",\n\"1960-01-26\",\n{\n            'v': 14735,\n            'f': \"14735\",\n        }]],\n        columns: [[\"number\", \"index\"], [\"string\", \"name\"], [\"string\", \"name\"], [\"string\", \"abbreviation\"], [\"string\", \"name\"], [\"string\", \"city\"], [\"string\", \"country\"], [\"string\", \"province\"], [\"string\", \"established\"], [\"number\", \"__search_id\"]],\n        columnOptions: [{\"width\": \"1px\", \"className\": \"index_column\"}],\n        rowsPerPage: 25,\n        helpUrl: \"https://colab.research.google.com/notebooks/data_table.ipynb\",\n        suppressOutputScrolling: true,\n        minimumWidth: undefined,\n      });\n    "
          },
          "metadata": {}
        },
        {
          "output_type": "stream",
          "name": "stdout",
          "text": [
            "\n"
          ]
        },
        {
          "output_type": "display_data",
          "data": {
            "text/plain": [
              "<IPython.core.display.Markdown object>"
            ],
            "text/markdown": "---"
          },
          "metadata": {}
        },
        {
          "output_type": "display_data",
          "data": {
            "text/plain": [
              "<IPython.core.display.Markdown object>"
            ],
            "text/markdown": "**2nd CJN**:"
          },
          "metadata": {}
        },
        {
          "output_type": "display_data",
          "data": {
            "text/plain": [
              "<IPython.core.display.Markdown object>"
            ],
            "text/markdown": "---"
          },
          "metadata": {}
        },
        {
          "output_type": "stream",
          "name": "stdout",
          "text": [
            "Graph:\n"
          ]
        },
        {
          "output_type": "display_data",
          "data": {
            "text/plain": [
              "<graphviz.dot.Digraph at 0x7f0dfb412d50>"
            ],
            "image/svg+xml": "<?xml version=\"1.0\" encoding=\"UTF-8\" standalone=\"no\"?>\n<!DOCTYPE svg PUBLIC \"-//W3C//DTD SVG 1.1//EN\"\n \"http://www.w3.org/Graphics/SVG/1.1/DTD/svg11.dtd\">\n<!-- Generated by graphviz version 2.40.1 (20161225.0304)\n -->\n<!-- Title: %3 Pages: 1 -->\n<svg width=\"540pt\" height=\"98pt\"\n viewBox=\"0.00 0.00 539.58 98.00\" xmlns=\"http://www.w3.org/2000/svg\" xmlns:xlink=\"http://www.w3.org/1999/xlink\">\n<g id=\"graph0\" class=\"graph\" transform=\"scale(1 1) rotate(0) translate(4 94)\">\n<title>%3</title>\n<polygon fill=\"#ffffff\" stroke=\"transparent\" points=\"-4,4 -4,-94 535.5752,-94 535.5752,4 -4,4\"/>\n<!-- t1 -->\n<g id=\"node1\" class=\"node\">\n<title>t1</title>\n<ellipse fill=\"none\" stroke=\"#000000\" cx=\"76.7876\" cy=\"-18\" rx=\"76.5758\" ry=\"18\"/>\n<text text-anchor=\"middle\" x=\"76.7876\" y=\"-15.8\" font-family=\"Times,serif\" font-size=\"9.00\" fill=\"#000000\">COUNTRY.v(name{saint,kitts})</text>\n</g>\n<!-- t2 -->\n<g id=\"node2\" class=\"node\">\n<title>t2</title>\n<ellipse fill=\"none\" stroke=\"#000000\" cx=\"194.7876\" cy=\"-72\" rx=\"39.0211\" ry=\"18\"/>\n<text text-anchor=\"middle\" x=\"194.7876\" y=\"-69.8\" font-family=\"Times,serif\" font-size=\"9.00\" fill=\"#000000\">IS_MEMBER</text>\n</g>\n<!-- t2&#45;&gt;t1 -->\n<g id=\"edge2\" class=\"edge\">\n<title>t2&#45;&gt;t1</title>\n<path fill=\"none\" stroke=\"#000000\" d=\"M166.8232,-59.2028C153.0223,-52.8871 136.0542,-45.122 120.583,-38.042\"/>\n<polygon fill=\"#000000\" stroke=\"#000000\" points=\"121.6661,-35.0735 112.1715,-34.1926 119.0445,-40.8021 121.6661,-35.0735\"/>\n</g>\n<!-- t3 -->\n<g id=\"node3\" class=\"node\">\n<title>t3</title>\n<ellipse fill=\"none\" stroke=\"#000000\" cx=\"265.7876\" cy=\"-18\" rx=\"98.2993\" ry=\"18\"/>\n<text text-anchor=\"middle\" x=\"265.7876\" y=\"-15.8\" font-family=\"Times,serif\" font-size=\"9.00\" fill=\"#000000\">ORGANIZATION.v(name{organization})</text>\n</g>\n<!-- t2&#45;&gt;t3 -->\n<g id=\"edge1\" class=\"edge\">\n<title>t2&#45;&gt;t3</title>\n<path fill=\"none\" stroke=\"#000000\" d=\"M215.3237,-56.381C221.5796,-51.623 228.5944,-46.2878 235.3584,-41.1434\"/>\n<polygon fill=\"#000000\" stroke=\"#000000\" points=\"237.2952,-43.6279 242.5518,-35.6723 233.4814,-38.6134 237.2952,-43.6279\"/>\n</g>\n<!-- t4 -->\n<g id=\"node4\" class=\"node\">\n<title>t4</title>\n<ellipse fill=\"none\" stroke=\"#000000\" cx=\"335.7876\" cy=\"-72\" rx=\"39.0211\" ry=\"18\"/>\n<text text-anchor=\"middle\" x=\"335.7876\" y=\"-69.8\" font-family=\"Times,serif\" font-size=\"9.00\" fill=\"#000000\">IS_MEMBER</text>\n</g>\n<!-- t4&#45;&gt;t3 -->\n<g id=\"edge4\" class=\"edge\">\n<title>t4&#45;&gt;t3</title>\n<path fill=\"none\" stroke=\"#000000\" d=\"M315.5407,-56.381C309.5041,-51.7242 302.7509,-46.5146 296.2142,-41.472\"/>\n<polygon fill=\"#000000\" stroke=\"#000000\" points=\"297.7462,-38.6754 288.6961,-35.6723 293.8981,-43.6637 297.7462,-38.6754\"/>\n</g>\n<!-- t5 -->\n<g id=\"node5\" class=\"node\">\n<title>t5</title>\n<ellipse fill=\"none\" stroke=\"#000000\" cx=\"454.7876\" cy=\"-18\" rx=\"76.5758\" ry=\"18\"/>\n<text text-anchor=\"middle\" x=\"454.7876\" y=\"-15.8\" font-family=\"Times,serif\" font-size=\"9.00\" fill=\"#000000\">COUNTRY.v(name{cambodia})</text>\n</g>\n<!-- t4&#45;&gt;t5 -->\n<g id=\"edge3\" class=\"edge\">\n<title>t4&#45;&gt;t5</title>\n<path fill=\"none\" stroke=\"#000000\" d=\"M363.9889,-59.2028C378.0228,-52.8344 395.3042,-44.9925 411.0108,-37.8651\"/>\n<polygon fill=\"#000000\" stroke=\"#000000\" points=\"412.6501,-40.5804 419.5441,-33.9929 410.0467,-34.8435 412.6501,-40.5804\"/>\n</g>\n</g>\n</svg>\n"
          },
          "metadata": {}
        },
        {
          "output_type": "display_data",
          "data": {
            "text/plain": [
              "<IPython.core.display.Markdown object>"
            ],
            "text/markdown": "---"
          },
          "metadata": {}
        },
        {
          "output_type": "stream",
          "name": "stdout",
          "text": [
            "JNTs:\n"
          ]
        },
        {
          "output_type": "display_data",
          "data": {
            "text/plain": [
              "       name                   name  \\\n",
              "0  Cambodia  Saint Kitts and Nevis   \n",
              "1  Cambodia  Saint Kitts and Nevis   \n",
              "2  Cambodia  Saint Kitts and Nevis   \n",
              "3  Cambodia  Saint Kitts and Nevis   \n",
              "4  Cambodia  Saint Kitts and Nevis   \n",
              "\n",
              "                                                name  \n",
              "0                  Food and Agriculture Organization  \n",
              "1         International Criminal Police Organization  \n",
              "2  United Nations Educational, Scientific, and Cu...  \n",
              "3  United Nations Industrial Development Organiza...  \n",
              "4                          World Health Organization  "
            ],
            "text/html": [
              "\n",
              "  <div id=\"df-935581ef-c49d-47f0-887b-ab57b67730ee\">\n",
              "    <div class=\"colab-df-container\">\n",
              "      <div>\n",
              "<style scoped>\n",
              "    .dataframe tbody tr th:only-of-type {\n",
              "        vertical-align: middle;\n",
              "    }\n",
              "\n",
              "    .dataframe tbody tr th {\n",
              "        vertical-align: top;\n",
              "    }\n",
              "\n",
              "    .dataframe thead th {\n",
              "        text-align: right;\n",
              "    }\n",
              "</style>\n",
              "<table border=\"1\" class=\"dataframe\">\n",
              "  <thead>\n",
              "    <tr style=\"text-align: right;\">\n",
              "      <th></th>\n",
              "      <th>name</th>\n",
              "      <th>name</th>\n",
              "      <th>name</th>\n",
              "    </tr>\n",
              "  </thead>\n",
              "  <tbody>\n",
              "    <tr>\n",
              "      <th>0</th>\n",
              "      <td>Cambodia</td>\n",
              "      <td>Saint Kitts and Nevis</td>\n",
              "      <td>Food and Agriculture Organization</td>\n",
              "    </tr>\n",
              "    <tr>\n",
              "      <th>1</th>\n",
              "      <td>Cambodia</td>\n",
              "      <td>Saint Kitts and Nevis</td>\n",
              "      <td>International Criminal Police Organization</td>\n",
              "    </tr>\n",
              "    <tr>\n",
              "      <th>2</th>\n",
              "      <td>Cambodia</td>\n",
              "      <td>Saint Kitts and Nevis</td>\n",
              "      <td>United Nations Educational, Scientific, and Cu...</td>\n",
              "    </tr>\n",
              "    <tr>\n",
              "      <th>3</th>\n",
              "      <td>Cambodia</td>\n",
              "      <td>Saint Kitts and Nevis</td>\n",
              "      <td>United Nations Industrial Development Organiza...</td>\n",
              "    </tr>\n",
              "    <tr>\n",
              "      <th>4</th>\n",
              "      <td>Cambodia</td>\n",
              "      <td>Saint Kitts and Nevis</td>\n",
              "      <td>World Health Organization</td>\n",
              "    </tr>\n",
              "  </tbody>\n",
              "</table>\n",
              "</div>\n",
              "      <button class=\"colab-df-convert\" onclick=\"convertToInteractive('df-935581ef-c49d-47f0-887b-ab57b67730ee')\"\n",
              "              title=\"Convert this dataframe to an interactive table.\"\n",
              "              style=\"display:none;\">\n",
              "        \n",
              "  <svg xmlns=\"http://www.w3.org/2000/svg\" height=\"24px\"viewBox=\"0 0 24 24\"\n",
              "       width=\"24px\">\n",
              "    <path d=\"M0 0h24v24H0V0z\" fill=\"none\"/>\n",
              "    <path d=\"M18.56 5.44l.94 2.06.94-2.06 2.06-.94-2.06-.94-.94-2.06-.94 2.06-2.06.94zm-11 1L8.5 8.5l.94-2.06 2.06-.94-2.06-.94L8.5 2.5l-.94 2.06-2.06.94zm10 10l.94 2.06.94-2.06 2.06-.94-2.06-.94-.94-2.06-.94 2.06-2.06.94z\"/><path d=\"M17.41 7.96l-1.37-1.37c-.4-.4-.92-.59-1.43-.59-.52 0-1.04.2-1.43.59L10.3 9.45l-7.72 7.72c-.78.78-.78 2.05 0 2.83L4 21.41c.39.39.9.59 1.41.59.51 0 1.02-.2 1.41-.59l7.78-7.78 2.81-2.81c.8-.78.8-2.07 0-2.86zM5.41 20L4 18.59l7.72-7.72 1.47 1.35L5.41 20z\"/>\n",
              "  </svg>\n",
              "      </button>\n",
              "      \n",
              "  <style>\n",
              "    .colab-df-container {\n",
              "      display:flex;\n",
              "      flex-wrap:wrap;\n",
              "      gap: 12px;\n",
              "    }\n",
              "\n",
              "    .colab-df-convert {\n",
              "      background-color: #E8F0FE;\n",
              "      border: none;\n",
              "      border-radius: 50%;\n",
              "      cursor: pointer;\n",
              "      display: none;\n",
              "      fill: #1967D2;\n",
              "      height: 32px;\n",
              "      padding: 0 0 0 0;\n",
              "      width: 32px;\n",
              "    }\n",
              "\n",
              "    .colab-df-convert:hover {\n",
              "      background-color: #E2EBFA;\n",
              "      box-shadow: 0px 1px 2px rgba(60, 64, 67, 0.3), 0px 1px 3px 1px rgba(60, 64, 67, 0.15);\n",
              "      fill: #174EA6;\n",
              "    }\n",
              "\n",
              "    [theme=dark] .colab-df-convert {\n",
              "      background-color: #3B4455;\n",
              "      fill: #D2E3FC;\n",
              "    }\n",
              "\n",
              "    [theme=dark] .colab-df-convert:hover {\n",
              "      background-color: #434B5C;\n",
              "      box-shadow: 0px 1px 3px 1px rgba(0, 0, 0, 0.15);\n",
              "      filter: drop-shadow(0px 1px 2px rgba(0, 0, 0, 0.3));\n",
              "      fill: #FFFFFF;\n",
              "    }\n",
              "  </style>\n",
              "\n",
              "      <script>\n",
              "        const buttonEl =\n",
              "          document.querySelector('#df-935581ef-c49d-47f0-887b-ab57b67730ee button.colab-df-convert');\n",
              "        buttonEl.style.display =\n",
              "          google.colab.kernel.accessAllowed ? 'block' : 'none';\n",
              "\n",
              "        async function convertToInteractive(key) {\n",
              "          const element = document.querySelector('#df-935581ef-c49d-47f0-887b-ab57b67730ee');\n",
              "          const dataTable =\n",
              "            await google.colab.kernel.invokeFunction('convertToInteractive',\n",
              "                                                     [key], {});\n",
              "          if (!dataTable) return;\n",
              "\n",
              "          const docLinkHtml = 'Like what you see? Visit the ' +\n",
              "            '<a target=\"_blank\" href=https://colab.research.google.com/notebooks/data_table.ipynb>data table notebook</a>'\n",
              "            + ' to learn more about interactive tables.';\n",
              "          element.innerHTML = '';\n",
              "          dataTable['output_type'] = 'display_data';\n",
              "          await google.colab.output.renderOutput(dataTable, element);\n",
              "          const docLink = document.createElement('div');\n",
              "          docLink.innerHTML = docLinkHtml;\n",
              "          element.appendChild(docLink);\n",
              "        }\n",
              "      </script>\n",
              "    </div>\n",
              "  </div>\n",
              "  "
            ],
            "application/vnd.google.colaboratory.module+javascript": "\n      import \"https://ssl.gstatic.com/colaboratory/data_table/f872b2c2305463fd/data_table.js\";\n\n      window.createDataTable({\n        data: [[{\n            'v': 0,\n            'f': \"0\",\n        },\n\"Cambodia\",\n\"Saint Kitts and Nevis\",\n\"Food and Agriculture Organization\"],\n [{\n            'v': 1,\n            'f': \"1\",\n        },\n\"Cambodia\",\n\"Saint Kitts and Nevis\",\n\"International Criminal Police Organization\"],\n [{\n            'v': 2,\n            'f': \"2\",\n        },\n\"Cambodia\",\n\"Saint Kitts and Nevis\",\n\"United Nations Educational, Scientific, and Cultural Organization\"],\n [{\n            'v': 3,\n            'f': \"3\",\n        },\n\"Cambodia\",\n\"Saint Kitts and Nevis\",\n\"United Nations Industrial Development Organization\"],\n [{\n            'v': 4,\n            'f': \"4\",\n        },\n\"Cambodia\",\n\"Saint Kitts and Nevis\",\n\"World Health Organization\"]],\n        columns: [[\"number\", \"index\"], [\"string\", \"name\"], [\"string\", \"name\"], [\"string\", \"name\"]],\n        columnOptions: [{\"width\": \"1px\", \"className\": \"index_column\"}],\n        rowsPerPage: 25,\n        helpUrl: \"https://colab.research.google.com/notebooks/data_table.ipynb\",\n        suppressOutputScrolling: true,\n        minimumWidth: undefined,\n      });\n    "
          },
          "metadata": {}
        },
        {
          "output_type": "stream",
          "name": "stdout",
          "text": [
            "\n"
          ]
        }
      ]
    },
    {
      "cell_type": "markdown",
      "source": [
        "## Contact Info\n",
        "\n",
        "If you have any questions, please contact us.\n",
        "\n",
        "**Github repository**: https://github.com/pr3martins/PyLatheDB\n",
        "\n",
        "**E-mail**: paulo.martins@icomp.ufam.edu.br\n"
      ],
      "metadata": {
        "id": "iRk_DygLW2r2"
      }
    }
  ]
}